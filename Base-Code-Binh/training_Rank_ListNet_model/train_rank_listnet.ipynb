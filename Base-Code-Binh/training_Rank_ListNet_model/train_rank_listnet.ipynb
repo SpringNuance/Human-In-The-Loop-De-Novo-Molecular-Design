{
 "cells": [
  {
   "cell_type": "code",
   "execution_count": 31,
   "metadata": {},
   "outputs": [
    {
     "name": "stdout",
     "output_type": "stream",
     "text": [
      "The autoreload extension is already loaded. To reload it, use:\n",
      "  %reload_ext autoreload\n"
     ]
    }
   ],
   "source": [
    "%load_ext autoreload\n",
    "%autoreload 2"
   ]
  },
  {
   "cell_type": "code",
   "execution_count": 32,
   "metadata": {},
   "outputs": [],
   "source": [
    "import pandas as pd\n",
    "import numpy as np\n",
    "import torch\n",
    "from torch import nn, optim\n",
    "from rdkit import Chem\n",
    "from rdkit.Chem import AllChem\n",
    "from tdc import Oracle"
   ]
  },
  {
   "cell_type": "code",
   "execution_count": 33,
   "metadata": {},
   "outputs": [
    {
     "name": "stderr",
     "output_type": "stream",
     "text": [
      "Found local copy...\n"
     ]
    },
    {
     "name": "stdout",
     "output_type": "stream",
     "text": [
      "Training data len: 200\n",
      "Testing data len: 200\n"
     ]
    }
   ],
   "source": [
    "# Load data and Oracle\n",
    "oracle = Oracle(name='DRD2')\n",
    "training_data = pd.read_csv(\"../data/drd2_final_train_small.csv\")\n",
    "testing_data = pd.read_csv(\"../data/drd2_final_test_small.csv\")\n",
    "smiles_train = training_data['smiles'].tolist()\n",
    "smiles_test = testing_data['smiles'].tolist()\n",
    "label_proba_train = [oracle(smiles) for smiles in smiles_train]\n",
    "label_proba_test = [oracle(smiles) for smiles in smiles_test]\n",
    "print(f\"Training data len: {len(smiles_train)}\")\n",
    "print(f\"Testing data len: {len(smiles_test)}\")"
   ]
  },
  {
   "cell_type": "markdown",
   "metadata": {},
   "source": [
    "### Computing morgan fingerprints"
   ]
  },
  {
   "cell_type": "code",
   "execution_count": 34,
   "metadata": {},
   "outputs": [
    {
     "name": "stdout",
     "output_type": "stream",
     "text": [
      "features_train shape:  torch.Size([200, 2048])\n",
      "label_proba_train shape:  torch.Size([200])\n",
      "label_binary_train shape:  torch.Size([200])\n",
      "features_test shape:  torch.Size([200, 2048])\n",
      "label_proba_test shape:  torch.Size([200])\n",
      "label_binary_test shape:  torch.Size([200])\n"
     ]
    }
   ],
   "source": [
    "def compute_fingerprints(smiles):\n",
    "    mol = Chem.MolFromSmiles(smiles)\n",
    "    if mol is not None:\n",
    "        return AllChem.GetMorganFingerprintAsBitVect(mol, 2, nBits=2048)\n",
    "    else:\n",
    "        return np.zeros((2048,), dtype=int)\n",
    "\n",
    "features_train = torch.tensor([compute_fingerprints(smiles) for smiles in smiles_train])\n",
    "features_test = torch.tensor([compute_fingerprints(smiles) for smiles in smiles_test])\n",
    "label_proba_train = torch.tensor(label_proba_train)\n",
    "label_proba_test = torch.tensor(label_proba_test)\n",
    "label_binary_train = torch.tensor(training_data[\"label\"].to_numpy())\n",
    "label_binary_test = torch.tensor(testing_data[\"label\"].to_numpy())\n",
    "\n",
    "print(\"features_train shape: \", features_train.shape)\n",
    "print(\"label_proba_train shape: \", label_proba_train.shape)\n",
    "print(\"label_binary_train shape: \", label_binary_train.shape)\n",
    "\n",
    "print(\"features_test shape: \", features_test.shape)\n",
    "print(\"label_proba_test shape: \", label_proba_test.shape)\n",
    "print(\"label_binary_test shape: \", label_binary_test.shape)"
   ]
  },
  {
   "cell_type": "markdown",
   "metadata": {},
   "source": [
    "### Generate pairs and labels"
   ]
  },
  {
   "cell_type": "code",
   "execution_count": 35,
   "metadata": {},
   "outputs": [],
   "source": [
    "from itertools import combinations\n",
    "import numpy as np\n",
    "# Generate all unrepeated combinations of 3 out of len(new_queried_smiles)\n",
    "num_sets = 1000\n",
    "smiles_len, features_dim = 1000, 2048\n",
    "comb = combinations(range(smiles_len), 3)\n",
    "\n",
    "rng = np.random.default_rng()\n",
    "\n",
    "nCr = lambda n, r: np.math.factorial(n) / (np.math.factorial(r) * np.math.factorial(n - r))\n",
    "num_comb = int(nCr(smiles_len, 3))\n",
    "chosen_indices = rng.choice(num_comb, num_sets, replace=False)\n",
    "# print(num_comb)\n",
    "# print(chosen_indices)"
   ]
  },
  {
   "cell_type": "code",
   "execution_count": 36,
   "metadata": {},
   "outputs": [],
   "source": [
    "def generate_pairs_label(features, label_proba, label_binary, smiles_list, num_sets = 1000):\n",
    "    \n",
    "    from itertools import combinations\n",
    "\n",
    "    # Generate all unrepeated combinations of 3 out of len(new_queried_smiles)\n",
    "    \n",
    "    smiles_len, features_dim = features.shape\n",
    "\n",
    "    comb = combinations(range(smiles_len), 3)\n",
    "\n",
    "    rng = np.random.default_rng()\n",
    "\n",
    "    nCr = lambda n, r: np.math.factorial(n) / (np.math.factorial(r) * np.math.factorial(n - r))\n",
    "    num_comb = int(nCr(smiles_len, 3))\n",
    "    chosen_indices = rng.choice(num_comb, num_sets, replace=False)\n",
    "    chosen_indices.sort()  # Sort indices to optimize the iteration process\n",
    "\n",
    "    features_1 = np.zeros((num_sets, features_dim), dtype = np.float32)\n",
    "    features_2 = np.zeros((num_sets, features_dim), dtype = np.float32)\n",
    "    features_3 = np.zeros((num_sets, features_dim), dtype = np.float32)\n",
    "\n",
    "    label_1_proba = []\n",
    "    label_1_binary = []\n",
    "    label_1_softmax = []\n",
    "    label_1_rank = []\n",
    "    label_2_proba = []\n",
    "    label_2_binary = []\n",
    "    label_2_softmax = []\n",
    "    label_2_rank = []\n",
    "    label_3_proba = []\n",
    "    label_3_binary = []\n",
    "    label_3_softmax = []\n",
    "    label_3_rank = []\n",
    "    smiles_1 = []\n",
    "    smiles_2 = []\n",
    "    smiles_3 = []\n",
    "\n",
    "    current_index = 0  # Track the index of combinations\n",
    "    output_index = 0  # Track the index of output arrays\n",
    "\n",
    "    for i, (idx1, idx2, idx3) in enumerate(comb):\n",
    "        if current_index == chosen_indices[output_index]:\n",
    "            features_1[output_index, :] = features[idx1, :]\n",
    "            features_2[output_index, :] = features[idx2, :]\n",
    "            features_3[output_index, :] = features[idx3, :]\n",
    "\n",
    "            smiles_1.append(smiles_list[idx1])\n",
    "            smiles_2.append(smiles_list[idx2])\n",
    "            smiles_3.append(smiles_list[idx3])\n",
    "\n",
    "            label_1_proba.append(label_proba[idx1])\n",
    "            label_2_proba.append(label_proba[idx2])\n",
    "            label_3_proba.append(label_proba[idx3])\n",
    "\n",
    "            label_1_binary.append(label_binary[idx1])\n",
    "            label_2_binary.append(label_binary[idx2])\n",
    "            label_3_binary.append(label_binary[idx3])\n",
    "\n",
    "            # convert to float\n",
    "            proba_list = [label_proba[idx1], label_proba[idx2], label_proba[idx3]]\n",
    "            proba_softmax = nn.Softmax(dim=0)(torch.tensor(proba_list))\n",
    "\n",
    "            label_1_softmax.append(proba_softmax[0])\n",
    "            label_2_softmax.append(proba_softmax[1])\n",
    "            label_3_softmax.append(proba_softmax[2])\n",
    "\n",
    "            # Now we need to rank them\n",
    "            # Rank 1 has lowest value, Rank 3 has highest value\n",
    "            ranks = np.argsort(np.argsort(proba_softmax))\n",
    "            label_1_rank.append(ranks[0])\n",
    "            label_2_rank.append(ranks[1])\n",
    "            label_3_rank.append(ranks[2])\n",
    "            \n",
    "            output_index += 1\n",
    "            if output_index == num_sets:  # Stop if we've collected enough sets\n",
    "                break\n",
    "        current_index += 1\n",
    "\n",
    "    # Convert to numpy\n",
    "    label_1_proba = np.array(label_1_proba)\n",
    "    label_1_binary = np.array(label_1_binary)\n",
    "    label_1_softmax = np.array(label_1_softmax)\n",
    "    label_1_rank = np.array(label_1_rank)\n",
    "    label_2_proba = np.array(label_2_proba)\n",
    "    label_2_binary = np.array(label_2_binary)\n",
    "    label_2_softmax = np.array(label_2_softmax)\n",
    "    label_2_rank = np.array(label_2_rank)\n",
    "    label_3_proba = np.array(label_3_proba)\n",
    "    label_3_binary = np.array(label_3_binary)\n",
    "    label_3_softmax = np.array(label_3_softmax)\n",
    "    label_3_rank = np.array(label_3_rank)\n",
    "\n",
    "    return features_1, features_2, features_3,\\\n",
    "        label_1_proba, label_1_binary, label_1_softmax, label_1_rank,\\\n",
    "        label_2_proba, label_2_binary, label_2_softmax, label_2_rank,\\\n",
    "        label_3_proba, label_3_binary, label_3_softmax, label_3_rank,\\\n",
    "        smiles_1, smiles_2, smiles_3\n",
    "\n",
    "features_1_train, features_2_train, features_3_train,\\\n",
    "label_1_proba_train, label_1_binary_train, label_1_softmax_train, label_1_rank_train,\\\n",
    "label_2_proba_train, label_2_binary_train, label_2_softmax_train, label_2_rank_train,\\\n",
    "label_3_proba_train, label_3_binary_train, label_3_softmax_train, label_3_rank_train,\\\n",
    "smiles_1_train, smiles_2_train, smiles_3_train = generate_pairs_label(features_train, label_proba_train, label_binary_train, smiles_train, num_sets = len(smiles_train))\n",
    "\n",
    "features_1_test, features_2_test, features_3_test,\\\n",
    "label_1_proba_test, label_1_binary_test, label_1_softmax_test, label_1_rank_test,\\\n",
    "label_2_proba_test, label_2_binary_test, label_2_softmax_test, label_2_rank_test,\\\n",
    "label_3_proba_test, label_3_binary_test, label_3_softmax_test, label_3_rank_test,\\\n",
    "smiles_1_test, smiles_2_test, smiles_3_test = generate_pairs_label(features_test, label_proba_test, label_binary_test, smiles_test, num_sets = len(smiles_test))"
   ]
  },
  {
   "cell_type": "code",
   "execution_count": 37,
   "metadata": {},
   "outputs": [
    {
     "name": "stdout",
     "output_type": "stream",
     "text": [
      "(200, 2048) (200, 2048)\n",
      "(200, 2048) (200, 2048)\n",
      "(200, 2048) (200, 2048)\n",
      "(200,) (200,)\n",
      "(200,) (200,)\n",
      "(200,) (200,)\n",
      "(200,) (200,)\n",
      "(200,) (200,)\n",
      "(200,) (200,)\n",
      "(200,) (200,)\n",
      "(200,) (200,)\n",
      "(200,) (200,)\n",
      "(200,) (200,)\n",
      "(200,) (200,)\n",
      "(200,) (200,)\n"
     ]
    }
   ],
   "source": [
    "print(features_1_train.shape, features_1_test.shape)\n",
    "print(features_2_train.shape, features_2_test.shape)\n",
    "print(features_3_train.shape, features_3_test.shape)\n",
    "print(label_1_proba_train.shape, label_1_proba_test.shape)\n",
    "print(label_1_binary_train.shape, label_1_binary_test.shape)\n",
    "print(label_1_softmax_train.shape, label_1_softmax_test.shape)\n",
    "print(label_1_rank_train.shape, label_1_rank_test.shape)\n",
    "print(label_2_proba_train.shape, label_2_proba_test.shape)\n",
    "print(label_2_binary_train.shape, label_2_binary_test.shape)\n",
    "print(label_2_softmax_train.shape, label_2_softmax_test.shape)\n",
    "print(label_2_rank_train.shape, label_2_rank_test.shape)\n",
    "print(label_3_proba_train.shape, label_3_proba_test.shape)\n",
    "print(label_3_binary_train.shape, label_3_binary_test.shape)\n",
    "print(label_3_softmax_train.shape, label_3_softmax_test.shape)\n",
    "print(label_3_rank_train.shape, label_3_rank_test.shape)"
   ]
  },
  {
   "cell_type": "code",
   "execution_count": 38,
   "metadata": {},
   "outputs": [],
   "source": [
    "# Now we need to save them \n",
    "\n",
    "small_drd2_training_data = pd.DataFrame()\n",
    "small_drd2_training_data['smiles_1'] = smiles_1_train\n",
    "small_drd2_training_data['smiles_2'] = smiles_2_train\n",
    "small_drd2_training_data['smiles_3'] = smiles_3_train\n",
    "small_drd2_training_data['label_1_proba'] = label_1_proba_train\n",
    "small_drd2_training_data['label_2_proba'] = label_2_proba_train\n",
    "small_drd2_training_data['label_3_proba'] = label_3_proba_train\n",
    "small_drd2_training_data['label_1_binary'] = label_1_binary_train\n",
    "small_drd2_training_data['label_2_binary'] = label_2_binary_train\n",
    "small_drd2_training_data['label_3_binary'] = label_3_binary_train\n",
    "small_drd2_training_data['label_1_softmax'] = label_1_softmax_train\n",
    "small_drd2_training_data['label_2_softmax'] = label_2_softmax_train\n",
    "small_drd2_training_data['label_3_softmax'] = label_3_softmax_train\n",
    "small_drd2_training_data['label_1_rank'] = label_1_rank_train\n",
    "small_drd2_training_data['label_2_rank'] = label_2_rank_train\n",
    "small_drd2_training_data['label_3_rank'] = label_3_rank_train\n",
    "\n",
    "small_drd2_training_data.to_csv(\"small_drd2_training_data.csv\", index=False)\n",
    "\n",
    "small_drd2_testing_data = pd.DataFrame()\n",
    "small_drd2_testing_data['smiles_1'] = smiles_1_test\n",
    "small_drd2_testing_data['smiles_2'] = smiles_2_test\n",
    "small_drd2_testing_data['smiles_3'] = smiles_3_test\n",
    "small_drd2_testing_data['label_1_proba'] = label_1_proba_test\n",
    "small_drd2_testing_data['label_2_proba'] = label_2_proba_test\n",
    "small_drd2_testing_data['label_3_proba'] = label_3_proba_test\n",
    "small_drd2_testing_data['label_1_binary'] = label_1_binary_test\n",
    "small_drd2_testing_data['label_2_binary'] = label_2_binary_test\n",
    "small_drd2_testing_data['label_3_binary'] = label_3_binary_test\n",
    "small_drd2_testing_data['label_1_softmax'] = label_1_softmax_test\n",
    "small_drd2_testing_data['label_2_softmax'] = label_2_softmax_test\n",
    "small_drd2_testing_data['label_3_softmax'] = label_3_softmax_test\n",
    "small_drd2_testing_data['label_1_rank'] = label_1_rank_test\n",
    "small_drd2_testing_data['label_2_rank'] = label_2_rank_test\n",
    "small_drd2_testing_data['label_3_rank'] = label_3_rank_test\n",
    "\n",
    "small_drd2_testing_data.to_csv(\"small_drd2_testing_data.csv\", index=False)"
   ]
  },
  {
   "cell_type": "markdown",
   "metadata": {},
   "source": [
    "### Use proba softmax to train. Probably a correct approach"
   ]
  },
  {
   "cell_type": "code",
   "execution_count": 39,
   "metadata": {},
   "outputs": [
    {
     "name": "stdout",
     "output_type": "stream",
     "text": [
      "Epoch 5, Loss: 0.05683773336932063\n",
      "Model trained and saved\n"
     ]
    }
   ],
   "source": [
    "from rank_listnet import RankListNetModel\n",
    "    \n",
    "# Training the model\n",
    "model = RankListNetModel(feature_dim=2048)\n",
    "\n",
    "# When using Binary Cross-Entropy Loss (BCELoss) in neural networks, the input expected by the \n",
    "# loss function is a list of probabilities, not binary values (0 or 1)\n",
    "\n",
    "# Define the loss function\n",
    "criterion = nn.KLDivLoss(reduction='batchmean')\n",
    "\n",
    "# Correct Usage of JSDLoss\n",
    "# Model Outputs: Should be log-probabilities.\n",
    "# True label: Should be probabilities.\n",
    "\n",
    "optimizer = optim.Adam(model.parameters(), lr=0.000001)\n",
    "\n",
    "# Create torch data loader\n",
    "\n",
    "from torch.utils.data import TensorDataset, DataLoader\n",
    "\n",
    "# Assuming X_train and y_train are numpy arrays, convert them to PyTorch tensors\n",
    "features_1_train_tensor = torch.tensor(features_1_train).float()  \n",
    "features_2_train_tensor = torch.tensor(features_2_train).float()\n",
    "features_3_train_tensor = torch.tensor(features_3_train).float()\n",
    "label_1_softmax_train_tensor = torch.tensor(label_1_softmax_train).float()\n",
    "label_2_softmax_train_tensor = torch.tensor(label_2_softmax_train).float()\n",
    "label_3_softmax_train_tensor = torch.tensor(label_3_softmax_train).float()\n",
    "\n",
    "features_1_test_tensor = torch.tensor(features_1_test).float()\n",
    "features_2_test_tensor = torch.tensor(features_2_test).float()\n",
    "features_3_test_tensor = torch.tensor(features_3_test).float()\n",
    "label_1_softmax_test_tensor = torch.tensor(label_1_softmax_test).float()\n",
    "label_2_softmax_test_tensor = torch.tensor(label_2_softmax_test).float()\n",
    "label_3_softmax_test_tensor = torch.tensor(label_3_softmax_test).float()\n",
    "\n",
    "# Create a TensorDataset\n",
    "train_dataset = TensorDataset(features_1_train_tensor, features_2_train_tensor, \n",
    "                              features_3_train_tensor, label_1_softmax_train_tensor,\n",
    "                                label_2_softmax_train_tensor, label_3_softmax_train_tensor)\n",
    "              \n",
    "test_dataset = TensorDataset(features_1_test_tensor, features_2_test_tensor,\n",
    "                                features_3_test_tensor, label_1_softmax_test_tensor,\n",
    "                                label_2_softmax_test_tensor, label_3_softmax_test_tensor)\n",
    "\n",
    "# Create a DataLoader\n",
    "batch_size = 32  # You can adjust the batch size as needed\n",
    "train_loader = DataLoader(dataset=train_dataset, batch_size=batch_size, shuffle=False)\n",
    "test_loader = DataLoader(dataset=test_dataset, batch_size=batch_size, shuffle=False)\n",
    "\n",
    "def train(model, train_loader, epochs=5):\n",
    "    model.train()\n",
    "    for epoch in range(epochs):\n",
    "        total_loss = 0\n",
    "        for features_1, features_2, features_3, label_1_softmax, label_2_softmax, label_3_softmax in train_loader:\n",
    "            optimizer.zero_grad()\n",
    "            ranking_scores = model(features_1, features_2, features_3) # softmax scores\n",
    "            true_label = torch.stack([label_1_softmax, label_2_softmax, label_3_softmax], dim=1)\n",
    "            \n",
    "            # Taking log \n",
    "            ranking_scores = torch.log(ranking_scores + 1e-12)\n",
    "\n",
    "            loss = criterion(ranking_scores, true_label)\n",
    "            loss.backward()\n",
    "            optimizer.step()\n",
    "            total_loss += loss.item()\n",
    "        \n",
    "        if (epoch + 1) % 5 == 0:\n",
    "            print(f'Epoch {epoch+1}, Loss: {total_loss / len(features_1)}')\n",
    "\n",
    "train(model, train_loader)\n",
    "\n",
    "# save state dict\n",
    "torch.save(model.state_dict(), \"rank_listnet_model.pth\")\n",
    "\n",
    "print(\"Model trained and saved\")"
   ]
  },
  {
   "cell_type": "markdown",
   "metadata": {},
   "source": [
    "### Perform prediction on the testing dataset"
   ]
  },
  {
   "cell_type": "code",
   "execution_count": 40,
   "metadata": {},
   "outputs": [],
   "source": [
    "from sklearn.metrics import accuracy_score, precision_score, recall_score, f1_score, matthews_corrcoef\n",
    "\n",
    "def compute_metrics(label, predictions):\n",
    "    \"\"\"\n",
    "    Compute classification metrics: accuracy, precision, recall, F1 score, and MCC.\n",
    "    \n",
    "    Args:\n",
    "    label (list[int]): True binary label.\n",
    "    predictions (list[int]): Predicted binary label.\n",
    "\n",
    "    Returns:\n",
    "    dict: A dictionary containing the computed metrics.\n",
    "    \"\"\"\n",
    "    accuracy = accuracy_score(label, predictions)\n",
    "    precision = precision_score(label, predictions)\n",
    "    recall = recall_score(label, predictions)\n",
    "    f1 = f1_score(label, predictions)\n",
    "    mcc = matthews_corrcoef(label, predictions)\n",
    "\n",
    "    return {\n",
    "        'accuracy': accuracy,\n",
    "        'precision': precision,\n",
    "        'recall': recall,\n",
    "        'F1': f1,\n",
    "        'MCC': mcc\n",
    "    }"
   ]
  },
  {
   "cell_type": "markdown",
   "metadata": {},
   "source": [
    "### Prediction using the feedback"
   ]
  },
  {
   "cell_type": "code",
   "execution_count": 41,
   "metadata": {},
   "outputs": [
    {
     "name": "stdout",
     "output_type": "stream",
     "text": [
      "Expected number of batches\n",
      "27\n",
      "B1 processed | B2 processed | B3 processed | B4 processed | B5 processed | B6 processed | B7 processed | B8 processed | B9 processed | B10 processed | B11 processed | B12 processed | B13 processed | B14 processed | B15 processed | B16 processed | B17 processed | B18 processed | B19 processed | B20 processed | B21 processed | B22 processed | B23 processed | B24 processed | B25 processed | B26 processed | B27 processed | \n",
      "Accuracy: 0.5\n",
      "Precision: 0.5\n",
      "Recall: 0.49\n",
      "F1: 0.494949494949495\n",
      "MCC: 0.0\n"
     ]
    }
   ],
   "source": [
    "# Initialize the model\n",
    "model = RankListNetModel(feature_dim=2048)\n",
    "\n",
    "# Load the state dict\n",
    "model.load_state_dict(torch.load(\"rank_listnet_model.pth\"))\n",
    "\n",
    "from scripts.predict import predict_feedback_from_model\n",
    "\n",
    "batch_pred = 50000\n",
    "print(\"Expected number of batches\")\n",
    "print(int(np.ceil(nCr(len(smiles_test), 3) / batch_pred)))\n",
    "\n",
    "pred_label_feedback_test = predict_feedback_from_model(feedback_type = \"ranking\", \n",
    "                                                 feedback_model = model, \n",
    "                                                 smiles=smiles_test, batch_pred=batch_pred)\n",
    "\n",
    "\n",
    "pred_label_binary_test = (torch.tensor(pred_label_feedback_test) > 0.5).int().tolist()\n",
    "\n",
    "metrics = compute_metrics(label_binary_test, pred_label_binary_test)\n",
    "\n",
    "assert all([0 <= x <= 1 for x in pred_label_feedback_test]), \"Feedback score should be between 0 and 1\"\n",
    "\n",
    "print(\"\\nAccuracy:\", metrics['accuracy'])\n",
    "print(\"Precision:\", metrics['precision'])\n",
    "print(\"Recall:\", metrics['recall'])\n",
    "print(\"F1:\", metrics['F1'])\n",
    "print(\"MCC:\", metrics['MCC'])"
   ]
  },
  {
   "cell_type": "markdown",
   "metadata": {},
   "source": [
    "### Plot the roc curve using the feedback"
   ]
  },
  {
   "cell_type": "code",
   "execution_count": 42,
   "metadata": {},
   "outputs": [
    {
     "data": {
      "text/plain": [
       "<matplotlib.legend.Legend at 0x7ff09f72a5d0>"
      ]
     },
     "execution_count": 42,
     "metadata": {},
     "output_type": "execute_result"
    },
    {
     "data": {
      "image/png": "[encoded data removed]",
      "text/plain": [
       "<Figure size 432x432 with 1 Axes>"
      ]
     },
     "metadata": {
      "needs_background": "light"
     },
     "output_type": "display_data"
    }
   ],
   "source": [
    "from sklearn.metrics import roc_curve, auc\n",
    "import matplotlib.pyplot as plt\n",
    "\n",
    "fpr, tpr, _ = roc_curve(label_binary_test, pred_label_feedback_test, pos_label=1)\n",
    "\n",
    "roc_auc = auc(fpr, tpr)\n",
    "\n",
    "plt.figure(figsize=(6,6))\n",
    "\n",
    "# draw a diagonal line\n",
    "plt.plot([0, 1], [0, 1], 'k--', label=\"Random predictor\")\n",
    "\n",
    "plt.plot(fpr, tpr, color='darkorange', lw=2, label='ROC curve (AUC = %0.6f)' % roc_auc)\n",
    "plt.xlabel('False Positive Rate')\n",
    "plt.ylabel('True Positive Rate')\n",
    "plt.title('Rank ListNet ROC curve')\n",
    "\n",
    "plt.legend(loc=\"lower right\", frameon=False)"
   ]
  },
  {
   "cell_type": "markdown",
   "metadata": {},
   "source": [
    "### Prediction using the label probability"
   ]
  },
  {
   "cell_type": "code",
   "execution_count": 43,
   "metadata": {},
   "outputs": [
    {
     "name": "stdout",
     "output_type": "stream",
     "text": [
      "\n",
      "Accuracy: 0.5\n",
      "Precision: 0.5\n",
      "Recall: 1.0\n",
      "F1: 0.6666666666666666\n",
      "MCC: 0.0\n"
     ]
    }
   ],
   "source": [
    "# Initialize the model\n",
    "model = RankListNetModel(feature_dim=2048)\n",
    "\n",
    "# Load the state dict\n",
    "model.load_state_dict(torch.load(\"rank_listnet_model.pth\"))\n",
    "\n",
    "from scripts.predict import predict_proba_from_model\n",
    "\n",
    "pred_label_proba_test = predict_proba_from_model(feedback_type = \"comparing\", \n",
    "                                                 feedback_model = model, \n",
    "                                                 smiles=smiles_test)\n",
    "\n",
    "\n",
    "pred_label_binary_test = (torch.tensor(pred_label_proba_test) > 0.5).int().tolist()\n",
    "\n",
    "metrics = compute_metrics(label_binary_test, pred_label_binary_test)\n",
    "\n",
    "assert all([0 <= x <= 1 for x in pred_label_proba_test]), \"Probability should be between 0 and 1\"\n",
    "\n",
    "print(\"\\nAccuracy:\", metrics['accuracy'])\n",
    "print(\"Precision:\", metrics['precision'])\n",
    "print(\"Recall:\", metrics['recall'])\n",
    "print(\"F1:\", metrics['F1'])\n",
    "print(\"MCC:\", metrics['MCC'])"
   ]
  },
  {
   "cell_type": "markdown",
   "metadata": {},
   "source": [
    "### Plot the roc curve using the label probability"
   ]
  },
  {
   "cell_type": "code",
   "execution_count": 44,
   "metadata": {},
   "outputs": [
    {
     "data": {
      "text/plain": [
       "<matplotlib.legend.Legend at 0x7ff09f6d2090>"
      ]
     },
     "execution_count": 44,
     "metadata": {},
     "output_type": "execute_result"
    },
    {
     "data": {
      "image/png": "[encoded data removed]",
      "text/plain": [
       "<Figure size 432x432 with 1 Axes>"
      ]
     },
     "metadata": {
      "needs_background": "light"
     },
     "output_type": "display_data"
    }
   ],
   "source": [
    "from sklearn.metrics import roc_curve, auc\n",
    "import matplotlib.pyplot as plt\n",
    "\n",
    "fpr, tpr, _ = roc_curve(label_binary_test, pred_label_proba_test, pos_label=1)\n",
    "\n",
    "roc_auc = auc(fpr, tpr)\n",
    "\n",
    "plt.figure(figsize=(6,6))\n",
    "\n",
    "# draw a diagonal line\n",
    "plt.plot([0, 1], [0, 1], 'k--', label=\"Random predictor\")\n",
    "\n",
    "plt.plot(fpr, tpr, color='darkorange', lw=2, label='ROC curve (AUC = %0.6f)' % roc_auc)\n",
    "plt.xlabel('False Positive Rate')\n",
    "plt.ylabel('True Positive Rate')\n",
    "plt.title('Rank ListNet ROC curve (label proba)')\n",
    "\n",
    "plt.legend(loc=\"lower right\", frameon=False)"
   ]
  },
  {
   "cell_type": "markdown",
   "metadata": {},
   "source": [
    "#### The model performs weakly, which means that we can now use this model as a human component for HITL. Ideally, the initial model should be no better than random guess. Additionally, the AUC of both feedback and label probability are nearly similar, which means that the feedback is valid for REINVENT"
   ]
  }
 ],
 "metadata": {
  "kernelspec": {
   "display_name": "base",
   "language": "python",
   "name": "python3"
  },
  "language_info": {
   "codemirror_mode": {
    "name": "ipython",
    "version": 3
   },
   "file_extension": ".py",
   "mimetype": "text/x-python",
   "name": "python",
   "nbconvert_exporter": "python",
   "pygments_lexer": "ipython3",
   "version": "3.7.6"
  }
 },
 "nbformat": 4,
 "nbformat_minor": 2
}

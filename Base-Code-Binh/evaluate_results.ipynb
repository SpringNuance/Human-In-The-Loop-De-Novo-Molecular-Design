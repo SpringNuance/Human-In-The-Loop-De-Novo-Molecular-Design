{
 "cells": [
  {
   "cell_type": "code",
   "execution_count": 6,
   "metadata": {},
   "outputs": [],
   "source": [
    "%load_ext autoreload\n",
    "%autoreload 2"
   ]
  },
  {
   "cell_type": "code",
   "execution_count": 7,
   "metadata": {},
   "outputs": [],
   "source": [
    "# load dependencies\n",
    "import sys\n",
    "import pickle\n",
    "import os\n",
    "import shutil\n",
    "import json\n",
    "import pandas as pd\n",
    "import numpy as np\n",
    "import rdkit.Chem as Chem\n",
    "from numpy.random import default_rng\n",
    "import torch\n",
    "from ast import literal_eval\n",
    "from torch import nn, optim\n",
    "from rdkit import Chem\n",
    "from rdkit.Chem import AllChem\n",
    "from tdc import Oracle\n",
    "import subprocess"
   ]
  },
  {
   "cell_type": "code",
   "execution_count": 8,
   "metadata": {},
   "outputs": [
    {
     "name": "stdout",
     "output_type": "stream",
     "text": [
      "/home/springnuance/reinvent-hitl/Base-Code-Binh\n"
     ]
    }
   ],
   "source": [
    "print(os.getcwd())"
   ]
  },
  {
   "cell_type": "markdown",
   "metadata": {},
   "source": [
    "### Benchmark 1: Model performance on predicting DRD2 activity using ROC-AUC score"
   ]
  },
  {
   "cell_type": "code",
   "execution_count": 9,
   "metadata": {},
   "outputs": [],
   "source": [
    "from training_Bradley_Terry_model.bradley_terry import BradleyTerryModel\n",
    "from training_Rank_ListNet_model.rank_listnet import RankListNetModel\n",
    "from training_Score_Regression_model.score_regression import ScoreRegressionModel\n",
    "from scripts.helper import load_drd2_dataset, write_REINVENT_config, change_config_json, \\\n",
    "                    read_scaffold_result, load_feedback_model, smiles_human_score, \\\n",
    "                    compute_fingerprints, retrain_feedback_model,\\\n",
    "                    create_drd2_dataset, combine_drd2_dataset, save_drd2_dataset\n",
    "                        \n",
    "from sklearn.metrics import roc_curve, auc, precision_recall_fscore_support, matthews_corrcoef\n",
    "\n",
    "def predict_proba_from_model_fps(feedback_type, feedback_model, features):\n",
    "\n",
    "    # This is not computationally extensive yet\n",
    "    # choose float 32\n",
    "    \n",
    "    features = torch.tensor(features, dtype=torch.float32)\n",
    "    pred_label_proba = feedback_model.predict_proba(features).cpu().detach().numpy()\n",
    "    return pred_label_proba\n",
    "\n",
    "\n",
    "def check_create(path):\n",
    "    \"\"\"\n",
    "    Check if the directory exists, if not, create it.\n",
    "    \"\"\"\n",
    "    if not os.path.exists(path):\n",
    "        os.makedirs(path)\n",
    "    \n",
    "def evaluate_results(\n",
    "        output_dir,\n",
    "        feedback_type, # scoring, comparing, ranking\n",
    "        initial_feedback_model_path, # path to the initial feedback model\n",
    "        final_testing_dataset_path, # path to the final training dataset\n",
    "        model_pretrained_name, # Name of the pretrained model before REINVENT_round_1\n",
    "        num_rounds, # number of rounds, corresponding to R in the paper\n",
    "        num_iters, # number of iterations of showing molecules to the human for feedback at each round, corresponding to T in the paper\n",
    "):\n",
    "    \"\"\"\n",
    "    This function returns five dictionaries of benchmark results\n",
    "    \n",
    "    benchmark_1: ML model metrics (metrics dict)\n",
    "        - initial\n",
    "          - accuracy\n",
    "          - precision\n",
    "          ...\n",
    "        - REINVENT_round_1_HITL_iteration_1\n",
    "        - REINVENT_round_1_HITL_iteration_2\n",
    "        - ...\n",
    "    \n",
    "    benchmark_2: DRD2 probability distribution of REINVENT generated molecules \n",
    "\n",
    "\n",
    "    benchmark_3: Novelty of REINVENT generated molecules\n",
    "    \n",
    "    benchmark_4: Synthetic accessibility of REINVENT generated molecules\n",
    "    \n",
    "    benchmark_5: logP of REINVENT generated molecules\n",
    "\n",
    "\n",
    "    \"\"\"\n",
    "    \n",
    "    final_testing_dataset = pd.read_csv(final_testing_dataset_path)\n",
    "\n",
    "    print(\"Loading final testing dataset successfully\")\n",
    "        \n",
    "    smiles_test = final_testing_dataset['smiles'].to_numpy()\n",
    "    label_test = final_testing_dataset['label'].to_numpy()\n",
    "    \n",
    "    analytics = {}\n",
    "    \n",
    "    # for score regression, dataset_outputs have columns: smiles, features, label_proba, label_binary\n",
    "    # for bradley-terry, dataset_outputs have columns: smiles_1, smiles_2, features_1, features_2, \n",
    "                                                      # label_1_proba, label_2_proba, label_1_binary, label_2_binary\n",
    "                                                      # compare_proba, compare_binary\n",
    "    # for rank listnet, dataset_outputs have columns: smiles_1/2/3, features_1/2/3, label_1/2/3_proba, label_1/2/3_binary\n",
    "                                                     # label_1/2/3_softmax, label_1/2/3_rank\n",
    "    \n",
    "    ###########################\n",
    "    # INITIAL MODEL BENCHMARK #\n",
    "    ###########################\n",
    "    \n",
    "    features = np.array([compute_fingerprints(smiles) for smiles in smiles_test], dtype=np.float32)\n",
    "\n",
    "    metrics = {\n",
    "        'thresholds': [],\n",
    "        'TP': [], 'TN': [], 'FP': [], 'FN': [],\n",
    "        'accuracy': [], 'precision': [], 'recall': [], 'F1': [], 'MCC': [],\n",
    "    }\n",
    "    \n",
    "    initial_feedback_model = load_feedback_model(feedback_type=feedback_type, feedback_model_path=initial_feedback_model_path)\n",
    "    predicted_scores = predict_proba_from_model_fps(feedback_type, initial_feedback_model, features)\n",
    "\n",
    "    # Compute metrics over a range of thresholds\n",
    "    thresholds = np.linspace(0, 1, 101)\n",
    "    for threshold in thresholds:\n",
    "        predicted_labels = (predicted_scores > threshold).astype(int)\n",
    "        TP = np.sum((predicted_labels == 1) & (label_test == 1))\n",
    "        TN = np.sum((predicted_labels == 0) & (label_test == 0))\n",
    "        FP = np.sum((predicted_labels == 1) & (label_test == 0))\n",
    "        FN = np.sum((predicted_labels == 0) & (label_test == 1))\n",
    "\n",
    "        accuracy = (TP + TN) / len(label_test)\n",
    "        precision, recall, f1, _ = precision_recall_fscore_support(label_test, predicted_labels, average='binary')\n",
    "        mcc = matthews_corrcoef(label_test, predicted_labels)\n",
    "\n",
    "        metrics['thresholds'].append(threshold)\n",
    "        metrics['TP'].append(TP)\n",
    "        metrics['TN'].append(TN)\n",
    "        metrics['FP'].append(FP)\n",
    "        metrics['FN'].append(FN)\n",
    "        metrics['accuracy'].append(accuracy)\n",
    "        metrics['precision'].append(precision)\n",
    "        metrics['recall'].append(recall)\n",
    "        metrics['F1'].append(f1)\n",
    "        metrics['MCC'].append(mcc)\n",
    "    \n",
    "    fpr, tpr, _ = roc_curve(label_test, predicted_scores, pos_label=1)\n",
    "    roc_auc = auc(fpr, tpr)\n",
    "\n",
    "    metrics['fpr'] = fpr\n",
    "    metrics['tpr'] = tpr\n",
    "    metrics['roc_auc'] = roc_auc\n",
    "    analytics[\"initial_model\"] = metrics\n",
    "    \n",
    "    ########################\n",
    "    # HITL MODEL BENCHMARK #\n",
    "    ########################\n",
    "\n",
    "    for REINVENT_round in range(1, num_rounds+1):\n",
    "        reinvent_round_name = f\"REINVENT_round_{REINVENT_round}\"\n",
    "        analytics[reinvent_round_name] = {}\n",
    "        for HITL_iteration in range(1, num_iters+1):\n",
    "            hitl_iteration_name = f\"HITL_iteration_{HITL_iteration}\"    \n",
    "\n",
    "            metrics = {\n",
    "                'thresholds': [],\n",
    "                'TP': [], 'TN': [], 'FP': [], 'FN': [],\n",
    "                'accuracy': [], 'precision': [], 'recall': [], 'F1': [], 'MCC': [],\n",
    "            }\n",
    "\n",
    "            feedback_model_path = f\"{output_dir}/REINVENT_round_{REINVENT_round}/HITL_iteration_{HITL_iteration}/{model_pretrained_name}\"\n",
    "\n",
    "            if not os.path.exists(feedback_model_path):\n",
    "                print(f\"Feedback model {feedback_model_path} does not exist.\")\n",
    "            else:\n",
    "                feedback_model = load_feedback_model(feedback_type=feedback_type, feedback_model_path=feedback_model_path)\n",
    "                predicted_scores = predict_proba_from_model(feedback_type, feedback_model, smiles_test)\n",
    "                \n",
    "                # Compute metrics over a range of thresholds\n",
    "                thresholds = np.linspace(0, 1, 101)\n",
    "                for threshold in thresholds:\n",
    "                    predicted_labels = (predicted_scores > threshold).astype(int)\n",
    "                    TP = np.sum((predicted_labels == 1) & (label_test == 1))\n",
    "                    TN = np.sum((predicted_labels == 0) & (label_test == 0))\n",
    "                    FP = np.sum((predicted_labels == 1) & (label_test == 0))\n",
    "                    FN = np.sum((predicted_labels == 0) & (label_test == 1))\n",
    "                    \n",
    "                    accuracy = (TP + TN) / len(label_test)\n",
    "                    precision, recall, f1, _ = precision_recall_fscore_support(label_test, predicted_labels, average='binary')\n",
    "                    mcc = matthews_corrcoef(label_test, predicted_labels)\n",
    "                    \n",
    "                    metrics['thresholds'].append(threshold)\n",
    "                    metrics['TP'].append(TP)\n",
    "                    metrics['TN'].append(TN)\n",
    "                    metrics['FP'].append(FP)\n",
    "                    metrics['FN'].append(FN)\n",
    "                    metrics['accuracy'].append(accuracy)\n",
    "                    metrics['precision'].append(precision)\n",
    "                    metrics['recall'].append(recall)\n",
    "                    metrics['F1'].append(f1)\n",
    "                    metrics['MCC'].append(mcc)\n",
    "        \n",
    "                # Compute ROC curve and AUC\n",
    "                fpr, tpr, _ = roc_curve(label_test, predicted_scores, pos_label=1)\n",
    "                roc_auc = auc(fpr, tpr)\n",
    "\n",
    "                metrics['fpr'] = fpr\n",
    "                metrics['tpr'] = tpr\n",
    "                metrics['roc_auc'] = roc_auc\n",
    "\n",
    "                analytics[reinvent_round_name][hitl_iteration_name] = metrics\n",
    "                    #print(\"accuracy: \", accuracy, \"precision: \", precision, \"recall: \", recall, \"F1: \", f1, \"MCC: \", mcc)\n",
    "    return analytics"
   ]
  },
  {
   "cell_type": "markdown",
   "metadata": {},
   "source": [
    "### Running score regression model"
   ]
  },
  {
   "cell_type": "code",
   "execution_count": 10,
   "metadata": {},
   "outputs": [
    {
     "name": "stdout",
     "output_type": "stream",
     "text": [
      "Loading final testing dataset successfully\n",
      "Loading Score Regression model from /home/springnuance/reinvent-hitl/Base-Code-Binh/training_Score_Regression_model/score_regression_model.pth\n",
      "Loading Score Regression model from output_score_regression/R3_T5_Q20_acq_uncertainty_noise_0.0/REINVENT_round_1/HITL_iteration_1/score_regression_model.pth\n",
      "Loading Score Regression model from output_score_regression/R3_T5_Q20_acq_uncertainty_noise_0.0/REINVENT_round_1/HITL_iteration_2/score_regression_model.pth\n",
      "Loading Score Regression model from output_score_regression/R3_T5_Q20_acq_uncertainty_noise_0.0/REINVENT_round_1/HITL_iteration_3/score_regression_model.pth\n",
      "Loading Score Regression model from output_score_regression/R3_T5_Q20_acq_uncertainty_noise_0.0/REINVENT_round_1/HITL_iteration_4/score_regression_model.pth\n",
      "Loading Score Regression model from output_score_regression/R3_T5_Q20_acq_uncertainty_noise_0.0/REINVENT_round_1/HITL_iteration_5/score_regression_model.pth\n",
      "Loading Score Regression model from output_score_regression/R3_T5_Q20_acq_uncertainty_noise_0.0/REINVENT_round_2/HITL_iteration_1/score_regression_model.pth\n",
      "Loading Score Regression model from output_score_regression/R3_T5_Q20_acq_uncertainty_noise_0.0/REINVENT_round_2/HITL_iteration_2/score_regression_model.pth\n",
      "Loading Score Regression model from output_score_regression/R3_T5_Q20_acq_uncertainty_noise_0.0/REINVENT_round_2/HITL_iteration_3/score_regression_model.pth\n",
      "Loading Score Regression model from output_score_regression/R3_T5_Q20_acq_uncertainty_noise_0.0/REINVENT_round_2/HITL_iteration_4/score_regression_model.pth\n",
      "Loading Score Regression model from output_score_regression/R3_T5_Q20_acq_uncertainty_noise_0.0/REINVENT_round_2/HITL_iteration_5/score_regression_model.pth\n",
      "Loading Score Regression model from output_score_regression/R3_T5_Q20_acq_uncertainty_noise_0.0/REINVENT_round_3/HITL_iteration_1/score_regression_model.pth\n",
      "Loading Score Regression model from output_score_regression/R3_T5_Q20_acq_uncertainty_noise_0.0/REINVENT_round_3/HITL_iteration_2/score_regression_model.pth\n",
      "Loading Score Regression model from output_score_regression/R3_T5_Q20_acq_uncertainty_noise_0.0/REINVENT_round_3/HITL_iteration_3/score_regression_model.pth\n",
      "Loading Score Regression model from output_score_regression/R3_T5_Q20_acq_uncertainty_noise_0.0/REINVENT_round_3/HITL_iteration_4/score_regression_model.pth\n",
      "Loading Score Regression model from output_score_regression/R3_T5_Q20_acq_uncertainty_noise_0.0/REINVENT_round_3/HITL_iteration_5/score_regression_model.pth\n"
     ]
    }
   ],
   "source": [
    "feedback_type = \"scoring\" \n",
    "\n",
    "# feedback type as scoring:\n",
    "# Given a molecule, what is the probability that the molecule is active regarding DRD2?  \n",
    "\n",
    "num_rounds = 3 # number of rounds, corresponding to R in the paper\n",
    "num_iters = 5 # number of iterations of showing molecules to the human for feedback at each round\n",
    "num_queries = 20 # number of molecules, pairs or a set of molecules, dependig on the task, \n",
    "                 # shown to the simulated chemist at each HITL_iteration\n",
    "\n",
    "# acquisition = \"random\"\n",
    "# sigma_noise = 0.0\n",
    "\n",
    "acquisition = \"uncertainty\"\n",
    "sigma_noise = 0.0\n",
    "\n",
    "# acquisition = \"greedy\"\n",
    "# sigma_noise = 0.0\n",
    "\n",
    "# acquisition = \"random\"\n",
    "# sigma_noise = 0.1\n",
    "\n",
    "# acquisition = \"uncertainty\"\n",
    "# sigma_noise = 0.1\n",
    "\n",
    "# acquisition = \"greedy\"\n",
    "# sigma_noise = 0.1\n",
    "\n",
    "initial_feedback_model_path = f\"/home/springnuance/reinvent-hitl/Base-Code-Binh/training_Score_Regression_model/score_regression_model.pth\"\n",
    "output_dir = f\"output_score_regression/R{num_rounds}_T{num_iters}_Q{num_queries}_acq_{acquisition}_noise_{sigma_noise}\"\n",
    "\n",
    "# final_training_dataset_path = f\"/home/springnuance/reinvent-hitl/Base-Code-Binh/{output_dir}/REINVENT_round_{num_rounds}/HITL_iteration_{num_iters}/iteration_combined_data.csv\"\n",
    "# base_testing_dataset_path = \"/home/springnuance/reinvent-hitl/Base-Code-Binh/training_Score_Regression_model/small_drd2_testing_data.csv\"\n",
    "\n",
    "final_testing_dataset_path = \"/home/springnuance/reinvent-hitl/Base-Code-Binh/data/drd2_final_test_large.csv\"\n",
    "\n",
    "model_pretrained_name = \"score_regression_model.pth\"\n",
    "\n",
    "analytics = evaluate_results(\n",
    "        output_dir,\n",
    "        feedback_type, # scoring, comparing, ranking\n",
    "        initial_feedback_model_path,\n",
    "        final_testing_dataset_path, # path to the final training dataset\n",
    "        model_pretrained_name, # Name of the pretrained model before REINVENT_round_1\n",
    "        num_rounds, # number of rounds, corresponding to R in the paper\n",
    "        num_iters, # number of iterations of showing molecules to the human for feedback at each round, corresponding to T in the paper\n",
    "        num_queries, # number of molecules shown to the simulated chemist at each HITL_iteration\n",
    "        acquisition, # acquisition: 'uncertainty', 'random', 'thompson', 'greedy' (if None run with no human interaction)\n",
    "        sigma_noise, # noise level for simulated chemist's responses\n",
    ")\n"
   ]
  },
  {
   "cell_type": "code",
   "execution_count": 12,
   "metadata": {},
   "outputs": [
    {
     "data": {
      "text/plain": [
       "<matplotlib.legend.Legend at 0x7fb3f3649e90>"
      ]
     },
     "execution_count": 12,
     "metadata": {},
     "output_type": "execute_result"
    },
    {
     "data": {
      "image/png": "[encoded data removed]",
      "text/plain": [
       "<Figure size 432x432 with 1 Axes>"
      ]
     },
     "metadata": {
      "needs_background": "light"
     },
     "output_type": "display_data"
    }
   ],
   "source": [
    "# print roc curves\n",
    "\n",
    "# Data stored in metrics, fpr, tpr, roc_auc\n",
    "\n",
    "import matplotlib.pyplot as plt\n",
    "\n",
    "plt.figure(figsize=(6, 6))\n",
    "\n",
    "# draw a diagonal line\n",
    "plt.plot([0, 1], [0, 1], 'k--')\n",
    "\n",
    "plt.xlabel('False Positive Rate')\n",
    "plt.ylabel('True Positive Rate')\n",
    "plt.title('ROC Curve')\n",
    "\n",
    "chosen_models = [\n",
    "                    ('REINVENT_round_3', 'HITL_iteration_5'),\n",
    "                    ('REINVENT_round_3', 'HITL_iteration_4'),\n",
    "                    ('REINVENT_round_3', 'HITL_iteration_3'),\n",
    "                    ('REINVENT_round_3', 'HITL_iteration_2'),\n",
    "                    ('REINVENT_round_3', 'HITL_iteration_1'),\n",
    "                    # ('REINVENT_round_2', 'HITL_iteration_5'),\n",
    "                    # ('REINVENT_round_2', 'HITL_iteration_4'),\n",
    "                    # ('REINVENT_round_2', 'HITL_iteration_3'),\n",
    "                    # ('REINVENT_round_2', 'HITL_iteration_2'),\n",
    "                    # ('REINVENT_round_2', 'HITL_iteration_1'),\n",
    "                    # ('REINVENT_round_1', 'HITL_iteration_5'),\n",
    "                    # ('REINVENT_round_1', 'HITL_iteration_4'),\n",
    "                    # ('REINVENT_round_1', 'HITL_iteration_3'),\n",
    "                    # ('REINVENT_round_1', 'HITL_iteration_2'),\n",
    "                    # ('REINVENT_round_1', 'HITL_iteration_1')\n",
    "                    ]\n",
    "\n",
    "fpr = analytics[\"initial_model\"]['fpr']\n",
    "tpr = analytics[\"initial_model\"]['tpr']\n",
    "roc_auc = analytics[\"initial_model\"]['roc_auc']\n",
    "plt.plot(fpr, tpr, label=f\"Initial Model (AUC = {roc_auc:.6f})\")\n",
    "for REINVENT_round in range(1, num_rounds + 1):\n",
    "    for HITL_iteration in range(1, num_iters + 1):\n",
    "        if (f\"REINVENT_round_{REINVENT_round}\", f\"HITL_iteration_{HITL_iteration}\") in chosen_models:\n",
    "            fpr = analytics[f\"REINVENT_round_{REINVENT_round}\"][f\"HITL_iteration_{HITL_iteration}\"]['fpr']\n",
    "            tpr = analytics[f\"REINVENT_round_{REINVENT_round}\"][f\"HITL_iteration_{HITL_iteration}\"]['tpr']\n",
    "            roc_auc = analytics[f\"REINVENT_round_{REINVENT_round}\"][f\"HITL_iteration_{HITL_iteration}\"]['roc_auc']\n",
    "            plt.plot(fpr, tpr, label=f\"R{REINVENT_round}_T{HITL_iteration} (AUC = {roc_auc:.6f})\")\n",
    "\n",
    "plt.legend(loc='lower right')"
   ]
  },
  {
   "cell_type": "markdown",
   "metadata": {},
   "source": [
    "### Running Bradley Terry model"
   ]
  },
  {
   "cell_type": "code",
   "execution_count": null,
   "metadata": {},
   "outputs": [],
   "source": [
    "base_testing_dataset_path = \"/home/springnuance/reinvent-hitl/Base-Code-Binh/training_Bradley_Terry_model/small_drd2_testing_data.csv\""
   ]
  },
  {
   "cell_type": "markdown",
   "metadata": {},
   "source": [
    "### Running Rank ListNet model"
   ]
  },
  {
   "cell_type": "code",
   "execution_count": null,
   "metadata": {},
   "outputs": [],
   "source": [
    "base_testing_dataset_path = \"/home/springnuance/reinvent-hitl/Base-Code-Binh/training_Rank_ListNet_model/small_drd2_testing_data.csv\""
   ]
  },
  {
   "cell_type": "markdown",
   "metadata": {},
   "source": [
    "### Benchmark 2: DRD2 activity probability distribution of molecules generated by REINVENT"
   ]
  },
  {
   "cell_type": "code",
   "execution_count": null,
   "metadata": {},
   "outputs": [],
   "source": []
  },
  {
   "cell_type": "markdown",
   "metadata": {},
   "source": [
    "### Benchmark 3: Novelty of molecules generated by REINVENT using Tanimoto similarity"
   ]
  },
  {
   "cell_type": "code",
   "execution_count": null,
   "metadata": {},
   "outputs": [],
   "source": []
  },
  {
   "cell_type": "markdown",
   "metadata": {},
   "source": [
    "### Benchmark 4: Synthetic Accessibility (SA) score of molecules generated by REINVENT"
   ]
  },
  {
   "cell_type": "markdown",
   "metadata": {},
   "source": [
    "SA score is calculated using RDKit implementation of the synthetic accessibility score as described in Ertl et al. (2009). The SA score is a measure of the complexity of a molecule, with higher scores indicating higher complexity. "
   ]
  },
  {
   "cell_type": "code",
   "execution_count": null,
   "metadata": {},
   "outputs": [],
   "source": []
  },
  {
   "cell_type": "markdown",
   "metadata": {},
   "source": [
    "### Benchmark 5: Pharmacokinetic (PK) parameter logP of molecules generated by REINVENT"
   ]
  },
  {
   "cell_type": "markdown",
   "metadata": {},
   "source": [
    "PK parameters play a crucial role in understanding how a drug interacts with the body during drug development. These parameters provide insights into various aspects (ADME):\n",
    "\n",
    "- Absorption: How the drug is absorbed after administration.\n",
    "- Distribution: How the drug spreads across different bodily compartments or tissues.\n",
    "- Metabolism: How the body processes or degrades the drug.\n",
    "- Excretion: How the body eliminates or gets rid of the drug1.\n",
    "\n",
    "\n",
    "The logP parameter, or the partition coefficient, is a crucial molecular descriptor in medicinal chemistry and drug design. It quantifies the lipophilicity of chemical compounds and influences their pharmacokinetic properties"
   ]
  }
 ],
 "metadata": {
  "kernelspec": {
   "display_name": "cc_env_hitl",
   "language": "python",
   "name": "python3"
  },
  "language_info": {
   "codemirror_mode": {
    "name": "ipython",
    "version": 3
   },
   "file_extension": ".py",
   "mimetype": "text/x-python",
   "name": "python",
   "nbconvert_exporter": "python",
   "pygments_lexer": "ipython3",
   "version": "3.7.6"
  }
 },
 "nbformat": 4,
 "nbformat_minor": 2
}

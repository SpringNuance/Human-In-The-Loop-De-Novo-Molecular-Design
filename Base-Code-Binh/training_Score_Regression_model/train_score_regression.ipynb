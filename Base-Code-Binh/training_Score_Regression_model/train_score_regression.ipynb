{
 "cells": [
  {
   "cell_type": "code",
   "execution_count": 27,
   "metadata": {},
   "outputs": [
    {
     "name": "stdout",
     "output_type": "stream",
     "text": [
      "The autoreload extension is already loaded. To reload it, use:\n",
      "  %reload_ext autoreload\n"
     ]
    }
   ],
   "source": [
    "%load_ext autoreload\n",
    "%autoreload 2"
   ]
  },
  {
   "cell_type": "code",
   "execution_count": 28,
   "metadata": {},
   "outputs": [],
   "source": [
    "import pandas as pd\n",
    "import numpy as np\n",
    "import torch\n",
    "from torch import nn, optim\n",
    "from rdkit import Chem\n",
    "from rdkit.Chem import AllChem\n",
    "from tdc import Oracle"
   ]
  },
  {
   "cell_type": "code",
   "execution_count": 29,
   "metadata": {},
   "outputs": [
    {
     "name": "stderr",
     "output_type": "stream",
     "text": [
      "Found local copy...\n"
     ]
    },
    {
     "name": "stdout",
     "output_type": "stream",
     "text": [
      "Training data len: 200\n",
      "Testing data len: 200\n"
     ]
    }
   ],
   "source": [
    "# Load data and Oracle\n",
    "oracle = Oracle(name='DRD2')\n",
    "training_data = pd.read_csv(\"../data/drd2_final_train_small.csv\")\n",
    "testing_data = pd.read_csv(\"../data/drd2_final_test_small.csv\")\n",
    "smiles_train = training_data['smiles'].tolist()\n",
    "smiles_test = testing_data['smiles'].tolist()\n",
    "label_proba_train = [oracle(smiles) for smiles in smiles_train]\n",
    "label_proba_test = [oracle(smiles) for smiles in smiles_test]\n",
    "print(f\"Training data len: {len(smiles_train)}\")\n",
    "print(f\"Testing data len: {len(smiles_test)}\")"
   ]
  },
  {
   "cell_type": "markdown",
   "metadata": {},
   "source": [
    "### Computing morgan fingerprints"
   ]
  },
  {
   "cell_type": "code",
   "execution_count": 30,
   "metadata": {},
   "outputs": [
    {
     "name": "stdout",
     "output_type": "stream",
     "text": [
      "features_train shape:  torch.Size([200, 2048])\n",
      "label_proba_train shape:  torch.Size([200])\n",
      "label_binary_train shape:  torch.Size([200])\n",
      "features_test shape:  torch.Size([200, 2048])\n",
      "label_proba_test shape:  torch.Size([200])\n",
      "label_binary_test shape:  torch.Size([200])\n"
     ]
    }
   ],
   "source": [
    "def compute_fingerprints(smiles):\n",
    "    mol = Chem.MolFromSmiles(smiles)\n",
    "    if mol is not None:\n",
    "        return AllChem.GetMorganFingerprintAsBitVect(mol, 2, nBits=2048)\n",
    "    else:\n",
    "        return np.zeros((2048,), dtype=int)\n",
    "\n",
    "features_train = torch.tensor([compute_fingerprints(smiles) for smiles in smiles_train])\n",
    "features_test = torch.tensor([compute_fingerprints(smiles) for smiles in smiles_test])\n",
    "label_proba_train = torch.tensor(label_proba_train)\n",
    "label_proba_test = torch.tensor(label_proba_test)\n",
    "label_binary_train = torch.tensor(training_data[\"label\"].to_numpy())\n",
    "label_binary_test = torch.tensor(testing_data[\"label\"].to_numpy())\n",
    "\n",
    "print(\"features_train shape: \", features_train.shape)\n",
    "print(\"label_proba_train shape: \", label_proba_train.shape)\n",
    "print(\"label_binary_train shape: \", label_binary_train.shape)\n",
    "\n",
    "print(\"features_test shape: \", features_test.shape)\n",
    "print(\"label_proba_test shape: \", label_proba_test.shape)\n",
    "print(\"label_binary_test shape: \", label_binary_test.shape)"
   ]
  },
  {
   "cell_type": "code",
   "execution_count": 31,
   "metadata": {},
   "outputs": [],
   "source": [
    "# Now we need to save them \n",
    "\n",
    "small_drd2_training_data = pd.DataFrame()\n",
    "small_drd2_training_data['smiles'] = smiles_train\n",
    "small_drd2_training_data['label_proba'] = label_proba_train\n",
    "small_drd2_training_data['label_binary'] = label_binary_train\n",
    "\n",
    "small_drd2_training_data.to_csv(\"small_drd2_training_data.csv\", index=False)\n",
    "\n",
    "small_drd2_testing_data = pd.DataFrame()\n",
    "small_drd2_testing_data['smiles'] = smiles_test\n",
    "small_drd2_testing_data['label_proba'] = label_proba_test\n",
    "small_drd2_testing_data['label_binary'] = label_binary_test\n",
    "\n",
    "small_drd2_testing_data.to_csv(\"small_drd2_testing_data.csv\", index=False)"
   ]
  },
  {
   "cell_type": "markdown",
   "metadata": {},
   "source": [
    "### Use proba label to train. Probably a correct approach"
   ]
  },
  {
   "cell_type": "code",
   "execution_count": 32,
   "metadata": {},
   "outputs": [
    {
     "name": "stdout",
     "output_type": "stream",
     "text": [
      "Epoch 5, Loss: 0.6038740202784538\n",
      "Model trained and saved\n"
     ]
    }
   ],
   "source": [
    "from score_regression import ScoreRegressionModel\n",
    "    \n",
    "# Training the model\n",
    "model = ScoreRegressionModel(feature_dim=2048)\n",
    "\n",
    "# When using Binary Cross-Entropy Loss (BCELoss) in neural networks, the input expected by the \n",
    "# loss function is a list of probabilities, not binary values (0 or 1)\n",
    "criterion = nn.BCELoss()\n",
    "optimizer = optim.Adam(model.parameters(), lr=0.000001)\n",
    "\n",
    "# Create torch data loader\n",
    "\n",
    "from torch.utils.data import TensorDataset, DataLoader\n",
    "\n",
    "# Assuming X_train and y_train are numpy arrays, convert them to PyTorch tensors\n",
    "features_train_tensor = torch.tensor(features_train).float()  # Ensure dtype is float32 for features\n",
    "label_proba_train_tensor = torch.tensor(label_proba_train).float()  # Ensure dtype is float32 if regression, or long if classification\n",
    "features_test_tensor = torch.tensor(features_test).float()  # Ensure dtype is float32 for features\n",
    "label_proba_test_tensor = torch.tensor(label_proba_test).float()  # Ensure dtype is float32 if regression, or long if classification\n",
    "\n",
    "# Create a TensorDataset\n",
    "train_dataset = TensorDataset(features_train_tensor, label_proba_train_tensor)\n",
    "test_dataset = TensorDataset(features_test_tensor, label_proba_test_tensor)\n",
    "\n",
    "# Create a DataLoader\n",
    "batch_size = 32  # You can adjust the batch size as needed\n",
    "train_loader = DataLoader(dataset=train_dataset, batch_size=batch_size, shuffle=True)\n",
    "test_loader = DataLoader(dataset=test_dataset, batch_size=batch_size, shuffle=False)\n",
    "\n",
    "def train(model, train_loader, epochs=5):\n",
    "    model.train()\n",
    "    for epoch in range(epochs):\n",
    "        total_loss = 0\n",
    "        for features, label_binary in train_loader:\n",
    "            optimizer.zero_grad()\n",
    "            output = model(features)\n",
    "            loss = criterion(output, label_binary.unsqueeze(-1))\n",
    "            loss.backward()\n",
    "            optimizer.step()\n",
    "            total_loss += loss.item()\n",
    "        if (epoch+1) % 5 == 0:\n",
    "            print(f'Epoch {epoch+1}, Loss: {total_loss / len(features)}')\n",
    "\n",
    "train(model, train_loader)\n",
    "\n",
    "# save state dict\n",
    "torch.save(model.state_dict(), \"score_regression_model.pth\")\n",
    "\n",
    "print(\"Model trained and saved\")\n"
   ]
  },
  {
   "cell_type": "markdown",
   "metadata": {},
   "source": [
    "### Perform prediction on the testing dataset"
   ]
  },
  {
   "cell_type": "code",
   "execution_count": 33,
   "metadata": {},
   "outputs": [],
   "source": [
    "from sklearn.metrics import accuracy_score, precision_score, recall_score, f1_score, matthews_corrcoef\n",
    "\n",
    "def compute_metrics(label, predictions):\n",
    "    \"\"\"\n",
    "    Compute classification metrics: accuracy, precision, recall, F1 score, and MCC.\n",
    "    \n",
    "    Args:\n",
    "    label (list[int]): True binary label.\n",
    "    predictions (list[int]): Predicted binary label.\n",
    "\n",
    "    Returns:\n",
    "    dict: A dictionary containing the computed metrics.\n",
    "    \"\"\"\n",
    "    accuracy = accuracy_score(label, predictions)\n",
    "    precision = precision_score(label, predictions)\n",
    "    recall = recall_score(label, predictions)\n",
    "    f1 = f1_score(label, predictions)\n",
    "    mcc = matthews_corrcoef(label, predictions)\n",
    "\n",
    "    return {\n",
    "        'accuracy': accuracy,\n",
    "        'precision': precision,\n",
    "        'recall': recall,\n",
    "        'F1': f1,\n",
    "        'MCC': mcc\n",
    "    }"
   ]
  },
  {
   "cell_type": "markdown",
   "metadata": {},
   "source": [
    "### Prediction using the feedback"
   ]
  },
  {
   "cell_type": "code",
   "execution_count": 48,
   "metadata": {},
   "outputs": [
    {
     "name": "stdout",
     "output_type": "stream",
     "text": [
      "Batch 1 processed\n",
      "Ensure that pred_label_feedback is inside 0 and 1\n",
      "Accuracy: 0.5\n",
      "Precision: 0.0\n",
      "Recall: 0.0\n",
      "F1: 0.0\n",
      "MCC: 0.0\n"
     ]
    }
   ],
   "source": [
    "# Initialize the model\n",
    "model = ScoreRegressionModel(feature_dim=2048)\n",
    "# Load the state dict\n",
    "model.load_state_dict(torch.load(\"score_regression_model.pth\"))\n",
    "\n",
    "from scripts.predict import predict_feedback_from_model\n",
    "\n",
    "pred_label_feedback_test = predict_feedback_from_model(feedback_type = \"scoring\", \n",
    "                                                 feedback_model = model, \n",
    "                                                 smiles=smiles_test)\n",
    "\n",
    "pred_label_binary_test = (torch.tensor(pred_label_feedback_test) > 0.5).int().tolist()\n",
    "\n",
    "metrics = compute_metrics(label_binary_test, pred_label_binary_test)\n",
    "\n",
    "assert all([0 <= x <= 1 for x in pred_label_feedback_test]), \"Feedback score should be between 0 and 1\"\n",
    "\n",
    "print(\"Accuracy:\", metrics['accuracy'])\n",
    "print(\"Precision:\", metrics['precision'])\n",
    "print(\"Recall:\", metrics['recall'])\n",
    "print(\"F1:\", metrics['F1'])\n",
    "print(\"MCC:\", metrics['MCC'])"
   ]
  },
  {
   "cell_type": "markdown",
   "metadata": {},
   "source": [
    "### Plot the roc curve using the feedback"
   ]
  },
  {
   "cell_type": "code",
   "execution_count": 44,
   "metadata": {},
   "outputs": [
    {
     "data": {
      "text/plain": [
       "<matplotlib.legend.Legend at 0x7f341e8d0d90>"
      ]
     },
     "execution_count": 44,
     "metadata": {},
     "output_type": "execute_result"
    },
    {
     "data": {
      "image/png": "[encoded data removed]",
      "text/plain": [
       "<Figure size 432x432 with 1 Axes>"
      ]
     },
     "metadata": {
      "needs_background": "light"
     },
     "output_type": "display_data"
    }
   ],
   "source": [
    "from sklearn.metrics import roc_curve, auc\n",
    "import matplotlib.pyplot as plt\n",
    "\n",
    "fpr, tpr, _ = roc_curve(label_binary_test, pred_label_feedback_test, pos_label=1)\n",
    "\n",
    "roc_auc = auc(fpr, tpr)\n",
    "\n",
    "plt.figure(figsize=(6,6))\n",
    "\n",
    "# draw a diagonal line\n",
    "plt.plot([0, 1], [0, 1], 'k--', label=\"Random predictor\")\n",
    "\n",
    "plt.plot(fpr, tpr, color='darkorange', lw=2, label='ROC curve (AUC = %0.6f)' % roc_auc)\n",
    "plt.xlabel('False Positive Rate')\n",
    "plt.ylabel('True Positive Rate')\n",
    "plt.title('Score regression ROC curve (feedback)')\n",
    "\n",
    "plt.legend(loc=\"lower right\", frameon=False)"
   ]
  },
  {
   "cell_type": "markdown",
   "metadata": {},
   "source": [
    "### Prediction using the label probability. For score regression model, this is the same as the prediction using the feedback. However, for Bradley Terry model and Rank ListNet model, they would be different from using the feedback"
   ]
  },
  {
   "cell_type": "code",
   "execution_count": 49,
   "metadata": {},
   "outputs": [
    {
     "name": "stdout",
     "output_type": "stream",
     "text": [
      "Accuracy: 0.5\n",
      "Precision: 0.0\n",
      "Recall: 0.0\n",
      "F1: 0.0\n",
      "MCC: 0.0\n"
     ]
    }
   ],
   "source": [
    "# Initialize the model\n",
    "model = ScoreRegressionModel(feature_dim=2048)\n",
    "# Load the state dict\n",
    "model.load_state_dict(torch.load(\"score_regression_model.pth\"))\n",
    "\n",
    "from scripts.predict import predict_proba_from_model\n",
    "\n",
    "pred_label_proba_test = predict_proba_from_model(feedback_type = \"scoring\", \n",
    "                                                 feedback_model = model, \n",
    "                                                 smiles=smiles_test)\n",
    "\n",
    "pred_label_binary_test = (torch.tensor(pred_label_proba_test) > 0.5).int().tolist()\n",
    "\n",
    "assert all([0 <= x <= 1 for x in pred_label_proba_test]), \"Probability should be between 0 and 1\"\n",
    "\n",
    "metrics = compute_metrics(label_binary_test, pred_label_binary_test)\n",
    "\n",
    "print(\"Accuracy:\", metrics['accuracy'])\n",
    "print(\"Precision:\", metrics['precision'])\n",
    "print(\"Recall:\", metrics['recall'])\n",
    "print(\"F1:\", metrics['F1'])\n",
    "print(\"MCC:\", metrics['MCC'])"
   ]
  },
  {
   "cell_type": "markdown",
   "metadata": {},
   "source": [
    "### Plot the roc curve using the label probability"
   ]
  },
  {
   "cell_type": "code",
   "execution_count": 47,
   "metadata": {},
   "outputs": [
    {
     "data": {
      "text/plain": [
       "<matplotlib.legend.Legend at 0x7f341e770190>"
      ]
     },
     "execution_count": 47,
     "metadata": {},
     "output_type": "execute_result"
    },
    {
     "data": {
      "image/png": "[encoded data removed]",
      "text/plain": [
       "<Figure size 432x432 with 1 Axes>"
      ]
     },
     "metadata": {
      "needs_background": "light"
     },
     "output_type": "display_data"
    }
   ],
   "source": [
    "from sklearn.metrics import roc_curve, auc\n",
    "import matplotlib.pyplot as plt\n",
    "\n",
    "fpr, tpr, _ = roc_curve(label_binary_test, pred_label_proba_test, pos_label=1)\n",
    "\n",
    "roc_auc = auc(fpr, tpr)\n",
    "\n",
    "plt.figure(figsize=(6,6))\n",
    "\n",
    "# draw a diagonal line\n",
    "plt.plot([0, 1], [0, 1], 'k--', label=\"Random predictor\")\n",
    "\n",
    "plt.plot(fpr, tpr, color='darkorange', lw=2, label='ROC curve (AUC = %0.6f)' % roc_auc)\n",
    "plt.xlabel('False Positive Rate')\n",
    "plt.ylabel('True Positive Rate')\n",
    "plt.title('Score regression ROC curve (label proba)')\n",
    "\n",
    "plt.legend(loc=\"lower right\", frameon=False)"
   ]
  },
  {
   "cell_type": "markdown",
   "metadata": {},
   "source": [
    "#### The model performs weakly, which means that we can now use this model as a human component for HITL. Ideally, the initial model should be no better than random guess"
   ]
  }
 ],
 "metadata": {
  "kernelspec": {
   "display_name": "base",
   "language": "python",
   "name": "python3"
  },
  "language_info": {
   "codemirror_mode": {
    "name": "ipython",
    "version": 3
   },
   "file_extension": ".py",
   "mimetype": "text/x-python",
   "name": "python",
   "nbconvert_exporter": "python",
   "pygments_lexer": "ipython3",
   "version": "3.7.6"
  }
 },
 "nbformat": 4,
 "nbformat_minor": 2
}

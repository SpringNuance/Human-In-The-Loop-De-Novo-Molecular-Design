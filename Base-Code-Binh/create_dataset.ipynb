{
 "cells": [
  {
   "cell_type": "code",
   "execution_count": 7,
   "metadata": {},
   "outputs": [
    {
     "name": "stdout",
     "output_type": "stream",
     "text": [
      "The autoreload extension is already loaded. To reload it, use:\n",
      "  %reload_ext autoreload\n"
     ]
    }
   ],
   "source": [
    "%load_ext autoreload\n",
    "%autoreload 2"
   ]
  },
  {
   "cell_type": "code",
   "execution_count": 8,
   "metadata": {},
   "outputs": [],
   "source": [
    "# load dependencies\n",
    "import sys\n",
    "import pickle\n",
    "import os\n",
    "import shutil\n",
    "import json\n",
    "import pandas as pd\n",
    "import numpy as np\n",
    "import rdkit.Chem as Chem\n",
    "from numpy.random import default_rng\n",
    "import torch\n",
    "from ast import literal_eval\n",
    "from torch import nn, optim\n",
    "from rdkit import Chem\n",
    "from rdkit.Chem import AllChem\n",
    "from tdc import Oracle\n",
    "import subprocess"
   ]
  },
  {
   "cell_type": "markdown",
   "metadata": {},
   "source": [
    "### Loading the main dataset"
   ]
  },
  {
   "cell_type": "code",
   "execution_count": 9,
   "metadata": {},
   "outputs": [
    {
     "name": "stdout",
     "output_type": "stream",
     "text": [
      "The number of compounds in the final test set is:  620480\n",
      "The number of compounds with drd2 is:  7759\n",
      "The number of compounds without drd2 is:  612721\n",
      "Ratio of compounds without drd2:  0.9874951650335224\n",
      "Ratio of compounds with drd2:  0.012504834966477566\n",
      "Ratio of compounds with drd2/compounds without drd2:  0.012663186017779706\n"
     ]
    }
   ],
   "source": [
    "from helper import compute_fingerprints\n",
    "\n",
    "drd2_final_test_large = pd.read_csv(\"data/drd2_final_large.csv\")\n",
    "\n",
    "print(\"The number of compounds in the final test set is: \", drd2_final_test_large.shape[0])\n",
    "\n",
    "smiles = drd2_final_test_large[\"smiles\"].to_numpy()\n",
    "# features = compute_fingerprints(smiles)\n",
    "labels = drd2_final_test_large[\"label\"].to_numpy()\n",
    "\n",
    "num_with_drd2 = len([x for x in labels if x == 1])\n",
    "num_without_drd2 = len([x for x in labels if x == 0])\n",
    "print(\"The number of compounds with drd2 is: \", num_with_drd2)\n",
    "print(\"The number of compounds without drd2 is: \", num_without_drd2)\n",
    "\n",
    "print(\"Ratio of compounds without drd2: \", num_without_drd2/len(labels))\n",
    "print(\"Ratio of compounds with drd2: \", num_with_drd2/len(labels))\n",
    "print(\"Ratio of compounds with drd2/compounds without drd2: \", num_with_drd2/num_without_drd2)\n",
    "\n",
    "# delete the drd2_final_test_large dataframe to free up memory\n",
    "# del drd2_final_test_large"
   ]
  },
  {
   "cell_type": "markdown",
   "metadata": {},
   "source": [
    "### Constructing the training and testing dataset"
   ]
  },
  {
   "cell_type": "code",
   "execution_count": 10,
   "metadata": {},
   "outputs": [
    {
     "name": "stdout",
     "output_type": "stream",
     "text": [
      "The number of values is:  166167000.0\n",
      "The number of values after converting to finger prints is:  340310016000.0\n",
      "The size of the values in MB is:  1298179.6875\n",
      "The size of the values in MB/batch is:  129.81796875\n",
      "The size of the values in GB is:  1267.7536010742188\n",
      "The size of the values in GB/batch is:  0.12677536010742188\n"
     ]
    }
   ],
   "source": [
    "# Calculate nCr \n",
    "def nCr(n, r):\n",
    "    return (np.math.factorial(n) / (np.math.factorial(r) * np.math.factorial(n - r)))\n",
    "\n",
    "number_of_values = nCr(1000, 3)\n",
    "print(\"The number of values is: \", number_of_values)\n",
    "\n",
    "# fps finger print has dimension 2048\n",
    "number_of_values_fps = number_of_values * 2048\n",
    "print(\"The number of values after converting to finger prints is: \", number_of_values_fps)\n",
    "# Each is float 32, now we need to know in MB\n",
    "size_of_values = number_of_values_fps * 4 / 1024 / 1024\n",
    "\n",
    "num_batches = 10000\n",
    "print(\"The size of the values in MB is: \", size_of_values)  \n",
    "print(\"The size of the values in MB/batch is: \", size_of_values/num_batches)\n",
    "print(\"The size of the values in GB is: \", size_of_values/1024)\n",
    "print(\"The size of the values in GB/batch is: \", size_of_values/1024/num_batches)\n"
   ]
  },
  {
   "cell_type": "code",
   "execution_count": 11,
   "metadata": {},
   "outputs": [
    {
     "name": "stdout",
     "output_type": "stream",
     "text": [
      "[452802 415423 597784 ... 612910 618730 613726]\n",
      "The number of compounds with drd2 in the training set is:  100\n",
      "The number of compounds without drd2 in the training set is:  100\n",
      "The number of compounds with drd2 in the test set is:  500\n",
      "The number of compounds without drd2 in the test set is:  500\n"
     ]
    }
   ],
   "source": [
    "num_points_test = 1000\n",
    "num_points_train = 200\n",
    "num_points = num_points_test + num_points_train\n",
    "\n",
    "ratio_drd2_over_num_points = 0.5 # Even though the actual ratio is 0.015, we want to have a higher ratio of compounds with drd2 in the final test set\n",
    "\n",
    "num_with_drd2_to_select = int(num_points * ratio_drd2_over_num_points)\n",
    "num_without_drd2_to_select = num_points - num_with_drd2_to_select\n",
    "\n",
    "# get the indices of the compounds with drd2\n",
    "indices_without_drd2 = [i for i, x in enumerate(labels) if x == 0]\n",
    "indices_with_drd2 = [i for i, x in enumerate(labels) if x == 1]\n",
    "\n",
    "\n",
    "# randomly select compounds with drd2\n",
    "rng = default_rng()\n",
    "selected_indices_with_drd2 = rng.choice(indices_with_drd2, num_with_drd2_to_select, replace=False)\n",
    "selected_indices_without_drd2 = rng.choice(indices_without_drd2, num_without_drd2_to_select, replace=False)\n",
    "\n",
    "chosen_indices = np.concatenate((selected_indices_without_drd2, selected_indices_with_drd2))\n",
    "\n",
    "print(chosen_indices)\n",
    "# get the smiles and labels of the chosen indices\n",
    "chosen_smiles = smiles[chosen_indices]\n",
    "chosen_labels = [0] * num_without_drd2_to_select + [1] * num_with_drd2_to_select\n",
    "chosen_labels = np.array(chosen_labels)\n",
    "\n",
    "# train test split\n",
    "\n",
    "from sklearn.model_selection import train_test_split\n",
    "\n",
    "chosen_smiles_train, chosen_smiles_test, chosen_labels_train, chosen_labels_test = train_test_split(chosen_smiles, chosen_labels, \n",
    "                                                                                                    test_size=num_points_test/(num_points_test + num_points_train), \n",
    "                                                                                                    random_state=42, stratify=chosen_labels)\n",
    "drd2_final_train_small = pd.DataFrame()\n",
    "drd2_final_test_small = pd.DataFrame()\n",
    "\n",
    "drd2_final_train_small[\"smiles\"] = chosen_smiles_train\n",
    "drd2_final_train_small[\"label\"] = chosen_labels_train\n",
    "\n",
    "drd2_final_test_small[\"smiles\"] = chosen_smiles_test\n",
    "drd2_final_test_small[\"label\"] = chosen_labels_test\n",
    "\n",
    "# Sanity checking\n",
    "\n",
    "num_with_drd2_train = len([x for x in chosen_labels_train if x == 1])\n",
    "num_without_drd2_train = len([x for x in chosen_labels_train if x == 0])\n",
    "print(\"The number of compounds with drd2 in the training set is: \", num_with_drd2_train)\n",
    "print(\"The number of compounds without drd2 in the training set is: \", num_without_drd2_train)\n",
    "\n",
    "num_with_drd2_test = len([x for x in chosen_labels_test if x == 1])\n",
    "num_without_drd2_test = len([x for x in chosen_labels_test if x == 0])\n",
    "\n",
    "print(\"The number of compounds with drd2 in the test set is: \", num_with_drd2_test)\n",
    "print(\"The number of compounds without drd2 in the test set is: \", num_without_drd2_test)\n",
    "\n",
    "drd2_final_train_small.to_csv(\"data/drd2_final_train_small.csv\", index=False)\n",
    "drd2_final_test_small.to_csv(\"data/drd2_final_test_small.csv\", index=False)"
   ]
  },
  {
   "cell_type": "markdown",
   "metadata": {},
   "source": [
    "### Checking if the Oracle agrees with the labels"
   ]
  },
  {
   "cell_type": "code",
   "execution_count": 12,
   "metadata": {},
   "outputs": [
    {
     "name": "stderr",
     "output_type": "stream",
     "text": [
      "Found local copy...\n"
     ]
    },
    {
     "name": "stdout",
     "output_type": "stream",
     "text": [
      "['CCCNC(=O)COC(=O)c1ccccc1OCC(=O)Nc1ccc(Br)cc1', 'O=C(NCCC(F)CN1CCN(c2cccc(Cl)c2Cl)CC1)c1ccc(-c2ccccn2)cc1', 'Cn1c(SCc2nnc(-c3ccccc3Br)o2)nc2sc3c(c2c1=O)CCC3', 'Cc1nc(S(=O)(=O)c2ccc(Cl)cc2)c(N(C)C)o1', 'CN1CCN(C2Cc3ccccc3Sc3ccc(-c4ccccn4)cc32)CC1', 'Cc1ccc2c(-c3nnc(SCCCN4CCc5cc6c(cc5CC4)OCCN6)n3C)cccc2n1', 'COc1ccc(N2CCN(CCCOc3ccc(-c4nc5ccccc5[nH]4)cc3)CC2)cc1', 'COc1ccccc1N1CCN(CC(O)COc2ccc3c(c2)OCO3)CC1', 'CCC(=NNC(N)=O)c1ccc(OC)c(OC)c1', 'COc1ccc(C(=O)NNC(=O)C23CC4CC(CC(C4)C2)C3)c(OC)c1', 'COc1ccc(C=CC(=O)c2ccc(OC)cc2OC)c(OC)c1', 'O=C(c1cccc2ccccc12)N1CCN(Cc2ccccc2F)CC1', 'COc1ccc(C(=O)NNC(=O)c2ccc3ccccc3n2)cc1', 'O=C(NCN1CCN(c2ccccc2Cl)CC1)c1cccc(Cl)c1', 'N#Cc1ccc2[nH]c(CN3CCN(c4ccccc4Cl)CC3)cc2c1', 'COc1cccc(CCc2ccccc2OCCCN2CCN(c3cccc(C(F)(F)F)c3)CC2)c1', 'O=C(Oc1ccc(-n2cnnn2)cc1)c1ccco1', 'COc1ccc(-c2cccc3c2CCC2C3c3cc(O)c(Cl)cc3CCN2C)cc1', 'CCNC(=O)Nc1ccc2c(c1)CCC1C2c2cc(O)c(Cl)cc2CCN1C', 'CCOC(=O)c1sc2nc(N3CCOCC3)c3c(c2c1N)CC(C(C)C)OC3', 'Cn1c(CN2CCC(c3ccccc3)CC2)nc2ccccc21', 'O=C(NCCCN1CCN(c2ccccc2)CC1)c1ccc2c(c1)Cc1ccccc1-2', 'COC(=O)C1COc2cc(CN3CCC(C(=O)c4ccc(F)cc4)CC3)cc(O)c21', 'CCCN(Cc1ccc(OC)cc1)C1CCc2c(cccc2OC)C1', 'CC12CC(NC(=O)N1Cc1ccccc1)c1ccccc1O2', 'O=C1COc2ccccc2N1CCCN1CCC(n2c(O)nc3cnccc32)CC1', 'Cc1csc(C(=O)NC2CCC(CCN3CCN(c4cccc(Cl)c4Cl)CC3)CC2)c1', 'Cc1cccn(CCCCN2CCN(c3cc(C(F)(F)F)nc(C(C)(C)C)n3)CC2)c1=O', 'COc1cccc(-c2cccc(CN3CCN(c4cccc5nc(O)oc45)CC3)c2)c1', 'CCOCCCNC(=O)Cn1cc2c(n1)CCCC2', 'COc1cc(NC(=O)C2CCCCC2)c(OC)cc1NC(=O)c1ccco1', 'COC(=O)c1ccccc1NC(=O)CNc1cc(OC)c(OC)cc1C', 'Cc1cccc(NCC(=O)NNC(=S)Nc2ccccc2)c1', 'Clc1ccc(N2CCCN(CCCc3cc4ccccc4o3)CC2)cc1', 'COc1cccc(C(=O)NN2c3ccccc3N=C(N3CCN(C)CC3)c3cc(Cl)ccc32)c1', 'CCCN(CCC)C1CCc2ncccc2C1', 'CCC(C)NC(=O)CNC(=O)Cn1c(C)cc2ccccc2c1=O', 'O=C(COC(=O)c1ccc(S(=O)(=O)N2CCOCC2)cc1)NCc1cccs1', 'O=CNc1cc(F)ccc1C(=O)CCCN1CCC2C(C1)c1cccc3c1N2CCCS3', 'CCC(C)(c1ccc(C(=O)OC)s1)c1ccc(C(=O)OC)s1', 'COc1cc(Nc2cccc[n+]2C)cc(OC)c1OC', 'O=C(NC(=S)NCc1nc2ccccc2[nH]1)c1ccc(F)cc1', 'O=C(C1CC=CCC1)N1CCN(S(=O)(=O)c2ccc(F)cc2)CC1', 'N#Cc1cc2c3c(ccc2[nH]1)OCC(CN1CCC2(CC1)C(=O)NCN2c1ccccc1)O3', 'Cc1cccc2c(CCNCc3ccc(CCNCC(O)c4ccc(O)c5[nH]c(=O)sc45)cc3)c[nH]c12', 'COc1ccc(-c2nc(O)n(C3CCN(Cc4ccccc4)CC3)c2C)cc1', 'C1C2C3CC4C2C(NCC25C6C7C8C6C2C8C75)C2C1C3C42', 'O=C(CCCN1C2CCC1CC(O)(c1ccc(Cl)cc1)C2)c1ccc(F)cc1', 'O=C(O)c1cccc2cn(C3CCCC3)c(O)c12', 'CS(=O)(=O)c1cccc(C2CCN(Cc3ccccc3)CC2)c1', 'O=C(CN1C(=O)NC2(CCCCC2)C1=O)Nc1cc(C(F)(F)F)ccc1N1CCCC1', 'OC(COc1ccccc1)CN1CCC(Oc2ccccc2)CC1', 'S=C(NCc1ccccc1)N1CCn2cccc2C1c1cccnc1', 'COCCn1c(Cc2ccccc2)nnc1SCc1nc(O)c2ccccc2n1', 'O=C(Cc1sc(NN=CC=Cc2ccccc2)nc1O)Nc1ccc(Cl)c(Cl)c1', 'Oc1cc2ccccc2n1CCCCN1CCN(c2cccc(C(F)(F)F)c2)CC1', 'COc1ccc(OC)c2c(C)cc(N3CCCCCC3)nc12', 'Cc1cc(O)nc(NN=C2CCC(C(C)(C)C)CC2)n1', 'COc1ccccc1N1CCN(CCCCn2cc(-c3ccccc3)nn2)CC1', 'COc1cc2c(cc1O)C1Cc3ccc(OC)c(OC)c3CN1CC2', 'CCOc1ccc(NC(=O)CN(C)C(=O)c2cc3c(s2)CCCCC3)cc1OCC', 'CSc1ccc2c(c1)N(CCC1CCCCN1C)c1ccccc1S2', 'O=C(Nc1ccccc1)c1ccc2nc(-c3ccco3)c(-c3ccco3)nc2c1', 'COc1ccccc1N1CCN(CCCCN2C(=O)c3ccccc3C2=O)CC1', 'CN1CCc2ccccc2Cc2c[nH]c3cccc(c23)CC1', 'O=C1c2ccccc2CCC1C1CCN(CC2CC2)CC1', 'Fc1ccc(SCCCN2CCN(c3ccc(Cl)cc3)CC2)cc1', 'O=C(NCCCCN1CCN(c2cccc(Cl)c2Cl)CC1)c1cccc(C#Cc2ccccc2)c1', '[O-][S+](N1CCCCC1)C12CC3CC(CC(C3)C1)C2', 'O=C1N(CCN2C3CCCC2CC3)CCN1c1cccc(Cl)c1', 'COC(=O)C1Cc2ccccc2N1C(=O)CN1CCN(Cc2ccc(C)cc2)CC1', 'O=C(CCc1ccccc1)Nc1nc2ccc(S(=O)(=O)N3CCOCC3)cc2s1', 'Cc1ncoc1-c1nnc(SCCCN2CCc3cc4nc(C5CC5)oc4cc3CC2)n1C', 'CN1CCN(C2=Nc3cc(Cl)ccc3N(NC(=O)c3ccccc3)c3ccccc32)CC1', 'c1ccc2c(c1)CCN(Cc1c[nH]c3ncccc13)C2', 'CCc1c(-c2ccccc2)nc(O)n1C1CCN(Cc2ccccc2)CC1', 'CCOc1ccc(C(=O)Nc2c3c(nn2-c2ccccc2)C=S(O)(O)=C3)cc1', 'CCOc1cc(C2NCc3ccccc3-n3cccc32)ccc1O', 'CCCCc1ccccc1N1CCN(CCCCCC(=O)NC2CCCc3ccccc32)CC1', 'NS(=O)(=O)c1ccc(CNC(=O)C=Cc2c(F)cccc2Cl)cc1', 'CCCCC(=O)NC1(C(F)(F)F)C(=O)N(CC(C)C)C2=CC(C)(C)CC(=O)C21', 'CCCOc1ccc(C(F)(F)F)cc1NS(=O)(=O)c1ccc(Cl)nc1', 'Cc1cc(C(=O)CCl)c(C)n1CCc1ccc(F)cc1', 'Cc1cc(SCC(=O)NN=Cc2ccc(O)c(O)c2O)c(C)cc1Br', 'COc1cc(C=NN2CCN(c3ccccc3OC)CC2)ccc1OC(C)=O', 'O=C(Cc1ccncc1)Nc1ccc(CCN2CCN(c3ccccc3)CC2)cc1', 'CC(C)CCNC(=O)C1CCN(S(=O)(=O)c2ccc(-n3cnnn3)cc2)CC1', 'Cc1cccc(CC(=O)Nc2cccc(-c3nc4cccnc4s3)c2)c1', 'COc1ccc(C(=O)c2c(O)c(O)n(CCN3CCNCC3)c2-c2cccc([N+](=O)[O-])c2)cc1', 'CCCN(CCC)C1COc2c(cccc2-c2ccccc2)C1', 'CN1CCc2cc(O)ccc2Cc2[nH]c3ccccc3c2CC1', 'CCCN1CCOC2c3cc(C(=O)Nc4ccc(OC)cc4)ccc3CCC21', 'C=CCn1c(SCC(=O)NC2CCCCC2)nnc1-c1sc(N)nc1C', 'COc1ccc2c(c1OC)CN1CCc3cc4c(cc3C1C2)OCO4', 'Cc1cc2c[nH]c(O)c2cc1OCCCN1CCN(c2cccc3ccccc23)CC1', 'COc1ccc(C=NN(c2ccccc2)c2ccccc2)cc1O', 'COc1ccccc1N1CCN(CCCCNC(=O)c2ccc(COCCOCCOCCOCCOCc3ccc(C(=O)NCCCCN4CCN(c5ccccc5OC)CC4)cc3)cc2)CC1', 'CCOc1ccc(C=NNC(=O)c2[nH]ncc2Br)c(O)c1', 'O=C(O)c1cccnc1-c1ncccc1C(=O)O', 'COc1cccc(CNC(=O)CN2C(=O)N(c3cc(C)ccc3C)S(=O)(=O)c3ccccc32)c1OC', 'O=S1(=O)N(CCN2CCCCCC2)CCN1c1cccc(Cl)c1', 'O=C1CCc2ccc(OCCCCN3CCN(c4cccc(F)c4Cl)CC3)nc2N1', 'COc1ccc(S(=O)(=O)NC2CCC(N3CCC(c4ccccc4OC(C)C)CC3)CC2)cc1OC', 'CN1CCN(C2=Nc3cc(Cl)ccc3N(NC(=O)c3cccc(F)c3F)c3ccccc32)CC1', 'O=C(c1cccc(C(F)(F)F)c1)c1c[nH]c(C(=O)NCC2CCCO2)c1', 'CCOCCSc1c(C)cnc2c1c(=O)n(C)c(=O)n2C', 'Cc1ccccc1NC(=O)CSc1nnc(Cc2ccccc2)c(=O)n1N', 'O=C(c1cccc(C(F)(F)F)c1)N1CCOc2ccccc21', 'O=C(CCS(=O)(=O)c1cc(Br)cc2c1N(C(=O)C1CC1)CC2)N1CCN(c2cccc(C(F)(F)F)c2)CC1', 'O=C(Nc1ccc(C(=O)N2CCCC2)cc1)c1ccccc1Br', 'CC(C)COC(=O)NC1CCC(CCN2CCc3ccccc3C2)CC1', 'Cc1ccc2c(c1O)-c1cccc3c1C(C2)N(C)CC3', 'CC(=O)N1CCCc2cc(S(=O)(=O)NCCC3=CCCCC3)ccc21', 'Cc1cc(C)c(OCC(O)CN2CCN(C(=O)c3ccccc3)CC2)c(C)c1', 'CC(C)Cc1nnc(NC(=O)CCC(=O)N2CCN(S(=O)(=O)c3ccccc3)CC2)s1', 'Cc1cc(C(=O)O)ccc1-c1ccc(CO)o1', 'O=C(N1CCOCC1)C12CC3CC(C1)CC(c1ccccc1)(C3)C2', 'COc1ccccc1N1CCN(CCCCNC(=O)CCc2ccccc2)CC1', 'CCn1c(NCc2cccc(Cl)c2)nc2ccccc21', 'CN(C)CC1CC2c3cc(F)ccc3Cc3ccc(F)cc3N2O1', 'COc1ccc(N(CC(=O)N2CCC(Cc3ccccc3)CC2)S(C)(=O)=O)cc1', 'Cc1ccc(C)c(N2CCN(S(=O)(=O)c3ccc4[nH]c5c(c4c3)CCCCC5)CC2)c1', 'COc1ccc2c(Sc3ccc(Cl)cc3)c(C(=O)N3CCCCC3)[nH]c2c1', 'Cc1cc(-c2ccc3c(c2)CCN(CCCSc2nnc(C4CCCC4)n2C)CC3)no1', 'COc1ccccc1N1CCN(CCCCNC(=O)C=Cc2ccc(-c3ccccc3)cc2)CC1', 'Fc1ccc(CN2CCN(c3ccc4c(c3)OCCO4)CC2)cn1', 'COc1cccc(OCCOc2ccc(C=C3C(=N)N4N=C(S(C)(=O)=O)SC4=NC3=O)cc2OC)c1', 'Cc1cc(NC(=O)CN2CCOCC2)n(-c2ccccc2)n1', 'CCCOc1cccc(CN2CCN(Cc3cc4ccccc4o3)CC2)c1', 'O=C(Cc1ccsc1)Nc1ccc(S(=O)(=O)C(F)F)cc1', 'O=C(CN1CCN(c2ccc(F)cc2)CC1)N1CCOCC1', 'OC(COCc1ccccc1)Cn1cnc2ccccc21', 'Cc1cc(C)c2nc(NC(=O)c3ccc4c(c3)OCO4)sc2c1', 'CC(C)=C1c2ccccc2C=C(C2=CCN(C)CC2)c2ccccc21', 'CN1CCc2cc(O)c(O)cc2C(c2ccccc2)C1', 'C=CCN(CC=C)C(=O)Nc1ccc2nc(C)sc2c1', 'COc1ccc2[nH]cc(CN3CCC(O)(c4ccc(Cl)cc4)CC3)c2c1', 'Clc1ccc(N2CCN(CCCOc3ccc(-c4nc5ccccc5[nH]4)cc3)CC2)cc1', 'CCOCCn1cc(CCCOc2ccc(CN3CCN(c4ccccc4OC)CC3)cc2OC)nn1', 'O=C(COc1ccc(C=NNS(=O)(=O)c2ccccc2)cc1)NCCc1ccccc1', 'CCCCN1CCCC1CNC(=O)c1cc(Cl)cc2c1OCCN2C', 'CN1CCc2ccc3nc(O)c4cccc5c4c3c2C1C5', 'CCON=C(CCN1CCN(c2ccccn2)CC1)c1ccccc1', 'CCCN1CCc2cccc3c2C1Cc1ccc(OS(=O)(=O)C(F)(F)F)c(OC)c1-3', 'CN(C)c1nc(N)nc(CSc2ccccn2)n1', 'Oc1[nH]cc2cc(F)c(OCCCCN3CCN(c4cccc5cccc(F)c45)CC3)cc12', 'CN1C2CCC1CC(OC(c1ccccc1)c1ccc(Cl)cc1)C2', 'O=C(Cn1nnnc1-c1ccccc1F)Nc1ccc(OC(F)(F)F)cc1', 'OC12C3C4CC5C6C4C1C6C(C53)N2CC1CCCCC1', 'CC(CCOS(N)(=O)=O)c1ccccc1', 'O=C(O)C(=Cc1c(C(=O)O)[nH]c2cc(Cl)cc(Cl)c12)c1ccccc1', 'CN1CCc2ccc3cnc4cccc5c4c3c2C1C5', 'COc1ccccc1S(=O)(=O)Nc1cc(S(=O)(=O)N2CCCCC2)ccc1N1CCOCC1', 'CN1CCN(C2=Nc3cc(Cl)ccc3N(NC(=O)c3ccccc3NC3CCCCC3)c3ccccc32)CC1', 'Cc1nnc(SCC(=O)Nc2ccc3c(c2)OCO3)o1', 'c1ccc(N2CCN(CCC3CCC(Nc4ncccn4)CC3)CC2)nc1', 'O=S(=O)(Nc1cccc(F)c1)c1ccc(-c2ccc(O)nn2)o1', 'Cc1ccc2c(-c3nnc(SCCCCN4CCc5cc6nc(C)oc6c(C)c5CC4)n3C)cccc2n1', 'CCc1c(Cl)cc(O)c(OC)c1C(=O)NCC1CCCN1CC', 'COc1ccccc1N1CCN(C2CCCN(C(=O)CCc3ccccn3)C2)CC1', 'COc1cccc(C=Cc2nc(C#N)c(N3CCCCCC3)o2)c1', 'CCc1nn(C)c2cc3c(cc12)CCN(CCCSc1nnc(-c2cccc4nc(C)ccc24)n1C)CC3', 'O=C1C=CC(=CNNC(=O)c2ccccc2-n2cccc2)C=C1[N+](=O)[O-]', 'CCN(C)CCc1c(-c2ccccc2F)[nH]c2ccccc12', 'C#Cc1cc(C(=O)NC2CCN(Cc3ccccc3)C2)c(OC)c2ccccc12', 'CCCN1CCOC2c3cc(-c4nnn[nH]4)ccc3CCC21', 'Cc1cccc(S(=O)(=O)NCCCCN2CCN(c3nsc4ccccc34)CC2)c1', 'CCN(CC)C(=O)CSC1=NC(=O)CC(=O)N1c1ccccc1OC', 'Cc1ccc(C)c(OCC(=O)Nc2sc3c(c2C#N)CCCC3)c1C', 'CC(=O)NC1CCC(CCN2CCc3ccc(C#N)cc3C2)CC1', 'CN1CCN(C2=Nc3ccccc3N(NC(=O)c3ccc(C#N)cc3)c3ccc(Cl)cc32)CC1', 'Cc1ccc(CN2CCN(C3CCc4cccc5c4N(C3=O)C(C)C5)CC2)cc1', 'CCCCCC=CC1=CC(c2ccc(OC)c(OC)c2)CC(=O)C1', 'Cc1ccccc1N1CCN(CCCCCC(=O)NC2CCCc3ccccc32)CC1', 'Cc1cccc(C2CN(C)CCc3c2cc(O)c(O)c3-c2ccc3ccccc3c2)c1', 'CNC1Cc2cccc3ncn(c23)C1', 'CCOCCOCc1ccc(C(=O)NCCCCN2CCN(c3ccccc3OC)CC2)cc1', 'COc1ccccc1N1CCN(CCCCN2CCc3cc(-c4ccncc4)ccc3C2=O)CC1', 'CN1CCN(C2=Nc3cc(Cl)ccc3N(NC(=O)c3nccc4ccccc34)c3ccccc32)CC1', 'c1ccc(C2=NC(CN3CCN(c4ccccc4)CC3)CS2)cc1', 'CC(C)C(=O)NC1CCc2ccc(CCN3CCN(c4nsc5ccccc45)CC3)cc21', 'Oc1[nH]cc2ccc(OCCCN3CCN(c4cccc5ccc(F)cc45)CC3)cc12', 'O=S(=O)(NCCCN1CCN(c2nsc3ccccc23)CC1)c1ccc2cc(Cl)ccc2c1', 'CSc1ccc(S(=O)(=O)N2CCC(C(=O)Nc3ccc(NC(C)=O)cc3)CC2)cc1', 'COc1cccc(C(=O)NCCCCCN2CCN(c3cccc(Cl)c3Cl)CC2)c1', 'COc1ccccc1N1CCCN(CCCCNC(=O)c2ccc(-c3ccccc3)s2)CC1', 'COc1ccccc1N1CCN(CCNS(=O)(=O)c2ccc3ccccc3c2)CC1', 'CN(C)S(=O)(=O)N(CC(=O)NCc1ccc(Cl)cc1Cl)c1ccccc1', 'CCSc1nnc(NC(=O)C(NC(=O)c2ccc(C(C)(C)C)cc2)C(C)C)s1', 'Cc1noc(C)c1COc1cccc(C(=O)Nc2ccccc2)c1', 'COc1ccc(C2=COC3(CCN(CCc4ccccc4)CC3)CC2=O)cc1', 'O=C1CCc2ccc(OCCCCN3CCC(O)(c4ccc(Cl)cc4)CC3)cc2N1', 'CN(C)c1nc(NN)nc(Nc2ccc(F)cc2)n1', 'CCc1ccc(N(CC(=O)NC(C)C)C(=O)CCC(=O)Nc2ccccn2)cc1', 'CCn1ncc(-c2cc(C(O)Nc3cccnc3)on2)c1C', 'CCc1cc(O)c(OC)c(C(=O)NCC2CCCN2CC)c1Br', 'COc1ccc(C2(CNC(=O)Cc3ccc(OC)c(OC)c3)CCCC2)cc1', 'CC1Cc2c([nH]c3ccccc23)Cc2ccccc2CCN1C', 'N#Cc1ccsc1NC(=O)CCN1CCN(C(c2ccccc2)c2ccccc2)CC1', 'CCC1(c2ccccc2)NC(=O)N(CC(=O)Nc2ccc3c(C)cc(=O)oc3c2)C1=O', 'Cc1ccc(OCC(=O)Nc2ccc3c(c2)sc(=O)n3C)cc1', 'CCC(=O)Nc1cccc2c1CCC1C2c2cc(O)c(Cl)cc2CCN1C', 'CC1(C)CN(C(=S)Nc2ccc(F)cc2F)C1=O', 'CN1CCN(C2=Cc3ccccc3Oc3ccc(Cl)cc32)CC1', 'CCc1ccc(NC(=O)c2ccc3c(c2)c(C)c(C)n3Cc2ccccc2)cc1', 'CCCN1CCC(c2cccc(S(=O)(=O)C3CCCC3)c2)CC1', 'COc1ccccc1N1CCN(CCCCNC(=O)Cc2ccc3ccccc3c2)CC1', 'NS(=O)(=O)c1ccc(CNC(=O)c2sccc2-c2ccccc2)cc1', 'COc1ccc(CNC(=O)C2CCN(S(=O)(=O)c3ccc(F)cc3)CC2)cc1', 'O=c1cc(-c2ccc(O)cc2)oc2ccccc12', 'O=C(NC1CCC2CC(N3CCN(c4ccccn4)CC3)CCC2C1)c1ccccc1', 'Cc1cccc(N2CCN(c3ncnc4c3nc3n4CCCCC3)CC2)c1C', 'N#Cc1ccccc1N1CCN(CNC(=O)c2ccc(Cl)cc2)CC1', 'CCCCCC(=O)Nc1cccc(C2=NOC3(C2)CC(C(N)=O)N(C(=O)C2(C)CC2)C3)c1', 'CC(C)c1ccccc1OCCN1CCC(NS(=O)(=O)c2cccc3cccnc23)C1', 'CCCc1cc2c(s1)CNC1CCc3cc(O)c(O)cc3C21', 'Cc1cc(CC(=O)O)n(C)c1C(=O)c1ccc(Cl)cc1', 'Cn1cc(C(=O)O)c(=O)c2cc(S(=O)(=O)N3CCOCC3)ccc21', 'Cc1nc2ccc(S(=O)(=O)NCC(=O)NCc3ccc4c(c3)OCO4)cc2s1', 'COc1cc2c(cc1O)CCN1Cc3c(ccc(OC)c3O)CC21', 'OCc1cc(C(O)CNCCc2ccc(CNCCc3ccccc3)cc2)ccc1O', 'c1cnc(N2CCN(Cc3c[nH]c4ncccc34)CC2)nc1', 'CCN1CCCC1CNC(=O)c1cc(Cl)cc(O)c1OC', 'COc1cc(C=CC(=O)O)cc(S(=O)(=O)NCc2ccc3c(c2)OCO3)c1OC', 'Cc1cc(C)n2ncc(C(N)=NOC(=O)Nc3ccccc3)c2n1', 'CCCN1C(=N)C(N2CCCCC2)C(=O)N(CC(=O)Nc2ccccc2C)C1=O', 'C=CCn1c(S)nnc1-c1ccccc1OC', 'O=C(CCNC(=O)c1ccccc1Cl)Nc1cccc(S(=O)(=O)N2CCOCC2)c1', 'CCOC(=O)c1oc2c(c1C)C(=O)CC(CN1CCC(c3noc4cc(F)ccc34)CC1)C2', 'CCC(C)C(=O)Nc1ncc2c(n1)CC(c1cccs1)CC2=O', 'c1ccc(-c2cccc(CN3CCN(c4cccc5c4CCCN5)CC3)c2)cc1', 'Clc1ccc(N2CCN(Cc3cn4nc(N5CCCCC5)ccc4n3)CC2)cc1Cl', 'CCCCOC(=O)c1cc2c3c(ccc2[nH]1)OCC(CN1CCC2(CC1)C(=O)NCN2c1ccccc1)O3', 'COc1ccccc1NS(=O)(=O)c1cccc(C(=O)NN)c1', 'S=C(Nc1ccc2nsnc2c1)NC1CCCCC1', 'CCN1C(=O)c2ccccc2[S+]([O-])c2ccc(NC(=O)Cc3ccc(OC)cc3)cc21', 'O=C(Nc1ccc(Br)cc1F)c1ncoc1-c1ccco1', 'CN1CCc2cc(Cl)c(O)cc2C2c3cccc(Br)c3CCC21', 'O=S1(=O)Cc2ccccc2N1CCCN1CCN(Cc2ccc(Cl)cc2)CC1', 'COc1cc(CCC(=O)Nc2ncc(C)s2)cc(OC)c1OC', 'CCn1c(C)c(C2=CCN(S(=O)(=O)c3ccc(C)cc3)CC2)c2ccccc21', 'Clc1ccc(CN2CCC(c3cc(-c4ccc(Cl)cc4)n[nH]3)CC2)cc1', 'Cn1c(=O)c2c(nc(NCCCO)n2Cc2cccc(Br)c2)n(C)c1=O', 'CCCNC1CCc2ccc(OS(=O)(=O)C(F)(F)F)cc2C1', 'CCCc1cc(O)c(OC)c(C(=O)NCC2CCCN2CC)c1', 'O=C(COC(=O)c1ccccc1SCC(=O)N1CCCC1)Nc1ccc(OC(F)F)cc1', 'COc1ccc(C(=O)NNC(=S)NC(=O)c2ccccc2[N+](=O)[O-])cc1', 'CC(C)c1ccc(CNNC(=O)c2ccccc2)cc1', 'COC(=O)c1c(NC(=O)C2Cc3ccccc3C(=O)O2)sc2c1CCCC2', 'Cc1sc(C)c2c1CCCc1cnn(C(C)C)c1-2', 'COc1ccc(C=CC(=O)c2ccc(C)c([N+](=O)[O-])c2)cc1O', 'CCCCn1c(CNC(=O)C23CC4CC(CC(C4)C2)C3)nnc1SCC(=O)Nc1ccccc1', 'Cc1ccccc1C(=O)N1c2ccc(Cl)cc2N=C(N2CCN(C)CC2)c2ccccc21', 'O=C1N(CCN2Cc3ccccc3C2)CCN1c1ccc(F)c(Cl)c1', 'CC1CCc2ccccc2N1C(=O)CN1CCN(Cc2ccc(Cl)cc2)CC1', 'CCCN1CCC(N2C(=O)C(=O)c3ccccc32)CC1', 'CN1CCC(=C2c3ccccc3CCc3sccc32)CC1', 'CC(C)CCOc1ncnc2c1sc1nc3c(cc12)CSC(C)(C)C3', 'O=C(CN(C(=O)CNC(=O)c1cccs1)c1ccccc1F)NC1CCCCC1', 'O=C(OCC(=O)N1CCCCCC1)c1cnc(Cl)c(Cl)c1', 'CCCNC1CCc2c(OS(=O)(=O)C(F)(F)F)cccc2C1C', 'Cc1ccc(Nc2cc(C)nc3ccc(C)cc23)cc1', 'CC(N)Cc1c[nH]c2ccccc12', 'CCCN1CCC2c3c(O)cccc3CCC21', 'Cc1cc2nc(C)c(CN3CCN(c4ccccn4)CC3)n2c(C)n1', 'O=C(Nc1ccccc1C(F)(F)F)c1ccc(CN2CCC(Cc3ccccc3)CC2)cc1', 'C=C1C(=CC=C2CCCC3(C)C2CCC3C(C)CC2OC(=O)C(=C)C2CCCC)CC(O)C(C)C1O', 'COc1ccc(N(C)S(=O)(=O)c2ccc(C)cc2)c([N+](=O)[O-])c1', 'CCC(c1nnc(SCC(=O)N2CC(=O)Nc3ccccc32)n1Cc1ccccc1)N(C)C', 'CCN1C(=O)c2ccccc2[S+]([O-])c2ccc(C(=O)Nc3ccccc3)cc21', 'CC(C)(C)c1ccc(C(=O)N=C(Cc2ccco2)C(=O)O)cc1', 'COC(=O)c1c(NC(=O)CN(c2ccc(C)c(C)c2)S(C)(=O)=O)sc2c1CCCC2', 'COc1ccccc1N1CCN(CCCN=C2COc3ccccc3N2)CC1', 'CN1CCCC(CN2c3ccccc3Sc3ccccc32)C1', 'CCOc1ccc(-c2nc3n(c(=O)c2C#N)CCCS3)cc1', 'O=C(OCCN1CCN(CCCN2c3ccccc3Sc3ccc(C(F)(F)F)cc32)CC1)c1ccc(OCCCN2CCCCC2)cc1', 'CCc1c(C)nc(SCCOc2ccc(OC(C)C)cc2)nc1O', 'CC(C)Oc1ccccc1N1CCN(Cc2cccc(C(=O)N3CCCCC3)c2)CC1', 'CN1CCN(C2=Nc3cc(Cl)ccc3N(NC(=O)c3ccccc3)c3ccccc32)CC1', 'COc1ccc(NC(=O)NC2CCC(N3CCN(c4ccccc4OC(C)C)CC3)CC2)c(OC)c1', 'CCCc1nnc(O)c2c1nnn2Cc1ccccc1F', 'CN1CCN(C2=CC3=CC(=C(C#N)C#N)CCC3CC2)CC1', 'CCOC(=O)N1CCN(C(=O)CNC(=O)c2nn(-c3ccc(OC)c(OC)c3)c(=O)c3ccccc23)CC1', 'O=C(CSc1nc(O)c2c3c(sc2n1)CCC3)NCCO', 'CNc1ccccc1C(=O)CCCN1CCC2C(C1)c1cccc3c1N2CCCS3', 'CC(C)(C)c1nc(N2CCN(CCCCn3c(=O)ccc4ccccc43)CC2)cc(C(F)(F)F)n1', 'CCC(=O)c1ccc(OCC(=O)N2CCN(S(=O)(=O)c3ccc(Cl)s3)CC2)cc1', 'COc1ccccc1C=CC=NNC(=O)c1ccc(=O)n(C)c1', 'N#Cc1cccc(-c2cccc(CN3CCN(c4cccc5nc(O)oc45)CC3)c2)c1', 'Cc1ccc(Cl)cc1N1CCN(C(=O)Cn2cnc3onc(-c4ccc(F)cc4)c3c2=O)CC1', 'COc1ccc(Br)cc1-c1nc(CNCC2CCN(Cc3ccccc3)C2)cs1', 'COc1cccc(N2CCN(CCNC(=O)c3cc(Br)c4ccccc4c3OC)CC2)c1', 'CCCN1CCN(c2ccccc2)CC1', 'O=C(C1CCN(c2nnc(-n3cccc3)s2)CC1)N1CCc2ccccc2C1', 'O=C(COc1cc(Cl)c(Cl)cc1Cl)Nc1ccncc1', 'NC(=O)c1ccc2c(c1)CCOC2CCN1CC=C(c2c[nH]c3cc(F)ccc23)CC1', 'CC(C)C1(NC(=O)C2CC3c4cccc5[nH]cc(c45)CC3N(C)C2)OC2(O)C3CCCN3C(=O)C(Cc3ccccc3)N2C1=O', 'Cc1c(Cl)cccc1N1CCN(CCCCOc2ccc3c(n2)NC(=O)CC3)CC1', 'Cc1cn(CCCCN2CCN(c3cc(C(F)(F)F)nc(C(C)(C)C)n3)CC2)c(=O)n(C)c1=O', 'CC(=O)n1ccc2cc(N3CCN(CCN4Cc5ccccc5C4)C3=O)ccc21', 'COc1cc2c(C(=O)N3CCN(C)CC3)c(C)n(-c3ccccc3)c2cc1Br', 'Cc1cccc(NC(=O)C2(C)Cc3ccccc3C(=O)O2)c1', 'COc1ccc(Cl)cc1S(=O)(=O)NC1CCC(N2CCC(c3ccccc3OC3CC3)CC2)CC1', 'Cc1cc(Cl)c(OCCCCNC(C)(C)C)c(Br)c1', 'O=C1C(=Cc2ccncc2)SC(=S)N1Nc1ccccc1', 'CCOC(=O)C(C#N)=Cc1ccc(N2CCCCC2)cc1', 'Clc1cccc(N2CCN(CCCOc3ccc4c[nH]nc4c3)CC2)c1Cl', 'COc1ccccc1N1CCCN(CCCCNC(=O)c2ccc(SC)cc2)CC1', 'OS(=CCCN1CCC(c2ccc(Cl)cc2)CC1)c1ccc(F)cc1', 'CCOC(=O)c1cnc2c(C)ccc(Cl)c2c1O', 'O=C(Cn1c(=O)c2ccccc2n(CC(=O)Nc2ccc(Cl)cc2)c1=O)NCCc1ccccc1', 'COc1ccc2[nH]c3c(c2c1)CC=NC3C', 'COc1ccc(OC)c(S(=O)(=O)NC2CCC(N3CCN(c4ccccc4OC(C)C)CC3)CC2)c1', 'CN1CCN(c2ccc(NC(=O)COc3cccc4ccccc34)cc2)CC1', 'C=CCN1CC=C(C2=Cc3ccccc3Cc3ccccc32)CC1', 'O=C(NCCCCN1CCN2c3ccccc3Cc3ccccc3C2C1)c1ccc2ccccc2c1', 'Cc1sc2ncnc(N(C)Cc3cccs3)c2c1C', 'Nc1cc(F)ccc1C(=O)CCCN1CCC2C(C1)c1cccc3c1N2CCC3', 'CCOC(=O)c1cc(-c2ccccc2)sc1NC(=O)C(C)Sc1nnnn1C', 'CCOc1ccc(-c2c(C(=O)NN=C(C)c3cccnc3)nnn2-c2nonc2N)cc1', 'COc1ccc(OCCCC(=O)NCC(C)C)cc1', 'CC(=O)Oc1c2ccccc2c(O)n1Cc1ccccc1', 'COc1ccc(CN2CCCC(CO)(Cc3ccc(F)cc3)C2)c(OC)c1OC', 'Cc1c(Cl)cccc1NC(=S)NCCCN(C)C', 'OCc1nc2ccccc2n1CCCOc1ccccc1', 'COc1ccc(NC(=O)c2ccc(-c3ccccc3)cc2)cc1S(=O)(=O)N1CCOCC1', 'O=C(NCCCN1CCN(c2ccccc2)CC1)c1cccc2c1-c1ccccc1C2=O', 'COc1cccc2[nH]cc(CN3CCC(n4c(O)nc5ccccc54)CC3)c12', 'CCCn1c(C)nc2c(c1=O)c1nc3ccccc3nc1n2CCC1=CCCCC1', 'CC(C)OC(=O)c1c(N)n(Cc2ccco2)c2nc3ccccc3nc12', 'Cc1ncoc1-c1nnc(SCCCN2CC3CC3(c3cccc(C(F)(F)F)c3)C2)n1C', 'Cc1nn(-c2ccccc2)cc1CN1CCN(c2ccccc2)CC1', 'COc1cccc(-n2c(=O)c3sccc3n(CC(=O)NCC3CCCO3)c2=O)c1', 'CC(C)N(Cc1ccccc1)C(=O)COC(=O)c1ccc2ncsc2c1', 'Cc1ccc2c(c1)N(C(=O)CN1CCN(Cc3ccc(Cl)cc3)CC1)CC2', 'COc1ccc2[nH]cc(CN3CCC(O)(c4ccc(Cl)cc4)CC3)c2c1', 'COc1ccccc1N1CCN(CCCNC(=O)Cc2cccc3ccccc23)CC1', 'Cc1ccc(-c2ccc(=O)n(CC(=O)NCCc3ccccc3)n2)cc1', 'CC(C)c1ccccc1OCCN1CCC(NS(=O)(=O)c2cccc(Cl)c2)C1', 'COc1ccccc1N1CCN(CCCCNC(=O)C=Cc2ccc3c(c2)OCO3)CC1', 'CNc1cc(OC)c(C(=O)NC2CCN(Cc3ccccc3)CC2C)cc1Cl', 'COc1ccc(OC)c(NC(=O)CCN2CCN(c3ccccc3OC)CC2)c1', 'Oc1[nH]cc2ccc(OCCCCN3CCN(c4cccc5cccc(F)c45)CC3)cc12', 'Clc1ccc(-c2cc(C3CCN(CCc4ccccc4)CC3)[nH]n2)cc1', 'COc1cc2c(cc1O)C1Cc3cc(C)cc(C)c3CN1CC2', 'COc1cccc(C(=O)NCCCCN2CCN(c3ccc(Cl)cc3)CC2)c1', 'CC(C)c1nnc(NC(=O)CCC(=O)N2CCN(c3ccc(F)cc3)CC2)s1', 'Clc1ccc(SCCn2cncn2)cc1', 'CC1CN(C(=O)c2ccccc2OCc2ccccc2Cl)CC(C)O1', 'Cn1c(=NNC(=O)C2CCCCC2)sc2ccccc21', 'Clc1ccc2nc(C3=CCN(Cc4ccccc4)CC3)[nH]c2c1', 'O=C(c1c(F)c(F)c(F)c(F)c1F)N(Cc1ccccc1)Cc1ccccc1', 'CCN(CC)S(=O)(=O)c1ccc2c(c1)nc(CN(C)C(=O)Nc1ccc(F)cc1)n2C', 'O=C(NNS(=O)(=O)c1ccccc1)c1ccc(O)cc1', 'CCN1CCN(C(=O)C2COc3ccccc3O2)CC1', 'Oc1ccc2c(c1)OC(CN1CCc3ccccc3C1)CC2', 'O=Cc1cnn2ccc(OCCCCN3CCN(c4cccc(Cl)c4Cl)CC3)cc12', 'CCCN1CCOC2c3cc4c(O)[nH]cc4cc3CCC21', 'Cn1c(CN2CCC(c3ccc(C(F)(F)F)cc3)CC2)nc2ccccc21', 'CCN(CC)CCNC(=O)c1ccc(NC(=O)Cc2cccc3ccccc23)cc1', 'CC(=O)c1ccc(N2C(=NC(=O)C3CCCO3)SC3C=S(O)(O)=CC32)cc1', 'Cc1ccc2c(-c3nnc(SCCCN4CCc5cc6nc(C(C)(C)C)oc6cc5CC4)n3C)cccc2n1', 'O=C(NCC=CCN1CCN(c2cccc(Cl)c2Cl)CC1)c1ccc(Cl)cc1', 'Cc1ccc(-c2nc(C=S(O)CC(=O)NCCN3CCCC3)c(C)o2)cc1', 'COCCCNC(=O)N1C(c2cccs2)C(C)C(=O)C(C)C1c1cccs1', 'CCOC(=O)Cn1c(=O)oc2cc(S(=O)(=O)N3CCN(c4cccc(C)c4)C(C)C3)ccc21', 'Cc1ccccc1-n1c(SCC(=O)C2C(=N)N(C)C(=O)N(C)C2=O)nc2sc3c(c2c1=O)CCCC3', 'COc1cc2c(cc1OC)CN(C=Nc1ccc3c(c1)N(C(=O)OC(C)(C)C)CC3)CC2', 'Cn1cnnc1SCC(=O)Nc1ccc2nc(SCc3ccccc3)sc2c1', 'O=C(CCl)N(CCc1ccccc1)CCc1ccccc1', 'O=Cc1cnn2cc(OCCCCN3CCN(c4cccc(Cl)c4Cl)CC3)ccc12', 'CC(=O)c1ccc(S(=O)(=O)Nc2cccc(-c3ccc(N4CCOCC4)nn3)c2)cc1', 'CCOC(=O)c1cc2c(ccn2C)n1Cc1ccc(Cl)cc1', 'Cc1cc(-c2ccc3c(c2)CCN(CCCSc2nnc(C(C)(C)C)n2C)CC3)no1', 'CCCN1CCN(c2cccc(O)c2)CC1', 'CCOC(=O)c1ccc(CNC(=O)C2CCCCC2C(=O)OCC(F)(F)F)o1', 'O=C(OCCc1ccc(F)cc1)N1CCN(CCCC(c2ccc(F)cc2)c2ccc(F)cc2)CC1', 'CON=C(CCN1CCN(c2ccccn2)CC1)c1ccc(Cl)c(Cl)c1', 'CN(C=Nc1ccc2c(c1)C(O)CC2)Cc1ccccc1', 'CCOc1ccc(NC(=S)NN=C(C)Cc2ccc(OC)cc2)cc1', 'CCN(CC)S(=O)(=O)c1cccc(-n2cc(O)c(-c3ccccc3)c2N)c1', 'Fc1ccc(C(OCCN2C3CCC2CC(OC(c2ccc(F)cc2)c2ccc(F)cc2)C3)c2ccc(F)cc2)cc1', 'Cc1cc(-c2ccc3c(c2)CCN(CCCSc2nnc(-c4ccccc4)n2C)CC3)no1', 'CCC(CO)NCc1ccc(OCC(=O)Nc2cccc(C(F)(F)F)c2)c(OC)c1', 'COc1ccccc1N1CCN(CCCCNC(=O)c2ccc(F)nc2)CC1', 'CCCN(C(=O)c1cn(-c2ccccc2)nc1-c1ccc(OC)cc1)C1C=S(O)(O)=CC1', 'COc1ccccc1N1CCCN(CCCCNC(=O)c2ccc(C)s2)CC1', 'COc1ccc(-c2nnc(SCC(=O)O)n2Cc2ccccc2)cc1', 'CC(=O)c1c(C(C)=O)c(C)n(-c2ccc(C(=O)O)cc2)c1C', 'O=C1CC(CN2CCC(C(=O)c3ccc(F)cc3)CC2)Cc2occc21', 'CC1Oc2c(cccc2N2CCN(CCCc3c[nH]c4ccccc34)CC2)NC1=O', 'Cc1ccc2cc(CCNS(=O)(=O)c3ccc(F)cc3)c(O)nc2c1', 'O=S(=O)(NCCCCN1CCC(c2noc3cc(F)ccc23)CC1)c1cc2ccccc2s1', 'CC(C)(C)C1(O)CCN2CC3c4ccccc4CCc4cccc(c43)C2C1', 'COc1cccc(C2=NCCc3c2[nH]c2ccc(OC)cc32)c1', 'CC(=O)c1ccc(NS(=O)(=O)c2ccccc2)cc1', 'CCOc1ccc(C(C)=O)cc1COc1ccc(-c2nnco2)cc1', 'CCN(C)CCc1c(-c2cccc([N+](=O)[O-])c2)[nH]c2ccccc12', 'Cc1c(C(=O)N2CCC(C)CC2)sc2ncn(CC(=O)N3CCC(C)CC3)c(=O)c12', 'NC(=O)c1ccc(S(=O)(=O)C2CCN(CCc3ccc(F)cc3F)CC2)cc1', 'COc1ccccc1N1CCN(CCCNC(=O)Cc2ccc3ccccc3c2)CC1', 'CC(C)(Oc1ccc(Br)cc1)C(=O)Nc1cc(-c2nc3ccccc3[nH]2)ccc1Cl', 'CCCN1CCCC(c2cccc(OS(=O)(=O)C(F)(F)F)c2)C1', 'CCCCCCCCCC(=O)N1c2ccc(Cl)cc2N=C(N2CCN(C)CC2)c2ccccc21', 'COc1ccccc1C1CC(c2ccccc2)=NN1S(=O)(=O)c1ccccc1', 'Cc1ccc(Cn2cnc3c(cnn3-c3ccc(F)cc3)c2=O)cc1', 'CCCN(CCCCNC(=O)c1ccc(-c2ccccc2)cc1)C1CCn2nccc2C1', 'Cc1cnc(-c2ccc3c(c2)CCN(CCCSc2nnc(-c4ccc5[nH]ccc5c4)n2C)CC3)o1', 'COc1ccc(Br)cc1C(=O)NCC1CCN(Cc2ccccc2)C1', 'CC(C)Oc1ccccc1N1CCN(C2CCC(NC(=O)Nc3ccc(F)c(F)c3)CC2)CC1', 'COc1ccc(N(CC(=O)Nc2ccc(C)c(C)c2)S(=O)(=O)c2c(C)noc2C)cc1', 'Cc1nnsc1C(=O)Oc1ccc(C(C)C)cc1', 'COc1ccc(Cl)cc1C(=O)NCC(=O)OCc1ccccc1', 'CCN(CC)CC(C)OC(=O)COc1ccc(OC)cc1', 'O=S(=O)(NCCCN1CCC(c2noc3cc(F)ccc23)CC1)c1ccc(OC(F)(F)F)cc1', 'CCC1(c2ccccc2)NC(=O)N(CC(=O)NCc2ccc(F)cc2)C1=O', 'CCCN(CCN1CCN(c2ccccc2)CC1)C1CCc2ccc(N)cc2C1', 'CCOC(=O)c1ccc(Nc2cc(C)nc(-c3ccccc3)n2)cc1', 'COc1cccc2c1CCC(NCc1ccccc1)C2', 'COc1cccc2sc3ccc(NCCC4CCCN4C)cc3c(=O)c12', 'Cc1cc(C)c(NC(=O)COC(O)c2ccc(O)[nH]2)c(C)c1', 'Cn1c(=O)[nH]c(=O)c2c1nc(N1CCCC1)n2CCCSc1nc2ccccc2o1', 'CN(C)C1C(=O)C(C(N)=O)=C(O)C2(O)C(=O)c3c(O)c4c(c(O)c3CC12)C(Cl)=CCC4O', 'Cc1ccc(NC(=O)c2cc(-c3ccc(Br)s3)nc3ccccc23)cc1F', 'COc1cccc(C(=O)NCCCN2CCN(c3ccccc3OC)CC2)c1', 'COc1cccc(C(=O)NCC=CCN2CCN(c3cccc(Cl)c3Cl)CC2)c1', 'Cc1ccc(C(=O)NC2CCC(CCN3CCN(c4cccc(Cl)c4Cl)CC3)CC2)s1', 'Cc1ccc2c(-c3nnc(SCCCN4CCc5cc6nc(N7CCCCC7)oc6cc5CC4)n3C)cccc2n1', 'O=C(Nc1ccccc1F)Nc1ccccc1OC(F)F', 'Cc1nc2ccc(C(=O)N3CCN(c4ccccn4)CC3)cc2s1', 'COc1ccc(Cl)cc1NC(=O)CN(C)C(=O)c1cc2ccccc2cc1OC', 'COc1ccccc1N1CCN(CCCCNC(=O)C=Cc2cccc(Oc3ccccc3)c2)CC1', 'CCOC(=O)c1ccc(NC(=O)Cn2cnc(S(=O)(=O)N3CCCC3)c2)cc1', 'O=C(CCCc1ccccc1)Nc1ccnn1C1CCN(Cc2ccccc2)CC1', 'COc1ccc(NC(=S)NNC(=O)CNc2ccc(Cl)cc2)cc1', 'N#Cc1c(-c2ccccc2)cc(C2CC2)nc1SCC(=O)O', 'CCCNC(=O)CSC1=NC(=Cc2ccc(F)cc2)C(=O)N1CC', 'OC1(c2cccc(Cl)c2Cl)CC2CCC(C1)N2Cc1coc2ccccc12', 'CCCCC1CCN(CCCC(=O)c2ccccc2C)CC1', 'O=C(C=Cc1ccccc1)NCCCCN1CCN(C(c2ccccc2)c2ccccc2)CC1', 'COc1ccc(S(=O)(=O)N2CCN(C(=O)c3ccco3)CC2)c(C)c1C', 'N#CC(=NNc1cccc(Cl)c1)C(=O)c1ccccc1', 'Sc1nc2ccc(CCCN3CCN(c4ccccc4)CC3)cc2[nH]1', 'CCOc1cc(C2NC(=O)N=C(c3ccccc3)C2C(=O)c2ccccc2)c(Br)cc1OCC(=O)O', 'CC(=O)c1ccc(NC(=O)NC(CC(C)C)C(=O)O)cc1', 'CCOC(=O)C1CCN(C(=O)c2ccc3c(c2)S(=O)(=O)c2ccccc2C3=O)CC1', 'Cc1cc(-c2ccc3c(c2)CCN(CCCSc2nnc(C(C)C)n2C)CC3)no1', 'CCCN(CCC)C1CCc2c(ccc(O)c2O)C1', 'COc1ccc(NC(=O)CSc2nnc(-c3ccco3)c(-c3ccco3)n2)cc1OC', 'Cc1ccc(C(=O)NCCCN2CCOCC2)cc1N1CCCC1=O', 'Cc1ccc(Cl)cc1NC(=O)C1CCN(C(=O)c2cnn(-c3ccccc3)c2-n2cccc2)CC1', 'CN1CCN(C2=Nc3cc(Cl)ccc3N(NC(=O)c3ccccc3Cl)c3ccccc32)CC1', 'Cn1c(=NC(=O)c2ccc(S(=O)(=O)N3CCCc4ccccc43)cc2)sc2cc(F)ccc21', 'O=S(=O)(NC1CCCCC1N1CCC(O)CC1)c1ccccc1', 'c1ccc(Cc2nc3c(c(Nc4ccccc4)n2)CCNCC3)cc1', 'Cc1ccc(-n2c(SCC(N)=O)nnc2-c2cccnc2)c(C)c1', 'O=C(NCCCCN1CCN(c2cccc(Cl)c2Cl)CC1)c1ccc(-c2cccnc2)cc1', 'Cc1ccc(CN2CCC(NC(=O)c3cccc(-c4cccs4)c3)C2)cc1', 'CN1CCc2cc(Cl)c(O)cc2C2c3cccc(CO)c3CCC21', 'Cc1ccc(S(=O)(=O)N2CCCN(S(=O)(=O)c3ccc(C(F)(F)F)cc3)CC2)cc1', 'CCc1noc(C)c1C(=O)Nc1ccc(S(=O)(=O)N2CCCCC2)cc1', 'Fc1ccccc1N1CCN(CCCCc2cc(C=Cc3ccccc3)no2)CC1', 'CCOC(=O)c1nnn(-c2nonc2N)c1CNC(C)C', 'CC1CC2(CCCCC2)NCc2cc([N+](=O)[O-])ccc21', 'O=S(=O)(NC1CCC(N2CCN(c3ccccc3OCC3CC3)CC2)CC1)c1cc(Cl)ccc1F', 'O=C(O)c1csc(-c2ccccc2)n1', 'OCC1C2CN(Cc3ccccc3)C(c3ccccc3)C2C1N1CCCC1', 'Oc1ccc(-c2c(-c3cscn3)c(C(F)(F)F)nn2-c2ccccc2)c(O)c1', 'COc1ccc(C(=O)c2c(O)c(O)n(-c3nc(C)c(C)s3)c2-c2ccco2)cc1', 'COc1ccccc1-c1nnc(SCCCN2CCc3ccc(-c4cc(C)on4)cc3CC2)n1C', 'COc1ccc(S(=O)(=O)NC2CCC(N3CCC(c4ccccc4OCC(F)(F)F)CC3)CC2)cc1OC', 'c1ccc(CNCCOc2cccc3n[nH]cc23)cc1', 'CC1CCN(C(=O)c2ccccc2)c2c(CCN3CCN(c4nsc5ccccc45)CC3)cccc21', 'CC(NCC(=O)Nc1ccccc1C(=O)NC1CC1)c1ccccc1Cl', 'N#CCCN(C(=O)COC(=O)c1ccc(S(=O)(=O)Nc2ccccc2)cc1)c1ccccc1', 'CCS(=O)(=O)n1nc(-c2ccccc2)nc1SCc1ccccc1', 'CCOc1ccc(C(=O)Nc2cccc(OC=C3CC(=O)N4C=C(C)SC4=N3)c2)cc1', 'O=C(Nc1ccc2coc(O)c2c1)c1sccc1Cl', 'Cc1cc(Br)ccc1SCC(=O)NNC(=O)c1ccco1', 'COc1ccccc1N1CCN(CCCCNC(=O)C=Cc2ccc(C(C)(C)C)cc2)CC1', 'CC(C)C(NC(=O)C1(c2ccccc2)CCN(C(=O)OC(C)(C)C)CC1)C(=O)O', 'COc1c(C(=O)NCCN2CCN(c3cccc(Cl)c3)CC2)cc(Br)c2ccccc12', 'Oc1cc2c(cc1Cl)CCC(CNCc1ccccc1)O2', 'Cn1nnnc1SCc1ccccc1F', 'Cc1ccc(NC(=O)C(C#N)=Cc2ccc(Cl)cc2Cl)cc1C', 'Cc1ccc(-n2nnnc2C(Cl)(Cl)c2nnnn2-c2ccc(C)cc2)cc1', 'O=C(NCc1ccco1)c1ccc(=O)oc1', 'CN1CCN(C2=Nc3cc(Cl)ccc3N(NC(=O)c3cc(F)ccc3C(F)(F)F)c3ccc(Cl)cc32)CC1', 'COC1OC(C)C(O)CC1NC(=O)OCc1ccccc1', 'O=C(O)c1ccccc1-c1ccccc1C(=O)Nc1ccc(F)cc1', 'O=C(Nc1cccc(Cn2ncc(N3CCNCC3)c(Cl)c2=O)c1)c1ccc(-c2ccccc2)cc1', 'COc1ccc(S(=O)(=O)NC2CCC(N3CCN(c4ccccc4OCC(F)(F)F)CC3)CC2)cc1OC', 'O=S(=O)(NCCCN1CCN(c2cccc(Cl)c2Cl)CC1)c1ccc2cccnc2c1', 'CC1(C)N=C(c2ccc(Cl)cc2)C(=O)N1', 'O=C(c1ccco1)N1CCCC(c2nc(O)c3nnn(Cc4c(Cl)cccc4Cl)c3n2)C1', 'Oc1ccc(N2CCN(Cc3cccs3)CC2)cc1', 'COc1cccc(C(=O)NCCCN2CCN(c3cccc(Cl)c3Cl)CC2)c1', 'Cc1ccc(C2CCN(Cc3ccc4c(c3)NC(=O)CO4)CC2)cc1', 'Cn1c(=O)c2c(nc(N3CCCCC3)n2CCSc2nc3ccccc3s2)n(C)c1=O', 'CCN(C(=O)CSc1nnc(-c2cccs2)n1N)C1C(=N)N(Cc2ccccc2)C(=O)NC1=O', 'Nc1nc2cc3c(cc2s1)CCN(Cc1cccnc1)CC3', 'CCOc1ccccc1NC(=O)CC1NCCNC1=O', 'O=C1c2ccccc2C(=O)N1CCCCN1CC=C(c2c[nH]c3ccc(F)cc23)CC1', 'CC(=O)c1ccc(NC(=O)C(=Cc2ccc(F)cc2)NC(=O)c2ccco2)cc1', 'O=C(NC1CCCCC1)c1n[nH]c2c1CC(c1ccccc1)CC2', 'Clc1ccc(N2CCN(CC3CC3c3ccccc3)CC2)c(Cl)c1', 'CCCN(CCC)CCC1CCC(Nc2ncccn2)CC1', 'CC(C)CC1C(=O)N2CCCC2C2(O)OC(NC(=O)C3Cc4c(cc5c[nH]c6c5c4C=CC6)N(C)C3)(C(C)C)C(=O)N12', 'O=S(=O)(NCCCCN1CCC(c2noc3cc(F)ccc23)CC1)c1ccc(Cl)c(Cl)c1', 'CN1CCCc2c1cccc2N1CCN(CCCc2c[nH]c3ccccc23)CC1', 'Fc1ccc(C(OC2CC3CCC(C2)N3Cc2ccccc2)c2ccc(F)cc2)cc1', 'COc1cccc(C(=O)NCCN2CCN(c3ccccc3OC)CC2)c1', 'O=S1(=O)CCOCCN1Cc1ccc(Cl)cc1Cl', 'COc1ccccc1N1CCN(CC(F)CCNC(=O)c2ccc(-c3ccccn3)cc2)CC1', 'Cc1ccc(SCC(=O)C(C#N)c2nc3ccccc3n2C)cc1', 'Cc1ccc(C(=O)Nn2cc(O)c(-c3nc(-c4cccc([N+](=O)[O-])c4)cs3)c2N)cc1', 'Cc1ncoc1-c1nnc(SCCCNC2CC3CC3(c3ccccc3)C2)n1C', 'CCN(c1ccccc1C)S(=O)(=O)c1ccc(N2CCCCS2(=O)=O)cc1', 'OC1(c2ccc(Br)cc2)CCN(Cc2c[nH]c3cccc(OCCF)c23)CC1', 'CCSC1=NC2=CCCC(=O)C2C(CC(C)C)C1C#N', 'COc1cccc(C=CC(=O)OCC(=O)C2C(=N)N(C)C(=O)N(C)C2=O)c1', 'COc1ccccc1N1CCN(CCCCNC(=O)C=Cc2ccsc2)CC1', 'Cc1ccc2c(-c3nnc(SCCCN4CCc5cc6nc(C)oc6c(C)c5CC4)n3C)cccc2n1', 'COc1ccccc1N1CCN(CCCCNC(=O)C2(c3ccc(Cl)cc3)CCCC2)CC1', 'CC(C)(C)OC(=O)NCCN1CCC(O)(c2ccc(Cl)cc2)CC1', 'COC(=O)c1ccc(NC(=O)CSc2nncn2C)cc1', 'Cc1ccc(C(=O)NCN2CCN(c3ccccc3C#N)CC2)cc1', 'COc1cc(Cl)c(N=C2CC(=O)C(=O)c3ccccc32)c(OC)c1', 'Cc1ccc(OCCNCCCOc2ccc(Br)cc2)cc1', 'Cc1cccc(S(=O)(=O)NCCCN2CCN(c3nsc4ccccc34)CC2)c1', 'Oc1nc2c(O)ccc(C(O)CNCCc3ccc(CNCCc4ccccc4)cc3)c2s1', 'C=CCNc1ccc(N2C(=O)CCCC2=O)cc1[N+](=O)[O-]', 'O=S(=O)(c1cccc(F)c1)N1CCC(c2nc3ccccc3s2)CC1', 'Oc1[nH]cc2ccc(OCCCN3CCN(c4cccc5cccc(F)c45)CC3)c(F)c12', 'O=S1(=O)Cc2ccccc2N1CCCN1CCN(Cc2ccc(Cl)cc2)CC1', 'CN1CCCC(CN2c3ccccc3Sc3cccnc32)C1', 'O=C1N(CCN2Cc3ccccc3C2)CCN1c1ccc(Cl)c(Cl)c1', 'O=C(COC(=O)CNC(=O)c1ccco1)Nc1ccc(F)cc1', 'Cc1cccc(C2CC(c3ccc(F)cc3)Nc3nc(N)nn32)c1', 'Cc1nc(-c2cccnc2)sc1C(=O)Nc1ccc(Cl)cc1', 'Cc1coc2c(C)c3oc(=O)c(CCC(=O)NCCC(=O)O)c(C)c3cc12', 'CCOC(=O)c1sc(NC(=S)NC(=O)c2ccco2)nc1C', 'COc1cccc(NC=C2C=CC(=O)C=C2O)c1', 'CCOc1ccccc1NC(=O)C1CCN(S(C)(=O)=O)CC1', 'O=C(CCS(=O)(=O)c1ccc(Br)cc1)N1CCN(c2ccccc2)CC1', 'c1ccc(CN2CCCC(c3c(-c4ccccc4)[nH]c4ccccc34)C2)cc1', 'COc1ccccc1C(=O)Nc1ccnn1C1CCN(Cc2cc[nH]n2)CC1', 'CCN(CC)C(=O)Oc1cc(=O)n(C)c2ccccc12', 'O=C(COc1ccc(-n2cc(C(O)NCc3ccccc3)cc2O)cc1)N1CCCC1', 'COC(=O)c1ccc(C=NNc2nc(-c3ccc(Cl)cc3Cl)cs2)cc1', 'COc1c(F)c(F)c(C(=O)O)c(Nc2cc(C)cc(C)c2)c1F', 'CCc1ccc2c(c1)C1c3cc(O)c(O)cc3CCC1NC2', 'Cn1cc(-c2ccc3c(c2)c(C2CCN(CCN4CCNC4=O)CC2)cn3-c2ccc(F)cc2)nn1', 'O=C(C#Cc1ccccc1)N(c1ccccc1)C1CCN(Cc2ccccc2)CC1', 'C1=CN(Cc2ccccc2)CCC1c1nc2ccccc2o1', 'COc1c(C(=O)NCC2CCN(Cc3ccccc3)C2)cc(Br)c2ccccc12', 'Cc1c(OCCCN2CCN(c3cccc4ccccc34)CC2)ccc2c[nH]c(O)c12', 'Cc1ccc2c(-c3nnc(SCCC(C)N4CCc5cc6c(cc5CC4)C(=O)N(C)C6)n3C)cccc2n1', 'Clc1cccc(N2CCN(CCCOc3ccc(-c4cn5ccccc5n4)cc3)CC2)c1Cl', 'CCc1nnc(NC(=O)CSc2nnc(CSc3nc(C)cc(C)n3)o2)s1', 'COc1ccnc(Oc2ccccc2)c1C#N', 'Cc1ccc(-c2nc(SC(C)C(=O)N3CCOCC3)n[nH]2)cc1', 'Cc1cc2ccc(C)c(C)c2nc1SCC(=O)c1cccs1', 'O=C(CCCCN1CCN(c2ncccn2)CC1)c1nc2ccccc2s1', 'NC(=O)c1cccc(S(=O)(=O)C2CCN(CCc3ccc(F)cc3F)CC2)c1', 'CCCCC(=O)Oc1cccc2c1-c1cc(OC)cc3c1C(C2)N(C)CC3', 'Nc1ccc(C#CCCN2CC=C(c3ccccc3)CC2)cc1', 'COc1cc(NC(=O)CCCn2c(O)ccc2O)c(OC)cc1Cl', 'CCOC(=O)N1CCC(N2CCN(C3CCCC3)C(CCO)C2)CC1', 'CCc1cc2c(cc1CC)CC(NCC(O)c1ccc(O)c3nc(O)ccc13)C2', 'Oc1cc(C(O)Nc2nc3ccccc3[nH]2)cn1-c1ccc2c(c1)OCCO2', 'O=C(NCC1CCCO1)c1cncc(Br)c1', 'CCc1cc(O)c(OC)c(C(=O)NCC2CCCN2CC)c1Br', 'Cc1ccc(C=C[SH](=O)(O)N=CC(=O)OCC(=O)Nc2c(F)cccc2F)cc1', 'O=C1c2ccccc2C(=O)c2c1cccc2N1CCCC1', 'CCc1cc(O)c(OC)c(C(=O)NCC2CCCN2CC)c1', 'Cc1ccc(N2CCN(CCC3CCC(NC(=O)c4cccs4)CC3)CC2)cc1', 'O=C(c1ccccc1)N1CCN(C(=O)c2ccc3c(c2)OCO3)CC1', 'CCC(C)C(NC(=O)NC(C)C)C(=O)O', 'CC(C)Oc1ccc(S(=O)(=O)Nc2ccc3c(c2)CCN(Cc2ccn[nH]2)CC3)cc1', 'CCOc1ccccc1N1CCN(Cc2csc3ccccc23)CC1', 'Cc1ccc(NC(=O)C(=O)Nc2ccc(C)cn2)nc1', 'CCCN(CCC)C1CCc2ccsc2C1', 'O=C1CC(CN2CCN(C(=O)c3ccc(F)cc3)CC2)Cc2occc21', 'COc1cccc(C(C(=O)NC2CCCC2)N(C(=O)c2ccco2)c2ccc(-n3cnnn3)c(C)c2)c1OC', 'O=C(Nc1cccc(SC(F)(F)F)c1)N1CCC(N2CCC(n3c(O)nc4ccc(F)cc43)CC2)CC1', 'O=C1CCc2ccccc2N1CCCN1CCC(c2ccc3[nH]ccc3c2)CC1', 'CN1CCN(C2=Nc3cc(Cl)ccc3N(NC(=O)c3c(N)cccc3C(F)(F)F)c3ccccc32)CC1', 'CCOC(=O)N1CCC(NCc2c(C(=O)N(C)Cc3ccccc3)nc3ccccn23)CC1', 'Cc1cccc(C)c1C(=O)NN1c2ccc(Cl)cc2N=C(N2CCN(C)CC2)c2ccccc21', 'O=C(NCN1CCN(c2ccccc2Cl)CC1)c1ccccc1', 'CN1CCN(C2=Nc3cc(Cl)ccc3Nc3ccc(OS(=O)(=O)C(F)(F)F)cc32)CC1', 'COc1ccc(S(=O)(=O)N2CCCC2)cc1C(=O)Nc1ccc(N2CCOCC2)cc1', 'CC(C)(C)c1nc(N2CCN(CCCCn3ccc(-c4ccccc4)nc3=O)CC2)cc(C(F)(F)F)n1', 'Cc1c(C(C)C)c(=O)n(-c2ccc(S(=O)(=O)NC3CCCCC3)cc2)n1C', 'O=C1c2ccoc2CCC1CCN1CCC(c2noc3cc(F)ccc23)CC1', 'CC(C)Oc1ccccc1N1CCN(C2CCC(NC(=O)Nc3cccc(Cl)c3)CC2)CC1', 'CS(=O)(=O)N1CCC(C(=O)NCCc2ccccc2)CC1', 'O=C(NCCC(O)CN1CCN(c2cccc(Cl)c2Cl)CC1)c1cc2ccccc2[nH]1', 'CCCCCCn1c(COc2ccccc2F)nnc1SCC(=O)N1c2ccccc2NC(=O)C1(C)C', 'c1ccc(CN2CCC(CNCc3csc(-c4ccccc4)n3)C2)cc1', 'Cc1cccc(N2CCN(CCC3CCC(NC(=O)c4cccs4)CC3)CC2)c1', 'CCOc1ccccc1N(CC(=O)Nc1ccc(S(=O)(=O)N2CCOCC2)cc1)S(=O)(=O)c1ccc(Cl)cc1', 'Cc1ccc(C=NNC(=O)c2cccc(S(=O)(=O)N3CCOCC3)c2)o1', 'COc1ccccc1N1CCN(CCCCCNC(=O)OC(C)(C)C)CC1', 'Oc1ccc2[nH]cc(CCCCN3CC=C(c4ccccc4)CC3)c2c1', 'Cc1ccc(C)c(NC(=O)Cn2c(=O)n(Cc3cccs3)c(=O)c3cccnc32)c1', 'CCOC(=O)C1CCN(S(=O)(=O)c2ccc3c(c2)N(C(C)=O)CC(C)S3)CC1', 'Cc1cc(=O)oc2cc(OCCCN3CCN(c4ccccc4)CC3)ccc12', 'CCN(CC)C1C(CO)C2CN(Cc3ccccc3)C(c3ccccc3)C21', 'CCOc1ccc(-c2cc(NC(=O)Nc3ccccc3Cl)c(C(=O)OC)s2)cc1', 'COc1ccc2c(c1)C(=O)N(CCN1CCN(c3ccc(Cl)cc3)CC1)CC2', 'O=S1(=O)CCOCC(CC2CCCCC2)N1Cc1ccc(Cl)cc1', 'Cc1ccsc1C=NN1CCN(c2ccccn2)CC1', 'FC(F)(F)c1cccc(N2CCN(CCCCNc3ncc(-c4ccccc4)o3)CC2)c1', 'CCOC(=O)c1[nH]cnc1C(=O)NC(C)c1ccccc1', 'COc1cc(C2NC(=O)NC(O)(C(F)(F)F)C2C(=O)c2cccs2)ccc1O', 'Fc1cccc(-c2cccc(CN3CCN(c4ncccn4)CC3)c2)c1', 'CSc1ccc(C2(O)CCN(Cc3coc4ccccc34)CC2)cc1', 'CCOC(=O)C1(CC)NC(c2ccc(N(C)C)cc2)c2c1c(O)n(C)c2O', 'Cc1nc(Cl)c(Sc2ccc(Cl)cc2)c(N2CCN(C)CC2)n1', 'Oc1ccc2ccc(OCCCCN3CCN(c4cccc(Cl)c4Cl)CC3)cc2n1', 'O=C(NCCCCN1CCN(c2cccc(Cl)c2Cl)CC1)c1cc2ccccc2o1', 'O=C(CSc1nc(=O)c2ccccc2[nH]1)Nc1ccccc1N1CCOCC1', 'COc1cc(C=C2C(=O)NN(c3ccc(F)cc3)C2=O)cc([N+](=O)[O-])c1O', 'COc1cccc(-n2c(S)nnc2Cn2nc(C(F)F)cc2C(F)F)c1', 'COc1ccc(C(=S)N2CCOCC2)cc1OC(=O)c1ccc([N+](=O)[O-])cc1[N+](=O)[O-]', 'CCOC(=O)c1c(NC(=O)Cc2coc3cc(C)ccc23)sc2c1CCCC2', 'COc1cccc(CC2NCCc3c2[nH]c2ccc(OC)cc32)c1', 'COc1ccccc1CN1CCN(CC(=O)N2c3ccccc3CC2C)CC1', 'COc1ccc(CN2CCC3(CCc4ccccc4C3=O)CC2)cc1', 'C#Cc1cccn1C1CCN(Cc2ccccc2)CC1', 'Nc1cc(Br)ccc1C(=O)CCCN1CCC2C(C1)c1cccc3c1N2CCCS3', 'c1ccc2c(N3CCN(CCCOc4ccc5c(c4)CNC5)CC3)cccc2c1', 'Cc1ccc(N=CC(C(=O)c2ccco2)C(=O)C(F)(F)F)cc1Cl', 'c1ccc(N2CCN(CCCOc3ccc(-c4nc5ccccc5[nH]4)cc3)CC2)nc1', 'CC(C)(C)c1nc(N2CCN(CCCCn3cc(Cl)ccc3=O)CC2)cc(C(F)(F)F)n1', 'N#Cc1ccc2c(c1)CCN(CCC1CCC(NC(=O)c3ccnc4ccccc34)CC1)C2', 'Cc1cc(-c2[nH]nc3c2C(c2ccsc2)C(C#N)C(=N)O3)c(C)s1', 'COc1cccc(CN2CCN(C(=O)c3cccc(OC)c3)CC2)c1', 'O=C1C(=Cc2ccccc2)SC(=S)N1CCC(=O)N1CCCCC1CCO', 'CN(C)C(=O)NCC1CCC(CN2CCN(c3cccc(Cl)c3Cl)CC2)CC1', 'CCCN(CCC)C1CCc2cccc(OC)c2C1C', 'CC(NC(=O)COc1cc(=O)n(C)c2ccccc12)c1ccc2c(c1)OCCO2', 'CCOc1ccc(NC(=O)c2c(NCc3cccnc3)sc3c2CCCC3)cc1', 'c1ccc(C2=Nc3ccccc3N=C(c3ccccc3)C2)cc1', 'COc1ccc(S(=O)(=O)Nc2ccccc2Cl)cc1NC(C)=O', 'CC(Sc1nnc(-c2ccccc2F)n1C1CC1)C(=O)NC(N)=O', 'CCOc1cc(N2CCOCC2)c(OCC)cc1NC(=O)CN1CCCC1', 'O=C(Nc1ccc(F)c(Cl)c1)Nc1cnc(O)nc1O', 'OCC1OC(Oc2ccc(CC3NCCc4cc(O)c(O)cc43)cc2)C(O)C(O)C1O', 'CCN1CCN=C1Nc1ccccc1', 'COc1ccccc1NC(=O)Cc1noc(CSc2nnc(N)s2)n1', 'O=C(NCCCCN1CCN(c2cccc(Cl)c2Cl)CC1)c1cccc2c1-c1ccccc1C2=O', 'Oc1nc2cccc(N3CCN(Cc4cc(-c5ccc(F)cc5)ccn4)CC3)c2o1', 'CCN1CC=C(C2=Cc3ccccc3Oc3ccccc32)CC1', 'O=[N+]([O-])c1ccc(C=Cc2ccc3cccc([N+](=O)[O-])c3n2)cc1', 'COc1ccccc1N1CCN(CCCCOc2ccc3c(c2)NC(=O)CC3)CC1', 'CCOC(=O)c1cnn(-c2nc(C)cc(C)n2)c1N', 'C#CCOCCOCCOCCNc1nc(N2CCN(C(=O)C(Cc3ccc(O)cc3)n3cc(CCO)nn3)CC2)nc(N2CCN(C(=O)C(C(C)O)n3cc(CCCCN)nn3)CC2)n1', 'CN1CCN(CCC(=O)Nc2ccc(C3CCCC3)cc2)CC1', 'Cn1c(O)cc(Sc2ncccc2C(=O)O)c1O', 'Cc1ccc2c(c1O)-c1cccc3c1C(C2)N(C)CC3', 'CCCSc1ncnc2c1oc1ccccc12', 'CC(C)(C)c1ccc(C(O)CCCN2CCC(C(O)(c3ccccc3)c3ccccc3)CC2)cc1', 'COc1ccccc1N1CCN(CCCNC(=O)c2sc3nc(OC)c(Cl)c(C)c3c2N)CC1', 'CN(C)S(=O)(=O)c1ccc(C(=O)NCCSc2c(-c3ccc(Br)cc3)[nH]c3ccccc23)cc1', 'CN1CCN(C2=Nc3cc(Cl)ccc3N(NC(=O)c3ccc(Cl)cc3)c3ccccc32)CC1', 'CN(C)CCC=C1c2ccccc2COc2ccc(CC(=O)O)cc21', 'O=C(NC1CCC(CCN2CCN(c3cccc(Cl)c3Cl)CC2)CC1)C1CCCCCC1', 'O=C(C=Cc1ccco1)OCc1nnc(-c2ccc(Cl)cc2)o1', 'CCOc1ccccc1N1CCN(CCCCc2cc(-c3ccc(OC)c(OC)c3)no2)CC1', 'Fc1ccc(OCC2CCC3CN(c4ccc(F)cc4)CCN3C2)cc1', 'CCC(=O)N1CCc2cc(S(=O)(=O)Nc3ccccc3C)ccc21', 'c1ccc(CN2CCN3c4cccc5[nH]cc(c45)CC3C2)cc1', 'Clc1nc(-c2ccccn2)nc2scc(-c3ccccc3)c12', 'FCCOc1cccc(CN2CCN(c3ccc(Cl)cc3)CC2)c1', 'O=C(CNC(O)c1cc(O)n(-c2cccc3ccccc23)c1)Nc1ccccc1Br', 'Cc1ncoc1-c1nnc(SCCCN2CCC3CC3(c3ccccc3)C2)n1C', 'O=C(CCn1c(O)c2c(c1O)C1C=CC2C1)NCc1cccnc1', 'CCC1CCCCN1S(=O)(=O)c1ccc(S(=O)(=O)N2CCN(S(=O)(=O)CC)CC2)cc1', 'OC1(c2ccc(Cl)cc2)CC2CCC(C1)N2CCc1c[nH]c2ccccc12', 'Cc1noc(C)c1COc1ccc(C(=O)OCC(=O)N2c3ccccc3NC(=O)C2(C)C)cc1', 'Sc1nc2ccc(OCCN3CCN(c4cccc(Cl)c4)CC3)cc2[nH]1', 'CCN1C(=O)c2ccccc2[S+]([O-])c2ccc(C(=O)NCc3ccc(F)cc3)cc21', 'CC=Cc1ccc(OCCN2CCc3ccccc3C2)c(OC)c1', 'COc1cccc(CCc2ccccc2OCCCCN2CCN(c3cccc(Cl)c3)CC2)c1', 'CCCCN1CCN(c2ccccc2OC)CC1', 'COc1ccc(-n2c(C)nn(CC3CC3)c2=O)cc1', 'c1ccc(CCN2CCC(c3cc(-c4ccncc4)n[nH]3)CC2)cc1', 'Cc1nc(C)c(C(=O)N2CCCC(C(=O)c3cc(F)ccc3F)C2)s1', 'c1ccc(CNCCOc2cccc3[nH]ccc23)cc1', 'Nc1nc2cc3c(cc2s1)CCNCC3', 'COc1ccc(-n2cc3ccccc3c2NC(=O)c2cncc(Br)c2)cc1', 'CC(C)Oc1ccccc1N1CCN(CCCCOc2ccc3c(c2)NC(=O)CC3)CC1', 'O=C1COc2c(cccc2N2CCN(Cc3cccc(-c4ccccc4)c3)CC2)N1', 'COC(=O)c1ccc(NC(=O)CN2CCCN(Cc3ccc(Cl)cc3)S2(=O)=O)cc1', 'Cc1ccc2c(-c3nnc(SCCCN4CCc5cc6c(cc5CC4)N(C)C(=O)CO6)n3C)cccc2n1', 'CC1c2ccccc2C=C(N2CCN(C)CC2)c2ccccc21', 'Cc1ccc2c(NC(=O)c3ccc(Br)o3)cccc2n1', 'CN1CCc2cc(Cl)c(O)cc2C2c3ccc(NC(=O)Nc4c(Cl)cccc4Cl)cc3CCC21', 'CCOC(=O)c1c(C)[nH]c(C)c1S(=O)(=O)NCC(=O)N1CCN(c2cccc(C)c2)C(C)C1', 'O=C(c1cc(-c2ccc(Br)cc2)on1)N1CCOCC1', 'Cc1ccc(CNCC2(F)CCN(C(=O)c3coc4ccccc34)CC2)nc1', 'CCOc1ccc(CCNC(=O)c2ccc(N3CCCC3=O)cc2)cc1OCC', 'Cc1c(-c2ccccc2)nc(O)n1C1CCN(Cc2ccccc2)CC1', 'COc1ccc(C)c2sc(N(Cc3cccnc3)C(=O)COc3ccccc3)nc12', 'CN(C)c1ccc(-c2nnc(S)n2-c2ccccc2)cc1', 'CCCN(CCC)C1COc2c(ccc3sc(N)nc23)C1', 'Cc1cc2c[nH]c(O)c2cc1OCCCCN1CCN(c2cccc3cccc(F)c23)CC1', 'Nc1nnc(SCC(=O)c2ccco2)s1', 'O=C1c2ccccc2C(=O)N1CCCCN1CC=C(c2c[nH]c3ccc(F)cc23)CC1', 'CCOC(=O)C1C(C)=NC(=O)NC1c1ccc(OCC(=O)Nc2ccccc2)c(OC)c1', 'CS(=O)(=O)Nc1cccc(OCCN2CCC(Oc3ccc4c(c3)NC(=O)CC4)CC2)c1', 'CC(=O)N1CCC(C)c2c(C)ccc(CCN3CCN(c4noc5ccccc45)CC3)c21', 'CC(C)=C1c2ccccc2C=C(C2=CCN(C)CC2)c2ccccc21', 'O=c1c2ccccc2oc2nc3ccn(Cc4ccncc4)c(=O)c3cc12', 'CCC(C)(C(=O)Nc1ccccc1C)N(C(=O)CNC(C)=O)c1ccccc1C', 'CCN(c1ccc(Cl)cc1)S(=O)(=O)c1nnc(NC(=O)C2CCCCC2)s1', 'CC1CN(C(=S)Nc2ccc(F)cc2F)CC(C)O1', 'COCCCNC(=O)C1CCN(C(=O)c2ccc(-n3ccc4ccccc43)s2)CC1', 'COc1ccccc1N1CCN(Cc2cn3cc(C)cc(-n4cccn4)c3n2)CC1', 'CC(C)c1ccc(NC(=O)C2CCN(C(=O)C3Cc4ccccc4CN3)CC2)cc1', 'O=[N+]([O-])c1ccc(C=NN2CCN(Cc3ccccc3)CC2)cc1', 'OC1(c2cccc(C(F)(F)F)c2)CCN(Cc2c[nH]c3ccccc23)CC1', 'CC(=O)c1ccc(CSc2nc3ccccc3n2Cc2ccc(Cl)cc2)cc1', 'COc1cc(CN2CCN(c3ccccc3OC)CC2)ccc1OCc1cn(CCCCCCCCn2cc(COc3ccc(CN4CCN(c5ccccc5OC)CC4)cc3OC)nn2)nn1', 'CCN1CCCC1CNC(=O)c1cc(Br)ccc1OC', 'COc1ccccc1N1CCN(Cc2ccc(CNC(=O)c3ccc4ccccc4c3)cc2)CC1', 'COc1ccc(Cl)cc1C(=O)NNC(=O)c1cccnc1', 'COc1ccc(Oc2cccc(CN3CCC(c4cccc(NC(=O)C(C)C)c4)CC3)c2)cc1', 'CN1CCN(C2=Nc3cc(Cl)ccc3N(NC(=O)c3cccc(C(F)(F)F)c3)c3ccccc32)CC1', 'Cc1ccc(C(=O)N2CCCC2)c(F)c1F', 'Cc1c(Br)c([N+](=O)[O-])nn1CC(=O)NCc1cccnc1', 'C=Cc1cccc2c1-c1cccc3c1C(C2)N(C)CC3', 'CCOC(=O)C1C(=CSc2nc(C)ccc2C#N)OC(=N)C(C#N)C1c1cccc(OC)c1OC', 'CS(=O)(=O)Nc1cc(OCCN2CC3CCC(C2)C3Cc2ccc3c(c2)NC(=O)CC3)ccc1F', 'Fc1cccc2[nH]cc(CCCN3CCN(c4cccc5c4OCCO5)CC3)c12', 'Cc1csc2nc(-c3cccc(NC(=O)c4ccccc4Cl)c3)cn12', 'CCOC(=O)C1CCN(C(=O)c2ccc(Cl)c(S(=O)(=O)N3CCCC3)c2)CC1', 'CC(C)n1c(CN(C)c2ccccc2)nc2ccccc21', 'OC(CCCN1CCN(c2ncc(F)cn2)CC1)c1ccc(F)cc1', 'CCCCN(C)S(=O)(=O)c1ccc(C(=O)N=c2sc3cc(NC(C)=O)ccc3n2C)cc1', 'CC(C)(C)c1nc(N2CCN(CCCCn3cc(Cl)ccc3=O)CC2)cc(C(F)(F)F)n1', 'O=C(O)C1CCN(S(=O)(=O)c2ccc(Oc3ccccc3)cc2)CC1', 'Nn1c(SCC(=O)Nc2ccc(F)c(F)c2)nnc1C1CCCCC1', 'COc1ccc(C(=O)NC2CC2)cc1OC1CCN(Cc2ccc(F)c(F)c2)CC1', 'CN(C)CCSc1cccc(C2CCCCC2)n1', 'CCOC(=O)c1csc(NC(=O)CN2CCOCC2)n1', 'Cc1nc2ccc3nc(NC(=O)c4ccc(S(=O)(=O)N5CCOCC5)cc4)sc3c2s1', 'CC(=O)NC1CCC(CCN2CCN(c3ccccc3)CC2)CC1', 'Cc1ccc(NC(=O)C2CCCN(S(=O)(=O)c3c(C)noc3C)C2)nc1', 'CSc1nnc(NC(=O)c2cc(=O)c3cc(C)c(C)cc3o2)s1', 'N#Cc1cccc(C2CCCN(CCCc3ccccc3)C2)c1', 'O=C1CC(CN2CCC(C(=O)c3ccc(F)cc3)CC2)Cc2cc(-c3ccccc3)ccc21', 'CCOC(=O)NC(=O)C(=NNc1cc(C)cc(C)c1)C(C)=O', 'Cc1nc(-c2ccc(CSc3nc4ccccc4n3Cc3ccc(Cl)cc3)cc2)no1', 'Cc1ccc(NC(=O)c2ccc(Cl)c(N3C(=O)C=CC3=O)c2)cc1', 'COc1cccc(C(=O)NCCCN2CCN(c3ccc(Cl)cc3)CC2)c1', 'COc1ccc2c(c1)CCCN(CCCCN1CCN(c3ccccc3OC)CC1)C2=O', 'CCCN1CCCC2Cc3n[nH]cc3CC21', 'CCOC(=O)c1c(C)nc2cc(C)ccn12', 'CC(C)c1ccc(CS(=O)(=O)c2ccc(C34CNCC3C4)cc2)cc1', 'CSc1nc2ccc3nc(NC(=O)c4ccc(C)cc4)sc3c2s1', 'CCNC(=O)Nc1cc(F)ccc1C(=O)CCCN1CCC2C(C1)c1cccc3c1N2CCCS3', 'Cc1ccc(C)c(NC(=S)NNc2ccc(F)cc2F)c1', 'Oc1nc2cccc(OC3CCN(CCC4CCc5[nH]c6ccc(F)cc6c5C4)CC3)c2o1', 'Cc1cc(C)cc(N(CC(=O)N2CCn3c2nc2ccccc23)S(=O)(=O)c2c(C)noc2C)c1', 'OCC1C2CN(Cc3ccccc3)C(c3ccccc3)C2C1N1CCCCC1', 'Cc1ccc(S(=O)(=O)N2CCC3(CC2)OCCO3)s1', 'C#CC1=CCC(N(CCC)CCCCNC(=O)c2ccc(OCCCc3cnn(CCCC)n3)c(OC)c2)CC1', 'Cn1c(NN=Cc2c[nH]c3ccccc23)nc2ccccc21', 'Cc1ccccc1CN1CCN(CC(=O)N2c3ccccc3CC2C)CC1', 'COc1ccccc1N1CCN(Cc2cnn(-c3ccccn3)c2)CC1', 'O=C(CCc1c[nH]c2ccccc12)NC1CC1', 'COc1c(Cl)cc(N2CCN(CC3CC3c3ccccc3)CC2)cc1Cl', 'CN1CCc2cccc3c2C1Cc1ccc(OCCCN)c(O)c1-3', 'O=C(NCc1ccco1)c1ccc2c(c1)C(=O)c1ccccc1-2', 'COc1ccccc1N1CCN(CCCCNC(=O)c2cccc3c2-c2ccccc2C3=O)CC1', 'O=C1Cc2c(ccc3c2OCC(CNCC2CCc4[nH]c5ccc(F)cc5c4C2)O3)N1', 'FCCOc1ccc(CN2CCN(c3ccc(Cl)cc3)CC2)cc1', 'CCc1ccccc1NC(=O)CC1C=S(O)(O)=CC1CC(=O)Nc1ccccc1CC', 'CC(=O)NS(=O)(=O)c1ccc(NC(=O)c2cc(-c3cccs3)nc3ccccc23)cc1', 'COc1cc2c(cc1OC)CN(C=Nc1ccc3c(c1)C(O)CCCC3)CC2', 'Cc1ncoc1-c1nnc(SCCCN2CCc3cc4c(cc3CC2)OCC(=O)N4)n1C', 'CC(C)c1ccccc1N1CCN(CCCCCC(=O)NCc2ccccc2)CC1', 'COC(=O)c1ccc(C=Cc2nc3ccccc3n2Cc2ccc(Cl)cc2)cc1', 'O=C(Cc1cccs1)NCc1ccncc1', 'Fc1ccc(OCC2CCC3CN(c4ccc(Cl)cn4)CCN3C2)cc1', 'COCCNCc1ccc(CCNCC(O)c2ccc(O)c3nc(O)sc23)cc1', 'Nc1nc2cc3c(cc2s1)CCN(Cc1cnc[nH]1)CC3', 'CCCN=C1c2ccccc2OC(=O)C1NS(=O)(=O)c1ccc(C2CCCCC2)cc1', 'FC(F)(F)c1ccc2c(c1)N(Cc1ccc(CNc3cccc(Oc4ccccc4)c3)cc1)c1ccccc1S2', 'COc1ccc2[nH]cc(C3CCN(CCCCn4c(O)cc(-c5c[nH]c6ccccc56)c4O)CC3)c2c1', 'O=C(O)C1Cc2ccccc2CN1C(=O)c1ccccc1Cl', 'CN1CCN(C2Cc3ccccc3Sc3ccc(-c4cnn(C)c4)cc32)CC1', 'CN(Cc1cnccn1)C(=O)c1cc(COc2cccc(C(F)(F)F)c2)on1', 'O=C1N(CCN2CC3CCC2Cc2ccccc2C3)CCN1c1cccc(Cl)c1', 'CC(NC(=O)C1CCN(C(=O)c2ccc(F)cc2)CC1)c1ccc(-n2ccnc2)cc1', 'COc1ccccc1N1CCN(CCCOc2ccc3ccc(O)nc3c2)CC1', 'O=C(CCc1nnc2n(Cc3ccccc3Cl)c(=O)c3ccccc3n12)Nc1ccccc1', 'CCOc1ccc(C2CC(c3cccc(OC)c3OC)n3nnnc3N2)cc1Cl', 'CC1Cc2ccccc2N1C(=O)CN1CCN(Cc2ccc(F)c(F)c2Cl)CC1', 'CC(C)c1ccc(S(=O)(=O)Nc2ccc(C34CC3CN(C)C4)cc2)cc1', 'Cc1cccc(S(=O)(=O)NCCN2CCC(c3noc4cc(F)ccc34)CC2)c1', 'CC(C)c1ccc(S(=O)(=O)Nc2ccc(C34CC3CN(C)C4)cc2)cc1', 'O=C(CCCN1CCN(c2ncccn2)CC1)c1nc2ccccc2s1', 'CCOc1c(C(=O)NN2c3ccc(Cl)cc3N=C(N3CCN(C)CC3)c3ccccc32)sc2ccccc12', 'Oc1nc2cccc(N3CCN(Cc4ccc(O)c(-c5ccccc5)c4)CC3)c2o1', 'COc1ccc(-n2cc(C(O)NCc3cccnc3)cc2O)cc1', 'N#Cc1c(NC(=O)CSc2nc(N)cc(O)n2)sc2c1CCCC2', 'CN1C(=CC=Nc2ccc3ccccc3c2)C(C)(C)c2ccccc21', 'Cc1ccc(-n2nc(C(=O)N(C)c3ccccc3Cl)c3c4ccccc4n(C)c3c2=O)cc1', 'C#Cc1cccc(C(=O)NCCCCN2CCN(c3cccc(Cl)c3Cl)CC2)c1', 'O=C1CC(Nc2ccc3c(c2)OCO3)=NC(=O)N1c1ccc(Br)cc1', 'Cn1c(=O)oc2cc(S(=O)(=O)N3CCCC(C(=O)NC4CCCc5ccccc54)C3)ccc21', 'Cc1nc2c(o1)CC(CN1CCC(C(=O)c3ccc(F)cc3)CC1)CC2=O', 'COc1cccc(C(=O)NCCCCN2CCN(c3ccc(Cl)cc3)CC2)c1', 'COc1ccccc1N1CCN(CCCCNC(=O)c2cc3cc(O)ccc3[nH]2)CC1', 'Cc1ccccc1-n1cc(-c2ccc(Br)cc2)nc1SCC(N)=O', 'OC1(c2ccc(Cl)c(Cl)c2)CCN(Cc2[nH]nc3ccccc23)CC1', 'CON=C(CCN1CCC(c2ccccn2)CC1)c1ccc(Cl)cc1', 'CCOc1ccc(C(=O)NCC2CCCO2)cc1OCC', 'CCC1CCc2sc(C(=O)NCc3ccccn3)cc2C1', 'CCOc1ccc(Br)cc1S(=O)(=O)N1CCC(C(N)=O)CC1', 'Fc1cccc(N2CCN(Cc3cc4ccccn4n3)CC2)n1', 'Cc1cc(-n2c(O)c(O)c(C(=O)c3ccc(C)o3)c2-c2ccc(OCc3ccccc3)cc2)no1', 'N#Cc1cc2cc(OCCCCN3CCN(c4cccc(Cl)c4Cl)CC3)ccn2n1', 'NC(N)=NC(=O)c1ccc2c(c1)Cc1ccccc1-2', 'CCOC(=O)c1sc(NC(=O)COC(=O)CNC(=O)c2ccco2)c(C(=O)OCC)c1C', 'c1ccc(CCC2CCN(Cc3cc4cccnc4[nH]3)CC2)cc1', 'O=C(CSc1nc(C2CC2)nc2c1cnn2-c1ccccc1)Nc1cnc(O)nc1O', 'CCCCCn1ccc(=O)c2c(C(F)(F)F)nccc21', 'S=C(Cc1ccc(Cl)cc1)N1CCOCC1', 'COc1ccc(S(=O)(=O)NC2CCC(N3CCC(c4ccccc4OC4CC4)CC3)CC2)cc1OC', 'Cc1ccccc1CN1CCN(CC2CC3C=CC2C3)CC1', 'COc1ccc(C(=O)Nc2c(Cl)cc(Cl)cc2C(=O)N2CCOCC2)cc1', 'CCc1ccc(CNC(=O)c2ccc(C=S(O)c3ccc(Br)cc3)o2)cc1', 'COc1ccc2c(C)c(CCC(=O)NCc3ccccc3OC)c(=O)oc2c1', 'CCCN(CCc1ccccc1)C1CCc2c(O)cccc2C1', 'CSc1ccccc1N1CCN(CCCCCC(=O)NCc2ccc(C#N)cc2)CC1', 'CC1CCCCN1c1nnc(NC(=O)Cn2c(=O)oc3ccccc32)s1', 'Cc1ccc(C(=O)C(C)OC(O)c2cc(O)n(C3CCCCC3)c2)cc1', 'Nc1cc(Nc2ccc(Br)cc2)nc(N)n1', 'COc1ccc(C(=O)Nc2cccc(C(=O)NCc3ccco3)c2)cc1', 'CNc1ccccc1C(=O)OCC(=O)Nc1ccc2c(c1)OCO2', 'COC(=O)c1cc(NS(=O)(=O)c2ccc(C)c3ccccc23)ccc1N1CCOCC1', 'Oc1nc2c(O)ccc(C(O)CNCCCSCCOCCc3ccccc3)c2s1', 'CCOc1cccc(=O)c2c(C)n(Cc3ccccc3)c(C)c12', 'O=[N+]([O-])c1ccccc1COc1ccc(Cl)c2cccnc12', 'Cc1cc2c(s1)Nc1ccccc1N=C2N1CCN(C)CC1', 'COc1ccccc1N1CCN(CCCCNC(=O)C=Cc2ccc([N+](=O)[O-])cc2)CC1', 'CCCN(CCC)CCNC(=O)CN1C(=O)COc2ccc(S(=O)(=O)N3CCOCC3)cc21', 'CCCN(Cc1ccc([N+](=O)[O-])cc1)C1CCc2c(cccc2OC)C1', 'c1ccc(-c2ncc(CN3CCN(c4ccccn4)CC3)[nH]2)cc1', 'CN(C)CCCN(C(=O)c1ccc(S(=O)(=O)N2CCOCC2)cc1)c1nc2ccc(F)cc2s1', 'COc1cc2c(cc1OC)CN(CCNC(=O)c1cc(C)ccc1OC)CC2', 'Oc1cccc(C2NCCc3c2[nH]c2ccccc32)c1', 'CCN(CC)CCCOc1ccc(-c2nc3ccccc3n2CC=CCn2c(-c3ccc(OCCCN(CC)CC)cc3)nc3ccccc32)cc1', 'CN1CCc2cc(O)c(O)cc2C1Cc1ccc(O)c(O)c1', 'COC(=O)c1ccc(CNC(=O)COC(=O)COc2ccc(OC)cc2)cc1', 'CCOc1ccc(NC(=O)Cn2nc(SC)c(S(=O)(=O)c3ccccc3)c2N)cc1', 'Cc1oc2ncnc(N3CCCCC3)c2c1C(=O)N1CCN(c2cccc(C(F)(F)F)c2)CC1', 'Cc1cccn2cc(-c3ccc(OCCCCN4CCN(c5cccc(Cl)c5Cl)CC4)cc3)nc12', 'Clc1ccc(-c2cc(C3CCCN(Cc4ccccc4)C3)[nH]n2)cc1', 'N#Cc1ccc(Sc2nc3ccccc3[nH]2)cc1C#N', 'CCOc1ccc(NC(=O)NCCc2ccc(OCC)c(OCC)c2)cc1', 'Clc1ccc(COC(Cn2ccnc2)c2ccc(Cl)cc2Cl)cc1', 'O=C(CNc1cc(S(=O)(=O)N2CCOCC2)ccc1NCC1CCCO1)Nc1cccc(F)c1', 'CN1CCC2C(C1)c1cccc3c1N2c1ccccc1CS3', 'COc1ccccc1NC(=O)CSc1nccc(O)n1', 'O=C(NC1CCN(Cc2ccccc2)C1)c1ccc(-c2ccsc2)cc1', 'FC(F)(F)c1ccc(C=CCOCC2CCN(Cc3ccccc3)CC2)cc1', 'COc1ccc(-c2nc3c(c(=O)[nH]c(=O)n3Cc3ccccc3)n2Cc2ccccc2)cc1', 'FC(F)(F)c1nnc2ccc(Sc3ccccn3)nn12', 'CCc1ccc2c(c1OC)-c1cccc3c1C(C2)N(C)CC3', 'CCSc1ncc(Cl)c(C(=O)Nc2ccccc2F)n1', 'N#CC(C#N)=Cc1ccn(C2CCN(Cc3ccccc3)CC2)c1', 'Cc1cccc(-c2nc(C=S(O)CC(=O)N3CCc4ccccc4C3)c(C)o2)c1', 'O=S(=O)(Nc1ccc(Cl)cc1)c1ccc(NS(=O)(=O)c2ccc3c(c2)OCCO3)cc1', 'COc1cc(C)ccc1CN1CCN(C2CCc3cccc4c3N(C2=O)C(C)(C)C4)CC1', 'CCN(C)CCc1c(-c2ccc(F)cc2)[nH]c2ccccc12', 'O=C(NCCCCN1CCN(c2cccc(Cl)c2Cl)CC1)c1cn(-c2ccc([N+](=O)[O-])cc2)nn1', 'CCCCCCCCCC(=O)NN1c2ccc(Cl)cc2N=C(N2CCN(C)CC2)c2ccccc21', 'CN1CCc2ccccc2C1C1CCNCC1', 'CC(C)NC(=S)Nc1c(N)nc(O)nc1O', 'Cc1cc(OCC(=O)NCC2CCC(C(=O)O)CC2)c2c(C)c(C)c(=O)oc2c1', 'COc1ccc2c(c1)CCCN(C)CCc1ccccc1C2', 'Fc1ccccc1N1CCN(CCCCNc2ccccn2)CC1', 'Cc1ccc2c(c1)N(S(=O)(=O)c1ccc3c(c1)NC(=O)CC(=O)N3)CCO2', 'COc1cccc2c1-c1cccc3c1C(C2)N(C(C)C)CC3', 'O=C(Nc1ccc(Br)cc1)c1cccc(S(=O)(=O)N2CCc3ccccc32)c1', 'Oc1nc2nc(-c3ccccc3Cl)cc-2c(O)n1CCN1CCN(c2ccccc2Cl)CC1', 'COc1ccc(NC(=S)N2CCN(S(=O)(=O)c3ccc(C)cc3)CC2)cc1', 'CN(C)c1ccc(C(=O)Nc2nnc(C3=COCCO3)o2)cc1', 'Cc1ccc2c(c1)C(=O)N(CCCCCN1CC=C(c3c[nH]c4ccc(F)cc34)CC1)C2=O', 'NC(=O)N1CCCC1C(=O)Nc1ccc(Cl)c(Cl)c1', 'COc1ccc2[nH]c3c(c2c1)CCNC3Cc1ccc2c(c1)OCO2', 'CCc1ccccc1NC(=O)CCN1C(=O)c2ccccc2C1=O', 'CC(C)(C)c1ccc(COC(=O)CNC(=O)CNC(=O)Cc2ccccc2)cc1', 'CC(=O)Nc1nc2nc(-c3ccccc3)cc(-c3ccccc3)n2n1', 'Cc1cc(C(=O)CN(Cc2ccc(F)cc2)S(=O)(=O)c2ccc3c(c2)OCCO3)c(C)n1C', 'Cc1ccc(C(=O)N=C(Cc2ccco2)C(=O)NCCCn2ccnc2)cc1C', 'O=C(NC1CCc2ccc(CCN3CCN(c4nsc5ccccc45)CC3)cc21)c1ccccc1', 'CCC1(c2ccc(F)cc2)NC(=O)N(CC(=O)N(C)C2C=S(O)(O)=CC2)C1=O', 'CCCN(CCC)C1CCc2nc(OC)ccc2C1', 'Cc1cccc2c1CCN2C(=O)CN1CCN(Cc2ccc(Cl)cc2)CC1', 'CCCN1CC(CSC)CC2c3cccc4[nH]cc(c34)CC21', 'Cc1cccc2c1N(C(=O)CN1CCN(Cc3ccc(Cl)cc3)CC1)CC2', 'Clc1ccc(OCCNCCCSc2ccccc2)cc1', 'CC(C)c1ccccc1N1CCN(CCCCCC(=O)NCc2ccc(OS(C)(=O)=O)cc2)CC1', 'Cc1ccc(C)c(C(=O)Cn2c(NCCO)nc3ccccc32)c1', 'COc1ccccc1N1CCN(CCCNS(=O)(=O)c2ccc3ccccc3c2)CC1', 'Fc1ccc(-c2cncc(CN3CCN(c4ncccn4)CC3)c2)cc1', 'CCOC(=O)N1CCN(C(=O)c2cc3sccc3n2C)CC1', 'COc1ccc(Br)cc1-c1nc(CNCC2CCN(Cc3ccccc3)C2)c[nH]1', 'COc1ccc(Cl)cc1NC(=O)c1cccc(-n2cnnn2)c1', 'COc1ccc(-n2c(SCC(=O)Nc3ncc(Cl)cc3Cl)nc3ccccc32)cc1', 'CN(C)CCNC(=O)c1ccc(Sc2ccc(Br)cc2)c([N+](=O)[O-])c1', 'O=C1COc2c(cccc2N2CCN(Cc3cccc(-c4ccccc4)c3)CC2)N1', 'CN(C)CCC1(c2ccccc2)OC=C(c2ccccc2)C1=O', 'Cc1cccc(CN2CC34CCC(CC3S2(=O)=O)O4)c1', 'c1ccc(N2CCN(CCC3CCC(Nc4ncnc5ccccc45)CC3)CC2)cc1', 'CCN(Cc1ccncc1)Cc1nc(-c2ccc(C(=O)OC)cc2)no1', 'Clc1ccccc1C(c1ccccc1)(c1ccccc1)n1ccnc1', 'CC1(C)CC(NS(=O)(=O)c2ccc3ccccc3c2)CC(C)(C)N1', 'CC(O)c1nc2ccccc2n1C1CCCCC1', 'FCCOc1ccccc1N1CCN(Cc2cnn3ccccc23)CC1', 'c1ccc(-c2ncc(CN3CCN(c4ccccn4)CC3)[nH]2)cc1', 'CC(C)c1ccc(CCNC(=O)CCNS(=O)(=O)c2ccc(Br)cc2)cc1', 'Cc1ccc2c(-c3nnc(SCCCN4CC5CC5(c5ccccc5)C4)n3C)cccc2n1', 'COc1cccc2c1C1CCN(CCc3ccccc3)C1CC2', 'O=C(NCCC(F)CN1CCN(c2cccc(Cl)c2Cl)CC1)c1cc2ccccc2o1', 'COc1cccc(C2(O)CC(C(F)(F)F)=NN2C(=O)c2ccccn2)c1', 'COC(=O)c1cn(C(C)C(=O)NCc2ccco2)c2ccccc12', 'CCCCC(O)(CCN1CCOCC1)c1ccc(Cl)cc1', 'CSc1ccccc1OCCN1CCC(NS(=O)(=O)c2ccc(F)cc2)C1', 'O=C(O)c1cccc(S(=O)(=O)Nc2ccc3nc(O)[nH]c3c2)c1', 'Cc1cc(-c2ccc3c(c2)CCN(CCCSc2nnc(-c4ocnc4C)n2C)CC3)n(C)n1', 'O=C(CSc1nnc(-c2ccncc2)n1Cc1ccco1)Nc1cccc(O)c1', 'O=C(C1CCCO1)N1CCN(C(=S)Nc2ccc(Cl)cc2)CC1', 'COc1ccccc1N1CCCN(CCCCNC(=O)c2ccc(CCO)cc2)CC1', 'COc1ccc(C(C)=O)cc1Cn1cnc2c(cnn2C)c1=O', 'Oc1ccc2c(c1)CCCNCCc1ccccc1C2', 'Oc1[nH]cc2ccc(OCCCCN3CCN(c4cccc5c4COCC5)CC3)cc12', 'CC(C)(C)C(=O)Cn1nnc(-c2ccc(C(F)(F)F)cc2)n1', 'N=C(Cc1cccc2ccccc12)NOC(=O)Cc1cccs1', 'Cc1cc2c(s1)Nc1ccccc1N=C2N1CCN(C)CC1', 'CCOc1ccc(N(CC(=O)NCCc2ccc(F)cc2)S(=O)(=O)c2ccccc2)cc1', 'COc1ccc(C(=O)Sc2nncc3ccccc23)cc1', 'Oc1nc2c(O)ccc(C(O)CNCCc3cccc(CNCCc4ccccc4Cl)c3)c2s1', 'COCCCn1c(C(=O)Nc2ccc3c(c2)OCO3)cc2c(=O)n3ccccc3nc21', 'O=C(NCCCCN1CCN(c2cccc(Cl)c2Cl)CC1)c1ccc2c(c1)C(=O)c1ccccc1-2', 'Cc1cccc2c(CCNCc3cccc(CCNCC(O)c4ccc(O)c5nc(O)sc45)c3)c[nH]c12', 'Cc1ccc(CCNc2ncnc3onc(C)c23)cc1', 'Oc1cc2c(cc1O)C1c3cncc(F)c3CNC1CC2', 'CC(C)(C)c1ccn(CCCCN2CCN(c3cc(C(F)(F)F)nc(C(C)(C)C)n3)CC2)c(=O)n1', 'CN1CCc2cc(Cl)c(O)cc2C2c3cccc(-c4cccc(OC(F)(F)F)c4)c3CCC21', 'O=C(O)c1cccc(NC(=S)NN=Cc2ccccc2OCc2ccc(Br)cc2)c1', 'COc1cc(C23CNCC2C3)ccc1NS(=O)(=O)c1ccc(C(C)C)cc1', 'CN1C(=O)c2ccc(C(=O)NCc3ccccn3)cc2C1=O', 'CC(C)(C)OC(=O)NCCCCN1CCC(O)(c2ccc(Cl)cc2)CC1', 'C#Cc1c[nH]c(CN2CCN(c3ccccc3)CC2)c1', 'Cc1ccc(S(=O)(=O)NCC(=O)OCC(=O)NCc2cccs2)cc1', 'CCCCOc1ccc(C(=O)NCCc2cccs2)cc1', 'Cc1ccc(N2CCn3c2nc2c3c(=O)n(CCCc3ccccc3)c(=O)n2C)cc1C', 'CCN1CCN(CC(=O)NC2CCCCC2)C(=O)C1=O', 'CCOc1cc(C=NNC(=O)C(C)Sc2ccccn2)ccc1O', 'O=C(CCc1ccccc1)Nc1nc2ccc(S(=O)(=O)N3CCOCC3)cc2s1', 'Oc1ccc(C(=Cc2ccc3ccccc3n2)NNc2ccccc2)c(O)c1', 'NC(=O)c1oc2ccc(Cl)cc2c1NC(=O)CN1CCOCC1', 'Cc1cc(-c2ccc3c(c2)CCN(CCCSc2nnc(-c4cccc(Cl)c4)n2C)CC3)no1', 'COc1ccc2c(c1)OC(O)(C(F)F)CC2=O', 'O=C(O)c1[nH]c2ccc(F)cc2c1NC(=O)C1CC1(c1ccccc1)c1ccccc1', 'COc1ccc(NC=C2C(=O)c3ccccc3C2=O)cc1', 'Nc1nc(-c2ccc(Cl)cc2)cc(C2CCN(Cc3ccccc3)CC2)n1', 'CCCN1CCC(c2cccc(S(=O)(=O)C3CCCC3)c2)CC1', 'CC1CCCCN1CCNC(=O)CCn1nc(-c2ccccc2)ccc1=O', 'Clc1ccccc1CSc1nnc(-c2ccco2)c(-c2ccco2)n1', 'CSc1ccccc1N1CCN(CCCCCC(=O)NCc2ccc(OS(C)(=O)=O)cc2)CC1', 'CC(C)c1ccc(-c2c3c([nH]c4c5ccccc5c(O)c2-4)CC(C)(C)CC3=O)cc1', 'c1ccc(N2CCN(c3ncnc4sc5c(c34)CCC5)CC2)cc1', 'O=C(NCCCCN1CCN(c2cccc(Cl)c2Cl)CC1)c1cc2ccc1CCc1ccc(cc1)CC2', 'CCOc1cc(C2c3c(CC)n[nH]c3OC(=N)C2C#N)ccc1OCCN1CCOCC1', 'CCC1Cc2ccccc2N1C(=O)CN1CCN(Cc2ccc(Cl)cc2)CC1', 'N#CC1(Cc2ccccc2Cl)c2ccccc2C=CN1C(=O)c1ccccc1', 'CC(C)c1nc(SCC(=O)N2c3ccccc3CC2C)c2ccccc2n1', 'O=C(Nc1ccc(OC(F)(F)F)cc1)Oc1ccccc1N1CCOCC1', 'CCC(=O)N1c2ccc(S(=O)(=O)CCC(=O)N3CCN(c4cc(C)ccc4C)CC3)cc2CC1C', 'CC1=CC(C)(C)Nc2ccc(OC(=O)c3ccco3)cc21', 'CCOCCOCc1ccn2ncc(C(=O)NCCCCN3CCN(c4ccccc4OC)CC3)c2c1', 'CC(C)(C)c1ccc(C(O)CCCN2CCC(C(O)(c3ccccc3)c3ccccc3)CC2)cc1', 'Nc1nc2cc3c(cc2s1)CCN(CC(F)(F)F)CC3', 'CCCCCCCCCC(=O)OCC(O)CO', 'O=C(C=S(O)c1ccc(F)cc1)N1CCOCC1', 'CC(C)(C)c1nc(N2CCN(CCCCN3C=CC(=O)CC3=O)CC2)cc(C(F)(F)F)n1', 'CN(CC(=O)Nc1ccccc1C(=O)N1CCCC1)S(=O)(=O)c1ccc(Cl)cc1', 'O=C(COC(=O)c1cc(-c2ccc(Cl)s2)nc2ccccc12)NCc1ccco1', 'CC(=O)Nc1cccc(C2CCN(CCCC(=O)c3ccc(Cl)cc3)CC2)c1', 'OCc1cccn2ncc(CN3CCN(c4ccc(Cl)cc4)CC3)c12']\n",
      "The average probability of molecules with label 0 is:  0.010857519113886658\n",
      "The average probability of molecules with label 1 is:  0.7604192603464405\n"
     ]
    }
   ],
   "source": [
    "from helper import compute_fingerprints\n",
    "\n",
    "drd2_final_test_small = pd.read_csv(\"data/drd2_final_test_small.csv\")\n",
    "smiles_list = drd2_final_test_small[\"smiles\"].tolist()\n",
    "print(smiles_list)\n",
    "labels = drd2_final_test_small[\"label\"].to_numpy()\n",
    "\n",
    "oracle = Oracle(name='DRD2')\n",
    "proba_molecules = [oracle(smiles) for smiles in smiles_list]\n",
    "\n",
    "# Probability list of molecules where label is 0\n",
    "proba_molecules_0 = [proba for i, proba in enumerate(proba_molecules) if labels[i] == 0]\n",
    "\n",
    "# Probability list of molecules where label is 1\n",
    "proba_molecules_1 = [proba for i, proba in enumerate(proba_molecules) if labels[i] == 1]\n",
    "\n",
    "# Average values \n",
    "average_proba_molecules_0 = np.mean(proba_molecules_0)\n",
    "average_proba_molecules_1 = np.mean(proba_molecules_1)\n",
    "\n",
    "print(\"The average probability of molecules with label 0 is: \", average_proba_molecules_0)\n",
    "print(\"The average probability of molecules with label 1 is: \", average_proba_molecules_1)\n"
   ]
  }
 ],
 "metadata": {
  "kernelspec": {
   "display_name": "cc_env_hitl",
   "language": "python",
   "name": "python3"
  },
  "language_info": {
   "codemirror_mode": {
    "name": "ipython",
    "version": 3
   },
   "file_extension": ".py",
   "mimetype": "text/x-python",
   "name": "python",
   "nbconvert_exporter": "python",
   "pygments_lexer": "ipython3",
   "version": "3.7.6"
  }
 },
 "nbformat": 4,
 "nbformat_minor": 2
}

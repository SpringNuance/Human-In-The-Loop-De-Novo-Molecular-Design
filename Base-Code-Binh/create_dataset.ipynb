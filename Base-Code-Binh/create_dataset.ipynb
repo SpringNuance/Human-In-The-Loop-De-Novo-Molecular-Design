{
 "cells": [
  {
   "cell_type": "code",
   "execution_count": 30,
   "metadata": {},
   "outputs": [
    {
     "name": "stdout",
     "output_type": "stream",
     "text": [
      "The autoreload extension is already loaded. To reload it, use:\n",
      "  %reload_ext autoreload\n"
     ]
    }
   ],
   "source": [
    "%load_ext autoreload\n",
    "%autoreload 2"
   ]
  },
  {
   "cell_type": "code",
   "execution_count": 31,
   "metadata": {},
   "outputs": [],
   "source": [
    "# load dependencies\n",
    "import sys\n",
    "import pickle\n",
    "import os\n",
    "import shutil\n",
    "import json\n",
    "import pandas as pd\n",
    "import numpy as np\n",
    "import rdkit.Chem as Chem\n",
    "from numpy.random import default_rng\n",
    "import torch\n",
    "from ast import literal_eval\n",
    "from torch import nn, optim\n",
    "from rdkit import Chem\n",
    "from rdkit.Chem import AllChem\n",
    "from tdc import Oracle\n",
    "import subprocess"
   ]
  },
  {
   "cell_type": "markdown",
   "metadata": {},
   "source": [
    "### Loading the main dataset"
   ]
  },
  {
   "cell_type": "code",
   "execution_count": 32,
   "metadata": {},
   "outputs": [
    {
     "name": "stdout",
     "output_type": "stream",
     "text": [
      "The number of compounds in the final test set is:  620480\n",
      "The number of compounds with drd2 is:  7759\n",
      "The number of compounds without drd2 is:  612721\n",
      "Ratio of compounds without drd2:  0.9874951650335224\n",
      "Ratio of compounds with drd2:  0.012504834966477566\n",
      "Ratio of compounds with drd2/compounds without drd2:  0.012663186017779706\n"
     ]
    }
   ],
   "source": [
    "from helper import compute_fingerprints\n",
    "\n",
    "drd2_final_test_large = pd.read_csv(\"data/drd2_final_large.csv\")\n",
    "\n",
    "print(\"The number of compounds in the final test set is: \", drd2_final_test_large.shape[0])\n",
    "\n",
    "smiles = drd2_final_test_large[\"smiles\"].to_numpy()\n",
    "# features = compute_fingerprints(smiles)\n",
    "labels = drd2_final_test_large[\"label\"].to_numpy()\n",
    "\n",
    "num_with_drd2 = len([x for x in labels if x == 1])\n",
    "num_without_drd2 = len([x for x in labels if x == 0])\n",
    "print(\"The number of compounds with drd2 is: \", num_with_drd2)\n",
    "print(\"The number of compounds without drd2 is: \", num_without_drd2)\n",
    "\n",
    "print(\"Ratio of compounds without drd2: \", num_without_drd2/len(labels))\n",
    "print(\"Ratio of compounds with drd2: \", num_with_drd2/len(labels))\n",
    "print(\"Ratio of compounds with drd2/compounds without drd2: \", num_with_drd2/num_without_drd2)\n",
    "\n",
    "# delete the drd2_final_test_large dataframe to free up memory\n",
    "# del drd2_final_test_large"
   ]
  },
  {
   "cell_type": "markdown",
   "metadata": {},
   "source": [
    "### Constructing the training and testing dataset"
   ]
  },
  {
   "cell_type": "code",
   "execution_count": 33,
   "metadata": {},
   "outputs": [
    {
     "name": "stdout",
     "output_type": "stream",
     "text": [
      "The number of combinations is:  1313400\n",
      "The number of values after converting to fingerprints is:  2689843200\n",
      "The number of batches is:  14.0\n",
      "The size of the values in MB is:  10260.9375\n",
      "The size of the values in MB/batch is:  732.9241071428571\n",
      "The size of the values in GB is:  10.02044677734375\n",
      "The size of the values in GB/batch is:  0.7157461983816964\n"
     ]
    }
   ],
   "source": [
    "# Calculate nCr \n",
    "def nCr(n, r):\n",
    "    return (np.math.factorial(n) / (np.math.factorial(r) * np.math.factorial(n - r)))\n",
    "\n",
    "number_of_combinations = int(nCr(200, 3))\n",
    "print(\"The number of combinations is: \", number_of_combinations)\n",
    "\n",
    "# fps finger print has dimension 2048\n",
    "number_of_values_fps = number_of_combinations * 2048\n",
    "print(\"The number of values after converting to fingerprints is: \", number_of_values_fps)\n",
    "# Each is float 32, now we need to know in MB\n",
    "size_of_values = number_of_values_fps * 4 / 1024 / 1024\n",
    "\n",
    "batch_pred = 100000\n",
    "num_batch = np.ceil(number_of_combinations / batch_pred)\n",
    "print(\"The number of batches is: \", num_batch)\n",
    "print(\"The size of the values in MB is: \", size_of_values)  \n",
    "print(\"The size of the values in MB/batch is: \", size_of_values/num_batch)\n",
    "print(\"The size of the values in GB is: \", size_of_values/1024)\n",
    "print(\"The size of the values in GB/batch is: \", size_of_values/1024/num_batch)\n"
   ]
  },
  {
   "cell_type": "code",
   "execution_count": 34,
   "metadata": {},
   "outputs": [
    {
     "name": "stdout",
     "output_type": "stream",
     "text": [
      "The number of compounds with drd2 in the training set is:  100\n",
      "The number of compounds without drd2 in the training set is:  100\n",
      "The number of compounds with drd2 in the test set is:  100\n",
      "The number of compounds without drd2 in the test set is:  100\n"
     ]
    }
   ],
   "source": [
    "num_points_test = 200\n",
    "num_points_train = 200\n",
    "num_points = num_points_test + num_points_train\n",
    "\n",
    "ratio_drd2_over_num_points = 0.5 # Even though the actual ratio is 0.015, we want to have a higher ratio of compounds with drd2 in the final test set\n",
    "\n",
    "num_with_drd2_to_select = int(num_points * ratio_drd2_over_num_points)\n",
    "num_without_drd2_to_select = num_points - num_with_drd2_to_select\n",
    "\n",
    "# get the indices of the compounds with drd2\n",
    "indices_without_drd2 = [i for i, x in enumerate(labels) if x == 0]\n",
    "indices_with_drd2 = [i for i, x in enumerate(labels) if x == 1]\n",
    "\n",
    "# randomly select compounds with drd2\n",
    "rng = default_rng()\n",
    "selected_indices_with_drd2 = rng.choice(indices_with_drd2, num_with_drd2_to_select, replace=False)\n",
    "selected_indices_without_drd2 = rng.choice(indices_without_drd2, num_without_drd2_to_select, replace=False)\n",
    "\n",
    "chosen_indices = np.concatenate((selected_indices_without_drd2, selected_indices_with_drd2))\n",
    "\n",
    "# get the smiles and labels of the chosen indices\n",
    "chosen_smiles = smiles[chosen_indices]\n",
    "chosen_labels = [0] * num_without_drd2_to_select + [1] * num_with_drd2_to_select\n",
    "chosen_labels = np.array(chosen_labels)\n",
    "\n",
    "# train test split\n",
    "\n",
    "from sklearn.model_selection import train_test_split\n",
    "\n",
    "chosen_smiles_train, chosen_smiles_test, chosen_labels_train, chosen_labels_test = train_test_split(chosen_smiles, chosen_labels, \n",
    "                                                                                                    test_size=num_points_test/(num_points_test + num_points_train), \n",
    "                                                                                                    random_state=42, stratify=chosen_labels)\n",
    "drd2_final_train_small = pd.DataFrame()\n",
    "drd2_final_test_small = pd.DataFrame()\n",
    "\n",
    "drd2_final_train_small[\"smiles\"] = chosen_smiles_train\n",
    "drd2_final_train_small[\"label\"] = chosen_labels_train\n",
    "\n",
    "drd2_final_test_small[\"smiles\"] = chosen_smiles_test\n",
    "drd2_final_test_small[\"label\"] = chosen_labels_test\n",
    "\n",
    "# Sanity checking\n",
    "\n",
    "num_with_drd2_train = len([x for x in chosen_labels_train if x == 1])\n",
    "num_without_drd2_train = len([x for x in chosen_labels_train if x == 0])\n",
    "print(\"The number of compounds with drd2 in the training set is: \", num_with_drd2_train)\n",
    "print(\"The number of compounds without drd2 in the training set is: \", num_without_drd2_train)\n",
    "\n",
    "num_with_drd2_test = len([x for x in chosen_labels_test if x == 1])\n",
    "num_without_drd2_test = len([x for x in chosen_labels_test if x == 0])\n",
    "\n",
    "print(\"The number of compounds with drd2 in the test set is: \", num_with_drd2_test)\n",
    "print(\"The number of compounds without drd2 in the test set is: \", num_without_drd2_test)\n",
    "\n",
    "drd2_final_train_small.to_csv(\"data/drd2_final_train_small.csv\", index=False)\n",
    "drd2_final_test_small.to_csv(\"data/drd2_final_test_small.csv\", index=False)"
   ]
  },
  {
   "cell_type": "markdown",
   "metadata": {},
   "source": [
    "### Checking if the Oracle agrees with the labels"
   ]
  },
  {
   "cell_type": "code",
   "execution_count": 35,
   "metadata": {},
   "outputs": [
    {
     "name": "stderr",
     "output_type": "stream",
     "text": [
      "Found local copy...\n"
     ]
    },
    {
     "name": "stdout",
     "output_type": "stream",
     "text": [
      "['CC1CC(C)N1C(=O)C1Cc2c(cc3c[nH]c4c3c2C=CC4)N(C)C1', 'CN(C)c1ccc(C=C2C(=O)OC3(CCCC3)OC2=O)cc1', 'COc1ccc(C(=O)C=Cc2ccccc2F)c(OC(=O)c2ccc([N+](=O)[O-])cc2)c1', 'O=C(CN1CCN(Cc2ccc(Cl)cc2)CC1)N1c2ccccc2CC12CCCC2', 'CCc1ccc(NC2=NC(=O)N(C3CCCCC3)C(=O)C2)cc1', 'O=C1c2ccccc2C(=O)N1CCCCCCCN1CC=C(c2c[nH]c3ccc(F)cc23)CC1', 'Clc1ccc(N2CCN(Cc3cn4cc(Br)ccc4n3)CC2)cc1Cl', 'Clc1ccc(-c2cc(C3CCN(CC4CCCCC4)CC3)[nH]n2)cc1', 'Oc1cc2c(cc1O)C1c3ccncc3CNC1CC2', 'C=CCN1CCC2c3cccc(OC)c3CCC21', 'Cc1nnc(NC(=O)CSc2nc3nc4ccccc4c-3n[nH]2)s1', 'Cc1cc([N+](=O)[O-])nn1CC(=O)NC(C)c1ccccc1', 'Cc1cccc(NC(=O)c2ccc(CN3CCc4ccccc4C3)cc2)c1C', 'Oc1c2c(c(O)n1C1CCCCC1)C1CC2C2ON=C(c3ccc(Cl)cc3)C12', 'CCCc1nnc(SCc2ccccc2Cl)[nH]1', 'CN(C)CCC=C1c2ccccc2Sc2ccc(Cl)cc21', 'Cc1ccc(CC(=O)NCC=S(O)c2ccc(C)cc2)cc1', 'Cn1ncc2c1-c1c(Cl)sc(Cl)c1CCC2', 'CCOC(=O)C(C)On1c(-c2cccc(Cl)c2)nc2ccc([N+](=O)[O-])cc21', 'CN(C(=O)COC(=O)c1cc(S(=O)(=O)N2CCCCC2)ccc1N1CCOCC1)C1C=S(O)(O)=CC1', 'Cc1c(S(=O)(=O)NCCCCN2CCC(c3noc4cc(F)ccc34)CC2)sc2ccc(F)cc12', 'Oc1nc2c(O)ccc(C(O)CNCCSCCCNCCc3ccccc3Cl)c2s1', 'O=C1NC(=O)N(C2CCCCC2)C(=O)C1C1=Nc2ccccc2SC(c2ccccc2)C1', 'Cc1c(OCCCN2CCN(c3cccc4cccc(F)c34)CC2)ccc2c[nH]c(O)c12', 'c1ccc2c(c1)CCN(Cc1c[nH]c3ncccc13)C2', 'COc1ccc(N(Cc2cc3ccc(C)cc3nc2O)C(C)=O)cc1', 'Nc1ccccc1C(=O)N1CCc2ccccc21', 'COc1ccc(OCC(O)CNC(=O)Nc2ccc(F)cc2)cc1', 'COc1ccccc1N1CCN(CCNC(=O)c2ccc3ccccc3c2)CC1', 'Cc1ccccc1OCC(O)Cn1c(=N)n(CCN2CCOCC2)c2ccccc21', 'Cc1ccc(C(=O)ON=C(c2nonc2N)N(C)C)cc1', 'CCCCC(CCC(=O)Nc1nccs1)C(=O)O', 'CC(C)(C)C1(O)CCN2CC3c4ccccc4CCc4cccc(c43)C2C1', 'O=C(NCCCCN1CCN(C(c2ccccc2)c2ccc(Cl)cc2)CC1)C1CCCCC1', 'CC(SCCc1ccccn1)C(=O)O', 'Cc1cc(C)cc(-c2nnc(SCC(=O)N3CCN(C(=O)c4ccco4)CC3)o2)c1', 'CCNC(=O)Nc1cc(F)ccc1C(=O)CCCN1CCC2C(C1)c1cccc3c1N2CCCS3', 'CCOC(=O)c1cnc(SC)nc1Nc1cccc2ccccc12', 'O=C(C=Cc1ccccc1)NCCCCN1CCc2ccccc2C1', 'COc1c(C(=O)NCCN2CCN(c3cccc(C)c3)CC2)cc(Br)c2ccccc12', 'CN1CCN(C2=Nc3cc(Cl)ccc3N(C(=O)CCCCCCCCCCCCCCCCC(=O)N3c4ccc(Cl)cc4N=C(N4CCN(C)CC4)c4ccccc43)c3ccccc32)CC1', 'O=Cc1ccccc1-c1ccc(C(=O)NC2CCN(Cc3ccccc3)C2)cc1', 'Fc1ccc(C(OC2CC3CCC(C2)N3Cc2ccc(Cl)c(Cl)c2)c2ccc(F)cc2)cc1', 'CC1Cc2ccccc2N1C(=O)CN1CCN(Cc2cc(Cl)ccc2Cl)CC1', 'Cc1ccc(NC(=O)C2(N3CCC3=O)CCCCC2)cc1', 'COc1ccccc1N1CCN(CC(=O)c2c(C)[nH]c3ccccc23)CC1', 'Cc1cccn2cc(-c3ccc(OCCCCN4CCN(c5cccc(Cl)c5Cl)CC4)cc3)nc12', 'CC1CC(=O)Nc2c(CCN3CCN(c4n[s+](O)c5ccccc45)CC3)cc(F)cc21', 'CC(C)C(=O)NNC(=O)CC(=O)Nc1ccccc1C(=O)O', 'CON=C(c1ccc(Cl)cc1)C(C)CN1CCN(c2ccccn2)CC1', 'Cc1ccc(-c2noc(C3CCCN(C(=O)c4ccc(C(C)(C)C)cc4)C3)n2)o1', 'COc1ccc(C2CCN(Cc3ccc4c(c3)OCC(=O)N4)CC2)cc1', 'CC1=CC(=O)C(C(C)=NNc2ccc(Cl)cc2)C(=O)O1', 'O=C1NCCN1CCN1CCC(c2cn(-c3ccc(F)cc3)c3ccc(Cl)cc23)CC1', 'COc1ccccc1N1CCN(CCCc2ccc3[nH]c(S)nc3c2)CC1', 'OC(CN1CCN(c2cccc(Cl)c2)CC1)c1ccccc1', 'O=C(NCCN1CCN(c2cccc(Cl)c2Cl)CC1)c1cccc(C#Cc2ccccc2)c1', 'COc1cc(C=NNC(=O)c2ccc(Cl)cc2)ccc1OCC(=O)N1CC(C)OC(C)C1', 'c1cc2c(c(N3CCN(CCCc4c[nH]c5ccccc45)CC3)c1)CCCO2', 'Oc1ccccc1OCCNCc1ccccc1', 'O=C(C#Cc1ccccc1)NC1CCN(Cc2ccccc2)CC1', 'COCCNCC(=O)NCC12CC3CC(CC(C3)C1)C2', 'O=C1CC2(CCN(CCc3ccccc3)CC2)OCC1c1ccc(F)cc1', 'CC(C)c1ccc(NC(=O)COC(=O)C(CCC(N)=O)NC(=O)c2ccc(F)cc2)cc1', 'Cc1ccc2occ(CC(=O)Nc3c(C(=O)Nc4ccc(Cl)cc4)oc4ccccc34)c2c1', 'Oc1nc2c(O)ccc(C(O)CNCCc3ccccc3CNCCc3ccccc3F)c2s1', 'CCOC(=O)N1CCN(CC(O)COc2ccc(C(C)C)c(C)c2)CC1', 'OC(COCC1CC=CCC1)Cn1cnc2ccccc21', 'CN1CCc2cc(Cl)c(O)cc2C(c2ccc(CN(C)S(=O)(=O)c3ccccc3)cc2)C1', 'COc1ccc(N(CC(=O)NCCC2=CCCCC2)S(=O)(=O)c2c(C)nc(O)nc2O)cc1', 'CCN1CCCC1CNC(=O)c1cc(Cl)cc(O)c1OC', 'Fc1ccc(OCC2CCC3CN(c4ccc(Cl)cn4)CCN3C2)cc1', 'COc1ccccc1C=C1SC(=S)N(C(C)C(=O)N=C2C=S(O)(O)=CC2)C1=O', 'COC(=O)c1ccc(OCC(O)CN2C(=O)NC(C)(C)C2=O)cc1', 'COc1ccc(-c2c(C)oc3c(CN4CCCCC4C)c(O)ccc3c2=O)cc1', 'O=C1c2ccoc2CCC1CCN1CCC(c2noc3cc(F)ccc23)CC1', 'Cc1c(NC(=O)CN2C(=O)NC3(CCCCC3C)C2=O)cccc1[N+](=O)[O-]', 'Cn1cccc1C(=O)OCC(=O)N1CC(=O)Nc2ccccc21', 'Fc1ccc(N2CCN(Cc3cn4ccncc4n3)CC2)cc1', 'Cc1ccccc1Cn1c(COc2ccc(Cl)cc2)nc2ccccc21', 'COc1ccc(-n2cc(C(=O)c3cc4ccccc4oc3=O)c(C(C)=O)n2)cc1', 'Nc1cccc(C(=O)NCC=CCN2CCN(c3cccc(Cl)c3Cl)CC2)c1', 'COc1ccc(CNC(=O)CSc2ncc(S(=O)(=O)c3ccc(Br)cc3)c(O)n2)cc1', 'CCOCCCNC(=O)c1ccc(N(C)S(=O)(=O)c2ccc(OC)cc2)cc1', 'CN1C(=O)c2ccc(C(=O)Nc3ccc4c(c3)OCO4)cc2C1=O', 'OCCC1CN(Cc2cccc3nonc23)CCN1Cc1ccsc1', 'N#Cc1ccc(CSc2nnc(-c3cnccn3)o2)cc1', 'COc1ccccc1CNCCc1cccc(CCNCC(O)c2ccc(O)c3nc(O)sc23)c1', 'CCOc1ccc(S(=O)(=O)NCCC(=O)NCC2COc3ccccc3O2)cc1', 'CCc1ccc(OCC(=O)NCC(c2ccc(Cl)cc2)N2CCCCC2)cc1', 'Cn1ccc(C(=O)Nc2ccc3c(c2)OCCO3)n1', 'CCN1CCN(CCNC(=O)C=S(O)(O)=Cc2nc(-c3ccc(C)cc3)oc2C)CC1', 'CN(C)CCC=C1c2ccccc2COc2ccc(CC(=O)O)cc21', 'COc1cc2c(cc1O)C1Cc3ccc(O)c(OC)c3CN1CC2', 'Cc1onc(-c2c(Cl)cccc2Cl)c1NC(=O)NNc1c(Cl)cncc1Cl', 'Cc1[nH]c2ccccc2c1C(=O)CSCC(=O)O', 'C=CCN1CC=C(C2=Cc3ccccc3Cc3ccccc32)CC1', 'COc1ccc(S(=O)(=O)N(Cc2cccs2)C2CCCC2)cc1', 'O=C(NC1CCCCC1)N(CCN1CCCC1)Cc1cc2cc3c(cc2nc1O)OCCO3', 'Oc1nnc(O)n1-c1ccccc1', 'Cn1c(N2CCCC2)nc2c(CN3CCN(c4ccccc4)CC3)c[nH]c2c1=O', 'O=C(NN1C(=O)c2ccccc2NC12CCCCC2)c1ccccc1', 'CCOc1ccc(C(C)NC(=O)CN2C(=O)NC3(CCCCC3)C2=O)cc1OCC', 'Nc1ccc2c(c1)C(=O)C(CCN1CCC(c3noc4cc(F)ccc34)CC1)CC2', 'COc1ccc(NC(=O)Cn2nnc(C(=O)NCc3cccs3)c2N)c(OC)c1', 'O=C(NCC=CCN1CCN(c2cccc(Cl)c2Cl)CC1)c1ccc(O)cc1', 'CCOC(=O)N1CCc2c(sc3ncn(C)c(=O)c23)C1', 'CC(=O)Nc1ccccc1C(=O)N1CCN(Cc2ccc3c(c2)OCO3)CC1', 'CCOc1cccc2sc(N(CCCN(C)C)C(=O)c3ccc(S(=O)(=O)N4CCc5ccccc5C4)cc3)nc12', 'CCOC(=O)N1CCN(C(=O)CCc2ccc(S(=O)(=O)NC(C)C)cc2)CC1', 'COc1ccc(CN2CCN(Cc3ccccc3)C(CCO)C2)cc1OC', 'O=C(Nc1nn[nH]n1)c1cccc(Oc2ccccc2)c1', 'COc1ccccc1C(=O)NCCSCc1ccccc1Cl', 'CC1=C(C#N)C(=O)N(CCO)C(=O)C1=NNc1ccc2c(O)occ2c1', 'c1ccc(-c2nc(CN3CCN(c4ccccc4)CC3)c[nH]2)cc1', 'COc1ccc(S(=O)(=O)NC2CCC(N3CCC(c4cc(F)ccc4OC(C)C)CC3)CC2)cc1OC', 'CSCCC(NC(=O)COc1ccccc1)C(=O)O', 'Cc1cc(C)c(C#N)c(SCC(=O)Nc2ccccc2C)n1', 'CNc1oc(-c2cccs2)nc1S(=O)(=O)c1ccccc1', 'COc1cc2c(cc1O)CCN1Cc3c(ccc(O)c3OC)CC21', 'Cc1c(C(=O)N2CCCCC2)c(S(=O)(=O)N2CCN(c3ccccc3F)CC2)c(C)n1C', 'N#Cc1ccccc1N1CCN(CCCCCC(=O)NC2CCCc3ccccc32)CC1', 'Oc1nc2ccc(CCN3CCN(c4cccc(C(F)(F)F)c4)CC3)cc2nc1O', 'CCOc1ccc(NC(=O)CN2C(=O)C3CCCN3C2=O)cc1', 'c1ccc(-c2ncc(CN3CCN(c4ccccn4)CC3)[nH]2)cc1', 'O=C(NCCCCN1CCN(c2cccc(Cl)c2Cl)CC1)c1ccc(F)nc1', 'c1ccc(N2CCN(CC3CCC(Nc4ncccn4)CC3)CC2)cc1', 'COc1ccc(CCNS(=O)(=O)c2cn(C)nc2C)cc1OC', 'Fc1ccc(CCN2CCC3(CCc4ccc(F)cc4O3)CC2)c(F)c1', 'CCc1ccc(-n2c(-c3ccccc3)c(C)n3c4c(=O)n(C)c(=O)n(C)c4nc23)cc1', 'CN(C)CC1(C)CC(=O)C(c2ccccc2)=CO1', 'CN1CCc2cc(Cl)c(O)cc2C2c3cccc(-c4ccc(CO)cc4)c3CCC21', 'Cc1ccc(-c2nc(S(=O)(=O)c3ccc(C)cc3)c(N(C)C)o2)cc1', 'COc1ccccc1N1CCN(CCCCNC(=O)c2nccc3ccccc23)CC1', 'Cc1ccc(S(=O)(=O)N2CCN(CC(=O)NN=Cc3ccccc3OCC(=O)O)CC2)cc1', 'Cc1ccc(-n2ncc3c(O)nc(SC(C)C)nc32)cc1', 'O=C(Nc1ccccc1)c1nc2ccccc2s1', 'COC(=O)N1CCc2ccc(N=CN3CCc4cc(OC)c(OC)cc4C3)cc21', 'CC1CCCCC1NC(=O)c1ccco1', 'O=C(CCS(=O)(=O)c1ccc(Br)cc1)N1CCN(c2ccc(Cl)cc2)CC1', 'O=c1n(CCCN2CCCCCC2)ccn1-c1cccc(Cl)c1', 'COc1ccc(Cl)cc1NC(=O)NC1CCC(N2CCN(c3ccccc3OC(C)C)CC2)CC1', 'CCC(=O)NCCCCN1CCN(c2cccc(Cl)c2Cl)CC1', 'O=C(CCCCN1CCN(c2ncccn2)CC1)c1nc2ccccc2s1', 'O=C(NNC(=O)c1ccc2nc(O)c(O)nc2c1)c1cccc(Br)c1', 'COc1ccccc1N1CCN(CCCCNC(=O)c2cccn3nccc23)CC1', 'C=CCN1CCCC1CNC(=O)c1cc(CCCCl)cc(OC)c1OC', 'Oc1ccc(-n2nnnc2SCc2c(F)cccc2Cl)cc1', 'Oc1ccc(O)n1-c1nc2nc(-c3ccccc3)cc(O)n2n1', 'COc1ccc(N2CCN(c3oc(Cc4cccc5ccccc45)nc3C#N)CC2)cc1', 'c1ccc(N2CCN(CCC3CCC(Nc4ncccn4)CC3)CC2)nc1', 'O=C(Nc1ccccn1)c1ccc2c(c1)OCCO2', 'COc1ccccc1N1CCN(CCCCNC(=O)c2cc3ccccn3n2)CC1', 'O=C(c1ccco1)N1CCN(S(=O)(=O)Cc2ccccc2Cl)CC1', 'O=C1N(CCN2Cc3ccccc3C2)CCN1Cc1cccc(Cl)c1', 'CCc1ccc(O)c(OC)c1C(=O)NCC1CCCN1CC', 'CC(C)(C)c1ccc(C(=O)CCCN2CCC(OC(c3ccccc3)c3ccccc3)CC2)cc1', 'O=C(CSc1ncn[nH]1)Nc1ccc(Br)cc1F', 'O=C(CSc1nnnn1-c1ccc(F)cc1)Nc1ccccc1F', 'Cc1cnc(-c2nnc(SCCN3CCc4ccc(-c5cc(C)nn5C)cc4CC3)n2C)cn1', 'COc1ccc2c(c1)CCCC21CCN(CCCSc2nnc(-c3ocnc3C)n2C)C1', 'Cc1ccc(NC(=S)NCC(C)CSc2ccc(Cl)cc2)cc1', 'COc1cc(C23CNCC2C3)ccc1NS(=O)(=O)c1ccc(C(C)C)cc1', 'COc1ccc(-c2cc(CCCCN3CCN(c4ccccc4)CC3)on2)c(OC)c1', 'O=C1CCc2ccc(CC3CCN(CC4COc5c(ccc6c5CC(=O)N6)O4)CC3)cc2N1', 'O=c1cc(-c2ccccc2)oc2cc(OCc3ccccc3)cc(O)c12', 'COc1ccc(CNC(=O)c2ccc3c(c2)NC(=O)c2ccccc2[S+]3[O-])cc1', 'CCC1Oc2ccc(C)cc2N(CC(=O)N2CCOCC2)C1=O', 'CNc1ccccc1N1CCN(CCCCCC(=O)NC2CCCc3ccccc32)CC1', 'Cc1[nH]c(-c2ccccc2)cc1C(=O)NCCCN1CCN(c2cccc(Cl)c2Cl)CC1', 'CCOC(=O)CSC1=NC(=O)CC(c2ccc(C)s2)C1C#N', 'Oc1nc2c(O)ccc(C(O)CNCCc3ccc(CNCCc4ccccc4)cc3)c2s1', 'OC1(c2ccc(Cl)c(Cl)c2)CC2CCC(C1)N2Cc1coc2ccccc12', 'COc1ccccc1N1CCN(Cc2ccn(-c3ccccc3)c2)CC1', 'CCCCNC1CCc2c(cccc2OC)C1', 'O=C(CCCN1CCC2(CCc3ccccc3C2=O)CC1)c1ccc(F)cc1', 'COc1ccccc1C(=O)Nc1nnc(SC=C2CC(=O)N3C=CC(C)=CC3=N2)s1', 'Fc1ccc(-c2cncc(CNCC3CCc4ccccc4O3)c2)cc1', 'Cc1cccc(C#N)c1-c1cccc2c1-c1cccc3c1C(C2)N(C)CC3', 'CCOc1ccc(C=NN2CCN(Cc3ccccc3)CC2)cc1', 'CC(C)c1ccccc1N1CCN(CCCCCC(=O)N2CCc3ccccc3C2)CC1', 'Cc1[nH]c2ccc(OCc3ccccc3)cc2c1CCN', 'CCCN1CCc2cccc3c2C1Cc1cccc(OC(=O)CSc2ccccc2)c1-3', 'C=CCN1CCCC1CNC(=O)c1cc(CCCF)cc(OC)c1OC', 'O=C1CCc2ccc(OCCCCN3CCN(c4ccccc4C(F)(F)F)CC3)cc2N1', 'Cc1ccc2c(C)c(C(=O)N(C)C(C)c3ccon3)oc2c1C', 'CC(C)Oc1ccccc1N1CCN(C2CCC(NS(=O)(=O)c3ccccc3F)CC2)CC1', 'O=C(CN1CCC(C(=O)c2ccc(F)cc2)CC1)Nc1ccccc1', 'COc1ccc(CCN2CCC(Nc3nc4ccccc4n3Cc3ccc(F)cc3)CC2)cc1', 'CCCN(CCN1CCN(c2ccc(-c3ccccc3)cc2)CC1)C1CCc2nc(N)sc2C1', 'O=C1c2ccc(Cl)cc2CCC12CCN(CCc1ccccc1)CC2', 'COc1ccccc1CNCCc1cccc(CCNCC(O)c2ccc(O)c3nc(O)sc23)c1', 'O=C(CSc1nc2c(c(C(F)(F)F)n1)CCc1ccccc1-2)NCc1ccccc1', 'CC(C)SCc1cc(N2CCCC2)nc(-c2ccccc2)n1', 'CCCN1CCN(C(c2cc3cc(OC)ccc3nc2O)c2nnnn2C2CCCCC2)CC1', 'COC(=O)c1c(NC(=O)C(=O)NCC2CCCO2)sc2c1CC(C)(C)OC2', 'Cc1cccc2c(CN3CCN(c4ccc(Cl)cc4)CC3)cnn12', 'Cc1ccc(N2CCN(Cc3ccc4c(c3)NC(=O)CO4)CC2)cc1C', 'CCCN(CCC)C1CCc2nc(N)ccc2C1', 'O=C(NCCCN1CCN(c2ccccc2)CC1)C1c2ccccc2-c2ccccc21']\n",
      "The average probability of molecules with label 0 is:  0.013093932490894038\n",
      "The average probability of molecules with label 1 is:  0.7866250791595584\n"
     ]
    }
   ],
   "source": [
    "from helper import compute_fingerprints\n",
    "\n",
    "drd2_final_test_small = pd.read_csv(\"data/drd2_final_test_small.csv\")\n",
    "smiles_list = drd2_final_test_small[\"smiles\"].tolist()\n",
    "print(smiles_list)\n",
    "labels = drd2_final_test_small[\"label\"].to_numpy()\n",
    "\n",
    "oracle = Oracle(name='DRD2')\n",
    "proba_molecules = [oracle(smiles) for smiles in smiles_list]\n",
    "\n",
    "# Probability list of molecules where label is 0\n",
    "proba_molecules_0 = [proba for i, proba in enumerate(proba_molecules) if labels[i] == 0]\n",
    "\n",
    "# Probability list of molecules where label is 1\n",
    "proba_molecules_1 = [proba for i, proba in enumerate(proba_molecules) if labels[i] == 1]\n",
    "\n",
    "# Average values \n",
    "average_proba_molecules_0 = np.mean(proba_molecules_0)\n",
    "average_proba_molecules_1 = np.mean(proba_molecules_1)\n",
    "\n",
    "print(\"The average probability of molecules with label 0 is: \", average_proba_molecules_0)\n",
    "print(\"The average probability of molecules with label 1 is: \", average_proba_molecules_1)\n"
   ]
  }
 ],
 "metadata": {
  "kernelspec": {
   "display_name": "cc_env_hitl",
   "language": "python",
   "name": "python3"
  },
  "language_info": {
   "codemirror_mode": {
    "name": "ipython",
    "version": 3
   },
   "file_extension": ".py",
   "mimetype": "text/x-python",
   "name": "python",
   "nbconvert_exporter": "python",
   "pygments_lexer": "ipython3",
   "version": "3.7.6"
  }
 },
 "nbformat": 4,
 "nbformat_minor": 2
}

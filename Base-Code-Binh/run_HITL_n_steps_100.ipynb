{
 "cells": [
  {
   "cell_type": "code",
   "execution_count": 1,
   "metadata": {},
   "outputs": [],
   "source": [
    "%load_ext autoreload\n",
    "%autoreload 2"
   ]
  },
  {
   "cell_type": "markdown",
   "metadata": {},
   "source": [
    "##### Please run this code with the kernel reinvent.v3.2"
   ]
  },
  {
   "cell_type": "code",
   "execution_count": 2,
   "metadata": {},
   "outputs": [],
   "source": [
    "# load dependencies\n",
    "import sys\n",
    "import pickle\n",
    "import os\n",
    "import shutil\n",
    "import json\n",
    "import pandas as pd\n",
    "import numpy as np\n",
    "import rdkit.Chem as Chem\n",
    "from numpy.random import default_rng\n",
    "import torch\n",
    "from ast import literal_eval\n",
    "from torch import nn, optim\n",
    "from rdkit import Chem\n",
    "from rdkit.Chem import AllChem\n",
    "from tdc import Oracle\n",
    "import subprocess"
   ]
  },
  {
   "cell_type": "markdown",
   "metadata": {},
   "source": [
    "### First, we need to install the custom reinvent scoring package to support the Bradley-Terry model"
   ]
  },
  {
   "cell_type": "code",
   "execution_count": 3,
   "metadata": {},
   "outputs": [
    {
     "name": "stdout",
     "output_type": "stream",
     "text": [
      "Python version: 3.11.5 (main, Sep 11 2023, 13:54:46) [GCC 11.2.0]\n"
     ]
    }
   ],
   "source": [
    "# print python version\n",
    "import sys\n",
    "\n",
    "# Print Python version\n",
    "print(f\"Python version: {sys.version}\")"
   ]
  },
  {
   "cell_type": "code",
   "execution_count": 4,
   "metadata": {},
   "outputs": [
    {
     "name": "stdout",
     "output_type": "stream",
     "text": [
      "Name: reinvent-scoring\n",
      "Version: 0.0.73\n",
      "Summary: Scoring functions for Reinvent\n",
      "Home-page: https://github.com/MolecularAI/reinvent-scoring.git\n",
      "Author: MolecularAI\n",
      "Author-email: patronov@gmail.com\n",
      "License: \n",
      "Location: /home/springnuance/reinvent-hitl/reinvent-scoring\n",
      "Editable project location: /home/springnuance/reinvent-hitl/reinvent-scoring\n",
      "Requires: \n",
      "Required-by: \n"
     ]
    }
   ],
   "source": [
    "! pip show reinvent_scoring"
   ]
  },
  {
   "cell_type": "code",
   "execution_count": 5,
   "metadata": {},
   "outputs": [],
   "source": [
    "# ! conda install scikit-learn=0.21.3"
   ]
  },
  {
   "cell_type": "markdown",
   "metadata": {},
   "source": [
    "##### If there already exists reinvent_scoring, we should uninstall it"
   ]
  },
  {
   "cell_type": "code",
   "execution_count": 6,
   "metadata": {},
   "outputs": [
    {
     "name": "stdout",
     "output_type": "stream",
     "text": [
      "Found existing installation: reinvent-scoring 0.0.73\n",
      "Uninstalling reinvent-scoring-0.0.73:\n",
      "  Successfully uninstalled reinvent-scoring-0.0.73\n"
     ]
    }
   ],
   "source": [
    "! pip uninstall -y reinvent_scoring"
   ]
  },
  {
   "cell_type": "markdown",
   "metadata": {},
   "source": [
    "##### Now we install the custom reinvent scoring package\n",
    "##### The flag -e means that the package is installed in editable mode, so that changes to the code will be immediately available without reinstalling the package. All package info is stored in the setup.py file."
   ]
  },
  {
   "cell_type": "code",
   "execution_count": 7,
   "metadata": {},
   "outputs": [
    {
     "name": "stdout",
     "output_type": "stream",
     "text": [
      "Obtaining file:///home/springnuance/reinvent-hitl/reinvent-scoring\n",
      "  Preparing metadata (setup.py) ... \u001b[?25ldone\n",
      "\u001b[?25hInstalling collected packages: reinvent-scoring\n",
      "  Running setup.py develop for reinvent-scoring\n",
      "Successfully installed reinvent-scoring-0.0.73\n",
      "\n",
      "\u001b[1m[\u001b[0m\u001b[34;49mnotice\u001b[0m\u001b[1;39;49m]\u001b[0m\u001b[39;49m A new release of pip is available: \u001b[0m\u001b[31;49m24.0\u001b[0m\u001b[39;49m -> \u001b[0m\u001b[32;49m24.1.2\u001b[0m\n",
      "\u001b[1m[\u001b[0m\u001b[34;49mnotice\u001b[0m\u001b[1;39;49m]\u001b[0m\u001b[39;49m To update, run: \u001b[0m\u001b[32;49mpip install --upgrade pip\u001b[0m\n",
      "Obtaining file:///home/springnuance/reinvent-hitl/reinvent-chemistry\n",
      "  Preparing metadata (setup.py) ... \u001b[?25ldone\n",
      "\u001b[?25hInstalling collected packages: reinvent-chemistry\n",
      "  Attempting uninstall: reinvent-chemistry\n",
      "    Found existing installation: reinvent-chemistry 0.0.51\n",
      "    Uninstalling reinvent-chemistry-0.0.51:\n",
      "      Successfully uninstalled reinvent-chemistry-0.0.51\n",
      "  Running setup.py develop for reinvent-chemistry\n",
      "Successfully installed reinvent-chemistry-0.0.51\n",
      "\n",
      "\u001b[1m[\u001b[0m\u001b[34;49mnotice\u001b[0m\u001b[1;39;49m]\u001b[0m\u001b[39;49m A new release of pip is available: \u001b[0m\u001b[31;49m24.0\u001b[0m\u001b[39;49m -> \u001b[0m\u001b[32;49m24.1.2\u001b[0m\n",
      "\u001b[1m[\u001b[0m\u001b[34;49mnotice\u001b[0m\u001b[1;39;49m]\u001b[0m\u001b[39;49m To update, run: \u001b[0m\u001b[32;49mpip install --upgrade pip\u001b[0m\n",
      "Obtaining file:///home/springnuance/reinvent-hitl/reinvent-models\n",
      "  Preparing metadata (setup.py) ... \u001b[?25ldone\n",
      "\u001b[?25hInstalling collected packages: reinvent-models\n",
      "  Attempting uninstall: reinvent-models\n",
      "    Found existing installation: reinvent-models 0.0.15rc1\n",
      "    Uninstalling reinvent-models-0.0.15rc1:\n",
      "      Successfully uninstalled reinvent-models-0.0.15rc1\n",
      "  Running setup.py develop for reinvent-models\n",
      "Successfully installed reinvent-models-0.0.15rc1\n",
      "\n",
      "\u001b[1m[\u001b[0m\u001b[34;49mnotice\u001b[0m\u001b[1;39;49m]\u001b[0m\u001b[39;49m A new release of pip is available: \u001b[0m\u001b[31;49m24.0\u001b[0m\u001b[39;49m -> \u001b[0m\u001b[32;49m24.1.2\u001b[0m\n",
      "\u001b[1m[\u001b[0m\u001b[34;49mnotice\u001b[0m\u001b[1;39;49m]\u001b[0m\u001b[39;49m To update, run: \u001b[0m\u001b[32;49mpip install --upgrade pip\u001b[0m\n"
     ]
    }
   ],
   "source": [
    "! pip install -e \"/home/springnuance/reinvent-hitl/reinvent-scoring\"\n",
    "! pip install -e \"/home/springnuance/reinvent-hitl/reinvent-chemistry\"\n",
    "! pip install -e \"/home/springnuance/reinvent-hitl/reinvent-models\""
   ]
  },
  {
   "cell_type": "code",
   "execution_count": 8,
   "metadata": {},
   "outputs": [
    {
     "name": "stdout",
     "output_type": "stream",
     "text": [
      "\n",
      "\u001b[1m[\u001b[0m\u001b[34;49mnotice\u001b[0m\u001b[1;39;49m]\u001b[0m\u001b[39;49m A new release of pip is available: \u001b[0m\u001b[31;49m24.0\u001b[0m\u001b[39;49m -> \u001b[0m\u001b[32;49m24.1.2\u001b[0m\n",
      "\u001b[1m[\u001b[0m\u001b[34;49mnotice\u001b[0m\u001b[1;39;49m]\u001b[0m\u001b[39;49m To update, run: \u001b[0m\u001b[32;49mpip install --upgrade pip\u001b[0m\n"
     ]
    }
   ],
   "source": [
    "# ! conda install -y scikit-learn=0.21.3\n",
    "! pip list | grep reinvent_scoring"
   ]
  },
  {
   "cell_type": "code",
   "execution_count": 9,
   "metadata": {},
   "outputs": [],
   "source": [
    "from training_Bradley_Terry_model.bradley_terry import BradleyTerryModel\n",
    "from training_Rank_ListNet_model.rank_listnet import RankListNetModel\n",
    "from training_Score_Regression_model.score_regression import ScoreRegressionModel\n",
    "from scripts.helper import load_drd2_dataset, write_REINVENT_config, change_config_json, \\\n",
    "                    read_scaffold_result, load_feedback_model, smiles_human_score, \\\n",
    "                    compute_fingerprints, retrain_feedback_model,\\\n",
    "                    create_drd2_dataset, combine_drd2_dataset, save_drd2_dataset\n",
    "                        \n",
    "from scripts.acquisition import select_query_feedback\n",
    "from scripts.predict import predict_proba_from_model\n",
    "\n",
    "def check_create(path):\n",
    "    \"\"\"\n",
    "    Check if the directory exists, if not, create it.\n",
    "    \"\"\"\n",
    "    if not os.path.exists(path):\n",
    "        os.makedirs(path)\n",
    "        \n",
    "def run_HITL_classify(\n",
    "        seed, reinvent_dir, reinvent_env, output_dir, \n",
    "        feedback_type, # scoring, comparing, ranking\n",
    "        base_training_dataset_path, # path to the base training dataset\n",
    "        model_pretrained_path, # Path to the pretrained model before REINVENT_round_1\n",
    "        model_pretrained_name, # Name of the pretrained model before REINVENT_round_1\n",
    "        num_rounds, # number of rounds, corresponding to R in the paper\n",
    "        num_iters, # number of iterations of showing molecules to the human for feedback at each round, corresponding to T in the paper\n",
    "        num_queries, # number of molecules shown to the simulated chemist at each iteration\n",
    "        REINVENT_n_steps, # number of REINVENT optimization steps. This is not related to the HITL but on the REINVENT side\n",
    "        batch_size, # batch size of the reinforcement learning model, or size of scaffold_memory.csv\n",
    "        acquisition, # acquisition: 'uncertainty', 'random', 'thompson', 'greedy' \n",
    "        sigma_noise, # noise level for simulated chemist's responses\n",
    "        choose_top_smiles, # number of top scoring molecules to choose for feedback\n",
    "        training_epochs, # number of epochs for training the model in each HITL iteration\n",
    "        learning_rate, # learning rate for training the model in each HITL iteration\n",
    "        ):\n",
    "\n",
    "    np.random.seed(seed)\n",
    "    rng = default_rng(seed)\n",
    "    \n",
    "    ################################################\n",
    "    # DEFINING REINVENT JOBNAME, JOBID, OUTPUT_DIR #\n",
    "    ################################################\n",
    "\n",
    "    jobname = \"fine-tune predictive component HITL\"\n",
    "    jobid = output_dir\n",
    "    conf_filename = \"config.json\"\n",
    "\n",
    "    # create root output dir\n",
    "    check_create(output_dir)\n",
    "\n",
    "    # create HITL round folders to store results\n",
    "    for REINVENT_round in range(1, num_rounds + 1):\n",
    "        check_create(f\"{output_dir}/REINVENT_round_{REINVENT_round}\")\n",
    "        for HITL_iteration in range(1, num_iters + 1):\n",
    "            check_create(f\"{output_dir}/REINVENT_round_{REINVENT_round}/HITL_iteration_{HITL_iteration}\")\n",
    "    \n",
    "    # multi-parameter optimization (MPO) loop\n",
    "    print(f\"\\nRunning DRD2 (one objective) with rounds {num_rounds}, iters {num_iters}, queries {num_queries}, seed {seed}\")\n",
    "    print(f\"Results will be saved at {output_dir}\")\n",
    "    \n",
    "    base_training_dataset_outputs = load_drd2_dataset(feedback_type=feedback_type, \n",
    "                                                 data_path=base_training_dataset_path)\n",
    "\n",
    "    \n",
    "    print(\"Loading initial training datasets successfully\")\n",
    "\n",
    "    # ########################### REINVENT rounds ######################################\n",
    "\n",
    "    for REINVENT_round in range(1, num_rounds + 1):\n",
    "\n",
    "        print(\"=====================================\")\n",
    "        print(f\"REINVENT round = {REINVENT_round}\")\n",
    "        \n",
    "        configuration_JSON_path = write_REINVENT_config(feedback_type, reinvent_dir, jobid, jobname, \n",
    "                                REINVENT_round_output_dir=f\"{output_dir}/REINVENT_round_{REINVENT_round}\", \n",
    "                                conf_filename=conf_filename)\n",
    "\n",
    "        print(f\"Creating config file: {configuration_JSON_path}.\")\n",
    "\n",
    "        configuration = json.load(open(f\"{configuration_JSON_path}\"))\n",
    "\n",
    "        if REINVENT_round == 1:\n",
    "            current_model_path = model_pretrained_path\n",
    "        else:\n",
    "            # The last iteration's model from the previous round\n",
    "            current_model_path = f\"{output_dir}/REINVENT_round_{REINVENT_round - 1}/HITL_iteration_{num_iters}/{model_pretrained_name}\"\n",
    "\n",
    "        configuration = change_config_json(configuration, REINVENT_n_steps, batch_size, current_model_path)\n",
    "\n",
    "        # write the updated configuration file \n",
    "\n",
    "        with open(configuration_JSON_path, 'w') as f:\n",
    "            json.dump(configuration, f, indent=4, sort_keys=True)\n",
    "    \n",
    "        print(\"Run REINVENT\")                \n",
    "        command = f\"{reinvent_env}/bin/python\"\n",
    "        script = f\"{reinvent_dir}/input.py\"\n",
    "        stderr_file = f\"{output_dir}/REINVENT_round_{REINVENT_round}/run.err\"\n",
    "        stdout_file = f\"{output_dir}/REINVENT_round_{REINVENT_round}/run.out\"\n",
    "\n",
    "        # Construct the full command to run\n",
    "        cmd = [command, script, configuration_JSON_path]\n",
    "        # Open the file to which you want to redirect stderr and stdout\n",
    "        with open(stderr_file, 'w') as ferr, open(stdout_file, 'w') as fout:\n",
    "            # Execute the command\n",
    "            result = subprocess.run(cmd, text=True, stdout=fout, stderr=ferr)\n",
    "        # Check the result\n",
    "        print(\"Exit code:\", result.returncode)\n",
    "        \n",
    "        #############################################################################\n",
    "        # REINVENT HAS OUTPUT THE RESULT in path f\"{output_dir}/REINVENT_round_{REINVENT_round}/results\" #\n",
    "        #############################################################################\n",
    "        \n",
    "        # Get the high scoring molecules\n",
    "        output_high_score = read_scaffold_result(f\"{output_dir}/REINVENT_round_{REINVENT_round}/results/scaffold_memory.csv\", \n",
    "                                                 choose_top_smiles=choose_top_smiles)\n",
    "        \n",
    "        scaffold_df = output_high_score[\"scaffold_df\"]\n",
    "        smiles = output_high_score[\"smiles\"]\n",
    "        \n",
    "        # store molecule indexes selected for feedback\n",
    "        selected_feedback = np.empty(0).astype(int)\n",
    "\n",
    "        ########################### HITL_iteration in each REINVENT round #####################\n",
    "        \n",
    "        for HITL_iteration in range(1, num_iters + 1): # T number of HITL_iterations\n",
    "\n",
    "            print(\"----------------------------------\")\n",
    "            print(f\"HITL iteration = {HITL_iteration}\")\n",
    "            \n",
    "            # Loading feedback model\n",
    "            if REINVENT_round == 1 and HITL_iteration == 1:\n",
    "                feedback_model_path = model_pretrained_path\n",
    "            elif REINVENT_round != 1 and HITL_iteration == 1:\n",
    "                # The last iteration's model from the previous round\n",
    "                feedback_model_path = f\"{output_dir}/REINVENT_round_{REINVENT_round - 1}/HITL_iteration_{num_iters}/{model_pretrained_name}\"\n",
    "            else:\n",
    "                # The previous HITL iteration's model from current round\n",
    "                feedback_model_path = f\"{output_dir}/REINVENT_round_{REINVENT_round}/HITL_iteration_{HITL_iteration - 1}/{model_pretrained_name}\"\n",
    "            \n",
    "            feedback_model = load_feedback_model(feedback_type, feedback_model_path)\n",
    "            \n",
    "            # print(f\"The predicted scores are\")\n",
    "            # predicted_scores = predict_proba_from_model(feedback_type, feedback_model, smiles)\n",
    "            # print(predicted_scores)\n",
    "\n",
    "            ######################################################## \n",
    "            # Select queries number of smiles with Active Learning #\n",
    "            ########################################################\n",
    "\n",
    "            if len(smiles) > num_queries:\n",
    "                new_queried_smiles_indices = select_query_feedback(feedback_type, feedback_model, \n",
    "                                                  scaffold_df, num_queries, list(smiles), \n",
    "                                                  selected_feedback, acquisition, rng) \n",
    "            else:\n",
    "                new_queried_smiles_indices = select_query_feedback(feedback_type, feedback_model, \n",
    "                                                  scaffold_df, len(smiles), list(smiles), \n",
    "                                                  selected_feedback, acquisition, rng)\n",
    "            \n",
    "            #print(f\"Feedback idx at HITL iteration {HITL_iteration}: {new_queried_smiles_indices}\")\n",
    "            \n",
    "            new_queried_smiles = [smiles[i] for i in new_queried_smiles_indices]\n",
    "  \n",
    "            selected_feedback = np.hstack((selected_feedback, new_queried_smiles_indices))\n",
    "\n",
    "            new_queried_smiles_human_score = smiles_human_score(new_queried_smiles, sigma_noise)\n",
    "            \n",
    "            print(f\"Human score at HITL iteration {HITL_iteration}: {new_queried_smiles_human_score}\")\n",
    "            \n",
    "            # use the augmented training data to retrain the model\n",
    "            new_queried_fps = np.array([compute_fingerprints(smiles) for smiles in new_queried_smiles])\n",
    "\n",
    "            iteration_training_dataset_outputs = create_drd2_dataset(feedback_type, \n",
    "                                                                      new_queried_smiles, \n",
    "                                                                      new_queried_smiles_human_score,\n",
    "                                                                      new_queried_fps)\n",
    "            \n",
    "            if feedback_type == \"scoring\":\n",
    "                print(f\"New queried dataset size: {len(iteration_training_dataset_outputs['smiles'])}\")\n",
    "            else:\n",
    "                print(f\"New queried dataset size: {len(iteration_training_dataset_outputs['smiles_1'])}\")\n",
    "            \n",
    "            # combining the base training dataset with the new queried dataset\n",
    "            base_training_dataset_outputs = combine_drd2_dataset(feedback_type, base_training_dataset_outputs, \n",
    "                                                                   iteration_training_dataset_outputs)\n",
    "            \n",
    "            if feedback_type == \"scoring\":\n",
    "                print(f\"Combined dataset size: {len(base_training_dataset_outputs['smiles'])}\")\n",
    "            else:\n",
    "                print(f\"Combined dataset size: {len(base_training_dataset_outputs['smiles_1'])}\")\n",
    "            \n",
    "            # save augmented training data\n",
    "            save_drd2_dataset(feedback_type, iteration_training_dataset_outputs, f\"{output_dir}/REINVENT_round_{REINVENT_round}/HITL_iteration_{HITL_iteration}/iteration_queried_data.csv\")\n",
    "            save_drd2_dataset(feedback_type, base_training_dataset_outputs, f\"{output_dir}/REINVENT_round_{REINVENT_round}/HITL_iteration_{HITL_iteration}/iteration_combined_data.csv\")\n",
    "            \n",
    "            print(f\"Saved augmented training data at {output_dir}/REINVENT_round_{REINVENT_round}/HITL_iteration_{HITL_iteration}/iteration_combined_data.csv\")\n",
    "            \n",
    "            # Retraining the feedback model using the augmented train set\n",
    "            retrained_feedback_model = retrain_feedback_model(feedback_type, feedback_model, \n",
    "                                                              base_training_dataset_outputs,\n",
    "                                                              training_epochs, learning_rate)\n",
    "            \n",
    "            # save the retrained feedback model\n",
    "            feedback_model_saving_path = f\"{output_dir}/REINVENT_round_{REINVENT_round}/HITL_iteration_{HITL_iteration}/{model_pretrained_name}\"\n",
    "            torch.save(retrained_feedback_model.state_dict(), feedback_model_saving_path)\n",
    "  \n",
    "            print(f\"Saved retrained feedback model at {feedback_model_saving_path}\")\n",
    "\n",
    "def run_REINVENT_round(REINVENT_round,\n",
    "        reinvent_dir, reinvent_env, output_dir, \n",
    "        feedback_type, # scoring, comparing, ranking\n",
    "        current_model_path, # Path to the pretrained model \n",
    "        REINVENT_n_steps, # number of REINVENT optimization steps. This is not related to the HITL but on the REINVENT side\n",
    "        batch_size, # batch size of the reinforcement learning model, or size of scaffold_memory.csv\n",
    "    ):\n",
    "    \n",
    "    ################################################\n",
    "    # DEFINING REINVENT JOBNAME, JOBID, OUTPUT_DIR #\n",
    "    ################################################\n",
    "\n",
    "    jobname = \"fine-tune predictive component HITL\"\n",
    "    jobid = output_dir\n",
    "    conf_filename = \"config.json\"\n",
    "\n",
    "    # create root output dir\n",
    "    check_create(output_dir)\n",
    "\n",
    "    # create HITL round folders to store results\n",
    "    check_create(f\"{output_dir}/REINVENT_round_{REINVENT_round}\")\n",
    "\n",
    "    print(\"=====================================\")\n",
    "    print(f\"REINVENT round = {REINVENT_round}\")\n",
    "\n",
    "    configuration_JSON_path = write_REINVENT_config(feedback_type, reinvent_dir, jobid, jobname, \n",
    "                            REINVENT_round_output_dir=f\"{output_dir}/REINVENT_round_{REINVENT_round}\", \n",
    "                            conf_filename=conf_filename)\n",
    "\n",
    "    print(f\"Creating config file: {configuration_JSON_path}.\")\n",
    "\n",
    "    configuration = json.load(open(f\"{configuration_JSON_path}\"))\n",
    "\n",
    "    configuration = change_config_json(configuration, REINVENT_n_steps, batch_size, current_model_path)\n",
    "\n",
    "    # write the updated configuration file \n",
    "\n",
    "    with open(configuration_JSON_path, 'w') as f:\n",
    "        json.dump(configuration, f, indent=4, sort_keys=True)\n",
    "\n",
    "    print(\"Run REINVENT\")                \n",
    "    command = f\"{reinvent_env}/bin/python\"\n",
    "    script = f\"{reinvent_dir}/input.py\"\n",
    "    stderr_file = f\"{output_dir}/REINVENT_round_{REINVENT_round}/run.err\"\n",
    "    stdout_file = f\"{output_dir}/REINVENT_round_{REINVENT_round}/run.out\"\n",
    "\n",
    "    # Construct the full command to run\n",
    "    cmd = [command, script, configuration_JSON_path]\n",
    "    # Open the file to which you want to redirect stderr and stdout\n",
    "    with open(stderr_file, 'w') as ferr, open(stdout_file, 'w') as fout:\n",
    "        # Execute the command\n",
    "        result = subprocess.run(cmd, text=True, stdout=fout, stderr=ferr)\n",
    "    # Check the result\n",
    "    print(\"Exit code:\", result.returncode)"
   ]
  },
  {
   "cell_type": "code",
   "execution_count": 10,
   "metadata": {},
   "outputs": [
    {
     "name": "stdout",
     "output_type": "stream",
     "text": [
      "/home/springnuance/reinvent-hitl/Base-Code-Binh\n"
     ]
    }
   ],
   "source": [
    "print(os.getcwd())"
   ]
  },
  {
   "cell_type": "markdown",
   "metadata": {},
   "source": [
    "### Running score regression model"
   ]
  },
  {
   "cell_type": "code",
   "execution_count": 17,
   "metadata": {},
   "outputs": [
    {
     "name": "stdout",
     "output_type": "stream",
     "text": [
      "Obtaining file:///home/springnuance/reinvent-hitl/reinvent-scoring\n",
      "  Preparing metadata (setup.py) ... \u001b[?25ldone\n",
      "\u001b[?25hInstalling collected packages: reinvent-scoring\n",
      "  Attempting uninstall: reinvent-scoring\n",
      "    Found existing installation: reinvent-scoring 0.0.73\n",
      "    Uninstalling reinvent-scoring-0.0.73:\n",
      "      Successfully uninstalled reinvent-scoring-0.0.73\n",
      "  Running setup.py develop for reinvent-scoring\n",
      "Successfully installed reinvent-scoring-0.0.73\n",
      "\n",
      "*******************************************************************\n",
      "Running HITL with random acquisition and noise 0.0\n",
      "=====================================\n",
      "REINVENT round = 4\n",
      "Creating config file: output_score_regression_n_steps_100/R3_T5_Q56_acq_random_noise_0.0/REINVENT_round_4/config.json.\n",
      "Run REINVENT\n",
      "Exit code: 0\n",
      "\n",
      "*******************************************************************\n",
      "Running HITL with random acquisition and noise 0.1\n",
      "\n",
      "Running DRD2 (one objective) with rounds 3, iters 5, queries 56, seed 42\n",
      "Results will be saved at output_score_regression_n_steps_100/R3_T5_Q56_acq_random_noise_0.1\n",
      "Loading initial training datasets successfully\n",
      "=====================================\n",
      "REINVENT round = 1\n",
      "Creating config file: output_score_regression_n_steps_100/R3_T5_Q56_acq_random_noise_0.1/REINVENT_round_1/config.json.\n",
      "Run REINVENT\n",
      "Exit code: 0\n",
      "Number of SMILES in scaffold_memory.csv:  6291\n",
      "----------------------------------\n",
      "HITL iteration = 1\n"
     ]
    },
    {
     "name": "stderr",
     "output_type": "stream",
     "text": [
      "Found local copy...\n"
     ]
    },
    {
     "name": "stdout",
     "output_type": "stream",
     "text": [
      "Loading Score Regression model from /home/springnuance/reinvent-hitl/Base-Code-Binh/training_Score_Regression_model/score_regression_model.pth\n",
      "Human score at HITL iteration 1: [0.05024990670462845, 0.0, 0.09288112463158087, 0.15896808712441862, 0.0, 0.0, 0.15798413112918813, 0.17365181634270402, 0.0, 0.05457837539282518, 0.0, 0.0, 1.0, 0.0, 0.0, 0.003919934977148619, 0.0, 0.048900175640061265, 0.0, 0.0, 0.14982592788117247, 0.0, 0.008147194014395233, 0.0, 0.0, 0.011221726946224286, 0.0, 0.08077284698120082, 0.7154498457894619, 0.0, 0.0, 0.18693912446189212, 0.039504537253428, 0.06616713886284568, 0.09457012865670847, 0.0, 0.02409572015417394, 0.0, 0.0, 0.020426317392508858, 0.07741258706813461, 0.017533364866355445, 0.0, 0.0, 0.0, 0.0, 0.0, 0.10840945942583731, 0.03597520762216056, 0.0, 0.03273753956916218, 0.0, 0.0, 0.06372363910190118, 0.12827821712409218, 0.0940957131822395]\n",
      "New queried dataset size: 56\n",
      "Combined dataset size: 256\n",
      "Saved augmented training data at output_score_regression_n_steps_100/R3_T5_Q56_acq_random_noise_0.1/REINVENT_round_1/HITL_iteration_1/iteration_combined_data.csv\n",
      "Epoch 5, Loss: 0.17200608924031258\n",
      "Epoch 10, Loss: 0.17179391346871853\n",
      "Epoch 15, Loss: 0.17157667130231857\n",
      "Epoch 20, Loss: 0.17136225290596485\n"
     ]
    },
    {
     "name": "stderr",
     "output_type": "stream",
     "text": [
      "Found local copy...\n"
     ]
    },
    {
     "name": "stdout",
     "output_type": "stream",
     "text": [
      "Epoch 25, Loss: 0.17115193232893944\n",
      "Saved retrained feedback model at output_score_regression_n_steps_100/R3_T5_Q56_acq_random_noise_0.1/REINVENT_round_1/HITL_iteration_1/score_regression_model.pth\n",
      "----------------------------------\n",
      "HITL iteration = 2\n",
      "Loading Score Regression model from output_score_regression_n_steps_100/R3_T5_Q56_acq_random_noise_0.1/REINVENT_round_1/HITL_iteration_1/score_regression_model.pth\n",
      "Human score at HITL iteration 2: [0.0, 0.0, 0.04622474268176272, 0.1298293488553393, 0.36871270371863474, 0.0, 0.0, 0.0, 0.09038286018733176, 0.13566679439378826, 0.0, 0.10193442860345905, 0.048890904222364806, 0.0, 0.0417526340859382, 0.15965185080691172, 0.0, 0.15813039202358115, 0.0, 0.08987558456870914, 0.008803746906244313, 0.0, 0.6032013826241795, 0.0, 0.0, 0.03571752294500941, 0.16700161866746713, 0.0, 0.0, 0.0, 0.1598376444625434, 0.052233468552512714, 0.0, 0.051430221160724474, 0.014450960439138141, 0.16888854009485527, 0.0, 0.0, 0.328252291209582, 0.0, 0.03370766017641897, 0.03274475057738369, 0.012428994216119307, 0.0, 0.0, 0.0, 0.7938239603728434, 0.0, 0.015502617326308157, 0.04332499248362782, 0.18941638538298197, 0.09023459646400414, 0.05372817079187499, 0.1969698163124037, 0.0, 0.0]\n",
      "New queried dataset size: 56\n",
      "Combined dataset size: 312\n",
      "Saved augmented training data at output_score_regression_n_steps_100/R3_T5_Q56_acq_random_noise_0.1/REINVENT_round_1/HITL_iteration_2/iteration_combined_data.csv\n",
      "Epoch 5, Loss: 0.2840641389290492\n",
      "Epoch 10, Loss: 0.2835437109073003\n",
      "Epoch 15, Loss: 0.28293587764104206\n",
      "Epoch 20, Loss: 0.28227460384368896\n"
     ]
    },
    {
     "name": "stderr",
     "output_type": "stream",
     "text": [
      "Found local copy...\n"
     ]
    },
    {
     "name": "stdout",
     "output_type": "stream",
     "text": [
      "Epoch 25, Loss: 0.2817462757229805\n",
      "Saved retrained feedback model at output_score_regression_n_steps_100/R3_T5_Q56_acq_random_noise_0.1/REINVENT_round_1/HITL_iteration_2/score_regression_model.pth\n",
      "----------------------------------\n",
      "HITL iteration = 3\n",
      "Loading Score Regression model from output_score_regression_n_steps_100/R3_T5_Q56_acq_random_noise_0.1/REINVENT_round_1/HITL_iteration_2/score_regression_model.pth\n",
      "Human score at HITL iteration 3: [0.13907129704341822, 0.24705587812403756, 0.0, 0.03192763251840534, 0.0, 0.0, 0.11989441744086023, 0.14441461178606574, 0.4321335892110131, 0.0, 0.1403919867335604, 0.0, 0.12047430910514043, 0.22129914818238666, 0.0, 0.0, 0.023877456784741208, 0.0, 0.0, 0.007231310566099316, 0.0, 0.0499610029410427, 0.0, 0.15646092610295453, 0.0, 0.0, 0.0828620010501868, 0.0, 0.024345005706607224, 0.13293271977524201, 0.0, 0.020524808588228742, 0.03298176484259738, 0.10149243855174028, 0.0, 0.0, 0.09701416465451024, 0.06303425928176304, 0.04526146672747257, 0.07344996357716607, 0.0, 0.02433144209755774, 0.03472739646218858, 0.0, 0.21326482299791535, 0.07010275789118364, 0.0, 0.14099619453696866, 0.005712398731229765, 0.08783724132201225, 0.11618373387173515, 0.0, 0.16114153551932137, 0.043214958743736, 0.08446764730928445, 0.1907334764201765]\n",
      "New queried dataset size: 56\n",
      "Combined dataset size: 368\n",
      "Saved augmented training data at output_score_regression_n_steps_100/R3_T5_Q56_acq_random_noise_0.1/REINVENT_round_1/HITL_iteration_3/iteration_combined_data.csv\n",
      "Epoch 5, Loss: 0.5043768621981144\n",
      "Epoch 10, Loss: 0.5033197849988937\n",
      "Epoch 15, Loss: 0.5012536197900772\n",
      "Epoch 20, Loss: 0.49962665140628815\n"
     ]
    },
    {
     "name": "stderr",
     "output_type": "stream",
     "text": [
      "Found local copy...\n"
     ]
    },
    {
     "name": "stdout",
     "output_type": "stream",
     "text": [
      "Epoch 25, Loss: 0.49744056537747383\n",
      "Saved retrained feedback model at output_score_regression_n_steps_100/R3_T5_Q56_acq_random_noise_0.1/REINVENT_round_1/HITL_iteration_3/score_regression_model.pth\n",
      "----------------------------------\n",
      "HITL iteration = 4\n",
      "Loading Score Regression model from output_score_regression_n_steps_100/R3_T5_Q56_acq_random_noise_0.1/REINVENT_round_1/HITL_iteration_3/score_regression_model.pth\n",
      "Human score at HITL iteration 4: [0.0, 0.0, 0.0, 0.0, 0.0, 0.04385535739543686, 0.030910129230283166, 0.09941278264969708, 0.014023829532262727, 0.14849161008130746, 0.0, 0.2728646580500935, 0.19199464168895425, 0.0, 0.0, 0.05043726699206744, 0.0, 0.07175058172336592, 0.06899281446092204, 0.0, 0.022467053838667025, 0.0, 0.0, 0.08834196877538035, 0.026179652878262676, 0.0, 0.023173938447844437, 0.04478625125284692, 0.0, 0.01585128695874781, 0.00838230244819526, 0.0, 0.036836807749202456, 0.07014283152301615, 0.12891290534376154, 0.10704980859184476, 0.0, 0.0, 0.14817951276012736, 0.07040957926120031, 0.05310939103380081, 0.4069447659332261, 0.08299300831368721, 0.11988605024220456, 0.09602250488683452, 0.11095612587352292, 0.0, 0.19276932847887182, 0.0, 0.0, 0.0, 0.036943579579250374, 0.2379863968855373, 0.0, 0.06896392445251821, 0.0]\n",
      "New queried dataset size: 56\n",
      "Combined dataset size: 424\n",
      "Saved augmented training data at output_score_regression_n_steps_100/R3_T5_Q56_acq_random_noise_0.1/REINVENT_round_1/HITL_iteration_4/iteration_combined_data.csv\n",
      "Epoch 5, Loss: 1.1531531885266304\n",
      "Epoch 10, Loss: 1.1468559131026268\n",
      "Epoch 15, Loss: 1.1427750959992409\n",
      "Epoch 20, Loss: 1.1392705291509628\n"
     ]
    },
    {
     "name": "stderr",
     "output_type": "stream",
     "text": [
      "Found local copy...\n"
     ]
    },
    {
     "name": "stdout",
     "output_type": "stream",
     "text": [
      "Epoch 25, Loss: 1.1314894184470177\n",
      "Saved retrained feedback model at output_score_regression_n_steps_100/R3_T5_Q56_acq_random_noise_0.1/REINVENT_round_1/HITL_iteration_4/score_regression_model.pth\n",
      "----------------------------------\n",
      "HITL iteration = 5\n",
      "Loading Score Regression model from output_score_regression_n_steps_100/R3_T5_Q56_acq_random_noise_0.1/REINVENT_round_1/HITL_iteration_4/score_regression_model.pth\n",
      "Human score at HITL iteration 5: [0.0, 0.13167584569260643, 0.031445792907505474, 0.0, 0.0, 0.06827231734907138, 0.0, 0.02365144583213718, 0.004680464176823005, 0.12582058926642947, 0.2401355091971953, 0.06549938821362206, 0.0, 0.01951414641366143, 0.16573411628328977, 0.08532481003982476, 0.0, 0.0, 0.050923772871084114, 0.09376235252758564, 0.0, 0.0, 0.0, 0.0, 0.17898391929990362, 0.04404591800245131, 0.0, 0.09196291096966974, 0.2139638321128419, 0.10448379613895432, 0.0, 0.0, 0.12743384062700422, 0.0, 0.04513052069321457, 0.1453716336310844, 0.0, 0.0, 0.0, 0.0, 0.007011945202496379, 0.0, 0.17238491111034165, 0.0, 0.18968894756925603, 0.024858843447221793, 0.16362024844938172, 0.0, 0.15118675735607656, 0.0010794122775638524, 0.0, 0.11509756253491657, 0.03196312879573321, 0.0, 0.0182275842741554, 0.04842224712476201]\n",
      "New queried dataset size: 56\n",
      "Combined dataset size: 480\n",
      "Saved augmented training data at output_score_regression_n_steps_100/R3_T5_Q56_acq_random_noise_0.1/REINVENT_round_1/HITL_iteration_5/iteration_combined_data.csv\n",
      "Epoch 5, Loss: 0.29948557168245316\n",
      "Epoch 10, Loss: 0.2974272072315216\n",
      "Epoch 15, Loss: 0.2952015995979309\n",
      "Epoch 20, Loss: 0.2928019240498543\n",
      "Epoch 25, Loss: 0.2902214489877224\n",
      "Saved retrained feedback model at output_score_regression_n_steps_100/R3_T5_Q56_acq_random_noise_0.1/REINVENT_round_1/HITL_iteration_5/score_regression_model.pth\n",
      "=====================================\n",
      "REINVENT round = 2\n",
      "Creating config file: output_score_regression_n_steps_100/R3_T5_Q56_acq_random_noise_0.1/REINVENT_round_2/config.json.\n",
      "Run REINVENT\n",
      "Exit code: 0\n",
      "Number of SMILES in scaffold_memory.csv:  6292\n",
      "----------------------------------\n",
      "HITL iteration = 1\n"
     ]
    },
    {
     "name": "stderr",
     "output_type": "stream",
     "text": [
      "Found local copy...\n"
     ]
    },
    {
     "name": "stdout",
     "output_type": "stream",
     "text": [
      "Loading Score Regression model from output_score_regression_n_steps_100/R3_T5_Q56_acq_random_noise_0.1/REINVENT_round_1/HITL_iteration_5/score_regression_model.pth\n",
      "Human score at HITL iteration 1: [0.030612765557654992, 0.07614101998938644, 0.17527663970821344, 0.0, 0.219353602860038, 0.0, 0.001542589849994034, 0.1991428965159213, 0.029138116540040882, 0.0, 0.0, 0.0, 0.0, 0.09002663411191934, 0.07335774819108026, 0.0, 0.09487999815352353, 0.0356038184030009, 0.08222012550017409, 0.0643112410081617, 0.0, 0.0, 0.08098022922173197, 0.06172512928673114, 0.007116460154485442, 0.014856486759439626, 0.1279699096069211, 0.0, 0.05528980594477757, 0.0, 0.0, 0.11139419885052636, 0.08347299449052636, 0.08537660580636462, 0.13238366711388688, 0.00917310810486351, 0.07575345743675255, 0.0, 0.03710904309951544, 0.011620649901046724, 0.011529840473696559, 0.06971685786394308, 0.0, 0.21510547867480462, 0.0, 0.0, 0.11789860205082872, 0.08157967635771397, 0.06316760575876781, 0.06405963635693311, 0.013633159995966055, 0.0, 0.024372417762004328, 0.030142173858744653, 0.0983388142992398, 0.0]\n",
      "New queried dataset size: 56\n",
      "Combined dataset size: 536\n",
      "Saved augmented training data at output_score_regression_n_steps_100/R3_T5_Q56_acq_random_noise_0.1/REINVENT_round_2/HITL_iteration_1/iteration_combined_data.csv\n",
      "Epoch 5, Loss: 0.4336911489566167\n",
      "Epoch 10, Loss: 0.42909567554791767\n",
      "Epoch 15, Loss: 0.4245590791106224\n",
      "Epoch 20, Loss: 0.4194638977448146\n",
      "Epoch 25, Loss: 0.4142559692263603\n",
      "Saved retrained feedback model at output_score_regression_n_steps_100/R3_T5_Q56_acq_random_noise_0.1/REINVENT_round_2/HITL_iteration_1/score_regression_model.pth\n",
      "----------------------------------\n",
      "HITL iteration = 2\n"
     ]
    },
    {
     "name": "stderr",
     "output_type": "stream",
     "text": [
      "Found local copy...\n"
     ]
    },
    {
     "name": "stdout",
     "output_type": "stream",
     "text": [
      "Loading Score Regression model from output_score_regression_n_steps_100/R3_T5_Q56_acq_random_noise_0.1/REINVENT_round_2/HITL_iteration_1/score_regression_model.pth\n",
      "Human score at HITL iteration 2: [0.0, 0.0, 0.04139006468651822, 0.0, 0.0, 0.028933477805410824, 0.024698867542260312, 0.0, 0.0, 0.025853257462707287, 0.0, 0.0, 0.0, 0.0, 0.03215344301582672, 0.16849999391867368, 0.08622639162444835, 0.0, 0.004492534979987635, 0.0, 0.0012254147382549914, 0.0, 0.03312615384748427, 0.0, 0.06883287410641073, 0.15687796608023097, 0.0, 0.04188120342577857, 0.08565513139469197, 0.0, 0.026295325081945466, 0.0024280702584307734, 0.015594215190440144, 0.0, 0.004247039289165706, 0.050830935544658756, 0.21027233568402248, 0.09812330530040797, 0.22204720634063024, 0.0, 0.09251559855128168, 0.02080855259669495, 0.2334157049816352, 0.0, 0.0, 0.0, 0.0, 0.0, 0.0, 0.018757068171172325, 0.03451752218116287, 0.19253303144726586, 0.26892973892264405, 0.0, 0.0, 0.04949127488318459]\n",
      "New queried dataset size: 56\n",
      "Combined dataset size: 592\n",
      "Saved augmented training data at output_score_regression_n_steps_100/R3_T5_Q56_acq_random_noise_0.1/REINVENT_round_2/HITL_iteration_2/iteration_combined_data.csv\n",
      "Epoch 5, Loss: 0.6855984255671501\n",
      "Epoch 10, Loss: 0.6720349080860615\n",
      "Epoch 15, Loss: 0.6629280690103769\n",
      "Epoch 20, Loss: 0.6528762355446815\n"
     ]
    },
    {
     "name": "stderr",
     "output_type": "stream",
     "text": [
      "Found local copy...\n"
     ]
    },
    {
     "name": "stdout",
     "output_type": "stream",
     "text": [
      "Epoch 25, Loss: 0.6429353281855583\n",
      "Saved retrained feedback model at output_score_regression_n_steps_100/R3_T5_Q56_acq_random_noise_0.1/REINVENT_round_2/HITL_iteration_2/score_regression_model.pth\n",
      "----------------------------------\n",
      "HITL iteration = 3\n",
      "Loading Score Regression model from output_score_regression_n_steps_100/R3_T5_Q56_acq_random_noise_0.1/REINVENT_round_2/HITL_iteration_2/score_regression_model.pth\n",
      "Human score at HITL iteration 3: [0.0, 0.18831710967464807, 0.11962093537606337, 0.0, 0.0, 0.139935798153741, 0.0, 0.1269576444281462, 0.0, 0.0, 0.00464150249214732, 0.009777541573129083, 0.0, 0.06324269482442389, 0.0, 0.003038094410537538, 0.020291529700017883, 0.052404587736447454, 0.07175883667066206, 0.0, 0.0, 0.13524975855485322, 0.06476286553646875, 0.462264791932187, 0.291224811320175, 0.023987974792599027, 0.12006867103642856, 0.03714643298770591, 0.2105242283780875, 0.19258069027884456, 0.0, 0.15606869946118362, 0.0670022910484063, 0.1380729621329923, 0.0, 0.08076836182360486, 0.10625010220153895, 0.0, 0.0, 0.0, 0.0, 0.0732026481705411, 0.15232316327925524, 0.012336754226551208, 0.18563781258385786, 0.0, 0.0, 0.0, 0.07226947415784077, 0.0, 0.0, 0.4064804567183184, 0.0, 0.06766526476201831, 0.04407712382493882, 0.0]\n",
      "New queried dataset size: 56\n",
      "Combined dataset size: 648\n",
      "Saved augmented training data at output_score_regression_n_steps_100/R3_T5_Q56_acq_random_noise_0.1/REINVENT_round_2/HITL_iteration_3/iteration_combined_data.csv\n",
      "Epoch 5, Loss: 1.3937568962574005\n",
      "Epoch 10, Loss: 1.3561741821467876\n",
      "Epoch 15, Loss: 1.336123749613762\n",
      "Epoch 20, Loss: 1.3053654804825783\n"
     ]
    },
    {
     "name": "stderr",
     "output_type": "stream",
     "text": [
      "Found local copy...\n"
     ]
    },
    {
     "name": "stdout",
     "output_type": "stream",
     "text": [
      "Epoch 25, Loss: 1.2872194424271584\n",
      "Saved retrained feedback model at output_score_regression_n_steps_100/R3_T5_Q56_acq_random_noise_0.1/REINVENT_round_2/HITL_iteration_3/score_regression_model.pth\n",
      "----------------------------------\n",
      "HITL iteration = 4\n",
      "Loading Score Regression model from output_score_regression_n_steps_100/R3_T5_Q56_acq_random_noise_0.1/REINVENT_round_2/HITL_iteration_3/score_regression_model.pth\n",
      "Human score at HITL iteration 4: [0.0, 0.0, 0.028054988221185677, 0.09800615769450707, 0.0, 0.08434302434684977, 0.0, 0.12445014310476875, 0.0, 0.0, 0.0, 0.0, 0.19855145194915866, 0.012196637953601716, 0.0, 0.9974181064481732, 0.007139410541084332, 0.01159798725364206, 0.06474540587677113, 0.7250890698136725, 0.0, 0.0, 0.0, 0.0, 0.0, 0.13691833830294012, 0.6389127317695226, 0.03221310728411286, 0.06271816604169933, 1.0, 0.3214739429685508, 0.11526576460598509, 0.0, 0.0, 0.0, 0.053122195650766535, 0.0, 0.0, 0.0, 0.09957208118897458, 0.17452898384652277, 0.08929924012053952, 0.025956091192187582, 0.14928165816794886, 0.04027252144706685, 0.0, 0.17611346532043837, 0.05469317942893231, 0.0, 0.0, 0.0, 0.0, 0.09367275843820698, 0.19258381123749854, 0.0, 0.05799684117118466]\n",
      "New queried dataset size: 56\n",
      "Combined dataset size: 704\n",
      "Saved augmented training data at output_score_regression_n_steps_100/R3_T5_Q56_acq_random_noise_0.1/REINVENT_round_2/HITL_iteration_4/iteration_combined_data.csv\n",
      "Epoch 5, Loss: 0.32897572591900826\n",
      "Epoch 10, Loss: 0.32210556510835886\n",
      "Epoch 15, Loss: 0.31563716009259224\n",
      "Epoch 20, Loss: 0.30954840034246445\n"
     ]
    },
    {
     "name": "stderr",
     "output_type": "stream",
     "text": [
      "Found local copy...\n"
     ]
    },
    {
     "name": "stdout",
     "output_type": "stream",
     "text": [
      "Epoch 25, Loss: 0.30392333026975393\n",
      "Saved retrained feedback model at output_score_regression_n_steps_100/R3_T5_Q56_acq_random_noise_0.1/REINVENT_round_2/HITL_iteration_4/score_regression_model.pth\n",
      "----------------------------------\n",
      "HITL iteration = 5\n",
      "Loading Score Regression model from output_score_regression_n_steps_100/R3_T5_Q56_acq_random_noise_0.1/REINVENT_round_2/HITL_iteration_4/score_regression_model.pth\n",
      "Human score at HITL iteration 5: [0.0, 0.0, 0.0, 0.17168240036563703, 0.006629716770746988, 0.0, 0.040172757217083944, 0.0, 0.0, 0.0, 0.0, 0.07664385892786954, 0.052462266348819155, 0.0, 0.011012489905481924, 0.07711711994968919, 0.0, 0.055891266584888674, 0.0, 0.06097481277953217, 0.0, 0.0, 0.8341334346412494, 0.011036655559376187, 0.027898500186307646, 0.0, 0.06909940034261072, 0.0, 0.0, 0.0, 0.0, 0.012957790300106246, 0.0, 0.0, 0.10206845974702212, 0.13826704471485496, 0.08805990251705355, 0.0, 0.054558056742505696, 0.15173404382157402, 0.0, 0.0, 0.28440679824892207, 0.0, 0.03729227997196877, 0.0, 0.011305994934117738, 0.0, 0.12020079929429024, 0.038857157719032295, 0.03550210758583721, 0.0, 0.0, 0.0, 0.041891465540955845, 0.0]\n",
      "New queried dataset size: 56\n",
      "Combined dataset size: 760\n",
      "Saved augmented training data at output_score_regression_n_steps_100/R3_T5_Q56_acq_random_noise_0.1/REINVENT_round_2/HITL_iteration_5/iteration_combined_data.csv\n",
      "Epoch 5, Loss: 0.43123068660497665\n",
      "Epoch 10, Loss: 0.4222802209357421\n",
      "Epoch 15, Loss: 0.4153408817946911\n",
      "Epoch 20, Loss: 0.40857518712679547\n",
      "Epoch 25, Loss: 0.4017266593873501\n",
      "Saved retrained feedback model at output_score_regression_n_steps_100/R3_T5_Q56_acq_random_noise_0.1/REINVENT_round_2/HITL_iteration_5/score_regression_model.pth\n",
      "=====================================\n",
      "REINVENT round = 3\n",
      "Creating config file: output_score_regression_n_steps_100/R3_T5_Q56_acq_random_noise_0.1/REINVENT_round_3/config.json.\n",
      "Run REINVENT\n",
      "Exit code: 0\n",
      "Number of SMILES in scaffold_memory.csv:  1045\n",
      "----------------------------------\n",
      "HITL iteration = 1\n"
     ]
    },
    {
     "name": "stderr",
     "output_type": "stream",
     "text": [
      "Found local copy...\n"
     ]
    },
    {
     "name": "stdout",
     "output_type": "stream",
     "text": [
      "Loading Score Regression model from output_score_regression_n_steps_100/R3_T5_Q56_acq_random_noise_0.1/REINVENT_round_2/HITL_iteration_5/score_regression_model.pth\n",
      "Human score at HITL iteration 1: [0.05751492240868099, 0.21461185735235333, 0.09157125163089017, 0.0, 0.2057804678387909, 0.9296145449405866, 0.0, 0.0, 0.0, 0.0, 0.006629998879336456, 0.16959295860382678, 0.09252007968104961, 0.0, 0.1117617306435254, 0.0, 0.027089480287719462, 0.08480871411520524, 0.0, 0.21400425220903338, 0.037295302887075416, 0.8450395679892904, 0.2635631694702971, 0.23346232435633552, 0.04231668332698101, 0.027361604397811413, 0.2924075027589583, 0.0, 0.08643052951244617, 0.0, 0.012907092532124801, 0.0, 0.05019043357698159, 0.03637076189773753, 0.12321510221087187, 0.0, 0.0, 0.0, 0.0, 0.039958233379253236, 1.0, 0.0, 0.09287767121366465, 0.3485309435677838, 0.05558037823401687, 0.19557793687114655, 0.0, 0.0, 0.0, 0.15432377748681264, 0.0757385817026317, 0.0, 0.03678106500807496, 0.0, 0.3135661628118642, 0.01629387902360571]\n",
      "New queried dataset size: 56\n",
      "Combined dataset size: 816\n",
      "Saved augmented training data at output_score_regression_n_steps_100/R3_T5_Q56_acq_random_noise_0.1/REINVENT_round_3/HITL_iteration_1/iteration_combined_data.csv\n",
      "Epoch 5, Loss: 0.6428696103394032\n",
      "Epoch 10, Loss: 0.6421399153769016\n",
      "Epoch 15, Loss: 0.6324271224439144\n",
      "Epoch 20, Loss: 0.6199015378952026\n"
     ]
    },
    {
     "name": "stderr",
     "output_type": "stream",
     "text": [
      "Found local copy...\n"
     ]
    },
    {
     "name": "stdout",
     "output_type": "stream",
     "text": [
      "Epoch 25, Loss: 0.6227552574127913\n",
      "Saved retrained feedback model at output_score_regression_n_steps_100/R3_T5_Q56_acq_random_noise_0.1/REINVENT_round_3/HITL_iteration_1/score_regression_model.pth\n",
      "----------------------------------\n",
      "HITL iteration = 2\n",
      "Loading Score Regression model from output_score_regression_n_steps_100/R3_T5_Q56_acq_random_noise_0.1/REINVENT_round_3/HITL_iteration_1/score_regression_model.pth\n",
      "Human score at HITL iteration 2: [0.01169998449945742, 0.0727156409425038, 0.05257023779096996, 0.10667234689635023, 0.0, 0.055430050521682754, 0.1915539345799165, 0.15104670923957914, 0.1609331315295019, 0.0, 0.0, 0.0, 0.010921856843675234, 0.11046019213761046, 0.22458682023022075, 0.15424014796945618, 0.0, 0.0, 0.0, 0.0, 0.08588527307497612, 0.010046173918111084, 0.0, 0.0, 0.0, 0.17334659942048164, 0.0, 0.0, 0.0, 0.0, 0.0, 0.0, 0.0, 1.0, 0.19111916568805973, 1.0, 0.003626557735914887, 0.0, 0.2930487282495547, 0.014253875328300431, 0.004443101236894291, 0.002259158527499548, 0.04590796330185915, 0.0, 0.0, 0.0, 0.0, 0.0, 0.0, 0.021304744946088437, 0.0, 0.9104298639208461, 0.0, 0.1130345085087034, 0.12752997062468716, 0.0]\n",
      "New queried dataset size: 56\n",
      "Combined dataset size: 872\n",
      "Saved augmented training data at output_score_regression_n_steps_100/R3_T5_Q56_acq_random_noise_0.1/REINVENT_round_3/HITL_iteration_2/iteration_combined_data.csv\n",
      "Epoch 5, Loss: 1.303703434765339\n",
      "Epoch 10, Loss: 1.2921988852322102\n",
      "Epoch 15, Loss: 1.259869135916233\n",
      "Epoch 20, Loss: 1.2576288152486086\n"
     ]
    },
    {
     "name": "stderr",
     "output_type": "stream",
     "text": [
      "Found local copy...\n"
     ]
    },
    {
     "name": "stdout",
     "output_type": "stream",
     "text": [
      "Epoch 25, Loss: 1.2506089713424444\n",
      "Saved retrained feedback model at output_score_regression_n_steps_100/R3_T5_Q56_acq_random_noise_0.1/REINVENT_round_3/HITL_iteration_2/score_regression_model.pth\n",
      "----------------------------------\n",
      "HITL iteration = 3\n",
      "Loading Score Regression model from output_score_regression_n_steps_100/R3_T5_Q56_acq_random_noise_0.1/REINVENT_round_3/HITL_iteration_2/score_regression_model.pth\n",
      "Human score at HITL iteration 3: [0.0, 0.0, 0.0, 0.0, 0.0, 0.20133969391303555, 0.12242621622092073, 0.15559677158966723, 0.07436513078125999, 0.0, 0.0, 0.0749465676074431, 0.0, 0.12997570210524492, 0.0, 0.0, 0.20214848124072643, 0.05528924250470808, 0.0, 0.1170184818920378, 0.04635774141608745, 0.06245436916014415, 0.060247181428114235, 0.0, 0.03543225201252274, 0.0, 0.09367218123279418, 0.01094706050756505, 0.0, 0.10984314056887547, 0.7749716263709798, 0.0, 0.0, 0.08733881660055558, 0.0, 0.18213337909949603, 0.0, 0.17000084453519315, 0.16574409773510884, 0.0, 0.0, 0.12179251949502154, 0.012986828467417413, 0.1721201422659377, 0.07270839954614684, 0.017370012146345128, 0.0, 0.0037397143546230973, 0.039763722187099435, 0.0, 0.0, 0.07730464331041523, 0.04592652951118577, 0.0, 0.005653649415668573, 0.10062678037599038]\n",
      "New queried dataset size: 56\n",
      "Combined dataset size: 928\n",
      "Saved augmented training data at output_score_regression_n_steps_100/R3_T5_Q56_acq_random_noise_0.1/REINVENT_round_3/HITL_iteration_3/iteration_combined_data.csv\n",
      "Epoch 5, Loss: 0.3160945903509855\n",
      "Epoch 10, Loss: 0.31193961203098297\n",
      "Epoch 15, Loss: 0.30785743054002523\n",
      "Epoch 20, Loss: 0.30380402179434896\n"
     ]
    },
    {
     "name": "stderr",
     "output_type": "stream",
     "text": [
      "Found local copy...\n"
     ]
    },
    {
     "name": "stdout",
     "output_type": "stream",
     "text": [
      "Epoch 25, Loss: 0.299759560264647\n",
      "Saved retrained feedback model at output_score_regression_n_steps_100/R3_T5_Q56_acq_random_noise_0.1/REINVENT_round_3/HITL_iteration_3/score_regression_model.pth\n",
      "----------------------------------\n",
      "HITL iteration = 4\n",
      "Loading Score Regression model from output_score_regression_n_steps_100/R3_T5_Q56_acq_random_noise_0.1/REINVENT_round_3/HITL_iteration_3/score_regression_model.pth\n",
      "Human score at HITL iteration 4: [0.2584956010198487, 0.0, 0.02408465636745354, 0.0, 0.04554079119380851, 0.0, 0.11258554554216263, 0.06835030601476452, 0.04614382548395232, 0.09990488684763016, 0.16788259279504084, 0.22815637078288842, 0.0, 0.0, 0.0, 0.007581136845820127, 0.10033557076253508, 0.16026509596545807, 0.022632221347354972, 0.0, 0.0, 0.0, 0.7651705441036056, 0.0, 0.0, 0.11095436312404046, 0.0, 0.26365300312043566, 0.053341928963086926, 0.0212460187764167, 0.0, 0.11229001646528763, 0.0, 1.0, 0.5327567154520559, 0.0, 0.12458290641636727, 0.3693165303773104, 0.0, 0.18519162716753368, 0.0, 0.1844609521501389, 0.07421045925357586, 0.0, 0.09352221148987444, 0.09992059011347554, 0.06454871656213669, 0.737499194206939, 0.0, 0.0, 0.0, 0.06881077633987413, 0.026791512973047382, 0.0, 0.04026077840360867, 0.11943908864199705]\n",
      "New queried dataset size: 56\n",
      "Combined dataset size: 984\n",
      "Saved augmented training data at output_score_regression_n_steps_100/R3_T5_Q56_acq_random_noise_0.1/REINVENT_round_3/HITL_iteration_4/iteration_combined_data.csv\n",
      "Epoch 5, Loss: 0.4245208079616229\n",
      "Epoch 10, Loss: 0.4179334087918202\n",
      "Epoch 15, Loss: 0.4133323033650716\n",
      "Epoch 20, Loss: 0.40630474252005416\n"
     ]
    },
    {
     "name": "stderr",
     "output_type": "stream",
     "text": [
      "Found local copy...\n"
     ]
    },
    {
     "name": "stdout",
     "output_type": "stream",
     "text": [
      "Epoch 25, Loss: 0.40060930388669175\n",
      "Saved retrained feedback model at output_score_regression_n_steps_100/R3_T5_Q56_acq_random_noise_0.1/REINVENT_round_3/HITL_iteration_4/score_regression_model.pth\n",
      "----------------------------------\n",
      "HITL iteration = 5\n",
      "Loading Score Regression model from output_score_regression_n_steps_100/R3_T5_Q56_acq_random_noise_0.1/REINVENT_round_3/HITL_iteration_4/score_regression_model.pth\n",
      "Human score at HITL iteration 5: [0.07477585114296315, 0.2034954519977377, 0.09169739874744968, 0.08786219727161357, 0.0, 0.0, 0.21801393570205085, 0.028657994466121977, 0.027696812853355297, 0.0, 0.0, 0.13142461110025455, 0.0024508752678477647, 0.08992226881181488, 0.007461740848515853, 0.013425570019424737, 0.5274849050046341, 0.0, 0.024533084515784932, 0.0, 0.014586867201989033, 0.0, 0.5500437158125894, 0.057967289065863584, 0.130757210111811, 0.0, 0.0, 0.0, 0.1908639035085482, 0.048458205903033076, 0.11565396031353951, 0.0, 1.0, 0.10003007645678348, 0.02003407066808003, 0.11913739630623138, 0.0, 0.1532510947739458, 0.2302570305992867, 0.0, 0.0, 0.15706776319661364, 0.1677724898606529, 0.0, 0.0, 0.0053111079824319715, 0.0, 0.14991162281009213, 0.0, 0.0, 0.0, 0.6728429826125673, 0.15518944618981934, 0.0, 0.10046645958983359, 0.0]\n",
      "New queried dataset size: 56\n",
      "Combined dataset size: 1040\n",
      "Saved augmented training data at output_score_regression_n_steps_100/R3_T5_Q56_acq_random_noise_0.1/REINVENT_round_3/HITL_iteration_5/iteration_combined_data.csv\n",
      "Epoch 5, Loss: 0.6326472200453281\n",
      "Epoch 10, Loss: 0.6229978483170271\n",
      "Epoch 15, Loss: 0.6198366926982999\n",
      "Epoch 20, Loss: 0.6084784865379333\n",
      "Epoch 25, Loss: 0.6029458288103342\n",
      "Saved retrained feedback model at output_score_regression_n_steps_100/R3_T5_Q56_acq_random_noise_0.1/REINVENT_round_3/HITL_iteration_5/score_regression_model.pth\n",
      "=====================================\n",
      "REINVENT round = 4\n",
      "Creating config file: output_score_regression_n_steps_100/R3_T5_Q56_acq_random_noise_0.1/REINVENT_round_4/config.json.\n",
      "Run REINVENT\n",
      "Exit code: 0\n",
      "\n",
      "*******************************************************************\n",
      "Running HITL with uncertainty acquisition and noise 0.0\n",
      "\n",
      "Running DRD2 (one objective) with rounds 3, iters 5, queries 56, seed 42\n",
      "Results will be saved at output_score_regression_n_steps_100/R3_T5_Q56_acq_uncertainty_noise_0.0\n",
      "Loading initial training datasets successfully\n",
      "=====================================\n",
      "REINVENT round = 1\n",
      "Creating config file: output_score_regression_n_steps_100/R3_T5_Q56_acq_uncertainty_noise_0.0/REINVENT_round_1/config.json.\n",
      "Run REINVENT\n",
      "Exit code: 0\n",
      "Number of SMILES in scaffold_memory.csv:  6282\n",
      "----------------------------------\n",
      "HITL iteration = 1\n",
      "Loading Score Regression model from /home/springnuance/reinvent-hitl/Base-Code-Binh/training_Score_Regression_model/score_regression_model.pth\n"
     ]
    },
    {
     "name": "stderr",
     "output_type": "stream",
     "text": [
      "Found local copy...\n"
     ]
    },
    {
     "name": "stdout",
     "output_type": "stream",
     "text": [
      "Batch 1 processed\n",
      "Human score at HITL iteration 1: [0.15682735841866485, 0.15682735841866485, 0.15682735841866485, 0.15682735841866485, 0.15682735841866485, 0.15682735841866485, 0.15682735841866485, 0.15682735841866485, 0.15682735841866485, 0.15682735841866485, 0.15682735841866485, 0.15682735841866485, 0.15682735841866485, 0.15682735841866485, 0.15682735841866485, 0.15682735841866485, 0.15682735841866485, 0.15682735841866485, 0.15682735841866485, 0.15682735841866485, 0.15682735841866485, 0.15682735841866485, 0.15682735841866485, 0.15682735841866485, 0.15682735841866485, 0.15682735841866485, 0.15682735841866485, 0.15682735841866485, 0.15682735841866485, 0.15682735841866485, 0.15682735841866485, 0.15682735841866485, 0.15682735841866485, 0.15682735841866485, 0.15682735841866485, 0.15682735841866485, 0.15682735841866485, 0.15682735841866485, 0.15682735841866485, 0.15682735841866485, 0.15682735841866485, 0.15682735841866485, 0.15682735841866485, 0.15682735841866485, 0.15682735841866485, 0.15682735841866485, 0.15682735841866485, 0.15682735841866485, 0.15682735841866485, 0.15682735841866485, 0.15682735841866485, 0.15682735841866485, 0.15682735841866485, 0.15682735841866485, 0.15682735841866485, 0.15682735841866485]\n",
      "New queried dataset size: 56\n",
      "Combined dataset size: 256\n",
      "Saved augmented training data at output_score_regression_n_steps_100/R3_T5_Q56_acq_uncertainty_noise_0.0/REINVENT_round_1/HITL_iteration_1/iteration_combined_data.csv\n",
      "Epoch 5, Loss: 0.17219821363687515\n",
      "Epoch 10, Loss: 0.171955032274127\n",
      "Epoch 15, Loss: 0.1717168502509594\n",
      "Epoch 20, Loss: 0.17148893885314465\n",
      "Epoch 25, Loss: 0.17126370035111904\n",
      "Saved retrained feedback model at output_score_regression_n_steps_100/R3_T5_Q56_acq_uncertainty_noise_0.0/REINVENT_round_1/HITL_iteration_1/score_regression_model.pth\n",
      "----------------------------------\n",
      "HITL iteration = 2\n",
      "Loading Score Regression model from output_score_regression_n_steps_100/R3_T5_Q56_acq_uncertainty_noise_0.0/REINVENT_round_1/HITL_iteration_1/score_regression_model.pth\n"
     ]
    },
    {
     "name": "stderr",
     "output_type": "stream",
     "text": [
      "Found local copy...\n"
     ]
    },
    {
     "name": "stdout",
     "output_type": "stream",
     "text": [
      "Batch 1 processed\n",
      "Human score at HITL iteration 2: [0.002457765756978956, 0.002457765756978956, 0.002457765756978956, 0.002457765756978956, 0.002457765756978956, 0.002457765756978956, 0.002457765756978956, 0.002457765756978956, 0.002457765756978956, 0.002457765756978956, 0.002457765756978956, 0.002457765756978956, 0.002457765756978956, 0.002457765756978956, 0.002457765756978956, 0.002457765756978956, 0.002457765756978956, 0.002457765756978956, 0.002457765756978956, 0.002457765756978956, 0.002457765756978956, 0.002457765756978956, 0.002457765756978956, 0.002457765756978956, 0.002457765756978956, 0.002457765756978956, 0.002457765756978956, 0.002457765756978956, 0.002457765756978956, 0.002457765756978956, 0.002457765756978956, 0.002457765756978956, 0.002457765756978956, 0.002457765756978956, 0.002457765756978956, 0.002457765756978956, 0.002457765756978956, 0.002457765756978956, 0.002457765756978956, 0.002457765756978956, 0.002457765756978956, 0.002457765756978956, 0.002457765756978956, 0.002457765756978956, 0.002457765756978956, 0.002457765756978956, 0.002457765756978956, 0.002457765756978956, 0.002457765756978956, 0.002457765756978956, 0.002457765756978956, 0.002457765756978956, 0.002457765756978956, 0.002457765756978956, 0.002457765756978956, 0.002457765756978956]\n",
      "New queried dataset size: 56\n",
      "Combined dataset size: 312\n",
      "Saved augmented training data at output_score_regression_n_steps_100/R3_T5_Q56_acq_uncertainty_noise_0.0/REINVENT_round_1/HITL_iteration_2/iteration_combined_data.csv\n",
      "Epoch 5, Loss: 0.28410596152146655\n",
      "Epoch 10, Loss: 0.28338204820950824\n",
      "Epoch 15, Loss: 0.2826564386487007\n",
      "Epoch 20, Loss: 0.2819669519861539\n",
      "Epoch 25, Loss: 0.2813353439172109\n",
      "Saved retrained feedback model at output_score_regression_n_steps_100/R3_T5_Q56_acq_uncertainty_noise_0.0/REINVENT_round_1/HITL_iteration_2/score_regression_model.pth\n",
      "----------------------------------\n",
      "HITL iteration = 3\n",
      "Loading Score Regression model from output_score_regression_n_steps_100/R3_T5_Q56_acq_uncertainty_noise_0.0/REINVENT_round_1/HITL_iteration_2/score_regression_model.pth\n"
     ]
    },
    {
     "name": "stderr",
     "output_type": "stream",
     "text": [
      "Found local copy...\n"
     ]
    },
    {
     "name": "stdout",
     "output_type": "stream",
     "text": [
      "Batch 1 processed\n",
      "Human score at HITL iteration 3: [0.002663108053447867, 0.002663108053447867, 0.002663108053447867, 0.002663108053447867, 0.002663108053447867, 0.002663108053447867, 0.002663108053447867, 0.002663108053447867, 0.002663108053447867, 0.002663108053447867, 0.002663108053447867, 0.002663108053447867, 0.002663108053447867, 0.002663108053447867, 0.002663108053447867, 0.002663108053447867, 0.002663108053447867, 0.002663108053447867, 0.002663108053447867, 0.002663108053447867, 0.002663108053447867, 0.002663108053447867, 0.002663108053447867, 0.002663108053447867, 0.002663108053447867, 0.002663108053447867, 0.002663108053447867, 0.002663108053447867, 0.002663108053447867, 0.002663108053447867, 0.002663108053447867, 0.002663108053447867, 0.002663108053447867, 0.002663108053447867, 0.002663108053447867, 0.002663108053447867, 0.002663108053447867, 0.002663108053447867, 0.002663108053447867, 0.002663108053447867, 0.002663108053447867, 0.002663108053447867, 0.002663108053447867, 0.002663108053447867, 0.002663108053447867, 0.002663108053447867, 0.002663108053447867, 0.002663108053447867, 0.002663108053447867, 0.002663108053447867, 0.002663108053447867, 0.002663108053447867, 0.002663108053447867, 0.002663108053447867, 0.002663108053447867, 0.002663108053447867]\n",
      "New queried dataset size: 56\n",
      "Combined dataset size: 368\n",
      "Saved augmented training data at output_score_regression_n_steps_100/R3_T5_Q56_acq_uncertainty_noise_0.0/REINVENT_round_1/HITL_iteration_3/iteration_combined_data.csv\n",
      "Epoch 5, Loss: 0.5036829710006714\n",
      "Epoch 10, Loss: 0.501545749604702\n",
      "Epoch 15, Loss: 0.499996904283762\n",
      "Epoch 20, Loss: 0.4985315464437008\n",
      "Epoch 25, Loss: 0.49607136473059654\n",
      "Saved retrained feedback model at output_score_regression_n_steps_100/R3_T5_Q56_acq_uncertainty_noise_0.0/REINVENT_round_1/HITL_iteration_3/score_regression_model.pth\n",
      "----------------------------------\n",
      "HITL iteration = 4\n",
      "Loading Score Regression model from output_score_regression_n_steps_100/R3_T5_Q56_acq_uncertainty_noise_0.0/REINVENT_round_1/HITL_iteration_3/score_regression_model.pth\n"
     ]
    },
    {
     "name": "stderr",
     "output_type": "stream",
     "text": [
      "Found local copy...\n"
     ]
    },
    {
     "name": "stdout",
     "output_type": "stream",
     "text": [
      "Batch 1 processed\n",
      "Human score at HITL iteration 4: [0.016023011977615794, 0.016023011977615794, 0.016023011977615794, 0.016023011977615794, 0.016023011977615794, 0.016023011977615794, 0.016023011977615794, 0.016023011977615794, 0.016023011977615794, 0.016023011977615794, 0.016023011977615794, 0.016023011977615794, 0.016023011977615794, 0.016023011977615794, 0.016023011977615794, 0.016023011977615794, 0.016023011977615794, 0.016023011977615794, 0.016023011977615794, 0.016023011977615794, 0.016023011977615794, 0.016023011977615794, 0.016023011977615794, 0.016023011977615794, 0.016023011977615794, 0.016023011977615794, 0.016023011977615794, 0.016023011977615794, 0.016023011977615794, 0.016023011977615794, 0.016023011977615794, 0.016023011977615794, 0.016023011977615794, 0.016023011977615794, 0.016023011977615794, 0.016023011977615794, 0.016023011977615794, 0.016023011977615794, 0.016023011977615794, 0.016023011977615794, 0.016023011977615794, 0.016023011977615794, 0.016023011977615794, 0.016023011977615794, 0.016023011977615794, 0.016023011977615794, 0.016023011977615794, 0.016023011977615794, 0.016023011977615794, 0.016023011977615794, 0.016023011977615794, 0.016023011977615794, 0.016023011977615794, 0.016023011977615794, 0.016023011977615794, 0.016023011977615794]\n",
      "New queried dataset size: 56\n",
      "Combined dataset size: 424\n",
      "Saved augmented training data at output_score_regression_n_steps_100/R3_T5_Q56_acq_uncertainty_noise_0.0/REINVENT_round_1/HITL_iteration_4/iteration_combined_data.csv\n",
      "Epoch 5, Loss: 1.149084210395813\n",
      "Epoch 10, Loss: 1.142250195145607\n",
      "Epoch 15, Loss: 1.1350182443857193\n",
      "Epoch 20, Loss: 1.127716213464737\n",
      "Epoch 25, Loss: 1.1212801188230515\n",
      "Saved retrained feedback model at output_score_regression_n_steps_100/R3_T5_Q56_acq_uncertainty_noise_0.0/REINVENT_round_1/HITL_iteration_4/score_regression_model.pth\n",
      "----------------------------------\n",
      "HITL iteration = 5\n",
      "Loading Score Regression model from output_score_regression_n_steps_100/R3_T5_Q56_acq_uncertainty_noise_0.0/REINVENT_round_1/HITL_iteration_4/score_regression_model.pth\n"
     ]
    },
    {
     "name": "stderr",
     "output_type": "stream",
     "text": [
      "Found local copy...\n"
     ]
    },
    {
     "name": "stdout",
     "output_type": "stream",
     "text": [
      "Batch 1 processed\n",
      "Human score at HITL iteration 5: [0.6769630040805391, 0.6769630040805391, 0.6769630040805391, 0.6769630040805391, 0.6769630040805391, 0.6769630040805391, 0.6769630040805391, 0.6769630040805391, 0.6769630040805391, 0.6769630040805391, 0.6769630040805391, 0.6769630040805391, 0.6769630040805391, 0.6769630040805391, 0.6769630040805391, 0.6769630040805391, 0.6769630040805391, 0.6769630040805391, 0.6769630040805391, 0.6769630040805391, 0.6769630040805391, 0.6769630040805391, 0.6769630040805391, 0.6769630040805391, 0.6769630040805391, 0.6769630040805391, 0.6769630040805391, 0.6769630040805391, 0.6769630040805391, 0.6769630040805391, 0.6769630040805391, 0.6769630040805391, 0.6769630040805391, 0.6769630040805391, 0.6769630040805391, 0.6769630040805391, 0.6769630040805391, 0.6769630040805391, 0.6769630040805391, 0.6769630040805391, 0.6769630040805391, 0.6769630040805391, 0.6769630040805391, 0.6769630040805391, 0.6769630040805391, 0.6769630040805391, 0.6769630040805391, 0.6769630040805391, 0.6769630040805391, 0.6769630040805391, 0.6769630040805391, 0.6769630040805391, 0.6769630040805391, 0.6769630040805391, 0.6769630040805391, 0.6769630040805391]\n",
      "New queried dataset size: 56\n",
      "Combined dataset size: 480\n",
      "Saved augmented training data at output_score_regression_n_steps_100/R3_T5_Q56_acq_uncertainty_noise_0.0/REINVENT_round_1/HITL_iteration_5/iteration_combined_data.csv\n",
      "Epoch 5, Loss: 0.30254661850631237\n",
      "Epoch 10, Loss: 0.3006298243999481\n",
      "Epoch 15, Loss: 0.2985405530780554\n",
      "Epoch 20, Loss: 0.2962745577096939\n",
      "Epoch 25, Loss: 0.29380521923303604\n",
      "Saved retrained feedback model at output_score_regression_n_steps_100/R3_T5_Q56_acq_uncertainty_noise_0.0/REINVENT_round_1/HITL_iteration_5/score_regression_model.pth\n",
      "=====================================\n",
      "REINVENT round = 2\n",
      "Creating config file: output_score_regression_n_steps_100/R3_T5_Q56_acq_uncertainty_noise_0.0/REINVENT_round_2/config.json.\n",
      "Run REINVENT\n",
      "Exit code: 0\n",
      "Number of SMILES in scaffold_memory.csv:  6291\n",
      "----------------------------------\n",
      "HITL iteration = 1\n",
      "Loading Score Regression model from output_score_regression_n_steps_100/R3_T5_Q56_acq_uncertainty_noise_0.0/REINVENT_round_1/HITL_iteration_5/score_regression_model.pth\n"
     ]
    },
    {
     "name": "stderr",
     "output_type": "stream",
     "text": [
      "Found local copy...\n"
     ]
    },
    {
     "name": "stdout",
     "output_type": "stream",
     "text": [
      "Batch 1 processed\n",
      "Human score at HITL iteration 1: [0.028296083929822732, 0.028296083929822732, 0.028296083929822732, 0.028296083929822732, 0.028296083929822732, 0.028296083929822732, 0.028296083929822732, 0.028296083929822732, 0.028296083929822732, 0.028296083929822732, 0.028296083929822732, 0.028296083929822732, 0.028296083929822732, 0.028296083929822732, 0.028296083929822732, 0.028296083929822732, 0.028296083929822732, 0.028296083929822732, 0.028296083929822732, 0.028296083929822732, 0.028296083929822732, 0.028296083929822732, 0.028296083929822732, 0.028296083929822732, 0.028296083929822732, 0.028296083929822732, 0.028296083929822732, 0.028296083929822732, 0.028296083929822732, 0.028296083929822732, 0.028296083929822732, 0.028296083929822732, 0.028296083929822732, 0.028296083929822732, 0.028296083929822732, 0.028296083929822732, 0.028296083929822732, 0.028296083929822732, 0.028296083929822732, 0.028296083929822732, 0.028296083929822732, 0.028296083929822732, 0.028296083929822732, 0.028296083929822732, 0.028296083929822732, 0.028296083929822732, 0.028296083929822732, 0.028296083929822732, 0.028296083929822732, 0.028296083929822732, 0.028296083929822732, 0.028296083929822732, 0.028296083929822732, 0.028296083929822732, 0.028296083929822732, 0.028296083929822732]\n",
      "New queried dataset size: 56\n",
      "Combined dataset size: 536\n",
      "Saved augmented training data at output_score_regression_n_steps_100/R3_T5_Q56_acq_uncertainty_noise_0.0/REINVENT_round_2/HITL_iteration_1/iteration_combined_data.csv\n",
      "Epoch 5, Loss: 0.4420654798547427\n",
      "Epoch 10, Loss: 0.4375488683581352\n",
      "Epoch 15, Loss: 0.43335112432638806\n",
      "Epoch 20, Loss: 0.42831626037756604\n",
      "Epoch 25, Loss: 0.4235621343056361\n",
      "Saved retrained feedback model at output_score_regression_n_steps_100/R3_T5_Q56_acq_uncertainty_noise_0.0/REINVENT_round_2/HITL_iteration_1/score_regression_model.pth\n",
      "----------------------------------\n",
      "HITL iteration = 2\n",
      "Loading Score Regression model from output_score_regression_n_steps_100/R3_T5_Q56_acq_uncertainty_noise_0.0/REINVENT_round_2/HITL_iteration_1/score_regression_model.pth\n"
     ]
    },
    {
     "name": "stderr",
     "output_type": "stream",
     "text": [
      "Found local copy...\n"
     ]
    },
    {
     "name": "stdout",
     "output_type": "stream",
     "text": [
      "Batch 1 processed\n",
      "Human score at HITL iteration 2: [0.010425070335364729, 0.010425070335364729, 0.010425070335364729, 0.010425070335364729, 0.010425070335364729, 0.010425070335364729, 0.010425070335364729, 0.010425070335364729, 0.010425070335364729, 0.010425070335364729, 0.010425070335364729, 0.010425070335364729, 0.010425070335364729, 0.010425070335364729, 0.010425070335364729, 0.010425070335364729, 0.010425070335364729, 0.010425070335364729, 0.010425070335364729, 0.010425070335364729, 0.010425070335364729, 0.010425070335364729, 0.010425070335364729, 0.010425070335364729, 0.010425070335364729, 0.010425070335364729, 0.010425070335364729, 0.010425070335364729, 0.010425070335364729, 0.010425070335364729, 0.010425070335364729, 0.010425070335364729, 0.010425070335364729, 0.010425070335364729, 0.010425070335364729, 0.010425070335364729, 0.010425070335364729, 0.010425070335364729, 0.010425070335364729, 0.010425070335364729, 0.010425070335364729, 0.010425070335364729, 0.010425070335364729, 0.010425070335364729, 0.010425070335364729, 0.010425070335364729, 0.010425070335364729, 0.010425070335364729, 0.010425070335364729, 0.010425070335364729, 0.010425070335364729, 0.010425070335364729, 0.010425070335364729, 0.010425070335364729, 0.010425070335364729, 0.010425070335364729]\n",
      "New queried dataset size: 56\n",
      "Combined dataset size: 592\n",
      "Saved augmented training data at output_score_regression_n_steps_100/R3_T5_Q56_acq_uncertainty_noise_0.0/REINVENT_round_2/HITL_iteration_2/iteration_combined_data.csv\n",
      "Epoch 5, Loss: 0.7054800353944302\n",
      "Epoch 10, Loss: 0.6946043893694878\n",
      "Epoch 15, Loss: 0.6865957714617252\n",
      "Epoch 20, Loss: 0.6748665198683739\n",
      "Epoch 25, Loss: 0.6641160137951374\n",
      "Saved retrained feedback model at output_score_regression_n_steps_100/R3_T5_Q56_acq_uncertainty_noise_0.0/REINVENT_round_2/HITL_iteration_2/score_regression_model.pth\n",
      "----------------------------------\n",
      "HITL iteration = 3\n",
      "Loading Score Regression model from output_score_regression_n_steps_100/R3_T5_Q56_acq_uncertainty_noise_0.0/REINVENT_round_2/HITL_iteration_2/score_regression_model.pth\n"
     ]
    },
    {
     "name": "stderr",
     "output_type": "stream",
     "text": [
      "Found local copy...\n"
     ]
    },
    {
     "name": "stdout",
     "output_type": "stream",
     "text": [
      "Batch 1 processed\n",
      "Human score at HITL iteration 3: [0.011255873034073716, 0.011255873034073716, 0.011255873034073716, 0.011255873034073716, 0.011255873034073716, 0.011255873034073716, 0.011255873034073716, 0.011255873034073716, 0.011255873034073716, 0.011255873034073716, 0.011255873034073716, 0.011255873034073716, 0.011255873034073716, 0.011255873034073716, 0.011255873034073716, 0.011255873034073716, 0.011255873034073716, 0.011255873034073716, 0.011255873034073716, 0.011255873034073716, 0.011255873034073716, 0.011255873034073716, 0.011255873034073716, 0.011255873034073716, 0.011255873034073716, 0.011255873034073716, 0.011255873034073716, 0.011255873034073716, 0.011255873034073716, 0.011255873034073716, 0.011255873034073716, 0.011255873034073716, 0.011255873034073716, 0.011255873034073716, 0.011255873034073716, 0.011255873034073716, 0.011255873034073716, 0.011255873034073716, 0.011255873034073716, 0.011255873034073716, 0.011255873034073716, 0.011255873034073716, 0.011255873034073716, 0.011255873034073716, 0.011255873034073716, 0.011255873034073716, 0.011255873034073716, 0.011255873034073716, 0.011255873034073716, 0.011255873034073716, 0.011255873034073716, 0.011255873034073716, 0.011255873034073716, 0.011255873034073716, 0.011255873034073716, 0.011255873034073716]\n",
      "New queried dataset size: 56\n",
      "Combined dataset size: 648\n",
      "Saved augmented training data at output_score_regression_n_steps_100/R3_T5_Q56_acq_uncertainty_noise_0.0/REINVENT_round_2/HITL_iteration_3/iteration_combined_data.csv\n",
      "Epoch 5, Loss: 1.4500790610909462\n",
      "Epoch 10, Loss: 1.4363608360290527\n",
      "Epoch 15, Loss: 1.4062259085476398\n",
      "Epoch 20, Loss: 1.3754372261464596\n",
      "Epoch 25, Loss: 1.3579561859369278\n",
      "Saved retrained feedback model at output_score_regression_n_steps_100/R3_T5_Q56_acq_uncertainty_noise_0.0/REINVENT_round_2/HITL_iteration_3/score_regression_model.pth\n",
      "----------------------------------\n",
      "HITL iteration = 4\n",
      "Loading Score Regression model from output_score_regression_n_steps_100/R3_T5_Q56_acq_uncertainty_noise_0.0/REINVENT_round_2/HITL_iteration_3/score_regression_model.pth\n"
     ]
    },
    {
     "name": "stderr",
     "output_type": "stream",
     "text": [
      "Found local copy...\n"
     ]
    },
    {
     "name": "stdout",
     "output_type": "stream",
     "text": [
      "Batch 1 processed\n",
      "Human score at HITL iteration 4: [0.01621098692608317, 0.01621098692608317, 0.01621098692608317, 0.01621098692608317, 0.01621098692608317, 0.01621098692608317, 0.01621098692608317, 0.01621098692608317, 0.01621098692608317, 0.01621098692608317, 0.01621098692608317, 0.01621098692608317, 0.01621098692608317, 0.01621098692608317, 0.01621098692608317, 0.01621098692608317, 0.01621098692608317, 0.01621098692608317, 0.01621098692608317, 0.01621098692608317, 0.01621098692608317, 0.01621098692608317, 0.01621098692608317, 0.01621098692608317, 0.01621098692608317, 0.01621098692608317, 0.01621098692608317, 0.01621098692608317, 0.01621098692608317, 0.01621098692608317, 0.01621098692608317, 0.01621098692608317, 0.01621098692608317, 0.01621098692608317, 0.01621098692608317, 0.01621098692608317, 0.01621098692608317, 0.01621098692608317, 0.01621098692608317, 0.01621098692608317, 0.01621098692608317, 0.01621098692608317, 0.01621098692608317, 0.01621098692608317, 0.01621098692608317, 0.01621098692608317, 0.01621098692608317, 0.01621098692608317, 0.01621098692608317, 0.01621098692608317, 0.01621098692608317, 0.01621098692608317, 0.01621098692608317, 0.01621098692608317, 0.01621098692608317, 0.01621098692608317]\n",
      "New queried dataset size: 56\n",
      "Combined dataset size: 704\n",
      "Saved augmented training data at output_score_regression_n_steps_100/R3_T5_Q56_acq_uncertainty_noise_0.0/REINVENT_round_2/HITL_iteration_4/iteration_combined_data.csv\n",
      "Epoch 5, Loss: 0.3510219333693385\n",
      "Epoch 10, Loss: 0.34384994860738516\n",
      "Epoch 15, Loss: 0.33667322900146246\n",
      "Epoch 20, Loss: 0.32955798134207726\n",
      "Epoch 25, Loss: 0.32256049010902643\n",
      "Saved retrained feedback model at output_score_regression_n_steps_100/R3_T5_Q56_acq_uncertainty_noise_0.0/REINVENT_round_2/HITL_iteration_4/score_regression_model.pth\n",
      "----------------------------------\n",
      "HITL iteration = 5\n",
      "Loading Score Regression model from output_score_regression_n_steps_100/R3_T5_Q56_acq_uncertainty_noise_0.0/REINVENT_round_2/HITL_iteration_4/score_regression_model.pth\n"
     ]
    },
    {
     "name": "stderr",
     "output_type": "stream",
     "text": [
      "Found local copy...\n"
     ]
    },
    {
     "name": "stdout",
     "output_type": "stream",
     "text": [
      "Batch 1 processed\n",
      "Human score at HITL iteration 5: [0.017743805374877228, 0.017743805374877228, 0.017743805374877228, 0.017743805374877228, 0.017743805374877228, 0.017743805374877228, 0.017743805374877228, 0.017743805374877228, 0.017743805374877228, 0.017743805374877228, 0.017743805374877228, 0.017743805374877228, 0.017743805374877228, 0.017743805374877228, 0.017743805374877228, 0.017743805374877228, 0.017743805374877228, 0.017743805374877228, 0.017743805374877228, 0.017743805374877228, 0.017743805374877228, 0.017743805374877228, 0.017743805374877228, 0.017743805374877228, 0.017743805374877228, 0.017743805374877228, 0.017743805374877228, 0.017743805374877228, 0.017743805374877228, 0.017743805374877228, 0.017743805374877228, 0.017743805374877228, 0.017743805374877228, 0.017743805374877228, 0.017743805374877228, 0.017743805374877228, 0.017743805374877228, 0.017743805374877228, 0.017743805374877228, 0.017743805374877228, 0.017743805374877228, 0.017743805374877228, 0.017743805374877228, 0.017743805374877228, 0.017743805374877228, 0.017743805374877228, 0.017743805374877228, 0.017743805374877228, 0.017743805374877228, 0.017743805374877228, 0.017743805374877228, 0.017743805374877228, 0.017743805374877228, 0.017743805374877228, 0.017743805374877228, 0.017743805374877228]\n",
      "New queried dataset size: 56\n",
      "Combined dataset size: 760\n",
      "Saved augmented training data at output_score_regression_n_steps_100/R3_T5_Q56_acq_uncertainty_noise_0.0/REINVENT_round_2/HITL_iteration_5/iteration_combined_data.csv\n",
      "Epoch 5, Loss: 0.46393484249711037\n",
      "Epoch 10, Loss: 0.453853993366162\n",
      "Epoch 15, Loss: 0.44246742005149525\n",
      "Epoch 20, Loss: 0.4323566568394502\n",
      "Epoch 25, Loss: 0.4216522288819154\n",
      "Saved retrained feedback model at output_score_regression_n_steps_100/R3_T5_Q56_acq_uncertainty_noise_0.0/REINVENT_round_2/HITL_iteration_5/score_regression_model.pth\n",
      "=====================================\n",
      "REINVENT round = 3\n",
      "Creating config file: output_score_regression_n_steps_100/R3_T5_Q56_acq_uncertainty_noise_0.0/REINVENT_round_3/config.json.\n",
      "Run REINVENT\n",
      "Exit code: 0\n",
      "Number of SMILES in scaffold_memory.csv:  5638\n",
      "----------------------------------\n",
      "HITL iteration = 1\n",
      "Loading Score Regression model from output_score_regression_n_steps_100/R3_T5_Q56_acq_uncertainty_noise_0.0/REINVENT_round_2/HITL_iteration_5/score_regression_model.pth\n"
     ]
    },
    {
     "name": "stderr",
     "output_type": "stream",
     "text": [
      "Found local copy...\n"
     ]
    },
    {
     "name": "stdout",
     "output_type": "stream",
     "text": [
      "Batch 1 processed\n",
      "Human score at HITL iteration 1: [0.535832404018422, 0.535832404018422, 0.535832404018422, 0.535832404018422, 0.535832404018422, 0.535832404018422, 0.535832404018422, 0.535832404018422, 0.535832404018422, 0.535832404018422, 0.535832404018422, 0.535832404018422, 0.535832404018422, 0.535832404018422, 0.535832404018422, 0.535832404018422, 0.535832404018422, 0.535832404018422, 0.535832404018422, 0.535832404018422, 0.535832404018422, 0.535832404018422, 0.535832404018422, 0.535832404018422, 0.535832404018422, 0.535832404018422, 0.535832404018422, 0.535832404018422, 0.535832404018422, 0.535832404018422, 0.535832404018422, 0.535832404018422, 0.535832404018422, 0.535832404018422, 0.535832404018422, 0.535832404018422, 0.535832404018422, 0.535832404018422, 0.535832404018422, 0.535832404018422, 0.535832404018422, 0.535832404018422, 0.535832404018422, 0.535832404018422, 0.535832404018422, 0.535832404018422, 0.535832404018422, 0.535832404018422, 0.535832404018422, 0.535832404018422, 0.535832404018422, 0.535832404018422, 0.535832404018422, 0.535832404018422, 0.535832404018422, 0.535832404018422]\n",
      "New queried dataset size: 56\n",
      "Combined dataset size: 816\n",
      "Saved augmented training data at output_score_regression_n_steps_100/R3_T5_Q56_acq_uncertainty_noise_0.0/REINVENT_round_3/HITL_iteration_1/iteration_combined_data.csv\n",
      "Epoch 5, Loss: 0.7011365573853254\n",
      "Epoch 10, Loss: 0.6880860924720764\n",
      "Epoch 15, Loss: 0.6685506533831358\n",
      "Epoch 20, Loss: 0.6554799322038889\n",
      "Epoch 25, Loss: 0.6353300362825394\n",
      "Saved retrained feedback model at output_score_regression_n_steps_100/R3_T5_Q56_acq_uncertainty_noise_0.0/REINVENT_round_3/HITL_iteration_1/score_regression_model.pth\n",
      "----------------------------------\n",
      "HITL iteration = 2\n",
      "Loading Score Regression model from output_score_regression_n_steps_100/R3_T5_Q56_acq_uncertainty_noise_0.0/REINVENT_round_3/HITL_iteration_1/score_regression_model.pth\n"
     ]
    },
    {
     "name": "stderr",
     "output_type": "stream",
     "text": [
      "Found local copy...\n"
     ]
    },
    {
     "name": "stdout",
     "output_type": "stream",
     "text": [
      "Batch 1 processed\n",
      "Human score at HITL iteration 2: [0.013598861404617222, 0.013598861404617222, 0.013598861404617222, 0.013598861404617222, 0.013598861404617222, 0.013598861404617222, 0.013598861404617222, 0.013598861404617222, 0.013598861404617222, 0.013598861404617222, 0.013598861404617222, 0.013598861404617222, 0.013598861404617222, 0.013598861404617222, 0.013598861404617222, 0.013598861404617222, 0.013598861404617222, 0.013598861404617222, 0.013598861404617222, 0.013598861404617222, 0.013598861404617222, 0.013598861404617222, 0.013598861404617222, 0.013598861404617222, 0.013598861404617222, 0.013598861404617222, 0.013598861404617222, 0.013598861404617222, 0.013598861404617222, 0.013598861404617222, 0.013598861404617222, 0.013598861404617222, 0.013598861404617222, 0.013598861404617222, 0.013598861404617222, 0.013598861404617222, 0.013598861404617222, 0.013598861404617222, 0.013598861404617222, 0.013598861404617222, 0.013598861404617222, 0.013598861404617222, 0.013598861404617222, 0.013598861404617222, 0.013598861404617222, 0.013598861404617222, 0.013598861404617222, 0.013598861404617222, 0.013598861404617222, 0.013598861404617222, 0.013598861404617222, 0.013598861404617222, 0.013598861404617222, 0.013598861404617222, 0.013598861404617222, 0.013598861404617222]\n",
      "New queried dataset size: 56\n",
      "Combined dataset size: 872\n",
      "Saved augmented training data at output_score_regression_n_steps_100/R3_T5_Q56_acq_uncertainty_noise_0.0/REINVENT_round_3/HITL_iteration_2/iteration_combined_data.csv\n",
      "Epoch 5, Loss: 1.3528207167983055\n",
      "Epoch 10, Loss: 1.3200434930622578\n",
      "Epoch 15, Loss: 1.275191992521286\n",
      "Epoch 20, Loss: 1.2452457658946514\n",
      "Epoch 25, Loss: 1.228669136762619\n",
      "Saved retrained feedback model at output_score_regression_n_steps_100/R3_T5_Q56_acq_uncertainty_noise_0.0/REINVENT_round_3/HITL_iteration_2/score_regression_model.pth\n",
      "----------------------------------\n",
      "HITL iteration = 3\n",
      "Loading Score Regression model from output_score_regression_n_steps_100/R3_T5_Q56_acq_uncertainty_noise_0.0/REINVENT_round_3/HITL_iteration_2/score_regression_model.pth\n"
     ]
    },
    {
     "name": "stderr",
     "output_type": "stream",
     "text": [
      "Found local copy...\n"
     ]
    },
    {
     "name": "stdout",
     "output_type": "stream",
     "text": [
      "Batch 1 processed\n",
      "Human score at HITL iteration 3: [0.04525693370430878, 0.04525693370430878, 0.04525693370430878, 0.04525693370430878, 0.04525693370430878, 0.04525693370430878, 0.04525693370430878, 0.04525693370430878, 0.04525693370430878, 0.04525693370430878, 0.04525693370430878, 0.04525693370430878, 0.04525693370430878, 0.04525693370430878, 0.04525693370430878, 0.04525693370430878, 0.04525693370430878, 0.04525693370430878, 0.04525693370430878, 0.04525693370430878, 0.04525693370430878, 0.04525693370430878, 0.04525693370430878, 0.04525693370430878, 0.04525693370430878, 0.04525693370430878, 0.04525693370430878, 0.04525693370430878, 0.04525693370430878, 0.04525693370430878, 0.04525693370430878, 0.04525693370430878, 0.04525693370430878, 0.04525693370430878, 0.04525693370430878, 0.04525693370430878, 0.04525693370430878, 0.04525693370430878, 0.04525693370430878, 0.04525693370430878, 0.04525693370430878, 0.04525693370430878, 0.04525693370430878, 0.04525693370430878, 0.04525693370430878, 0.04525693370430878, 0.04525693370430878, 0.04525693370430878, 0.04525693370430878, 0.04525693370430878, 0.04525693370430878, 0.04525693370430878, 0.04525693370430878, 0.04525693370430878, 0.04525693370430878, 0.04525693370430878]\n",
      "New queried dataset size: 56\n",
      "Combined dataset size: 928\n",
      "Saved augmented training data at output_score_regression_n_steps_100/R3_T5_Q56_acq_uncertainty_noise_0.0/REINVENT_round_3/HITL_iteration_3/iteration_combined_data.csv\n",
      "Epoch 5, Loss: 0.3157147513702512\n",
      "Epoch 10, Loss: 0.30624406319111586\n",
      "Epoch 15, Loss: 0.29709938867017627\n",
      "Epoch 20, Loss: 0.28825835697352886\n",
      "Epoch 25, Loss: 0.2797747999429703\n",
      "Saved retrained feedback model at output_score_regression_n_steps_100/R3_T5_Q56_acq_uncertainty_noise_0.0/REINVENT_round_3/HITL_iteration_3/score_regression_model.pth\n",
      "----------------------------------\n",
      "HITL iteration = 4\n",
      "Loading Score Regression model from output_score_regression_n_steps_100/R3_T5_Q56_acq_uncertainty_noise_0.0/REINVENT_round_3/HITL_iteration_3/score_regression_model.pth\n"
     ]
    },
    {
     "name": "stderr",
     "output_type": "stream",
     "text": [
      "Found local copy...\n"
     ]
    },
    {
     "name": "stdout",
     "output_type": "stream",
     "text": [
      "Batch 1 processed\n",
      "Human score at HITL iteration 4: [0.001935821907862286, 0.001935821907862286, 0.001935821907862286, 0.001935821907862286, 0.001935821907862286, 0.001935821907862286, 0.001935821907862286, 0.001935821907862286, 0.001935821907862286, 0.001935821907862286, 0.001935821907862286, 0.001935821907862286, 0.001935821907862286, 0.001935821907862286, 0.001935821907862286, 0.001935821907862286, 0.001935821907862286, 0.001935821907862286, 0.001935821907862286, 0.001935821907862286, 0.001935821907862286, 0.001935821907862286, 0.001935821907862286, 0.001935821907862286, 0.001935821907862286, 0.001935821907862286, 0.001935821907862286, 0.001935821907862286, 0.001935821907862286, 0.001935821907862286, 0.001935821907862286, 0.001935821907862286, 0.001935821907862286, 0.001935821907862286, 0.001935821907862286, 0.001935821907862286, 0.001935821907862286, 0.001935821907862286, 0.001935821907862286, 0.001935821907862286, 0.001935821907862286, 0.001935821907862286, 0.001935821907862286, 0.001935821907862286, 0.001935821907862286, 0.001935821907862286, 0.001935821907862286, 0.001935821907862286, 0.001935821907862286, 0.001935821907862286, 0.001935821907862286, 0.001935821907862286, 0.001935821907862286, 0.001935821907862286, 0.001935821907862286, 0.001935821907862286]\n",
      "New queried dataset size: 56\n",
      "Combined dataset size: 984\n",
      "Saved augmented training data at output_score_regression_n_steps_100/R3_T5_Q56_acq_uncertainty_noise_0.0/REINVENT_round_3/HITL_iteration_4/iteration_combined_data.csv\n",
      "Epoch 5, Loss: 0.3973666938642661\n",
      "Epoch 10, Loss: 0.3845780963699023\n",
      "Epoch 15, Loss: 0.37224723398685455\n",
      "Epoch 20, Loss: 0.3600330663224061\n",
      "Epoch 25, Loss: 0.3496989272534847\n",
      "Saved retrained feedback model at output_score_regression_n_steps_100/R3_T5_Q56_acq_uncertainty_noise_0.0/REINVENT_round_3/HITL_iteration_4/score_regression_model.pth\n",
      "----------------------------------\n",
      "HITL iteration = 5\n",
      "Loading Score Regression model from output_score_regression_n_steps_100/R3_T5_Q56_acq_uncertainty_noise_0.0/REINVENT_round_3/HITL_iteration_4/score_regression_model.pth\n"
     ]
    },
    {
     "name": "stderr",
     "output_type": "stream",
     "text": [
      "Found local copy...\n"
     ]
    },
    {
     "name": "stdout",
     "output_type": "stream",
     "text": [
      "Batch 1 processed\n",
      "Human score at HITL iteration 5: [0.03203485436168177, 0.03203485436168177, 0.03203485436168177, 0.03203485436168177, 0.03203485436168177, 0.03203485436168177, 0.03203485436168177, 0.03203485436168177, 0.03203485436168177, 0.03203485436168177, 0.03203485436168177, 0.03203485436168177, 0.03203485436168177, 0.03203485436168177, 0.03203485436168177, 0.03203485436168177, 0.03203485436168177, 0.03203485436168177, 0.03203485436168177, 0.03203485436168177, 0.03203485436168177, 0.03203485436168177, 0.03203485436168177, 0.03203485436168177, 0.03203485436168177, 0.03203485436168177, 0.03203485436168177, 0.03203485436168177, 0.03203485436168177, 0.03203485436168177, 0.03203485436168177, 0.03203485436168177, 0.03203485436168177, 0.03203485436168177, 0.03203485436168177, 0.03203485436168177, 0.03203485436168177, 0.03203485436168177, 0.03203485436168177, 0.03203485436168177, 0.03203485436168177, 0.03203485436168177, 0.03203485436168177, 0.03203485436168177, 0.03203485436168177, 0.03203485436168177, 0.03203485436168177, 0.03203485436168177, 0.03203485436168177, 0.03203485436168177, 0.03203485436168177, 0.03203485436168177, 0.03203485436168177, 0.03203485436168177, 0.03203485436168177, 0.03203485436168177]\n",
      "New queried dataset size: 56\n",
      "Combined dataset size: 1040\n",
      "Saved augmented training data at output_score_regression_n_steps_100/R3_T5_Q56_acq_uncertainty_noise_0.0/REINVENT_round_3/HITL_iteration_5/iteration_combined_data.csv\n",
      "Epoch 5, Loss: 0.5595289887860417\n",
      "Epoch 10, Loss: 0.5432417532429099\n",
      "Epoch 15, Loss: 0.5264305658638477\n",
      "Epoch 20, Loss: 0.5064236037433147\n",
      "Epoch 25, Loss: 0.49359881691634655\n",
      "Saved retrained feedback model at output_score_regression_n_steps_100/R3_T5_Q56_acq_uncertainty_noise_0.0/REINVENT_round_3/HITL_iteration_5/score_regression_model.pth\n",
      "=====================================\n",
      "REINVENT round = 4\n",
      "Creating config file: output_score_regression_n_steps_100/R3_T5_Q56_acq_uncertainty_noise_0.0/REINVENT_round_4/config.json.\n",
      "Run REINVENT\n",
      "Exit code: 0\n",
      "\n",
      "*******************************************************************\n",
      "Running HITL with uncertainty acquisition and noise 0.1\n",
      "\n",
      "Running DRD2 (one objective) with rounds 3, iters 5, queries 56, seed 42\n",
      "Results will be saved at output_score_regression_n_steps_100/R3_T5_Q56_acq_uncertainty_noise_0.1\n",
      "Loading initial training datasets successfully\n",
      "=====================================\n",
      "REINVENT round = 1\n",
      "Creating config file: output_score_regression_n_steps_100/R3_T5_Q56_acq_uncertainty_noise_0.1/REINVENT_round_1/config.json.\n",
      "Run REINVENT\n",
      "Exit code: 0\n",
      "Number of SMILES in scaffold_memory.csv:  6290\n",
      "----------------------------------\n",
      "HITL iteration = 1\n",
      "Loading Score Regression model from /home/springnuance/reinvent-hitl/Base-Code-Binh/training_Score_Regression_model/score_regression_model.pth\n"
     ]
    },
    {
     "name": "stderr",
     "output_type": "stream",
     "text": [
      "Found local copy...\n"
     ]
    },
    {
     "name": "stdout",
     "output_type": "stream",
     "text": [
      "Batch 1 processed\n",
      "Human score at HITL iteration 1: [0.05354007430996762, 0.0, 0.0686375128189136, 0.15617164464964692, 0.0, 0.0, 0.1617899405595835, 0.08061213192413523, 0.0, 0.05812466336744082, 0.0, 0.0, 0.028064886165447764, 0.0, 0.0, 0.0, 0.0, 0.03529339226837174, 0.0, 0.0, 0.15043353590099978, 0.0, 0.010621479477636737, 0.0, 0.0, 0.014960917979830964, 0.0, 0.04143846084341155, 0.0, 0.0, 0.0, 0.18909647745973815, 0.0025189365350509613, 0.0, 0.08612315021916327, 0.0, 0.024755018509319895, 0.0, 0.0, 0.023554782595756704, 0.0777153170083854, 0.021005487127841404, 0.0, 0.0, 0.0, 0.0, 0.0, 0.10958088163073593, 0.03823048796569049, 0.0, 0.03627705594832385, 0.0, 0.0, 0.06503628789293114, 0.10696861125843946, 0.09699667092046421]\n",
      "New queried dataset size: 56\n",
      "Combined dataset size: 256\n",
      "Saved augmented training data at output_score_regression_n_steps_100/R3_T5_Q56_acq_uncertainty_noise_0.1/REINVENT_round_1/HITL_iteration_1/iteration_combined_data.csv\n",
      "Epoch 5, Loss: 0.1720993723720312\n",
      "Epoch 10, Loss: 0.171834584325552\n",
      "Epoch 15, Loss: 0.17156104370951653\n",
      "Epoch 20, Loss: 0.17127559706568718\n",
      "Epoch 25, Loss: 0.17099345475435257\n",
      "Saved retrained feedback model at output_score_regression_n_steps_100/R3_T5_Q56_acq_uncertainty_noise_0.1/REINVENT_round_1/HITL_iteration_1/score_regression_model.pth\n",
      "----------------------------------\n",
      "HITL iteration = 2\n",
      "Loading Score Regression model from output_score_regression_n_steps_100/R3_T5_Q56_acq_uncertainty_noise_0.1/REINVENT_round_1/HITL_iteration_1/score_regression_model.pth\n"
     ]
    },
    {
     "name": "stderr",
     "output_type": "stream",
     "text": [
      "Found local copy...\n"
     ]
    },
    {
     "name": "stdout",
     "output_type": "stream",
     "text": [
      "Batch 1 processed\n",
      "Human score at HITL iteration 2: [0.0, 0.0, 0.06030759965771175, 0.12473576922959127, 0.0, 0.008615358850973639, 0.0, 0.0, 0.10843383875677516, 0.16280525937443763, 0.019980244359321966, 0.12753454630655778, 0.06334485902211877, 0.0, 0.06332081706819674, 0.18098491316395227, 0.023598652606360196, 0.18364562209875598, 0.0, 0.10937150695487774, 0.03588596334117247, 0.0, 0.03635733417090558, 0.0, 0.005214067733604156, 0.06289251366852999, 0.17497066099150696, 0.0, 0.0, 0.0, 0.11872146828756278, 0.0600563674833238, 0.0, 0.07850799982869096, 0.03688901145215939, 0.12404575557064428, 0.0, 0.0, 0.0, 0.0, 0.056793284223812954, 0.05328678373534429, 0.02769260218160144, 0.003722543179840658, 0.0, 0.0, 0.0, 0.0, 0.011052685350754436, 0.0675863421988092, 0.21579984663840837, 0.044639037800539245, 0.05293629558963179, 0.019736664940738627, 0.0, 0.02452986897243366]\n",
      "New queried dataset size: 56\n",
      "Combined dataset size: 312\n",
      "Saved augmented training data at output_score_regression_n_steps_100/R3_T5_Q56_acq_uncertainty_noise_0.1/REINVENT_round_1/HITL_iteration_2/iteration_combined_data.csv\n",
      "Epoch 5, Loss: 0.2835700213909149\n",
      "Epoch 10, Loss: 0.2828386401136716\n",
      "Epoch 15, Loss: 0.28195348133643466\n",
      "Epoch 20, Loss: 0.2810002341866493\n",
      "Epoch 25, Loss: 0.2801410083969434\n",
      "Saved retrained feedback model at output_score_regression_n_steps_100/R3_T5_Q56_acq_uncertainty_noise_0.1/REINVENT_round_1/HITL_iteration_2/score_regression_model.pth\n",
      "----------------------------------\n",
      "HITL iteration = 3\n",
      "Loading Score Regression model from output_score_regression_n_steps_100/R3_T5_Q56_acq_uncertainty_noise_0.1/REINVENT_round_1/HITL_iteration_2/score_regression_model.pth\n"
     ]
    },
    {
     "name": "stderr",
     "output_type": "stream",
     "text": [
      "Found local copy...\n"
     ]
    },
    {
     "name": "stdout",
     "output_type": "stream",
     "text": [
      "Batch 1 processed\n",
      "Human score at HITL iteration 3: [0.05786783927133753, 0.2981690295257635, 0.032608721799122636, 0.08199955251059614, 0.048373641306710555, 0.0, 0.16612709972873696, 0.12703812154591232, 0.13094801298153957, 0.0, 0.19212424937084482, 0.0, 0.11053052765726193, 0.27089038085823275, 0.0, 0.0, 0.06180995478599901, 0.0014972528656149661, 0.0, 0.058701115757837624, 0.0, 0.09920406134075305, 0.0, 0.20683825877898884, 0.0, 0.01963866665666733, 0.13319654001420186, 0.0, 0.07459081173764784, 0.1825590937054777, 0.0, 0.07030820413046532, 0.07783309770207725, 0.13002710545496593, 0.0, 0.0, 0.10403897483892466, 0.08154328560055349, 0.07689410331182255, 0.08648963922693245, 0.0, 0.07507018799333524, 0.08115206560710302, 0.0, 0.23842226939171055, 0.09922811036841364, 0.0, 0.11750017914061786, 0.0, 0.1305532786514801, 0.1677043761779753, 0.0, 0.14818243120166708, 0.09312291097088472, 0.1340508342766839, 0.24152411654262965]\n",
      "New queried dataset size: 56\n",
      "Combined dataset size: 368\n",
      "Saved augmented training data at output_score_regression_n_steps_100/R3_T5_Q56_acq_uncertainty_noise_0.1/REINVENT_round_1/HITL_iteration_3/iteration_combined_data.csv\n",
      "Epoch 5, Loss: 0.5017684623599052\n",
      "Epoch 10, Loss: 0.4998937025666237\n",
      "Epoch 15, Loss: 0.4981381855905056\n",
      "Epoch 20, Loss: 0.495494831353426\n",
      "Epoch 25, Loss: 0.4931565038859844\n",
      "Saved retrained feedback model at output_score_regression_n_steps_100/R3_T5_Q56_acq_uncertainty_noise_0.1/REINVENT_round_1/HITL_iteration_3/score_regression_model.pth\n",
      "----------------------------------\n",
      "HITL iteration = 4\n",
      "Loading Score Regression model from output_score_regression_n_steps_100/R3_T5_Q56_acq_uncertainty_noise_0.1/REINVENT_round_1/HITL_iteration_3/score_regression_model.pth\n"
     ]
    },
    {
     "name": "stderr",
     "output_type": "stream",
     "text": [
      "Found local copy...\n"
     ]
    },
    {
     "name": "stdout",
     "output_type": "stream",
     "text": [
      "Batch 1 processed\n",
      "Human score at HITL iteration 4: [0.03215933789489998, 0.0, 0.0, 0.0, 0.04898797855377661, 0.09081334697685142, 0.08436722942818893, 0.1394164743987894, 0.057998338682977726, 0.20205155721091872, 0.030232466171391418, 0.3287150661541489, 0.11926488427168766, 0.0, 0.0, 0.10494539101950556, 0.034351870962601935, 0.12809819890439622, 0.10402191195254151, 0.04941525822949975, 0.0, 0.0, 0.012046654288484913, 0.14233802892753428, 0.07810752390820742, 0.0, 0.07401624208030523, 0.0952298874680707, 0.0, 0.07207066008973982, 0.06251902133978701, 0.0, 0.09247688553001536, 0.11277660213201046, 0.16500327381271473, 0.16207835469867732, 0.0, 0.0, 0.108201676216053, 0.10807674458640791, 0.10820291812579183, 0.4419712985606592, 0.11378720056450373, 0.17025471351324692, 0.15209832584450728, 0.12183727462576682, 0.02517122503115246, 0.13259507154451378, 0.0, 0.03301628882118614, 0.008161794712276675, 0.06488556343381928, 0.2881640061625379, 0.0, 0.12532416853263836, 0.0]\n",
      "New queried dataset size: 56\n",
      "Combined dataset size: 424\n",
      "Saved augmented training data at output_score_regression_n_steps_100/R3_T5_Q56_acq_uncertainty_noise_0.1/REINVENT_round_1/HITL_iteration_4/iteration_combined_data.csv\n",
      "Epoch 5, Loss: 1.141594983637333\n",
      "Epoch 10, Loss: 1.1345821917057037\n",
      "Epoch 15, Loss: 1.131841741502285\n",
      "Epoch 20, Loss: 1.1229756623506546\n",
      "Epoch 25, Loss: 1.1124139353632927\n",
      "Saved retrained feedback model at output_score_regression_n_steps_100/R3_T5_Q56_acq_uncertainty_noise_0.1/REINVENT_round_1/HITL_iteration_4/score_regression_model.pth\n",
      "----------------------------------\n",
      "HITL iteration = 5\n",
      "Loading Score Regression model from output_score_regression_n_steps_100/R3_T5_Q56_acq_uncertainty_noise_0.1/REINVENT_round_1/HITL_iteration_4/score_regression_model.pth\n"
     ]
    },
    {
     "name": "stderr",
     "output_type": "stream",
     "text": [
      "Found local copy...\n"
     ]
    },
    {
     "name": "stdout",
     "output_type": "stream",
     "text": [
      "Batch 1 processed\n",
      "Human score at HITL iteration 5: [0.0, 0.11013880777508406, 0.007671749987893725, 0.0, 0.0, 0.06920352297181503, 0.0, 0.022889607036544933, 0.0058009320687288255, 0.0, 0.21563815701088004, 0.06463565031014856, 0.0, 0.01988917955529021, 0.0, 0.08648708155796984, 0.0, 0.0, 0.051742475976393164, 0.0878192674953596, 0.0, 0.0, 0.0, 0.0, 0.17778917210645714, 0.041741919174443004, 0.0, 0.09302994278382505, 0.2134593677796108, 0.10449027413346214, 0.0, 0.0, 0.12793486299700974, 0.0, 0.0456256908929703, 0.07870715342128112, 0.0, 0.0, 0.0, 0.0, 0.0, 0.0, 0.164484878471511, 0.0, 0.0, 0.014317805806956583, 0.14537107698495902, 0.0, 0.11756012329384341, 0.002267054180306152, 0.0, 0.047454095504674526, 0.02114971763569445, 0.0, 0.00822395657734934, 0.0]\n",
      "New queried dataset size: 56\n",
      "Combined dataset size: 480\n",
      "Saved augmented training data at output_score_regression_n_steps_100/R3_T5_Q56_acq_uncertainty_noise_0.1/REINVENT_round_1/HITL_iteration_5/iteration_combined_data.csv\n",
      "Epoch 5, Loss: 0.2948571741580963\n",
      "Epoch 10, Loss: 0.29220694676041603\n",
      "Epoch 15, Loss: 0.2893627118319273\n",
      "Epoch 20, Loss: 0.2862439826130867\n",
      "Epoch 25, Loss: 0.28289790265262127\n",
      "Saved retrained feedback model at output_score_regression_n_steps_100/R3_T5_Q56_acq_uncertainty_noise_0.1/REINVENT_round_1/HITL_iteration_5/score_regression_model.pth\n",
      "=====================================\n",
      "REINVENT round = 2\n",
      "Creating config file: output_score_regression_n_steps_100/R3_T5_Q56_acq_uncertainty_noise_0.1/REINVENT_round_2/config.json.\n",
      "Run REINVENT\n",
      "Exit code: 0\n",
      "Number of SMILES in scaffold_memory.csv:  6304\n",
      "----------------------------------\n",
      "HITL iteration = 1\n",
      "Loading Score Regression model from output_score_regression_n_steps_100/R3_T5_Q56_acq_uncertainty_noise_0.1/REINVENT_round_1/HITL_iteration_5/score_regression_model.pth\n"
     ]
    },
    {
     "name": "stderr",
     "output_type": "stream",
     "text": [
      "Found local copy...\n"
     ]
    },
    {
     "name": "stdout",
     "output_type": "stream",
     "text": [
      "Batch 1 processed\n",
      "Human score at HITL iteration 1: [0.02988757711210544, 0.08474891003908532, 0.17713752420151585, 0.0, 0.2318391800526073, 0.0, 0.0033573330834223043, 0.0773675632354383, 0.0466350293604839, 0.0, 0.0, 0.0, 0.0, 0.10349605228908311, 0.054237391183485376, 0.0, 0.10849583013030571, 0.04926579467464157, 0.09982205447087665, 0.08149872677934186, 0.0, 0.0, 0.09326520309930683, 0.07957286913032713, 0.016445683190565826, 0.030268580917858837, 0.1463023321658231, 0.0, 0.07324558070398443, 0.0, 0.0, 0.12841352778569964, 0.10107747748578363, 0.0998868061870445, 0.14908372330241354, 0.02063622675025654, 0.08673113971647703, 0.0, 0.05095247783582485, 0.0055215371502121795, 0.028235439086252458, 0.078051545130672, 0.0, 0.22777457015552666, 0.0, 0.0, 0.1343469299369874, 0.09770211198327423, 0.08094782429219616, 0.08137039351340863, 0.017311165302289176, 0.0, 0.026116298406353274, 0.0, 0.11604781592875577, 0.003830104436766773]\n",
      "New queried dataset size: 56\n",
      "Combined dataset size: 536\n",
      "Saved augmented training data at output_score_regression_n_steps_100/R3_T5_Q56_acq_uncertainty_noise_0.1/REINVENT_round_2/HITL_iteration_1/iteration_combined_data.csv\n",
      "Epoch 5, Loss: 0.42597928394873935\n",
      "Epoch 10, Loss: 0.42042288432518643\n",
      "Epoch 15, Loss: 0.414550818502903\n",
      "Epoch 20, Loss: 0.4086591104666392\n",
      "Epoch 25, Loss: 0.40192490071058273\n",
      "Saved retrained feedback model at output_score_regression_n_steps_100/R3_T5_Q56_acq_uncertainty_noise_0.1/REINVENT_round_2/HITL_iteration_1/score_regression_model.pth\n",
      "----------------------------------\n",
      "HITL iteration = 2\n",
      "Loading Score Regression model from output_score_regression_n_steps_100/R3_T5_Q56_acq_uncertainty_noise_0.1/REINVENT_round_2/HITL_iteration_1/score_regression_model.pth\n"
     ]
    },
    {
     "name": "stderr",
     "output_type": "stream",
     "text": [
      "Found local copy...\n"
     ]
    },
    {
     "name": "stdout",
     "output_type": "stream",
     "text": [
      "Batch 1 processed\n",
      "Human score at HITL iteration 2: [0.0, 0.0, 0.054899873475359566, 0.0, 0.0, 0.037975449196988365, 0.038103385158669414, 0.0, 0.0, 0.036811721783560764, 0.0, 0.0, 0.0, 0.0, 0.04469748460759759, 0.16114234974275235, 0.09937269036799909, 0.0, 0.01170510725752825, 0.0, 0.011755414448558139, 0.0, 0.04587858408160608, 0.0, 0.06554137947191437, 0.16688061934805493, 0.002730713202111372, 0.05377790025769128, 0.08262112721890838, 0.0, 0.036015976228838814, 0.014865968125976618, 0.023374337902680307, 0.0, 0.016057745473691404, 0.06340655717234212, 0.15872108882730132, 0.10953381065631781, 0.2289249737989528, 0.0, 0.10083879171986496, 0.03194092862163231, 0.23258702136956438, 0.0, 0.0, 0.0, 0.0, 0.0, 0.0, 0.028646106695417894, 0.04778232562551308, 0.20122381196938577, 0.10864911186640216, 0.0, 0.0, 0.06279864519844772]\n",
      "New queried dataset size: 56\n",
      "Combined dataset size: 592\n",
      "Saved augmented training data at output_score_regression_n_steps_100/R3_T5_Q56_acq_uncertainty_noise_0.1/REINVENT_round_2/HITL_iteration_2/iteration_combined_data.csv\n",
      "Epoch 5, Loss: 0.6688000299036503\n",
      "Epoch 10, Loss: 0.6593988090753555\n",
      "Epoch 15, Loss: 0.6454340163618326\n",
      "Epoch 20, Loss: 0.6335973050445318\n",
      "Epoch 25, Loss: 0.6174152474850416\n",
      "Saved retrained feedback model at output_score_regression_n_steps_100/R3_T5_Q56_acq_uncertainty_noise_0.1/REINVENT_round_2/HITL_iteration_2/score_regression_model.pth\n",
      "----------------------------------\n",
      "HITL iteration = 3\n",
      "Loading Score Regression model from output_score_regression_n_steps_100/R3_T5_Q56_acq_uncertainty_noise_0.1/REINVENT_round_2/HITL_iteration_2/score_regression_model.pth\n"
     ]
    },
    {
     "name": "stderr",
     "output_type": "stream",
     "text": [
      "Found local copy...\n"
     ]
    },
    {
     "name": "stdout",
     "output_type": "stream",
     "text": [
      "Batch 1 processed\n",
      "Human score at HITL iteration 3: [0.0, 0.19515583637027667, 0.12995397185697, 0.0, 0.0, 0.14739719720138258, 0.0005559752595795074, 0.1357915909821875, 0.0, 0.0, 0.012534329756659614, 0.016708019161315504, 0.0, 0.07429495301959117, 0.0, 0.0, 0.024039522956031185, 0.0634538431907162, 0.08317144759373027, 0.0, 0.0, 0.1397776419746922, 0.04524136098280046, 0.0, 0.1671251573370936, 0.023577423214127164, 0.12993967819122396, 0.018761807925852192, 0.21808475227304, 0.18754404402916175, 0.0, 0.10916705488027684, 0.07654755474335606, 0.14887311553807617, 0.0, 0.08061510578468523, 0.11785240846980008, 0.0, 0.0, 0.0, 0.0, 0.08376418536443753, 0.16224566499444412, 0.019419437826818816, 0.17487151434197049, 0.0, 0.0, 0.0064551898951794185, 0.050416504678772026, 0.008740484975431985, 0.0, 0.0030979558335624564, 0.0, 0.07897721466784516, 0.04866978439452613, 0.0]\n",
      "New queried dataset size: 56\n",
      "Combined dataset size: 648\n",
      "Saved augmented training data at output_score_regression_n_steps_100/R3_T5_Q56_acq_uncertainty_noise_0.1/REINVENT_round_2/HITL_iteration_3/iteration_combined_data.csv\n",
      "Epoch 5, Loss: 1.3667582832276821\n",
      "Epoch 10, Loss: 1.3264737762510777\n",
      "Epoch 15, Loss: 1.3127909936010838\n",
      "Epoch 20, Loss: 1.2824955210089684\n",
      "Epoch 25, Loss: 1.2381893694400787\n",
      "Saved retrained feedback model at output_score_regression_n_steps_100/R3_T5_Q56_acq_uncertainty_noise_0.1/REINVENT_round_2/HITL_iteration_3/score_regression_model.pth\n",
      "----------------------------------\n",
      "HITL iteration = 4\n",
      "Loading Score Regression model from output_score_regression_n_steps_100/R3_T5_Q56_acq_uncertainty_noise_0.1/REINVENT_round_2/HITL_iteration_3/score_regression_model.pth\n"
     ]
    },
    {
     "name": "stderr",
     "output_type": "stream",
     "text": [
      "Found local copy...\n"
     ]
    },
    {
     "name": "stdout",
     "output_type": "stream",
     "text": [
      "Batch 1 processed\n",
      "Human score at HITL iteration 4: [0.0, 0.0, 0.0, 0.09727633046021099, 0.0, 0.05216674996187161, 0.0, 0.0, 0.0, 0.0, 0.0, 0.0, 0.1982346117017261, 0.005288453607260022, 0.0, 0.023160089483509363, 0.0, 0.0, 0.06317876841442968, 0.07751286941481768, 0.0, 0.0, 0.0, 0.0, 0.0, 0.13844952515453962, 0.16625886976021553, 0.0, 0.05941779471566381, 0.03288711386444077, 0.30965017925561095, 0.11371958955354484, 0.0, 0.0, 0.0, 0.02210846199680947, 0.0, 0.0, 0.0, 0.0, 0.17047626191734364, 0.08992607410503221, 0.0009648342784254228, 0.14975651229908973, 0.009498929174848991, 0.0, 0.1540745061370529, 0.05565310277855303, 0.0, 0.0, 0.0, 0.0, 0.0943798531632513, 0.19270376245710022, 0.0, 0.05805902207914425]\n",
      "New queried dataset size: 56\n",
      "Combined dataset size: 704\n",
      "Saved augmented training data at output_score_regression_n_steps_100/R3_T5_Q56_acq_uncertainty_noise_0.1/REINVENT_round_2/HITL_iteration_4/iteration_combined_data.csv\n",
      "Epoch 5, Loss: 0.32346165366470814\n",
      "Epoch 10, Loss: 0.3163793021813035\n",
      "Epoch 15, Loss: 0.3097226610407233\n",
      "Epoch 20, Loss: 0.3034446882084012\n",
      "Epoch 25, Loss: 0.2975217718631029\n",
      "Saved retrained feedback model at output_score_regression_n_steps_100/R3_T5_Q56_acq_uncertainty_noise_0.1/REINVENT_round_2/HITL_iteration_4/score_regression_model.pth\n",
      "----------------------------------\n",
      "HITL iteration = 5\n",
      "Loading Score Regression model from output_score_regression_n_steps_100/R3_T5_Q56_acq_uncertainty_noise_0.1/REINVENT_round_2/HITL_iteration_4/score_regression_model.pth\n"
     ]
    },
    {
     "name": "stderr",
     "output_type": "stream",
     "text": [
      "Found local copy...\n"
     ]
    },
    {
     "name": "stdout",
     "output_type": "stream",
     "text": [
      "Batch 1 processed\n",
      "Human score at HITL iteration 5: [0.0, 0.0, 0.0, 0.0, 0.04261594388764554, 0.0, 0.06480946367114672, 0.03273997014824914, 0.01386897640652186, 0.0, 0.0, 0.11330290367573845, 0.08785549985560091, 0.0, 0.047697011636085425, 0.11290249343034174, 0.0, 0.09209980033115633, 0.0, 0.09482364795247877, 0.0, 0.0, 0.0, 0.04257227575930103, 0.06373603126531102, 0.0, 0.10162302697090023, 0.0, 0.031155801228431177, 0.0, 0.0, 0.042503648224804236, 0.0, 0.0, 0.13839306201460688, 0.0, 0.12133299229967702, 0.0, 0.09074419888469112, 0.18192064315895287, 0.0, 0.0, 0.09547099381121685, 0.017459242488863564, 0.07487836843029372, 0.0, 0.046422759840452826, 0.022196057553954887, 0.1545419872591436, 0.06320586542328414, 0.07152404730068306, 0.0, 0.0, 0.0, 0.07720899533099251, 0.0]\n",
      "New queried dataset size: 56\n",
      "Combined dataset size: 760\n",
      "Saved augmented training data at output_score_regression_n_steps_100/R3_T5_Q56_acq_uncertainty_noise_0.1/REINVENT_round_2/HITL_iteration_5/iteration_combined_data.csv\n",
      "Epoch 5, Loss: 0.4322214561204116\n",
      "Epoch 10, Loss: 0.42455046996474266\n",
      "Epoch 15, Loss: 0.41645434871315956\n",
      "Epoch 20, Loss: 0.4105176068842411\n",
      "Epoch 25, Loss: 0.4023798753817876\n",
      "Saved retrained feedback model at output_score_regression_n_steps_100/R3_T5_Q56_acq_uncertainty_noise_0.1/REINVENT_round_2/HITL_iteration_5/score_regression_model.pth\n",
      "=====================================\n",
      "REINVENT round = 3\n",
      "Creating config file: output_score_regression_n_steps_100/R3_T5_Q56_acq_uncertainty_noise_0.1/REINVENT_round_3/config.json.\n",
      "Run REINVENT\n",
      "Exit code: 0\n",
      "Number of SMILES in scaffold_memory.csv:  4926\n",
      "----------------------------------\n",
      "HITL iteration = 1\n",
      "Loading Score Regression model from output_score_regression_n_steps_100/R3_T5_Q56_acq_uncertainty_noise_0.1/REINVENT_round_2/HITL_iteration_5/score_regression_model.pth\n"
     ]
    },
    {
     "name": "stderr",
     "output_type": "stream",
     "text": [
      "Found local copy...\n"
     ]
    },
    {
     "name": "stdout",
     "output_type": "stream",
     "text": [
      "Batch 1 processed\n",
      "Human score at HITL iteration 1: [0.0564210753190674, 0.23498366949397, 0.11455605997259535, 0.0, 0.1475649818458206, 0.0, 0.0, 0.0, 0.0, 0.0, 0.02928542754838128, 0.1950873208569544, 0.06013632700584237, 0.005533536748539684, 0.11038414774777504, 0.0, 0.051005045440282705, 0.1045301090181228, 0.0, 0.14181899395011902, 0.061293230378867525, 0.0, 0.0907217762400546, 0.2545128754098657, 0.045630215135275626, 0.052265648259459715, 0.0, 0.0, 0.11047717128385068, 0.0, 0.03460021335136536, 0.0, 0.0753415722040653, 0.060809800158120944, 0.13119758405521603, 0.0, 0.0004560961000889818, 0.0, 0.0, 0.06517363893391133, 0.10314245129396131, 0.0, 0.11440418163999214, 0.1630073755099212, 0.0687870799517962, 0.21512317088523272, 0.0, 0.0, 0.0, 0.17704802077834442, 0.09288015526483188, 0.021885122538380604, 0.05544045226140814, 0.0, 0.27201878759110876, 0.04036570782694886]\n",
      "New queried dataset size: 56\n",
      "Combined dataset size: 816\n",
      "Saved augmented training data at output_score_regression_n_steps_100/R3_T5_Q56_acq_uncertainty_noise_0.1/REINVENT_round_3/HITL_iteration_1/iteration_combined_data.csv\n",
      "Epoch 5, Loss: 0.66315589658916\n",
      "Epoch 10, Loss: 0.6490818075835705\n",
      "Epoch 15, Loss: 0.6379854958504438\n",
      "Epoch 20, Loss: 0.6321251392364502\n",
      "Epoch 25, Loss: 0.6162375118583441\n",
      "Saved retrained feedback model at output_score_regression_n_steps_100/R3_T5_Q56_acq_uncertainty_noise_0.1/REINVENT_round_3/HITL_iteration_1/score_regression_model.pth\n",
      "----------------------------------\n",
      "HITL iteration = 2\n",
      "Loading Score Regression model from output_score_regression_n_steps_100/R3_T5_Q56_acq_uncertainty_noise_0.1/REINVENT_round_3/HITL_iteration_1/score_regression_model.pth\n"
     ]
    },
    {
     "name": "stderr",
     "output_type": "stream",
     "text": [
      "Found local copy...\n"
     ]
    },
    {
     "name": "stdout",
     "output_type": "stream",
     "text": [
      "Batch 1 processed\n",
      "Human score at HITL iteration 2: [0.020908900295723776, 0.08254608322510368, 0.05807034400890581, 0.03235782326314762, 0.0, 0.05711625654883406, 0.19817187048273788, 0.14451142545073228, 0.1692880834991742, 0.0, 0.0, 0.0, 0.015541912064103948, 0.11938857268232934, 0.0, 0.1629244527812959, 0.0, 0.0, 0.0, 0.0, 0.09228647923142595, 0.017301217554074877, 0.0, 0.0, 0.0, 0.1768715733641738, 0.0, 0.0, 0.0, 0.0, 0.0, 0.004539934183453266, 0.0, 0.07959005731657633, 0.19486503032976904, 0.12262592379001024, 0.0, 0.0, 0.26730540116022056, 0.015891264236683314, 0.011362350026529107, 0.007556912124234159, 0.029777896912019985, 0.0, 0.0, 0.0, 0.006694093813634648, 0.0, 0.0, 0.02061244360442417, 0.0, 0.16036871969350336, 0.0, 0.11912010602748067, 0.1345779400849974, 0.0]\n",
      "New queried dataset size: 56\n",
      "Combined dataset size: 872\n",
      "Saved augmented training data at output_score_regression_n_steps_100/R3_T5_Q56_acq_uncertainty_noise_0.1/REINVENT_round_3/HITL_iteration_2/iteration_combined_data.csv\n",
      "Epoch 5, Loss: 1.3297473788261414\n",
      "Epoch 10, Loss: 1.2951176781207323\n",
      "Epoch 15, Loss: 1.265099948272109\n",
      "Epoch 20, Loss: 1.2683817483484745\n",
      "Epoch 25, Loss: 1.2173525169491768\n",
      "Saved retrained feedback model at output_score_regression_n_steps_100/R3_T5_Q56_acq_uncertainty_noise_0.1/REINVENT_round_3/HITL_iteration_2/score_regression_model.pth\n",
      "----------------------------------\n",
      "HITL iteration = 3\n",
      "Loading Score Regression model from output_score_regression_n_steps_100/R3_T5_Q56_acq_uncertainty_noise_0.1/REINVENT_round_3/HITL_iteration_2/score_regression_model.pth\n"
     ]
    },
    {
     "name": "stderr",
     "output_type": "stream",
     "text": [
      "Found local copy...\n"
     ]
    },
    {
     "name": "stdout",
     "output_type": "stream",
     "text": [
      "Batch 1 processed\n",
      "Human score at HITL iteration 3: [0.0, 0.0, 0.0, 0.0, 0.0, 0.203523128272185, 0.12186392324456885, 0.1554515934292386, 0.10046329033414625, 0.0, 0.0, 0.07723354005261454, 0.0, 0.09959592694706154, 0.004263544114009227, 0.0, 0.09939208075017189, 0.07272241507842671, 0.0, 0.14422906426624754, 0.0, 0.08988964462424912, 0.08760620972666111, 0.0, 0.06090938615403453, 0.0, 0.12069878585051284, 0.009805870285523828, 0.0, 0.13319700651351168, 0.0, 0.0, 0.0, 0.0888970790643867, 0.0, 0.20377550212825923, 0.0, 0.19794172075882654, 0.04939783065008457, 0.018624772742783492, 0.0, 0.06820969536502983, 0.024532613687337897, 0.13862627213147488, 0.0397188487960267, 0.043326260076010495, 0.0, 0.022601521557715987, 0.059076260819028656, 0.0, 0.0, 0.10262249333209424, 0.04538262774261692, 0.009897750294554818, 0.03013947723636205, 0.06305425446598983]\n",
      "New queried dataset size: 56\n",
      "Combined dataset size: 928\n",
      "Saved augmented training data at output_score_regression_n_steps_100/R3_T5_Q56_acq_uncertainty_noise_0.1/REINVENT_round_3/HITL_iteration_3/iteration_combined_data.csv\n",
      "Epoch 5, Loss: 0.31420905608683825\n",
      "Epoch 10, Loss: 0.30695205461233854\n",
      "Epoch 15, Loss: 0.2997262356802821\n",
      "Epoch 20, Loss: 0.2925112624652684\n",
      "Epoch 25, Loss: 0.2854140396229923\n",
      "Saved retrained feedback model at output_score_regression_n_steps_100/R3_T5_Q56_acq_uncertainty_noise_0.1/REINVENT_round_3/HITL_iteration_3/score_regression_model.pth\n",
      "----------------------------------\n",
      "HITL iteration = 4\n",
      "Loading Score Regression model from output_score_regression_n_steps_100/R3_T5_Q56_acq_uncertainty_noise_0.1/REINVENT_round_3/HITL_iteration_3/score_regression_model.pth\n"
     ]
    },
    {
     "name": "stderr",
     "output_type": "stream",
     "text": [
      "Found local copy...\n"
     ]
    },
    {
     "name": "stdout",
     "output_type": "stream",
     "text": [
      "Batch 1 processed\n",
      "Human score at HITL iteration 4: [0.0, 0.0, 0.053757185819211545, 0.0, 0.07499793588089057, 0.0, 0.13708822404200777, 0.08143240855074768, 0.059775633740830954, 0.13244175870399477, 0.20072010475570107, 0.13560966681125644, 0.0, 0.0, 0.0, 0.03678176533052677, 0.08593856235635569, 0.0, 0.05284933675715122, 0.0, 0.0, 0.0, 0.0, 0.0, 0.0, 0.13953683997022734, 0.0, 0.29741086679318246, 0.08350445039753232, 0.05265627267893078, 0.0, 0.10420364825034253, 0.0, 0.04637364177397953, 0.29018111413632286, 0.024566670336978402, 0.14909999293801096, 0.0, 0.03067381125974722, 0.21125272387299437, 0.0, 0.21541751610913626, 0.10494785385499095, 0.0, 0.09741343421499549, 0.13142810527211637, 0.09635365653116304, 0.0, 0.0, 0.009420796754292911, 0.02672931739943876, 0.09623987006451118, 0.05194276040276877, 0.0, 0.07219244541003972, 0.0952312348378257]\n",
      "New queried dataset size: 56\n",
      "Combined dataset size: 984\n",
      "Saved augmented training data at output_score_regression_n_steps_100/R3_T5_Q56_acq_uncertainty_noise_0.1/REINVENT_round_3/HITL_iteration_4/iteration_combined_data.csv\n",
      "Epoch 5, Loss: 0.4061524420976639\n",
      "Epoch 10, Loss: 0.39559187429646653\n",
      "Epoch 15, Loss: 0.38405889458954334\n",
      "Epoch 20, Loss: 0.37426411112149555\n",
      "Epoch 25, Loss: 0.3637386206537485\n",
      "Saved retrained feedback model at output_score_regression_n_steps_100/R3_T5_Q56_acq_uncertainty_noise_0.1/REINVENT_round_3/HITL_iteration_4/score_regression_model.pth\n",
      "----------------------------------\n",
      "HITL iteration = 5\n",
      "Loading Score Regression model from output_score_regression_n_steps_100/R3_T5_Q56_acq_uncertainty_noise_0.1/REINVENT_round_3/HITL_iteration_4/score_regression_model.pth\n"
     ]
    },
    {
     "name": "stderr",
     "output_type": "stream",
     "text": [
      "Found local copy...\n"
     ]
    },
    {
     "name": "stdout",
     "output_type": "stream",
     "text": [
      "Batch 1 processed\n",
      "Human score at HITL iteration 5: [0.0603349712447731, 0.1124339990071313, 0.08774814190655952, 0.05027393437451279, 0.0, 0.0, 0.047317748364927706, 0.025124695167980226, 0.03151381017120646, 0.0, 0.0, 0.10967121178495948, 0.0004004110660036078, 0.07250599618893155, 0.00718776406471523, 0.007331540401243631, 0.09818430704926889, 0.0, 0.01396800414576745, 0.0, 0.0, 0.0, 0.026569303615040396, 0.0, 0.12993153900902119, 0.0, 0.0, 0.0, 0.1490537148870424, 0.024011404102826577, 0.1075403803985326, 0.0, 0.031060953038594998, 0.09331900601401283, 0.01258432537921153, 0.11090396395820425, 0.0, 0.1452906704702271, 0.23424573881359415, 0.0, 0.0, 0.1496943741634392, 0.16231314102474034, 0.0, 0.0, 0.0, 0.0, 0.0, 0.0, 0.0, 0.000887437712990994, 0.027777399705321188, 0.1594059757330768, 0.0, 0.1027881662993275, 0.0]\n",
      "New queried dataset size: 56\n",
      "Combined dataset size: 1040\n",
      "Saved augmented training data at output_score_regression_n_steps_100/R3_T5_Q56_acq_uncertainty_noise_0.1/REINVENT_round_3/HITL_iteration_5/iteration_combined_data.csv\n",
      "Epoch 5, Loss: 0.5746124554425478\n",
      "Epoch 10, Loss: 0.5601019589230418\n",
      "Epoch 15, Loss: 0.5447088647633791\n",
      "Epoch 20, Loss: 0.5287092346698046\n",
      "Epoch 25, Loss: 0.5185976903885603\n",
      "Saved retrained feedback model at output_score_regression_n_steps_100/R3_T5_Q56_acq_uncertainty_noise_0.1/REINVENT_round_3/HITL_iteration_5/score_regression_model.pth\n",
      "=====================================\n",
      "REINVENT round = 4\n",
      "Creating config file: output_score_regression_n_steps_100/R3_T5_Q56_acq_uncertainty_noise_0.1/REINVENT_round_4/config.json.\n",
      "Run REINVENT\n",
      "Exit code: 0\n",
      "\n",
      "*******************************************************************\n",
      "Running HITL with greedy acquisition and noise 0.0\n",
      "\n",
      "Running DRD2 (one objective) with rounds 3, iters 5, queries 56, seed 42\n",
      "Results will be saved at output_score_regression_n_steps_100/R3_T5_Q56_acq_greedy_noise_0.0\n",
      "Loading initial training datasets successfully\n",
      "=====================================\n",
      "REINVENT round = 1\n",
      "Creating config file: output_score_regression_n_steps_100/R3_T5_Q56_acq_greedy_noise_0.0/REINVENT_round_1/config.json.\n",
      "Run REINVENT\n",
      "Exit code: 0\n",
      "Number of SMILES in scaffold_memory.csv:  6302\n",
      "----------------------------------\n",
      "HITL iteration = 1\n",
      "Loading Score Regression model from /home/springnuance/reinvent-hitl/Base-Code-Binh/training_Score_Regression_model/score_regression_model.pth\n"
     ]
    },
    {
     "name": "stderr",
     "output_type": "stream",
     "text": [
      "Found local copy...\n"
     ]
    },
    {
     "name": "stdout",
     "output_type": "stream",
     "text": [
      "Batch 1 processed\n",
      "Human score at HITL iteration 1: [0.015257275506042821, 0.015257275506042821, 0.015257275506042821, 0.015257275506042821, 0.015257275506042821, 0.015257275506042821, 0.015257275506042821, 0.015257275506042821, 0.015257275506042821, 0.015257275506042821, 0.015257275506042821, 0.015257275506042821, 0.015257275506042821, 0.015257275506042821, 0.015257275506042821, 0.015257275506042821, 0.015257275506042821, 0.015257275506042821, 0.015257275506042821, 0.015257275506042821, 0.015257275506042821, 0.015257275506042821, 0.015257275506042821, 0.015257275506042821, 0.015257275506042821, 0.015257275506042821, 0.015257275506042821, 0.015257275506042821, 0.015257275506042821, 0.015257275506042821, 0.015257275506042821, 0.015257275506042821, 0.015257275506042821, 0.015257275506042821, 0.015257275506042821, 0.015257275506042821, 0.015257275506042821, 0.015257275506042821, 0.015257275506042821, 0.015257275506042821, 0.015257275506042821, 0.015257275506042821, 0.015257275506042821, 0.015257275506042821, 0.015257275506042821, 0.015257275506042821, 0.015257275506042821, 0.015257275506042821, 0.015257275506042821, 0.015257275506042821, 0.015257275506042821, 0.015257275506042821, 0.015257275506042821, 0.015257275506042821, 0.015257275506042821, 0.015257275506042821]\n",
      "New queried dataset size: 56\n",
      "Combined dataset size: 256\n",
      "Saved augmented training data at output_score_regression_n_steps_100/R3_T5_Q56_acq_greedy_noise_0.0/REINVENT_round_1/HITL_iteration_1/iteration_combined_data.csv\n",
      "Epoch 5, Loss: 0.17199167050421238\n",
      "Epoch 10, Loss: 0.17172133550047874\n",
      "Epoch 15, Loss: 0.1714523397386074\n",
      "Epoch 20, Loss: 0.17117967084050179\n",
      "Epoch 25, Loss: 0.17090926133096218\n",
      "Saved retrained feedback model at output_score_regression_n_steps_100/R3_T5_Q56_acq_greedy_noise_0.0/REINVENT_round_1/HITL_iteration_1/score_regression_model.pth\n",
      "----------------------------------\n",
      "HITL iteration = 2\n",
      "Loading Score Regression model from output_score_regression_n_steps_100/R3_T5_Q56_acq_greedy_noise_0.0/REINVENT_round_1/HITL_iteration_1/score_regression_model.pth\n"
     ]
    },
    {
     "name": "stderr",
     "output_type": "stream",
     "text": [
      "Found local copy...\n"
     ]
    },
    {
     "name": "stdout",
     "output_type": "stream",
     "text": [
      "Batch 1 processed\n",
      "Human score at HITL iteration 2: [0.007579118716289277, 0.007579118716289277, 0.007579118716289277, 0.007579118716289277, 0.007579118716289277, 0.007579118716289277, 0.007579118716289277, 0.007579118716289277, 0.007579118716289277, 0.007579118716289277, 0.007579118716289277, 0.007579118716289277, 0.007579118716289277, 0.007579118716289277, 0.007579118716289277, 0.007579118716289277, 0.007579118716289277, 0.007579118716289277, 0.007579118716289277, 0.007579118716289277, 0.007579118716289277, 0.007579118716289277, 0.007579118716289277, 0.007579118716289277, 0.007579118716289277, 0.007579118716289277, 0.007579118716289277, 0.007579118716289277, 0.007579118716289277, 0.007579118716289277, 0.007579118716289277, 0.007579118716289277, 0.007579118716289277, 0.007579118716289277, 0.007579118716289277, 0.007579118716289277, 0.007579118716289277, 0.007579118716289277, 0.007579118716289277, 0.007579118716289277, 0.007579118716289277, 0.007579118716289277, 0.007579118716289277, 0.007579118716289277, 0.007579118716289277, 0.007579118716289277, 0.007579118716289277, 0.007579118716289277, 0.007579118716289277, 0.007579118716289277, 0.007579118716289277, 0.007579118716289277, 0.007579118716289277, 0.007579118716289277, 0.007579118716289277, 0.007579118716289277]\n",
      "New queried dataset size: 56\n",
      "Combined dataset size: 312\n",
      "Saved augmented training data at output_score_regression_n_steps_100/R3_T5_Q56_acq_greedy_noise_0.0/REINVENT_round_1/HITL_iteration_2/iteration_combined_data.csv\n",
      "Epoch 5, Loss: 0.2836107884844144\n",
      "Epoch 10, Loss: 0.28295865654945374\n",
      "Epoch 15, Loss: 0.2822479208310445\n",
      "Epoch 20, Loss: 0.28146372238794964\n",
      "Epoch 25, Loss: 0.280606468518575\n",
      "Saved retrained feedback model at output_score_regression_n_steps_100/R3_T5_Q56_acq_greedy_noise_0.0/REINVENT_round_1/HITL_iteration_2/score_regression_model.pth\n",
      "----------------------------------\n",
      "HITL iteration = 3\n",
      "Loading Score Regression model from output_score_regression_n_steps_100/R3_T5_Q56_acq_greedy_noise_0.0/REINVENT_round_1/HITL_iteration_2/score_regression_model.pth\n"
     ]
    },
    {
     "name": "stderr",
     "output_type": "stream",
     "text": [
      "Found local copy...\n"
     ]
    },
    {
     "name": "stdout",
     "output_type": "stream",
     "text": [
      "Batch 1 processed\n",
      "Human score at HITL iteration 3: [0.0008892828719090553, 0.0008892828719090553, 0.0008892828719090553, 0.0008892828719090553, 0.0008892828719090553, 0.0008892828719090553, 0.0008892828719090553, 0.0008892828719090553, 0.0008892828719090553, 0.0008892828719090553, 0.0008892828719090553, 0.0008892828719090553, 0.0008892828719090553, 0.0008892828719090553, 0.0008892828719090553, 0.0008892828719090553, 0.0008892828719090553, 0.0008892828719090553, 0.0008892828719090553, 0.0008892828719090553, 0.0008892828719090553, 0.0008892828719090553, 0.0008892828719090553, 0.0008892828719090553, 0.0008892828719090553, 0.0008892828719090553, 0.0008892828719090553, 0.0008892828719090553, 0.0008892828719090553, 0.0008892828719090553, 0.0008892828719090553, 0.0008892828719090553, 0.0008892828719090553, 0.0008892828719090553, 0.0008892828719090553, 0.0008892828719090553, 0.0008892828719090553, 0.0008892828719090553, 0.0008892828719090553, 0.0008892828719090553, 0.0008892828719090553, 0.0008892828719090553, 0.0008892828719090553, 0.0008892828719090553, 0.0008892828719090553, 0.0008892828719090553, 0.0008892828719090553, 0.0008892828719090553, 0.0008892828719090553, 0.0008892828719090553, 0.0008892828719090553, 0.0008892828719090553, 0.0008892828719090553, 0.0008892828719090553, 0.0008892828719090553, 0.0008892828719090553]\n",
      "New queried dataset size: 56\n",
      "Combined dataset size: 368\n",
      "Saved augmented training data at output_score_regression_n_steps_100/R3_T5_Q56_acq_greedy_noise_0.0/REINVENT_round_1/HITL_iteration_3/iteration_combined_data.csv\n",
      "Epoch 5, Loss: 0.5018361993134022\n",
      "Epoch 10, Loss: 0.5003449320793152\n",
      "Epoch 15, Loss: 0.49807552620768547\n",
      "Epoch 20, Loss: 0.4960753209888935\n",
      "Epoch 25, Loss: 0.49481211230158806\n",
      "Saved retrained feedback model at output_score_regression_n_steps_100/R3_T5_Q56_acq_greedy_noise_0.0/REINVENT_round_1/HITL_iteration_3/score_regression_model.pth\n",
      "----------------------------------\n",
      "HITL iteration = 4\n",
      "Loading Score Regression model from output_score_regression_n_steps_100/R3_T5_Q56_acq_greedy_noise_0.0/REINVENT_round_1/HITL_iteration_3/score_regression_model.pth\n"
     ]
    },
    {
     "name": "stderr",
     "output_type": "stream",
     "text": [
      "Found local copy...\n"
     ]
    },
    {
     "name": "stdout",
     "output_type": "stream",
     "text": [
      "Batch 1 processed\n",
      "Human score at HITL iteration 4: [0.0074495242988159155, 0.0074495242988159155, 0.0074495242988159155, 0.0074495242988159155, 0.0074495242988159155, 0.0074495242988159155, 0.0074495242988159155, 0.0074495242988159155, 0.0074495242988159155, 0.0074495242988159155, 0.0074495242988159155, 0.0074495242988159155, 0.0074495242988159155, 0.0074495242988159155, 0.0074495242988159155, 0.0074495242988159155, 0.0074495242988159155, 0.0074495242988159155, 0.0074495242988159155, 0.0074495242988159155, 0.0074495242988159155, 0.0074495242988159155, 0.0074495242988159155, 0.0074495242988159155, 0.0074495242988159155, 0.0074495242988159155, 0.0074495242988159155, 0.0074495242988159155, 0.0074495242988159155, 0.0074495242988159155, 0.0074495242988159155, 0.0074495242988159155, 0.0074495242988159155, 0.0074495242988159155, 0.0074495242988159155, 0.0074495242988159155, 0.0074495242988159155, 0.0074495242988159155, 0.0074495242988159155, 0.0074495242988159155, 0.0074495242988159155, 0.0074495242988159155, 0.0074495242988159155, 0.0074495242988159155, 0.0074495242988159155, 0.0074495242988159155, 0.0074495242988159155, 0.0074495242988159155, 0.0074495242988159155, 0.0074495242988159155, 0.0074495242988159155, 0.0074495242988159155, 0.0074495242988159155, 0.0074495242988159155, 0.0074495242988159155, 0.0074495242988159155]\n",
      "New queried dataset size: 56\n",
      "Combined dataset size: 424\n",
      "Saved augmented training data at output_score_regression_n_steps_100/R3_T5_Q56_acq_greedy_noise_0.0/REINVENT_round_1/HITL_iteration_4/iteration_combined_data.csv\n",
      "Epoch 5, Loss: 1.146799460053444\n",
      "Epoch 10, Loss: 1.1397299394011497\n",
      "Epoch 15, Loss: 1.134316861629486\n",
      "Epoch 20, Loss: 1.1261570453643799\n",
      "Epoch 25, Loss: 1.1203425005078316\n",
      "Saved retrained feedback model at output_score_regression_n_steps_100/R3_T5_Q56_acq_greedy_noise_0.0/REINVENT_round_1/HITL_iteration_4/score_regression_model.pth\n",
      "----------------------------------\n",
      "HITL iteration = 5\n",
      "Loading Score Regression model from output_score_regression_n_steps_100/R3_T5_Q56_acq_greedy_noise_0.0/REINVENT_round_1/HITL_iteration_4/score_regression_model.pth\n"
     ]
    },
    {
     "name": "stderr",
     "output_type": "stream",
     "text": [
      "Found local copy...\n"
     ]
    },
    {
     "name": "stdout",
     "output_type": "stream",
     "text": [
      "Batch 1 processed\n",
      "Human score at HITL iteration 5: [0.10310964673846919, 0.10310964673846919, 0.10310964673846919, 0.10310964673846919, 0.10310964673846919, 0.10310964673846919, 0.10310964673846919, 0.10310964673846919, 0.10310964673846919, 0.10310964673846919, 0.10310964673846919, 0.10310964673846919, 0.10310964673846919, 0.10310964673846919, 0.10310964673846919, 0.10310964673846919, 0.10310964673846919, 0.10310964673846919, 0.10310964673846919, 0.10310964673846919, 0.10310964673846919, 0.10310964673846919, 0.10310964673846919, 0.10310964673846919, 0.10310964673846919, 0.10310964673846919, 0.10310964673846919, 0.10310964673846919, 0.10310964673846919, 0.10310964673846919, 0.10310964673846919, 0.10310964673846919, 0.10310964673846919, 0.10310964673846919, 0.10310964673846919, 0.10310964673846919, 0.10310964673846919, 0.10310964673846919, 0.10310964673846919, 0.10310964673846919, 0.10310964673846919, 0.10310964673846919, 0.10310964673846919, 0.10310964673846919, 0.10310964673846919, 0.10310964673846919, 0.10310964673846919, 0.10310964673846919, 0.10310964673846919, 0.10310964673846919, 0.10310964673846919, 0.10310964673846919, 0.10310964673846919, 0.10310964673846919, 0.10310964673846919, 0.10310964673846919]\n",
      "New queried dataset size: 56\n",
      "Combined dataset size: 480\n",
      "Saved augmented training data at output_score_regression_n_steps_100/R3_T5_Q56_acq_greedy_noise_0.0/REINVENT_round_1/HITL_iteration_5/iteration_combined_data.csv\n",
      "Epoch 5, Loss: 0.298022136092186\n",
      "Epoch 10, Loss: 0.29573971033096313\n",
      "Epoch 15, Loss: 0.29322802275419235\n",
      "Epoch 20, Loss: 0.29050789400935173\n",
      "Epoch 25, Loss: 0.287536833435297\n",
      "Saved retrained feedback model at output_score_regression_n_steps_100/R3_T5_Q56_acq_greedy_noise_0.0/REINVENT_round_1/HITL_iteration_5/score_regression_model.pth\n",
      "=====================================\n",
      "REINVENT round = 2\n",
      "Creating config file: output_score_regression_n_steps_100/R3_T5_Q56_acq_greedy_noise_0.0/REINVENT_round_2/config.json.\n",
      "Run REINVENT\n",
      "Exit code: 0\n",
      "Number of SMILES in scaffold_memory.csv:  6298\n",
      "----------------------------------\n",
      "HITL iteration = 1\n",
      "Loading Score Regression model from output_score_regression_n_steps_100/R3_T5_Q56_acq_greedy_noise_0.0/REINVENT_round_1/HITL_iteration_5/score_regression_model.pth\n"
     ]
    },
    {
     "name": "stderr",
     "output_type": "stream",
     "text": [
      "Found local copy...\n"
     ]
    },
    {
     "name": "stdout",
     "output_type": "stream",
     "text": [
      "Batch 1 processed\n",
      "Human score at HITL iteration 1: [0.009797822722831353, 0.009797822722831353, 0.009797822722831353, 0.009797822722831353, 0.009797822722831353, 0.009797822722831353, 0.009797822722831353, 0.009797822722831353, 0.009797822722831353, 0.009797822722831353, 0.009797822722831353, 0.009797822722831353, 0.009797822722831353, 0.009797822722831353, 0.009797822722831353, 0.009797822722831353, 0.009797822722831353, 0.009797822722831353, 0.009797822722831353, 0.009797822722831353, 0.009797822722831353, 0.009797822722831353, 0.009797822722831353, 0.009797822722831353, 0.009797822722831353, 0.009797822722831353, 0.009797822722831353, 0.009797822722831353, 0.009797822722831353, 0.009797822722831353, 0.009797822722831353, 0.009797822722831353, 0.009797822722831353, 0.009797822722831353, 0.009797822722831353, 0.009797822722831353, 0.009797822722831353, 0.009797822722831353, 0.009797822722831353, 0.009797822722831353, 0.009797822722831353, 0.009797822722831353, 0.009797822722831353, 0.009797822722831353, 0.009797822722831353, 0.009797822722831353, 0.009797822722831353, 0.009797822722831353, 0.009797822722831353, 0.009797822722831353, 0.009797822722831353, 0.009797822722831353, 0.009797822722831353, 0.009797822722831353, 0.009797822722831353, 0.009797822722831353]\n",
      "New queried dataset size: 56\n",
      "Combined dataset size: 536\n",
      "Saved augmented training data at output_score_regression_n_steps_100/R3_T5_Q56_acq_greedy_noise_0.0/REINVENT_round_2/HITL_iteration_1/iteration_combined_data.csv\n",
      "Epoch 5, Loss: 0.4324334114789963\n",
      "Epoch 10, Loss: 0.4275953272978465\n",
      "Epoch 15, Loss: 0.42224375655253726\n",
      "Epoch 20, Loss: 0.41699184477329254\n",
      "Epoch 25, Loss: 0.41053030143181485\n",
      "Saved retrained feedback model at output_score_regression_n_steps_100/R3_T5_Q56_acq_greedy_noise_0.0/REINVENT_round_2/HITL_iteration_1/score_regression_model.pth\n",
      "----------------------------------\n",
      "HITL iteration = 2\n",
      "Loading Score Regression model from output_score_regression_n_steps_100/R3_T5_Q56_acq_greedy_noise_0.0/REINVENT_round_2/HITL_iteration_1/score_regression_model.pth\n"
     ]
    },
    {
     "name": "stderr",
     "output_type": "stream",
     "text": [
      "Found local copy...\n"
     ]
    },
    {
     "name": "stdout",
     "output_type": "stream",
     "text": [
      "Batch 1 processed\n",
      "Human score at HITL iteration 2: [0.07814799147691331, 0.07814799147691331, 0.07814799147691331, 0.07814799147691331, 0.07814799147691331, 0.07814799147691331, 0.07814799147691331, 0.07814799147691331, 0.07814799147691331, 0.07814799147691331, 0.07814799147691331, 0.07814799147691331, 0.07814799147691331, 0.07814799147691331, 0.07814799147691331, 0.07814799147691331, 0.07814799147691331, 0.07814799147691331, 0.07814799147691331, 0.07814799147691331, 0.07814799147691331, 0.07814799147691331, 0.07814799147691331, 0.07814799147691331, 0.07814799147691331, 0.07814799147691331, 0.07814799147691331, 0.07814799147691331, 0.07814799147691331, 0.07814799147691331, 0.07814799147691331, 0.07814799147691331, 0.07814799147691331, 0.07814799147691331, 0.07814799147691331, 0.07814799147691331, 0.07814799147691331, 0.07814799147691331, 0.07814799147691331, 0.07814799147691331, 0.07814799147691331, 0.07814799147691331, 0.07814799147691331, 0.07814799147691331, 0.07814799147691331, 0.07814799147691331, 0.07814799147691331, 0.07814799147691331, 0.07814799147691331, 0.07814799147691331, 0.07814799147691331, 0.07814799147691331, 0.07814799147691331, 0.07814799147691331, 0.07814799147691331, 0.07814799147691331]\n",
      "New queried dataset size: 56\n",
      "Combined dataset size: 592\n",
      "Saved augmented training data at output_score_regression_n_steps_100/R3_T5_Q56_acq_greedy_noise_0.0/REINVENT_round_2/HITL_iteration_2/iteration_combined_data.csv\n",
      "Epoch 5, Loss: 0.6836420074105263\n",
      "Epoch 10, Loss: 0.6730441972613335\n",
      "Epoch 15, Loss: 0.6620894782245159\n",
      "Epoch 20, Loss: 0.6508098766207695\n",
      "Epoch 25, Loss: 0.6375013925135136\n",
      "Saved retrained feedback model at output_score_regression_n_steps_100/R3_T5_Q56_acq_greedy_noise_0.0/REINVENT_round_2/HITL_iteration_2/score_regression_model.pth\n",
      "----------------------------------\n",
      "HITL iteration = 3\n",
      "Loading Score Regression model from output_score_regression_n_steps_100/R3_T5_Q56_acq_greedy_noise_0.0/REINVENT_round_2/HITL_iteration_2/score_regression_model.pth\n"
     ]
    },
    {
     "name": "stderr",
     "output_type": "stream",
     "text": [
      "Found local copy...\n"
     ]
    },
    {
     "name": "stdout",
     "output_type": "stream",
     "text": [
      "Batch 1 processed\n",
      "Human score at HITL iteration 3: [0.007931740274967783, 0.007931740274967783, 0.007931740274967783, 0.007931740274967783, 0.007931740274967783, 0.007931740274967783, 0.007931740274967783, 0.007931740274967783, 0.007931740274967783, 0.007931740274967783, 0.007931740274967783, 0.007931740274967783, 0.007931740274967783, 0.007931740274967783, 0.007931740274967783, 0.007931740274967783, 0.007931740274967783, 0.007931740274967783, 0.007931740274967783, 0.007931740274967783, 0.007931740274967783, 0.007931740274967783, 0.007931740274967783, 0.007931740274967783, 0.007931740274967783, 0.007931740274967783, 0.007931740274967783, 0.007931740274967783, 0.007931740274967783, 0.007931740274967783, 0.007931740274967783, 0.007931740274967783, 0.007931740274967783, 0.007931740274967783, 0.007931740274967783, 0.007931740274967783, 0.007931740274967783, 0.007931740274967783, 0.007931740274967783, 0.007931740274967783, 0.007931740274967783, 0.007931740274967783, 0.007931740274967783, 0.007931740274967783, 0.007931740274967783, 0.007931740274967783, 0.007931740274967783, 0.007931740274967783, 0.007931740274967783, 0.007931740274967783, 0.007931740274967783, 0.007931740274967783, 0.007931740274967783, 0.007931740274967783, 0.007931740274967783, 0.007931740274967783]\n",
      "New queried dataset size: 56\n",
      "Combined dataset size: 648\n",
      "Saved augmented training data at output_score_regression_n_steps_100/R3_T5_Q56_acq_greedy_noise_0.0/REINVENT_round_2/HITL_iteration_3/iteration_combined_data.csv\n",
      "Epoch 5, Loss: 1.3939652182161808\n",
      "Epoch 10, Loss: 1.364342212677002\n",
      "Epoch 15, Loss: 1.3394475281238556\n",
      "Epoch 20, Loss: 1.3030362911522388\n",
      "Epoch 25, Loss: 1.2741681225597858\n",
      "Saved retrained feedback model at output_score_regression_n_steps_100/R3_T5_Q56_acq_greedy_noise_0.0/REINVENT_round_2/HITL_iteration_3/score_regression_model.pth\n",
      "----------------------------------\n",
      "HITL iteration = 4\n",
      "Loading Score Regression model from output_score_regression_n_steps_100/R3_T5_Q56_acq_greedy_noise_0.0/REINVENT_round_2/HITL_iteration_3/score_regression_model.pth\n"
     ]
    },
    {
     "name": "stderr",
     "output_type": "stream",
     "text": [
      "Found local copy...\n"
     ]
    },
    {
     "name": "stdout",
     "output_type": "stream",
     "text": [
      "Batch 1 processed\n",
      "Human score at HITL iteration 4: [0.01621098692608317, 0.01621098692608317, 0.01621098692608317, 0.01621098692608317, 0.01621098692608317, 0.01621098692608317, 0.01621098692608317, 0.01621098692608317, 0.01621098692608317, 0.01621098692608317, 0.01621098692608317, 0.01621098692608317, 0.01621098692608317, 0.01621098692608317, 0.01621098692608317, 0.01621098692608317, 0.01621098692608317, 0.01621098692608317, 0.01621098692608317, 0.01621098692608317, 0.01621098692608317, 0.01621098692608317, 0.01621098692608317, 0.01621098692608317, 0.01621098692608317, 0.01621098692608317, 0.01621098692608317, 0.01621098692608317, 0.01621098692608317, 0.01621098692608317, 0.01621098692608317, 0.01621098692608317, 0.01621098692608317, 0.01621098692608317, 0.01621098692608317, 0.01621098692608317, 0.01621098692608317, 0.01621098692608317, 0.01621098692608317, 0.01621098692608317, 0.01621098692608317, 0.01621098692608317, 0.01621098692608317, 0.01621098692608317, 0.01621098692608317, 0.01621098692608317, 0.01621098692608317, 0.01621098692608317, 0.01621098692608317, 0.01621098692608317, 0.01621098692608317, 0.01621098692608317, 0.01621098692608317, 0.01621098692608317, 0.01621098692608317, 0.01621098692608317]\n",
      "New queried dataset size: 56\n",
      "Combined dataset size: 704\n",
      "Saved augmented training data at output_score_regression_n_steps_100/R3_T5_Q56_acq_greedy_noise_0.0/REINVENT_round_2/HITL_iteration_4/iteration_combined_data.csv\n",
      "Epoch 5, Loss: 0.3287850320339203\n",
      "Epoch 10, Loss: 0.32036684080958366\n",
      "Epoch 15, Loss: 0.31205878499895334\n",
      "Epoch 20, Loss: 0.3039090856909752\n",
      "Epoch 25, Loss: 0.2959606358781457\n",
      "Saved retrained feedback model at output_score_regression_n_steps_100/R3_T5_Q56_acq_greedy_noise_0.0/REINVENT_round_2/HITL_iteration_4/score_regression_model.pth\n",
      "----------------------------------\n",
      "HITL iteration = 5\n",
      "Loading Score Regression model from output_score_regression_n_steps_100/R3_T5_Q56_acq_greedy_noise_0.0/REINVENT_round_2/HITL_iteration_4/score_regression_model.pth\n"
     ]
    },
    {
     "name": "stderr",
     "output_type": "stream",
     "text": [
      "Found local copy...\n"
     ]
    },
    {
     "name": "stdout",
     "output_type": "stream",
     "text": [
      "Batch 1 processed\n",
      "Human score at HITL iteration 5: [0.001163874174235615, 0.001163874174235615, 0.001163874174235615, 0.001163874174235615, 0.001163874174235615, 0.001163874174235615, 0.001163874174235615, 0.001163874174235615, 0.001163874174235615, 0.001163874174235615, 0.001163874174235615, 0.001163874174235615, 0.001163874174235615, 0.001163874174235615, 0.001163874174235615, 0.001163874174235615, 0.001163874174235615, 0.001163874174235615, 0.001163874174235615, 0.001163874174235615, 0.001163874174235615, 0.001163874174235615, 0.001163874174235615, 0.001163874174235615, 0.001163874174235615, 0.001163874174235615, 0.001163874174235615, 0.001163874174235615, 0.001163874174235615, 0.001163874174235615, 0.001163874174235615, 0.001163874174235615, 0.001163874174235615, 0.001163874174235615, 0.001163874174235615, 0.001163874174235615, 0.001163874174235615, 0.001163874174235615, 0.001163874174235615, 0.001163874174235615, 0.001163874174235615, 0.001163874174235615, 0.001163874174235615, 0.001163874174235615, 0.001163874174235615, 0.001163874174235615, 0.001163874174235615, 0.001163874174235615, 0.001163874174235615, 0.001163874174235615, 0.001163874174235615, 0.001163874174235615, 0.001163874174235615, 0.001163874174235615, 0.001163874174235615, 0.001163874174235615]\n",
      "New queried dataset size: 56\n",
      "Combined dataset size: 760\n",
      "Saved augmented training data at output_score_regression_n_steps_100/R3_T5_Q56_acq_greedy_noise_0.0/REINVENT_round_2/HITL_iteration_5/iteration_combined_data.csv\n",
      "Epoch 5, Loss: 0.42334966237346333\n",
      "Epoch 10, Loss: 0.4136227567990621\n",
      "Epoch 15, Loss: 0.4011443480849266\n",
      "Epoch 20, Loss: 0.38996829961736995\n",
      "Epoch 25, Loss: 0.3800814251104991\n",
      "Saved retrained feedback model at output_score_regression_n_steps_100/R3_T5_Q56_acq_greedy_noise_0.0/REINVENT_round_2/HITL_iteration_5/score_regression_model.pth\n",
      "=====================================\n",
      "REINVENT round = 3\n",
      "Creating config file: output_score_regression_n_steps_100/R3_T5_Q56_acq_greedy_noise_0.0/REINVENT_round_3/config.json.\n",
      "Run REINVENT\n",
      "Exit code: 0\n",
      "Number of SMILES in scaffold_memory.csv:  4234\n",
      "----------------------------------\n",
      "HITL iteration = 1\n",
      "Loading Score Regression model from output_score_regression_n_steps_100/R3_T5_Q56_acq_greedy_noise_0.0/REINVENT_round_2/HITL_iteration_5/score_regression_model.pth\n"
     ]
    },
    {
     "name": "stderr",
     "output_type": "stream",
     "text": [
      "Found local copy...\n"
     ]
    },
    {
     "name": "stdout",
     "output_type": "stream",
     "text": [
      "Batch 1 processed\n",
      "Human score at HITL iteration 1: [0.02288010726563109, 0.02288010726563109, 0.02288010726563109, 0.02288010726563109, 0.02288010726563109, 0.02288010726563109, 0.02288010726563109, 0.02288010726563109, 0.02288010726563109, 0.02288010726563109, 0.02288010726563109, 0.02288010726563109, 0.02288010726563109, 0.02288010726563109, 0.02288010726563109, 0.02288010726563109, 0.02288010726563109, 0.02288010726563109, 0.02288010726563109, 0.02288010726563109, 0.02288010726563109, 0.02288010726563109, 0.02288010726563109, 0.02288010726563109, 0.02288010726563109, 0.02288010726563109, 0.02288010726563109, 0.02288010726563109, 0.02288010726563109, 0.02288010726563109, 0.02288010726563109, 0.02288010726563109, 0.02288010726563109, 0.02288010726563109, 0.02288010726563109, 0.02288010726563109, 0.02288010726563109, 0.02288010726563109, 0.02288010726563109, 0.02288010726563109, 0.02288010726563109, 0.02288010726563109, 0.02288010726563109, 0.02288010726563109, 0.02288010726563109, 0.02288010726563109, 0.02288010726563109, 0.02288010726563109, 0.02288010726563109, 0.02288010726563109, 0.02288010726563109, 0.02288010726563109, 0.02288010726563109, 0.02288010726563109, 0.02288010726563109, 0.02288010726563109]\n",
      "New queried dataset size: 56\n",
      "Combined dataset size: 816\n",
      "Saved augmented training data at output_score_regression_n_steps_100/R3_T5_Q56_acq_greedy_noise_0.0/REINVENT_round_3/HITL_iteration_1/iteration_combined_data.csv\n",
      "Epoch 5, Loss: 0.6192416083067656\n",
      "Epoch 10, Loss: 0.6000913232564926\n",
      "Epoch 15, Loss: 0.5868060104548931\n",
      "Epoch 20, Loss: 0.5748243443667889\n",
      "Epoch 25, Loss: 0.5541125340387225\n",
      "Saved retrained feedback model at output_score_regression_n_steps_100/R3_T5_Q56_acq_greedy_noise_0.0/REINVENT_round_3/HITL_iteration_1/score_regression_model.pth\n",
      "----------------------------------\n",
      "HITL iteration = 2\n",
      "Loading Score Regression model from output_score_regression_n_steps_100/R3_T5_Q56_acq_greedy_noise_0.0/REINVENT_round_3/HITL_iteration_1/score_regression_model.pth\n"
     ]
    },
    {
     "name": "stderr",
     "output_type": "stream",
     "text": [
      "Found local copy...\n"
     ]
    },
    {
     "name": "stdout",
     "output_type": "stream",
     "text": [
      "Batch 1 processed\n",
      "Human score at HITL iteration 2: [0.06168711829149995, 0.06168711829149995, 0.06168711829149995, 0.06168711829149995, 0.06168711829149995, 0.06168711829149995, 0.06168711829149995, 0.06168711829149995, 0.06168711829149995, 0.06168711829149995, 0.06168711829149995, 0.06168711829149995, 0.06168711829149995, 0.06168711829149995, 0.06168711829149995, 0.06168711829149995, 0.06168711829149995, 0.06168711829149995, 0.06168711829149995, 0.06168711829149995, 0.06168711829149995, 0.06168711829149995, 0.06168711829149995, 0.06168711829149995, 0.06168711829149995, 0.06168711829149995, 0.06168711829149995, 0.06168711829149995, 0.06168711829149995, 0.06168711829149995, 0.06168711829149995, 0.06168711829149995, 0.06168711829149995, 0.06168711829149995, 0.06168711829149995, 0.06168711829149995, 0.06168711829149995, 0.06168711829149995, 0.06168711829149995, 0.06168711829149995, 0.06168711829149995, 0.06168711829149995, 0.06168711829149995, 0.06168711829149995, 0.06168711829149995, 0.06168711829149995, 0.06168711829149995, 0.06168711829149995, 0.06168711829149995, 0.06168711829149995, 0.06168711829149995, 0.06168711829149995, 0.06168711829149995, 0.06168711829149995, 0.06168711829149995, 0.06168711829149995]\n",
      "New queried dataset size: 56\n",
      "Combined dataset size: 872\n",
      "Saved augmented training data at output_score_regression_n_steps_100/R3_T5_Q56_acq_greedy_noise_0.0/REINVENT_round_3/HITL_iteration_2/iteration_combined_data.csv\n",
      "Epoch 5, Loss: 1.202655453234911\n",
      "Epoch 10, Loss: 1.1564824227243662\n",
      "Epoch 15, Loss: 1.141846800222993\n",
      "Epoch 20, Loss: 1.094246480613947\n",
      "Epoch 25, Loss: 1.073781592771411\n",
      "Saved retrained feedback model at output_score_regression_n_steps_100/R3_T5_Q56_acq_greedy_noise_0.0/REINVENT_round_3/HITL_iteration_2/score_regression_model.pth\n",
      "----------------------------------\n",
      "HITL iteration = 3\n",
      "Loading Score Regression model from output_score_regression_n_steps_100/R3_T5_Q56_acq_greedy_noise_0.0/REINVENT_round_3/HITL_iteration_2/score_regression_model.pth\n"
     ]
    },
    {
     "name": "stderr",
     "output_type": "stream",
     "text": [
      "Found local copy...\n"
     ]
    },
    {
     "name": "stdout",
     "output_type": "stream",
     "text": [
      "Batch 1 processed\n",
      "Human score at HITL iteration 3: [0.002494755808786954, 0.002494755808786954, 0.002494755808786954, 0.002494755808786954, 0.002494755808786954, 0.002494755808786954, 0.002494755808786954, 0.002494755808786954, 0.002494755808786954, 0.002494755808786954, 0.002494755808786954, 0.002494755808786954, 0.002494755808786954, 0.002494755808786954, 0.002494755808786954, 0.002494755808786954, 0.002494755808786954, 0.002494755808786954, 0.002494755808786954, 0.002494755808786954, 0.002494755808786954, 0.002494755808786954, 0.002494755808786954, 0.002494755808786954, 0.002494755808786954, 0.002494755808786954, 0.002494755808786954, 0.002494755808786954, 0.002494755808786954, 0.002494755808786954, 0.002494755808786954, 0.002494755808786954, 0.002494755808786954, 0.002494755808786954, 0.002494755808786954, 0.002494755808786954, 0.002494755808786954, 0.002494755808786954, 0.002494755808786954, 0.002494755808786954, 0.002494755808786954, 0.002494755808786954, 0.002494755808786954, 0.002494755808786954, 0.002494755808786954, 0.002494755808786954, 0.002494755808786954, 0.002494755808786954, 0.002494755808786954, 0.002494755808786954, 0.002494755808786954, 0.002494755808786954, 0.002494755808786954, 0.002494755808786954, 0.002494755808786954, 0.002494755808786954]\n",
      "New queried dataset size: 56\n",
      "Combined dataset size: 928\n",
      "Saved augmented training data at output_score_regression_n_steps_100/R3_T5_Q56_acq_greedy_noise_0.0/REINVENT_round_3/HITL_iteration_3/iteration_combined_data.csv\n",
      "Epoch 5, Loss: 0.2731737084686756\n",
      "Epoch 10, Loss: 0.263957972638309\n",
      "Epoch 15, Loss: 0.25493779545649886\n",
      "Epoch 20, Loss: 0.24607337173074484\n",
      "Epoch 25, Loss: 0.23737418232485652\n",
      "Saved retrained feedback model at output_score_regression_n_steps_100/R3_T5_Q56_acq_greedy_noise_0.0/REINVENT_round_3/HITL_iteration_3/score_regression_model.pth\n",
      "----------------------------------\n",
      "HITL iteration = 4\n",
      "Loading Score Regression model from output_score_regression_n_steps_100/R3_T5_Q56_acq_greedy_noise_0.0/REINVENT_round_3/HITL_iteration_3/score_regression_model.pth\n"
     ]
    },
    {
     "name": "stderr",
     "output_type": "stream",
     "text": [
      "Found local copy...\n"
     ]
    },
    {
     "name": "stdout",
     "output_type": "stream",
     "text": [
      "Batch 1 processed\n",
      "Human score at HITL iteration 4: [0.9999972125938937, 0.9999972125938937, 0.9999972125938937, 0.9999972125938937, 0.9999972125938937, 0.9999972125938937, 0.9999972125938937, 0.9999972125938937, 0.9999972125938937, 0.9999972125938937, 0.9999972125938937, 0.9999972125938937, 0.9999972125938937, 0.9999972125938937, 0.9999972125938937, 0.9999972125938937, 0.9999972125938937, 0.9999972125938937, 0.9999972125938937, 0.9999972125938937, 0.9999972125938937, 0.9999972125938937, 0.9999972125938937, 0.9999972125938937, 0.9999972125938937, 0.9999972125938937, 0.9999972125938937, 0.9999972125938937, 0.9999972125938937, 0.9999972125938937, 0.9999972125938937, 0.9999972125938937, 0.9999972125938937, 0.9999972125938937, 0.9999972125938937, 0.9999972125938937, 0.9999972125938937, 0.9999972125938937, 0.9999972125938937, 0.9999972125938937, 0.9999972125938937, 0.9999972125938937, 0.9999972125938937, 0.9999972125938937, 0.9999972125938937, 0.9999972125938937, 0.9999972125938937, 0.9999972125938937, 0.9999972125938937, 0.9999972125938937, 0.9999972125938937, 0.9999972125938937, 0.9999972125938937, 0.9999972125938937, 0.9999972125938937, 0.9999972125938937]\n",
      "New queried dataset size: 56\n",
      "Combined dataset size: 984\n",
      "Saved augmented training data at output_score_regression_n_steps_100/R3_T5_Q56_acq_greedy_noise_0.0/REINVENT_round_3/HITL_iteration_4/iteration_combined_data.csv\n",
      "Epoch 5, Loss: 0.350094398483634\n",
      "Epoch 10, Loss: 0.33665189146995544\n",
      "Epoch 15, Loss: 0.3232050333172083\n",
      "Epoch 20, Loss: 0.3103933862100045\n",
      "Epoch 25, Loss: 0.2992277219891548\n",
      "Saved retrained feedback model at output_score_regression_n_steps_100/R3_T5_Q56_acq_greedy_noise_0.0/REINVENT_round_3/HITL_iteration_4/score_regression_model.pth\n",
      "----------------------------------\n",
      "HITL iteration = 5\n",
      "Loading Score Regression model from output_score_regression_n_steps_100/R3_T5_Q56_acq_greedy_noise_0.0/REINVENT_round_3/HITL_iteration_4/score_regression_model.pth\n"
     ]
    },
    {
     "name": "stderr",
     "output_type": "stream",
     "text": [
      "Found local copy...\n"
     ]
    },
    {
     "name": "stdout",
     "output_type": "stream",
     "text": [
      "Batch 1 processed\n",
      "Human score at HITL iteration 5: [0.024844251922939528, 0.024844251922939528, 0.024844251922939528, 0.024844251922939528, 0.024844251922939528, 0.024844251922939528, 0.024844251922939528, 0.024844251922939528, 0.024844251922939528, 0.024844251922939528, 0.024844251922939528, 0.024844251922939528, 0.024844251922939528, 0.024844251922939528, 0.024844251922939528, 0.024844251922939528, 0.024844251922939528, 0.024844251922939528, 0.024844251922939528, 0.024844251922939528, 0.024844251922939528, 0.024844251922939528, 0.024844251922939528, 0.024844251922939528, 0.024844251922939528, 0.024844251922939528, 0.024844251922939528, 0.024844251922939528, 0.024844251922939528, 0.024844251922939528, 0.024844251922939528, 0.024844251922939528, 0.024844251922939528, 0.024844251922939528, 0.024844251922939528, 0.024844251922939528, 0.024844251922939528, 0.024844251922939528, 0.024844251922939528, 0.024844251922939528, 0.024844251922939528, 0.024844251922939528, 0.024844251922939528, 0.024844251922939528, 0.024844251922939528, 0.024844251922939528, 0.024844251922939528, 0.024844251922939528, 0.024844251922939528, 0.024844251922939528, 0.024844251922939528, 0.024844251922939528, 0.024844251922939528, 0.024844251922939528, 0.024844251922939528, 0.024844251922939528]\n",
      "New queried dataset size: 56\n",
      "Combined dataset size: 1040\n",
      "Saved augmented training data at output_score_regression_n_steps_100/R3_T5_Q56_acq_greedy_noise_0.0/REINVENT_round_3/HITL_iteration_5/iteration_combined_data.csv\n",
      "Epoch 5, Loss: 0.4855861160904169\n",
      "Epoch 10, Loss: 0.4674867121502757\n",
      "Epoch 15, Loss: 0.4502044729888439\n",
      "Epoch 20, Loss: 0.429321700707078\n",
      "Epoch 25, Loss: 0.4118655873462558\n",
      "Saved retrained feedback model at output_score_regression_n_steps_100/R3_T5_Q56_acq_greedy_noise_0.0/REINVENT_round_3/HITL_iteration_5/score_regression_model.pth\n",
      "=====================================\n",
      "REINVENT round = 4\n",
      "Creating config file: output_score_regression_n_steps_100/R3_T5_Q56_acq_greedy_noise_0.0/REINVENT_round_4/config.json.\n",
      "Run REINVENT\n",
      "Exit code: 0\n",
      "\n",
      "*******************************************************************\n",
      "Running HITL with greedy acquisition and noise 0.1\n",
      "\n",
      "Running DRD2 (one objective) with rounds 3, iters 5, queries 56, seed 42\n",
      "Results will be saved at output_score_regression_n_steps_100/R3_T5_Q56_acq_greedy_noise_0.1\n",
      "Loading initial training datasets successfully\n",
      "=====================================\n",
      "REINVENT round = 1\n",
      "Creating config file: output_score_regression_n_steps_100/R3_T5_Q56_acq_greedy_noise_0.1/REINVENT_round_1/config.json.\n",
      "Run REINVENT\n",
      "Exit code: 0\n",
      "Number of SMILES in scaffold_memory.csv:  6301\n",
      "----------------------------------\n",
      "HITL iteration = 1\n",
      "Loading Score Regression model from /home/springnuance/reinvent-hitl/Base-Code-Binh/training_Score_Regression_model/score_regression_model.pth\n"
     ]
    },
    {
     "name": "stderr",
     "output_type": "stream",
     "text": [
      "Found local copy...\n"
     ]
    },
    {
     "name": "stdout",
     "output_type": "stream",
     "text": [
      "Batch 1 processed\n",
      "Human score at HITL iteration 1: [0.10712841205407159, 0.04363056663582986, 0.12222585056301757, 0.20975998239375088, 0.03404165928061473, 0.03404330105803027, 0.21537827830368747, 0.1342004696682392, 0.010509558159453113, 0.1117130011115448, 0.0111152274717021, 0.010884021395922636, 0.08165322390955174, 0.0, 0.0, 0.0012282438288510542, 0.0, 0.08888173001247571, 0.0, 0.0, 0.20402187364510374, 0.034879366704294756, 0.06420981722174071, 0.0, 0.0030187243004300562, 0.06854925572393493, 0.0, 0.09502679858751553, 0.0, 0.028287621773620646, 0.0, 0.2426848152038421, 0.056107274279154934, 0.0, 0.13971148796326724, 0.0, 0.07834335625342387, 0.0, 0.0, 0.07714312033986068, 0.13130365475248937, 0.07459382487194538, 0.04589216851412427, 0.027346627194019445, 0.0, 0.0, 0.01139311965696957, 0.1631692193748399, 0.09181882570979447, 0.0, 0.08986539369242783, 0.01894876871131667, 0.0, 0.11862462563703512, 0.16055694900254341, 0.1505850086645682]\n",
      "New queried dataset size: 56\n",
      "Combined dataset size: 256\n",
      "Saved augmented training data at output_score_regression_n_steps_100/R3_T5_Q56_acq_greedy_noise_0.1/REINVENT_round_1/HITL_iteration_1/iteration_combined_data.csv\n",
      "Epoch 5, Loss: 0.17205896973609924\n",
      "Epoch 10, Loss: 0.17178822681307793\n",
      "Epoch 15, Loss: 0.17150993086397648\n",
      "Epoch 20, Loss: 0.1712327729910612\n",
      "Epoch 25, Loss: 0.1709663737565279\n",
      "Saved retrained feedback model at output_score_regression_n_steps_100/R3_T5_Q56_acq_greedy_noise_0.1/REINVENT_round_1/HITL_iteration_1/score_regression_model.pth\n",
      "----------------------------------\n",
      "HITL iteration = 2\n",
      "Loading Score Regression model from output_score_regression_n_steps_100/R3_T5_Q56_acq_greedy_noise_0.1/REINVENT_round_1/HITL_iteration_1/score_regression_model.pth\n"
     ]
    },
    {
     "name": "stderr",
     "output_type": "stream",
     "text": [
      "Found local copy...\n"
     ]
    },
    {
     "name": "stdout",
     "output_type": "stream",
     "text": [
      "Batch 1 processed\n",
      "Human score at HITL iteration 2: [0.0, 0.0, 0.04975655586224289, 0.11418472543412242, 0.0, 0.0, 0.0, 0.0, 0.09788279496130631, 0.1522542155789688, 0.009429200563853109, 0.11698350251108891, 0.05279381522664991, 0.0, 0.05276977327272789, 0.17043386936848343, 0.013047608810891339, 0.17309457830328714, 0.0, 0.09882046315940887, 0.02533491954570362, 0.0, 0.025806290375436726, 0.0, 0.0, 0.05234146987306114, 0.16441961719603812, 0.0, 0.0, 0.0, 0.10817042449209391, 0.049505323687854944, 0.0, 0.0679569560332221, 0.026337967656690532, 0.11349471177517542, 0.0, 0.0, 0.0, 0.0, 0.0462422404283441, 0.04273573993987543, 0.017141558386132582, 0.0, 0.0, 0.0, 0.0, 0.0, 0.0005016415552855785, 0.05703529840334034, 0.20524880284293953, 0.034087994005070385, 0.04238525179416293, 0.009185621145269772, 0.0, 0.013978825176964806]\n",
      "New queried dataset size: 56\n",
      "Combined dataset size: 312\n",
      "Saved augmented training data at output_score_regression_n_steps_100/R3_T5_Q56_acq_greedy_noise_0.1/REINVENT_round_1/HITL_iteration_2/iteration_combined_data.csv\n",
      "Epoch 5, Loss: 0.28387611111005145\n",
      "Epoch 10, Loss: 0.28329582264026004\n",
      "Epoch 15, Loss: 0.28252240022023517\n",
      "Epoch 20, Loss: 0.28193079431851703\n",
      "Epoch 25, Loss: 0.2811883067091306\n",
      "Saved retrained feedback model at output_score_regression_n_steps_100/R3_T5_Q56_acq_greedy_noise_0.1/REINVENT_round_1/HITL_iteration_2/score_regression_model.pth\n",
      "----------------------------------\n",
      "HITL iteration = 3\n",
      "Loading Score Regression model from output_score_regression_n_steps_100/R3_T5_Q56_acq_greedy_noise_0.1/REINVENT_round_1/HITL_iteration_2/score_regression_model.pth\n"
     ]
    },
    {
     "name": "stderr",
     "output_type": "stream",
     "text": [
      "Found local copy...\n"
     ]
    },
    {
     "name": "stdout",
     "output_type": "stream",
     "text": [
      "Batch 1 processed\n",
      "Human score at HITL iteration 3: [0.009794967235121358, 0.25009615748954733, 0.0, 0.03392668047437996, 0.0003007692704943819, 0.0, 0.11805422769252077, 0.07896524950969613, 0.08287514094532342, 0.0, 0.14405137733462864, 0.0, 0.06245765562104574, 0.22281750882201656, 0.0, 0.0, 0.013737082749782836, 0.0, 0.0, 0.010628243721621446, 0.0, 0.05113118930453687, 0.0, 0.15876538674277266, 0.0, 0.0, 0.08512366797798569, 0.0, 0.026517939701431657, 0.13448622166926152, 0.0, 0.022235332094249136, 0.02976022566586107, 0.08195423341874976, 0.0, 0.0, 0.05596610280270848, 0.03347041356433732, 0.02882123127560637, 0.03841676719071628, 0.0, 0.02699731595711907, 0.03307919357088684, 0.0, 0.19034939735549436, 0.05115523833219746, 0.0, 0.06942730710440169, 0.0, 0.08248040661526393, 0.11963150414175913, 0.0, 0.1001095591654509, 0.045050038934668545, 0.08597796224046772, 0.19345124450641346]\n",
      "New queried dataset size: 56\n",
      "Combined dataset size: 368\n",
      "Saved augmented training data at output_score_regression_n_steps_100/R3_T5_Q56_acq_greedy_noise_0.1/REINVENT_round_1/HITL_iteration_3/iteration_combined_data.csv\n",
      "Epoch 5, Loss: 0.5039150267839432\n",
      "Epoch 10, Loss: 0.5024857632815838\n",
      "Epoch 15, Loss: 0.5006192848086357\n",
      "Epoch 20, Loss: 0.49902721866965294\n",
      "Epoch 25, Loss: 0.49814946949481964\n",
      "Saved retrained feedback model at output_score_regression_n_steps_100/R3_T5_Q56_acq_greedy_noise_0.1/REINVENT_round_1/HITL_iteration_3/score_regression_model.pth\n",
      "----------------------------------\n",
      "HITL iteration = 4\n",
      "Loading Score Regression model from output_score_regression_n_steps_100/R3_T5_Q56_acq_greedy_noise_0.1/REINVENT_round_1/HITL_iteration_3/score_regression_model.pth\n"
     ]
    },
    {
     "name": "stderr",
     "output_type": "stream",
     "text": [
      "Found local copy...\n"
     ]
    },
    {
     "name": "stdout",
     "output_type": "stream",
     "text": [
      "Batch 1 processed\n",
      "Human score at HITL iteration 4: [0.0, 0.0, 0.0, 0.0, 0.0, 0.03650969277238162, 0.030063575223719136, 0.08511282019431961, 0.0036946844785079314, 0.1477479030064489, 0.0, 0.2744114119496791, 0.06496123006721785, 0.0, 0.0, 0.05064173681503576, 0.0, 0.07379454469992643, 0.04971825774807172, 0.0, 0.0, 0.0, 0.0, 0.08803437472306447, 0.023803869703737626, 0.0, 0.01971258787583543, 0.04092623326360091, 0.0, 0.01776700588527002, 0.008215367135317219, 0.0, 0.038173231325545565, 0.058472947927540674, 0.11069961960824493, 0.10777470049420752, 0.0, 0.0, 0.05389802201158321, 0.053773090381938116, 0.05389926392132203, 0.3876676443561894, 0.05948354636003393, 0.11595105930877712, 0.09779467164003747, 0.06753362042129703, 0.0, 0.07829141734004397, 0.0, 0.0, 0.0, 0.010581909229349486, 0.2338603519580681, 0.0, 0.07102051432816857, 0.0]\n",
      "New queried dataset size: 56\n",
      "Combined dataset size: 424\n",
      "Saved augmented training data at output_score_regression_n_steps_100/R3_T5_Q56_acq_greedy_noise_0.1/REINVENT_round_1/HITL_iteration_4/iteration_combined_data.csv\n",
      "Epoch 5, Loss: 1.1527938172221184\n",
      "Epoch 10, Loss: 1.1472860500216484\n",
      "Epoch 15, Loss: 1.1404618993401527\n",
      "Epoch 20, Loss: 1.1326944380998611\n",
      "Epoch 25, Loss: 1.1288344413042068\n",
      "Saved retrained feedback model at output_score_regression_n_steps_100/R3_T5_Q56_acq_greedy_noise_0.1/REINVENT_round_1/HITL_iteration_4/score_regression_model.pth\n",
      "----------------------------------\n",
      "HITL iteration = 5\n",
      "Loading Score Regression model from output_score_regression_n_steps_100/R3_T5_Q56_acq_greedy_noise_0.1/REINVENT_round_1/HITL_iteration_4/score_regression_model.pth\n"
     ]
    },
    {
     "name": "stderr",
     "output_type": "stream",
     "text": [
      "Found local copy...\n"
     ]
    },
    {
     "name": "stdout",
     "output_type": "stream",
     "text": [
      "Batch 1 processed\n",
      "Human score at HITL iteration 5: [0.0, 0.1318204033400858, 0.02935334555289545, 0.0, 0.0, 0.09088511853681677, 0.0, 0.044571202601546664, 0.027482527633730554, 0.0, 0.23731975257588175, 0.0863172458751503, 0.0, 0.04157077512029193, 0.0, 0.10816867712297157, 0.0, 0.011451699496659272, 0.07342407154139488, 0.10950086306036133, 0.0, 0.0, 0.0, 0.0, 0.19947076767145885, 0.06342351473944473, 0.0, 0.11471153834882677, 0.2351409633446125, 0.12617186969846386, 0.0, 0.0, 0.14961645856201145, 0.0, 0.06730728645797202, 0.10038874898628286, 0.0, 0.016972808037169166, 0.0, 0.0, 0.0, 0.0, 0.1861664740365127, 0.0, 0.0, 0.03599940137195831, 0.16705267254996073, 0.0, 0.13924171885884515, 0.023948649745307877, 0.0, 0.06913569106967625, 0.04283131320069618, 0.0, 0.029905552142351063, 0.0]\n",
      "New queried dataset size: 56\n",
      "Combined dataset size: 480\n",
      "Saved augmented training data at output_score_regression_n_steps_100/R3_T5_Q56_acq_greedy_noise_0.1/REINVENT_round_1/HITL_iteration_5/iteration_combined_data.csv\n",
      "Epoch 5, Loss: 0.2993233483284712\n",
      "Epoch 10, Loss: 0.29703264869749546\n",
      "Epoch 15, Loss: 0.29459176026284695\n",
      "Epoch 20, Loss: 0.29194318503141403\n",
      "Epoch 25, Loss: 0.2889506630599499\n",
      "Saved retrained feedback model at output_score_regression_n_steps_100/R3_T5_Q56_acq_greedy_noise_0.1/REINVENT_round_1/HITL_iteration_5/score_regression_model.pth\n",
      "=====================================\n",
      "REINVENT round = 2\n",
      "Creating config file: output_score_regression_n_steps_100/R3_T5_Q56_acq_greedy_noise_0.1/REINVENT_round_2/config.json.\n",
      "Run REINVENT\n",
      "Exit code: 0\n",
      "Number of SMILES in scaffold_memory.csv:  6296\n",
      "----------------------------------\n",
      "HITL iteration = 1\n",
      "Loading Score Regression model from output_score_regression_n_steps_100/R3_T5_Q56_acq_greedy_noise_0.1/REINVENT_round_1/HITL_iteration_5/score_regression_model.pth\n"
     ]
    },
    {
     "name": "stderr",
     "output_type": "stream",
     "text": [
      "Found local copy...\n"
     ]
    },
    {
     "name": "stdout",
     "output_type": "stream",
     "text": [
      "Batch 1 processed\n",
      "Human score at HITL iteration 1: [0.026045777754195077, 0.08090711068117494, 0.1732957248436055, 0.0, 0.22799738069469697, 0.0, 0.0, 0.07352576387752792, 0.04279323000257354, 0.0, 0.0, 0.0, 0.0, 0.09965425293117273, 0.05039559182557501, 0.0, 0.10465403077239534, 0.045423995316731205, 0.09598025511296628, 0.07765692742143149, 0.0, 0.0, 0.08942340374139646, 0.07573106977241675, 0.012603883832655458, 0.026426781559948473, 0.14246053280791277, 0.0, 0.06940378134607407, 0.0, 0.0, 0.12457172842778928, 0.09723567812787326, 0.09604500682913412, 0.1452419239445032, 0.016794427392346177, 0.08288934035856665, 0.0, 0.04711067847791449, 0.0016797377923018133, 0.02439363972834209, 0.07420974577276164, 0.0, 0.2239327707976163, 0.0, 0.0, 0.13050513057907706, 0.09386031262536386, 0.07710602493428578, 0.07752859415549826, 0.01346936594437881, 0.0, 0.022274499048442906, 0.0, 0.11220601657084539, 0.0]\n",
      "New queried dataset size: 56\n",
      "Combined dataset size: 536\n",
      "Saved augmented training data at output_score_regression_n_steps_100/R3_T5_Q56_acq_greedy_noise_0.1/REINVENT_round_2/HITL_iteration_1/iteration_combined_data.csv\n",
      "Epoch 5, Loss: 0.43438802659511566\n",
      "Epoch 10, Loss: 0.42955021808544797\n",
      "Epoch 15, Loss: 0.4240647902091344\n",
      "Epoch 20, Loss: 0.4183570196231206\n",
      "Epoch 25, Loss: 0.4119574502110481\n",
      "Saved retrained feedback model at output_score_regression_n_steps_100/R3_T5_Q56_acq_greedy_noise_0.1/REINVENT_round_2/HITL_iteration_1/score_regression_model.pth\n",
      "----------------------------------\n",
      "HITL iteration = 2\n",
      "Loading Score Regression model from output_score_regression_n_steps_100/R3_T5_Q56_acq_greedy_noise_0.1/REINVENT_round_2/HITL_iteration_1/score_regression_model.pth\n"
     ]
    },
    {
     "name": "stderr",
     "output_type": "stream",
     "text": [
      "Found local copy...\n"
     ]
    },
    {
     "name": "stdout",
     "output_type": "stream",
     "text": [
      "Batch 1 processed\n",
      "Human score at HITL iteration 2: [0.0, 0.0, 0.04364274850141152, 0.0, 0.0, 0.026718324223040314, 0.02684626018472136, 0.0, 0.0, 0.025554596809612713, 0.0, 0.0, 0.0, 0.0, 0.03344035963364954, 0.14988522476880428, 0.08811556539405103, 0.0, 0.0004479822835801988, 0.0, 0.0004982894746100887, 0.0, 0.03462145910765803, 0.0, 0.05428425449796631, 0.15562349437410686, 0.0, 0.042520775283743234, 0.07136400224496034, 0.0, 0.02475885125489076, 0.003608843152028568, 0.012117212928732255, 0.0, 0.004800620499743353, 0.05214943219839406, 0.14746396385335325, 0.09827668568236977, 0.21766784882500473, 0.0, 0.0895816667459169, 0.020683803647684258, 0.22132989639561632, 0.0, 0.0, 0.0, 0.0, 0.0, 0.0, 0.017388981721469847, 0.03652520065156503, 0.1899666869954377, 0.09739198689245411, 0.0, 0.0, 0.05154152022449966]\n",
      "New queried dataset size: 56\n",
      "Combined dataset size: 592\n",
      "Saved augmented training data at output_score_regression_n_steps_100/R3_T5_Q56_acq_greedy_noise_0.1/REINVENT_round_2/HITL_iteration_2/iteration_combined_data.csv\n",
      "Epoch 5, Loss: 0.6850942559540272\n",
      "Epoch 10, Loss: 0.6741879433393478\n",
      "Epoch 15, Loss: 0.6626142263412476\n",
      "Epoch 20, Loss: 0.6516570076346397\n",
      "Epoch 25, Loss: 0.6349333710968494\n",
      "Saved retrained feedback model at output_score_regression_n_steps_100/R3_T5_Q56_acq_greedy_noise_0.1/REINVENT_round_2/HITL_iteration_2/score_regression_model.pth\n",
      "----------------------------------\n",
      "HITL iteration = 3\n",
      "Loading Score Regression model from output_score_regression_n_steps_100/R3_T5_Q56_acq_greedy_noise_0.1/REINVENT_round_2/HITL_iteration_2/score_regression_model.pth\n"
     ]
    },
    {
     "name": "stderr",
     "output_type": "stream",
     "text": [
      "Found local copy...\n"
     ]
    },
    {
     "name": "stdout",
     "output_type": "stream",
     "text": [
      "Batch 1 processed\n",
      "Human score at HITL iteration 3: [0.0, 0.1951476262075086, 0.12994576169420194, 0.0, 0.0, 0.14738898703861453, 0.0005477650968114377, 0.1357833808194194, 0.0, 0.0, 0.012526119593891544, 0.016699808998547432, 0.0, 0.0742867428568231, 0.0, 0.0, 0.024031312793263114, 0.06344563302794813, 0.08316323743096221, 0.0, 0.0, 0.13976943181192414, 0.04523315082003239, 0.0, 0.16711694717432554, 0.023569213051359096, 0.12993146802845587, 0.01875359776308412, 0.21807654211027194, 0.1875358338663937, 0.0, 0.10915884471750878, 0.07653934458058799, 0.1488649053753081, 0.0, 0.08060689562191717, 0.11784419830703202, 0.0, 0.0, 0.0, 0.0, 0.08375597520166947, 0.16223745483167606, 0.019411227664050748, 0.17486330417920243, 0.0, 0.0, 0.006446979732411349, 0.050408294516003954, 0.008732274812663915, 0.0, 0.0030897456707943867, 0.0, 0.07896900450507709, 0.048661574231758056, 0.0]\n",
      "New queried dataset size: 56\n",
      "Combined dataset size: 648\n",
      "Saved augmented training data at output_score_regression_n_steps_100/R3_T5_Q56_acq_greedy_noise_0.1/REINVENT_round_2/HITL_iteration_3/iteration_combined_data.csv\n",
      "Epoch 5, Loss: 1.3957821652293205\n",
      "Epoch 10, Loss: 1.3594251833856106\n",
      "Epoch 15, Loss: 1.3204160779714584\n",
      "Epoch 20, Loss: 1.3121230825781822\n",
      "Epoch 25, Loss: 1.2716229259967804\n",
      "Saved retrained feedback model at output_score_regression_n_steps_100/R3_T5_Q56_acq_greedy_noise_0.1/REINVENT_round_2/HITL_iteration_3/score_regression_model.pth\n",
      "----------------------------------\n",
      "HITL iteration = 4\n",
      "Loading Score Regression model from output_score_regression_n_steps_100/R3_T5_Q56_acq_greedy_noise_0.1/REINVENT_round_2/HITL_iteration_3/score_regression_model.pth\n"
     ]
    },
    {
     "name": "stderr",
     "output_type": "stream",
     "text": [
      "Found local copy...\n"
     ]
    },
    {
     "name": "stdout",
     "output_type": "stream",
     "text": [
      "Batch 1 processed\n",
      "Human score at HITL iteration 4: [0.0, 0.0, 0.01289998460653444, 0.11468212638397546, 0.0, 0.06957254588563608, 0.0, 0.0, 0.008464858338395845, 0.0, 0.0, 0.0, 0.21564040762549058, 0.022694249531024488, 0.0, 0.040565885407273836, 0.007935089364768645, 0.0, 0.08058456433819415, 0.09491866533858215, 0.0, 0.0, 0.0, 0.0, 0.0, 0.1558553210783041, 0.18366466568398002, 0.0, 0.07682359063942827, 0.05029290978820524, 0.3270559751793754, 0.13112538547730931, 0.006376135185774973, 0.0, 0.0, 0.03951425792057394, 0.0, 0.0, 0.0, 0.0, 0.18788205784110812, 0.10733187002879668, 0.018370630202189892, 0.16716230822285422, 0.02690472509861346, 0.0, 0.17148030206081738, 0.07305889870231749, 0.0, 0.00013402652549080948, 0.0, 0.0, 0.11178564908701577, 0.2101095583808647, 0.0, 0.07546481800290872]\n",
      "New queried dataset size: 56\n",
      "Combined dataset size: 704\n",
      "Saved augmented training data at output_score_regression_n_steps_100/R3_T5_Q56_acq_greedy_noise_0.1/REINVENT_round_2/HITL_iteration_4/iteration_combined_data.csv\n",
      "Epoch 5, Loss: 0.32903280295431614\n",
      "Epoch 10, Loss: 0.32098287530243397\n",
      "Epoch 15, Loss: 0.31319197826087475\n",
      "Epoch 20, Loss: 0.3056886848062277\n",
      "Epoch 25, Loss: 0.29850344080477953\n",
      "Saved retrained feedback model at output_score_regression_n_steps_100/R3_T5_Q56_acq_greedy_noise_0.1/REINVENT_round_2/HITL_iteration_4/score_regression_model.pth\n",
      "----------------------------------\n",
      "HITL iteration = 5\n",
      "Loading Score Regression model from output_score_regression_n_steps_100/R3_T5_Q56_acq_greedy_noise_0.1/REINVENT_round_2/HITL_iteration_4/score_regression_model.pth\n"
     ]
    },
    {
     "name": "stderr",
     "output_type": "stream",
     "text": [
      "Found local copy...\n"
     ]
    },
    {
     "name": "stdout",
     "output_type": "stream",
     "text": [
      "Batch 1 processed\n",
      "Human score at HITL iteration 5: [0.0, 0.0, 0.0, 0.0, 0.030751881357587635, 0.0, 0.052945401141088824, 0.02087590761819124, 0.002004913876463961, 0.0, 0.0, 0.10143884114568055, 0.07599143732554302, 0.0, 0.03583294910602752, 0.10103843090028385, 0.0, 0.08023573780109844, 0.0, 0.08295958542242088, 0.0, 0.0, 0.0, 0.030708213229243136, 0.05187196873525313, 0.0, 0.08975896444084233, 0.0, 0.01929173869837328, 0.0, 0.0, 0.030639585694746337, 0.0, 0.0, 0.126528999484549, 0.0, 0.10946892976961912, 0.0, 0.07888013635463322, 0.17005658062889498, 0.0, 0.0, 0.08360693128115894, 0.0055951799588056655, 0.06301430590023582, 0.0, 0.03455869731039493, 0.010331995023896989, 0.14267792472908566, 0.05134180289322625, 0.05965998477062516, 0.0, 0.0, 0.0, 0.06534493280093462, 0.0]\n",
      "New queried dataset size: 56\n",
      "Combined dataset size: 760\n",
      "Saved augmented training data at output_score_regression_n_steps_100/R3_T5_Q56_acq_greedy_noise_0.1/REINVENT_round_2/HITL_iteration_5/iteration_combined_data.csv\n",
      "Epoch 5, Loss: 0.43101408208409947\n",
      "Epoch 10, Loss: 0.4202191469570001\n",
      "Epoch 15, Loss: 0.4109289546807607\n",
      "Epoch 20, Loss: 0.4006064534187317\n",
      "Epoch 25, Loss: 0.39279796307285625\n",
      "Saved retrained feedback model at output_score_regression_n_steps_100/R3_T5_Q56_acq_greedy_noise_0.1/REINVENT_round_2/HITL_iteration_5/score_regression_model.pth\n",
      "=====================================\n",
      "REINVENT round = 3\n",
      "Creating config file: output_score_regression_n_steps_100/R3_T5_Q56_acq_greedy_noise_0.1/REINVENT_round_3/config.json.\n",
      "Run REINVENT\n",
      "Exit code: 0\n",
      "Number of SMILES in scaffold_memory.csv:  4558\n",
      "----------------------------------\n",
      "HITL iteration = 1\n",
      "Loading Score Regression model from output_score_regression_n_steps_100/R3_T5_Q56_acq_greedy_noise_0.1/REINVENT_round_2/HITL_iteration_5/score_regression_model.pth\n"
     ]
    },
    {
     "name": "stderr",
     "output_type": "stream",
     "text": [
      "Found local copy...\n"
     ]
    },
    {
     "name": "stdout",
     "output_type": "stream",
     "text": [
      "Batch 1 processed\n",
      "Human score at HITL iteration 1: [0.04743371006620925, 0.22599630424111186, 0.10556869471973719, 0.0, 0.13857761659296244, 0.0, 0.0, 0.0, 0.0, 0.0, 0.020298062295523125, 0.18609995560409626, 0.05114896175298422, 0.0, 0.10139678249491688, 0.0, 0.04201768018742455, 0.09554274376526464, 0.0, 0.13283162869726087, 0.05230586512600936, 0.0, 0.08173441098719644, 0.24552551015700758, 0.03664284988241747, 0.04327828300660157, 0.0, 0.0, 0.10148980603099252, 0.0, 0.025612848098507203, 0.0, 0.06635420695120714, 0.05182243490526278, 0.12221021880235787, 0.0, 0.0, 0.0, 0.0, 0.05618627368105318, 0.09415508604110315, 0.0, 0.10541681638713397, 0.15402001025706305, 0.059799714698938036, 0.20613580563237457, 0.0, 0.0, 0.0, 0.16806065552548627, 0.08389279001197372, 0.012897757285522447, 0.046453087008549984, 0.0, 0.2630314223382506, 0.03137834257409071]\n",
      "New queried dataset size: 56\n",
      "Combined dataset size: 816\n",
      "Saved augmented training data at output_score_regression_n_steps_100/R3_T5_Q56_acq_greedy_noise_0.1/REINVENT_round_3/HITL_iteration_1/iteration_combined_data.csv\n",
      "Epoch 5, Loss: 0.6418374888598919\n",
      "Epoch 10, Loss: 0.6293606013059616\n",
      "Epoch 15, Loss: 0.6152123734354973\n",
      "Epoch 20, Loss: 0.6036964617669582\n",
      "Epoch 25, Loss: 0.5894873235374689\n",
      "Saved retrained feedback model at output_score_regression_n_steps_100/R3_T5_Q56_acq_greedy_noise_0.1/REINVENT_round_3/HITL_iteration_1/score_regression_model.pth\n",
      "----------------------------------\n",
      "HITL iteration = 2\n",
      "Loading Score Regression model from output_score_regression_n_steps_100/R3_T5_Q56_acq_greedy_noise_0.1/REINVENT_round_3/HITL_iteration_1/score_regression_model.pth\n"
     ]
    },
    {
     "name": "stderr",
     "output_type": "stream",
     "text": [
      "Found local copy...\n"
     ]
    },
    {
     "name": "stdout",
     "output_type": "stream",
     "text": [
      "Batch 1 processed\n",
      "Human score at HITL iteration 2: [0.04033888449716773, 0.10197606742654763, 0.07750032821034977, 0.05178780746459158, 0.0, 0.07654624075027802, 0.2176018546841818, 0.16394140965217624, 0.18871806770061816, 0.0, 0.0, 0.016820713026713625, 0.034971896265547905, 0.13881855688377331, 0.0, 0.18235443698273984, 0.0135986151787795, 0.0, 0.0, 0.0, 0.11171646343286991, 0.03673120175551883, 0.0, 0.0, 0.0, 0.19630155756561773, 0.003440269900317962, 0.0, 0.004825098628084008, 0.002127048061911392, 0.0, 0.02396991838489722, 0.0063059520158106445, 0.09902004151802028, 0.21429501453121297, 0.14205590799145418, 0.002510535981195383, 0.0, 0.2867353853616645, 0.03532124843812727, 0.03079233422797306, 0.026986896325678113, 0.04920788111346394, 0.014963363844284193, 0.0, 0.0, 0.026124078015078604, 0.0, 0.0, 0.04004242780586813, 0.003901683294592912, 0.1797987038949473, 0.0, 0.13855009022892462, 0.15400792428644133, 0.0]\n",
      "New queried dataset size: 56\n",
      "Combined dataset size: 872\n",
      "Saved augmented training data at output_score_regression_n_steps_100/R3_T5_Q56_acq_greedy_noise_0.1/REINVENT_round_3/HITL_iteration_2/iteration_combined_data.csv\n",
      "Epoch 5, Loss: 1.2677749916911125\n",
      "Epoch 10, Loss: 1.2659301087260246\n",
      "Epoch 15, Loss: 1.2191941067576408\n",
      "Epoch 20, Loss: 1.2096759863197803\n",
      "Epoch 25, Loss: 1.1548984199762344\n",
      "Saved retrained feedback model at output_score_regression_n_steps_100/R3_T5_Q56_acq_greedy_noise_0.1/REINVENT_round_3/HITL_iteration_2/score_regression_model.pth\n",
      "----------------------------------\n",
      "HITL iteration = 3\n",
      "Loading Score Regression model from output_score_regression_n_steps_100/R3_T5_Q56_acq_greedy_noise_0.1/REINVENT_round_3/HITL_iteration_2/score_regression_model.pth\n"
     ]
    },
    {
     "name": "stderr",
     "output_type": "stream",
     "text": [
      "Found local copy...\n"
     ]
    },
    {
     "name": "stdout",
     "output_type": "stream",
     "text": [
      "Batch 1 processed\n",
      "Human score at HITL iteration 3: [0.01876659909484886, 0.01589127190330459, 0.0, 0.0, 0.0, 0.22826240284524602, 0.14660319781762987, 0.1801908680022996, 0.12520256490720727, 0.0, 0.000583331874906369, 0.10197281462567555, 0.0, 0.12433520152012255, 0.029002818687070234, 0.015553277747923984, 0.1241313553232329, 0.09746168965148772, 0.016938741920975747, 0.16896833883930856, 0.0, 0.11462891919731011, 0.11234548429972212, 0.022080714571484708, 0.08564866072709554, 0.0, 0.14543806042357385, 0.034545144858584835, 0.0007630564509797863, 0.15793628108657268, 0.0, 0.0, 0.0, 0.1136363536374477, 0.0, 0.22851477670132023, 0.0, 0.22268099533188757, 0.07413710522314558, 0.0433640473158445, 0.0, 0.09294896993809082, 0.049271888260398904, 0.1633655467045359, 0.06445812336908771, 0.0680655346490715, 0.01667413728149815, 0.04734079613077699, 0.08381553539208966, 0.0, 0.0, 0.12736176790515524, 0.07012190231567793, 0.03463702486761583, 0.05487875180942305, 0.08779352903905085]\n",
      "New queried dataset size: 56\n",
      "Combined dataset size: 928\n",
      "Saved augmented training data at output_score_regression_n_steps_100/R3_T5_Q56_acq_greedy_noise_0.1/REINVENT_round_3/HITL_iteration_3/iteration_combined_data.csv\n",
      "Epoch 5, Loss: 0.30555252730846405\n",
      "Epoch 10, Loss: 0.298311164136976\n",
      "Epoch 15, Loss: 0.29118849197402596\n",
      "Epoch 20, Loss: 0.28421700140461326\n",
      "Epoch 25, Loss: 0.27739955158904195\n",
      "Saved retrained feedback model at output_score_regression_n_steps_100/R3_T5_Q56_acq_greedy_noise_0.1/REINVENT_round_3/HITL_iteration_3/score_regression_model.pth\n",
      "----------------------------------\n",
      "HITL iteration = 4\n",
      "Loading Score Regression model from output_score_regression_n_steps_100/R3_T5_Q56_acq_greedy_noise_0.1/REINVENT_round_3/HITL_iteration_3/score_regression_model.pth\n"
     ]
    },
    {
     "name": "stderr",
     "output_type": "stream",
     "text": [
      "Found local copy...\n"
     ]
    },
    {
     "name": "stdout",
     "output_type": "stream",
     "text": [
      "Batch 1 processed\n",
      "Human score at HITL iteration 4: [0.009666839346565856, 0.0, 0.08322733288727016, 0.0, 0.1044680829489492, 0.0, 0.16655837111006638, 0.11090255561880631, 0.08924578080888958, 0.1619119057720534, 0.23019025182375968, 0.16507981387931506, 0.0, 0.0, 0.001160949607934128, 0.06625191239858538, 0.11540870942441432, 0.0, 0.08231948382520984, 0.0, 0.002491027078307187, 0.0, 0.0, 0.0, 0.0, 0.16900698703828598, 0.0, 0.3268810138612411, 0.11297459746559094, 0.08212641974698941, 0.0, 0.13367379531840115, 0.006079024753724613, 0.07584378884203816, 0.3196512612043815, 0.054036817405037026, 0.17857014000606958, 0.0, 0.06014395832780584, 0.240722870941053, 0.0009461015987252686, 0.2448876631771949, 0.13441800092304956, 0.007396129788075245, 0.1268835812830541, 0.16089825234017502, 0.12582380359922166, 0.0, 0.0, 0.03889094382235153, 0.05619946446749738, 0.1257100171325698, 0.0814129074708274, 0.0, 0.10166259247809833, 0.12470138190588433]\n",
      "New queried dataset size: 56\n",
      "Combined dataset size: 984\n",
      "Saved augmented training data at output_score_regression_n_steps_100/R3_T5_Q56_acq_greedy_noise_0.1/REINVENT_round_3/HITL_iteration_4/iteration_combined_data.csv\n",
      "Epoch 5, Loss: 0.396939975519975\n",
      "Epoch 10, Loss: 0.38714608053366345\n",
      "Epoch 15, Loss: 0.3769116457551718\n",
      "Epoch 20, Loss: 0.3673087439189355\n",
      "Epoch 25, Loss: 0.35927463695406914\n",
      "Saved retrained feedback model at output_score_regression_n_steps_100/R3_T5_Q56_acq_greedy_noise_0.1/REINVENT_round_3/HITL_iteration_4/score_regression_model.pth\n",
      "----------------------------------\n",
      "HITL iteration = 5\n",
      "Loading Score Regression model from output_score_regression_n_steps_100/R3_T5_Q56_acq_greedy_noise_0.1/REINVENT_round_3/HITL_iteration_4/score_regression_model.pth\n"
     ]
    },
    {
     "name": "stderr",
     "output_type": "stream",
     "text": [
      "Found local copy...\n"
     ]
    },
    {
     "name": "stdout",
     "output_type": "stream",
     "text": [
      "Batch 1 processed\n",
      "Human score at HITL iteration 5: [0.11216175280471258, 0.16426078056707077, 0.13957492346649902, 0.10210071593445227, 0.0491661368657439, 0.0, 0.09914452992486719, 0.07695147672791972, 0.08334059173114594, 0.0, 0.0, 0.16149799334489895, 0.052227192625943095, 0.12433277774887104, 0.05901454562465472, 0.05915832196118312, 0.15001108860920837, 0.004578235189871209, 0.06579478570570693, 0.009955179141104352, 0.012733085268377041, 0.02526549566474466, 0.07839608517497988, 0.00830784584526087, 0.18175832056896069, 0.0, 0.03749554359547269, 0.012209602184191107, 0.2008804964469819, 0.07583818566276607, 0.1593671619584721, 0.0, 0.08288773459853449, 0.1451457875739523, 0.06441110693915102, 0.16273074551814373, 0.004453863001571384, 0.1971174520301666, 0.28607252037353365, 0.01989885196764269, 0.011632455871531416, 0.2015211557233787, 0.21413992258467984, 0.0038967052962817703, 0.014164026302022875, 0.02800424712555788, 0.0, 0.0, 0.0, 0.0, 0.05271421927293048, 0.07960418126526067, 0.2112327572930163, 0.0, 0.154614947859267, 0.034783823589057704]\n",
      "New queried dataset size: 56\n",
      "Combined dataset size: 1040\n",
      "Saved augmented training data at output_score_regression_n_steps_100/R3_T5_Q56_acq_greedy_noise_0.1/REINVENT_round_3/HITL_iteration_5/iteration_combined_data.csv\n",
      "Epoch 5, Loss: 0.5633534416556358\n",
      "Epoch 10, Loss: 0.5542131280526519\n",
      "Epoch 15, Loss: 0.5392460115253925\n",
      "Epoch 20, Loss: 0.5269913710653782\n",
      "Epoch 25, Loss: 0.5173604059964418\n",
      "Saved retrained feedback model at output_score_regression_n_steps_100/R3_T5_Q56_acq_greedy_noise_0.1/REINVENT_round_3/HITL_iteration_5/score_regression_model.pth\n",
      "=====================================\n",
      "REINVENT round = 4\n",
      "Creating config file: output_score_regression_n_steps_100/R3_T5_Q56_acq_greedy_noise_0.1/REINVENT_round_4/config.json.\n",
      "Run REINVENT\n",
      "Exit code: 0\n"
     ]
    }
   ],
   "source": [
    "! pip install -e \"/home/springnuance/reinvent-hitl/reinvent-scoring\"\n",
    "\n",
    "from training_Bradley_Terry_model.bradley_terry import BradleyTerryModel\n",
    "from training_Rank_ListNet_model.rank_listnet import RankListNetModel\n",
    "from training_Score_Regression_model.score_regression import ScoreRegressionModel\n",
    "from scripts.helper import load_drd2_dataset, write_REINVENT_config, change_config_json, \\\n",
    "                    read_scaffold_result, load_feedback_model, smiles_human_score, \\\n",
    "                    compute_fingerprints, retrain_feedback_model,\\\n",
    "                    create_drd2_dataset, combine_drd2_dataset, save_drd2_dataset\n",
    "                        \n",
    "from scripts.acquisition import select_query_feedback\n",
    "from scripts.predict import predict_proba_from_model\n",
    "\n",
    "seed = 42\n",
    "\n",
    "# change these path variables as required\n",
    "reinvent_dir = \"/home/springnuance/reinvent-hitl/Reinvent\" # We must use absolute path\n",
    "reinvent_env = \"/home/springnuance/miniconda3/envs/ReinventCommunity\" # We must use absolute path\n",
    "\n",
    "# the performance of the initial model should not be good. Specifically, it should work at 0.5 accuracy \n",
    "# If the model is too good, retrain the model to become weaker, we are trying to make the model to learn via HITL\n",
    "\n",
    "feedback_type = \"scoring\" # scoring, comparing, ranking\n",
    "\n",
    "# feedback type as scoring:\n",
    "# Given a molecule, what is the probability that the molecule is active regarding DRD2?  \n",
    "\n",
    "base_training_dataset_path = \"/home/springnuance/reinvent-hitl/Base-Code-Binh/training_Score_Regression_model/small_drd2_training_data.csv\"\n",
    "\n",
    "model_pretrained_path = \"/home/springnuance/reinvent-hitl/Base-Code-Binh/training_Score_Regression_model/score_regression_model.pth\"\n",
    "model_pretrained_name = \"score_regression_model.pth\"\n",
    "\n",
    "num_rounds = 3 # number of rounds, corresponding to R in the paper\n",
    "num_iters = 5 # number of iterations of showing molecules to the human for feedback at each round\n",
    "REINVENT_n_steps = 100 # number of REINVENT optimization steps\n",
    "batch_size = 64 # batch size of the reinforcement learning model, or size of scaffold_memory.csv\n",
    "\n",
    "num_queries = 56 # number of molecules, pairs or a set of molecules, depending on the task, \n",
    "                 # shown to the simulated chemist at each HITL_iteration\n",
    "\n",
    "choose_top_smiles = 56 * num_iters * 2 # number of top molecules to choose from scaffold. \n",
    "\n",
    "training_epochs = 25 # number of epochs for training the model in each HITL iteration\n",
    "learning_rate = 0.000001 # learning rate for training the model in each HITL iteration\n",
    "\n",
    "\n",
    "for acquisition in [\"random\", \"uncertainty\", \"greedy\"]:\n",
    "    for sigma_noise in [0.0, 0.1]:\n",
    "        print(\"\\n*******************************************************************\")\n",
    "        print(f\"Running HITL with {acquisition} acquisition and noise {sigma_noise}\")\n",
    "        output_dir = f\"output_score_regression_n_steps_100/R{num_rounds}_T{num_iters}_Q{num_queries}_acq_{acquisition}_noise_{sigma_noise}\"\n",
    "\n",
    "        if os.path.exists(output_dir):\n",
    "            pass\n",
    "        else:\n",
    "            run_HITL_classify(\n",
    "                    seed, reinvent_dir, reinvent_env, output_dir,\n",
    "                    feedback_type, # scoring, comparing, ranking\n",
    "                    base_training_dataset_path, # Path to the pretrained model before REINVENT_round_1/HITL_iteration_1\n",
    "                    model_pretrained_path, # Path to the pretrained model before REINVENT_round_1\n",
    "                    model_pretrained_name, # Name of the pretrained model before REINVENT_round_1\n",
    "                    num_rounds, # number of rounds, corresponding to R in the paper\n",
    "                    num_iters, # number of iterations of showing molecules to the human for feedback at each round, corresponding to T in the paper\n",
    "                    num_queries, # number of molecules shown to the simulated chemist at each HITL_iteration\n",
    "                    REINVENT_n_steps, # number of REINVENT optimization steps\n",
    "                    batch_size, # batch size of the reinforcement learning model, or size of scaffold_memory.csv\n",
    "                    acquisition, # acquisition: 'uncertainty', 'random', 'thompson', 'greedy' (if None run with no human interaction)\n",
    "                    sigma_noise, # noise level for simulated chemist's responses\n",
    "                    choose_top_smiles, # number of top scoring molecules to choose for feedback\n",
    "                    training_epochs, # number of epochs for training the model in each HITL iteration\n",
    "                    learning_rate, # learning rate for training the model in each HITL iteration\n",
    "            )\n",
    "            \n",
    "        if not os.path.exists(f\"{output_dir}/REINVENT_round_{num_rounds+1}\"):\n",
    "            REINVENT_n_steps_last = 200\n",
    "            batch_size_last = 64\n",
    "            # Run the last REINVENT round using the last feedback model\n",
    "            current_model_path = f\"{output_dir}/REINVENT_round_{num_rounds}/HITL_iteration_{num_iters}/{model_pretrained_name}\"\n",
    "            run_REINVENT_round(num_rounds+1,\n",
    "                reinvent_dir, reinvent_env, output_dir, \n",
    "                feedback_type, # scoring, comparing, ranking\n",
    "                current_model_path, # Path to the pretrained model \n",
    "                REINVENT_n_steps_last, # number of REINVENT optimization steps. This is not related to the HITL but on the REINVENT side\n",
    "                batch_size_last, # batch size of the reinforcement learning model, or size of scaffold_memory.csv\n",
    "            )\n",
    "        else:\n",
    "            print(f\"Already ran the last REINVENT round for {output_dir}\")\n"
   ]
  },
  {
   "cell_type": "markdown",
   "metadata": {},
   "source": [
    "### Running Bradley Terry model"
   ]
  },
  {
   "cell_type": "code",
   "execution_count": 18,
   "metadata": {},
   "outputs": [
    {
     "name": "stdout",
     "output_type": "stream",
     "text": [
      "Obtaining file:///home/springnuance/reinvent-hitl/reinvent-scoring\n",
      "  Preparing metadata (setup.py) ... \u001b[?25ldone\n",
      "\u001b[?25hInstalling collected packages: reinvent-scoring\n",
      "  Attempting uninstall: reinvent-scoring\n",
      "    Found existing installation: reinvent-scoring 0.0.73\n",
      "    Uninstalling reinvent-scoring-0.0.73:\n",
      "      Successfully uninstalled reinvent-scoring-0.0.73\n",
      "  Running setup.py develop for reinvent-scoring\n",
      "Successfully installed reinvent-scoring-0.0.73\n",
      "\n",
      "*******************************************************************\n",
      "Running HITL with random acquisition and noise 0.0\n",
      "\n",
      "Running DRD2 (one objective) with rounds 3, iters 5, queries 8, seed 42\n",
      "Results will be saved at output_bradley_terry_n_steps_100/R3_T5_Q8_acq_random_noise_0.0\n",
      "Loading initial training datasets successfully\n",
      "=====================================\n",
      "REINVENT round = 1\n",
      "Creating config file: output_bradley_terry_n_steps_100/R3_T5_Q8_acq_random_noise_0.0/REINVENT_round_1/config.json.\n",
      "Run REINVENT\n",
      "Exit code: 0\n",
      "Number of SMILES in scaffold_memory.csv:  5006\n",
      "----------------------------------\n",
      "HITL iteration = 1\n"
     ]
    },
    {
     "name": "stderr",
     "output_type": "stream",
     "text": [
      "Found local copy...\n"
     ]
    },
    {
     "name": "stdout",
     "output_type": "stream",
     "text": [
      "Loading Bradley Terry model successfully from /home/springnuance/reinvent-hitl/Base-Code-Binh/training_Bradley_Terry_model/bradley_terry_model.pth\n",
      "Human score at HITL iteration 1: [0.012794059438848513, 0.009591567810738909, 0.00352978573110307, 0.0037539388397401425, 0.002660693177363879, 0.0005912491070823625, 0.006534587595714743, 0.009123164249650971]\n",
      "New queried dataset size: 56\n",
      "Combined dataset size: 256\n",
      "Saved augmented training data at output_bradley_terry_n_steps_100/R3_T5_Q8_acq_random_noise_0.0/REINVENT_round_1/HITL_iteration_1/iteration_combined_data.csv\n",
      "Epoch 5, Loss: 0.1732650939375162\n",
      "Epoch 10, Loss: 0.17325223796069622\n",
      "Epoch 15, Loss: 0.1732391994446516\n",
      "Epoch 20, Loss: 0.17322596907615662\n"
     ]
    },
    {
     "name": "stderr",
     "output_type": "stream",
     "text": [
      "Found local copy...\n"
     ]
    },
    {
     "name": "stdout",
     "output_type": "stream",
     "text": [
      "Epoch 25, Loss: 0.17321249470114708\n",
      "Saved retrained feedback model at output_bradley_terry_n_steps_100/R3_T5_Q8_acq_random_noise_0.0/REINVENT_round_1/HITL_iteration_1/bradley_terry_model.pth\n",
      "----------------------------------\n",
      "HITL iteration = 2\n",
      "Loading Bradley Terry model successfully from output_bradley_terry_n_steps_100/R3_T5_Q8_acq_random_noise_0.0/REINVENT_round_1/HITL_iteration_1/bradley_terry_model.pth\n",
      "Human score at HITL iteration 2: [0.007457904482147725, 0.0006749446241312491, 0.001139318899845858, 0.03846690825807318, 0.004862642395150195, 0.0013335642742527075, 0.001574630645522563, 0.00019475991309651273]\n",
      "New queried dataset size: 56\n",
      "Combined dataset size: 312\n",
      "Saved augmented training data at output_bradley_terry_n_steps_100/R3_T5_Q8_acq_random_noise_0.0/REINVENT_round_1/HITL_iteration_2/iteration_combined_data.csv\n",
      "Epoch 5, Loss: 0.2886884758869807\n",
      "Epoch 10, Loss: 0.28866812338431674\n",
      "Epoch 15, Loss: 0.28864357868830365\n",
      "Epoch 20, Loss: 0.2886185919245084\n"
     ]
    },
    {
     "name": "stderr",
     "output_type": "stream",
     "text": [
      "Found local copy...\n"
     ]
    },
    {
     "name": "stdout",
     "output_type": "stream",
     "text": [
      "Epoch 25, Loss: 0.2885948990782102\n",
      "Saved retrained feedback model at output_bradley_terry_n_steps_100/R3_T5_Q8_acq_random_noise_0.0/REINVENT_round_1/HITL_iteration_2/bradley_terry_model.pth\n",
      "----------------------------------\n",
      "HITL iteration = 3\n",
      "Loading Bradley Terry model successfully from output_bradley_terry_n_steps_100/R3_T5_Q8_acq_random_noise_0.0/REINVENT_round_1/HITL_iteration_2/bradley_terry_model.pth\n",
      "Human score at HITL iteration 3: [0.003245513290225891, 0.0006347084852348495, 0.08488471908418341, 0.48370606938573735, 0.002530484715497392, 0.00033414300726006203, 0.0002747836730153595, 0.0022588972704425596]\n",
      "New queried dataset size: 56\n",
      "Combined dataset size: 368\n",
      "Saved augmented training data at output_bradley_terry_n_steps_100/R3_T5_Q8_acq_random_noise_0.0/REINVENT_round_1/HITL_iteration_3/iteration_combined_data.csv\n",
      "Epoch 5, Loss: 0.5194721929728985\n",
      "Epoch 10, Loss: 0.5194259136915207\n",
      "Epoch 15, Loss: 0.5193741954863071\n",
      "Epoch 20, Loss: 0.5193137414753437\n"
     ]
    },
    {
     "name": "stderr",
     "output_type": "stream",
     "text": [
      "Found local copy...\n"
     ]
    },
    {
     "name": "stdout",
     "output_type": "stream",
     "text": [
      "Epoch 25, Loss: 0.5192687623202801\n",
      "Saved retrained feedback model at output_bradley_terry_n_steps_100/R3_T5_Q8_acq_random_noise_0.0/REINVENT_round_1/HITL_iteration_3/bradley_terry_model.pth\n",
      "----------------------------------\n",
      "HITL iteration = 4\n",
      "Loading Bradley Terry model successfully from output_bradley_terry_n_steps_100/R3_T5_Q8_acq_random_noise_0.0/REINVENT_round_1/HITL_iteration_3/bradley_terry_model.pth\n",
      "Human score at HITL iteration 4: [0.016519898436856313, 0.9654338858251834, 0.016501450608917913, 0.4282599348627571, 0.0008705903354864774, 0.4429195883741341, 0.011693799944902215, 0.0007861305076662839]\n",
      "New queried dataset size: 56\n",
      "Combined dataset size: 424\n",
      "Saved augmented training data at output_bradley_terry_n_steps_100/R3_T5_Q8_acq_random_noise_0.0/REINVENT_round_1/HITL_iteration_4/iteration_combined_data.csv\n",
      "Epoch 5, Loss: 1.2115017622709274\n",
      "Epoch 10, Loss: 1.2114108130335808\n",
      "Epoch 15, Loss: 1.2112358435988426\n",
      "Epoch 20, Loss: 1.2109512239694595\n"
     ]
    },
    {
     "name": "stderr",
     "output_type": "stream",
     "text": [
      "Found local copy...\n"
     ]
    },
    {
     "name": "stdout",
     "output_type": "stream",
     "text": [
      "Epoch 25, Loss: 1.2107319310307503\n",
      "Saved retrained feedback model at output_bradley_terry_n_steps_100/R3_T5_Q8_acq_random_noise_0.0/REINVENT_round_1/HITL_iteration_4/bradley_terry_model.pth\n",
      "----------------------------------\n",
      "HITL iteration = 5\n",
      "Loading Bradley Terry model successfully from output_bradley_terry_n_steps_100/R3_T5_Q8_acq_random_noise_0.0/REINVENT_round_1/HITL_iteration_4/bradley_terry_model.pth\n",
      "Human score at HITL iteration 5: [0.0006006286925376119, 0.0017415891667211057, 0.021536767936202968, 0.013215123443175452, 0.0006140302771736923, 0.02949447971967965, 0.0032718778892818377, 0.003886077691443907]\n",
      "New queried dataset size: 56\n",
      "Combined dataset size: 480\n",
      "Saved augmented training data at output_bradley_terry_n_steps_100/R3_T5_Q8_acq_random_noise_0.0/REINVENT_round_1/HITL_iteration_5/iteration_combined_data.csv\n",
      "Epoch 5, Loss: 0.3243202567100525\n",
      "Epoch 10, Loss: 0.3242600876837969\n",
      "Epoch 15, Loss: 0.3241947330534458\n",
      "Epoch 20, Loss: 0.3241242915391922\n",
      "Epoch 25, Loss: 0.3240475095808506\n",
      "Saved retrained feedback model at output_bradley_terry_n_steps_100/R3_T5_Q8_acq_random_noise_0.0/REINVENT_round_1/HITL_iteration_5/bradley_terry_model.pth\n",
      "=====================================\n",
      "REINVENT round = 2\n",
      "Creating config file: output_bradley_terry_n_steps_100/R3_T5_Q8_acq_random_noise_0.0/REINVENT_round_2/config.json.\n",
      "Run REINVENT\n",
      "Exit code: 0\n",
      "Number of SMILES in scaffold_memory.csv:  5005\n",
      "----------------------------------\n",
      "HITL iteration = 1\n"
     ]
    },
    {
     "name": "stderr",
     "output_type": "stream",
     "text": [
      "Found local copy...\n"
     ]
    },
    {
     "name": "stdout",
     "output_type": "stream",
     "text": [
      "Loading Bradley Terry model successfully from output_bradley_terry_n_steps_100/R3_T5_Q8_acq_random_noise_0.0/REINVENT_round_1/HITL_iteration_5/bradley_terry_model.pth\n",
      "Human score at HITL iteration 1: [0.07288200894886085, 0.04400562109266851, 0.10631810781931658, 0.8276923047896492, 0.03162038496870516, 0.991507953827662, 0.006486822196972257, 0.8389249999303875]\n",
      "New queried dataset size: 56\n",
      "Combined dataset size: 536\n",
      "Saved augmented training data at output_bradley_terry_n_steps_100/R3_T5_Q8_acq_random_noise_0.0/REINVENT_round_2/HITL_iteration_1/iteration_combined_data.csv\n",
      "Epoch 5, Loss: 0.4896209140618642\n",
      "Epoch 10, Loss: 0.48948077857494354\n",
      "Epoch 15, Loss: 0.4893230398495992\n",
      "Epoch 20, Loss: 0.4891582056879997\n"
     ]
    },
    {
     "name": "stderr",
     "output_type": "stream",
     "text": [
      "Found local copy...\n"
     ]
    },
    {
     "name": "stdout",
     "output_type": "stream",
     "text": [
      "Epoch 25, Loss: 0.48897092292706174\n",
      "Saved retrained feedback model at output_bradley_terry_n_steps_100/R3_T5_Q8_acq_random_noise_0.0/REINVENT_round_2/HITL_iteration_1/bradley_terry_model.pth\n",
      "----------------------------------\n",
      "HITL iteration = 2\n",
      "Loading Bradley Terry model successfully from output_bradley_terry_n_steps_100/R3_T5_Q8_acq_random_noise_0.0/REINVENT_round_2/HITL_iteration_1/bradley_terry_model.pth\n",
      "Human score at HITL iteration 2: [0.06744800346209946, 0.01887446419383874, 0.9928717310874611, 0.8858827063069988, 0.8479186680104194, 0.09576551334766836, 0.013596680457643935, 0.032258858975297185]\n",
      "New queried dataset size: 56\n",
      "Combined dataset size: 592\n",
      "Saved augmented training data at output_bradley_terry_n_steps_100/R3_T5_Q8_acq_random_noise_0.0/REINVENT_round_2/HITL_iteration_2/iteration_combined_data.csv\n",
      "Epoch 5, Loss: 0.8194629698991776\n",
      "Epoch 10, Loss: 0.8191557191312313\n",
      "Epoch 15, Loss: 0.8187688887119293\n",
      "Epoch 20, Loss: 0.8183107152581215\n"
     ]
    },
    {
     "name": "stderr",
     "output_type": "stream",
     "text": [
      "Found local copy...\n"
     ]
    },
    {
     "name": "stdout",
     "output_type": "stream",
     "text": [
      "Epoch 25, Loss: 0.8180718347430229\n",
      "Saved retrained feedback model at output_bradley_terry_n_steps_100/R3_T5_Q8_acq_random_noise_0.0/REINVENT_round_2/HITL_iteration_2/bradley_terry_model.pth\n",
      "----------------------------------\n",
      "HITL iteration = 3\n",
      "Loading Bradley Terry model successfully from output_bradley_terry_n_steps_100/R3_T5_Q8_acq_random_noise_0.0/REINVENT_round_2/HITL_iteration_2/bradley_terry_model.pth\n",
      "Human score at HITL iteration 3: [0.059789206076531584, 0.09440944384288277, 0.9503628144326317, 0.45526516071657497, 0.02094224636507158, 0.03225238623287649, 0.6697549677201877, 0.015394047858426263]\n",
      "New queried dataset size: 56\n",
      "Combined dataset size: 648\n",
      "Saved augmented training data at output_bradley_terry_n_steps_100/R3_T5_Q8_acq_random_noise_0.0/REINVENT_round_2/HITL_iteration_3/iteration_combined_data.csv\n",
      "Epoch 5, Loss: 1.8078305646777153\n",
      "Epoch 10, Loss: 1.8066399469971657\n",
      "Epoch 15, Loss: 1.8054920509457588\n",
      "Epoch 20, Loss: 1.8037696480751038\n"
     ]
    },
    {
     "name": "stderr",
     "output_type": "stream",
     "text": [
      "Found local copy...\n"
     ]
    },
    {
     "name": "stdout",
     "output_type": "stream",
     "text": [
      "Epoch 25, Loss: 1.802369698882103\n",
      "Saved retrained feedback model at output_bradley_terry_n_steps_100/R3_T5_Q8_acq_random_noise_0.0/REINVENT_round_2/HITL_iteration_3/bradley_terry_model.pth\n",
      "----------------------------------\n",
      "HITL iteration = 4\n",
      "Loading Bradley Terry model successfully from output_bradley_terry_n_steps_100/R3_T5_Q8_acq_random_noise_0.0/REINVENT_round_2/HITL_iteration_3/bradley_terry_model.pth\n",
      "Human score at HITL iteration 4: [0.925542241751155, 0.5183810079540373, 0.005383695380934409, 0.062468516883901995, 0.2999727404758229, 0.9896041884100504, 0.822661277146479, 0.013432628002411833]\n",
      "New queried dataset size: 56\n",
      "Combined dataset size: 704\n",
      "Saved augmented training data at output_bradley_terry_n_steps_100/R3_T5_Q8_acq_random_noise_0.0/REINVENT_round_2/HITL_iteration_4/iteration_combined_data.csv\n",
      "Epoch 5, Loss: 0.4719925243407488\n",
      "Epoch 10, Loss: 0.47157912887632847\n",
      "Epoch 15, Loss: 0.4711351990699768\n",
      "Epoch 20, Loss: 0.4706619158387184\n"
     ]
    },
    {
     "name": "stderr",
     "output_type": "stream",
     "text": [
      "Found local copy...\n"
     ]
    },
    {
     "name": "stdout",
     "output_type": "stream",
     "text": [
      "Epoch 25, Loss: 0.4701579939574003\n",
      "Saved retrained feedback model at output_bradley_terry_n_steps_100/R3_T5_Q8_acq_random_noise_0.0/REINVENT_round_2/HITL_iteration_4/bradley_terry_model.pth\n",
      "----------------------------------\n",
      "HITL iteration = 5\n",
      "Loading Bradley Terry model successfully from output_bradley_terry_n_steps_100/R3_T5_Q8_acq_random_noise_0.0/REINVENT_round_2/HITL_iteration_4/bradley_terry_model.pth\n",
      "Human score at HITL iteration 5: [0.19373237264550563, 0.0932143598986795, 0.9864309838515305, 0.07953546526451359, 0.004407401728934716, 0.7308030832706781, 0.7360592285413265, 0.051294544556001936]\n",
      "New queried dataset size: 56\n",
      "Combined dataset size: 760\n",
      "Saved augmented training data at output_bradley_terry_n_steps_100/R3_T5_Q8_acq_random_noise_0.0/REINVENT_round_2/HITL_iteration_5/iteration_combined_data.csv\n",
      "Epoch 5, Loss: 0.6837411349018415\n",
      "Epoch 10, Loss: 0.6829640592137972\n",
      "Epoch 15, Loss: 0.6821813036998113\n",
      "Epoch 20, Loss: 0.6813464909791946\n",
      "Epoch 25, Loss: 0.680475095907847\n",
      "Saved retrained feedback model at output_bradley_terry_n_steps_100/R3_T5_Q8_acq_random_noise_0.0/REINVENT_round_2/HITL_iteration_5/bradley_terry_model.pth\n",
      "=====================================\n",
      "REINVENT round = 3\n",
      "Creating config file: output_bradley_terry_n_steps_100/R3_T5_Q8_acq_random_noise_0.0/REINVENT_round_3/config.json.\n",
      "Run REINVENT\n",
      "Exit code: 0\n",
      "Number of SMILES in scaffold_memory.csv:  5000\n",
      "----------------------------------\n",
      "HITL iteration = 1\n"
     ]
    },
    {
     "name": "stderr",
     "output_type": "stream",
     "text": [
      "Found local copy...\n"
     ]
    },
    {
     "name": "stdout",
     "output_type": "stream",
     "text": [
      "Loading Bradley Terry model successfully from output_bradley_terry_n_steps_100/R3_T5_Q8_acq_random_noise_0.0/REINVENT_round_2/HITL_iteration_5/bradley_terry_model.pth\n",
      "Human score at HITL iteration 1: [0.770598548548446, 0.004838287407225619, 0.0956937070742309, 0.4288577515943536, 0.9921585097115483, 0.8112441561540991, 0.009439092461562158, 0.8358113526390882]\n",
      "New queried dataset size: 56\n",
      "Combined dataset size: 816\n",
      "Saved augmented training data at output_bradley_terry_n_steps_100/R3_T5_Q8_acq_random_noise_0.0/REINVENT_round_3/HITL_iteration_1/iteration_combined_data.csv\n",
      "Epoch 5, Loss: 1.1054775603115559\n",
      "Epoch 10, Loss: 1.1038159541785717\n",
      "Epoch 15, Loss: 1.1026147603988647\n",
      "Epoch 20, Loss: 1.1011056043207645\n",
      "Epoch 25, Loss: 1.0995647944509983\n",
      "Saved retrained feedback model at output_bradley_terry_n_steps_100/R3_T5_Q8_acq_random_noise_0.0/REINVENT_round_3/HITL_iteration_1/bradley_terry_model.pth\n",
      "----------------------------------\n",
      "HITL iteration = 2\n"
     ]
    },
    {
     "name": "stderr",
     "output_type": "stream",
     "text": [
      "Found local copy...\n"
     ]
    },
    {
     "name": "stdout",
     "output_type": "stream",
     "text": [
      "Loading Bradley Terry model successfully from output_bradley_terry_n_steps_100/R3_T5_Q8_acq_random_noise_0.0/REINVENT_round_3/HITL_iteration_1/bradley_terry_model.pth\n",
      "Human score at HITL iteration 2: [0.9290545207123697, 0.9690642447544274, 0.0014184260427588388, 0.0090010513247087, 0.8811732700883249, 0.9665174525952466, 0.27081844065895305, 0.005565570555152033]\n",
      "New queried dataset size: 56\n",
      "Combined dataset size: 872\n",
      "Saved augmented training data at output_bradley_terry_n_steps_100/R3_T5_Q8_acq_random_noise_0.0/REINVENT_round_3/HITL_iteration_2/iteration_combined_data.csv\n",
      "Epoch 5, Loss: 2.3663239553570747\n",
      "Epoch 10, Loss: 2.362551234662533\n",
      "Epoch 15, Loss: 2.358645610511303\n",
      "Epoch 20, Loss: 2.354751281440258\n"
     ]
    },
    {
     "name": "stderr",
     "output_type": "stream",
     "text": [
      "Found local copy...\n"
     ]
    },
    {
     "name": "stdout",
     "output_type": "stream",
     "text": [
      "Epoch 25, Loss: 2.3522233739495277\n",
      "Saved retrained feedback model at output_bradley_terry_n_steps_100/R3_T5_Q8_acq_random_noise_0.0/REINVENT_round_3/HITL_iteration_2/bradley_terry_model.pth\n",
      "----------------------------------\n",
      "HITL iteration = 3\n",
      "Loading Bradley Terry model successfully from output_bradley_terry_n_steps_100/R3_T5_Q8_acq_random_noise_0.0/REINVENT_round_3/HITL_iteration_2/bradley_terry_model.pth\n",
      "Human score at HITL iteration 3: [0.005378469899247865, 0.8250182021519181, 0.9921468642731671, 0.9610123522121001, 0.006330984961924078, 0.12330281919598472, 0.6527343525339896, 0.35721089534749023]\n",
      "New queried dataset size: 56\n",
      "Combined dataset size: 928\n",
      "Saved augmented training data at output_bradley_terry_n_steps_100/R3_T5_Q8_acq_random_noise_0.0/REINVENT_round_3/HITL_iteration_3/iteration_combined_data.csv\n",
      "Epoch 5, Loss: 0.6083483379334211\n",
      "Epoch 10, Loss: 0.6074610650539398\n",
      "Epoch 15, Loss: 0.6066180597990751\n",
      "Epoch 20, Loss: 0.6058232579380274\n"
     ]
    },
    {
     "name": "stderr",
     "output_type": "stream",
     "text": [
      "Found local copy...\n"
     ]
    },
    {
     "name": "stdout",
     "output_type": "stream",
     "text": [
      "Epoch 25, Loss: 0.6050834003835917\n",
      "Saved retrained feedback model at output_bradley_terry_n_steps_100/R3_T5_Q8_acq_random_noise_0.0/REINVENT_round_3/HITL_iteration_3/bradley_terry_model.pth\n",
      "----------------------------------\n",
      "HITL iteration = 4\n",
      "Loading Bradley Terry model successfully from output_bradley_terry_n_steps_100/R3_T5_Q8_acq_random_noise_0.0/REINVENT_round_3/HITL_iteration_3/bradley_terry_model.pth\n",
      "Human score at HITL iteration 4: [0.09330679554986362, 0.1085121016752364, 0.9112676424011961, 0.2903980409562721, 0.33187012229088286, 0.4364488601807821, 0.03021668925691264, 0.8944354976709779]\n",
      "New queried dataset size: 56\n",
      "Combined dataset size: 984\n",
      "Saved augmented training data at output_bradley_terry_n_steps_100/R3_T5_Q8_acq_random_noise_0.0/REINVENT_round_3/HITL_iteration_4/iteration_combined_data.csv\n",
      "Epoch 5, Loss: 0.8626489241917928\n",
      "Epoch 10, Loss: 0.8614922215541204\n",
      "Epoch 15, Loss: 0.8605886623263359\n",
      "Epoch 20, Loss: 0.859765479962031\n"
     ]
    },
    {
     "name": "stderr",
     "output_type": "stream",
     "text": [
      "Found local copy...\n"
     ]
    },
    {
     "name": "stdout",
     "output_type": "stream",
     "text": [
      "Epoch 25, Loss: 0.8588990991314253\n",
      "Saved retrained feedback model at output_bradley_terry_n_steps_100/R3_T5_Q8_acq_random_noise_0.0/REINVENT_round_3/HITL_iteration_4/bradley_terry_model.pth\n",
      "----------------------------------\n",
      "HITL iteration = 5\n",
      "Loading Bradley Terry model successfully from output_bradley_terry_n_steps_100/R3_T5_Q8_acq_random_noise_0.0/REINVENT_round_3/HITL_iteration_4/bradley_terry_model.pth\n",
      "Human score at HITL iteration 5: [0.08592188559179509, 0.6110479850522711, 0.14977357365907715, 0.0009136791757081704, 0.9890506743295276, 0.45791454924028413, 0.9999991288175998, 0.19110494303777628]\n",
      "New queried dataset size: 56\n",
      "Combined dataset size: 1040\n",
      "Saved augmented training data at output_bradley_terry_n_steps_100/R3_T5_Q8_acq_random_noise_0.0/REINVENT_round_3/HITL_iteration_5/iteration_combined_data.csv\n",
      "Epoch 5, Loss: 1.370610386133194\n",
      "Epoch 10, Loss: 1.3701392449438572\n",
      "Epoch 15, Loss: 1.3691146522760391\n",
      "Epoch 20, Loss: 1.3676234483718872\n",
      "Epoch 25, Loss: 1.3670200668275356\n",
      "Saved retrained feedback model at output_bradley_terry_n_steps_100/R3_T5_Q8_acq_random_noise_0.0/REINVENT_round_3/HITL_iteration_5/bradley_terry_model.pth\n",
      "=====================================\n",
      "REINVENT round = 4\n",
      "Creating config file: output_bradley_terry_n_steps_100/R3_T5_Q8_acq_random_noise_0.0/REINVENT_round_4/config.json.\n",
      "Run REINVENT\n",
      "Exit code: 0\n",
      "\n",
      "*******************************************************************\n",
      "Running HITL with random acquisition and noise 0.1\n",
      "\n",
      "Running DRD2 (one objective) with rounds 3, iters 5, queries 8, seed 42\n",
      "Results will be saved at output_bradley_terry_n_steps_100/R3_T5_Q8_acq_random_noise_0.1\n",
      "Loading initial training datasets successfully\n",
      "=====================================\n",
      "REINVENT round = 1\n",
      "Creating config file: output_bradley_terry_n_steps_100/R3_T5_Q8_acq_random_noise_0.1/REINVENT_round_1/config.json.\n",
      "Run REINVENT\n",
      "Exit code: 0\n",
      "Number of SMILES in scaffold_memory.csv:  5006\n",
      "----------------------------------\n",
      "HITL iteration = 1\n"
     ]
    },
    {
     "name": "stderr",
     "output_type": "stream",
     "text": [
      "Found local copy...\n"
     ]
    },
    {
     "name": "stdout",
     "output_type": "stream",
     "text": [
      "Loading Bradley Terry model successfully from /home/springnuance/reinvent-hitl/Base-Code-Binh/training_Bradley_Terry_model/bradley_terry_model.pth\n",
      "Human score at HITL iteration 1: [0.08245096486397238, 0.0, 1.0, 0.15703190045215146, 0.03312457972210482, 0.0, 0.1790329811244303, 0.07853704843736439]\n",
      "New queried dataset size: 56\n",
      "Combined dataset size: 256\n",
      "Saved augmented training data at output_bradley_terry_n_steps_100/R3_T5_Q8_acq_random_noise_0.1/REINVENT_round_1/HITL_iteration_1/iteration_combined_data.csv\n",
      "Epoch 5, Loss: 0.1732612196356058\n",
      "Epoch 10, Loss: 0.17324575781822205\n",
      "Epoch 15, Loss: 0.17323016561567783\n",
      "Epoch 20, Loss: 0.17321433499455452\n"
     ]
    },
    {
     "name": "stderr",
     "output_type": "stream",
     "text": [
      "Found local copy...\n"
     ]
    },
    {
     "name": "stdout",
     "output_type": "stream",
     "text": [
      "Epoch 25, Loss: 0.1731983870267868\n",
      "Saved retrained feedback model at output_bradley_terry_n_steps_100/R3_T5_Q8_acq_random_noise_0.1/REINVENT_round_1/HITL_iteration_1/bradley_terry_model.pth\n",
      "----------------------------------\n",
      "HITL iteration = 2\n",
      "Loading Bradley Terry model successfully from output_bradley_terry_n_steps_100/R3_T5_Q8_acq_random_noise_0.1/REINVENT_round_1/HITL_iteration_1/bradley_terry_model.pth\n",
      "Human score at HITL iteration 2: [0.0, 0.05955574093861862, 0.0, 0.0, 0.02490396162364005, 0.34082912481777017, 0.0, 0.0]\n",
      "New queried dataset size: 56\n",
      "Combined dataset size: 312\n",
      "Saved augmented training data at output_bradley_terry_n_steps_100/R3_T5_Q8_acq_random_noise_0.1/REINVENT_round_1/HITL_iteration_2/iteration_combined_data.csv\n",
      "Epoch 5, Loss: 0.28866085906823474\n",
      "Epoch 10, Loss: 0.2886335452397664\n",
      "Epoch 15, Loss: 0.28860505173603695\n",
      "Epoch 20, Loss: 0.2885754356781642\n"
     ]
    },
    {
     "name": "stderr",
     "output_type": "stream",
     "text": [
      "Found local copy...\n"
     ]
    },
    {
     "name": "stdout",
     "output_type": "stream",
     "text": [
      "Epoch 25, Loss: 0.2885403310259183\n",
      "Saved retrained feedback model at output_bradley_terry_n_steps_100/R3_T5_Q8_acq_random_noise_0.1/REINVENT_round_1/HITL_iteration_2/bradley_terry_model.pth\n",
      "----------------------------------\n",
      "HITL iteration = 3\n",
      "Loading Bradley Terry model successfully from output_bradley_terry_n_steps_100/R3_T5_Q8_acq_random_noise_0.1/REINVENT_round_1/HITL_iteration_2/bradley_terry_model.pth\n",
      "Human score at HITL iteration 3: [0.0, 0.7442797036925725, 0.0, 0.0, 0.15528660345759335, 0.0, 0.8161804073860393, 0.0]\n",
      "New queried dataset size: 56\n",
      "Combined dataset size: 368\n",
      "Saved augmented training data at output_bradley_terry_n_steps_100/R3_T5_Q8_acq_random_noise_0.1/REINVENT_round_1/HITL_iteration_3/iteration_combined_data.csv\n",
      "Epoch 5, Loss: 0.5193737931549549\n",
      "Epoch 10, Loss: 0.5193228684365749\n",
      "Epoch 15, Loss: 0.5192335061728954\n",
      "Epoch 20, Loss: 0.5191640444099903\n"
     ]
    },
    {
     "name": "stderr",
     "output_type": "stream",
     "text": [
      "Found local copy...\n"
     ]
    },
    {
     "name": "stdout",
     "output_type": "stream",
     "text": [
      "Epoch 25, Loss: 0.5190617963671684\n",
      "Saved retrained feedback model at output_bradley_terry_n_steps_100/R3_T5_Q8_acq_random_noise_0.1/REINVENT_round_1/HITL_iteration_3/bradley_terry_model.pth\n",
      "----------------------------------\n",
      "HITL iteration = 4\n",
      "Loading Bradley Terry model successfully from output_bradley_terry_n_steps_100/R3_T5_Q8_acq_random_noise_0.1/REINVENT_round_1/HITL_iteration_3/bradley_terry_model.pth\n",
      "Human score at HITL iteration 4: [0.0, 0.10254660930617622, 0.0, 0.04565446414798315, 0.0, 0.8164323261367623, 0.0, 0.1853695312750083]\n",
      "New queried dataset size: 56\n",
      "Combined dataset size: 424\n",
      "Saved augmented training data at output_bradley_terry_n_steps_100/R3_T5_Q8_acq_random_noise_0.1/REINVENT_round_1/HITL_iteration_4/iteration_combined_data.csv\n",
      "Epoch 5, Loss: 1.2111235707998276\n",
      "Epoch 10, Loss: 1.210967242717743\n",
      "Epoch 15, Loss: 1.2106625065207481\n",
      "Epoch 20, Loss: 1.210441306233406\n"
     ]
    },
    {
     "name": "stderr",
     "output_type": "stream",
     "text": [
      "Found local copy...\n"
     ]
    },
    {
     "name": "stdout",
     "output_type": "stream",
     "text": [
      "Epoch 25, Loss: 1.210030734539032\n",
      "Saved retrained feedback model at output_bradley_terry_n_steps_100/R3_T5_Q8_acq_random_noise_0.1/REINVENT_round_1/HITL_iteration_4/bradley_terry_model.pth\n",
      "----------------------------------\n",
      "HITL iteration = 5\n",
      "Loading Bradley Terry model successfully from output_bradley_terry_n_steps_100/R3_T5_Q8_acq_random_noise_0.1/REINVENT_round_1/HITL_iteration_4/bradley_terry_model.pth\n",
      "Human score at HITL iteration 5: [0.00979655781818078, 0.0, 0.09074115717307754, 0.0, 0.030288963389955088, 0.0, 0.0, 0.0321952041269056]\n",
      "New queried dataset size: 56\n",
      "Combined dataset size: 480\n",
      "Saved augmented training data at output_bradley_terry_n_steps_100/R3_T5_Q8_acq_random_noise_0.1/REINVENT_round_1/HITL_iteration_5/iteration_combined_data.csv\n",
      "Epoch 5, Loss: 0.3241587784141302\n",
      "Epoch 10, Loss: 0.3240817282348871\n",
      "Epoch 15, Loss: 0.3239973168820143\n",
      "Epoch 20, Loss: 0.32390547171235085\n",
      "Epoch 25, Loss: 0.32380469515919685\n",
      "Saved retrained feedback model at output_bradley_terry_n_steps_100/R3_T5_Q8_acq_random_noise_0.1/REINVENT_round_1/HITL_iteration_5/bradley_terry_model.pth\n",
      "=====================================\n",
      "REINVENT round = 2\n",
      "Creating config file: output_bradley_terry_n_steps_100/R3_T5_Q8_acq_random_noise_0.1/REINVENT_round_2/config.json.\n",
      "Run REINVENT\n",
      "Exit code: 0\n",
      "Number of SMILES in scaffold_memory.csv:  5008\n",
      "----------------------------------\n",
      "HITL iteration = 1\n"
     ]
    },
    {
     "name": "stderr",
     "output_type": "stream",
     "text": [
      "Found local copy...\n"
     ]
    },
    {
     "name": "stdout",
     "output_type": "stream",
     "text": [
      "Loading Bradley Terry model successfully from output_bradley_terry_n_steps_100/R3_T5_Q8_acq_random_noise_0.1/REINVENT_round_1/HITL_iteration_5/bradley_terry_model.pth\n",
      "Human score at HITL iteration 1: [0.27145167502932865, 0.020387075115767997, 0.1937458272324974, 0.25393817128688995, 0.27809474836972825, 0.3936966325139222, 0.17635950259642222, 0.5641155572519635]\n",
      "New queried dataset size: 56\n",
      "Combined dataset size: 536\n",
      "Saved augmented training data at output_bradley_terry_n_steps_100/R3_T5_Q8_acq_random_noise_0.1/REINVENT_round_2/HITL_iteration_1/iteration_combined_data.csv\n",
      "Epoch 5, Loss: 0.4893258661031723\n",
      "Epoch 10, Loss: 0.48914311577876407\n",
      "Epoch 15, Loss: 0.48898378511269885\n",
      "Epoch 20, Loss: 0.48878216991821927\n"
     ]
    },
    {
     "name": "stderr",
     "output_type": "stream",
     "text": [
      "Found local copy...\n"
     ]
    },
    {
     "name": "stdout",
     "output_type": "stream",
     "text": [
      "Epoch 25, Loss: 0.48858147114515305\n",
      "Saved retrained feedback model at output_bradley_terry_n_steps_100/R3_T5_Q8_acq_random_noise_0.1/REINVENT_round_2/HITL_iteration_1/bradley_terry_model.pth\n",
      "----------------------------------\n",
      "HITL iteration = 2\n",
      "Loading Bradley Terry model successfully from output_bradley_terry_n_steps_100/R3_T5_Q8_acq_random_noise_0.1/REINVENT_round_2/HITL_iteration_1/bradley_terry_model.pth\n",
      "Human score at HITL iteration 2: [0.04546155676326613, 0.0, 0.5591828013805368, 0.0, 0.6667723350292487, 0.25859567248257775, 0.3286383795101744, 0.164439203880699]\n",
      "New queried dataset size: 56\n",
      "Combined dataset size: 592\n",
      "Saved augmented training data at output_bradley_terry_n_steps_100/R3_T5_Q8_acq_random_noise_0.1/REINVENT_round_2/HITL_iteration_2/iteration_combined_data.csv\n",
      "Epoch 5, Loss: 0.819092370569706\n",
      "Epoch 10, Loss: 0.818731315433979\n",
      "Epoch 15, Loss: 0.818219967186451\n",
      "Epoch 20, Loss: 0.8177549503743649\n"
     ]
    },
    {
     "name": "stderr",
     "output_type": "stream",
     "text": [
      "Found local copy...\n"
     ]
    },
    {
     "name": "stdout",
     "output_type": "stream",
     "text": [
      "Epoch 25, Loss: 0.8173065818846226\n",
      "Saved retrained feedback model at output_bradley_terry_n_steps_100/R3_T5_Q8_acq_random_noise_0.1/REINVENT_round_2/HITL_iteration_2/bradley_terry_model.pth\n",
      "----------------------------------\n",
      "HITL iteration = 3\n",
      "Loading Bradley Terry model successfully from output_bradley_terry_n_steps_100/R3_T5_Q8_acq_random_noise_0.1/REINVENT_round_2/HITL_iteration_2/bradley_terry_model.pth\n",
      "Human score at HITL iteration 3: [0.0, 0.0, 0.12301826740266283, 0.48349635527233753, 0.0, 0.052926139478239986, 0.027316452973024374, 0.25741366875630717]\n",
      "New queried dataset size: 56\n",
      "Combined dataset size: 648\n",
      "Saved augmented training data at output_bradley_terry_n_steps_100/R3_T5_Q8_acq_random_noise_0.1/REINVENT_round_2/HITL_iteration_3/iteration_combined_data.csv\n",
      "Epoch 5, Loss: 1.8068761602044106\n",
      "Epoch 10, Loss: 1.8060286566615105\n",
      "Epoch 15, Loss: 1.8046246767044067\n",
      "Epoch 20, Loss: 1.803342342376709\n"
     ]
    },
    {
     "name": "stderr",
     "output_type": "stream",
     "text": [
      "Found local copy...\n"
     ]
    },
    {
     "name": "stdout",
     "output_type": "stream",
     "text": [
      "Epoch 25, Loss: 1.8017276152968407\n",
      "Saved retrained feedback model at output_bradley_terry_n_steps_100/R3_T5_Q8_acq_random_noise_0.1/REINVENT_round_2/HITL_iteration_3/bradley_terry_model.pth\n",
      "----------------------------------\n",
      "HITL iteration = 4\n",
      "Loading Bradley Terry model successfully from output_bradley_terry_n_steps_100/R3_T5_Q8_acq_random_noise_0.1/REINVENT_round_2/HITL_iteration_3/bradley_terry_model.pth\n",
      "Human score at HITL iteration 4: [0.14567959432708605, 1.0, 0.9741801569098597, 0.5718583217022617, 0.04147095699507404, 0.3210207839236845, 0.37495523981199874, 1.0]\n",
      "New queried dataset size: 56\n",
      "Combined dataset size: 704\n",
      "Saved augmented training data at output_bradley_terry_n_steps_100/R3_T5_Q8_acq_random_noise_0.1/REINVENT_round_2/HITL_iteration_4/iteration_combined_data.csv\n",
      "Epoch 5, Loss: 0.4716380797326565\n",
      "Epoch 10, Loss: 0.4712229687720537\n",
      "Epoch 15, Loss: 0.4707845728844404\n",
      "Epoch 20, Loss: 0.47032420709729195\n"
     ]
    },
    {
     "name": "stderr",
     "output_type": "stream",
     "text": [
      "Found local copy...\n"
     ]
    },
    {
     "name": "stdout",
     "output_type": "stream",
     "text": [
      "Epoch 25, Loss: 0.4698428437113762\n",
      "Saved retrained feedback model at output_bradley_terry_n_steps_100/R3_T5_Q8_acq_random_noise_0.1/REINVENT_round_2/HITL_iteration_4/bradley_terry_model.pth\n",
      "----------------------------------\n",
      "HITL iteration = 5\n",
      "Loading Bradley Terry model successfully from output_bradley_terry_n_steps_100/R3_T5_Q8_acq_random_noise_0.1/REINVENT_round_2/HITL_iteration_4/bradley_terry_model.pth\n",
      "Human score at HITL iteration 5: [0.15841503594903553, 1.0, 0.0, 1.0, 0.895684058974453, 0.577549904681119, 0.8289060210093037, 0.0]\n",
      "New queried dataset size: 56\n",
      "Combined dataset size: 760\n",
      "Saved augmented training data at output_bradley_terry_n_steps_100/R3_T5_Q8_acq_random_noise_0.1/REINVENT_round_2/HITL_iteration_5/iteration_combined_data.csv\n",
      "Epoch 5, Loss: 0.6832257484396299\n",
      "Epoch 10, Loss: 0.6824634869893392\n",
      "Epoch 15, Loss: 0.6816908145944277\n",
      "Epoch 20, Loss: 0.6808773204684258\n",
      "Epoch 25, Loss: 0.6801937520503998\n",
      "Saved retrained feedback model at output_bradley_terry_n_steps_100/R3_T5_Q8_acq_random_noise_0.1/REINVENT_round_2/HITL_iteration_5/bradley_terry_model.pth\n",
      "=====================================\n",
      "REINVENT round = 3\n",
      "Creating config file: output_bradley_terry_n_steps_100/R3_T5_Q8_acq_random_noise_0.1/REINVENT_round_3/config.json.\n",
      "Run REINVENT\n",
      "Exit code: 0\n",
      "Number of SMILES in scaffold_memory.csv:  5022\n",
      "----------------------------------\n",
      "HITL iteration = 1\n"
     ]
    },
    {
     "name": "stderr",
     "output_type": "stream",
     "text": [
      "Found local copy...\n"
     ]
    },
    {
     "name": "stdout",
     "output_type": "stream",
     "text": [
      "Loading Bradley Terry model successfully from output_bradley_terry_n_steps_100/R3_T5_Q8_acq_random_noise_0.1/REINVENT_round_2/HITL_iteration_5/bradley_terry_model.pth\n",
      "Human score at HITL iteration 1: [0.0033534155855538435, 0.6710297587093123, 0.15128977676009925, 0.27646919455976565, 0.8870916912703501, 0.9352176857391592, 0.6264306902520091, 0.2570861831087706]\n",
      "New queried dataset size: 56\n",
      "Combined dataset size: 816\n",
      "Saved augmented training data at output_bradley_terry_n_steps_100/R3_T5_Q8_acq_random_noise_0.1/REINVENT_round_3/HITL_iteration_1/iteration_combined_data.csv\n",
      "Epoch 5, Loss: 1.1049383357167244\n",
      "Epoch 10, Loss: 1.1036860793828964\n",
      "Epoch 15, Loss: 1.1021473482251167\n",
      "Epoch 20, Loss: 1.1007901914417744\n"
     ]
    },
    {
     "name": "stderr",
     "output_type": "stream",
     "text": [
      "Found local copy...\n"
     ]
    },
    {
     "name": "stdout",
     "output_type": "stream",
     "text": [
      "Epoch 25, Loss: 1.0994808040559292\n",
      "Saved retrained feedback model at output_bradley_terry_n_steps_100/R3_T5_Q8_acq_random_noise_0.1/REINVENT_round_3/HITL_iteration_1/bradley_terry_model.pth\n",
      "----------------------------------\n",
      "HITL iteration = 2\n",
      "Loading Bradley Terry model successfully from output_bradley_terry_n_steps_100/R3_T5_Q8_acq_random_noise_0.1/REINVENT_round_3/HITL_iteration_1/bradley_terry_model.pth\n",
      "Human score at HITL iteration 2: [0.038592978510306485, 0.9895076035980329, 0.7610886351003626, 0.6028065640505631, 0.7285168101218389, 0.025911738564892255, 0.0, 0.13604032091078344]\n",
      "New queried dataset size: 56\n",
      "Combined dataset size: 872\n",
      "Saved augmented training data at output_bradley_terry_n_steps_100/R3_T5_Q8_acq_random_noise_0.1/REINVENT_round_3/HITL_iteration_2/iteration_combined_data.csv\n",
      "Epoch 5, Loss: 2.368768312036991\n",
      "Epoch 10, Loss: 2.3667808696627617\n",
      "Epoch 15, Loss: 2.364069364964962\n",
      "Epoch 20, Loss: 2.3618344366550446\n"
     ]
    },
    {
     "name": "stderr",
     "output_type": "stream",
     "text": [
      "Found local copy...\n"
     ]
    },
    {
     "name": "stdout",
     "output_type": "stream",
     "text": [
      "Epoch 25, Loss: 2.3558224886655807\n",
      "Saved retrained feedback model at output_bradley_terry_n_steps_100/R3_T5_Q8_acq_random_noise_0.1/REINVENT_round_3/HITL_iteration_2/bradley_terry_model.pth\n",
      "----------------------------------\n",
      "HITL iteration = 3\n",
      "Loading Bradley Terry model successfully from output_bradley_terry_n_steps_100/R3_T5_Q8_acq_random_noise_0.1/REINVENT_round_3/HITL_iteration_2/bradley_terry_model.pth\n",
      "Human score at HITL iteration 3: [0.5144488369172285, 0.059597696166851746, 0.026453976092381825, 0.0, 0.37474671312603425, 0.0, 0.0, 0.4197722730778381]\n",
      "New queried dataset size: 56\n",
      "Combined dataset size: 928\n",
      "Saved augmented training data at output_bradley_terry_n_steps_100/R3_T5_Q8_acq_random_noise_0.1/REINVENT_round_3/HITL_iteration_3/iteration_combined_data.csv\n",
      "Epoch 5, Loss: 0.6108227930963039\n",
      "Epoch 10, Loss: 0.6101713050156832\n",
      "Epoch 15, Loss: 0.609562935307622\n",
      "Epoch 20, Loss: 0.6090008020401001\n"
     ]
    },
    {
     "name": "stderr",
     "output_type": "stream",
     "text": [
      "Found local copy...\n"
     ]
    },
    {
     "name": "stdout",
     "output_type": "stream",
     "text": [
      "Epoch 25, Loss: 0.6084869168698788\n",
      "Saved retrained feedback model at output_bradley_terry_n_steps_100/R3_T5_Q8_acq_random_noise_0.1/REINVENT_round_3/HITL_iteration_3/bradley_terry_model.pth\n",
      "----------------------------------\n",
      "HITL iteration = 4\n",
      "Loading Bradley Terry model successfully from output_bradley_terry_n_steps_100/R3_T5_Q8_acq_random_noise_0.1/REINVENT_round_3/HITL_iteration_3/bradley_terry_model.pth\n",
      "Human score at HITL iteration 4: [0.9730876194993847, 0.1885488425910674, 1.0, 0.03027583664874331, 0.05329613322614293, 0.42495220931682776, 0.6838751756160732, 0.055528114317896955]\n",
      "New queried dataset size: 56\n",
      "Combined dataset size: 984\n",
      "Saved augmented training data at output_bradley_terry_n_steps_100/R3_T5_Q8_acq_random_noise_0.1/REINVENT_round_3/HITL_iteration_4/iteration_combined_data.csv\n",
      "Epoch 5, Loss: 0.8666507254044215\n",
      "Epoch 10, Loss: 0.8660680626829466\n",
      "Epoch 15, Loss: 0.8653581192096075\n",
      "Epoch 20, Loss: 0.8646672690908114\n"
     ]
    },
    {
     "name": "stderr",
     "output_type": "stream",
     "text": [
      "Found local copy...\n"
     ]
    },
    {
     "name": "stdout",
     "output_type": "stream",
     "text": [
      "Epoch 25, Loss: 0.8643044208486875\n",
      "Saved retrained feedback model at output_bradley_terry_n_steps_100/R3_T5_Q8_acq_random_noise_0.1/REINVENT_round_3/HITL_iteration_4/bradley_terry_model.pth\n",
      "----------------------------------\n",
      "HITL iteration = 5\n",
      "Loading Bradley Terry model successfully from output_bradley_terry_n_steps_100/R3_T5_Q8_acq_random_noise_0.1/REINVENT_round_3/HITL_iteration_4/bradley_terry_model.pth\n",
      "Human score at HITL iteration 5: [0.7941052322626476, 0.4193430758685358, 0.34735799358943403, 0.45650089553044493, 0.002663661297605628, 0.0, 0.9046536912180762, 0.6290078464647576]\n",
      "New queried dataset size: 56\n",
      "Combined dataset size: 1040\n",
      "Saved augmented training data at output_bradley_terry_n_steps_100/R3_T5_Q8_acq_random_noise_0.1/REINVENT_round_3/HITL_iteration_5/iteration_combined_data.csv\n",
      "Epoch 5, Loss: 1.3822515979409218\n",
      "Epoch 10, Loss: 1.381676945835352\n",
      "Epoch 15, Loss: 1.3807810544967651\n",
      "Epoch 20, Loss: 1.3798800595104694\n",
      "Epoch 25, Loss: 1.3790230341255665\n",
      "Saved retrained feedback model at output_bradley_terry_n_steps_100/R3_T5_Q8_acq_random_noise_0.1/REINVENT_round_3/HITL_iteration_5/bradley_terry_model.pth\n",
      "=====================================\n",
      "REINVENT round = 4\n",
      "Creating config file: output_bradley_terry_n_steps_100/R3_T5_Q8_acq_random_noise_0.1/REINVENT_round_4/config.json.\n",
      "Run REINVENT\n",
      "Exit code: 0\n",
      "\n",
      "*******************************************************************\n",
      "Running HITL with uncertainty acquisition and noise 0.0\n",
      "\n",
      "Running DRD2 (one objective) with rounds 3, iters 5, queries 8, seed 42\n",
      "Results will be saved at output_bradley_terry_n_steps_100/R3_T5_Q8_acq_uncertainty_noise_0.0\n",
      "Loading initial training datasets successfully\n",
      "=====================================\n",
      "REINVENT round = 1\n",
      "Creating config file: output_bradley_terry_n_steps_100/R3_T5_Q8_acq_uncertainty_noise_0.0/REINVENT_round_1/config.json.\n",
      "Run REINVENT\n",
      "Exit code: 0\n",
      "Number of SMILES in scaffold_memory.csv:  5013\n",
      "----------------------------------\n",
      "HITL iteration = 1\n",
      "Loading Bradley Terry model successfully from /home/springnuance/reinvent-hitl/Base-Code-Binh/training_Bradley_Terry_model/bradley_terry_model.pth\n",
      "B1 processed | B2 processed | B3 processed | B4 processed | B5 processed | B6 processed | B7 processed | B8 processed | B9 processed | B10 processed | B11 processed | B12 processed | B13 processed | B14 processed | B15 processed | B16 processed | B17 processed | B18 processed | B19 processed | B20 processed | B21 processed | B22 processed | B23 processed | B24 processed | B25 processed | B26 processed | B27 processed | B28 processed | B29 processed | B30 processed | B31 processed | "
     ]
    },
    {
     "name": "stderr",
     "output_type": "stream",
     "text": [
      "Found local copy...\n"
     ]
    },
    {
     "name": "stdout",
     "output_type": "stream",
     "text": [
      "B32 processed | Human score at HITL iteration 1: [0.010143297455087144, 0.20465291388766668, 0.00023649490428469364, 0.005400994843364466, 0.11767158068121515, 0.002772167286958682, 0.001459807188483394, 0.0049433966537872865]\n",
      "New queried dataset size: 56\n",
      "Combined dataset size: 256\n",
      "Saved augmented training data at output_bradley_terry_n_steps_100/R3_T5_Q8_acq_uncertainty_noise_0.0/REINVENT_round_1/HITL_iteration_1/iteration_combined_data.csv\n",
      "Epoch 5, Loss: 0.1732646320015192\n",
      "Epoch 10, Loss: 0.17325115390121937\n",
      "Epoch 15, Loss: 0.1732375118881464\n",
      "Epoch 20, Loss: 0.17322379536926746\n",
      "Epoch 25, Loss: 0.17320975475013256\n",
      "Saved retrained feedback model at output_bradley_terry_n_steps_100/R3_T5_Q8_acq_uncertainty_noise_0.0/REINVENT_round_1/HITL_iteration_1/bradley_terry_model.pth\n",
      "----------------------------------\n",
      "HITL iteration = 2\n",
      "Loading Bradley Terry model successfully from output_bradley_terry_n_steps_100/R3_T5_Q8_acq_uncertainty_noise_0.0/REINVENT_round_1/HITL_iteration_1/bradley_terry_model.pth\n",
      "B1 processed | B2 processed | B3 processed | B4 processed | B5 processed | B6 processed | B7 processed | B8 processed | B9 processed | B10 processed | B11 processed | B12 processed | B13 processed | B14 processed | B15 processed | B16 processed | B17 processed | B18 processed | B19 processed | B20 processed | B21 processed | B22 processed | B23 processed | B24 processed | B25 processed | B26 processed | B27 processed | B28 processed | B29 processed | B30 processed | B31 processed | "
     ]
    },
    {
     "name": "stderr",
     "output_type": "stream",
     "text": [
      "Found local copy...\n"
     ]
    },
    {
     "name": "stdout",
     "output_type": "stream",
     "text": [
      "B32 processed | Human score at HITL iteration 2: [0.0007365844525018281, 0.0003151499625551182, 0.005207233723372037, 0.003564775193727409, 6.64697590109518e-05, 0.01233933834440316, 0.0019932079631331603, 0.0028696365176455146]\n",
      "New queried dataset size: 56\n",
      "Combined dataset size: 312\n",
      "Saved augmented training data at output_bradley_terry_n_steps_100/R3_T5_Q8_acq_uncertainty_noise_0.0/REINVENT_round_1/HITL_iteration_2/iteration_combined_data.csv\n",
      "Epoch 5, Loss: 0.2886843929688136\n",
      "Epoch 10, Loss: 0.2886616438627243\n",
      "Epoch 15, Loss: 0.2886362026135127\n",
      "Epoch 20, Loss: 0.2886131430665652\n",
      "Epoch 25, Loss: 0.28858598073323566\n",
      "Saved retrained feedback model at output_bradley_terry_n_steps_100/R3_T5_Q8_acq_uncertainty_noise_0.0/REINVENT_round_1/HITL_iteration_2/bradley_terry_model.pth\n",
      "----------------------------------\n",
      "HITL iteration = 3\n",
      "Loading Bradley Terry model successfully from output_bradley_terry_n_steps_100/R3_T5_Q8_acq_uncertainty_noise_0.0/REINVENT_round_1/HITL_iteration_2/bradley_terry_model.pth\n",
      "B1 processed | B2 processed | B3 processed | B4 processed | B5 processed | B6 processed | B7 processed | B8 processed | B9 processed | B10 processed | B11 processed | B12 processed | B13 processed | B14 processed | B15 processed | B16 processed | B17 processed | B18 processed | B19 processed | B20 processed | B21 processed | B22 processed | B23 processed | B24 processed | B25 processed | B26 processed | B27 processed | B28 processed | B29 processed | B30 processed | B31 processed | "
     ]
    },
    {
     "name": "stderr",
     "output_type": "stream",
     "text": [
      "Found local copy...\n"
     ]
    },
    {
     "name": "stdout",
     "output_type": "stream",
     "text": [
      "B32 processed | Human score at HITL iteration 3: [0.006518715539550085, 0.001253283441536972, 0.0028242419885667956, 0.0003318907817528527, 0.006894238078731267, 0.00028834996601815184, 0.05896208504507487, 0.0004365875343113789]\n",
      "New queried dataset size: 56\n",
      "Combined dataset size: 368\n",
      "Saved augmented training data at output_bradley_terry_n_steps_100/R3_T5_Q8_acq_uncertainty_noise_0.0/REINVENT_round_1/HITL_iteration_3/iteration_combined_data.csv\n",
      "Epoch 5, Loss: 0.5194727852940559\n",
      "Epoch 10, Loss: 0.5194302052259445\n",
      "Epoch 15, Loss: 0.5193713381886482\n",
      "Epoch 20, Loss: 0.5193053707480431\n",
      "Epoch 25, Loss: 0.5192697942256927\n",
      "Saved retrained feedback model at output_bradley_terry_n_steps_100/R3_T5_Q8_acq_uncertainty_noise_0.0/REINVENT_round_1/HITL_iteration_3/bradley_terry_model.pth\n",
      "----------------------------------\n",
      "HITL iteration = 4\n",
      "Loading Bradley Terry model successfully from output_bradley_terry_n_steps_100/R3_T5_Q8_acq_uncertainty_noise_0.0/REINVENT_round_1/HITL_iteration_3/bradley_terry_model.pth\n",
      "B1 processed | B2 processed | B3 processed | B4 processed | B5 processed | B6 processed | B7 processed | B8 processed | B9 processed | B10 processed | B11 processed | B12 processed | B13 processed | B14 processed | B15 processed | B16 processed | B17 processed | B18 processed | B19 processed | B20 processed | B21 processed | B22 processed | B23 processed | B24 processed | B25 processed | B26 processed | B27 processed | B28 processed | B29 processed | B30 processed | B31 processed | "
     ]
    },
    {
     "name": "stderr",
     "output_type": "stream",
     "text": [
      "Found local copy...\n"
     ]
    },
    {
     "name": "stdout",
     "output_type": "stream",
     "text": [
      "B32 processed | Human score at HITL iteration 4: [0.0030303895010010615, 0.0018455858545658095, 0.02424237115925525, 0.002735155283666129, 0.011811357328231185, 0.00116452180101434, 0.023633871903002684, 0.0188580495954744]\n",
      "New queried dataset size: 56\n",
      "Combined dataset size: 424\n",
      "Saved augmented training data at output_bradley_terry_n_steps_100/R3_T5_Q8_acq_uncertainty_noise_0.0/REINVENT_round_1/HITL_iteration_4/iteration_combined_data.csv\n",
      "Epoch 5, Loss: 1.2116405591368675\n",
      "Epoch 10, Loss: 1.211605228483677\n",
      "Epoch 15, Loss: 1.2114390134811401\n",
      "Epoch 20, Loss: 1.2111882790923119\n",
      "Epoch 25, Loss: 1.2111053615808487\n",
      "Saved retrained feedback model at output_bradley_terry_n_steps_100/R3_T5_Q8_acq_uncertainty_noise_0.0/REINVENT_round_1/HITL_iteration_4/bradley_terry_model.pth\n",
      "----------------------------------\n",
      "HITL iteration = 5\n",
      "Loading Bradley Terry model successfully from output_bradley_terry_n_steps_100/R3_T5_Q8_acq_uncertainty_noise_0.0/REINVENT_round_1/HITL_iteration_4/bradley_terry_model.pth\n",
      "B1 processed | B2 processed | B3 processed | B4 processed | B5 processed | B6 processed | B7 processed | B8 processed | B9 processed | B10 processed | B11 processed | B12 processed | B13 processed | B14 processed | B15 processed | B16 processed | B17 processed | B18 processed | B19 processed | B20 processed | B21 processed | B22 processed | B23 processed | B24 processed | B25 processed | B26 processed | B27 processed | B28 processed | B29 processed | B30 processed | B31 processed | "
     ]
    },
    {
     "name": "stderr",
     "output_type": "stream",
     "text": [
      "Found local copy...\n"
     ]
    },
    {
     "name": "stdout",
     "output_type": "stream",
     "text": [
      "B32 processed | Human score at HITL iteration 5: [0.003101895062255366, 0.003788761673547987, 0.005310119052172629, 0.0016953354679094968, 0.001863429146346757, 0.012737387640258195, 0.0016630455626806657, 0.0025549643311054875]\n",
      "New queried dataset size: 56\n",
      "Combined dataset size: 480\n",
      "Saved augmented training data at output_bradley_terry_n_steps_100/R3_T5_Q8_acq_uncertainty_noise_0.0/REINVENT_round_1/HITL_iteration_5/iteration_combined_data.csv\n",
      "Epoch 5, Loss: 0.3244046848267317\n",
      "Epoch 10, Loss: 0.3243576232343912\n",
      "Epoch 15, Loss: 0.3243064470589161\n",
      "Epoch 20, Loss: 0.32425121776759624\n",
      "Epoch 25, Loss: 0.32419054210186005\n",
      "Saved retrained feedback model at output_bradley_terry_n_steps_100/R3_T5_Q8_acq_uncertainty_noise_0.0/REINVENT_round_1/HITL_iteration_5/bradley_terry_model.pth\n",
      "=====================================\n",
      "REINVENT round = 2\n",
      "Creating config file: output_bradley_terry_n_steps_100/R3_T5_Q8_acq_uncertainty_noise_0.0/REINVENT_round_2/config.json.\n",
      "Run REINVENT\n",
      "Exit code: 0\n",
      "Number of SMILES in scaffold_memory.csv:  5011\n",
      "----------------------------------\n",
      "HITL iteration = 1\n",
      "Loading Bradley Terry model successfully from output_bradley_terry_n_steps_100/R3_T5_Q8_acq_uncertainty_noise_0.0/REINVENT_round_1/HITL_iteration_5/bradley_terry_model.pth\n",
      "B1 processed | B2 processed | B3 processed | B4 processed | B5 processed | B6 processed | B7 processed | B8 processed | B9 processed | B10 processed | B11 processed | B12 processed | B13 processed | B14 processed | B15 processed | B16 processed | B17 processed | B18 processed | B19 processed | B20 processed | B21 processed | B22 processed | B23 processed | B24 processed | B25 processed | B26 processed | B27 processed | B28 processed | B29 processed | B30 processed | B31 processed | "
     ]
    },
    {
     "name": "stderr",
     "output_type": "stream",
     "text": [
      "Found local copy...\n"
     ]
    },
    {
     "name": "stdout",
     "output_type": "stream",
     "text": [
      "B32 processed | Human score at HITL iteration 1: [0.47647350342920547, 0.9307022942621621, 0.19616999252149628, 0.21809776797123578, 0.13287469463296936, 0.07528893326029223, 0.030122255719028615, 0.031422182361981764]\n",
      "New queried dataset size: 56\n",
      "Combined dataset size: 536\n",
      "Saved augmented training data at output_bradley_terry_n_steps_100/R3_T5_Q8_acq_uncertainty_noise_0.0/REINVENT_round_2/HITL_iteration_1/iteration_combined_data.csv\n",
      "Epoch 5, Loss: 0.48990869770447415\n",
      "Epoch 10, Loss: 0.4898034284512202\n",
      "Epoch 15, Loss: 0.48967936138312024\n",
      "Epoch 20, Loss: 0.48957482477029163\n",
      "Epoch 25, Loss: 0.4894455373287201\n",
      "Saved retrained feedback model at output_bradley_terry_n_steps_100/R3_T5_Q8_acq_uncertainty_noise_0.0/REINVENT_round_2/HITL_iteration_1/bradley_terry_model.pth\n",
      "----------------------------------\n",
      "HITL iteration = 2\n",
      "Loading Bradley Terry model successfully from output_bradley_terry_n_steps_100/R3_T5_Q8_acq_uncertainty_noise_0.0/REINVENT_round_2/HITL_iteration_1/bradley_terry_model.pth\n",
      "B1 processed | B2 processed | B3 processed | B4 processed | B5 processed | B6 processed | B7 processed | B8 processed | B9 processed | B10 processed | B11 processed | B12 processed | B13 processed | B14 processed | B15 processed | B16 processed | B17 processed | B18 processed | B19 processed | B20 processed | B21 processed | B22 processed | B23 processed | B24 processed | B25 processed | B26 processed | B27 processed | B28 processed | B29 processed | B30 processed | B31 processed | "
     ]
    },
    {
     "name": "stderr",
     "output_type": "stream",
     "text": [
      "Found local copy...\n"
     ]
    },
    {
     "name": "stdout",
     "output_type": "stream",
     "text": [
      "B32 processed | Human score at HITL iteration 2: [0.8857830381293792, 0.08463782721854325, 0.38054865825884826, 0.5, 0.07260685757094362, 0.05723328457039798, 0.5633840160672563, 0.0034582538641472612]\n",
      "New queried dataset size: 56\n",
      "Combined dataset size: 592\n",
      "Saved augmented training data at output_bradley_terry_n_steps_100/R3_T5_Q8_acq_uncertainty_noise_0.0/REINVENT_round_2/HITL_iteration_2/iteration_combined_data.csv\n",
      "Epoch 5, Loss: 0.820600725710392\n",
      "Epoch 10, Loss: 0.8203552663326263\n",
      "Epoch 15, Loss: 0.8200594149529934\n",
      "Epoch 20, Loss: 0.8198315873742104\n",
      "Epoch 25, Loss: 0.8193659335374832\n",
      "Saved retrained feedback model at output_bradley_terry_n_steps_100/R3_T5_Q8_acq_uncertainty_noise_0.0/REINVENT_round_2/HITL_iteration_2/bradley_terry_model.pth\n",
      "----------------------------------\n",
      "HITL iteration = 3\n",
      "Loading Bradley Terry model successfully from output_bradley_terry_n_steps_100/R3_T5_Q8_acq_uncertainty_noise_0.0/REINVENT_round_2/HITL_iteration_2/bradley_terry_model.pth\n",
      "B1 processed | B2 processed | B3 processed | B4 processed | B5 processed | B6 processed | B7 processed | B8 processed | B9 processed | B10 processed | B11 processed | B12 processed | B13 processed | B14 processed | B15 processed | B16 processed | B17 processed | B18 processed | B19 processed | B20 processed | B21 processed | B22 processed | B23 processed | B24 processed | B25 processed | B26 processed | B27 processed | B28 processed | B29 processed | B30 processed | B31 processed | "
     ]
    },
    {
     "name": "stderr",
     "output_type": "stream",
     "text": [
      "Found local copy...\n"
     ]
    },
    {
     "name": "stdout",
     "output_type": "stream",
     "text": [
      "B32 processed | Human score at HITL iteration 3: [0.0629696530242022, 0.058377336135156485, 0.9268716327662263, 0.3128895519232362, 0.480058713315849, 0.10861734665925654, 0.41364980350488495, 0.6630418446709413]\n",
      "New queried dataset size: 56\n",
      "Combined dataset size: 648\n",
      "Saved augmented training data at output_bradley_terry_n_steps_100/R3_T5_Q8_acq_uncertainty_noise_0.0/REINVENT_round_2/HITL_iteration_3/iteration_combined_data.csv\n",
      "Epoch 5, Loss: 1.811353586614132\n",
      "Epoch 10, Loss: 1.8108002319931984\n",
      "Epoch 15, Loss: 1.8099960461258888\n",
      "Epoch 20, Loss: 1.808818556368351\n",
      "Epoch 25, Loss: 1.807961754500866\n",
      "Saved retrained feedback model at output_bradley_terry_n_steps_100/R3_T5_Q8_acq_uncertainty_noise_0.0/REINVENT_round_2/HITL_iteration_3/bradley_terry_model.pth\n",
      "----------------------------------\n",
      "HITL iteration = 4\n",
      "Loading Bradley Terry model successfully from output_bradley_terry_n_steps_100/R3_T5_Q8_acq_uncertainty_noise_0.0/REINVENT_round_2/HITL_iteration_3/bradley_terry_model.pth\n",
      "B1 processed | B2 processed | B3 processed | B4 processed | B5 processed | B6 processed | B7 processed | B8 processed | B9 processed | B10 processed | B11 processed | B12 processed | B13 processed | B14 processed | B15 processed | B16 processed | B17 processed | B18 processed | B19 processed | B20 processed | B21 processed | B22 processed | B23 processed | B24 processed | B25 processed | B26 processed | B27 processed | B28 processed | B29 processed | B30 processed | B31 processed | "
     ]
    },
    {
     "name": "stderr",
     "output_type": "stream",
     "text": [
      "Found local copy...\n"
     ]
    },
    {
     "name": "stdout",
     "output_type": "stream",
     "text": [
      "B32 processed | Human score at HITL iteration 4: [0.9785060270903793, 0.046311945258753914, 0.49151127976111275, 0.913062040065361, 0.0645356346296378, 0.9837509684954564, 0.45083057400233134, 0.03388770584337817]\n",
      "New queried dataset size: 56\n",
      "Combined dataset size: 704\n",
      "Saved augmented training data at output_bradley_terry_n_steps_100/R3_T5_Q8_acq_uncertainty_noise_0.0/REINVENT_round_2/HITL_iteration_4/iteration_combined_data.csv\n",
      "Epoch 5, Loss: 0.4735008329153061\n",
      "Epoch 10, Loss: 0.4732173699885607\n",
      "Epoch 15, Loss: 0.47291288897395134\n",
      "Epoch 20, Loss: 0.47258439287543297\n",
      "Epoch 25, Loss: 0.4722300320863724\n",
      "Saved retrained feedback model at output_bradley_terry_n_steps_100/R3_T5_Q8_acq_uncertainty_noise_0.0/REINVENT_round_2/HITL_iteration_4/bradley_terry_model.pth\n",
      "----------------------------------\n",
      "HITL iteration = 5\n",
      "Loading Bradley Terry model successfully from output_bradley_terry_n_steps_100/R3_T5_Q8_acq_uncertainty_noise_0.0/REINVENT_round_2/HITL_iteration_4/bradley_terry_model.pth\n",
      "B1 processed | B2 processed | B3 processed | B4 processed | B5 processed | B6 processed | B7 processed | B8 processed | B9 processed | B10 processed | B11 processed | B12 processed | B13 processed | B14 processed | B15 processed | B16 processed | B17 processed | B18 processed | B19 processed | B20 processed | B21 processed | B22 processed | B23 processed | B24 processed | B25 processed | B26 processed | B27 processed | B28 processed | B29 processed | B30 processed | B31 processed | "
     ]
    },
    {
     "name": "stderr",
     "output_type": "stream",
     "text": [
      "Found local copy...\n"
     ]
    },
    {
     "name": "stdout",
     "output_type": "stream",
     "text": [
      "B32 processed | Human score at HITL iteration 5: [0.674929559145446, 0.8316639122528494, 0.06397996536132795, 0.034875748069719284, 0.9057752306228789, 0.029771602502750114, 0.950154371104316, 0.02000426936584409]\n",
      "New queried dataset size: 56\n",
      "Combined dataset size: 760\n",
      "Saved augmented training data at output_bradley_terry_n_steps_100/R3_T5_Q8_acq_uncertainty_noise_0.0/REINVENT_round_2/HITL_iteration_5/iteration_combined_data.csv\n",
      "Epoch 5, Loss: 0.6867915590604147\n",
      "Epoch 10, Loss: 0.6862330461541811\n",
      "Epoch 15, Loss: 0.6856241474548975\n",
      "Epoch 20, Loss: 0.6849422579010328\n",
      "Epoch 25, Loss: 0.6843659952282906\n",
      "Saved retrained feedback model at output_bradley_terry_n_steps_100/R3_T5_Q8_acq_uncertainty_noise_0.0/REINVENT_round_2/HITL_iteration_5/bradley_terry_model.pth\n",
      "=====================================\n",
      "REINVENT round = 3\n",
      "Creating config file: output_bradley_terry_n_steps_100/R3_T5_Q8_acq_uncertainty_noise_0.0/REINVENT_round_3/config.json.\n",
      "Run REINVENT\n",
      "Exit code: 0\n",
      "Number of SMILES in scaffold_memory.csv:  5018\n",
      "----------------------------------\n",
      "HITL iteration = 1\n",
      "Loading Bradley Terry model successfully from output_bradley_terry_n_steps_100/R3_T5_Q8_acq_uncertainty_noise_0.0/REINVENT_round_2/HITL_iteration_5/bradley_terry_model.pth\n",
      "B1 processed | B2 processed | B3 processed | B4 processed | B5 processed | B6 processed | B7 processed | B8 processed | B9 processed | B10 processed | B11 processed | B12 processed | B13 processed | B14 processed | B15 processed | B16 processed | B17 processed | B18 processed | B19 processed | B20 processed | B21 processed | B22 processed | B23 processed | B24 processed | B25 processed | B26 processed | B27 processed | B28 processed | B29 processed | B30 processed | B31 processed | "
     ]
    },
    {
     "name": "stderr",
     "output_type": "stream",
     "text": [
      "Found local copy...\n"
     ]
    },
    {
     "name": "stdout",
     "output_type": "stream",
     "text": [
      "B32 processed | Human score at HITL iteration 1: [0.0922366198140413, 0.09841809506053044, 0.018698009223493663, 0.0026271374234826408, 0.3703727365821331, 0.17796453474028875, 0.6643251340310024, 0.4324735002539691]\n",
      "New queried dataset size: 56\n",
      "Combined dataset size: 816\n",
      "Saved augmented training data at output_bradley_terry_n_steps_100/R3_T5_Q8_acq_uncertainty_noise_0.0/REINVENT_round_3/HITL_iteration_1/iteration_combined_data.csv\n",
      "Epoch 5, Loss: 1.112001933157444\n",
      "Epoch 10, Loss: 1.1106475666165352\n",
      "Epoch 15, Loss: 1.1098204404115677\n",
      "Epoch 20, Loss: 1.1085877567529678\n",
      "Epoch 25, Loss: 1.107178445905447\n",
      "Saved retrained feedback model at output_bradley_terry_n_steps_100/R3_T5_Q8_acq_uncertainty_noise_0.0/REINVENT_round_3/HITL_iteration_1/bradley_terry_model.pth\n",
      "----------------------------------\n",
      "HITL iteration = 2\n",
      "Loading Bradley Terry model successfully from output_bradley_terry_n_steps_100/R3_T5_Q8_acq_uncertainty_noise_0.0/REINVENT_round_3/HITL_iteration_1/bradley_terry_model.pth\n",
      "B1 processed | B2 processed | B3 processed | B4 processed | B5 processed | B6 processed | B7 processed | B8 processed | B9 processed | B10 processed | B11 processed | B12 processed | B13 processed | B14 processed | B15 processed | B16 processed | B17 processed | B18 processed | B19 processed | B20 processed | B21 processed | B22 processed | B23 processed | B24 processed | B25 processed | B26 processed | B27 processed | B28 processed | B29 processed | B30 processed | B31 processed | "
     ]
    },
    {
     "name": "stderr",
     "output_type": "stream",
     "text": [
      "Found local copy...\n"
     ]
    },
    {
     "name": "stdout",
     "output_type": "stream",
     "text": [
      "B32 processed | Human score at HITL iteration 2: [0.06365793939578411, 0.03541369174647129, 0.050949577566351094, 0.10083469016300009, 0.9028088367805853, 0.9297645589163406, 0.586364024180676, 0.9751277803482011]\n",
      "New queried dataset size: 56\n",
      "Combined dataset size: 872\n",
      "Saved augmented training data at output_bradley_terry_n_steps_100/R3_T5_Q8_acq_uncertainty_noise_0.0/REINVENT_round_3/HITL_iteration_2/iteration_combined_data.csv\n",
      "Epoch 5, Loss: 2.385057643055916\n",
      "Epoch 10, Loss: 2.3826849907636642\n",
      "Epoch 15, Loss: 2.378015100955963\n",
      "Epoch 20, Loss: 2.3759644478559494\n",
      "Epoch 25, Loss: 2.373766243457794\n",
      "Saved retrained feedback model at output_bradley_terry_n_steps_100/R3_T5_Q8_acq_uncertainty_noise_0.0/REINVENT_round_3/HITL_iteration_2/bradley_terry_model.pth\n",
      "----------------------------------\n",
      "HITL iteration = 3\n",
      "Loading Bradley Terry model successfully from output_bradley_terry_n_steps_100/R3_T5_Q8_acq_uncertainty_noise_0.0/REINVENT_round_3/HITL_iteration_2/bradley_terry_model.pth\n",
      "B1 processed | B2 processed | B3 processed | B4 processed | B5 processed | B6 processed | B7 processed | B8 processed | B9 processed | B10 processed | B11 processed | B12 processed | B13 processed | B14 processed | B15 processed | B16 processed | B17 processed | B18 processed | B19 processed | B20 processed | B21 processed | B22 processed | B23 processed | B24 processed | B25 processed | B26 processed | B27 processed | B28 processed | B29 processed | B30 processed | B31 processed | "
     ]
    },
    {
     "name": "stderr",
     "output_type": "stream",
     "text": [
      "Found local copy...\n"
     ]
    },
    {
     "name": "stdout",
     "output_type": "stream",
     "text": [
      "B32 processed | Human score at HITL iteration 3: [0.48572010341723143, 0.8865984641253493, 0.9590918300266617, 0.3188750968185256, 0.010290537853909982, 0.20796788910519495, 0.14826915193507995, 0.01658264868099124]\n",
      "New queried dataset size: 56\n",
      "Combined dataset size: 928\n",
      "Saved augmented training data at output_bradley_terry_n_steps_100/R3_T5_Q8_acq_uncertainty_noise_0.0/REINVENT_round_3/HITL_iteration_3/iteration_combined_data.csv\n",
      "Epoch 5, Loss: 0.614621464163065\n",
      "Epoch 10, Loss: 0.6138672605156898\n",
      "Epoch 15, Loss: 0.6131340693682432\n",
      "Epoch 20, Loss: 0.6124178860336542\n",
      "Epoch 25, Loss: 0.6117369811981916\n",
      "Saved retrained feedback model at output_bradley_terry_n_steps_100/R3_T5_Q8_acq_uncertainty_noise_0.0/REINVENT_round_3/HITL_iteration_3/bradley_terry_model.pth\n",
      "----------------------------------\n",
      "HITL iteration = 4\n",
      "Loading Bradley Terry model successfully from output_bradley_terry_n_steps_100/R3_T5_Q8_acq_uncertainty_noise_0.0/REINVENT_round_3/HITL_iteration_3/bradley_terry_model.pth\n",
      "B1 processed | B2 processed | B3 processed | B4 processed | B5 processed | B6 processed | B7 processed | B8 processed | B9 processed | B10 processed | B11 processed | B12 processed | B13 processed | B14 processed | B15 processed | B16 processed | B17 processed | B18 processed | B19 processed | B20 processed | B21 processed | B22 processed | B23 processed | B24 processed | B25 processed | B26 processed | B27 processed | B28 processed | B29 processed | B30 processed | B31 processed | "
     ]
    },
    {
     "name": "stderr",
     "output_type": "stream",
     "text": [
      "Found local copy...\n"
     ]
    },
    {
     "name": "stdout",
     "output_type": "stream",
     "text": [
      "B32 processed | Human score at HITL iteration 4: [0.042791603620099115, 0.9449139635824343, 0.013866554054886964, 0.5218357391420372, 0.036221416152745205, 0.05643063182313027, 0.01856196599536398, 0.05833827956326468]\n",
      "New queried dataset size: 56\n",
      "Combined dataset size: 984\n",
      "Saved augmented training data at output_bradley_terry_n_steps_100/R3_T5_Q8_acq_uncertainty_noise_0.0/REINVENT_round_3/HITL_iteration_4/iteration_combined_data.csv\n",
      "Epoch 5, Loss: 0.8721255585551262\n",
      "Epoch 10, Loss: 0.8711348126331965\n",
      "Epoch 15, Loss: 0.870076447725296\n",
      "Epoch 20, Loss: 0.8692303970456123\n",
      "Epoch 25, Loss: 0.8683956041932106\n",
      "Saved retrained feedback model at output_bradley_terry_n_steps_100/R3_T5_Q8_acq_uncertainty_noise_0.0/REINVENT_round_3/HITL_iteration_4/bradley_terry_model.pth\n",
      "----------------------------------\n",
      "HITL iteration = 5\n",
      "Loading Bradley Terry model successfully from output_bradley_terry_n_steps_100/R3_T5_Q8_acq_uncertainty_noise_0.0/REINVENT_round_3/HITL_iteration_4/bradley_terry_model.pth\n",
      "B1 processed | B2 processed | B3 processed | B4 processed | B5 processed | B6 processed | B7 processed | B8 processed | B9 processed | B10 processed | B11 processed | B12 processed | B13 processed | B14 processed | B15 processed | B16 processed | B17 processed | B18 processed | B19 processed | B20 processed | B21 processed | B22 processed | B23 processed | B24 processed | B25 processed | B26 processed | B27 processed | B28 processed | B29 processed | B30 processed | B31 processed | "
     ]
    },
    {
     "name": "stderr",
     "output_type": "stream",
     "text": [
      "Found local copy...\n"
     ]
    },
    {
     "name": "stdout",
     "output_type": "stream",
     "text": [
      "B32 processed | Human score at HITL iteration 5: [0.007058094448683913, 0.012281854157498103, 0.6294648984761666, 0.11658139319840204, 0.17763777613403034, 0.808947298211348, 0.04227583366739886, 0.6137574213314975]\n",
      "New queried dataset size: 56\n",
      "Combined dataset size: 1040\n",
      "Saved augmented training data at output_bradley_terry_n_steps_100/R3_T5_Q8_acq_uncertainty_noise_0.0/REINVENT_round_3/HITL_iteration_5/iteration_combined_data.csv\n",
      "Epoch 5, Loss: 1.3872549645602703\n",
      "Epoch 10, Loss: 1.3859442956745625\n",
      "Epoch 15, Loss: 1.3848578110337257\n",
      "Epoch 20, Loss: 1.383369006216526\n",
      "Epoch 25, Loss: 1.3822244554758072\n",
      "Saved retrained feedback model at output_bradley_terry_n_steps_100/R3_T5_Q8_acq_uncertainty_noise_0.0/REINVENT_round_3/HITL_iteration_5/bradley_terry_model.pth\n",
      "=====================================\n",
      "REINVENT round = 4\n",
      "Creating config file: output_bradley_terry_n_steps_100/R3_T5_Q8_acq_uncertainty_noise_0.0/REINVENT_round_4/config.json.\n",
      "Run REINVENT\n",
      "Exit code: 0\n",
      "\n",
      "*******************************************************************\n",
      "Running HITL with uncertainty acquisition and noise 0.1\n",
      "\n",
      "Running DRD2 (one objective) with rounds 3, iters 5, queries 8, seed 42\n",
      "Results will be saved at output_bradley_terry_n_steps_100/R3_T5_Q8_acq_uncertainty_noise_0.1\n",
      "Loading initial training datasets successfully\n",
      "=====================================\n",
      "REINVENT round = 1\n",
      "Creating config file: output_bradley_terry_n_steps_100/R3_T5_Q8_acq_uncertainty_noise_0.1/REINVENT_round_1/config.json.\n",
      "Run REINVENT\n",
      "Exit code: 0\n",
      "Number of SMILES in scaffold_memory.csv:  4999\n",
      "----------------------------------\n",
      "HITL iteration = 1\n",
      "Loading Bradley Terry model successfully from /home/springnuance/reinvent-hitl/Base-Code-Binh/training_Bradley_Terry_model/bradley_terry_model.pth\n",
      "B1 processed | B2 processed | B3 processed | B4 processed | B5 processed | B6 processed | B7 processed | B8 processed | B9 processed | B10 processed | B11 processed | B12 processed | B13 processed | B14 processed | B15 processed | B16 processed | B17 processed | B18 processed | B19 processed | B20 processed | B21 processed | B22 processed | B23 processed | B24 processed | B25 processed | B26 processed | B27 processed | B28 processed | B29 processed | B30 processed | B31 processed | "
     ]
    },
    {
     "name": "stderr",
     "output_type": "stream",
     "text": [
      "Found local copy...\n"
     ]
    },
    {
     "name": "stdout",
     "output_type": "stream",
     "text": [
      "B32 processed | Human score at HITL iteration 1: [0.05078160109331271, 0.8473044711904966, 0.1768986436781071, 0.15752267106047235, 0.0, 0.0, 0.1586234366784945, 0.08024980020984387]\n",
      "New queried dataset size: 56\n",
      "Combined dataset size: 256\n",
      "Saved augmented training data at output_bradley_terry_n_steps_100/R3_T5_Q8_acq_uncertainty_noise_0.1/REINVENT_round_1/HITL_iteration_1/iteration_combined_data.csv\n",
      "Epoch 5, Loss: 0.17326255328953266\n",
      "Epoch 10, Loss: 0.1732468232512474\n",
      "Epoch 15, Loss: 0.17323093675076962\n",
      "Epoch 20, Loss: 0.17321491055190563\n",
      "Epoch 25, Loss: 0.17319879867136478\n",
      "Saved retrained feedback model at output_bradley_terry_n_steps_100/R3_T5_Q8_acq_uncertainty_noise_0.1/REINVENT_round_1/HITL_iteration_1/bradley_terry_model.pth\n",
      "----------------------------------\n",
      "HITL iteration = 2\n",
      "Loading Bradley Terry model successfully from output_bradley_terry_n_steps_100/R3_T5_Q8_acq_uncertainty_noise_0.1/REINVENT_round_1/HITL_iteration_1/bradley_terry_model.pth\n",
      "B1 processed | B2 processed | B3 processed | B4 processed | B5 processed | B6 processed | B7 processed | B8 processed | B9 processed | B10 processed | B11 processed | B12 processed | B13 processed | B14 processed | B15 processed | B16 processed | B17 processed | B18 processed | B19 processed | B20 processed | B21 processed | B22 processed | B23 processed | B24 processed | B25 processed | B26 processed | B27 processed | B28 processed | B29 processed | B30 processed | B31 processed | "
     ]
    },
    {
     "name": "stderr",
     "output_type": "stream",
     "text": [
      "Found local copy...\n"
     ]
    },
    {
     "name": "stdout",
     "output_type": "stream",
     "text": [
      "B32 processed | Human score at HITL iteration 2: [0.6110327427451129, 0.3178569570745927, 0.0, 0.024415831452660422, 0.026999528275130448, 0.0, 0.0, 0.0]\n",
      "New queried dataset size: 56\n",
      "Combined dataset size: 312\n",
      "Saved augmented training data at output_bradley_terry_n_steps_100/R3_T5_Q8_acq_uncertainty_noise_0.1/REINVENT_round_1/HITL_iteration_2/iteration_combined_data.csv\n",
      "Epoch 5, Loss: 0.28866341213385266\n",
      "Epoch 10, Loss: 0.2886321693658829\n",
      "Epoch 15, Loss: 0.2886016443371773\n",
      "Epoch 20, Loss: 0.28856710096200305\n",
      "Epoch 25, Loss: 0.2885348175962766\n",
      "Saved retrained feedback model at output_bradley_terry_n_steps_100/R3_T5_Q8_acq_uncertainty_noise_0.1/REINVENT_round_1/HITL_iteration_2/bradley_terry_model.pth\n",
      "----------------------------------\n",
      "HITL iteration = 3\n",
      "Loading Bradley Terry model successfully from output_bradley_terry_n_steps_100/R3_T5_Q8_acq_uncertainty_noise_0.1/REINVENT_round_1/HITL_iteration_2/bradley_terry_model.pth\n",
      "B1 processed | B2 processed | B3 processed | B4 processed | B5 processed | B6 processed | B7 processed | B8 processed | B9 processed | B10 processed | B11 processed | B12 processed | B13 processed | B14 processed | B15 processed | B16 processed | B17 processed | B18 processed | B19 processed | B20 processed | B21 processed | B22 processed | B23 processed | B24 processed | B25 processed | B26 processed | B27 processed | B28 processed | B29 processed | B30 processed | B31 processed | "
     ]
    },
    {
     "name": "stderr",
     "output_type": "stream",
     "text": [
      "Found local copy...\n"
     ]
    },
    {
     "name": "stdout",
     "output_type": "stream",
     "text": [
      "B32 processed | Human score at HITL iteration 3: [0.0, 0.04338083020070599, 0.0, 0.0, 0.14890034679424877, 0.0, 0.013311776232466287, 0.0]\n",
      "New queried dataset size: 56\n",
      "Combined dataset size: 368\n",
      "Saved augmented training data at output_bradley_terry_n_steps_100/R3_T5_Q8_acq_uncertainty_noise_0.1/REINVENT_round_1/HITL_iteration_3/iteration_combined_data.csv\n",
      "Epoch 5, Loss: 0.5193906053900719\n",
      "Epoch 10, Loss: 0.5193201750516891\n",
      "Epoch 15, Loss: 0.5192557238042355\n",
      "Epoch 20, Loss: 0.5191906541585922\n",
      "Epoch 25, Loss: 0.5191079899668694\n",
      "Saved retrained feedback model at output_bradley_terry_n_steps_100/R3_T5_Q8_acq_uncertainty_noise_0.1/REINVENT_round_1/HITL_iteration_3/bradley_terry_model.pth\n",
      "----------------------------------\n",
      "HITL iteration = 4\n",
      "Loading Bradley Terry model successfully from output_bradley_terry_n_steps_100/R3_T5_Q8_acq_uncertainty_noise_0.1/REINVENT_round_1/HITL_iteration_3/bradley_terry_model.pth\n",
      "B1 processed | B2 processed | B3 processed | B4 processed | B5 processed | B6 processed | B7 processed | B8 processed | B9 processed | B10 processed | B11 processed | B12 processed | B13 processed | B14 processed | B15 processed | B16 processed | B17 processed | B18 processed | B19 processed | B20 processed | B21 processed | B22 processed | B23 processed | B24 processed | B25 processed | B26 processed | B27 processed | B28 processed | B29 processed | B30 processed | B31 processed | "
     ]
    },
    {
     "name": "stderr",
     "output_type": "stream",
     "text": [
      "Found local copy...\n"
     ]
    },
    {
     "name": "stdout",
     "output_type": "stream",
     "text": [
      "B32 processed | Human score at HITL iteration 4: [0.0, 0.018476730188530317, 0.0, 0.044643057295785084, 0.0, 0.0, 0.0, 0.2075574864393163]\n",
      "New queried dataset size: 56\n",
      "Combined dataset size: 424\n",
      "Saved augmented training data at output_bradley_terry_n_steps_100/R3_T5_Q8_acq_uncertainty_noise_0.1/REINVENT_round_1/HITL_iteration_4/iteration_combined_data.csv\n",
      "Epoch 5, Loss: 1.211396001279354\n",
      "Epoch 10, Loss: 1.21114032715559\n",
      "Epoch 15, Loss: 1.2109474688768387\n",
      "Epoch 20, Loss: 1.2107356265187263\n",
      "Epoch 25, Loss: 1.210624821484089\n",
      "Saved retrained feedback model at output_bradley_terry_n_steps_100/R3_T5_Q8_acq_uncertainty_noise_0.1/REINVENT_round_1/HITL_iteration_4/bradley_terry_model.pth\n",
      "----------------------------------\n",
      "HITL iteration = 5\n",
      "Loading Bradley Terry model successfully from output_bradley_terry_n_steps_100/R3_T5_Q8_acq_uncertainty_noise_0.1/REINVENT_round_1/HITL_iteration_4/bradley_terry_model.pth\n",
      "B1 processed | B2 processed | B3 processed | B4 processed | B5 processed | B6 processed | B7 processed | B8 processed | B9 processed | B10 processed | B11 processed | B12 processed | B13 processed | B14 processed | B15 processed | B16 processed | B17 processed | B18 processed | B19 processed | B20 processed | B21 processed | B22 processed | B23 processed | B24 processed | B25 processed | B26 processed | B27 processed | B28 processed | B29 processed | B30 processed | B31 processed | "
     ]
    },
    {
     "name": "stderr",
     "output_type": "stream",
     "text": [
      "Found local copy...\n"
     ]
    },
    {
     "name": "stdout",
     "output_type": "stream",
     "text": [
      "B32 processed | Human score at HITL iteration 5: [0.0, 0.02118984998650221, 0.17759213336505938, 0.0, 0.024027734840541718, 0.0, 0.0, 0.033970640032362505]\n",
      "New queried dataset size: 56\n",
      "Combined dataset size: 480\n",
      "Saved augmented training data at output_bradley_terry_n_steps_100/R3_T5_Q8_acq_uncertainty_noise_0.1/REINVENT_round_1/HITL_iteration_5/iteration_combined_data.csv\n",
      "Epoch 5, Loss: 0.3242576830089092\n",
      "Epoch 10, Loss: 0.32419404946267605\n",
      "Epoch 15, Loss: 0.3241254147142172\n",
      "Epoch 20, Loss: 0.3240503519773483\n",
      "Epoch 25, Loss: 0.32396798953413963\n",
      "Saved retrained feedback model at output_bradley_terry_n_steps_100/R3_T5_Q8_acq_uncertainty_noise_0.1/REINVENT_round_1/HITL_iteration_5/bradley_terry_model.pth\n",
      "=====================================\n",
      "REINVENT round = 2\n",
      "Creating config file: output_bradley_terry_n_steps_100/R3_T5_Q8_acq_uncertainty_noise_0.1/REINVENT_round_2/config.json.\n",
      "Run REINVENT\n",
      "Exit code: 0\n",
      "Number of SMILES in scaffold_memory.csv:  4982\n",
      "----------------------------------\n",
      "HITL iteration = 1\n",
      "Loading Bradley Terry model successfully from output_bradley_terry_n_steps_100/R3_T5_Q8_acq_uncertainty_noise_0.1/REINVENT_round_1/HITL_iteration_5/bradley_terry_model.pth\n",
      "B1 processed | B2 processed | B3 processed | B4 processed | B5 processed | B6 processed | B7 processed | B8 processed | B9 processed | B10 processed | B11 processed | B12 processed | B13 processed | B14 processed | B15 processed | B16 processed | B17 processed | B18 processed | B19 processed | B20 processed | B21 processed | B22 processed | B23 processed | B24 processed | B25 processed | B26 processed | B27 processed | B28 processed | B29 processed | B30 processed | B31 processed | "
     ]
    },
    {
     "name": "stderr",
     "output_type": "stream",
     "text": [
      "Found local copy...\n"
     ]
    },
    {
     "name": "stdout",
     "output_type": "stream",
     "text": [
      "B32 processed | Human score at HITL iteration 1: [0.3153000519584172, 0.7582806314848285, 0.02775872078014738, 0.8587143665551478, 0.0, 0.9030511732940231, 0.839952791480131, 0.16773110058746152]\n",
      "New queried dataset size: 56\n",
      "Combined dataset size: 536\n",
      "Saved augmented training data at output_bradley_terry_n_steps_100/R3_T5_Q8_acq_uncertainty_noise_0.1/REINVENT_round_2/HITL_iteration_1/iteration_combined_data.csv\n",
      "Epoch 5, Loss: 0.4895668625831604\n",
      "Epoch 10, Loss: 0.4894406547149022\n",
      "Epoch 15, Loss: 0.48928363621234894\n",
      "Epoch 20, Loss: 0.4891042436162631\n",
      "Epoch 25, Loss: 0.4889223451415698\n",
      "Saved retrained feedback model at output_bradley_terry_n_steps_100/R3_T5_Q8_acq_uncertainty_noise_0.1/REINVENT_round_2/HITL_iteration_1/bradley_terry_model.pth\n",
      "----------------------------------\n",
      "HITL iteration = 2\n",
      "Loading Bradley Terry model successfully from output_bradley_terry_n_steps_100/R3_T5_Q8_acq_uncertainty_noise_0.1/REINVENT_round_2/HITL_iteration_1/bradley_terry_model.pth\n",
      "B1 processed | B2 processed | B3 processed | B4 processed | B5 processed | B6 processed | B7 processed | B8 processed | B9 processed | B10 processed | B11 processed | B12 processed | B13 processed | B14 processed | B15 processed | B16 processed | B17 processed | B18 processed | B19 processed | B20 processed | B21 processed | B22 processed | B23 processed | B24 processed | B25 processed | B26 processed | B27 processed | B28 processed | B29 processed | B30 processed | B31 processed | "
     ]
    },
    {
     "name": "stderr",
     "output_type": "stream",
     "text": [
      "Found local copy...\n"
     ]
    },
    {
     "name": "stdout",
     "output_type": "stream",
     "text": [
      "B32 processed | Human score at HITL iteration 2: [0.3549706560879029, 0.0, 0.2791323540100675, 0.0, 0.012821699428501782, 0.23706639743796137, 0.9803764751589391, 0.4536103402197205]\n",
      "New queried dataset size: 56\n",
      "Combined dataset size: 592\n",
      "Saved augmented training data at output_bradley_terry_n_steps_100/R3_T5_Q8_acq_uncertainty_noise_0.1/REINVENT_round_2/HITL_iteration_2/iteration_combined_data.csv\n",
      "Epoch 5, Loss: 0.819682102650404\n",
      "Epoch 10, Loss: 0.8192990943789482\n",
      "Epoch 15, Loss: 0.8189341723918915\n",
      "Epoch 20, Loss: 0.8185942992568016\n",
      "Epoch 25, Loss: 0.818112201988697\n",
      "Saved retrained feedback model at output_bradley_terry_n_steps_100/R3_T5_Q8_acq_uncertainty_noise_0.1/REINVENT_round_2/HITL_iteration_2/bradley_terry_model.pth\n",
      "----------------------------------\n",
      "HITL iteration = 3\n",
      "Loading Bradley Terry model successfully from output_bradley_terry_n_steps_100/R3_T5_Q8_acq_uncertainty_noise_0.1/REINVENT_round_2/HITL_iteration_2/bradley_terry_model.pth\n",
      "B1 processed | B2 processed | B3 processed | B4 processed | B5 processed | B6 processed | B7 processed | B8 processed | B9 processed | B10 processed | B11 processed | B12 processed | B13 processed | B14 processed | B15 processed | B16 processed | B17 processed | B18 processed | B19 processed | B20 processed | B21 processed | B22 processed | B23 processed | B24 processed | B25 processed | B26 processed | B27 processed | B28 processed | B29 processed | B30 processed | B31 processed | "
     ]
    },
    {
     "name": "stderr",
     "output_type": "stream",
     "text": [
      "Found local copy...\n"
     ]
    },
    {
     "name": "stdout",
     "output_type": "stream",
     "text": [
      "B32 processed | Human score at HITL iteration 3: [0.0, 0.0037472341482967, 0.3542687633792322, 0.41809667047967225, 0.03274806328057066, 0.9083429791207811, 0.0, 0.0]\n",
      "New queried dataset size: 56\n",
      "Combined dataset size: 648\n",
      "Saved augmented training data at output_bradley_terry_n_steps_100/R3_T5_Q8_acq_uncertainty_noise_0.1/REINVENT_round_2/HITL_iteration_3/iteration_combined_data.csv\n",
      "Epoch 5, Loss: 1.807805709540844\n",
      "Epoch 10, Loss: 1.8067012801766396\n",
      "Epoch 15, Loss: 1.8063217774033546\n",
      "Epoch 20, Loss: 1.8046361356973648\n",
      "Epoch 25, Loss: 1.8034907802939415\n",
      "Saved retrained feedback model at output_bradley_terry_n_steps_100/R3_T5_Q8_acq_uncertainty_noise_0.1/REINVENT_round_2/HITL_iteration_3/bradley_terry_model.pth\n",
      "----------------------------------\n",
      "HITL iteration = 4\n",
      "Loading Bradley Terry model successfully from output_bradley_terry_n_steps_100/R3_T5_Q8_acq_uncertainty_noise_0.1/REINVENT_round_2/HITL_iteration_3/bradley_terry_model.pth\n",
      "B1 processed | B2 processed | B3 processed | B4 processed | B5 processed | B6 processed | B7 processed | B8 processed | B9 processed | B10 processed | B11 processed | B12 processed | B13 processed | B14 processed | B15 processed | B16 processed | B17 processed | B18 processed | B19 processed | B20 processed | B21 processed | B22 processed | B23 processed | B24 processed | B25 processed | B26 processed | B27 processed | B28 processed | B29 processed | B30 processed | B31 processed | "
     ]
    },
    {
     "name": "stderr",
     "output_type": "stream",
     "text": [
      "Found local copy...\n"
     ]
    },
    {
     "name": "stdout",
     "output_type": "stream",
     "text": [
      "B32 processed | Human score at HITL iteration 4: [0.09839368785788899, 0.5865046258287624, 0.031882805943693804, 0.6934153457324473, 0.5029684723747005, 0.14375653930321436, 0.08754811424257855, 0.170899959036671]\n",
      "New queried dataset size: 56\n",
      "Combined dataset size: 704\n",
      "Saved augmented training data at output_bradley_terry_n_steps_100/R3_T5_Q8_acq_uncertainty_noise_0.1/REINVENT_round_2/HITL_iteration_4/iteration_combined_data.csv\n",
      "Epoch 5, Loss: 0.47238329239189625\n",
      "Epoch 10, Loss: 0.47201999463140965\n",
      "Epoch 15, Loss: 0.4716313537210226\n",
      "Epoch 20, Loss: 0.47121979482471943\n",
      "Epoch 25, Loss: 0.4707868229597807\n",
      "Saved retrained feedback model at output_bradley_terry_n_steps_100/R3_T5_Q8_acq_uncertainty_noise_0.1/REINVENT_round_2/HITL_iteration_4/bradley_terry_model.pth\n",
      "----------------------------------\n",
      "HITL iteration = 5\n",
      "Loading Bradley Terry model successfully from output_bradley_terry_n_steps_100/R3_T5_Q8_acq_uncertainty_noise_0.1/REINVENT_round_2/HITL_iteration_4/bradley_terry_model.pth\n",
      "B1 processed | B2 processed | B3 processed | B4 processed | B5 processed | B6 processed | B7 processed | B8 processed | B9 processed | B10 processed | B11 processed | B12 processed | B13 processed | B14 processed | B15 processed | B16 processed | B17 processed | B18 processed | B19 processed | B20 processed | B21 processed | B22 processed | B23 processed | B24 processed | B25 processed | B26 processed | B27 processed | B28 processed | B29 processed | B30 processed | B31 processed | "
     ]
    },
    {
     "name": "stderr",
     "output_type": "stream",
     "text": [
      "Found local copy...\n"
     ]
    },
    {
     "name": "stdout",
     "output_type": "stream",
     "text": [
      "B32 processed | Human score at HITL iteration 5: [0.03935022658097026, 0.511973764952587, 0.0, 0.31336524876990424, 0.7674225484987419, 0.027832198148912746, 0.02474190024535943, 0.4521146921395888]\n",
      "New queried dataset size: 56\n",
      "Combined dataset size: 760\n",
      "Saved augmented training data at output_bradley_terry_n_steps_100/R3_T5_Q8_acq_uncertainty_noise_0.1/REINVENT_round_2/HITL_iteration_5/iteration_combined_data.csv\n",
      "Epoch 5, Loss: 0.6847991595665613\n",
      "Epoch 10, Loss: 0.6841777637600899\n",
      "Epoch 15, Loss: 0.6834130262335142\n",
      "Epoch 20, Loss: 0.6826996728777885\n",
      "Epoch 25, Loss: 0.6819852739572525\n",
      "Saved retrained feedback model at output_bradley_terry_n_steps_100/R3_T5_Q8_acq_uncertainty_noise_0.1/REINVENT_round_2/HITL_iteration_5/bradley_terry_model.pth\n",
      "=====================================\n",
      "REINVENT round = 3\n",
      "Creating config file: output_bradley_terry_n_steps_100/R3_T5_Q8_acq_uncertainty_noise_0.1/REINVENT_round_3/config.json.\n",
      "Run REINVENT\n",
      "Exit code: 0\n",
      "Number of SMILES in scaffold_memory.csv:  5011\n",
      "----------------------------------\n",
      "HITL iteration = 1\n",
      "Loading Bradley Terry model successfully from output_bradley_terry_n_steps_100/R3_T5_Q8_acq_uncertainty_noise_0.1/REINVENT_round_2/HITL_iteration_5/bradley_terry_model.pth\n",
      "B1 processed | B2 processed | B3 processed | B4 processed | B5 processed | B6 processed | B7 processed | B8 processed | B9 processed | B10 processed | B11 processed | B12 processed | B13 processed | B14 processed | B15 processed | B16 processed | B17 processed | B18 processed | B19 processed | B20 processed | B21 processed | B22 processed | B23 processed | B24 processed | B25 processed | B26 processed | B27 processed | B28 processed | B29 processed | B30 processed | B31 processed | "
     ]
    },
    {
     "name": "stderr",
     "output_type": "stream",
     "text": [
      "Found local copy...\n"
     ]
    },
    {
     "name": "stdout",
     "output_type": "stream",
     "text": [
      "B32 processed | Human score at HITL iteration 1: [0.08885292113594176, 0.5033708317096253, 0.22492550197940053, 0.6643442485540496, 0.6013218172678042, 0.8600640191121233, 0.11726703809261332, 0.038061719193900646]\n",
      "New queried dataset size: 56\n",
      "Combined dataset size: 816\n",
      "Saved augmented training data at output_bradley_terry_n_steps_100/R3_T5_Q8_acq_uncertainty_noise_0.1/REINVENT_round_3/HITL_iteration_1/iteration_combined_data.csv\n",
      "Epoch 5, Loss: 1.1084081307053566\n",
      "Epoch 10, Loss: 1.1070770509541035\n",
      "Epoch 15, Loss: 1.1057297885417938\n",
      "Epoch 20, Loss: 1.1046421639621258\n",
      "Epoch 25, Loss: 1.1032125987112522\n",
      "Saved retrained feedback model at output_bradley_terry_n_steps_100/R3_T5_Q8_acq_uncertainty_noise_0.1/REINVENT_round_3/HITL_iteration_1/bradley_terry_model.pth\n",
      "----------------------------------\n",
      "HITL iteration = 2\n",
      "Loading Bradley Terry model successfully from output_bradley_terry_n_steps_100/R3_T5_Q8_acq_uncertainty_noise_0.1/REINVENT_round_3/HITL_iteration_1/bradley_terry_model.pth\n",
      "B1 processed | B2 processed | B3 processed | B4 processed | B5 processed | B6 processed | B7 processed | B8 processed | B9 processed | B10 processed | B11 processed | B12 processed | B13 processed | B14 processed | B15 processed | B16 processed | B17 processed | B18 processed | B19 processed | B20 processed | B21 processed | B22 processed | B23 processed | B24 processed | B25 processed | B26 processed | B27 processed | B28 processed | B29 processed | B30 processed | B31 processed | "
     ]
    },
    {
     "name": "stderr",
     "output_type": "stream",
     "text": [
      "Found local copy...\n"
     ]
    },
    {
     "name": "stdout",
     "output_type": "stream",
     "text": [
      "B32 processed | Human score at HITL iteration 2: [0.9095107298529637, 1.0, 0.8340665165336514, 0.09987592135795291, 0.9124092623402114, 0.15671197792276576, 0.524178480071551, 0.8470178504097854]\n",
      "New queried dataset size: 56\n",
      "Combined dataset size: 872\n",
      "Saved augmented training data at output_bradley_terry_n_steps_100/R3_T5_Q8_acq_uncertainty_noise_0.1/REINVENT_round_3/HITL_iteration_2/iteration_combined_data.csv\n",
      "Epoch 5, Loss: 2.37522005289793\n",
      "Epoch 10, Loss: 2.3748558312654495\n",
      "Epoch 15, Loss: 2.3713199123740196\n",
      "Epoch 20, Loss: 2.3689786195755005\n",
      "Epoch 25, Loss: 2.3665596917271614\n",
      "Saved retrained feedback model at output_bradley_terry_n_steps_100/R3_T5_Q8_acq_uncertainty_noise_0.1/REINVENT_round_3/HITL_iteration_2/bradley_terry_model.pth\n",
      "----------------------------------\n",
      "HITL iteration = 3\n",
      "Loading Bradley Terry model successfully from output_bradley_terry_n_steps_100/R3_T5_Q8_acq_uncertainty_noise_0.1/REINVENT_round_3/HITL_iteration_2/bradley_terry_model.pth\n",
      "B1 processed | B2 processed | B3 processed | B4 processed | B5 processed | B6 processed | B7 processed | B8 processed | B9 processed | B10 processed | B11 processed | B12 processed | B13 processed | B14 processed | B15 processed | B16 processed | B17 processed | B18 processed | B19 processed | B20 processed | B21 processed | B22 processed | B23 processed | B24 processed | B25 processed | B26 processed | B27 processed | B28 processed | B29 processed | B30 processed | B31 processed | "
     ]
    },
    {
     "name": "stderr",
     "output_type": "stream",
     "text": [
      "Found local copy...\n"
     ]
    },
    {
     "name": "stdout",
     "output_type": "stream",
     "text": [
      "B32 processed | Human score at HITL iteration 3: [0.038363569608917486, 0.5038391220313482, 0.17223093899299813, 0.25105493644915855, 0.0, 0.8862764665807994, 0.6029180584117986, 0.0]\n",
      "New queried dataset size: 56\n",
      "Combined dataset size: 928\n",
      "Saved augmented training data at output_bradley_terry_n_steps_100/R3_T5_Q8_acq_uncertainty_noise_0.1/REINVENT_round_3/HITL_iteration_3/iteration_combined_data.csv\n",
      "Epoch 5, Loss: 0.6129565704613924\n",
      "Epoch 10, Loss: 0.6123025696724653\n",
      "Epoch 15, Loss: 0.6116789802908897\n",
      "Epoch 20, Loss: 0.6110942587256432\n",
      "Epoch 25, Loss: 0.6105501521378756\n",
      "Saved retrained feedback model at output_bradley_terry_n_steps_100/R3_T5_Q8_acq_uncertainty_noise_0.1/REINVENT_round_3/HITL_iteration_3/bradley_terry_model.pth\n",
      "----------------------------------\n",
      "HITL iteration = 4\n",
      "Loading Bradley Terry model successfully from output_bradley_terry_n_steps_100/R3_T5_Q8_acq_uncertainty_noise_0.1/REINVENT_round_3/HITL_iteration_3/bradley_terry_model.pth\n",
      "B1 processed | B2 processed | B3 processed | B4 processed | B5 processed | B6 processed | B7 processed | B8 processed | B9 processed | B10 processed | B11 processed | B12 processed | B13 processed | B14 processed | B15 processed | B16 processed | B17 processed | B18 processed | B19 processed | B20 processed | B21 processed | B22 processed | B23 processed | B24 processed | B25 processed | B26 processed | B27 processed | B28 processed | B29 processed | B30 processed | B31 processed | "
     ]
    },
    {
     "name": "stderr",
     "output_type": "stream",
     "text": [
      "Found local copy...\n"
     ]
    },
    {
     "name": "stdout",
     "output_type": "stream",
     "text": [
      "B32 processed | Human score at HITL iteration 4: [0.0007427668038985195, 0.31588463718867477, 0.9315864477165035, 0.03958137938956709, 0.05231558168941528, 0.14668386881991483, 0.07540297019086667, 0.9361623574312031]\n",
      "New queried dataset size: 56\n",
      "Combined dataset size: 984\n",
      "Saved augmented training data at output_bradley_terry_n_steps_100/R3_T5_Q8_acq_uncertainty_noise_0.1/REINVENT_round_3/HITL_iteration_4/iteration_combined_data.csv\n",
      "Epoch 5, Loss: 0.8706736812988917\n",
      "Epoch 10, Loss: 0.8697233150402705\n",
      "Epoch 15, Loss: 0.8689261873563131\n",
      "Epoch 20, Loss: 0.8681008840600649\n",
      "Epoch 25, Loss: 0.8674321919679642\n",
      "Saved retrained feedback model at output_bradley_terry_n_steps_100/R3_T5_Q8_acq_uncertainty_noise_0.1/REINVENT_round_3/HITL_iteration_4/bradley_terry_model.pth\n",
      "----------------------------------\n",
      "HITL iteration = 5\n",
      "Loading Bradley Terry model successfully from output_bradley_terry_n_steps_100/R3_T5_Q8_acq_uncertainty_noise_0.1/REINVENT_round_3/HITL_iteration_4/bradley_terry_model.pth\n",
      "B1 processed | B2 processed | B3 processed | B4 processed | B5 processed | B6 processed | B7 processed | B8 processed | B9 processed | B10 processed | B11 processed | B12 processed | B13 processed | B14 processed | B15 processed | B16 processed | B17 processed | B18 processed | B19 processed | B20 processed | B21 processed | B22 processed | B23 processed | B24 processed | B25 processed | B26 processed | B27 processed | B28 processed | B29 processed | B30 processed | B31 processed | "
     ]
    },
    {
     "name": "stderr",
     "output_type": "stream",
     "text": [
      "Found local copy...\n"
     ]
    },
    {
     "name": "stdout",
     "output_type": "stream",
     "text": [
      "B32 processed | Human score at HITL iteration 5: [0.015380972722427857, 1.0, 0.06630218596664884, 0.8155165355167848, 0.2126370331197407, 0.4015917770289131, 0.23177225321364903, 0.08904791269823208]\n",
      "New queried dataset size: 56\n",
      "Combined dataset size: 1040\n",
      "Saved augmented training data at output_bradley_terry_n_steps_100/R3_T5_Q8_acq_uncertainty_noise_0.1/REINVENT_round_3/HITL_iteration_5/iteration_combined_data.csv\n",
      "Epoch 5, Loss: 1.386370662599802\n",
      "Epoch 10, Loss: 1.385340116918087\n",
      "Epoch 15, Loss: 1.383574165403843\n",
      "Epoch 20, Loss: 1.38290686160326\n",
      "Epoch 25, Loss: 1.3822144344449043\n",
      "Saved retrained feedback model at output_bradley_terry_n_steps_100/R3_T5_Q8_acq_uncertainty_noise_0.1/REINVENT_round_3/HITL_iteration_5/bradley_terry_model.pth\n",
      "=====================================\n",
      "REINVENT round = 4\n",
      "Creating config file: output_bradley_terry_n_steps_100/R3_T5_Q8_acq_uncertainty_noise_0.1/REINVENT_round_4/config.json.\n",
      "Run REINVENT\n",
      "Exit code: 0\n",
      "\n",
      "*******************************************************************\n",
      "Running HITL with greedy acquisition and noise 0.0\n",
      "\n",
      "Running DRD2 (one objective) with rounds 3, iters 5, queries 8, seed 42\n",
      "Results will be saved at output_bradley_terry_n_steps_100/R3_T5_Q8_acq_greedy_noise_0.0\n",
      "Loading initial training datasets successfully\n",
      "=====================================\n",
      "REINVENT round = 1\n",
      "Creating config file: output_bradley_terry_n_steps_100/R3_T5_Q8_acq_greedy_noise_0.0/REINVENT_round_1/config.json.\n",
      "Run REINVENT\n",
      "Exit code: 0\n",
      "Number of SMILES in scaffold_memory.csv:  4987\n",
      "----------------------------------\n",
      "HITL iteration = 1\n",
      "Loading Bradley Terry model successfully from /home/springnuance/reinvent-hitl/Base-Code-Binh/training_Bradley_Terry_model/bradley_terry_model.pth\n",
      "B1 processed | B2 processed | B3 processed | B4 processed | B5 processed | B6 processed | B7 processed | B8 processed | B9 processed | B10 processed | B11 processed | B12 processed | B13 processed | B14 processed | B15 processed | B16 processed | B17 processed | B18 processed | B19 processed | B20 processed | B21 processed | B22 processed | B23 processed | B24 processed | B25 processed | B26 processed | B27 processed | B28 processed | B29 processed | B30 processed | B31 processed | "
     ]
    },
    {
     "name": "stderr",
     "output_type": "stream",
     "text": [
      "Found local copy...\n"
     ]
    },
    {
     "name": "stdout",
     "output_type": "stream",
     "text": [
      "B32 processed | Human score at HITL iteration 1: [0.0407152012565959, 0.06967574015594565, 0.004323810902064698, 0.10631287562771452, 0.00010659231503875589, 0.002889919826572554, 0.9999906785427431, 0.013574190831159466]\n",
      "New queried dataset size: 56\n",
      "Combined dataset size: 256\n",
      "Saved augmented training data at output_bradley_terry_n_steps_100/R3_T5_Q8_acq_greedy_noise_0.0/REINVENT_round_1/HITL_iteration_1/iteration_combined_data.csv\n",
      "Epoch 5, Loss: 0.17326398193836212\n",
      "Epoch 10, Loss: 0.17324798181653023\n",
      "Epoch 15, Loss: 0.1732317227870226\n",
      "Epoch 20, Loss: 0.17321552708745003\n",
      "Epoch 25, Loss: 0.17319896630942822\n",
      "Saved retrained feedback model at output_bradley_terry_n_steps_100/R3_T5_Q8_acq_greedy_noise_0.0/REINVENT_round_1/HITL_iteration_1/bradley_terry_model.pth\n",
      "----------------------------------\n",
      "HITL iteration = 2\n",
      "Loading Bradley Terry model successfully from output_bradley_terry_n_steps_100/R3_T5_Q8_acq_greedy_noise_0.0/REINVENT_round_1/HITL_iteration_1/bradley_terry_model.pth\n",
      "B1 processed | B2 processed | B3 processed | B4 processed | B5 processed | B6 processed | B7 processed | B8 processed | B9 processed | B10 processed | B11 processed | B12 processed | B13 processed | B14 processed | B15 processed | B16 processed | B17 processed | B18 processed | B19 processed | B20 processed | B21 processed | B22 processed | B23 processed | B24 processed | B25 processed | B26 processed | B27 processed | B28 processed | B29 processed | B30 processed | B31 processed | "
     ]
    },
    {
     "name": "stderr",
     "output_type": "stream",
     "text": [
      "Found local copy...\n"
     ]
    },
    {
     "name": "stdout",
     "output_type": "stream",
     "text": [
      "B32 processed | Human score at HITL iteration 2: [0.5840378488467538, 0.023735504186339924, 0.49177094120497666, 0.33888048926381065, 0.6862880595593203, 0.006529300975796531, 0.0012135627445222137, 0.00205879282855181]\n",
      "New queried dataset size: 56\n",
      "Combined dataset size: 312\n",
      "Saved augmented training data at output_bradley_terry_n_steps_100/R3_T5_Q8_acq_greedy_noise_0.0/REINVENT_round_1/HITL_iteration_2/iteration_combined_data.csv\n",
      "Epoch 5, Loss: 0.2886585419376691\n",
      "Epoch 10, Loss: 0.28862732152144116\n",
      "Epoch 15, Loss: 0.28859521945317584\n",
      "Epoch 20, Loss: 0.2885586569706599\n",
      "Epoch 25, Loss: 0.2885195041696231\n",
      "Saved retrained feedback model at output_bradley_terry_n_steps_100/R3_T5_Q8_acq_greedy_noise_0.0/REINVENT_round_1/HITL_iteration_2/bradley_terry_model.pth\n",
      "----------------------------------\n",
      "HITL iteration = 3\n",
      "Loading Bradley Terry model successfully from output_bradley_terry_n_steps_100/R3_T5_Q8_acq_greedy_noise_0.0/REINVENT_round_1/HITL_iteration_2/bradley_terry_model.pth\n",
      "B1 processed | B2 processed | B3 processed | B4 processed | B5 processed | B6 processed | B7 processed | B8 processed | B9 processed | B10 processed | B11 processed | B12 processed | B13 processed | B14 processed | B15 processed | B16 processed | B17 processed | B18 processed | B19 processed | B20 processed | B21 processed | B22 processed | B23 processed | B24 processed | B25 processed | B26 processed | B27 processed | B28 processed | B29 processed | B30 processed | B31 processed | "
     ]
    },
    {
     "name": "stderr",
     "output_type": "stream",
     "text": [
      "Found local copy...\n"
     ]
    },
    {
     "name": "stdout",
     "output_type": "stream",
     "text": [
      "B32 processed | Human score at HITL iteration 3: [0.9858703371307865, 0.9999948513811212, 0.17105418805218178, 0.8609181575846654, 0.5120482985251847, 0.3089701411851207, 0.7127533976095496, 0.988501782900815]\n",
      "New queried dataset size: 56\n",
      "Combined dataset size: 368\n",
      "Saved augmented training data at output_bradley_terry_n_steps_100/R3_T5_Q8_acq_greedy_noise_0.0/REINVENT_round_1/HITL_iteration_3/iteration_combined_data.csv\n",
      "Epoch 5, Loss: 0.5193374715745449\n",
      "Epoch 10, Loss: 0.51927100867033\n",
      "Epoch 15, Loss: 0.5191795751452446\n",
      "Epoch 20, Loss: 0.519096314907074\n",
      "Epoch 25, Loss: 0.5190108008682728\n",
      "Saved retrained feedback model at output_bradley_terry_n_steps_100/R3_T5_Q8_acq_greedy_noise_0.0/REINVENT_round_1/HITL_iteration_3/bradley_terry_model.pth\n",
      "----------------------------------\n",
      "HITL iteration = 4\n",
      "Loading Bradley Terry model successfully from output_bradley_terry_n_steps_100/R3_T5_Q8_acq_greedy_noise_0.0/REINVENT_round_1/HITL_iteration_3/bradley_terry_model.pth\n",
      "B1 processed | B2 processed | B3 processed | B4 processed | B5 processed | B6 processed | B7 processed | B8 processed | B9 processed | B10 processed | B11 processed | B12 processed | B13 processed | B14 processed | B15 processed | B16 processed | B17 processed | B18 processed | B19 processed | B20 processed | B21 processed | B22 processed | B23 processed | B24 processed | B25 processed | B26 processed | B27 processed | B28 processed | B29 processed | B30 processed | B31 processed | "
     ]
    },
    {
     "name": "stderr",
     "output_type": "stream",
     "text": [
      "Found local copy...\n"
     ]
    },
    {
     "name": "stdout",
     "output_type": "stream",
     "text": [
      "B32 processed | Human score at HITL iteration 4: [0.42871763965906845, 0.04135854210387821, 0.05567098736066406, 0.6405053099229722, 0.41271850501347834, 0.17890488116742218, 0.014155811962308968, 0.8303087183028922]\n",
      "New queried dataset size: 56\n",
      "Combined dataset size: 424\n",
      "Saved augmented training data at output_bradley_terry_n_steps_100/R3_T5_Q8_acq_greedy_noise_0.0/REINVENT_round_1/HITL_iteration_4/iteration_combined_data.csv\n",
      "Epoch 5, Loss: 1.2109244242310524\n",
      "Epoch 10, Loss: 1.210791863501072\n",
      "Epoch 15, Loss: 1.2105720490217209\n",
      "Epoch 20, Loss: 1.2102788537740707\n",
      "Epoch 25, Loss: 1.2100154533982277\n",
      "Saved retrained feedback model at output_bradley_terry_n_steps_100/R3_T5_Q8_acq_greedy_noise_0.0/REINVENT_round_1/HITL_iteration_4/bradley_terry_model.pth\n",
      "----------------------------------\n",
      "HITL iteration = 5\n",
      "Loading Bradley Terry model successfully from output_bradley_terry_n_steps_100/R3_T5_Q8_acq_greedy_noise_0.0/REINVENT_round_1/HITL_iteration_4/bradley_terry_model.pth\n",
      "B1 processed | B2 processed | B3 processed | B4 processed | B5 processed | B6 processed | B7 processed | B8 processed | B9 processed | B10 processed | B11 processed | B12 processed | B13 processed | B14 processed | B15 processed | B16 processed | B17 processed | B18 processed | B19 processed | B20 processed | B21 processed | B22 processed | B23 processed | B24 processed | B25 processed | B26 processed | B27 processed | B28 processed | B29 processed | B30 processed | B31 processed | "
     ]
    },
    {
     "name": "stderr",
     "output_type": "stream",
     "text": [
      "Found local copy...\n"
     ]
    },
    {
     "name": "stdout",
     "output_type": "stream",
     "text": [
      "B32 processed | Human score at HITL iteration 5: [0.007261186457179598, 0.550171431078052, 0.8485439599382625, 0.22017357148899955, 0.021550297269424385, 0.029534325100007707, 0.07107677369757218, 0.8142444382657729]\n",
      "New queried dataset size: 56\n",
      "Combined dataset size: 480\n",
      "Saved augmented training data at output_bradley_terry_n_steps_100/R3_T5_Q8_acq_greedy_noise_0.0/REINVENT_round_1/HITL_iteration_5/iteration_combined_data.csv\n",
      "Epoch 5, Loss: 0.32412436977028847\n",
      "Epoch 10, Loss: 0.3240377251058817\n",
      "Epoch 15, Loss: 0.3239428624510765\n",
      "Epoch 20, Loss: 0.3238390423357487\n",
      "Epoch 25, Loss: 0.32372583262622356\n",
      "Saved retrained feedback model at output_bradley_terry_n_steps_100/R3_T5_Q8_acq_greedy_noise_0.0/REINVENT_round_1/HITL_iteration_5/bradley_terry_model.pth\n",
      "=====================================\n",
      "REINVENT round = 2\n",
      "Creating config file: output_bradley_terry_n_steps_100/R3_T5_Q8_acq_greedy_noise_0.0/REINVENT_round_2/config.json.\n",
      "Run REINVENT\n",
      "Exit code: 0\n",
      "Number of SMILES in scaffold_memory.csv:  5012\n",
      "----------------------------------\n",
      "HITL iteration = 1\n",
      "Loading Bradley Terry model successfully from output_bradley_terry_n_steps_100/R3_T5_Q8_acq_greedy_noise_0.0/REINVENT_round_1/HITL_iteration_5/bradley_terry_model.pth\n",
      "B1 processed | B2 processed | B3 processed | B4 processed | B5 processed | B6 processed | B7 processed | B8 processed | B9 processed | B10 processed | B11 processed | B12 processed | B13 processed | B14 processed | B15 processed | B16 processed | B17 processed | B18 processed | B19 processed | B20 processed | B21 processed | B22 processed | B23 processed | B24 processed | B25 processed | B26 processed | B27 processed | B28 processed | B29 processed | B30 processed | B31 processed | "
     ]
    },
    {
     "name": "stderr",
     "output_type": "stream",
     "text": [
      "Found local copy...\n"
     ]
    },
    {
     "name": "stdout",
     "output_type": "stream",
     "text": [
      "B32 processed | Human score at HITL iteration 1: [0.8291394405327713, 0.9999981277900658, 0.9878880001269335, 0.9945379138828854, 0.9999999289728386, 0.9698273935716089, 0.16803913046701172, 0.5291297949624715]\n",
      "New queried dataset size: 56\n",
      "Combined dataset size: 536\n",
      "Saved augmented training data at output_bradley_terry_n_steps_100/R3_T5_Q8_acq_greedy_noise_0.0/REINVENT_round_2/HITL_iteration_1/iteration_combined_data.csv\n",
      "Epoch 5, Loss: 0.48918912808100384\n",
      "Epoch 10, Loss: 0.48900281141201657\n",
      "Epoch 15, Loss: 0.4888006200393041\n",
      "Epoch 20, Loss: 0.488586666683356\n",
      "Epoch 25, Loss: 0.48835327476263046\n",
      "Saved retrained feedback model at output_bradley_terry_n_steps_100/R3_T5_Q8_acq_greedy_noise_0.0/REINVENT_round_2/HITL_iteration_1/bradley_terry_model.pth\n",
      "----------------------------------\n",
      "HITL iteration = 2\n",
      "Loading Bradley Terry model successfully from output_bradley_terry_n_steps_100/R3_T5_Q8_acq_greedy_noise_0.0/REINVENT_round_2/HITL_iteration_1/bradley_terry_model.pth\n",
      "B1 processed | B2 processed | B3 processed | B4 processed | B5 processed | B6 processed | B7 processed | B8 processed | B9 processed | B10 processed | B11 processed | B12 processed | B13 processed | B14 processed | B15 processed | B16 processed | B17 processed | B18 processed | B19 processed | B20 processed | B21 processed | B22 processed | B23 processed | B24 processed | B25 processed | B26 processed | B27 processed | B28 processed | B29 processed | B30 processed | B31 processed | "
     ]
    },
    {
     "name": "stderr",
     "output_type": "stream",
     "text": [
      "Found local copy...\n"
     ]
    },
    {
     "name": "stdout",
     "output_type": "stream",
     "text": [
      "B32 processed | Human score at HITL iteration 2: [0.24275421341259332, 0.9762132821300163, 0.9953781572461633, 0.9578130692334842, 0.9907188747084454, 0.9999999749918932, 0.9034607362166894, 0.9694017377109888]\n",
      "New queried dataset size: 56\n",
      "Combined dataset size: 592\n",
      "Saved augmented training data at output_bradley_terry_n_steps_100/R3_T5_Q8_acq_greedy_noise_0.0/REINVENT_round_2/HITL_iteration_2/iteration_combined_data.csv\n",
      "Epoch 5, Loss: 0.8187575526535511\n",
      "Epoch 10, Loss: 0.8182919695973396\n",
      "Epoch 15, Loss: 0.8179292939603329\n",
      "Epoch 20, Loss: 0.8174646496772766\n",
      "Epoch 25, Loss: 0.8168056383728981\n",
      "Saved retrained feedback model at output_bradley_terry_n_steps_100/R3_T5_Q8_acq_greedy_noise_0.0/REINVENT_round_2/HITL_iteration_2/bradley_terry_model.pth\n",
      "----------------------------------\n",
      "HITL iteration = 3\n",
      "Loading Bradley Terry model successfully from output_bradley_terry_n_steps_100/R3_T5_Q8_acq_greedy_noise_0.0/REINVENT_round_2/HITL_iteration_2/bradley_terry_model.pth\n",
      "B1 processed | B2 processed | B3 processed | B4 processed | B5 processed | B6 processed | B7 processed | B8 processed | B9 processed | B10 processed | B11 processed | B12 processed | B13 processed | B14 processed | B15 processed | B16 processed | B17 processed | B18 processed | B19 processed | B20 processed | B21 processed | B22 processed | B23 processed | B24 processed | B25 processed | B26 processed | B27 processed | B28 processed | B29 processed | B30 processed | B31 processed | "
     ]
    },
    {
     "name": "stderr",
     "output_type": "stream",
     "text": [
      "Found local copy...\n"
     ]
    },
    {
     "name": "stdout",
     "output_type": "stream",
     "text": [
      "B32 processed | Human score at HITL iteration 3: [0.8398016102441886, 0.8131584415087498, 0.5901394089836128, 0.27983106011195696, 0.6146963866257976, 0.29637216785032444, 0.04919123459946364, 0.9866703668579542]\n",
      "New queried dataset size: 56\n",
      "Combined dataset size: 648\n",
      "Saved augmented training data at output_bradley_terry_n_steps_100/R3_T5_Q8_acq_greedy_noise_0.0/REINVENT_round_2/HITL_iteration_3/iteration_combined_data.csv\n",
      "Epoch 5, Loss: 1.8059000223875046\n",
      "Epoch 10, Loss: 1.8046333938837051\n",
      "Epoch 15, Loss: 1.8035211339592934\n",
      "Epoch 20, Loss: 1.8013309687376022\n",
      "Epoch 25, Loss: 1.8003038242459297\n",
      "Saved retrained feedback model at output_bradley_terry_n_steps_100/R3_T5_Q8_acq_greedy_noise_0.0/REINVENT_round_2/HITL_iteration_3/bradley_terry_model.pth\n",
      "----------------------------------\n",
      "HITL iteration = 4\n",
      "Loading Bradley Terry model successfully from output_bradley_terry_n_steps_100/R3_T5_Q8_acq_greedy_noise_0.0/REINVENT_round_2/HITL_iteration_3/bradley_terry_model.pth\n",
      "B1 processed | B2 processed | B3 processed | B4 processed | B5 processed | B6 processed | B7 processed | B8 processed | B9 processed | B10 processed | B11 processed | B12 processed | B13 processed | B14 processed | B15 processed | B16 processed | B17 processed | B18 processed | B19 processed | B20 processed | B21 processed | B22 processed | B23 processed | B24 processed | B25 processed | B26 processed | B27 processed | B28 processed | B29 processed | B30 processed | B31 processed | "
     ]
    },
    {
     "name": "stderr",
     "output_type": "stream",
     "text": [
      "Found local copy...\n"
     ]
    },
    {
     "name": "stdout",
     "output_type": "stream",
     "text": [
      "B32 processed | Human score at HITL iteration 4: [0.710519589633653, 0.9906672677764062, 0.4628336870009618, 0.04521015034224893, 0.8754640978146387, 0.7331549153377135, 0.8936883625080209, 0.6418110142971875]\n",
      "New queried dataset size: 56\n",
      "Combined dataset size: 704\n",
      "Saved augmented training data at output_bradley_terry_n_steps_100/R3_T5_Q8_acq_greedy_noise_0.0/REINVENT_round_2/HITL_iteration_4/iteration_combined_data.csv\n",
      "Epoch 5, Loss: 0.47144463658332825\n",
      "Epoch 10, Loss: 0.47102105617523193\n",
      "Epoch 15, Loss: 0.4705704189836979\n",
      "Epoch 20, Loss: 0.4700868297368288\n",
      "Epoch 25, Loss: 0.46957623586058617\n",
      "Saved retrained feedback model at output_bradley_terry_n_steps_100/R3_T5_Q8_acq_greedy_noise_0.0/REINVENT_round_2/HITL_iteration_4/bradley_terry_model.pth\n",
      "----------------------------------\n",
      "HITL iteration = 5\n",
      "Loading Bradley Terry model successfully from output_bradley_terry_n_steps_100/R3_T5_Q8_acq_greedy_noise_0.0/REINVENT_round_2/HITL_iteration_4/bradley_terry_model.pth\n",
      "B1 processed | B2 processed | B3 processed | B4 processed | B5 processed | B6 processed | B7 processed | B8 processed | B9 processed | B10 processed | B11 processed | B12 processed | B13 processed | B14 processed | B15 processed | B16 processed | B17 processed | B18 processed | B19 processed | B20 processed | B21 processed | B22 processed | B23 processed | B24 processed | B25 processed | B26 processed | B27 processed | B28 processed | B29 processed | B30 processed | B31 processed | "
     ]
    },
    {
     "name": "stderr",
     "output_type": "stream",
     "text": [
      "Found local copy...\n"
     ]
    },
    {
     "name": "stdout",
     "output_type": "stream",
     "text": [
      "B32 processed | Human score at HITL iteration 5: [0.45989559804448527, 0.9867835970295488, 0.9952879160350296, 0.9855660884026413, 0.5512092902364211, 0.1795714451309807, 0.6462958249941624, 0.12189824822532672]\n",
      "New queried dataset size: 56\n",
      "Combined dataset size: 760\n",
      "Saved augmented training data at output_bradley_terry_n_steps_100/R3_T5_Q8_acq_greedy_noise_0.0/REINVENT_round_2/HITL_iteration_5/iteration_combined_data.csv\n",
      "Epoch 5, Loss: 0.683041421075662\n",
      "Epoch 10, Loss: 0.6822917684912682\n",
      "Epoch 15, Loss: 0.6814086685578028\n",
      "Epoch 20, Loss: 0.6806112378835678\n",
      "Epoch 25, Loss: 0.6797951435049375\n",
      "Saved retrained feedback model at output_bradley_terry_n_steps_100/R3_T5_Q8_acq_greedy_noise_0.0/REINVENT_round_2/HITL_iteration_5/bradley_terry_model.pth\n",
      "=====================================\n",
      "REINVENT round = 3\n",
      "Creating config file: output_bradley_terry_n_steps_100/R3_T5_Q8_acq_greedy_noise_0.0/REINVENT_round_3/config.json.\n",
      "Run REINVENT\n",
      "Exit code: 0\n",
      "Number of SMILES in scaffold_memory.csv:  5002\n",
      "----------------------------------\n",
      "HITL iteration = 1\n",
      "Loading Bradley Terry model successfully from output_bradley_terry_n_steps_100/R3_T5_Q8_acq_greedy_noise_0.0/REINVENT_round_2/HITL_iteration_5/bradley_terry_model.pth\n",
      "B1 processed | B2 processed | B3 processed | B4 processed | B5 processed | B6 processed | B7 processed | B8 processed | B9 processed | B10 processed | B11 processed | B12 processed | B13 processed | B14 processed | B15 processed | B16 processed | B17 processed | B18 processed | B19 processed | B20 processed | B21 processed | B22 processed | B23 processed | B24 processed | B25 processed | B26 processed | B27 processed | B28 processed | B29 processed | B30 processed | B31 processed | "
     ]
    },
    {
     "name": "stderr",
     "output_type": "stream",
     "text": [
      "Found local copy...\n"
     ]
    },
    {
     "name": "stdout",
     "output_type": "stream",
     "text": [
      "B32 processed | Human score at HITL iteration 1: [0.6453507090518982, 0.8158449511106665, 0.9999997186914973, 0.9999898013993622, 0.9691302688197501, 0.9919122714981132, 0.9268617481169367, 0.9553502240941385]\n",
      "New queried dataset size: 56\n",
      "Combined dataset size: 816\n",
      "Saved augmented training data at output_bradley_terry_n_steps_100/R3_T5_Q8_acq_greedy_noise_0.0/REINVENT_round_3/HITL_iteration_1/iteration_combined_data.csv\n",
      "Epoch 5, Loss: 1.1046644039452076\n",
      "Epoch 10, Loss: 1.1034759283065796\n",
      "Epoch 15, Loss: 1.1021300107240677\n",
      "Epoch 20, Loss: 1.1007761508226395\n",
      "Epoch 25, Loss: 1.0997099913656712\n",
      "Saved retrained feedback model at output_bradley_terry_n_steps_100/R3_T5_Q8_acq_greedy_noise_0.0/REINVENT_round_3/HITL_iteration_1/bradley_terry_model.pth\n",
      "----------------------------------\n",
      "HITL iteration = 2\n",
      "Loading Bradley Terry model successfully from output_bradley_terry_n_steps_100/R3_T5_Q8_acq_greedy_noise_0.0/REINVENT_round_3/HITL_iteration_1/bradley_terry_model.pth\n",
      "B1 processed | B2 processed | B3 processed | B4 processed | B5 processed | B6 processed | B7 processed | B8 processed | B9 processed | B10 processed | B11 processed | B12 processed | B13 processed | B14 processed | B15 processed | B16 processed | B17 processed | B18 processed | B19 processed | B20 processed | B21 processed | B22 processed | B23 processed | B24 processed | B25 processed | B26 processed | B27 processed | B28 processed | B29 processed | B30 processed | B31 processed | "
     ]
    },
    {
     "name": "stderr",
     "output_type": "stream",
     "text": [
      "Found local copy...\n"
     ]
    },
    {
     "name": "stdout",
     "output_type": "stream",
     "text": [
      "B32 processed | Human score at HITL iteration 2: [0.7764390785775662, 0.9587599988946273, 0.9683733894544633, 0.9529192237890002, 0.9999999498968786, 0.9566458967116491, 0.9999948548206686, 0.9999934517103772]\n",
      "New queried dataset size: 56\n",
      "Combined dataset size: 872\n",
      "Saved augmented training data at output_bradley_terry_n_steps_100/R3_T5_Q8_acq_greedy_noise_0.0/REINVENT_round_3/HITL_iteration_2/iteration_combined_data.csv\n",
      "Epoch 5, Loss: 2.3676597625017166\n",
      "Epoch 10, Loss: 2.365909792482853\n",
      "Epoch 15, Loss: 2.3632821813225746\n",
      "Epoch 20, Loss: 2.361931324005127\n",
      "Epoch 25, Loss: 2.3599432185292244\n",
      "Saved retrained feedback model at output_bradley_terry_n_steps_100/R3_T5_Q8_acq_greedy_noise_0.0/REINVENT_round_3/HITL_iteration_2/bradley_terry_model.pth\n",
      "----------------------------------\n",
      "HITL iteration = 3\n",
      "Loading Bradley Terry model successfully from output_bradley_terry_n_steps_100/R3_T5_Q8_acq_greedy_noise_0.0/REINVENT_round_3/HITL_iteration_2/bradley_terry_model.pth\n",
      "B1 processed | B2 processed | B3 processed | B4 processed | B5 processed | B6 processed | B7 processed | B8 processed | B9 processed | B10 processed | B11 processed | B12 processed | B13 processed | B14 processed | B15 processed | B16 processed | B17 processed | B18 processed | B19 processed | B20 processed | B21 processed | B22 processed | B23 processed | B24 processed | B25 processed | B26 processed | B27 processed | B28 processed | B29 processed | B30 processed | B31 processed | "
     ]
    },
    {
     "name": "stderr",
     "output_type": "stream",
     "text": [
      "Found local copy...\n"
     ]
    },
    {
     "name": "stdout",
     "output_type": "stream",
     "text": [
      "B32 processed | Human score at HITL iteration 3: [0.20826217035337458, 0.6914140793374298, 0.9665601063146647, 0.7203247980397577, 0.9899983590584975, 0.9553352111804192, 0.9801022513636406, 0.9461399668262142]\n",
      "New queried dataset size: 56\n",
      "Combined dataset size: 928\n",
      "Saved augmented training data at output_bradley_terry_n_steps_100/R3_T5_Q8_acq_greedy_noise_0.0/REINVENT_round_3/HITL_iteration_3/iteration_combined_data.csv\n",
      "Epoch 5, Loss: 0.6112183835357428\n",
      "Epoch 10, Loss: 0.6106320228427649\n",
      "Epoch 15, Loss: 0.6100805941969156\n",
      "Epoch 20, Loss: 0.6095610838383436\n",
      "Epoch 25, Loss: 0.609078535810113\n",
      "Saved retrained feedback model at output_bradley_terry_n_steps_100/R3_T5_Q8_acq_greedy_noise_0.0/REINVENT_round_3/HITL_iteration_3/bradley_terry_model.pth\n",
      "----------------------------------\n",
      "HITL iteration = 4\n",
      "Loading Bradley Terry model successfully from output_bradley_terry_n_steps_100/R3_T5_Q8_acq_greedy_noise_0.0/REINVENT_round_3/HITL_iteration_3/bradley_terry_model.pth\n",
      "B1 processed | B2 processed | B3 processed | B4 processed | B5 processed | B6 processed | B7 processed | B8 processed | B9 processed | B10 processed | B11 processed | B12 processed | B13 processed | B14 processed | B15 processed | B16 processed | B17 processed | B18 processed | B19 processed | B20 processed | B21 processed | B22 processed | B23 processed | B24 processed | B25 processed | B26 processed | B27 processed | B28 processed | B29 processed | B30 processed | B31 processed | "
     ]
    },
    {
     "name": "stderr",
     "output_type": "stream",
     "text": [
      "Found local copy...\n"
     ]
    },
    {
     "name": "stdout",
     "output_type": "stream",
     "text": [
      "B32 processed | Human score at HITL iteration 4: [0.9906763484934998, 0.7587983545329573, 0.8933749678120468, 0.6684595337648183, 0.9999977719528519, 0.9632289047145107, 0.31169036196592237, 0.9711663795801049]\n",
      "New queried dataset size: 56\n",
      "Combined dataset size: 984\n",
      "Saved augmented training data at output_bradley_terry_n_steps_100/R3_T5_Q8_acq_greedy_noise_0.0/REINVENT_round_3/HITL_iteration_4/iteration_combined_data.csv\n",
      "Epoch 5, Loss: 0.8689415330688158\n",
      "Epoch 10, Loss: 0.8682582055528959\n",
      "Epoch 15, Loss: 0.8676318004727364\n",
      "Epoch 20, Loss: 0.8671021809180578\n",
      "Epoch 25, Loss: 0.8665652548273405\n",
      "Saved retrained feedback model at output_bradley_terry_n_steps_100/R3_T5_Q8_acq_greedy_noise_0.0/REINVENT_round_3/HITL_iteration_4/bradley_terry_model.pth\n",
      "----------------------------------\n",
      "HITL iteration = 5\n",
      "Loading Bradley Terry model successfully from output_bradley_terry_n_steps_100/R3_T5_Q8_acq_greedy_noise_0.0/REINVENT_round_3/HITL_iteration_4/bradley_terry_model.pth\n",
      "B1 processed | B2 processed | B3 processed | B4 processed | B5 processed | B6 processed | B7 processed | B8 processed | B9 processed | B10 processed | B11 processed | B12 processed | B13 processed | B14 processed | B15 processed | B16 processed | B17 processed | B18 processed | B19 processed | B20 processed | B21 processed | B22 processed | B23 processed | B24 processed | B25 processed | B26 processed | B27 processed | B28 processed | B29 processed | B30 processed | B31 processed | "
     ]
    },
    {
     "name": "stderr",
     "output_type": "stream",
     "text": [
      "Found local copy...\n"
     ]
    },
    {
     "name": "stdout",
     "output_type": "stream",
     "text": [
      "B32 processed | Human score at HITL iteration 5: [0.9888939682952308, 0.5146547782956806, 0.997423375116711, 0.9778624886924312, 0.7769086593173989, 0.9961966447511376, 0.9999948465942341, 0.9963682959120957]\n",
      "New queried dataset size: 56\n",
      "Combined dataset size: 1040\n",
      "Saved augmented training data at output_bradley_terry_n_steps_100/R3_T5_Q8_acq_greedy_noise_0.0/REINVENT_round_3/HITL_iteration_5/iteration_combined_data.csv\n",
      "Epoch 5, Loss: 1.385396532714367\n",
      "Epoch 10, Loss: 1.3845325708389282\n",
      "Epoch 15, Loss: 1.383775807917118\n",
      "Epoch 20, Loss: 1.3831593543291092\n",
      "Epoch 25, Loss: 1.3830154798924923\n",
      "Saved retrained feedback model at output_bradley_terry_n_steps_100/R3_T5_Q8_acq_greedy_noise_0.0/REINVENT_round_3/HITL_iteration_5/bradley_terry_model.pth\n",
      "=====================================\n",
      "REINVENT round = 4\n",
      "Creating config file: output_bradley_terry_n_steps_100/R3_T5_Q8_acq_greedy_noise_0.0/REINVENT_round_4/config.json.\n",
      "Run REINVENT\n",
      "Exit code: 0\n",
      "\n",
      "*******************************************************************\n",
      "Running HITL with greedy acquisition and noise 0.1\n",
      "\n",
      "Running DRD2 (one objective) with rounds 3, iters 5, queries 8, seed 42\n",
      "Results will be saved at output_bradley_terry_n_steps_100/R3_T5_Q8_acq_greedy_noise_0.1\n",
      "Loading initial training datasets successfully\n",
      "=====================================\n",
      "REINVENT round = 1\n",
      "Creating config file: output_bradley_terry_n_steps_100/R3_T5_Q8_acq_greedy_noise_0.1/REINVENT_round_1/config.json.\n",
      "Run REINVENT\n",
      "Exit code: 0\n",
      "Number of SMILES in scaffold_memory.csv:  4991\n",
      "----------------------------------\n",
      "HITL iteration = 1\n",
      "Loading Bradley Terry model successfully from /home/springnuance/reinvent-hitl/Base-Code-Binh/training_Bradley_Terry_model/bradley_terry_model.pth\n",
      "B1 processed | B2 processed | B3 processed | B4 processed | B5 processed | B6 processed | B7 processed | B8 processed | B9 processed | B10 processed | B11 processed | B12 processed | B13 processed | B14 processed | B15 processed | B16 processed | B17 processed | B18 processed | B19 processed | B20 processed | B21 processed | B22 processed | B23 processed | B24 processed | B25 processed | B26 processed | B27 processed | B28 processed | B29 processed | B30 processed | B31 processed | "
     ]
    },
    {
     "name": "stderr",
     "output_type": "stream",
     "text": [
      "Found local copy...\n"
     ]
    },
    {
     "name": "stdout",
     "output_type": "stream",
     "text": [
      "B32 processed | Human score at HITL iteration 1: [0.05328850393142625, 0.023096454706950757, 0.06624762469133813, 0.153250832216219, 0.007500038568101889, 0.008083854544497105, 0.1639496709360673, 0.08284884841249235]\n",
      "New queried dataset size: 56\n",
      "Combined dataset size: 256\n",
      "Saved augmented training data at output_bradley_terry_n_steps_100/R3_T5_Q8_acq_greedy_noise_0.1/REINVENT_round_1/HITL_iteration_1/iteration_combined_data.csv\n",
      "Epoch 5, Loss: 0.1732649877667427\n",
      "Epoch 10, Loss: 0.1732519268989563\n",
      "Epoch 15, Loss: 0.17323858849704266\n",
      "Epoch 20, Loss: 0.17322533391416073\n",
      "Epoch 25, Loss: 0.17321167513728142\n",
      "Saved retrained feedback model at output_bradley_terry_n_steps_100/R3_T5_Q8_acq_greedy_noise_0.1/REINVENT_round_1/HITL_iteration_1/bradley_terry_model.pth\n",
      "----------------------------------\n",
      "HITL iteration = 2\n",
      "Loading Bradley Terry model successfully from output_bradley_terry_n_steps_100/R3_T5_Q8_acq_greedy_noise_0.1/REINVENT_round_1/HITL_iteration_1/bradley_terry_model.pth\n",
      "B1 processed | B2 processed | B3 processed | B4 processed | B5 processed | B6 processed | B7 processed | B8 processed | B9 processed | B10 processed | B11 processed | B12 processed | B13 processed | B14 processed | B15 processed | B16 processed | B17 processed | B18 processed | B19 processed | B20 processed | B21 processed | B22 processed | B23 processed | B24 processed | B25 processed | B26 processed | B27 processed | B28 processed | B29 processed | B30 processed | B31 processed | "
     ]
    },
    {
     "name": "stderr",
     "output_type": "stream",
     "text": [
      "Found local copy...\n"
     ]
    },
    {
     "name": "stdout",
     "output_type": "stream",
     "text": [
      "B32 processed | Human score at HITL iteration 2: [0.027544115264686052, 0.47139429266136584, 0.831611331386171, 0.690445128171994, 0.6174825357960314, 0.0, 0.0, 0.28268241528527266]\n",
      "New queried dataset size: 56\n",
      "Combined dataset size: 312\n",
      "Saved augmented training data at output_bradley_terry_n_steps_100/R3_T5_Q8_acq_greedy_noise_0.1/REINVENT_round_1/HITL_iteration_2/iteration_combined_data.csv\n",
      "Epoch 5, Loss: 0.2886814425388972\n",
      "Epoch 10, Loss: 0.28865470985571545\n",
      "Epoch 15, Loss: 0.28862596303224564\n",
      "Epoch 20, Loss: 0.2885960042476654\n",
      "Epoch 25, Loss: 0.28856588900089264\n",
      "Saved retrained feedback model at output_bradley_terry_n_steps_100/R3_T5_Q8_acq_greedy_noise_0.1/REINVENT_round_1/HITL_iteration_2/bradley_terry_model.pth\n",
      "----------------------------------\n",
      "HITL iteration = 3\n",
      "Loading Bradley Terry model successfully from output_bradley_terry_n_steps_100/R3_T5_Q8_acq_greedy_noise_0.1/REINVENT_round_1/HITL_iteration_2/bradley_terry_model.pth\n",
      "B1 processed | B2 processed | B3 processed | B4 processed | B5 processed | B6 processed | B7 processed | B8 processed | B9 processed | B10 processed | B11 processed | B12 processed | B13 processed | B14 processed | B15 processed | B16 processed | B17 processed | B18 processed | B19 processed | B20 processed | B21 processed | B22 processed | B23 processed | B24 processed | B25 processed | B26 processed | B27 processed | B28 processed | B29 processed | B30 processed | B31 processed | "
     ]
    },
    {
     "name": "stderr",
     "output_type": "stream",
     "text": [
      "Found local copy...\n"
     ]
    },
    {
     "name": "stdout",
     "output_type": "stream",
     "text": [
      "B32 processed | Human score at HITL iteration 3: [0.8987158130371348, 1.0, 0.8965084742690903, 0.3722707029503197, 1.0, 0.0942502260691262, 0.5439832179997304, 0.8575180692175788]\n",
      "New queried dataset size: 56\n",
      "Combined dataset size: 368\n",
      "Saved augmented training data at output_bradley_terry_n_steps_100/R3_T5_Q8_acq_greedy_noise_0.1/REINVENT_round_1/HITL_iteration_3/iteration_combined_data.csv\n",
      "Epoch 5, Loss: 0.5194193869829178\n",
      "Epoch 10, Loss: 0.5193639546632767\n",
      "Epoch 15, Loss: 0.5192992277443409\n",
      "Epoch 20, Loss: 0.5192292034626007\n",
      "Epoch 25, Loss: 0.5191429406404495\n",
      "Saved retrained feedback model at output_bradley_terry_n_steps_100/R3_T5_Q8_acq_greedy_noise_0.1/REINVENT_round_1/HITL_iteration_3/bradley_terry_model.pth\n",
      "----------------------------------\n",
      "HITL iteration = 4\n",
      "Loading Bradley Terry model successfully from output_bradley_terry_n_steps_100/R3_T5_Q8_acq_greedy_noise_0.1/REINVENT_round_1/HITL_iteration_3/bradley_terry_model.pth\n",
      "B1 processed | B2 processed | B3 processed | B4 processed | B5 processed | B6 processed | B7 processed | B8 processed | B9 processed | B10 processed | B11 processed | B12 processed | B13 processed | B14 processed | B15 processed | B16 processed | B17 processed | B18 processed | B19 processed | B20 processed | B21 processed | B22 processed | B23 processed | B24 processed | B25 processed | B26 processed | B27 processed | B28 processed | B29 processed | B30 processed | B31 processed | "
     ]
    },
    {
     "name": "stderr",
     "output_type": "stream",
     "text": [
      "Found local copy...\n"
     ]
    },
    {
     "name": "stdout",
     "output_type": "stream",
     "text": [
      "B32 processed | Human score at HITL iteration 4: [0.25480657935884027, 0.2576937063647991, 0.2227323981706198, 0.44603502653972615, 0.919749540443146, 0.7486518628024458, 0.9223909803569568, 0.991084444060111]\n",
      "New queried dataset size: 56\n",
      "Combined dataset size: 424\n",
      "Saved augmented training data at output_bradley_terry_n_steps_100/R3_T5_Q8_acq_greedy_noise_0.1/REINVENT_round_1/HITL_iteration_4/iteration_combined_data.csv\n",
      "Epoch 5, Loss: 1.2114235609769821\n",
      "Epoch 10, Loss: 1.21119886636734\n",
      "Epoch 15, Loss: 1.2110845819115639\n",
      "Epoch 20, Loss: 1.2108977511525154\n",
      "Epoch 25, Loss: 1.2106092423200607\n",
      "Saved retrained feedback model at output_bradley_terry_n_steps_100/R3_T5_Q8_acq_greedy_noise_0.1/REINVENT_round_1/HITL_iteration_4/bradley_terry_model.pth\n",
      "----------------------------------\n",
      "HITL iteration = 5\n",
      "Loading Bradley Terry model successfully from output_bradley_terry_n_steps_100/R3_T5_Q8_acq_greedy_noise_0.1/REINVENT_round_1/HITL_iteration_4/bradley_terry_model.pth\n",
      "B1 processed | B2 processed | B3 processed | B4 processed | B5 processed | B6 processed | B7 processed | B8 processed | B9 processed | B10 processed | B11 processed | B12 processed | B13 processed | B14 processed | B15 processed | B16 processed | B17 processed | B18 processed | B19 processed | B20 processed | B21 processed | B22 processed | B23 processed | B24 processed | B25 processed | B26 processed | B27 processed | B28 processed | B29 processed | B30 processed | B31 processed | "
     ]
    },
    {
     "name": "stderr",
     "output_type": "stream",
     "text": [
      "Found local copy...\n"
     ]
    },
    {
     "name": "stdout",
     "output_type": "stream",
     "text": [
      "B32 processed | Human score at HITL iteration 5: [0.01201546106718299, 0.0, 0.5088654244570725, 0.5892460050259145, 0.029183608804196702, 0.361149128708088, 0.681590203086699, 0.13465761948208468]\n",
      "New queried dataset size: 56\n",
      "Combined dataset size: 480\n",
      "Saved augmented training data at output_bradley_terry_n_steps_100/R3_T5_Q8_acq_greedy_noise_0.1/REINVENT_round_1/HITL_iteration_5/iteration_combined_data.csv\n",
      "Epoch 5, Loss: 0.324279822409153\n",
      "Epoch 10, Loss: 0.32421136274933815\n",
      "Epoch 15, Loss: 0.3241374734789133\n",
      "Epoch 20, Loss: 0.32405591756105423\n",
      "Epoch 25, Loss: 0.3239671289920807\n",
      "Saved retrained feedback model at output_bradley_terry_n_steps_100/R3_T5_Q8_acq_greedy_noise_0.1/REINVENT_round_1/HITL_iteration_5/bradley_terry_model.pth\n",
      "=====================================\n",
      "REINVENT round = 2\n",
      "Creating config file: output_bradley_terry_n_steps_100/R3_T5_Q8_acq_greedy_noise_0.1/REINVENT_round_2/config.json.\n",
      "Run REINVENT\n",
      "Exit code: 0\n",
      "Number of SMILES in scaffold_memory.csv:  5009\n",
      "----------------------------------\n",
      "HITL iteration = 1\n",
      "Loading Bradley Terry model successfully from output_bradley_terry_n_steps_100/R3_T5_Q8_acq_greedy_noise_0.1/REINVENT_round_1/HITL_iteration_5/bradley_terry_model.pth\n",
      "B1 processed | B2 processed | B3 processed | B4 processed | B5 processed | B6 processed | B7 processed | B8 processed | B9 processed | B10 processed | B11 processed | B12 processed | B13 processed | B14 processed | B15 processed | B16 processed | B17 processed | B18 processed | B19 processed | B20 processed | B21 processed | B22 processed | B23 processed | B24 processed | B25 processed | B26 processed | B27 processed | B28 processed | B29 processed | B30 processed | B31 processed | "
     ]
    },
    {
     "name": "stderr",
     "output_type": "stream",
     "text": [
      "Found local copy...\n"
     ]
    },
    {
     "name": "stdout",
     "output_type": "stream",
     "text": [
      "B32 processed | Human score at HITL iteration 1: [1.0, 0.9435420312058261, 0.9884351715451507, 0.960927480310093, 0.8521356338875765, 0.7817066534097533, 0.9296836745981583, 0.969136168937014]\n",
      "New queried dataset size: 56\n",
      "Combined dataset size: 536\n",
      "Saved augmented training data at output_bradley_terry_n_steps_100/R3_T5_Q8_acq_greedy_noise_0.1/REINVENT_round_2/HITL_iteration_1/iteration_combined_data.csv\n",
      "Epoch 5, Loss: 0.4895693411429723\n",
      "Epoch 10, Loss: 0.4894327794512113\n",
      "Epoch 15, Loss: 0.4892641504605611\n",
      "Epoch 20, Loss: 0.4891043355067571\n",
      "Epoch 25, Loss: 0.4889167547225952\n",
      "Saved retrained feedback model at output_bradley_terry_n_steps_100/R3_T5_Q8_acq_greedy_noise_0.1/REINVENT_round_2/HITL_iteration_1/bradley_terry_model.pth\n",
      "----------------------------------\n",
      "HITL iteration = 2\n",
      "Loading Bradley Terry model successfully from output_bradley_terry_n_steps_100/R3_T5_Q8_acq_greedy_noise_0.1/REINVENT_round_2/HITL_iteration_1/bradley_terry_model.pth\n",
      "B1 processed | B2 processed | B3 processed | B4 processed | B5 processed | B6 processed | B7 processed | B8 processed | B9 processed | B10 processed | B11 processed | B12 processed | B13 processed | B14 processed | B15 processed | B16 processed | B17 processed | B18 processed | B19 processed | B20 processed | B21 processed | B22 processed | B23 processed | B24 processed | B25 processed | B26 processed | B27 processed | B28 processed | B29 processed | B30 processed | B31 processed | "
     ]
    },
    {
     "name": "stderr",
     "output_type": "stream",
     "text": [
      "Found local copy...\n"
     ]
    },
    {
     "name": "stdout",
     "output_type": "stream",
     "text": [
      "B32 processed | Human score at HITL iteration 2: [0.9822892722630107, 0.8166918523723483, 1.0, 0.9614916570283514, 0.3877037534006274, 0.21483871686555361, 1.0, 1.0]\n",
      "New queried dataset size: 56\n",
      "Combined dataset size: 592\n",
      "Saved augmented training data at output_bradley_terry_n_steps_100/R3_T5_Q8_acq_greedy_noise_0.1/REINVENT_round_2/HITL_iteration_2/iteration_combined_data.csv\n",
      "Epoch 5, Loss: 0.8197350800037384\n",
      "Epoch 10, Loss: 0.8193764761090279\n",
      "Epoch 15, Loss: 0.8189986161887646\n",
      "Epoch 20, Loss: 0.818570252507925\n",
      "Epoch 25, Loss: 0.8181260749697685\n",
      "Saved retrained feedback model at output_bradley_terry_n_steps_100/R3_T5_Q8_acq_greedy_noise_0.1/REINVENT_round_2/HITL_iteration_2/bradley_terry_model.pth\n",
      "----------------------------------\n",
      "HITL iteration = 3\n",
      "Loading Bradley Terry model successfully from output_bradley_terry_n_steps_100/R3_T5_Q8_acq_greedy_noise_0.1/REINVENT_round_2/HITL_iteration_2/bradley_terry_model.pth\n",
      "B1 processed | B2 processed | B3 processed | B4 processed | B5 processed | B6 processed | B7 processed | B8 processed | B9 processed | B10 processed | B11 processed | B12 processed | B13 processed | B14 processed | B15 processed | B16 processed | B17 processed | B18 processed | B19 processed | B20 processed | B21 processed | B22 processed | B23 processed | B24 processed | B25 processed | B26 processed | B27 processed | B28 processed | B29 processed | B30 processed | B31 processed | "
     ]
    },
    {
     "name": "stderr",
     "output_type": "stream",
     "text": [
      "Found local copy...\n"
     ]
    },
    {
     "name": "stdout",
     "output_type": "stream",
     "text": [
      "B32 processed | Human score at HITL iteration 3: [0.7906009358629223, 0.9217948948409845, 0.11197575660953409, 0.7145250388284351, 0.95207877960437, 0.9501707372661139, 0.8579940059314376, 0.8503676999736078]\n",
      "New queried dataset size: 56\n",
      "Combined dataset size: 648\n",
      "Saved augmented training data at output_bradley_terry_n_steps_100/R3_T5_Q8_acq_greedy_noise_0.1/REINVENT_round_2/HITL_iteration_3/iteration_combined_data.csv\n",
      "Epoch 5, Loss: 1.8085665106773376\n",
      "Epoch 10, Loss: 1.8075971528887749\n",
      "Epoch 15, Loss: 1.8061466813087463\n",
      "Epoch 20, Loss: 1.805328942835331\n",
      "Epoch 25, Loss: 1.8039057701826096\n",
      "Saved retrained feedback model at output_bradley_terry_n_steps_100/R3_T5_Q8_acq_greedy_noise_0.1/REINVENT_round_2/HITL_iteration_3/bradley_terry_model.pth\n",
      "----------------------------------\n",
      "HITL iteration = 4\n",
      "Loading Bradley Terry model successfully from output_bradley_terry_n_steps_100/R3_T5_Q8_acq_greedy_noise_0.1/REINVENT_round_2/HITL_iteration_3/bradley_terry_model.pth\n",
      "B1 processed | B2 processed | B3 processed | B4 processed | B5 processed | B6 processed | B7 processed | B8 processed | B9 processed | B10 processed | B11 processed | B12 processed | B13 processed | B14 processed | B15 processed | B16 processed | B17 processed | B18 processed | B19 processed | B20 processed | B21 processed | B22 processed | B23 processed | B24 processed | B25 processed | B26 processed | B27 processed | B28 processed | B29 processed | B30 processed | B31 processed | "
     ]
    },
    {
     "name": "stderr",
     "output_type": "stream",
     "text": [
      "Found local copy...\n"
     ]
    },
    {
     "name": "stdout",
     "output_type": "stream",
     "text": [
      "B32 processed | Human score at HITL iteration 4: [1.0, 0.9639609119467378, 0.9140217226282965, 1.0, 1.0, 0.9354857701437704, 0.1347796466605788, 1.0]\n",
      "New queried dataset size: 56\n",
      "Combined dataset size: 704\n",
      "Saved augmented training data at output_bradley_terry_n_steps_100/R3_T5_Q8_acq_greedy_noise_0.1/REINVENT_round_2/HITL_iteration_4/iteration_combined_data.csv\n",
      "Epoch 5, Loss: 0.47245090268552303\n",
      "Epoch 10, Loss: 0.47210434824228287\n",
      "Epoch 15, Loss: 0.4717323873192072\n",
      "Epoch 20, Loss: 0.47133443132042885\n",
      "Epoch 25, Loss: 0.47091189585626125\n",
      "Saved retrained feedback model at output_bradley_terry_n_steps_100/R3_T5_Q8_acq_greedy_noise_0.1/REINVENT_round_2/HITL_iteration_4/bradley_terry_model.pth\n",
      "----------------------------------\n",
      "HITL iteration = 5\n",
      "Loading Bradley Terry model successfully from output_bradley_terry_n_steps_100/R3_T5_Q8_acq_greedy_noise_0.1/REINVENT_round_2/HITL_iteration_4/bradley_terry_model.pth\n",
      "B1 processed | B2 processed | B3 processed | B4 processed | B5 processed | B6 processed | B7 processed | B8 processed | B9 processed | B10 processed | B11 processed | B12 processed | B13 processed | B14 processed | B15 processed | B16 processed | B17 processed | B18 processed | B19 processed | B20 processed | B21 processed | B22 processed | B23 processed | B24 processed | B25 processed | B26 processed | B27 processed | B28 processed | B29 processed | B30 processed | B31 processed | "
     ]
    },
    {
     "name": "stderr",
     "output_type": "stream",
     "text": [
      "Found local copy...\n"
     ]
    },
    {
     "name": "stdout",
     "output_type": "stream",
     "text": [
      "B32 processed | Human score at HITL iteration 5: [0.9964171052195993, 1.0, 0.6515062670103554, 0.8150682750951602, 0.7978642341635692, 0.9700949107375546, 0.9117396202082567, 0.7966566628051361]\n",
      "New queried dataset size: 56\n",
      "Combined dataset size: 760\n",
      "Saved augmented training data at output_bradley_terry_n_steps_100/R3_T5_Q8_acq_greedy_noise_0.1/REINVENT_round_2/HITL_iteration_5/iteration_combined_data.csv\n",
      "Epoch 5, Loss: 0.6849718615412712\n",
      "Epoch 10, Loss: 0.6843120927611986\n",
      "Epoch 15, Loss: 0.6836963593959808\n",
      "Epoch 20, Loss: 0.6829751084248225\n",
      "Epoch 25, Loss: 0.682238350311915\n",
      "Saved retrained feedback model at output_bradley_terry_n_steps_100/R3_T5_Q8_acq_greedy_noise_0.1/REINVENT_round_2/HITL_iteration_5/bradley_terry_model.pth\n",
      "=====================================\n",
      "REINVENT round = 3\n",
      "Creating config file: output_bradley_terry_n_steps_100/R3_T5_Q8_acq_greedy_noise_0.1/REINVENT_round_3/config.json.\n",
      "Run REINVENT\n",
      "Exit code: 0\n",
      "Number of SMILES in scaffold_memory.csv:  5008\n",
      "----------------------------------\n",
      "HITL iteration = 1\n",
      "Loading Bradley Terry model successfully from output_bradley_terry_n_steps_100/R3_T5_Q8_acq_greedy_noise_0.1/REINVENT_round_2/HITL_iteration_5/bradley_terry_model.pth\n",
      "B1 processed | B2 processed | B3 processed | B4 processed | B5 processed | B6 processed | B7 processed | B8 processed | B9 processed | B10 processed | B11 processed | B12 processed | B13 processed | B14 processed | B15 processed | B16 processed | B17 processed | B18 processed | B19 processed | B20 processed | B21 processed | B22 processed | B23 processed | B24 processed | B25 processed | B26 processed | B27 processed | B28 processed | B29 processed | B30 processed | B31 processed | "
     ]
    },
    {
     "name": "stderr",
     "output_type": "stream",
     "text": [
      "Found local copy...\n"
     ]
    },
    {
     "name": "stdout",
     "output_type": "stream",
     "text": [
      "B32 processed | Human score at HITL iteration 1: [0.7927532430928547, 1.0, 1.0, 0.9481687251473474, 0.6416070437202918, 0.8106213412485788, 0.2994001069573959, 1.0]\n",
      "New queried dataset size: 56\n",
      "Combined dataset size: 816\n",
      "Saved augmented training data at output_bradley_terry_n_steps_100/R3_T5_Q8_acq_greedy_noise_0.1/REINVENT_round_3/HITL_iteration_1/iteration_combined_data.csv\n",
      "Epoch 5, Loss: 1.1085506416857243\n",
      "Epoch 10, Loss: 1.1076587662100792\n",
      "Epoch 15, Loss: 1.1060220636427402\n",
      "Epoch 20, Loss: 1.1052112057805061\n",
      "Epoch 25, Loss: 1.1039215922355652\n",
      "Saved retrained feedback model at output_bradley_terry_n_steps_100/R3_T5_Q8_acq_greedy_noise_0.1/REINVENT_round_3/HITL_iteration_1/bradley_terry_model.pth\n",
      "----------------------------------\n",
      "HITL iteration = 2\n",
      "Loading Bradley Terry model successfully from output_bradley_terry_n_steps_100/R3_T5_Q8_acq_greedy_noise_0.1/REINVENT_round_3/HITL_iteration_1/bradley_terry_model.pth\n",
      "B1 processed | B2 processed | B3 processed | B4 processed | B5 processed | B6 processed | B7 processed | B8 processed | B9 processed | B10 processed | B11 processed | B12 processed | B13 processed | B14 processed | B15 processed | B16 processed | B17 processed | B18 processed | B19 processed | B20 processed | B21 processed | B22 processed | B23 processed | B24 processed | B25 processed | B26 processed | B27 processed | B28 processed | B29 processed | B30 processed | B31 processed | "
     ]
    },
    {
     "name": "stderr",
     "output_type": "stream",
     "text": [
      "Found local copy...\n"
     ]
    },
    {
     "name": "stdout",
     "output_type": "stream",
     "text": [
      "B32 processed | Human score at HITL iteration 2: [0.9348029964699616, 1.0, 1.0, 1.0, 0.025707562420218946, 0.7954206086150567, 0.9559770903484806, 0.7461861143178947]\n",
      "New queried dataset size: 56\n",
      "Combined dataset size: 872\n",
      "Saved augmented training data at output_bradley_terry_n_steps_100/R3_T5_Q8_acq_greedy_noise_0.1/REINVENT_round_3/HITL_iteration_2/iteration_combined_data.csv\n",
      "Epoch 5, Loss: 2.3784327805042267\n",
      "Epoch 10, Loss: 2.3768334686756134\n",
      "Epoch 15, Loss: 2.373071901500225\n",
      "Epoch 20, Loss: 2.3704573214054108\n",
      "Epoch 25, Loss: 2.369418866932392\n",
      "Saved retrained feedback model at output_bradley_terry_n_steps_100/R3_T5_Q8_acq_greedy_noise_0.1/REINVENT_round_3/HITL_iteration_2/bradley_terry_model.pth\n",
      "----------------------------------\n",
      "HITL iteration = 3\n",
      "Loading Bradley Terry model successfully from output_bradley_terry_n_steps_100/R3_T5_Q8_acq_greedy_noise_0.1/REINVENT_round_3/HITL_iteration_2/bradley_terry_model.pth\n",
      "B1 processed | B2 processed | B3 processed | B4 processed | B5 processed | B6 processed | B7 processed | B8 processed | B9 processed | B10 processed | B11 processed | B12 processed | B13 processed | B14 processed | B15 processed | B16 processed | B17 processed | B18 processed | B19 processed | B20 processed | B21 processed | B22 processed | B23 processed | B24 processed | B25 processed | B26 processed | B27 processed | B28 processed | B29 processed | B30 processed | B31 processed | "
     ]
    },
    {
     "name": "stderr",
     "output_type": "stream",
     "text": [
      "Found local copy...\n"
     ]
    },
    {
     "name": "stdout",
     "output_type": "stream",
     "text": [
      "B32 processed | Human score at HITL iteration 3: [1.0, 1.0, 0.9966590818356338, 0.6770221207109554, 0.8304379331307014, 0.939233569722167, 0.9354426914011453, 0.639583976550153]\n",
      "New queried dataset size: 56\n",
      "Combined dataset size: 928\n",
      "Saved augmented training data at output_bradley_terry_n_steps_100/R3_T5_Q8_acq_greedy_noise_0.1/REINVENT_round_3/HITL_iteration_3/iteration_combined_data.csv\n",
      "Epoch 5, Loss: 0.6136796902865171\n",
      "Epoch 10, Loss: 0.6131270807236433\n",
      "Epoch 15, Loss: 0.6126105058938265\n",
      "Epoch 20, Loss: 0.6121304053813219\n",
      "Epoch 25, Loss: 0.6116885356605053\n",
      "Saved retrained feedback model at output_bradley_terry_n_steps_100/R3_T5_Q8_acq_greedy_noise_0.1/REINVENT_round_3/HITL_iteration_3/bradley_terry_model.pth\n",
      "----------------------------------\n",
      "HITL iteration = 4\n",
      "Loading Bradley Terry model successfully from output_bradley_terry_n_steps_100/R3_T5_Q8_acq_greedy_noise_0.1/REINVENT_round_3/HITL_iteration_3/bradley_terry_model.pth\n",
      "B1 processed | B2 processed | B3 processed | B4 processed | B5 processed | B6 processed | B7 processed | B8 processed | B9 processed | B10 processed | B11 processed | B12 processed | B13 processed | B14 processed | B15 processed | B16 processed | B17 processed | B18 processed | B19 processed | B20 processed | B21 processed | B22 processed | B23 processed | B24 processed | B25 processed | B26 processed | B27 processed | B28 processed | B29 processed | B30 processed | B31 processed | "
     ]
    },
    {
     "name": "stderr",
     "output_type": "stream",
     "text": [
      "Found local copy...\n"
     ]
    },
    {
     "name": "stdout",
     "output_type": "stream",
     "text": [
      "B32 processed | Human score at HITL iteration 4: [0.7981849992404525, 0.7265224814278957, 0.47080323539691493, 0.9694086645752619, 0.2171303560736953, 0.9925529056798945, 0.7886733028111992, 0.5226299704514035]\n",
      "New queried dataset size: 56\n",
      "Combined dataset size: 984\n",
      "Saved augmented training data at output_bradley_terry_n_steps_100/R3_T5_Q8_acq_greedy_noise_0.1/REINVENT_round_3/HITL_iteration_4/iteration_combined_data.csv\n",
      "Epoch 5, Loss: 0.8724180882175764\n",
      "Epoch 10, Loss: 0.8717378551761309\n",
      "Epoch 15, Loss: 0.8711856106917063\n",
      "Epoch 20, Loss: 0.8706139177083969\n",
      "Epoch 25, Loss: 0.8700982307394346\n",
      "Saved retrained feedback model at output_bradley_terry_n_steps_100/R3_T5_Q8_acq_greedy_noise_0.1/REINVENT_round_3/HITL_iteration_4/bradley_terry_model.pth\n",
      "----------------------------------\n",
      "HITL iteration = 5\n",
      "Loading Bradley Terry model successfully from output_bradley_terry_n_steps_100/R3_T5_Q8_acq_greedy_noise_0.1/REINVENT_round_3/HITL_iteration_4/bradley_terry_model.pth\n",
      "B1 processed | B2 processed | B3 processed | B4 processed | B5 processed | B6 processed | B7 processed | B8 processed | B9 processed | B10 processed | B11 processed | B12 processed | B13 processed | B14 processed | B15 processed | B16 processed | B17 processed | B18 processed | B19 processed | B20 processed | B21 processed | B22 processed | B23 processed | B24 processed | B25 processed | B26 processed | B27 processed | B28 processed | B29 processed | B30 processed | B31 processed | "
     ]
    },
    {
     "name": "stderr",
     "output_type": "stream",
     "text": [
      "Found local copy...\n"
     ]
    },
    {
     "name": "stdout",
     "output_type": "stream",
     "text": [
      "B32 processed | Human score at HITL iteration 5: [0.9618755899564847, 1.0, 0.9298568181004594, 0.30974141908886244, 0.2768228821951553, 0.8831190838450398, 1.0, 0.6203974934565578]\n",
      "New queried dataset size: 56\n",
      "Combined dataset size: 1040\n",
      "Saved augmented training data at output_bradley_terry_n_steps_100/R3_T5_Q8_acq_greedy_noise_0.1/REINVENT_round_3/HITL_iteration_5/iteration_combined_data.csv\n",
      "Epoch 5, Loss: 1.3904367610812187\n",
      "Epoch 10, Loss: 1.3896121457219124\n",
      "Epoch 15, Loss: 1.388481080532074\n",
      "Epoch 20, Loss: 1.3876683972775936\n",
      "Epoch 25, Loss: 1.3874942660331726\n",
      "Saved retrained feedback model at output_bradley_terry_n_steps_100/R3_T5_Q8_acq_greedy_noise_0.1/REINVENT_round_3/HITL_iteration_5/bradley_terry_model.pth\n",
      "=====================================\n",
      "REINVENT round = 4\n",
      "Creating config file: output_bradley_terry_n_steps_100/R3_T5_Q8_acq_greedy_noise_0.1/REINVENT_round_4/config.json.\n",
      "Run REINVENT\n",
      "Exit code: 0\n"
     ]
    }
   ],
   "source": [
    "! pip install -e \"/home/springnuance/reinvent-hitl/reinvent-scoring\"\n",
    "\n",
    "seed = 42\n",
    "  \n",
    "# change these path variables as required\n",
    "reinvent_dir = \"/home/springnuance/reinvent-hitl/Reinvent\" # We must use absolute path\n",
    "reinvent_env = \"/home/springnuance/miniconda3/envs/ReinventCommunity\" # We must use absolute path\n",
    "\n",
    "# the performance of the initial model should not be good. Specifically, it should work at 0.5 accuracy \n",
    "# If the model is too good, retrain the model to become weaker, we are trying to make the model to learn via HITL\n",
    "\n",
    "feedback_type = \"comparing\" # scoring, comparing, ranking\n",
    "\n",
    "# feedback type as comparing:\n",
    "# Given two molecules, what is the probability that the first molecule is more active than the second molecule regarding DRD2?\n",
    "\n",
    "base_training_dataset_path = \"/home/springnuance/reinvent-hitl/Base-Code-Binh/training_Bradley_Terry_model/small_drd2_training_data.csv\"\n",
    "\n",
    "model_pretrained_path = \"/home/springnuance/reinvent-hitl/Base-Code-Binh/training_Bradley_Terry_model/bradley_terry_model.pth\"\n",
    "model_pretrained_name = \"bradley_terry_model.pth\"\n",
    "\n",
    "num_rounds = 3 # number of rounds, corresponding to R in the paper\n",
    "num_iters = 5 # number of iterations of showing molecules to the human for feedback at each round\n",
    "REINVENT_n_steps = 100 # number of REINVENT optimization steps\n",
    "batch_size = 64 # batch size of the reinforcement learning model, or size of scaffold_memory.csv\n",
    "\n",
    "num_queries = 8 # number of molecules, pairs or a set of molecules, dependig on the task, \n",
    "                 # shown to the simulated chemist at each HITL_iteration\n",
    "\n",
    "# The actual queries is actually (num_queries) x (num_queries - 1), since we are comparing each pair of molecules\n",
    "# As a result, 8 x 7 = 56 pairs of molecules are shown to the simulated chemist at each HITL_iteration\n",
    "\n",
    "choose_top_smiles = 56 * num_iters * 2 # number of top molecules to choose from scaffold. \n",
    "\n",
    "training_epochs = 25 # number of epochs for training the model in each HITL iteration\n",
    "learning_rate = 0.000001 # learning rate for training the model in each HITL iteration\n",
    "\n",
    "for acquisition in [\"random\", \"uncertainty\", \"greedy\"]:\n",
    "    for sigma_noise in [0.0, 0.1]:\n",
    "        print(\"\\n*******************************************************************\")\n",
    "        print(f\"Running HITL with {acquisition} acquisition and noise {sigma_noise}\")\n",
    "        output_dir = f\"output_bradley_terry_n_steps_100/R{num_rounds}_T{num_iters}_Q{num_queries}_acq_{acquisition}_noise_{sigma_noise}\"\n",
    "\n",
    "        if os.path.exists(output_dir):\n",
    "            pass\n",
    "        else:\n",
    "            run_HITL_classify(\n",
    "                    seed, reinvent_dir, reinvent_env, output_dir,\n",
    "                    feedback_type, # scoring, comparing, ranking\n",
    "                    base_training_dataset_path, # Path to the pretrained model before REINVENT_round_1/HITL_iteration_1\n",
    "                    model_pretrained_path, # Path to the pretrained model before REINVENT_round_1\n",
    "                    model_pretrained_name, # Name of the pretrained model before REINVENT_round_1\n",
    "                    num_rounds, # number of rounds, corresponding to R in the paper\n",
    "                    num_iters, # number of iterations of showing molecules to the human for feedback at each round, corresponding to T in the paper\n",
    "                    num_queries, # number of molecules shown to the simulated chemist at each HITL_iteration\n",
    "                    REINVENT_n_steps, # number of REINVENT optimization steps\n",
    "                    batch_size, # batch size of the reinforcement learning model, or size of scaffold_memory.csv\n",
    "                    acquisition, # acquisition: 'uncertainty', 'random', 'thompson', 'greedy' (if None run with no human interaction)\n",
    "                    sigma_noise, # noise level for simulated chemist's responses\n",
    "                    choose_top_smiles, # number of top scoring molecules to choose for feedback\n",
    "                    training_epochs, # number of epochs for training the model in each HITL iteration\n",
    "                    learning_rate, # learning rate for training the model in each HITL iteration\n",
    "            )\n",
    "\n",
    "        if not os.path.exists(f\"{output_dir}/REINVENT_round_{num_rounds+1}\"):\n",
    "            REINVENT_n_steps_last = 200\n",
    "            batch_size_last = 64\n",
    "            # Run the last REINVENT round using the last feedback model\n",
    "            current_model_path = f\"{output_dir}/REINVENT_round_{num_rounds}/HITL_iteration_{num_iters}/{model_pretrained_name}\"\n",
    "            run_REINVENT_round(num_rounds+1,\n",
    "                reinvent_dir, reinvent_env, output_dir, \n",
    "                feedback_type, # scoring, comparing, ranking\n",
    "                current_model_path, # Path to the pretrained model \n",
    "                REINVENT_n_steps_last, # number of REINVENT optimization steps. This is not related to the HITL but on the REINVENT side\n",
    "                batch_size_last, # batch size of the reinforcement learning model, or size of scaffold_memory.csv\n",
    "            )\n",
    "        else:\n",
    "            print(f\"Already ran the last REINVENT round for {output_dir}\")\n"
   ]
  },
  {
   "cell_type": "markdown",
   "metadata": {},
   "source": [
    "### Running Rank ListNet model"
   ]
  },
  {
   "cell_type": "code",
   "execution_count": 11,
   "metadata": {},
   "outputs": [
    {
     "name": "stdout",
     "output_type": "stream",
     "text": [
      "Obtaining file:///home/springnuance/reinvent-hitl/reinvent-scoring\n",
      "  Preparing metadata (setup.py) ... \u001b[?25ldone\n",
      "\u001b[?25hInstalling collected packages: reinvent-scoring\n",
      "  Attempting uninstall: reinvent-scoring\n",
      "    Found existing installation: reinvent-scoring 0.0.73\n",
      "    Uninstalling reinvent-scoring-0.0.73:\n",
      "      Successfully uninstalled reinvent-scoring-0.0.73\n",
      "  Running setup.py develop for reinvent-scoring\n",
      "Successfully installed reinvent-scoring-0.0.73\n",
      "\n",
      "\u001b[1m[\u001b[0m\u001b[34;49mnotice\u001b[0m\u001b[1;39;49m]\u001b[0m\u001b[39;49m A new release of pip is available: \u001b[0m\u001b[31;49m24.0\u001b[0m\u001b[39;49m -> \u001b[0m\u001b[32;49m24.1.2\u001b[0m\n",
      "\u001b[1m[\u001b[0m\u001b[34;49mnotice\u001b[0m\u001b[1;39;49m]\u001b[0m\u001b[39;49m To update, run: \u001b[0m\u001b[32;49mpip install --upgrade pip\u001b[0m\n",
      "\n",
      "*******************************************************************\n",
      "Running HITL with random acquisition and noise 0.0\n",
      "Already ran the last REINVENT round for output_rank_listnet_n_steps_100/R3_T5_Q8_acq_random_noise_0.0\n",
      "\n",
      "*******************************************************************\n",
      "Running HITL with random acquisition and noise 0.1\n",
      "Already ran the last REINVENT round for output_rank_listnet_n_steps_100/R3_T5_Q8_acq_random_noise_0.1\n",
      "\n",
      "*******************************************************************\n",
      "Running HITL with uncertainty acquisition and noise 0.0\n",
      "\n",
      "Running DRD2 (one objective) with rounds 3, iters 5, queries 8, seed 42\n",
      "Results will be saved at output_rank_listnet_n_steps_100/R3_T5_Q8_acq_uncertainty_noise_0.0\n",
      "Loading initial training datasets successfully\n",
      "=====================================\n",
      "REINVENT round = 1\n",
      "Creating config file: output_rank_listnet_n_steps_100/R3_T5_Q8_acq_uncertainty_noise_0.0/REINVENT_round_1/config.json.\n",
      "Run REINVENT\n",
      "Exit code: 0\n",
      "Number of SMILES in scaffold_memory.csv:  6160\n",
      "----------------------------------\n",
      "HITL iteration = 1\n",
      "Loading Rank ListNet model successfully from /home/springnuance/reinvent-hitl/Base-Code-Binh/training_Rank_ListNet_model/rank_listnet_model.pth\n",
      "B1 processed | B2 processed | B3 processed | B4 processed | B5 processed | B6 processed | B7 processed | B8 processed | "
     ]
    },
    {
     "name": "stderr",
     "output_type": "stream",
     "text": [
      "Found local copy...\n"
     ]
    },
    {
     "name": "stdout",
     "output_type": "stream",
     "text": [
      "B9 processed | Human score at HITL iteration 1: [0.0016792732525271448, 0.001355437265589983, 0.008549279621678502, 0.019175283269487694, 0.001136894957438439, 0.004610941209349772, 0.0004182572864760244, 0.02250796278514377]\n",
      "New queried dataset size: 56\n",
      "Combined dataset size: 256\n",
      "Saved augmented training data at output_rank_listnet_n_steps_100/R3_T5_Q8_acq_uncertainty_noise_0.0/REINVENT_round_1/HITL_iteration_1/iteration_combined_data.csv\n",
      "Epoch 5, Loss: 0.013360511627979577\n",
      "Epoch 10, Loss: 0.013342257007025182\n",
      "Epoch 15, Loss: 0.013323852559551597\n",
      "Epoch 20, Loss: 0.013304785592481494\n",
      "Epoch 25, Loss: 0.013285338878631592\n",
      "Saved retrained feedback model at output_rank_listnet_n_steps_100/R3_T5_Q8_acq_uncertainty_noise_0.0/REINVENT_round_1/HITL_iteration_1/rank_listnet_model.pth\n",
      "----------------------------------\n",
      "HITL iteration = 2\n",
      "Loading Rank ListNet model successfully from output_rank_listnet_n_steps_100/R3_T5_Q8_acq_uncertainty_noise_0.0/REINVENT_round_1/HITL_iteration_1/rank_listnet_model.pth\n",
      "B1 processed | B2 processed | B3 processed | B4 processed | B5 processed | B6 processed | B7 processed | B8 processed | "
     ]
    },
    {
     "name": "stderr",
     "output_type": "stream",
     "text": [
      "Found local copy...\n"
     ]
    },
    {
     "name": "stdout",
     "output_type": "stream",
     "text": [
      "B9 processed | Human score at HITL iteration 2: [0.04755637579597877, 0.000455267920529446, 0.020729585542425454, 0.00013574186965920984, 2.8883748421837482e-05, 0.006243266774914877, 0.057159920977922114, 0.0014024616306254729]\n",
      "New queried dataset size: 56\n",
      "Combined dataset size: 312\n",
      "Saved augmented training data at output_rank_listnet_n_steps_100/R3_T5_Q8_acq_uncertainty_noise_0.0/REINVENT_round_1/HITL_iteration_2/iteration_combined_data.csv\n",
      "Epoch 5, Loss: 0.018030582927167416\n",
      "Epoch 10, Loss: 0.018124034628272057\n",
      "Epoch 15, Loss: 0.018069103204955656\n",
      "Epoch 20, Loss: 0.018038115231320262\n",
      "Epoch 25, Loss: 0.01809461632122596\n",
      "Saved retrained feedback model at output_rank_listnet_n_steps_100/R3_T5_Q8_acq_uncertainty_noise_0.0/REINVENT_round_1/HITL_iteration_2/rank_listnet_model.pth\n",
      "----------------------------------\n",
      "HITL iteration = 3\n",
      "Loading Rank ListNet model successfully from output_rank_listnet_n_steps_100/R3_T5_Q8_acq_uncertainty_noise_0.0/REINVENT_round_1/HITL_iteration_2/rank_listnet_model.pth\n",
      "B1 processed | B2 processed | B3 processed | B4 processed | B5 processed | B6 processed | B7 processed | B8 processed | "
     ]
    },
    {
     "name": "stderr",
     "output_type": "stream",
     "text": [
      "Found local copy...\n"
     ]
    },
    {
     "name": "stdout",
     "output_type": "stream",
     "text": [
      "B9 processed | Human score at HITL iteration 3: [0.00019507939589818535, 0.017419461224851766, 0.021593542231933088, 0.004511007729870292, 0.011783212062191737, 0.0008378693280633591, 0.0006868808987660773, 0.002587764116684091]\n",
      "New queried dataset size: 56\n",
      "Combined dataset size: 368\n",
      "Saved augmented training data at output_rank_listnet_n_steps_100/R3_T5_Q8_acq_uncertainty_noise_0.0/REINVENT_round_1/HITL_iteration_3/iteration_combined_data.csv\n",
      "Epoch 5, Loss: 0.02754830615594983\n",
      "Epoch 10, Loss: 0.02697470469865948\n",
      "Epoch 15, Loss: 0.027850381447933614\n",
      "Epoch 20, Loss: 0.02802710619289428\n",
      "Epoch 25, Loss: 0.02730112976860255\n",
      "Saved retrained feedback model at output_rank_listnet_n_steps_100/R3_T5_Q8_acq_uncertainty_noise_0.0/REINVENT_round_1/HITL_iteration_3/rank_listnet_model.pth\n",
      "----------------------------------\n",
      "HITL iteration = 4\n",
      "Loading Rank ListNet model successfully from output_rank_listnet_n_steps_100/R3_T5_Q8_acq_uncertainty_noise_0.0/REINVENT_round_1/HITL_iteration_3/rank_listnet_model.pth\n",
      "B1 processed | B2 processed | B3 processed | B4 processed | B5 processed | B6 processed | B7 processed | B8 processed | "
     ]
    },
    {
     "name": "stderr",
     "output_type": "stream",
     "text": [
      "Found local copy...\n"
     ]
    },
    {
     "name": "stdout",
     "output_type": "stream",
     "text": [
      "B9 processed | Human score at HITL iteration 4: [0.016235424530745796, 0.0050765394942522135, 0.00203805716213563, 0.15617017674047587, 0.023286737829927653, 0.012961075601498733, 0.057578208792739984, 0.0009130171124622815]\n",
      "New queried dataset size: 56\n",
      "Combined dataset size: 424\n",
      "Saved augmented training data at output_rank_listnet_n_steps_100/R3_T5_Q8_acq_uncertainty_noise_0.0/REINVENT_round_1/HITL_iteration_4/iteration_combined_data.csv\n",
      "Epoch 5, Loss: 0.05622461414895952\n",
      "Epoch 10, Loss: 0.054462600499391556\n",
      "Epoch 15, Loss: 0.053082222351804376\n",
      "Epoch 20, Loss: 0.0544571653008461\n",
      "Epoch 25, Loss: 0.0556581427808851\n",
      "Saved retrained feedback model at output_rank_listnet_n_steps_100/R3_T5_Q8_acq_uncertainty_noise_0.0/REINVENT_round_1/HITL_iteration_4/rank_listnet_model.pth\n",
      "----------------------------------\n",
      "HITL iteration = 5\n",
      "Loading Rank ListNet model successfully from output_rank_listnet_n_steps_100/R3_T5_Q8_acq_uncertainty_noise_0.0/REINVENT_round_1/HITL_iteration_4/rank_listnet_model.pth\n",
      "B1 processed | B2 processed | B3 processed | B4 processed | B5 processed | B6 processed | B7 processed | B8 processed | "
     ]
    },
    {
     "name": "stderr",
     "output_type": "stream",
     "text": [
      "Found local copy...\n"
     ]
    },
    {
     "name": "stdout",
     "output_type": "stream",
     "text": [
      "B9 processed | Human score at HITL iteration 5: [0.0018949986867466471, 0.0016635538677329275, 0.0011577184833628496, 0.028731093209345714, 0.000929772624485198, 0.011009115206571177, 0.019659597669805382, 0.008403664821168435]\n",
      "New queried dataset size: 56\n",
      "Combined dataset size: 480\n",
      "Saved augmented training data at output_rank_listnet_n_steps_100/R3_T5_Q8_acq_uncertainty_noise_0.0/REINVENT_round_1/HITL_iteration_5/iteration_combined_data.csv\n",
      "Epoch 5, Loss: 0.0126669168821536\n",
      "Epoch 10, Loss: 0.012587366858497262\n",
      "Epoch 15, Loss: 0.012500942742917687\n",
      "Epoch 20, Loss: 0.012405824498273432\n",
      "Epoch 25, Loss: 0.01230226515326649\n",
      "Saved retrained feedback model at output_rank_listnet_n_steps_100/R3_T5_Q8_acq_uncertainty_noise_0.0/REINVENT_round_1/HITL_iteration_5/rank_listnet_model.pth\n",
      "=====================================\n",
      "REINVENT round = 2\n",
      "Creating config file: output_rank_listnet_n_steps_100/R3_T5_Q8_acq_uncertainty_noise_0.0/REINVENT_round_2/config.json.\n",
      "Run REINVENT\n",
      "Exit code: 0\n",
      "Number of SMILES in scaffold_memory.csv:  6164\n",
      "----------------------------------\n",
      "HITL iteration = 1\n",
      "Loading Rank ListNet model successfully from output_rank_listnet_n_steps_100/R3_T5_Q8_acq_uncertainty_noise_0.0/REINVENT_round_1/HITL_iteration_5/rank_listnet_model.pth\n",
      "B1 processed | B2 processed | B3 processed | B4 processed | B5 processed | B6 processed | B7 processed | B8 processed | "
     ]
    },
    {
     "name": "stderr",
     "output_type": "stream",
     "text": [
      "Found local copy...\n"
     ]
    },
    {
     "name": "stdout",
     "output_type": "stream",
     "text": [
      "B9 processed | Human score at HITL iteration 1: [0.08618756362480455, 0.057776128986262484, 0.9840420958807888, 0.004613102231864157, 0.02084571522820952, 0.9907833421336979, 0.25512050799751546, 0.8235247333704306]\n",
      "New queried dataset size: 56\n",
      "Combined dataset size: 536\n",
      "Saved augmented training data at output_rank_listnet_n_steps_100/R3_T5_Q8_acq_uncertainty_noise_0.0/REINVENT_round_2/HITL_iteration_1/iteration_combined_data.csv\n",
      "Epoch 5, Loss: 0.021306647763897974\n",
      "Epoch 10, Loss: 0.021187065013994772\n",
      "Epoch 15, Loss: 0.02092814336841305\n",
      "Epoch 20, Loss: 0.02055856476848324\n",
      "Epoch 25, Loss: 0.020481050480157137\n",
      "Saved retrained feedback model at output_rank_listnet_n_steps_100/R3_T5_Q8_acq_uncertainty_noise_0.0/REINVENT_round_2/HITL_iteration_1/rank_listnet_model.pth\n",
      "----------------------------------\n",
      "HITL iteration = 2\n",
      "Loading Rank ListNet model successfully from output_rank_listnet_n_steps_100/R3_T5_Q8_acq_uncertainty_noise_0.0/REINVENT_round_2/HITL_iteration_1/rank_listnet_model.pth\n",
      "B1 processed | B2 processed | B3 processed | B4 processed | B5 processed | B6 processed | B7 processed | B8 processed | "
     ]
    },
    {
     "name": "stderr",
     "output_type": "stream",
     "text": [
      "Found local copy...\n"
     ]
    },
    {
     "name": "stdout",
     "output_type": "stream",
     "text": [
      "B9 processed | Human score at HITL iteration 2: [0.06879879716509946, 0.050433106185836185, 0.3121711086156361, 0.8532493417006972, 0.030513592166133682, 0.3700828925206275, 0.9145015056254507, 0.15795248959869618]\n",
      "New queried dataset size: 56\n",
      "Combined dataset size: 592\n",
      "Saved augmented training data at output_rank_listnet_n_steps_100/R3_T5_Q8_acq_uncertainty_noise_0.0/REINVENT_round_2/HITL_iteration_2/iteration_combined_data.csv\n",
      "Epoch 5, Loss: 0.035323241725564\n",
      "Epoch 10, Loss: 0.034827117109671235\n",
      "Epoch 15, Loss: 0.03460664418525994\n",
      "Epoch 20, Loss: 0.033487209933809936\n",
      "Epoch 25, Loss: 0.032809847267344594\n",
      "Saved retrained feedback model at output_rank_listnet_n_steps_100/R3_T5_Q8_acq_uncertainty_noise_0.0/REINVENT_round_2/HITL_iteration_2/rank_listnet_model.pth\n",
      "----------------------------------\n",
      "HITL iteration = 3\n",
      "Loading Rank ListNet model successfully from output_rank_listnet_n_steps_100/R3_T5_Q8_acq_uncertainty_noise_0.0/REINVENT_round_2/HITL_iteration_2/rank_listnet_model.pth\n",
      "B1 processed | B2 processed | B3 processed | B4 processed | B5 processed | B6 processed | B7 processed | B8 processed | "
     ]
    },
    {
     "name": "stderr",
     "output_type": "stream",
     "text": [
      "Found local copy...\n"
     ]
    },
    {
     "name": "stdout",
     "output_type": "stream",
     "text": [
      "B9 processed | Human score at HITL iteration 3: [0.25194739738313, 0.034054035962828216, 0.011394188003796782, 0.008206775425276962, 0.2599509310356654, 0.027901975882981538, 0.361733877754067, 0.0066717774763177876]\n",
      "New queried dataset size: 56\n",
      "Combined dataset size: 648\n",
      "Saved augmented training data at output_rank_listnet_n_steps_100/R3_T5_Q8_acq_uncertainty_noise_0.0/REINVENT_round_2/HITL_iteration_3/iteration_combined_data.csv\n",
      "Epoch 5, Loss: 0.06662652641534805\n",
      "Epoch 10, Loss: 0.06524778774473816\n",
      "Epoch 15, Loss: 0.06395292317029089\n",
      "Epoch 20, Loss: 0.06255651952233166\n",
      "Epoch 25, Loss: 0.05939037958160043\n",
      "Saved retrained feedback model at output_rank_listnet_n_steps_100/R3_T5_Q8_acq_uncertainty_noise_0.0/REINVENT_round_2/HITL_iteration_3/rank_listnet_model.pth\n",
      "----------------------------------\n",
      "HITL iteration = 4\n",
      "Loading Rank ListNet model successfully from output_rank_listnet_n_steps_100/R3_T5_Q8_acq_uncertainty_noise_0.0/REINVENT_round_2/HITL_iteration_3/rank_listnet_model.pth\n",
      "B1 processed | B2 processed | B3 processed | B4 processed | B5 processed | B6 processed | B7 processed | B8 processed | "
     ]
    },
    {
     "name": "stderr",
     "output_type": "stream",
     "text": [
      "Found local copy...\n"
     ]
    },
    {
     "name": "stdout",
     "output_type": "stream",
     "text": [
      "B9 processed | Human score at HITL iteration 4: [0.0420393609808775, 0.04215128166375924, 0.27968405158506654, 0.5, 0.31064178356156585, 0.04877715076690225, 0.45965603298170166, 0.07539946638071353]\n",
      "New queried dataset size: 56\n",
      "Combined dataset size: 704\n",
      "Saved augmented training data at output_rank_listnet_n_steps_100/R3_T5_Q8_acq_uncertainty_noise_0.0/REINVENT_round_2/HITL_iteration_4/iteration_combined_data.csv\n",
      "Epoch 5, Loss: 0.014744505751878023\n",
      "Epoch 10, Loss: 0.014242467877920717\n",
      "Epoch 15, Loss: 0.013710900588193908\n",
      "Epoch 20, Loss: 0.013152008265024051\n",
      "Epoch 25, Loss: 0.012569360056659207\n",
      "Saved retrained feedback model at output_rank_listnet_n_steps_100/R3_T5_Q8_acq_uncertainty_noise_0.0/REINVENT_round_2/HITL_iteration_4/rank_listnet_model.pth\n",
      "----------------------------------\n",
      "HITL iteration = 5\n",
      "Loading Rank ListNet model successfully from output_rank_listnet_n_steps_100/R3_T5_Q8_acq_uncertainty_noise_0.0/REINVENT_round_2/HITL_iteration_4/rank_listnet_model.pth\n",
      "B1 processed | B2 processed | B3 processed | B4 processed | B5 processed | B6 processed | B7 processed | B8 processed | "
     ]
    },
    {
     "name": "stderr",
     "output_type": "stream",
     "text": [
      "Found local copy...\n"
     ]
    },
    {
     "name": "stdout",
     "output_type": "stream",
     "text": [
      "B9 processed | Human score at HITL iteration 5: [0.332321871038077, 0.05160216580591964, 0.2097343372086352, 0.07403456134203182, 0.1021350414809952, 0.9124334013116618, 0.06883269281686384, 0.0123810757605529]\n",
      "New queried dataset size: 56\n",
      "Combined dataset size: 760\n",
      "Saved augmented training data at output_rank_listnet_n_steps_100/R3_T5_Q8_acq_uncertainty_noise_0.0/REINVENT_round_2/HITL_iteration_5/iteration_combined_data.csv\n",
      "Epoch 5, Loss: 0.018160094662259024\n",
      "Epoch 10, Loss: 0.017423035382914048\n",
      "Epoch 15, Loss: 0.016295587527565658\n",
      "Epoch 20, Loss: 0.01529460617651542\n",
      "Epoch 25, Loss: 0.014323047711513937\n",
      "Saved retrained feedback model at output_rank_listnet_n_steps_100/R3_T5_Q8_acq_uncertainty_noise_0.0/REINVENT_round_2/HITL_iteration_5/rank_listnet_model.pth\n",
      "=====================================\n",
      "REINVENT round = 3\n",
      "Creating config file: output_rank_listnet_n_steps_100/R3_T5_Q8_acq_uncertainty_noise_0.0/REINVENT_round_3/config.json.\n",
      "Run REINVENT\n",
      "Exit code: 0\n",
      "Number of SMILES in scaffold_memory.csv:  6178\n",
      "----------------------------------\n",
      "HITL iteration = 1\n",
      "Loading Rank ListNet model successfully from output_rank_listnet_n_steps_100/R3_T5_Q8_acq_uncertainty_noise_0.0/REINVENT_round_2/HITL_iteration_5/rank_listnet_model.pth\n",
      "B1 processed | B2 processed | B3 processed | B4 processed | B5 processed | B6 processed | B7 processed | B8 processed | "
     ]
    },
    {
     "name": "stderr",
     "output_type": "stream",
     "text": [
      "Found local copy...\n"
     ]
    },
    {
     "name": "stdout",
     "output_type": "stream",
     "text": [
      "B9 processed | Human score at HITL iteration 1: [0.23843548476478957, 0.0033587261139559166, 0.004849200199232663, 0.009043372384326587, 0.8116358630805887, 0.8444202681703885, 0.17242861450054683, 0.6021980616041124]\n",
      "New queried dataset size: 56\n",
      "Combined dataset size: 816\n",
      "Saved augmented training data at output_rank_listnet_n_steps_100/R3_T5_Q8_acq_uncertainty_noise_0.0/REINVENT_round_3/HITL_iteration_1/iteration_combined_data.csv\n",
      "Epoch 5, Loss: 0.024760990869253874\n",
      "Epoch 10, Loss: 0.023155451519414783\n",
      "Epoch 15, Loss: 0.021466945006977767\n",
      "Epoch 20, Loss: 0.0198645124619361\n",
      "Epoch 25, Loss: 0.018030997627647594\n",
      "Saved retrained feedback model at output_rank_listnet_n_steps_100/R3_T5_Q8_acq_uncertainty_noise_0.0/REINVENT_round_3/HITL_iteration_1/rank_listnet_model.pth\n",
      "----------------------------------\n",
      "HITL iteration = 2\n",
      "Loading Rank ListNet model successfully from output_rank_listnet_n_steps_100/R3_T5_Q8_acq_uncertainty_noise_0.0/REINVENT_round_3/HITL_iteration_1/rank_listnet_model.pth\n",
      "B1 processed | B2 processed | B3 processed | B4 processed | B5 processed | B6 processed | B7 processed | B8 processed | "
     ]
    },
    {
     "name": "stderr",
     "output_type": "stream",
     "text": [
      "Found local copy...\n"
     ]
    },
    {
     "name": "stdout",
     "output_type": "stream",
     "text": [
      "B9 processed | Human score at HITL iteration 2: [0.6555108259213679, 0.1584582108930085, 0.11879684651844002, 0.5757449989025705, 0.05346430507470753, 0.3331021208463458, 0.6948740967694921, 0.007589194850156741]\n",
      "New queried dataset size: 56\n",
      "Combined dataset size: 872\n",
      "Saved augmented training data at output_rank_listnet_n_steps_100/R3_T5_Q8_acq_uncertainty_noise_0.0/REINVENT_round_3/HITL_iteration_2/iteration_combined_data.csv\n",
      "Epoch 5, Loss: 0.037345390883274376\n",
      "Epoch 10, Loss: 0.03455704846419394\n",
      "Epoch 15, Loss: 0.030671445128973573\n",
      "Epoch 20, Loss: 0.02762359398184344\n",
      "Epoch 25, Loss: 0.024403100891504437\n",
      "Saved retrained feedback model at output_rank_listnet_n_steps_100/R3_T5_Q8_acq_uncertainty_noise_0.0/REINVENT_round_3/HITL_iteration_2/rank_listnet_model.pth\n",
      "----------------------------------\n",
      "HITL iteration = 3\n",
      "Loading Rank ListNet model successfully from output_rank_listnet_n_steps_100/R3_T5_Q8_acq_uncertainty_noise_0.0/REINVENT_round_3/HITL_iteration_2/rank_listnet_model.pth\n",
      "B1 processed | B2 processed | B3 processed | B4 processed | B5 processed | B6 processed | B7 processed | B8 processed | "
     ]
    },
    {
     "name": "stderr",
     "output_type": "stream",
     "text": [
      "Found local copy...\n"
     ]
    },
    {
     "name": "stdout",
     "output_type": "stream",
     "text": [
      "B9 processed | Human score at HITL iteration 3: [0.04247689375631064, 0.0032099926695764052, 0.002037677662027517, 0.024792444815552782, 0.10394854360532359, 0.818561293088836, 0.22816986450398458, 0.548068880460195]\n",
      "New queried dataset size: 56\n",
      "Combined dataset size: 928\n",
      "Saved augmented training data at output_rank_listnet_n_steps_100/R3_T5_Q8_acq_uncertainty_noise_0.0/REINVENT_round_3/HITL_iteration_3/iteration_combined_data.csv\n",
      "Epoch 5, Loss: 0.006418982375180349\n",
      "Epoch 10, Loss: 0.005552056463784538\n",
      "Epoch 15, Loss: 0.004781702358741313\n",
      "Epoch 20, Loss: 0.004107081709662452\n",
      "Epoch 25, Loss: 0.0035289077495690435\n",
      "Saved retrained feedback model at output_rank_listnet_n_steps_100/R3_T5_Q8_acq_uncertainty_noise_0.0/REINVENT_round_3/HITL_iteration_3/rank_listnet_model.pth\n",
      "----------------------------------\n",
      "HITL iteration = 4\n",
      "Loading Rank ListNet model successfully from output_rank_listnet_n_steps_100/R3_T5_Q8_acq_uncertainty_noise_0.0/REINVENT_round_3/HITL_iteration_3/rank_listnet_model.pth\n",
      "B1 processed | B2 processed | B3 processed | B4 processed | B5 processed | B6 processed | B7 processed | B8 processed | "
     ]
    },
    {
     "name": "stderr",
     "output_type": "stream",
     "text": [
      "Found local copy...\n"
     ]
    },
    {
     "name": "stdout",
     "output_type": "stream",
     "text": [
      "B9 processed | Human score at HITL iteration 4: [0.18403155957561398, 0.007171115769546903, 0.021846669414201787, 0.7072446695632875, 0.132070150297868, 0.019407591559504344, 0.011163027909970072, 0.9374287801928696]\n",
      "New queried dataset size: 56\n",
      "Combined dataset size: 984\n",
      "Saved augmented training data at output_rank_listnet_n_steps_100/R3_T5_Q8_acq_uncertainty_noise_0.0/REINVENT_round_3/HITL_iteration_4/iteration_combined_data.csv\n",
      "Epoch 5, Loss: 0.007045748294331133\n",
      "Epoch 10, Loss: 0.005874844539600114\n",
      "Epoch 15, Loss: 0.004901513825946798\n",
      "Epoch 20, Loss: 0.004101474652998149\n",
      "Epoch 25, Loss: 0.0034773726074490696\n",
      "Saved retrained feedback model at output_rank_listnet_n_steps_100/R3_T5_Q8_acq_uncertainty_noise_0.0/REINVENT_round_3/HITL_iteration_4/rank_listnet_model.pth\n",
      "----------------------------------\n",
      "HITL iteration = 5\n",
      "Loading Rank ListNet model successfully from output_rank_listnet_n_steps_100/R3_T5_Q8_acq_uncertainty_noise_0.0/REINVENT_round_3/HITL_iteration_4/rank_listnet_model.pth\n",
      "B1 processed | B2 processed | B3 processed | B4 processed | B5 processed | B6 processed | B7 processed | B8 processed | "
     ]
    },
    {
     "name": "stderr",
     "output_type": "stream",
     "text": [
      "Found local copy...\n"
     ]
    },
    {
     "name": "stdout",
     "output_type": "stream",
     "text": [
      "B9 processed | Human score at HITL iteration 5: [0.0010835763259488228, 0.12864864089771594, 0.00305379978213803, 0.019962046537826583, 0.18942169248540075, 0.005351013031016337, 0.037543889538691574, 0.30602298776444664]\n",
      "New queried dataset size: 56\n",
      "Combined dataset size: 1040\n",
      "Saved augmented training data at output_rank_listnet_n_steps_100/R3_T5_Q8_acq_uncertainty_noise_0.0/REINVENT_round_3/HITL_iteration_5/iteration_combined_data.csv\n",
      "Epoch 5, Loss: 0.004539165121968836\n",
      "Epoch 10, Loss: 0.0036942071455996484\n",
      "Epoch 15, Loss: 0.003074689389904961\n",
      "Epoch 20, Loss: 0.0026452483725734055\n",
      "Epoch 25, Loss: 0.0022171066084410995\n",
      "Saved retrained feedback model at output_rank_listnet_n_steps_100/R3_T5_Q8_acq_uncertainty_noise_0.0/REINVENT_round_3/HITL_iteration_5/rank_listnet_model.pth\n",
      "=====================================\n",
      "REINVENT round = 4\n",
      "Creating config file: output_rank_listnet_n_steps_100/R3_T5_Q8_acq_uncertainty_noise_0.0/REINVENT_round_4/config.json.\n",
      "Run REINVENT\n",
      "Exit code: 0\n",
      "\n",
      "*******************************************************************\n",
      "Running HITL with uncertainty acquisition and noise 0.1\n",
      "\n",
      "Running DRD2 (one objective) with rounds 3, iters 5, queries 8, seed 42\n",
      "Results will be saved at output_rank_listnet_n_steps_100/R3_T5_Q8_acq_uncertainty_noise_0.1\n",
      "Loading initial training datasets successfully\n",
      "=====================================\n",
      "REINVENT round = 1\n",
      "Creating config file: output_rank_listnet_n_steps_100/R3_T5_Q8_acq_uncertainty_noise_0.1/REINVENT_round_1/config.json.\n",
      "Run REINVENT\n",
      "Exit code: 0\n",
      "Number of SMILES in scaffold_memory.csv:  6163\n",
      "----------------------------------\n",
      "HITL iteration = 1\n",
      "Loading Rank ListNet model successfully from /home/springnuance/reinvent-hitl/Base-Code-Binh/training_Rank_ListNet_model/rank_listnet_model.pth\n",
      "B1 processed | B2 processed | B3 processed | B4 processed | B5 processed | B6 processed | B7 processed | B8 processed | "
     ]
    },
    {
     "name": "stderr",
     "output_type": "stream",
     "text": [
      "Found local copy...\n"
     ]
    },
    {
     "name": "stdout",
     "output_type": "stream",
     "text": [
      "B9 processed | Human score at HITL iteration 1: [0.05160097219649144, 0.0013165286615411005, 0.06599356206839102, 0.15732709508083878, 0.0, 0.0, 0.15806932552923098, 0.07934935461572765]\n",
      "New queried dataset size: 56\n",
      "Combined dataset size: 256\n",
      "Saved augmented training data at output_rank_listnet_n_steps_100/R3_T5_Q8_acq_uncertainty_noise_0.1/REINVENT_round_1/HITL_iteration_1/iteration_combined_data.csv\n",
      "Epoch 5, Loss: 0.01343774190172553\n",
      "Epoch 10, Loss: 0.013419257826171815\n",
      "Epoch 15, Loss: 0.013400585623458028\n",
      "Epoch 20, Loss: 0.01338132529053837\n",
      "Epoch 25, Loss: 0.013361566001549363\n",
      "Saved retrained feedback model at output_rank_listnet_n_steps_100/R3_T5_Q8_acq_uncertainty_noise_0.1/REINVENT_round_1/HITL_iteration_1/rank_listnet_model.pth\n",
      "----------------------------------\n",
      "HITL iteration = 2\n",
      "Loading Rank ListNet model successfully from output_rank_listnet_n_steps_100/R3_T5_Q8_acq_uncertainty_noise_0.1/REINVENT_round_1/HITL_iteration_1/rank_listnet_model.pth\n",
      "B1 processed | B2 processed | B3 processed | B4 processed | B5 processed | B6 processed | B7 processed | B8 processed | "
     ]
    },
    {
     "name": "stderr",
     "output_type": "stream",
     "text": [
      "Found local copy...\n"
     ]
    },
    {
     "name": "stdout",
     "output_type": "stream",
     "text": [
      "B9 processed | Human score at HITL iteration 2: [0.0, 0.0548754245745555, 0.0, 0.0, 0.024981982282785607, 0.0, 0.0, 0.0]\n",
      "New queried dataset size: 56\n",
      "Combined dataset size: 312\n",
      "Saved augmented training data at output_rank_listnet_n_steps_100/R3_T5_Q8_acq_uncertainty_noise_0.1/REINVENT_round_1/HITL_iteration_2/iteration_combined_data.csv\n",
      "Epoch 5, Loss: 0.018342208272467058\n",
      "Epoch 10, Loss: 0.018075336003676057\n",
      "Epoch 15, Loss: 0.01828649764259656\n",
      "Epoch 20, Loss: 0.017972457921132445\n",
      "Epoch 25, Loss: 0.01813070134570201\n",
      "Saved retrained feedback model at output_rank_listnet_n_steps_100/R3_T5_Q8_acq_uncertainty_noise_0.1/REINVENT_round_1/HITL_iteration_2/rank_listnet_model.pth\n",
      "----------------------------------\n",
      "HITL iteration = 3\n",
      "Loading Rank ListNet model successfully from output_rank_listnet_n_steps_100/R3_T5_Q8_acq_uncertainty_noise_0.1/REINVENT_round_1/HITL_iteration_2/rank_listnet_model.pth\n",
      "B1 processed | B2 processed | B3 processed | B4 processed | B5 processed | B6 processed | B7 processed | B8 processed | "
     ]
    },
    {
     "name": "stderr",
     "output_type": "stream",
     "text": [
      "Found local copy...\n"
     ]
    },
    {
     "name": "stdout",
     "output_type": "stream",
     "text": [
      "B9 processed | Human score at HITL iteration 3: [0.0, 0.0322088662166876, 0.0, 0.0, 0.15824959912317832, 0.0, 0.019623215752735686, 0.0]\n",
      "New queried dataset size: 56\n",
      "Combined dataset size: 368\n",
      "Saved augmented training data at output_rank_listnet_n_steps_100/R3_T5_Q8_acq_uncertainty_noise_0.1/REINVENT_round_1/HITL_iteration_3/iteration_combined_data.csv\n",
      "Epoch 5, Loss: 0.02796040812972933\n",
      "Epoch 10, Loss: 0.028386800084263086\n",
      "Epoch 15, Loss: 0.02721273573115468\n",
      "Epoch 20, Loss: 0.027214902103878558\n",
      "Epoch 25, Loss: 0.02719458716455847\n",
      "Saved retrained feedback model at output_rank_listnet_n_steps_100/R3_T5_Q8_acq_uncertainty_noise_0.1/REINVENT_round_1/HITL_iteration_3/rank_listnet_model.pth\n",
      "----------------------------------\n",
      "HITL iteration = 4\n",
      "Loading Rank ListNet model successfully from output_rank_listnet_n_steps_100/R3_T5_Q8_acq_uncertainty_noise_0.1/REINVENT_round_1/HITL_iteration_3/rank_listnet_model.pth\n",
      "B1 processed | B2 processed | B3 processed | B4 processed | B5 processed | B6 processed | B7 processed | B8 processed | "
     ]
    },
    {
     "name": "stderr",
     "output_type": "stream",
     "text": [
      "Found local copy...\n"
     ]
    },
    {
     "name": "stdout",
     "output_type": "stream",
     "text": [
      "B9 processed | Human score at HITL iteration 4: [0.0, 0.015734431579766613, 0.0, 0.03852432866209992, 0.0, 0.0, 0.0, 0.18549514471246534]\n",
      "New queried dataset size: 56\n",
      "Combined dataset size: 424\n",
      "Saved augmented training data at output_rank_listnet_n_steps_100/R3_T5_Q8_acq_uncertainty_noise_0.1/REINVENT_round_1/HITL_iteration_4/iteration_combined_data.csv\n",
      "Epoch 5, Loss: 0.05369061743840575\n",
      "Epoch 10, Loss: 0.05371686979196966\n",
      "Epoch 15, Loss: 0.0534818354062736\n",
      "Epoch 20, Loss: 0.053865304216742516\n",
      "Epoch 25, Loss: 0.055541853653267026\n",
      "Saved retrained feedback model at output_rank_listnet_n_steps_100/R3_T5_Q8_acq_uncertainty_noise_0.1/REINVENT_round_1/HITL_iteration_4/rank_listnet_model.pth\n",
      "----------------------------------\n",
      "HITL iteration = 5\n",
      "Loading Rank ListNet model successfully from output_rank_listnet_n_steps_100/R3_T5_Q8_acq_uncertainty_noise_0.1/REINVENT_round_1/HITL_iteration_4/rank_listnet_model.pth\n",
      "B1 processed | B2 processed | B3 processed | B4 processed | B5 processed | B6 processed | B7 processed | B8 processed | "
     ]
    },
    {
     "name": "stderr",
     "output_type": "stream",
     "text": [
      "Found local copy...\n"
     ]
    },
    {
     "name": "stdout",
     "output_type": "stream",
     "text": [
      "B9 processed | Human score at HITL iteration 5: [0.035723755026633, 0.0, 0.0861648539138426, 0.0, 0.03617134305560158, 0.0, 0.0, 0.020409918839146755]\n",
      "New queried dataset size: 56\n",
      "Combined dataset size: 480\n",
      "Saved augmented training data at output_rank_listnet_n_steps_100/R3_T5_Q8_acq_uncertainty_noise_0.1/REINVENT_round_1/HITL_iteration_5/iteration_combined_data.csv\n",
      "Epoch 5, Loss: 0.012823347933590412\n",
      "Epoch 10, Loss: 0.012741976301185787\n",
      "Epoch 15, Loss: 0.012652813049498945\n",
      "Epoch 20, Loss: 0.012554265063954517\n",
      "Epoch 25, Loss: 0.012446170498151332\n",
      "Saved retrained feedback model at output_rank_listnet_n_steps_100/R3_T5_Q8_acq_uncertainty_noise_0.1/REINVENT_round_1/HITL_iteration_5/rank_listnet_model.pth\n",
      "=====================================\n",
      "REINVENT round = 2\n",
      "Creating config file: output_rank_listnet_n_steps_100/R3_T5_Q8_acq_uncertainty_noise_0.1/REINVENT_round_2/config.json.\n",
      "Run REINVENT\n",
      "Exit code: 0\n",
      "Number of SMILES in scaffold_memory.csv:  6126\n",
      "----------------------------------\n",
      "HITL iteration = 1\n",
      "Loading Rank ListNet model successfully from output_rank_listnet_n_steps_100/R3_T5_Q8_acq_uncertainty_noise_0.1/REINVENT_round_1/HITL_iteration_5/rank_listnet_model.pth\n",
      "B1 processed | B2 processed | B3 processed | B4 processed | B5 processed | B6 processed | B7 processed | B8 processed | "
     ]
    },
    {
     "name": "stderr",
     "output_type": "stream",
     "text": [
      "Found local copy...\n"
     ]
    },
    {
     "name": "stdout",
     "output_type": "stream",
     "text": [
      "B9 processed | Human score at HITL iteration 1: [0.07390530889249525, 0.8535458536005136, 0.03992012894630284, 0.3138446170019029, 0.08163155358857513, 0.130256607790873, 0.9007079119204362, 0.14943482064962602]\n",
      "New queried dataset size: 56\n",
      "Combined dataset size: 536\n",
      "Saved augmented training data at output_rank_listnet_n_steps_100/R3_T5_Q8_acq_uncertainty_noise_0.1/REINVENT_round_2/HITL_iteration_1/iteration_combined_data.csv\n",
      "Epoch 5, Loss: 0.02003925813672443\n",
      "Epoch 10, Loss: 0.019594628596678376\n",
      "Epoch 15, Loss: 0.01936562592163682\n",
      "Epoch 20, Loss: 0.019232922156030934\n",
      "Epoch 25, Loss: 0.018926355910177033\n",
      "Saved retrained feedback model at output_rank_listnet_n_steps_100/R3_T5_Q8_acq_uncertainty_noise_0.1/REINVENT_round_2/HITL_iteration_1/rank_listnet_model.pth\n",
      "----------------------------------\n",
      "HITL iteration = 2\n",
      "Loading Rank ListNet model successfully from output_rank_listnet_n_steps_100/R3_T5_Q8_acq_uncertainty_noise_0.1/REINVENT_round_2/HITL_iteration_1/rank_listnet_model.pth\n",
      "B1 processed | B2 processed | B3 processed | B4 processed | B5 processed | B6 processed | B7 processed | B8 processed | "
     ]
    },
    {
     "name": "stderr",
     "output_type": "stream",
     "text": [
      "Found local copy...\n"
     ]
    },
    {
     "name": "stdout",
     "output_type": "stream",
     "text": [
      "B9 processed | Human score at HITL iteration 2: [0.12175725463725458, 0.0, 0.33049706918593963, 0.9256748650933715, 0.24398485611420406, 1.0, 0.35716276745388753, 0.9652039048583292]\n",
      "New queried dataset size: 56\n",
      "Combined dataset size: 592\n",
      "Saved augmented training data at output_rank_listnet_n_steps_100/R3_T5_Q8_acq_uncertainty_noise_0.1/REINVENT_round_2/HITL_iteration_2/iteration_combined_data.csv\n",
      "Epoch 5, Loss: 0.034636823111213744\n",
      "Epoch 10, Loss: 0.03348182316403836\n",
      "Epoch 15, Loss: 0.033444942033383995\n",
      "Epoch 20, Loss: 0.032328683766536415\n",
      "Epoch 25, Loss: 0.03167541266884655\n",
      "Saved retrained feedback model at output_rank_listnet_n_steps_100/R3_T5_Q8_acq_uncertainty_noise_0.1/REINVENT_round_2/HITL_iteration_2/rank_listnet_model.pth\n",
      "----------------------------------\n",
      "HITL iteration = 3\n",
      "Loading Rank ListNet model successfully from output_rank_listnet_n_steps_100/R3_T5_Q8_acq_uncertainty_noise_0.1/REINVENT_round_2/HITL_iteration_2/rank_listnet_model.pth\n",
      "B1 processed | B2 processed | B3 processed | B4 processed | B5 processed | B6 processed | B7 processed | B8 processed | "
     ]
    },
    {
     "name": "stderr",
     "output_type": "stream",
     "text": [
      "Found local copy...\n"
     ]
    },
    {
     "name": "stdout",
     "output_type": "stream",
     "text": [
      "B9 processed | Human score at HITL iteration 3: [0.0, 0.0, 0.4680066623485335, 0.9624654060452192, 0.6964317202569391, 0.12949785600711544, 0.0, 0.5413237776040203]\n",
      "New queried dataset size: 56\n",
      "Combined dataset size: 648\n",
      "Saved augmented training data at output_rank_listnet_n_steps_100/R3_T5_Q8_acq_uncertainty_noise_0.1/REINVENT_round_2/HITL_iteration_3/iteration_combined_data.csv\n",
      "Epoch 5, Loss: 0.07317132758907974\n",
      "Epoch 10, Loss: 0.0718934431206435\n",
      "Epoch 15, Loss: 0.07119252323172987\n",
      "Epoch 20, Loss: 0.06784150749444962\n",
      "Epoch 25, Loss: 0.06529812421649694\n",
      "Saved retrained feedback model at output_rank_listnet_n_steps_100/R3_T5_Q8_acq_uncertainty_noise_0.1/REINVENT_round_2/HITL_iteration_3/rank_listnet_model.pth\n",
      "----------------------------------\n",
      "HITL iteration = 4\n",
      "Loading Rank ListNet model successfully from output_rank_listnet_n_steps_100/R3_T5_Q8_acq_uncertainty_noise_0.1/REINVENT_round_2/HITL_iteration_3/rank_listnet_model.pth\n",
      "B1 processed | B2 processed | B3 processed | B4 processed | B5 processed | B6 processed | B7 processed | B8 processed | "
     ]
    },
    {
     "name": "stderr",
     "output_type": "stream",
     "text": [
      "Found local copy...\n"
     ]
    },
    {
     "name": "stdout",
     "output_type": "stream",
     "text": [
      "B9 processed | Human score at HITL iteration 4: [1.0, 0.14204710237683132, 0.8139167821084498, 0.7631764227761408, 1.0, 0.3096943086448264, 0.036871239326645454, 0.8477293990579893]\n",
      "New queried dataset size: 56\n",
      "Combined dataset size: 704\n",
      "Saved augmented training data at output_rank_listnet_n_steps_100/R3_T5_Q8_acq_uncertainty_noise_0.1/REINVENT_round_2/HITL_iteration_4/iteration_combined_data.csv\n",
      "Epoch 5, Loss: 0.017655888106673956\n",
      "Epoch 10, Loss: 0.01703247136902064\n",
      "Epoch 15, Loss: 0.016369638789910823\n",
      "Epoch 20, Loss: 0.015670142194721848\n",
      "Epoch 25, Loss: 0.014934799808543175\n",
      "Saved retrained feedback model at output_rank_listnet_n_steps_100/R3_T5_Q8_acq_uncertainty_noise_0.1/REINVENT_round_2/HITL_iteration_4/rank_listnet_model.pth\n",
      "----------------------------------\n",
      "HITL iteration = 5\n",
      "Loading Rank ListNet model successfully from output_rank_listnet_n_steps_100/R3_T5_Q8_acq_uncertainty_noise_0.1/REINVENT_round_2/HITL_iteration_4/rank_listnet_model.pth\n",
      "B1 processed | B2 processed | B3 processed | B4 processed | B5 processed | B6 processed | B7 processed | B8 processed | "
     ]
    },
    {
     "name": "stderr",
     "output_type": "stream",
     "text": [
      "Found local copy...\n"
     ]
    },
    {
     "name": "stdout",
     "output_type": "stream",
     "text": [
      "B9 processed | Human score at HITL iteration 5: [0.0037496732275864243, 0.22392417302442993, 0.0, 0.0925600538251261, 0.8142485731853675, 0.0, 0.9629964885341131, 0.0]\n",
      "New queried dataset size: 56\n",
      "Combined dataset size: 760\n",
      "Saved augmented training data at output_rank_listnet_n_steps_100/R3_T5_Q8_acq_uncertainty_noise_0.1/REINVENT_round_2/HITL_iteration_5/iteration_combined_data.csv\n",
      "Epoch 5, Loss: 0.022842815689121682\n",
      "Epoch 10, Loss: 0.021744714118540287\n",
      "Epoch 15, Loss: 0.020625893531056743\n",
      "Epoch 20, Loss: 0.01940016964605699\n",
      "Epoch 25, Loss: 0.018039082099373143\n",
      "Saved retrained feedback model at output_rank_listnet_n_steps_100/R3_T5_Q8_acq_uncertainty_noise_0.1/REINVENT_round_2/HITL_iteration_5/rank_listnet_model.pth\n",
      "=====================================\n",
      "REINVENT round = 3\n",
      "Creating config file: output_rank_listnet_n_steps_100/R3_T5_Q8_acq_uncertainty_noise_0.1/REINVENT_round_3/config.json.\n",
      "Run REINVENT\n",
      "Exit code: 0\n",
      "Number of SMILES in scaffold_memory.csv:  6161\n",
      "----------------------------------\n",
      "HITL iteration = 1\n",
      "Loading Rank ListNet model successfully from output_rank_listnet_n_steps_100/R3_T5_Q8_acq_uncertainty_noise_0.1/REINVENT_round_2/HITL_iteration_5/rank_listnet_model.pth\n",
      "B1 processed | B2 processed | B3 processed | B4 processed | B5 processed | B6 processed | B7 processed | B8 processed | "
     ]
    },
    {
     "name": "stderr",
     "output_type": "stream",
     "text": [
      "Found local copy...\n"
     ]
    },
    {
     "name": "stdout",
     "output_type": "stream",
     "text": [
      "B9 processed | Human score at HITL iteration 1: [0.0, 0.16760734862095164, 0.296921576300633, 0.0, 0.0, 0.0, 0.2605144213033336, 0.9459499095934668]\n",
      "New queried dataset size: 56\n",
      "Combined dataset size: 816\n",
      "Saved augmented training data at output_rank_listnet_n_steps_100/R3_T5_Q8_acq_uncertainty_noise_0.1/REINVENT_round_3/HITL_iteration_1/iteration_combined_data.csv\n",
      "Epoch 5, Loss: 0.02941271662712097\n",
      "Epoch 10, Loss: 0.027188321109861135\n",
      "Epoch 15, Loss: 0.02511781343491748\n",
      "Epoch 20, Loss: 0.023175908369012177\n",
      "Epoch 25, Loss: 0.021368809801060706\n",
      "Saved retrained feedback model at output_rank_listnet_n_steps_100/R3_T5_Q8_acq_uncertainty_noise_0.1/REINVENT_round_3/HITL_iteration_1/rank_listnet_model.pth\n",
      "----------------------------------\n",
      "HITL iteration = 2\n",
      "Loading Rank ListNet model successfully from output_rank_listnet_n_steps_100/R3_T5_Q8_acq_uncertainty_noise_0.1/REINVENT_round_3/HITL_iteration_1/rank_listnet_model.pth\n",
      "B1 processed | B2 processed | B3 processed | B4 processed | B5 processed | B6 processed | B7 processed | B8 processed | "
     ]
    },
    {
     "name": "stderr",
     "output_type": "stream",
     "text": [
      "Found local copy...\n"
     ]
    },
    {
     "name": "stdout",
     "output_type": "stream",
     "text": [
      "B9 processed | Human score at HITL iteration 2: [0.008231970484378473, 0.08075618363592234, 0.019164192262499435, 0.1068963594078095, 0.0, 0.7523995761476888, 0.0, 0.0]\n",
      "New queried dataset size: 56\n",
      "Combined dataset size: 872\n",
      "Saved augmented training data at output_rank_listnet_n_steps_100/R3_T5_Q8_acq_uncertainty_noise_0.1/REINVENT_round_3/HITL_iteration_2/iteration_combined_data.csv\n",
      "Epoch 5, Loss: 0.044034096121322364\n",
      "Epoch 10, Loss: 0.039538757293485105\n",
      "Epoch 15, Loss: 0.0353536139591597\n",
      "Epoch 20, Loss: 0.03206995746586472\n",
      "Epoch 25, Loss: 0.028502162371296436\n",
      "Saved retrained feedback model at output_rank_listnet_n_steps_100/R3_T5_Q8_acq_uncertainty_noise_0.1/REINVENT_round_3/HITL_iteration_2/rank_listnet_model.pth\n",
      "----------------------------------\n",
      "HITL iteration = 3\n",
      "Loading Rank ListNet model successfully from output_rank_listnet_n_steps_100/R3_T5_Q8_acq_uncertainty_noise_0.1/REINVENT_round_3/HITL_iteration_2/rank_listnet_model.pth\n",
      "B1 processed | B2 processed | B3 processed | B4 processed | B5 processed | B6 processed | B7 processed | B8 processed | "
     ]
    },
    {
     "name": "stderr",
     "output_type": "stream",
     "text": [
      "Found local copy...\n"
     ]
    },
    {
     "name": "stdout",
     "output_type": "stream",
     "text": [
      "B9 processed | Human score at HITL iteration 3: [0.08030912435406867, 0.3485678345399662, 0.8499639981193381, 0.4063190592432656, 0.0, 0.9436068434745605, 0.4759111905733502, 0.6195851345371302]\n",
      "New queried dataset size: 56\n",
      "Combined dataset size: 928\n",
      "Saved augmented training data at output_rank_listnet_n_steps_100/R3_T5_Q8_acq_uncertainty_noise_0.1/REINVENT_round_3/HITL_iteration_3/iteration_combined_data.csv\n",
      "Epoch 5, Loss: 0.007614046451635659\n",
      "Epoch 10, Loss: 0.0066918953525600955\n",
      "Epoch 15, Loss: 0.005869726242963225\n",
      "Epoch 20, Loss: 0.005138103078934364\n",
      "Epoch 25, Loss: 0.004494895838433877\n",
      "Saved retrained feedback model at output_rank_listnet_n_steps_100/R3_T5_Q8_acq_uncertainty_noise_0.1/REINVENT_round_3/HITL_iteration_3/rank_listnet_model.pth\n",
      "----------------------------------\n",
      "HITL iteration = 4\n",
      "Loading Rank ListNet model successfully from output_rank_listnet_n_steps_100/R3_T5_Q8_acq_uncertainty_noise_0.1/REINVENT_round_3/HITL_iteration_3/rank_listnet_model.pth\n",
      "B1 processed | B2 processed | B3 processed | B4 processed | B5 processed | B6 processed | B7 processed | B8 processed | "
     ]
    },
    {
     "name": "stderr",
     "output_type": "stream",
     "text": [
      "Found local copy...\n"
     ]
    },
    {
     "name": "stdout",
     "output_type": "stream",
     "text": [
      "B9 processed | Human score at HITL iteration 4: [0.08418141472394314, 0.0551200190167936, 0.2672619768064137, 0.42310455931653496, 0.05505390027642949, 0.0, 0.0, 0.057078257430153156]\n",
      "New queried dataset size: 56\n",
      "Combined dataset size: 984\n",
      "Saved augmented training data at output_rank_listnet_n_steps_100/R3_T5_Q8_acq_uncertainty_noise_0.1/REINVENT_round_3/HITL_iteration_4/iteration_combined_data.csv\n",
      "Epoch 5, Loss: 0.005554655644421776\n",
      "Epoch 10, Loss: 0.004725716445439805\n",
      "Epoch 15, Loss: 0.004020822438178584\n",
      "Epoch 20, Loss: 0.003449916694080457\n",
      "Epoch 25, Loss: 0.0029782681667711586\n",
      "Saved retrained feedback model at output_rank_listnet_n_steps_100/R3_T5_Q8_acq_uncertainty_noise_0.1/REINVENT_round_3/HITL_iteration_4/rank_listnet_model.pth\n",
      "----------------------------------\n",
      "HITL iteration = 5\n",
      "Loading Rank ListNet model successfully from output_rank_listnet_n_steps_100/R3_T5_Q8_acq_uncertainty_noise_0.1/REINVENT_round_3/HITL_iteration_4/rank_listnet_model.pth\n",
      "B1 processed | B2 processed | B3 processed | B4 processed | B5 processed | B6 processed | B7 processed | B8 processed | "
     ]
    },
    {
     "name": "stderr",
     "output_type": "stream",
     "text": [
      "Found local copy...\n"
     ]
    },
    {
     "name": "stdout",
     "output_type": "stream",
     "text": [
      "B9 processed | Human score at HITL iteration 5: [0.010209138731124865, 1.0, 0.8022916990147086, 0.3397995450421007, 0.12571870281045253, 0.4068104356639714, 0.1167354217335605, 0.5257884909258704]\n",
      "New queried dataset size: 56\n",
      "Combined dataset size: 1040\n",
      "Saved augmented training data at output_rank_listnet_n_steps_100/R3_T5_Q8_acq_uncertainty_noise_0.1/REINVENT_round_3/HITL_iteration_5/iteration_combined_data.csv\n",
      "Epoch 5, Loss: 0.006861216941615567\n",
      "Epoch 10, Loss: 0.00573840196011588\n",
      "Epoch 15, Loss: 0.004674881958635524\n",
      "Epoch 20, Loss: 0.003810890775639564\n",
      "Epoch 25, Loss: 0.003213644726201892\n",
      "Saved retrained feedback model at output_rank_listnet_n_steps_100/R3_T5_Q8_acq_uncertainty_noise_0.1/REINVENT_round_3/HITL_iteration_5/rank_listnet_model.pth\n",
      "=====================================\n",
      "REINVENT round = 4\n",
      "Creating config file: output_rank_listnet_n_steps_100/R3_T5_Q8_acq_uncertainty_noise_0.1/REINVENT_round_4/config.json.\n",
      "Run REINVENT\n",
      "Exit code: 0\n",
      "\n",
      "*******************************************************************\n",
      "Running HITL with greedy acquisition and noise 0.0\n",
      "\n",
      "Running DRD2 (one objective) with rounds 3, iters 5, queries 8, seed 42\n",
      "Results will be saved at output_rank_listnet_n_steps_100/R3_T5_Q8_acq_greedy_noise_0.0\n",
      "Loading initial training datasets successfully\n",
      "=====================================\n",
      "REINVENT round = 1\n",
      "Creating config file: output_rank_listnet_n_steps_100/R3_T5_Q8_acq_greedy_noise_0.0/REINVENT_round_1/config.json.\n",
      "Run REINVENT\n",
      "Exit code: 0\n",
      "Number of SMILES in scaffold_memory.csv:  6144\n",
      "----------------------------------\n",
      "HITL iteration = 1\n",
      "Loading Rank ListNet model successfully from /home/springnuance/reinvent-hitl/Base-Code-Binh/training_Rank_ListNet_model/rank_listnet_model.pth\n",
      "B1 processed | B2 processed | B3 processed | B4 processed | B5 processed | B6 processed | B7 processed | B8 processed | "
     ]
    },
    {
     "name": "stderr",
     "output_type": "stream",
     "text": [
      "Found local copy...\n"
     ]
    },
    {
     "name": "stdout",
     "output_type": "stream",
     "text": [
      "B9 processed | Human score at HITL iteration 1: [0.1055408173482554, 0.00930319939742593, 0.03389451450040922, 0.006244017628873078, 0.08298303819603416, 0.0010500092922161117, 0.041091840853170136, 0.02236467739474152]\n",
      "New queried dataset size: 56\n",
      "Combined dataset size: 256\n",
      "Saved augmented training data at output_rank_listnet_n_steps_100/R3_T5_Q8_acq_greedy_noise_0.0/REINVENT_round_1/HITL_iteration_1/iteration_combined_data.csv\n",
      "Epoch 5, Loss: 0.01338547607883811\n",
      "Epoch 10, Loss: 0.013366986997425556\n",
      "Epoch 15, Loss: 0.013348304782994092\n",
      "Epoch 20, Loss: 0.013328867731615901\n",
      "Epoch 25, Loss: 0.013309054891578853\n",
      "Saved retrained feedback model at output_rank_listnet_n_steps_100/R3_T5_Q8_acq_greedy_noise_0.0/REINVENT_round_1/HITL_iteration_1/rank_listnet_model.pth\n",
      "----------------------------------\n",
      "HITL iteration = 2\n",
      "Loading Rank ListNet model successfully from output_rank_listnet_n_steps_100/R3_T5_Q8_acq_greedy_noise_0.0/REINVENT_round_1/HITL_iteration_1/rank_listnet_model.pth\n",
      "B1 processed | B2 processed | B3 processed | B4 processed | B5 processed | B6 processed | B7 processed | B8 processed | "
     ]
    },
    {
     "name": "stderr",
     "output_type": "stream",
     "text": [
      "Found local copy...\n"
     ]
    },
    {
     "name": "stdout",
     "output_type": "stream",
     "text": [
      "B9 processed | Human score at HITL iteration 2: [0.0021973446548658655, 0.001297161146441379, 0.004101117152015205, 0.000684897530870403, 0.023644029897283064, 0.008428990285604461, 0.0035746687160942174, 0.022811549917886774]\n",
      "New queried dataset size: 56\n",
      "Combined dataset size: 312\n",
      "Saved augmented training data at output_rank_listnet_n_steps_100/R3_T5_Q8_acq_greedy_noise_0.0/REINVENT_round_1/HITL_iteration_2/iteration_combined_data.csv\n",
      "Epoch 5, Loss: 0.018292516625175875\n",
      "Epoch 10, Loss: 0.018238261186828215\n",
      "Epoch 15, Loss: 0.017963734377796452\n",
      "Epoch 20, Loss: 0.017926462305088837\n",
      "Epoch 25, Loss: 0.018021275599797566\n",
      "Saved retrained feedback model at output_rank_listnet_n_steps_100/R3_T5_Q8_acq_greedy_noise_0.0/REINVENT_round_1/HITL_iteration_2/rank_listnet_model.pth\n",
      "----------------------------------\n",
      "HITL iteration = 3\n",
      "Loading Rank ListNet model successfully from output_rank_listnet_n_steps_100/R3_T5_Q8_acq_greedy_noise_0.0/REINVENT_round_1/HITL_iteration_2/rank_listnet_model.pth\n",
      "B1 processed | B2 processed | B3 processed | B4 processed | B5 processed | B6 processed | B7 processed | B8 processed | "
     ]
    },
    {
     "name": "stderr",
     "output_type": "stream",
     "text": [
      "Found local copy...\n"
     ]
    },
    {
     "name": "stdout",
     "output_type": "stream",
     "text": [
      "B9 processed | Human score at HITL iteration 3: [0.1576719920511905, 0.00371881534931763, 0.04447833198671836, 0.010948615302290549, 0.00047159131712729826, 0.03376371394187973, 0.0008806005899109916, 0.0460572977733046]\n",
      "New queried dataset size: 56\n",
      "Combined dataset size: 368\n",
      "Saved augmented training data at output_rank_listnet_n_steps_100/R3_T5_Q8_acq_greedy_noise_0.0/REINVENT_round_1/HITL_iteration_3/iteration_combined_data.csv\n",
      "Epoch 5, Loss: 0.027460681973025203\n",
      "Epoch 10, Loss: 0.02801446442026645\n",
      "Epoch 15, Loss: 0.02799566660542041\n",
      "Epoch 20, Loss: 0.027611571946181357\n",
      "Epoch 25, Loss: 0.02694267185870558\n",
      "Saved retrained feedback model at output_rank_listnet_n_steps_100/R3_T5_Q8_acq_greedy_noise_0.0/REINVENT_round_1/HITL_iteration_3/rank_listnet_model.pth\n",
      "----------------------------------\n",
      "HITL iteration = 4\n",
      "Loading Rank ListNet model successfully from output_rank_listnet_n_steps_100/R3_T5_Q8_acq_greedy_noise_0.0/REINVENT_round_1/HITL_iteration_3/rank_listnet_model.pth\n",
      "B1 processed | B2 processed | B3 processed | B4 processed | B5 processed | B6 processed | B7 processed | B8 processed | "
     ]
    },
    {
     "name": "stderr",
     "output_type": "stream",
     "text": [
      "Found local copy...\n"
     ]
    },
    {
     "name": "stdout",
     "output_type": "stream",
     "text": [
      "B9 processed | Human score at HITL iteration 4: [0.22098124831094876, 0.0015886465468869457, 0.07255552039526897, 0.004788907820600568, 0.004500603038565801, 0.11830312863507436, 0.028698968169094622, 0.009648343834271437]\n",
      "New queried dataset size: 56\n",
      "Combined dataset size: 424\n",
      "Saved augmented training data at output_rank_listnet_n_steps_100/R3_T5_Q8_acq_greedy_noise_0.0/REINVENT_round_1/HITL_iteration_4/iteration_combined_data.csv\n",
      "Epoch 5, Loss: 0.056208145106211305\n",
      "Epoch 10, Loss: 0.05495856795459986\n",
      "Epoch 15, Loss: 0.05422092927619815\n",
      "Epoch 20, Loss: 0.05584742431528866\n",
      "Epoch 25, Loss: 0.05566111812368035\n",
      "Saved retrained feedback model at output_rank_listnet_n_steps_100/R3_T5_Q8_acq_greedy_noise_0.0/REINVENT_round_1/HITL_iteration_4/rank_listnet_model.pth\n",
      "----------------------------------\n",
      "HITL iteration = 5\n",
      "Loading Rank ListNet model successfully from output_rank_listnet_n_steps_100/R3_T5_Q8_acq_greedy_noise_0.0/REINVENT_round_1/HITL_iteration_4/rank_listnet_model.pth\n",
      "B1 processed | B2 processed | B3 processed | B4 processed | B5 processed | B6 processed | B7 processed | B8 processed | "
     ]
    },
    {
     "name": "stderr",
     "output_type": "stream",
     "text": [
      "Found local copy...\n"
     ]
    },
    {
     "name": "stdout",
     "output_type": "stream",
     "text": [
      "B9 processed | Human score at HITL iteration 5: [0.10258806158159423, 0.002859437018814891, 0.054078258983571055, 0.024419023157203696, 0.08528698274274185, 0.048478848971736425, 0.0010429262312141646, 0.002714236053745678]\n",
      "New queried dataset size: 56\n",
      "Combined dataset size: 480\n",
      "Saved augmented training data at output_rank_listnet_n_steps_100/R3_T5_Q8_acq_greedy_noise_0.0/REINVENT_round_1/HITL_iteration_5/iteration_combined_data.csv\n",
      "Epoch 5, Loss: 0.01280829356983304\n",
      "Epoch 10, Loss: 0.012725473759928718\n",
      "Epoch 15, Loss: 0.012635068473173305\n",
      "Epoch 20, Loss: 0.012536462978459895\n",
      "Epoch 25, Loss: 0.012427626963471994\n",
      "Saved retrained feedback model at output_rank_listnet_n_steps_100/R3_T5_Q8_acq_greedy_noise_0.0/REINVENT_round_1/HITL_iteration_5/rank_listnet_model.pth\n",
      "=====================================\n",
      "REINVENT round = 2\n",
      "Creating config file: output_rank_listnet_n_steps_100/R3_T5_Q8_acq_greedy_noise_0.0/REINVENT_round_2/config.json.\n",
      "Run REINVENT\n",
      "Exit code: 0\n",
      "Number of SMILES in scaffold_memory.csv:  6155\n",
      "----------------------------------\n",
      "HITL iteration = 1\n",
      "Loading Rank ListNet model successfully from output_rank_listnet_n_steps_100/R3_T5_Q8_acq_greedy_noise_0.0/REINVENT_round_1/HITL_iteration_5/rank_listnet_model.pth\n",
      "B1 processed | B2 processed | B3 processed | B4 processed | B5 processed | B6 processed | B7 processed | B8 processed | "
     ]
    },
    {
     "name": "stderr",
     "output_type": "stream",
     "text": [
      "Found local copy...\n"
     ]
    },
    {
     "name": "stdout",
     "output_type": "stream",
     "text": [
      "B9 processed | Human score at HITL iteration 1: [0.9999999838495969, 0.41213971819711703, 0.024101134968675123, 0.27081844065895305, 0.6116627846335747, 0.44773726284666043, 0.7484286303067971, 0.9430626925359291]\n",
      "New queried dataset size: 56\n",
      "Combined dataset size: 536\n",
      "Saved augmented training data at output_rank_listnet_n_steps_100/R3_T5_Q8_acq_greedy_noise_0.0/REINVENT_round_2/HITL_iteration_1/iteration_combined_data.csv\n",
      "Epoch 5, Loss: 0.01927006512414664\n",
      "Epoch 10, Loss: 0.01908492452154557\n",
      "Epoch 15, Loss: 0.018955175842468936\n",
      "Epoch 20, Loss: 0.018954757212971646\n",
      "Epoch 25, Loss: 0.018510776649539668\n",
      "Saved retrained feedback model at output_rank_listnet_n_steps_100/R3_T5_Q8_acq_greedy_noise_0.0/REINVENT_round_2/HITL_iteration_1/rank_listnet_model.pth\n",
      "----------------------------------\n",
      "HITL iteration = 2\n",
      "Loading Rank ListNet model successfully from output_rank_listnet_n_steps_100/R3_T5_Q8_acq_greedy_noise_0.0/REINVENT_round_2/HITL_iteration_1/rank_listnet_model.pth\n",
      "B1 processed | B2 processed | B3 processed | B4 processed | B5 processed | B6 processed | B7 processed | B8 processed | "
     ]
    },
    {
     "name": "stderr",
     "output_type": "stream",
     "text": [
      "Found local copy...\n"
     ]
    },
    {
     "name": "stdout",
     "output_type": "stream",
     "text": [
      "B9 processed | Human score at HITL iteration 2: [0.23590733662637248, 0.9813390025981445, 0.5334312531557475, 0.0019400637835312535, 0.04434163873207987, 0.20916817063986257, 0.9825031027074624, 0.9931029762279491]\n",
      "New queried dataset size: 56\n",
      "Combined dataset size: 592\n",
      "Saved augmented training data at output_rank_listnet_n_steps_100/R3_T5_Q8_acq_greedy_noise_0.0/REINVENT_round_2/HITL_iteration_2/iteration_combined_data.csv\n",
      "Epoch 5, Loss: 0.03396073810290545\n",
      "Epoch 10, Loss: 0.03394102363381535\n",
      "Epoch 15, Loss: 0.03291126689873636\n",
      "Epoch 20, Loss: 0.032823809480760247\n",
      "Epoch 25, Loss: 0.031924836919642985\n",
      "Saved retrained feedback model at output_rank_listnet_n_steps_100/R3_T5_Q8_acq_greedy_noise_0.0/REINVENT_round_2/HITL_iteration_2/rank_listnet_model.pth\n",
      "----------------------------------\n",
      "HITL iteration = 3\n",
      "Loading Rank ListNet model successfully from output_rank_listnet_n_steps_100/R3_T5_Q8_acq_greedy_noise_0.0/REINVENT_round_2/HITL_iteration_2/rank_listnet_model.pth\n",
      "B1 processed | B2 processed | B3 processed | B4 processed | B5 processed | B6 processed | B7 processed | B8 processed | "
     ]
    },
    {
     "name": "stderr",
     "output_type": "stream",
     "text": [
      "Found local copy...\n"
     ]
    },
    {
     "name": "stdout",
     "output_type": "stream",
     "text": [
      "B9 processed | Human score at HITL iteration 3: [0.5471258383436479, 0.28149010757054016, 0.7754199152391761, 0.9638554230334354, 0.9903311847121808, 0.038551048944739354, 0.9754831533826595, 0.9999995888205627]\n",
      "New queried dataset size: 56\n",
      "Combined dataset size: 648\n",
      "Saved augmented training data at output_rank_listnet_n_steps_100/R3_T5_Q8_acq_greedy_noise_0.0/REINVENT_round_2/HITL_iteration_3/iteration_combined_data.csv\n",
      "Epoch 5, Loss: 0.07169558759778738\n",
      "Epoch 10, Loss: 0.0707681889180094\n",
      "Epoch 15, Loss: 0.0686379570979625\n",
      "Epoch 20, Loss: 0.06624984694644809\n",
      "Epoch 25, Loss: 0.06435324414633214\n",
      "Saved retrained feedback model at output_rank_listnet_n_steps_100/R3_T5_Q8_acq_greedy_noise_0.0/REINVENT_round_2/HITL_iteration_3/rank_listnet_model.pth\n",
      "----------------------------------\n",
      "HITL iteration = 4\n",
      "Loading Rank ListNet model successfully from output_rank_listnet_n_steps_100/R3_T5_Q8_acq_greedy_noise_0.0/REINVENT_round_2/HITL_iteration_3/rank_listnet_model.pth\n",
      "B1 processed | B2 processed | B3 processed | B4 processed | B5 processed | B6 processed | B7 processed | B8 processed | "
     ]
    },
    {
     "name": "stderr",
     "output_type": "stream",
     "text": [
      "Found local copy...\n"
     ]
    },
    {
     "name": "stdout",
     "output_type": "stream",
     "text": [
      "B9 processed | Human score at HITL iteration 4: [0.1163866808254136, 0.5822108175276283, 0.07860169607750123, 0.6374442814200145, 0.26225421252238645, 0.003174338949567287, 0.9389066427984208, 0.004802396243022425]\n",
      "New queried dataset size: 56\n",
      "Combined dataset size: 704\n",
      "Saved augmented training data at output_rank_listnet_n_steps_100/R3_T5_Q8_acq_greedy_noise_0.0/REINVENT_round_2/HITL_iteration_4/iteration_combined_data.csv\n",
      "Epoch 5, Loss: 0.017316812183707952\n",
      "Epoch 10, Loss: 0.01675836183130741\n",
      "Epoch 15, Loss: 0.016163366613909602\n",
      "Epoch 20, Loss: 0.015532544581219554\n",
      "Epoch 25, Loss: 0.014867410238366574\n",
      "Saved retrained feedback model at output_rank_listnet_n_steps_100/R3_T5_Q8_acq_greedy_noise_0.0/REINVENT_round_2/HITL_iteration_4/rank_listnet_model.pth\n",
      "----------------------------------\n",
      "HITL iteration = 5\n",
      "Loading Rank ListNet model successfully from output_rank_listnet_n_steps_100/R3_T5_Q8_acq_greedy_noise_0.0/REINVENT_round_2/HITL_iteration_4/rank_listnet_model.pth\n",
      "B1 processed | B2 processed | B3 processed | B4 processed | B5 processed | B6 processed | B7 processed | B8 processed | "
     ]
    },
    {
     "name": "stderr",
     "output_type": "stream",
     "text": [
      "Found local copy...\n"
     ]
    },
    {
     "name": "stdout",
     "output_type": "stream",
     "text": [
      "B9 processed | Human score at HITL iteration 5: [0.006953833983418733, 0.006790126672884897, 0.009247276163363004, 0.6857201879093439, 0.02548323830293055, 0.006256574671775446, 0.9965351835603641, 0.8129460437539957]\n",
      "New queried dataset size: 56\n",
      "Combined dataset size: 760\n",
      "Saved augmented training data at output_rank_listnet_n_steps_100/R3_T5_Q8_acq_greedy_noise_0.0/REINVENT_round_2/HITL_iteration_5/iteration_combined_data.csv\n",
      "Epoch 5, Loss: 0.023615316099797685\n",
      "Epoch 10, Loss: 0.0226150262557591\n",
      "Epoch 15, Loss: 0.02140272866624097\n",
      "Epoch 20, Loss: 0.020184215895521145\n",
      "Epoch 25, Loss: 0.018992935889400542\n",
      "Saved retrained feedback model at output_rank_listnet_n_steps_100/R3_T5_Q8_acq_greedy_noise_0.0/REINVENT_round_2/HITL_iteration_5/rank_listnet_model.pth\n",
      "=====================================\n",
      "REINVENT round = 3\n",
      "Creating config file: output_rank_listnet_n_steps_100/R3_T5_Q8_acq_greedy_noise_0.0/REINVENT_round_3/config.json.\n",
      "Run REINVENT\n",
      "Exit code: 0\n",
      "Number of SMILES in scaffold_memory.csv:  6163\n",
      "----------------------------------\n",
      "HITL iteration = 1\n",
      "Loading Rank ListNet model successfully from output_rank_listnet_n_steps_100/R3_T5_Q8_acq_greedy_noise_0.0/REINVENT_round_2/HITL_iteration_5/rank_listnet_model.pth\n",
      "B1 processed | B2 processed | B3 processed | B4 processed | B5 processed | B6 processed | B7 processed | B8 processed | "
     ]
    },
    {
     "name": "stderr",
     "output_type": "stream",
     "text": [
      "Found local copy...\n"
     ]
    },
    {
     "name": "stdout",
     "output_type": "stream",
     "text": [
      "B9 processed | Human score at HITL iteration 1: [0.042164582127960204, 0.9952443830592106, 0.8854833195212459, 0.994264640657027, 0.505788882591881, 0.9878880001269335, 0.2369240798975385, 0.021300018915700398]\n",
      "New queried dataset size: 56\n",
      "Combined dataset size: 816\n",
      "Saved augmented training data at output_rank_listnet_n_steps_100/R3_T5_Q8_acq_greedy_noise_0.0/REINVENT_round_3/HITL_iteration_1/iteration_combined_data.csv\n",
      "Epoch 5, Loss: 0.03257262101396918\n",
      "Epoch 10, Loss: 0.030475209117867053\n",
      "Epoch 15, Loss: 0.02824729011626914\n",
      "Epoch 20, Loss: 0.026224698638543487\n",
      "Epoch 25, Loss: 0.024214980308897793\n",
      "Saved retrained feedback model at output_rank_listnet_n_steps_100/R3_T5_Q8_acq_greedy_noise_0.0/REINVENT_round_3/HITL_iteration_1/rank_listnet_model.pth\n",
      "----------------------------------\n",
      "HITL iteration = 2\n",
      "Loading Rank ListNet model successfully from output_rank_listnet_n_steps_100/R3_T5_Q8_acq_greedy_noise_0.0/REINVENT_round_3/HITL_iteration_1/rank_listnet_model.pth\n",
      "B1 processed | B2 processed | B3 processed | B4 processed | B5 processed | B6 processed | B7 processed | B8 processed | "
     ]
    },
    {
     "name": "stderr",
     "output_type": "stream",
     "text": [
      "Found local copy...\n"
     ]
    },
    {
     "name": "stdout",
     "output_type": "stream",
     "text": [
      "B9 processed | Human score at HITL iteration 2: [0.001500839177574304, 0.01016675669566857, 0.014580053851360197, 0.003933622508187897, 0.1499376361685412, 0.029333582879254142, 0.9846850004904589, 0.04837207825213556]\n",
      "New queried dataset size: 56\n",
      "Combined dataset size: 872\n",
      "Saved augmented training data at output_rank_listnet_n_steps_100/R3_T5_Q8_acq_greedy_noise_0.0/REINVENT_round_3/HITL_iteration_2/iteration_combined_data.csv\n",
      "Epoch 5, Loss: 0.054995751357637346\n",
      "Epoch 10, Loss: 0.049030977534130216\n",
      "Epoch 15, Loss: 0.04442009283229709\n",
      "Epoch 20, Loss: 0.04049787455005571\n",
      "Epoch 25, Loss: 0.037007437902502716\n",
      "Saved retrained feedback model at output_rank_listnet_n_steps_100/R3_T5_Q8_acq_greedy_noise_0.0/REINVENT_round_3/HITL_iteration_2/rank_listnet_model.pth\n",
      "----------------------------------\n",
      "HITL iteration = 3\n",
      "Loading Rank ListNet model successfully from output_rank_listnet_n_steps_100/R3_T5_Q8_acq_greedy_noise_0.0/REINVENT_round_3/HITL_iteration_2/rank_listnet_model.pth\n",
      "B1 processed | B2 processed | B3 processed | B4 processed | B5 processed | B6 processed | B7 processed | B8 processed | "
     ]
    },
    {
     "name": "stderr",
     "output_type": "stream",
     "text": [
      "Found local copy...\n"
     ]
    },
    {
     "name": "stdout",
     "output_type": "stream",
     "text": [
      "B9 processed | Human score at HITL iteration 3: [0.4724591456843528, 0.9297970667562105, 0.2443174722757365, 0.5415120806439561, 0.03389206635979555, 0.028938693233772194, 0.061509527892671216, 0.3134065557198362]\n",
      "New queried dataset size: 56\n",
      "Combined dataset size: 928\n",
      "Saved augmented training data at output_rank_listnet_n_steps_100/R3_T5_Q8_acq_greedy_noise_0.0/REINVENT_round_3/HITL_iteration_3/iteration_combined_data.csv\n",
      "Epoch 5, Loss: 0.009718419692944735\n",
      "Epoch 10, Loss: 0.008755605536862276\n",
      "Epoch 15, Loss: 0.00787780036625918\n",
      "Epoch 20, Loss: 0.007073555127135478\n",
      "Epoch 25, Loss: 0.006343644476146437\n",
      "Saved retrained feedback model at output_rank_listnet_n_steps_100/R3_T5_Q8_acq_greedy_noise_0.0/REINVENT_round_3/HITL_iteration_3/rank_listnet_model.pth\n",
      "----------------------------------\n",
      "HITL iteration = 4\n",
      "Loading Rank ListNet model successfully from output_rank_listnet_n_steps_100/R3_T5_Q8_acq_greedy_noise_0.0/REINVENT_round_3/HITL_iteration_3/rank_listnet_model.pth\n",
      "B1 processed | B2 processed | B3 processed | B4 processed | B5 processed | B6 processed | B7 processed | B8 processed | "
     ]
    },
    {
     "name": "stderr",
     "output_type": "stream",
     "text": [
      "Found local copy...\n"
     ]
    },
    {
     "name": "stdout",
     "output_type": "stream",
     "text": [
      "B9 processed | Human score at HITL iteration 4: [0.8280154184653052, 0.32876234889659467, 0.19951189635606523, 0.9419589990883335, 0.3443200381597093, 0.8813622604934259, 0.572865478314947, 0.5375990073004844]\n",
      "New queried dataset size: 56\n",
      "Combined dataset size: 984\n",
      "Saved augmented training data at output_rank_listnet_n_steps_100/R3_T5_Q8_acq_greedy_noise_0.0/REINVENT_round_3/HITL_iteration_4/iteration_combined_data.csv\n",
      "Epoch 5, Loss: 0.009250163760346672\n",
      "Epoch 10, Loss: 0.008167370416534444\n",
      "Epoch 15, Loss: 0.0071864689331656946\n",
      "Epoch 20, Loss: 0.006324602824558194\n",
      "Epoch 25, Loss: 0.0055568471434526145\n",
      "Saved retrained feedback model at output_rank_listnet_n_steps_100/R3_T5_Q8_acq_greedy_noise_0.0/REINVENT_round_3/HITL_iteration_4/rank_listnet_model.pth\n",
      "----------------------------------\n",
      "HITL iteration = 5\n",
      "Loading Rank ListNet model successfully from output_rank_listnet_n_steps_100/R3_T5_Q8_acq_greedy_noise_0.0/REINVENT_round_3/HITL_iteration_4/rank_listnet_model.pth\n",
      "B1 processed | B2 processed | B3 processed | B4 processed | B5 processed | B6 processed | B7 processed | B8 processed | "
     ]
    },
    {
     "name": "stderr",
     "output_type": "stream",
     "text": [
      "Found local copy...\n"
     ]
    },
    {
     "name": "stdout",
     "output_type": "stream",
     "text": [
      "B9 processed | Human score at HITL iteration 5: [0.10936602294504322, 0.0028081401821880647, 0.16043801982343658, 0.006742019423573564, 0.35396541545803134, 0.20352555362433342, 0.2593101419925818, 0.029532843117306324]\n",
      "New queried dataset size: 56\n",
      "Combined dataset size: 1040\n",
      "Saved augmented training data at output_rank_listnet_n_steps_100/R3_T5_Q8_acq_greedy_noise_0.0/REINVENT_round_3/HITL_iteration_5/iteration_combined_data.csv\n",
      "Epoch 5, Loss: 0.007660472503630444\n",
      "Epoch 10, Loss: 0.006588390388060361\n",
      "Epoch 15, Loss: 0.00552405123016797\n",
      "Epoch 20, Loss: 0.004874946258496493\n",
      "Epoch 25, Loss: 0.004120524245081469\n",
      "Saved retrained feedback model at output_rank_listnet_n_steps_100/R3_T5_Q8_acq_greedy_noise_0.0/REINVENT_round_3/HITL_iteration_5/rank_listnet_model.pth\n",
      "=====================================\n",
      "REINVENT round = 4\n",
      "Creating config file: output_rank_listnet_n_steps_100/R3_T5_Q8_acq_greedy_noise_0.0/REINVENT_round_4/config.json.\n",
      "Run REINVENT\n",
      "Exit code: 0\n",
      "\n",
      "*******************************************************************\n",
      "Running HITL with greedy acquisition and noise 0.1\n",
      "\n",
      "Running DRD2 (one objective) with rounds 3, iters 5, queries 8, seed 42\n",
      "Results will be saved at output_rank_listnet_n_steps_100/R3_T5_Q8_acq_greedy_noise_0.1\n",
      "Loading initial training datasets successfully\n",
      "=====================================\n",
      "REINVENT round = 1\n",
      "Creating config file: output_rank_listnet_n_steps_100/R3_T5_Q8_acq_greedy_noise_0.1/REINVENT_round_1/config.json.\n",
      "Run REINVENT\n",
      "Exit code: 0\n",
      "Number of SMILES in scaffold_memory.csv:  6145\n",
      "----------------------------------\n",
      "HITL iteration = 1\n",
      "Loading Rank ListNet model successfully from /home/springnuance/reinvent-hitl/Base-Code-Binh/training_Rank_ListNet_model/rank_listnet_model.pth\n",
      "B1 processed | B2 processed | B3 processed | B4 processed | B5 processed | B6 processed | B7 processed | B8 processed | "
     ]
    },
    {
     "name": "stderr",
     "output_type": "stream",
     "text": [
      "Found local copy...\n"
     ]
    },
    {
     "name": "stdout",
     "output_type": "stream",
     "text": [
      "B9 processed | Human score at HITL iteration 1: [0.051093831364406594, 0.0, 0.06555269062283536, 0.15258343972147298, 0.0, 0.0, 0.1589680018449791, 0.0775191607474383]\n",
      "New queried dataset size: 56\n",
      "Combined dataset size: 256\n",
      "Saved augmented training data at output_rank_listnet_n_steps_100/R3_T5_Q8_acq_greedy_noise_0.1/REINVENT_round_1/HITL_iteration_1/iteration_combined_data.csv\n",
      "Epoch 5, Loss: 0.013435875298455358\n",
      "Epoch 10, Loss: 0.013417287147603929\n",
      "Epoch 15, Loss: 0.013398461858741939\n",
      "Epoch 20, Loss: 0.01337914599571377\n",
      "Epoch 25, Loss: 0.01335930754430592\n",
      "Saved retrained feedback model at output_rank_listnet_n_steps_100/R3_T5_Q8_acq_greedy_noise_0.1/REINVENT_round_1/HITL_iteration_1/rank_listnet_model.pth\n",
      "----------------------------------\n",
      "HITL iteration = 2\n",
      "Loading Rank ListNet model successfully from output_rank_listnet_n_steps_100/R3_T5_Q8_acq_greedy_noise_0.1/REINVENT_round_1/HITL_iteration_1/rank_listnet_model.pth\n",
      "B1 processed | B2 processed | B3 processed | B4 processed | B5 processed | B6 processed | B7 processed | B8 processed | "
     ]
    },
    {
     "name": "stderr",
     "output_type": "stream",
     "text": [
      "Found local copy...\n"
     ]
    },
    {
     "name": "stdout",
     "output_type": "stream",
     "text": [
      "B9 processed | Human score at HITL iteration 2: [0.0005744538994102086, 0.5175130540154483, 0.0, 0.0, 0.05137423220972921, 0.0, 0.8274948271465092, 0.0]\n",
      "New queried dataset size: 56\n",
      "Combined dataset size: 312\n",
      "Saved augmented training data at output_rank_listnet_n_steps_100/R3_T5_Q8_acq_greedy_noise_0.1/REINVENT_round_1/HITL_iteration_2/iteration_combined_data.csv\n",
      "Epoch 5, Loss: 0.02103726922844847\n",
      "Epoch 10, Loss: 0.02103227819316089\n",
      "Epoch 15, Loss: 0.020905225692937773\n",
      "Epoch 20, Loss: 0.020791176085670788\n",
      "Epoch 25, Loss: 0.020697972116370995\n",
      "Saved retrained feedback model at output_rank_listnet_n_steps_100/R3_T5_Q8_acq_greedy_noise_0.1/REINVENT_round_1/HITL_iteration_2/rank_listnet_model.pth\n",
      "----------------------------------\n",
      "HITL iteration = 3\n",
      "Loading Rank ListNet model successfully from output_rank_listnet_n_steps_100/R3_T5_Q8_acq_greedy_noise_0.1/REINVENT_round_1/HITL_iteration_2/rank_listnet_model.pth\n",
      "B1 processed | B2 processed | B3 processed | B4 processed | B5 processed | B6 processed | B7 processed | B8 processed | "
     ]
    },
    {
     "name": "stderr",
     "output_type": "stream",
     "text": [
      "Found local copy...\n"
     ]
    },
    {
     "name": "stdout",
     "output_type": "stream",
     "text": [
      "B9 processed | Human score at HITL iteration 3: [0.0, 0.031876415201273794, 0.0, 0.0, 0.1682799359780406, 0.0, 0.02070109616434148, 0.0]\n",
      "New queried dataset size: 56\n",
      "Combined dataset size: 368\n",
      "Saved augmented training data at output_rank_listnet_n_steps_100/R3_T5_Q8_acq_greedy_noise_0.1/REINVENT_round_1/HITL_iteration_3/iteration_combined_data.csv\n",
      "Epoch 5, Loss: 0.0324336988851428\n",
      "Epoch 10, Loss: 0.03091263957321644\n",
      "Epoch 15, Loss: 0.0320725537603721\n",
      "Epoch 20, Loss: 0.0315991755342111\n",
      "Epoch 25, Loss: 0.03173769323620945\n",
      "Saved retrained feedback model at output_rank_listnet_n_steps_100/R3_T5_Q8_acq_greedy_noise_0.1/REINVENT_round_1/HITL_iteration_3/rank_listnet_model.pth\n",
      "----------------------------------\n",
      "HITL iteration = 4\n",
      "Loading Rank ListNet model successfully from output_rank_listnet_n_steps_100/R3_T5_Q8_acq_greedy_noise_0.1/REINVENT_round_1/HITL_iteration_3/rank_listnet_model.pth\n",
      "B1 processed | B2 processed | B3 processed | B4 processed | B5 processed | B6 processed | B7 processed | B8 processed | "
     ]
    },
    {
     "name": "stderr",
     "output_type": "stream",
     "text": [
      "Found local copy...\n"
     ]
    },
    {
     "name": "stdout",
     "output_type": "stream",
     "text": [
      "B9 processed | Human score at HITL iteration 4: [0.0, 0.011345852318379512, 0.10015464611209202, 0.092932954155381, 0.0, 0.0, 0.0, 0.1854471592196742]\n",
      "New queried dataset size: 56\n",
      "Combined dataset size: 424\n",
      "Saved augmented training data at output_rank_listnet_n_steps_100/R3_T5_Q8_acq_greedy_noise_0.1/REINVENT_round_1/HITL_iteration_4/iteration_combined_data.csv\n",
      "Epoch 5, Loss: 0.06339193135499954\n",
      "Epoch 10, Loss: 0.0611450367141515\n",
      "Epoch 15, Loss: 0.06101025640964508\n",
      "Epoch 20, Loss: 0.06561449123546481\n",
      "Epoch 25, Loss: 0.06118851760402322\n",
      "Saved retrained feedback model at output_rank_listnet_n_steps_100/R3_T5_Q8_acq_greedy_noise_0.1/REINVENT_round_1/HITL_iteration_4/rank_listnet_model.pth\n",
      "----------------------------------\n",
      "HITL iteration = 5\n",
      "Loading Rank ListNet model successfully from output_rank_listnet_n_steps_100/R3_T5_Q8_acq_greedy_noise_0.1/REINVENT_round_1/HITL_iteration_4/rank_listnet_model.pth\n",
      "B1 processed | B2 processed | B3 processed | B4 processed | B5 processed | B6 processed | B7 processed | B8 processed | "
     ]
    },
    {
     "name": "stderr",
     "output_type": "stream",
     "text": [
      "Found local copy...\n"
     ]
    },
    {
     "name": "stdout",
     "output_type": "stream",
     "text": [
      "B9 processed | Human score at HITL iteration 5: [0.004221784570443579, 0.0668048977540283, 0.08729853086978503, 0.0, 0.021359259774600705, 0.0, 0.0, 0.022573331630801476]\n",
      "New queried dataset size: 56\n",
      "Combined dataset size: 480\n",
      "Saved augmented training data at output_rank_listnet_n_steps_100/R3_T5_Q8_acq_greedy_noise_0.1/REINVENT_round_1/HITL_iteration_5/iteration_combined_data.csv\n",
      "Epoch 5, Loss: 0.014685355476103723\n",
      "Epoch 10, Loss: 0.014589503116440028\n",
      "Epoch 15, Loss: 0.014485015359241515\n",
      "Epoch 20, Loss: 0.014370503835380077\n",
      "Epoch 25, Loss: 0.014244821097236127\n",
      "Saved retrained feedback model at output_rank_listnet_n_steps_100/R3_T5_Q8_acq_greedy_noise_0.1/REINVENT_round_1/HITL_iteration_5/rank_listnet_model.pth\n",
      "=====================================\n",
      "REINVENT round = 2\n",
      "Creating config file: output_rank_listnet_n_steps_100/R3_T5_Q8_acq_greedy_noise_0.1/REINVENT_round_2/config.json.\n",
      "Run REINVENT\n",
      "Exit code: 0\n",
      "Number of SMILES in scaffold_memory.csv:  6154\n",
      "----------------------------------\n",
      "HITL iteration = 1\n",
      "Loading Rank ListNet model successfully from output_rank_listnet_n_steps_100/R3_T5_Q8_acq_greedy_noise_0.1/REINVENT_round_1/HITL_iteration_5/rank_listnet_model.pth\n",
      "B1 processed | B2 processed | B3 processed | B4 processed | B5 processed | B6 processed | B7 processed | B8 processed | "
     ]
    },
    {
     "name": "stderr",
     "output_type": "stream",
     "text": [
      "Found local copy...\n"
     ]
    },
    {
     "name": "stdout",
     "output_type": "stream",
     "text": [
      "B9 processed | Human score at HITL iteration 1: [0.09665118548866657, 0.8970651056184282, 0.7195925779052887, 0.9603594965591931, 0.5148791396878923, 0.3664917619734578, 0.8620363855446542, 1.0]\n",
      "New queried dataset size: 56\n",
      "Combined dataset size: 536\n",
      "Saved augmented training data at output_rank_listnet_n_steps_100/R3_T5_Q8_acq_greedy_noise_0.1/REINVENT_round_2/HITL_iteration_1/iteration_combined_data.csv\n",
      "Epoch 5, Loss: 0.021393897322316963\n",
      "Epoch 10, Loss: 0.02100316547633459\n",
      "Epoch 15, Loss: 0.020936165858681004\n",
      "Epoch 20, Loss: 0.02066557699193557\n",
      "Epoch 25, Loss: 0.020296294630194705\n",
      "Saved retrained feedback model at output_rank_listnet_n_steps_100/R3_T5_Q8_acq_greedy_noise_0.1/REINVENT_round_2/HITL_iteration_1/rank_listnet_model.pth\n",
      "----------------------------------\n",
      "HITL iteration = 2\n",
      "Loading Rank ListNet model successfully from output_rank_listnet_n_steps_100/R3_T5_Q8_acq_greedy_noise_0.1/REINVENT_round_2/HITL_iteration_1/rank_listnet_model.pth\n",
      "B1 processed | B2 processed | B3 processed | B4 processed | B5 processed | B6 processed | B7 processed | B8 processed | "
     ]
    },
    {
     "name": "stderr",
     "output_type": "stream",
     "text": [
      "Found local copy...\n"
     ]
    },
    {
     "name": "stdout",
     "output_type": "stream",
     "text": [
      "B9 processed | Human score at HITL iteration 2: [0.9835743129277802, 0.7836401870980002, 0.7454222512217384, 0.7285775269865713, 0.24454416852481042, 1.0, 0.5074111350573527, 0.9572854047182184]\n",
      "New queried dataset size: 56\n",
      "Combined dataset size: 592\n",
      "Saved augmented training data at output_rank_listnet_n_steps_100/R3_T5_Q8_acq_greedy_noise_0.1/REINVENT_round_2/HITL_iteration_2/iteration_combined_data.csv\n",
      "Epoch 5, Loss: 0.032874951080884784\n",
      "Epoch 10, Loss: 0.03228762932121754\n",
      "Epoch 15, Loss: 0.031763102975673974\n",
      "Epoch 20, Loss: 0.03057343210093677\n",
      "Epoch 25, Loss: 0.030160536989569664\n",
      "Saved retrained feedback model at output_rank_listnet_n_steps_100/R3_T5_Q8_acq_greedy_noise_0.1/REINVENT_round_2/HITL_iteration_2/rank_listnet_model.pth\n",
      "----------------------------------\n",
      "HITL iteration = 3\n",
      "Loading Rank ListNet model successfully from output_rank_listnet_n_steps_100/R3_T5_Q8_acq_greedy_noise_0.1/REINVENT_round_2/HITL_iteration_2/rank_listnet_model.pth\n",
      "B1 processed | B2 processed | B3 processed | B4 processed | B5 processed | B6 processed | B7 processed | B8 processed | "
     ]
    },
    {
     "name": "stderr",
     "output_type": "stream",
     "text": [
      "Found local copy...\n"
     ]
    },
    {
     "name": "stdout",
     "output_type": "stream",
     "text": [
      "B9 processed | Human score at HITL iteration 3: [0.40701425291173804, 0.0023385160407620696, 0.28437434594738326, 0.7373878952042616, 0.0, 0.9814338454491448, 0.7745064452270737, 0.8471059700824373]\n",
      "New queried dataset size: 56\n",
      "Combined dataset size: 648\n",
      "Saved augmented training data at output_rank_listnet_n_steps_100/R3_T5_Q8_acq_greedy_noise_0.1/REINVENT_round_2/HITL_iteration_3/iteration_combined_data.csv\n",
      "Epoch 5, Loss: 0.06864623678848147\n",
      "Epoch 10, Loss: 0.06797385727986693\n",
      "Epoch 15, Loss: 0.06636790931224823\n",
      "Epoch 20, Loss: 0.06367989047430456\n",
      "Epoch 25, Loss: 0.062269280664622784\n",
      "Saved retrained feedback model at output_rank_listnet_n_steps_100/R3_T5_Q8_acq_greedy_noise_0.1/REINVENT_round_2/HITL_iteration_3/rank_listnet_model.pth\n",
      "----------------------------------\n",
      "HITL iteration = 4\n",
      "Loading Rank ListNet model successfully from output_rank_listnet_n_steps_100/R3_T5_Q8_acq_greedy_noise_0.1/REINVENT_round_2/HITL_iteration_3/rank_listnet_model.pth\n",
      "B1 processed | B2 processed | B3 processed | B4 processed | B5 processed | B6 processed | B7 processed | B8 processed | "
     ]
    },
    {
     "name": "stderr",
     "output_type": "stream",
     "text": [
      "Found local copy...\n"
     ]
    },
    {
     "name": "stdout",
     "output_type": "stream",
     "text": [
      "B9 processed | Human score at HITL iteration 4: [0.18733019858884514, 1.0, 0.8937479307037158, 0.1846372342576395, 0.04848729741133837, 0.0, 0.04084383182374007, 0.37284753738034304]\n",
      "New queried dataset size: 56\n",
      "Combined dataset size: 704\n",
      "Saved augmented training data at output_rank_listnet_n_steps_100/R3_T5_Q8_acq_greedy_noise_0.1/REINVENT_round_2/HITL_iteration_4/iteration_combined_data.csv\n",
      "Epoch 5, Loss: 0.01734505273634568\n",
      "Epoch 10, Loss: 0.016773732961155474\n",
      "Epoch 15, Loss: 0.01617016620002687\n",
      "Epoch 20, Loss: 0.015535228216322139\n",
      "Epoch 25, Loss: 0.014872140542138368\n",
      "Saved retrained feedback model at output_rank_listnet_n_steps_100/R3_T5_Q8_acq_greedy_noise_0.1/REINVENT_round_2/HITL_iteration_4/rank_listnet_model.pth\n",
      "----------------------------------\n",
      "HITL iteration = 5\n",
      "Loading Rank ListNet model successfully from output_rank_listnet_n_steps_100/R3_T5_Q8_acq_greedy_noise_0.1/REINVENT_round_2/HITL_iteration_4/rank_listnet_model.pth\n",
      "B1 processed | B2 processed | B3 processed | B4 processed | B5 processed | B6 processed | B7 processed | B8 processed | "
     ]
    },
    {
     "name": "stderr",
     "output_type": "stream",
     "text": [
      "Found local copy...\n"
     ]
    },
    {
     "name": "stdout",
     "output_type": "stream",
     "text": [
      "B9 processed | Human score at HITL iteration 5: [0.33368362179808214, 0.20373941868455092, 0.4895023733325329, 0.09484786661843814, 0.7829812442057984, 0.9543654013022772, 0.031705074360293344, 0.6433926466820148]\n",
      "New queried dataset size: 56\n",
      "Combined dataset size: 760\n",
      "Saved augmented training data at output_rank_listnet_n_steps_100/R3_T5_Q8_acq_greedy_noise_0.1/REINVENT_round_2/HITL_iteration_5/iteration_combined_data.csv\n",
      "Epoch 5, Loss: 0.021635032646978896\n",
      "Epoch 10, Loss: 0.02062319576119383\n",
      "Epoch 15, Loss: 0.01951760957793643\n",
      "Epoch 20, Loss: 0.018463424678581457\n",
      "Epoch 25, Loss: 0.01740071103752901\n",
      "Saved retrained feedback model at output_rank_listnet_n_steps_100/R3_T5_Q8_acq_greedy_noise_0.1/REINVENT_round_2/HITL_iteration_5/rank_listnet_model.pth\n",
      "=====================================\n",
      "REINVENT round = 3\n",
      "Creating config file: output_rank_listnet_n_steps_100/R3_T5_Q8_acq_greedy_noise_0.1/REINVENT_round_3/config.json.\n",
      "Run REINVENT\n",
      "Exit code: 0\n",
      "Number of SMILES in scaffold_memory.csv:  6162\n",
      "----------------------------------\n",
      "HITL iteration = 1\n",
      "Loading Rank ListNet model successfully from output_rank_listnet_n_steps_100/R3_T5_Q8_acq_greedy_noise_0.1/REINVENT_round_2/HITL_iteration_5/rank_listnet_model.pth\n",
      "B1 processed | B2 processed | B3 processed | B4 processed | B5 processed | B6 processed | B7 processed | B8 processed | "
     ]
    },
    {
     "name": "stderr",
     "output_type": "stream",
     "text": [
      "Found local copy...\n"
     ]
    },
    {
     "name": "stdout",
     "output_type": "stream",
     "text": [
      "B9 processed | Human score at HITL iteration 1: [0.91187818505971, 0.682115644872112, 1.0, 0.948161588698997, 0.852163645944254, 0.9386016571079588, 0.9028186087009522, 1.0]\n",
      "New queried dataset size: 56\n",
      "Combined dataset size: 816\n",
      "Saved augmented training data at output_rank_listnet_n_steps_100/R3_T5_Q8_acq_greedy_noise_0.1/REINVENT_round_3/HITL_iteration_1/iteration_combined_data.csv\n",
      "Epoch 5, Loss: 0.025271950929891318\n",
      "Epoch 10, Loss: 0.023323750239796937\n",
      "Epoch 15, Loss: 0.02179023891221732\n",
      "Epoch 20, Loss: 0.020250790810678154\n",
      "Epoch 25, Loss: 0.018459987302776426\n",
      "Saved retrained feedback model at output_rank_listnet_n_steps_100/R3_T5_Q8_acq_greedy_noise_0.1/REINVENT_round_3/HITL_iteration_1/rank_listnet_model.pth\n",
      "----------------------------------\n",
      "HITL iteration = 2\n",
      "Loading Rank ListNet model successfully from output_rank_listnet_n_steps_100/R3_T5_Q8_acq_greedy_noise_0.1/REINVENT_round_3/HITL_iteration_1/rank_listnet_model.pth\n",
      "B1 processed | B2 processed | B3 processed | B4 processed | B5 processed | B6 processed | B7 processed | B8 processed | "
     ]
    },
    {
     "name": "stderr",
     "output_type": "stream",
     "text": [
      "Found local copy...\n"
     ]
    },
    {
     "name": "stdout",
     "output_type": "stream",
     "text": [
      "B9 processed | Human score at HITL iteration 2: [0.8491778040209214, 0.08357928802860767, 0.99302791931882, 0.6873987378046575, 0.2246254536922015, 0.9637368201525273, 0.9461704154119148, 0.5010630501344966]\n",
      "New queried dataset size: 56\n",
      "Combined dataset size: 872\n",
      "Saved augmented training data at output_rank_listnet_n_steps_100/R3_T5_Q8_acq_greedy_noise_0.1/REINVENT_round_3/HITL_iteration_2/iteration_combined_data.csv\n",
      "Epoch 5, Loss: 0.039967239659745246\n",
      "Epoch 10, Loss: 0.036060712416656315\n",
      "Epoch 15, Loss: 0.03285237756790593\n",
      "Epoch 20, Loss: 0.030048617452848703\n",
      "Epoch 25, Loss: 0.026278764533344656\n",
      "Saved retrained feedback model at output_rank_listnet_n_steps_100/R3_T5_Q8_acq_greedy_noise_0.1/REINVENT_round_3/HITL_iteration_2/rank_listnet_model.pth\n",
      "----------------------------------\n",
      "HITL iteration = 3\n",
      "Loading Rank ListNet model successfully from output_rank_listnet_n_steps_100/R3_T5_Q8_acq_greedy_noise_0.1/REINVENT_round_3/HITL_iteration_2/rank_listnet_model.pth\n",
      "B1 processed | B2 processed | B3 processed | B4 processed | B5 processed | B6 processed | B7 processed | B8 processed | "
     ]
    },
    {
     "name": "stderr",
     "output_type": "stream",
     "text": [
      "Found local copy...\n"
     ]
    },
    {
     "name": "stdout",
     "output_type": "stream",
     "text": [
      "B9 processed | Human score at HITL iteration 3: [0.37626816426938925, 0.18004263275384036, 0.7188419719732789, 0.5001598747383915, 0.2589451819928762, 0.14375624616334454, 0.9415088504237032, 0.6478535735997335]\n",
      "New queried dataset size: 56\n",
      "Combined dataset size: 928\n",
      "Saved augmented training data at output_rank_listnet_n_steps_100/R3_T5_Q8_acq_greedy_noise_0.1/REINVENT_round_3/HITL_iteration_3/iteration_combined_data.csv\n",
      "Epoch 5, Loss: 0.006952215146156959\n",
      "Epoch 10, Loss: 0.006118910576333292\n",
      "Epoch 15, Loss: 0.005362768715713173\n",
      "Epoch 20, Loss: 0.0046865976037224755\n",
      "Epoch 25, Loss: 0.004091843540663831\n",
      "Saved retrained feedback model at output_rank_listnet_n_steps_100/R3_T5_Q8_acq_greedy_noise_0.1/REINVENT_round_3/HITL_iteration_3/rank_listnet_model.pth\n",
      "----------------------------------\n",
      "HITL iteration = 4\n",
      "Loading Rank ListNet model successfully from output_rank_listnet_n_steps_100/R3_T5_Q8_acq_greedy_noise_0.1/REINVENT_round_3/HITL_iteration_3/rank_listnet_model.pth\n",
      "B1 processed | B2 processed | B3 processed | B4 processed | B5 processed | B6 processed | B7 processed | B8 processed | "
     ]
    },
    {
     "name": "stderr",
     "output_type": "stream",
     "text": [
      "Found local copy...\n"
     ]
    },
    {
     "name": "stdout",
     "output_type": "stream",
     "text": [
      "B9 processed | Human score at HITL iteration 4: [0.03141386041497231, 0.17347257136416272, 1.0, 0.046187420581074744, 0.09908726865990543, 0.8666034750160369, 0.8019295246587013, 0.7070610750375306]\n",
      "New queried dataset size: 56\n",
      "Combined dataset size: 984\n",
      "Saved augmented training data at output_rank_listnet_n_steps_100/R3_T5_Q8_acq_greedy_noise_0.1/REINVENT_round_3/HITL_iteration_4/iteration_combined_data.csv\n",
      "Epoch 5, Loss: 0.007375501814143111\n",
      "Epoch 10, Loss: 0.006218636796499292\n",
      "Epoch 15, Loss: 0.005146526993485168\n",
      "Epoch 20, Loss: 0.0043102421623189\n",
      "Epoch 25, Loss: 0.0036158408717407533\n",
      "Saved retrained feedback model at output_rank_listnet_n_steps_100/R3_T5_Q8_acq_greedy_noise_0.1/REINVENT_round_3/HITL_iteration_4/rank_listnet_model.pth\n",
      "----------------------------------\n",
      "HITL iteration = 5\n",
      "Loading Rank ListNet model successfully from output_rank_listnet_n_steps_100/R3_T5_Q8_acq_greedy_noise_0.1/REINVENT_round_3/HITL_iteration_4/rank_listnet_model.pth\n",
      "B1 processed | B2 processed | B3 processed | B4 processed | B5 processed | B6 processed | B7 processed | B8 processed | "
     ]
    },
    {
     "name": "stderr",
     "output_type": "stream",
     "text": [
      "Found local copy...\n"
     ]
    },
    {
     "name": "stdout",
     "output_type": "stream",
     "text": [
      "B9 processed | Human score at HITL iteration 5: [0.5422065558084836, 1.0, 0.3547599697268366, 0.5947294151167312, 0.05702801976348898, 0.0, 0.364982407951798, 0.3659699829294827]\n",
      "New queried dataset size: 56\n",
      "Combined dataset size: 1040\n",
      "Saved augmented training data at output_rank_listnet_n_steps_100/R3_T5_Q8_acq_greedy_noise_0.1/REINVENT_round_3/HITL_iteration_5/iteration_combined_data.csv\n",
      "Epoch 5, Loss: 0.005981626745779067\n",
      "Epoch 10, Loss: 0.004779673501616344\n",
      "Epoch 15, Loss: 0.003866765327984467\n",
      "Epoch 20, Loss: 0.0032627856417093426\n",
      "Epoch 25, Loss: 0.0027346378774382174\n",
      "Saved retrained feedback model at output_rank_listnet_n_steps_100/R3_T5_Q8_acq_greedy_noise_0.1/REINVENT_round_3/HITL_iteration_5/rank_listnet_model.pth\n",
      "=====================================\n",
      "REINVENT round = 4\n",
      "Creating config file: output_rank_listnet_n_steps_100/R3_T5_Q8_acq_greedy_noise_0.1/REINVENT_round_4/config.json.\n",
      "Run REINVENT\n",
      "Exit code: 0\n"
     ]
    }
   ],
   "source": [
    "! pip install -e \"/home/springnuance/reinvent-hitl/reinvent-scoring\"\n",
    "\n",
    "seed = 42\n",
    "\n",
    "# change these path variables as required\n",
    "reinvent_dir = os.path.expanduser(\"/home/springnuance/reinvent-hitl/Reinvent\") # We must use absolute path\n",
    "reinvent_env = os.path.expanduser(\"/home/springnuance/miniconda3/envs/ReinventCommunity\") # We must use absolute path\n",
    "\n",
    "# the performance of the initial model should not be good. Specifically, it should work at 0.5 accuracy \n",
    "# If the model is too good, retrain the model to become weaker, we are trying to make the model to learn via HITL\n",
    "\n",
    "feedback_type = \"ranking\" # scoring, comparing, ranking\n",
    "\n",
    "# feedback type as ranking:\n",
    "# Given N molecules, what are the orders of preference of these molecules regarding DRD2?\n",
    "\n",
    "base_training_dataset_path = \"/home/springnuance/reinvent-hitl/Base-Code-Binh/training_Rank_ListNet_model/small_drd2_training_data.csv\"\n",
    "\n",
    "model_pretrained_path = \"/home/springnuance/reinvent-hitl/Base-Code-Binh/training_Rank_ListNet_model/rank_listnet_model.pth\"\n",
    "model_pretrained_name = \"rank_listnet_model.pth\"\n",
    "\n",
    "num_rounds = 3 # number of rounds, corresponding to R in the paper\n",
    "num_iters = 5 # number of iterations of showing molecules to the human for feedback at each round\n",
    "REINVENT_n_steps = 100 # number of REINVENT optimization steps\n",
    "\n",
    "# Be careful, as the matrix size could get very large, based on binom(num_queries, 3)\n",
    "# batch_size at 80 could potentially crash the memory\n",
    "\n",
    "batch_size = 64 # batch size of the reinforcement learning model, or size of scaffold_memory.csv\n",
    "\n",
    "num_queries = 8 # number of molecules, pairs or a set of molecules, dependig on the task, \n",
    "                 # shown to the simulated chemist at each HITL_iteration\n",
    "\n",
    "# The actual queries is actually binom(num_queries, 3), since we are ranking each set of 3 molecules\n",
    "# As a result, binom(8, 3) = 56 sets of molecules are shown to the simulated chemist at each HITL_iteration\n",
    "\n",
    "choose_top_smiles = 8 * num_iters * 2 # number of top molecules to choose from scaffold. \n",
    "\n",
    "training_epochs = 25 # number of epochs for training the model in each HITL iteration\n",
    "learning_rate = 0.000001 # learning rate for training the model in each HITL iteration\n",
    "\n",
    "\n",
    "for acquisition in [\"random\", \"uncertainty\", \"greedy\"]:\n",
    "    for sigma_noise in [0.0, 0.1]:\n",
    "        print(\"\\n*******************************************************************\")\n",
    "        print(f\"Running HITL with {acquisition} acquisition and noise {sigma_noise}\")\n",
    "        \n",
    "        output_dir = f\"output_rank_listnet_n_steps_100/R{num_rounds}_T{num_iters}_Q{num_queries}_acq_{acquisition}_noise_{sigma_noise}\"\n",
    "\n",
    "        if os.path.exists(output_dir):\n",
    "            pass\n",
    "        else:\n",
    "            run_HITL_classify(\n",
    "                    seed, reinvent_dir, reinvent_env, output_dir,\n",
    "                    feedback_type, # scoring, comparing, ranking\n",
    "                    base_training_dataset_path, # Path to the pretrained model before REINVENT_round_1/HITL_iteration_1\n",
    "                    model_pretrained_path, # Path to the pretrained model before REINVENT_round_1\n",
    "                    model_pretrained_name, # Name of the pretrained model before REINVENT_round_1\n",
    "                    num_rounds, # number of rounds, corresponding to R in the paper\n",
    "                    num_iters, # number of iterations of showing molecules to the human for feedback at each round, corresponding to T in the paper\n",
    "                    num_queries, # number of molecules shown to the simulated chemist at each HITL_iteration\n",
    "                    REINVENT_n_steps, # number of REINVENT optimization steps\n",
    "                    batch_size, # batch size of the reinforcement learning model, or size of scaffold_memory.csv\n",
    "                    acquisition, # acquisition: 'uncertainty', 'random', 'thompson', 'greedy' (if None run with no human interaction)\n",
    "                    sigma_noise, # noise level for simulated chemist's responses\n",
    "                    choose_top_smiles, # number of top scoring molecules to choose for feedback\n",
    "                    training_epochs, # number of epochs for training the model in each HITL iteration\n",
    "                    learning_rate, # learning rate for training the model in each HITL iteration\n",
    "            )\n",
    "        \n",
    "        if not os.path.exists(f\"{output_dir}/REINVENT_round_{num_rounds+1}\"):\n",
    "            REINVENT_n_steps_last = 200\n",
    "            batch_size_last = 64\n",
    "            # Run the last REINVENT round using the last feedback model\n",
    "            current_model_path = f\"{output_dir}/REINVENT_round_{num_rounds}/HITL_iteration_{num_iters}/{model_pretrained_name}\"\n",
    "            run_REINVENT_round(num_rounds+1,\n",
    "                reinvent_dir, reinvent_env, output_dir, \n",
    "                feedback_type, # scoring, comparing, ranking\n",
    "                current_model_path, # Path to the pretrained model \n",
    "                REINVENT_n_steps_last, # number of REINVENT optimization steps. This is not related to the HITL but on the REINVENT side\n",
    "                batch_size_last, # batch size of the reinforcement learning model, or size of scaffold_memory.csv\n",
    "            )\n",
    "        else:\n",
    "            print(f\"Already ran the last REINVENT round for {output_dir}\")"
   ]
  }
 ],
 "metadata": {
  "kernelspec": {
   "display_name": "cc_env_hitl",
   "language": "python",
   "name": "python3"
  },
  "language_info": {
   "codemirror_mode": {
    "name": "ipython",
    "version": 3
   },
   "file_extension": ".py",
   "mimetype": "text/x-python",
   "name": "python",
   "nbconvert_exporter": "python",
   "pygments_lexer": "ipython3",
   "version": "3.11.5"
  }
 },
 "nbformat": 4,
 "nbformat_minor": 2
}

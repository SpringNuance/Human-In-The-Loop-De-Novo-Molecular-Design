{
 "cells": [
  {
   "cell_type": "code",
   "execution_count": 27,
   "metadata": {},
   "outputs": [
    {
     "name": "stdout",
     "output_type": "stream",
     "text": [
      "The autoreload extension is already loaded. To reload it, use:\n",
      "  %reload_ext autoreload\n"
     ]
    }
   ],
   "source": [
    "%load_ext autoreload\n",
    "%autoreload 2"
   ]
  },
  {
   "cell_type": "markdown",
   "metadata": {},
   "source": [
    "##### Please run this code with the kernel reinvent.v3.2"
   ]
  },
  {
   "cell_type": "code",
   "execution_count": 28,
   "metadata": {},
   "outputs": [],
   "source": [
    "# load dependencies\n",
    "import sys\n",
    "import pickle\n",
    "import os\n",
    "import shutil\n",
    "import json\n",
    "import pandas as pd\n",
    "import numpy as np\n",
    "import rdkit.Chem as Chem\n",
    "from numpy.random import default_rng\n",
    "import torch\n",
    "from ast import literal_eval\n",
    "from torch import nn, optim\n",
    "from rdkit import Chem\n",
    "from rdkit.Chem import AllChem\n",
    "from tdc import Oracle\n",
    "import subprocess"
   ]
  },
  {
   "cell_type": "markdown",
   "metadata": {},
   "source": [
    "### First, we need to install the custom reinvent scoring package to support the Bradley-Terry model"
   ]
  },
  {
   "cell_type": "code",
   "execution_count": 29,
   "metadata": {},
   "outputs": [
    {
     "name": "stdout",
     "output_type": "stream",
     "text": [
      "Python version: 3.11.5 (main, Sep 11 2023, 13:54:46) [GCC 11.2.0]\n"
     ]
    }
   ],
   "source": [
    "# print python version\n",
    "import sys\n",
    "\n",
    "# Print Python version\n",
    "print(f\"Python version: {sys.version}\")"
   ]
  },
  {
   "cell_type": "code",
   "execution_count": 30,
   "metadata": {},
   "outputs": [
    {
     "name": "stdout",
     "output_type": "stream",
     "text": [
      "Name: reinvent-scoring\n",
      "Version: 0.0.73\n",
      "Summary: Scoring functions for Reinvent\n",
      "Home-page: https://github.com/MolecularAI/reinvent-scoring.git\n",
      "Author: MolecularAI\n",
      "Author-email: patronov@gmail.com\n",
      "License: \n",
      "Location: /home/springnuance/reinvent-hitl/reinvent-scoring\n",
      "Editable project location: /home/springnuance/reinvent-hitl/reinvent-scoring\n",
      "Requires: \n",
      "Required-by: \n"
     ]
    }
   ],
   "source": [
    "! pip show reinvent_scoring"
   ]
  },
  {
   "cell_type": "code",
   "execution_count": 31,
   "metadata": {},
   "outputs": [],
   "source": [
    "# ! conda install scikit-learn=0.21.3"
   ]
  },
  {
   "cell_type": "markdown",
   "metadata": {},
   "source": [
    "##### If there already exists reinvent_scoring, we should uninstall it"
   ]
  },
  {
   "cell_type": "code",
   "execution_count": 32,
   "metadata": {},
   "outputs": [
    {
     "name": "stdout",
     "output_type": "stream",
     "text": [
      "Found existing installation: reinvent-scoring 0.0.73\n",
      "Uninstalling reinvent-scoring-0.0.73:\n",
      "  Successfully uninstalled reinvent-scoring-0.0.73\n"
     ]
    }
   ],
   "source": [
    "! pip uninstall -y reinvent_scoring"
   ]
  },
  {
   "cell_type": "markdown",
   "metadata": {},
   "source": [
    "##### Now we install the custom reinvent scoring package\n",
    "##### The flag -e means that the package is installed in editable mode, so that changes to the code will be immediately available without reinstalling the package. All package info is stored in the setup.py file."
   ]
  },
  {
   "cell_type": "code",
   "execution_count": 33,
   "metadata": {},
   "outputs": [
    {
     "name": "stdout",
     "output_type": "stream",
     "text": [
      "Obtaining file:///home/springnuance/reinvent-hitl/reinvent-scoring\n",
      "  Preparing metadata (setup.py) ... \u001b[?25ldone\n",
      "\u001b[?25hInstalling collected packages: reinvent-scoring\n",
      "  Running setup.py develop for reinvent-scoring\n",
      "Successfully installed reinvent-scoring-0.0.73\n",
      "\n",
      "\u001b[1m[\u001b[0m\u001b[34;49mnotice\u001b[0m\u001b[1;39;49m]\u001b[0m\u001b[39;49m A new release of pip is available: \u001b[0m\u001b[31;49m24.0\u001b[0m\u001b[39;49m -> \u001b[0m\u001b[32;49m24.1.2\u001b[0m\n",
      "\u001b[1m[\u001b[0m\u001b[34;49mnotice\u001b[0m\u001b[1;39;49m]\u001b[0m\u001b[39;49m To update, run: \u001b[0m\u001b[32;49mpip install --upgrade pip\u001b[0m\n",
      "Obtaining file:///home/springnuance/reinvent-hitl/reinvent-chemistry\n",
      "  Preparing metadata (setup.py) ... \u001b[?25ldone\n",
      "\u001b[?25hInstalling collected packages: reinvent-chemistry\n",
      "  Attempting uninstall: reinvent-chemistry\n",
      "    Found existing installation: reinvent-chemistry 0.0.51\n",
      "    Uninstalling reinvent-chemistry-0.0.51:\n",
      "      Successfully uninstalled reinvent-chemistry-0.0.51\n",
      "  Running setup.py develop for reinvent-chemistry\n",
      "Successfully installed reinvent-chemistry-0.0.51\n",
      "\n",
      "\u001b[1m[\u001b[0m\u001b[34;49mnotice\u001b[0m\u001b[1;39;49m]\u001b[0m\u001b[39;49m A new release of pip is available: \u001b[0m\u001b[31;49m24.0\u001b[0m\u001b[39;49m -> \u001b[0m\u001b[32;49m24.1.2\u001b[0m\n",
      "\u001b[1m[\u001b[0m\u001b[34;49mnotice\u001b[0m\u001b[1;39;49m]\u001b[0m\u001b[39;49m To update, run: \u001b[0m\u001b[32;49mpip install --upgrade pip\u001b[0m\n",
      "Obtaining file:///home/springnuance/reinvent-hitl/reinvent-models\n",
      "  Preparing metadata (setup.py) ... \u001b[?25ldone\n",
      "\u001b[?25hInstalling collected packages: reinvent-models\n",
      "  Attempting uninstall: reinvent-models\n",
      "    Found existing installation: reinvent-models 0.0.15rc1\n",
      "    Uninstalling reinvent-models-0.0.15rc1:\n",
      "      Successfully uninstalled reinvent-models-0.0.15rc1\n",
      "  Running setup.py develop for reinvent-models\n",
      "Successfully installed reinvent-models-0.0.15rc1\n",
      "\n",
      "\u001b[1m[\u001b[0m\u001b[34;49mnotice\u001b[0m\u001b[1;39;49m]\u001b[0m\u001b[39;49m A new release of pip is available: \u001b[0m\u001b[31;49m24.0\u001b[0m\u001b[39;49m -> \u001b[0m\u001b[32;49m24.1.2\u001b[0m\n",
      "\u001b[1m[\u001b[0m\u001b[34;49mnotice\u001b[0m\u001b[1;39;49m]\u001b[0m\u001b[39;49m To update, run: \u001b[0m\u001b[32;49mpip install --upgrade pip\u001b[0m\n"
     ]
    }
   ],
   "source": [
    "! pip install -e \"/home/springnuance/reinvent-hitl/reinvent-scoring\"\n",
    "! pip install -e \"/home/springnuance/reinvent-hitl/reinvent-chemistry\"\n",
    "! pip install -e \"/home/springnuance/reinvent-hitl/reinvent-models\""
   ]
  },
  {
   "cell_type": "code",
   "execution_count": 34,
   "metadata": {},
   "outputs": [
    {
     "name": "stdout",
     "output_type": "stream",
     "text": [
      "\n",
      "\u001b[1m[\u001b[0m\u001b[34;49mnotice\u001b[0m\u001b[1;39;49m]\u001b[0m\u001b[39;49m A new release of pip is available: \u001b[0m\u001b[31;49m24.0\u001b[0m\u001b[39;49m -> \u001b[0m\u001b[32;49m24.1.2\u001b[0m\n",
      "\u001b[1m[\u001b[0m\u001b[34;49mnotice\u001b[0m\u001b[1;39;49m]\u001b[0m\u001b[39;49m To update, run: \u001b[0m\u001b[32;49mpip install --upgrade pip\u001b[0m\n"
     ]
    }
   ],
   "source": [
    "# ! conda install -y scikit-learn=0.21.3\n",
    "! pip list | grep reinvent_scoring"
   ]
  },
  {
   "cell_type": "code",
   "execution_count": 35,
   "metadata": {},
   "outputs": [],
   "source": [
    "from training_Bradley_Terry_model.bradley_terry import BradleyTerryModel\n",
    "from training_Rank_ListNet_model.rank_listnet import RankListNetModel\n",
    "from training_Score_Regression_model.score_regression import ScoreRegressionModel\n",
    "from scripts.helper import load_drd2_dataset, write_REINVENT_config, change_config_json, \\\n",
    "                    read_scaffold_result, load_feedback_model, smiles_human_score, \\\n",
    "                    compute_fingerprints, retrain_feedback_model,\\\n",
    "                    create_drd2_dataset, combine_drd2_dataset, save_drd2_dataset\n",
    "                        \n",
    "from scripts.acquisition import select_query_feedback\n",
    "from scripts.predict import predict_proba_from_model\n",
    "\n",
    "def check_create(path):\n",
    "    \"\"\"\n",
    "    Check if the directory exists, if not, create it.\n",
    "    \"\"\"\n",
    "    if not os.path.exists(path):\n",
    "        os.makedirs(path)\n",
    "        \n",
    "def run_HITL_classify(\n",
    "        seed, reinvent_dir, reinvent_env, output_dir, \n",
    "        feedback_type, # scoring, comparing, ranking\n",
    "        base_training_dataset_path, # path to the base training dataset\n",
    "        model_pretrained_path, # Path to the pretrained model before REINVENT_round_1\n",
    "        model_pretrained_name, # Name of the pretrained model before REINVENT_round_1\n",
    "        num_rounds, # number of rounds, corresponding to R in the paper\n",
    "        num_iters, # number of iterations of showing molecules to the human for feedback at each round, corresponding to T in the paper\n",
    "        num_queries, # number of molecules shown to the simulated chemist at each iteration\n",
    "        REINVENT_n_steps, # number of REINVENT optimization steps. This is not related to the HITL but on the REINVENT side\n",
    "        batch_size, # batch size of the reinforcement learning model, or size of scaffold_memory.csv\n",
    "        acquisition, # acquisition: 'uncertainty', 'random', 'thompson', 'greedy' \n",
    "        sigma_noise, # noise level for simulated chemist's responses\n",
    "        choose_top_smiles, # number of top scoring molecules to choose for feedback\n",
    "        training_epochs, # number of epochs for training the model in each HITL iteration\n",
    "        learning_rate, # learning rate for training the model in each HITL iteration\n",
    "        ):\n",
    "\n",
    "    np.random.seed(seed)\n",
    "    rng = default_rng(seed)\n",
    "    \n",
    "    ################################################\n",
    "    # DEFINING REINVENT JOBNAME, JOBID, OUTPUT_DIR #\n",
    "    ################################################\n",
    "\n",
    "    jobname = \"fine-tune predictive component HITL\"\n",
    "    jobid = output_dir\n",
    "    conf_filename = \"config.json\"\n",
    "\n",
    "    # create root output dir\n",
    "    check_create(output_dir)\n",
    "\n",
    "    # create HITL round folders to store results\n",
    "    for REINVENT_round in range(1, num_rounds + 1):\n",
    "        check_create(f\"{output_dir}/REINVENT_round_{REINVENT_round}\")\n",
    "        for HITL_iteration in range(1, num_iters + 1):\n",
    "            check_create(f\"{output_dir}/REINVENT_round_{REINVENT_round}/HITL_iteration_{HITL_iteration}\")\n",
    "    \n",
    "    # multi-parameter optimization (MPO) loop\n",
    "    print(f\"\\nRunning DRD2 (one objective) with rounds {num_rounds}, iters {num_iters}, queries {num_queries}, seed {seed}\")\n",
    "    print(f\"Results will be saved at {output_dir}\")\n",
    "    \n",
    "    base_training_dataset_outputs = load_drd2_dataset(feedback_type=feedback_type, \n",
    "                                                 data_path=base_training_dataset_path)\n",
    "\n",
    "    \n",
    "    print(\"Loading initial training datasets successfully\")\n",
    "\n",
    "    # ########################### REINVENT rounds ######################################\n",
    "\n",
    "    for REINVENT_round in range(1, num_rounds + 1):\n",
    "\n",
    "        print(\"=====================================\")\n",
    "        print(f\"REINVENT round = {REINVENT_round}\")\n",
    "        \n",
    "        configuration_JSON_path = write_REINVENT_config(feedback_type, reinvent_dir, jobid, jobname, \n",
    "                                REINVENT_round_output_dir=f\"{output_dir}/REINVENT_round_{REINVENT_round}\", \n",
    "                                conf_filename=conf_filename)\n",
    "\n",
    "        print(f\"Creating config file: {configuration_JSON_path}.\")\n",
    "\n",
    "        configuration = json.load(open(f\"{configuration_JSON_path}\"))\n",
    "\n",
    "        if REINVENT_round == 1:\n",
    "            current_model_path = model_pretrained_path\n",
    "        else:\n",
    "            # The last iteration's model from the previous round\n",
    "            current_model_path = f\"{output_dir}/REINVENT_round_{REINVENT_round - 1}/HITL_iteration_{num_iters}/{model_pretrained_name}\"\n",
    "\n",
    "        configuration = change_config_json(configuration, REINVENT_n_steps, batch_size, current_model_path)\n",
    "\n",
    "        # write the updated configuration file \n",
    "\n",
    "        with open(configuration_JSON_path, 'w') as f:\n",
    "            json.dump(configuration, f, indent=4, sort_keys=True)\n",
    "    \n",
    "        print(\"Run REINVENT\")                \n",
    "        command = f\"{reinvent_env}/bin/python\"\n",
    "        script = f\"{reinvent_dir}/input.py\"\n",
    "        stderr_file = f\"{output_dir}/REINVENT_round_{REINVENT_round}/run.err\"\n",
    "        stdout_file = f\"{output_dir}/REINVENT_round_{REINVENT_round}/run.out\"\n",
    "\n",
    "        # Construct the full command to run\n",
    "        cmd = [command, script, configuration_JSON_path]\n",
    "        # Open the file to which you want to redirect stderr and stdout\n",
    "        with open(stderr_file, 'w') as ferr, open(stdout_file, 'w') as fout:\n",
    "            # Execute the command\n",
    "            result = subprocess.run(cmd, text=True, stdout=fout, stderr=ferr)\n",
    "        # Check the result\n",
    "        print(\"Exit code:\", result.returncode)\n",
    "        \n",
    "        #############################################################################\n",
    "        # REINVENT HAS OUTPUT THE RESULT in path f\"{output_dir}/REINVENT_round_{REINVENT_round}/results\" #\n",
    "        #############################################################################\n",
    "        \n",
    "        # Get the high scoring molecules\n",
    "        output_high_score = read_scaffold_result(f\"{output_dir}/REINVENT_round_{REINVENT_round}/results/scaffold_memory.csv\", \n",
    "                                                 choose_top_smiles=choose_top_smiles)\n",
    "        \n",
    "        scaffold_df = output_high_score[\"scaffold_df\"]\n",
    "        smiles = output_high_score[\"smiles\"]\n",
    "        \n",
    "        # store molecule indexes selected for feedback\n",
    "        selected_feedback = np.empty(0).astype(int)\n",
    "\n",
    "        ########################### HITL_iteration in each REINVENT round #####################\n",
    "        \n",
    "        for HITL_iteration in range(1, num_iters + 1): # T number of HITL_iterations\n",
    "\n",
    "            print(\"----------------------------------\")\n",
    "            print(f\"HITL iteration = {HITL_iteration}\")\n",
    "            \n",
    "            # Loading feedback model\n",
    "            if REINVENT_round == 1 and HITL_iteration == 1:\n",
    "                feedback_model_path = model_pretrained_path\n",
    "            elif REINVENT_round != 1 and HITL_iteration == 1:\n",
    "                # The last iteration's model from the previous round\n",
    "                feedback_model_path = f\"{output_dir}/REINVENT_round_{REINVENT_round - 1}/HITL_iteration_{num_iters}/{model_pretrained_name}\"\n",
    "            else:\n",
    "                # The previous HITL iteration's model from current round\n",
    "                feedback_model_path = f\"{output_dir}/REINVENT_round_{REINVENT_round}/HITL_iteration_{HITL_iteration - 1}/{model_pretrained_name}\"\n",
    "            \n",
    "            feedback_model = load_feedback_model(feedback_type, feedback_model_path)\n",
    "            \n",
    "            # print(f\"The predicted scores are\")\n",
    "            # predicted_scores = predict_proba_from_model(feedback_type, feedback_model, smiles)\n",
    "            # print(predicted_scores)\n",
    "\n",
    "            ######################################################## \n",
    "            # Select queries number of smiles with Active Learning #\n",
    "            ########################################################\n",
    "\n",
    "            if len(smiles) > num_queries:\n",
    "                new_queried_smiles_indices = select_query_feedback(feedback_type, feedback_model, \n",
    "                                                  scaffold_df, num_queries, list(smiles), \n",
    "                                                  selected_feedback, acquisition, rng) \n",
    "            else:\n",
    "                new_queried_smiles_indices = select_query_feedback(feedback_type, feedback_model, \n",
    "                                                  scaffold_df, len(smiles), list(smiles), \n",
    "                                                  selected_feedback, acquisition, rng)\n",
    "            \n",
    "            #print(f\"Feedback idx at HITL iteration {HITL_iteration}: {new_queried_smiles_indices}\")\n",
    "            \n",
    "            new_queried_smiles = [smiles[i] for i in new_queried_smiles_indices]\n",
    "  \n",
    "            selected_feedback = np.hstack((selected_feedback, new_queried_smiles_indices))\n",
    "\n",
    "            new_queried_smiles_human_score = smiles_human_score(new_queried_smiles, sigma_noise)\n",
    "            \n",
    "            print(f\"Human score at HITL iteration {HITL_iteration}: {new_queried_smiles_human_score}\")\n",
    "            \n",
    "            # use the augmented training data to retrain the model\n",
    "            new_queried_fps = np.array([compute_fingerprints(smiles) for smiles in new_queried_smiles])\n",
    "\n",
    "            iteration_training_dataset_outputs = create_drd2_dataset(feedback_type, \n",
    "                                                                      new_queried_smiles, \n",
    "                                                                      new_queried_smiles_human_score,\n",
    "                                                                      new_queried_fps)\n",
    "            \n",
    "            if feedback_type == \"scoring\":\n",
    "                print(f\"New queried dataset size: {len(iteration_training_dataset_outputs['smiles'])}\")\n",
    "            else:\n",
    "                print(f\"New queried dataset size: {len(iteration_training_dataset_outputs['smiles_1'])}\")\n",
    "            \n",
    "            # combining the base training dataset with the new queried dataset\n",
    "            base_training_dataset_outputs = combine_drd2_dataset(feedback_type, base_training_dataset_outputs, \n",
    "                                                                   iteration_training_dataset_outputs)\n",
    "            \n",
    "            if feedback_type == \"scoring\":\n",
    "                print(f\"Combined dataset size: {len(base_training_dataset_outputs['smiles'])}\")\n",
    "            else:\n",
    "                print(f\"Combined dataset size: {len(base_training_dataset_outputs['smiles_1'])}\")\n",
    "            \n",
    "            # save augmented training data\n",
    "            save_drd2_dataset(feedback_type, iteration_training_dataset_outputs, f\"{output_dir}/REINVENT_round_{REINVENT_round}/HITL_iteration_{HITL_iteration}/iteration_queried_data.csv\")\n",
    "            save_drd2_dataset(feedback_type, base_training_dataset_outputs, f\"{output_dir}/REINVENT_round_{REINVENT_round}/HITL_iteration_{HITL_iteration}/iteration_combined_data.csv\")\n",
    "            \n",
    "            print(f\"Saved augmented training data at {output_dir}/REINVENT_round_{REINVENT_round}/HITL_iteration_{HITL_iteration}/iteration_combined_data.csv\")\n",
    "            \n",
    "            # Retraining the feedback model using the augmented train set\n",
    "            retrained_feedback_model = retrain_feedback_model(feedback_type, feedback_model, \n",
    "                                                              base_training_dataset_outputs,\n",
    "                                                              training_epochs, learning_rate)\n",
    "            \n",
    "            # save the retrained feedback model\n",
    "            feedback_model_saving_path = f\"{output_dir}/REINVENT_round_{REINVENT_round}/HITL_iteration_{HITL_iteration}/{model_pretrained_name}\"\n",
    "            torch.save(retrained_feedback_model.state_dict(), feedback_model_saving_path)\n",
    "  \n",
    "            print(f\"Saved retrained feedback model at {feedback_model_saving_path}\")\n",
    "\n",
    "def run_REINVENT_round(REINVENT_round,\n",
    "        reinvent_dir, reinvent_env, output_dir, \n",
    "        feedback_type, # scoring, comparing, ranking\n",
    "        current_model_path, # Path to the pretrained model \n",
    "        REINVENT_n_steps, # number of REINVENT optimization steps. This is not related to the HITL but on the REINVENT side\n",
    "        batch_size, # batch size of the reinforcement learning model, or size of scaffold_memory.csv\n",
    "    ):\n",
    "    \n",
    "    ################################################\n",
    "    # DEFINING REINVENT JOBNAME, JOBID, OUTPUT_DIR #\n",
    "    ################################################\n",
    "\n",
    "    jobname = \"fine-tune predictive component HITL\"\n",
    "    jobid = output_dir\n",
    "    conf_filename = \"config.json\"\n",
    "\n",
    "    # create root output dir\n",
    "    check_create(output_dir)\n",
    "\n",
    "    # create HITL round folders to store results\n",
    "    check_create(f\"{output_dir}/REINVENT_round_{REINVENT_round}\")\n",
    "\n",
    "    print(\"=====================================\")\n",
    "    print(f\"REINVENT round = {REINVENT_round}\")\n",
    "\n",
    "    configuration_JSON_path = write_REINVENT_config(feedback_type, reinvent_dir, jobid, jobname, \n",
    "                            REINVENT_round_output_dir=f\"{output_dir}/REINVENT_round_{REINVENT_round}\", \n",
    "                            conf_filename=conf_filename)\n",
    "\n",
    "    print(f\"Creating config file: {configuration_JSON_path}.\")\n",
    "\n",
    "    configuration = json.load(open(f\"{configuration_JSON_path}\"))\n",
    "\n",
    "    configuration = change_config_json(configuration, REINVENT_n_steps, batch_size, current_model_path)\n",
    "\n",
    "    # write the updated configuration file \n",
    "\n",
    "    with open(configuration_JSON_path, 'w') as f:\n",
    "        json.dump(configuration, f, indent=4, sort_keys=True)\n",
    "\n",
    "    print(\"Run REINVENT\")                \n",
    "    command = f\"{reinvent_env}/bin/python\"\n",
    "    script = f\"{reinvent_dir}/input.py\"\n",
    "    stderr_file = f\"{output_dir}/REINVENT_round_{REINVENT_round}/run.err\"\n",
    "    stdout_file = f\"{output_dir}/REINVENT_round_{REINVENT_round}/run.out\"\n",
    "\n",
    "    # Construct the full command to run\n",
    "    cmd = [command, script, configuration_JSON_path]\n",
    "    # Open the file to which you want to redirect stderr and stdout\n",
    "    with open(stderr_file, 'w') as ferr, open(stdout_file, 'w') as fout:\n",
    "        # Execute the command\n",
    "        result = subprocess.run(cmd, text=True, stdout=fout, stderr=ferr)\n",
    "    # Check the result\n",
    "    print(\"Exit code:\", result.returncode)"
   ]
  },
  {
   "cell_type": "code",
   "execution_count": 36,
   "metadata": {},
   "outputs": [
    {
     "name": "stdout",
     "output_type": "stream",
     "text": [
      "/home/springnuance/reinvent-hitl/Base-Code-Binh\n"
     ]
    }
   ],
   "source": [
    "print(os.getcwd())"
   ]
  },
  {
   "cell_type": "markdown",
   "metadata": {},
   "source": [
    "### Running score regression model"
   ]
  },
  {
   "cell_type": "code",
   "execution_count": 40,
   "metadata": {},
   "outputs": [
    {
     "name": "stdout",
     "output_type": "stream",
     "text": [
      "Obtaining file:///home/springnuance/reinvent-hitl/reinvent-scoring\n",
      "  Preparing metadata (setup.py) ... \u001b[?25ldone\n",
      "\u001b[?25hInstalling collected packages: reinvent-scoring\n",
      "  Attempting uninstall: reinvent-scoring\n",
      "    Found existing installation: reinvent-scoring 0.0.73\n",
      "    Uninstalling reinvent-scoring-0.0.73:\n",
      "      Successfully uninstalled reinvent-scoring-0.0.73\n",
      "  Running setup.py develop for reinvent-scoring\n",
      "Successfully installed reinvent-scoring-0.0.73\n",
      "\n",
      "\u001b[1m[\u001b[0m\u001b[34;49mnotice\u001b[0m\u001b[1;39;49m]\u001b[0m\u001b[39;49m A new release of pip is available: \u001b[0m\u001b[31;49m24.0\u001b[0m\u001b[39;49m -> \u001b[0m\u001b[32;49m24.1.2\u001b[0m\n",
      "\u001b[1m[\u001b[0m\u001b[34;49mnotice\u001b[0m\u001b[1;39;49m]\u001b[0m\u001b[39;49m To update, run: \u001b[0m\u001b[32;49mpip install --upgrade pip\u001b[0m\n",
      "\n",
      "*******************************************************************\n",
      "Running HITL with random acquisition and noise 0.0\n",
      "Already ran the last REINVENT round for output_score_regression_n_steps_100/R3_T5_Q120_acq_random_noise_0.0\n",
      "\n",
      "*******************************************************************\n",
      "Running HITL with random acquisition and noise 0.1\n",
      "\n",
      "Running DRD2 (one objective) with rounds 3, iters 5, queries 120, seed 42\n",
      "Results will be saved at output_score_regression_n_steps_100/R3_T5_Q120_acq_random_noise_0.1\n",
      "Loading initial training datasets successfully\n",
      "=====================================\n",
      "REINVENT round = 1\n",
      "Creating config file: output_score_regression_n_steps_100/R3_T5_Q120_acq_random_noise_0.1/REINVENT_round_1/config.json.\n",
      "Run REINVENT\n",
      "Exit code: 0\n",
      "Number of SMILES in scaffold_memory.csv:  6289\n",
      "----------------------------------\n",
      "HITL iteration = 1\n"
     ]
    },
    {
     "name": "stderr",
     "output_type": "stream",
     "text": [
      "Found local copy...\n"
     ]
    },
    {
     "name": "stdout",
     "output_type": "stream",
     "text": [
      "Loading Score Regression model from /home/springnuance/reinvent-hitl/Base-Code-Binh/training_Score_Regression_model/score_regression_model.pth\n",
      "Human score at HITL iteration 1: [0.05525568222400341, 0.0, 0.06900238534714223, 0.15318277713062292, 0.0, 0.0, 0.15812625898698537, 0.07831979276888852, 0.0, 0.08213649862421882, 0.0, 0.0, 0.4981830164891991, 0.0, 0.0, 0.0, 0.0, 0.04718224444392781, 0.0, 0.0, 0.15123227928153749, 0.06759762817913847, 0.007254748480326786, 0.0, 0.0, 0.01151230454408184, 0.0, 0.0532613258012906, 0.0, 0.17004393677900181, 0.0, 0.18590007304895761, 0.004011367273918292, 0.0, 0.08269776761188075, 0.0, 0.030456271001043922, 0.0, 0.0, 0.0200828190904182, 0.07725809727771432, 0.04354867599360521, 0.008532550901735908, 0.9077631252802459, 0.0, 0.0, 0.0, 0.10601578966066094, 0.04076567582129282, 0.0, 0.050191126323732155, 0.0, 0.3353390305533548, 0.08321061799463798, 0.10937723246383356, 0.10040546779186318, 0.0, 0.0, 0.03790966831509875, 0.11145382910340802, 0.0, 0.0, 0.0, 0.0, 0.962326287116933, 0.17395039586438354, 0.0, 0.10375801863902533, 0.0381022495456106, 0.0, 0.03930868438155661, 0.1540015772669133, 0.0, 0.15692562596576035, 0.0, 0.0832814516543476, 0.01863668273136684, 0.0, 0.012342046530553, 0.0, 0.01665066484922538, 0.03587933005346111, 0.15200031149688245, 0.0, 0.0, 0.0, 0.8188740155347002, 0.8112608820459586, 0.0, 0.05176728560780629, 0.01621477151319097, 0.1107692279856262, 0.0, 0.0, 0.0, 0.0, 0.0314413068659055, 0.03986475513814424, 0.0996173333467999, 0.9658062452171896, 0.0, 0.0, 0.0, 0.0, 0.0, 0.05811913033784698, 0.18909872502303532, 0.0176895026206748, 0.03141962411496028, 0.0, 0.0, 0.0, 0.01476956593212671, 0.25295298343570366, 0.0, 0.032231935944137764, 0.01869288148422192, 0.0, 0.11478871286764236, 0.0754496109881036]\n",
      "New queried dataset size: 120\n",
      "Combined dataset size: 320\n",
      "Saved augmented training data at output_score_regression_n_steps_100/R3_T5_Q120_acq_random_noise_0.1/REINVENT_round_1/HITL_iteration_1/iteration_combined_data.csv\n",
      "Epoch 20, Loss: 0.17941846139729023\n",
      "Epoch 40, Loss: 0.09789647441357374\n"
     ]
    },
    {
     "name": "stderr",
     "output_type": "stream",
     "text": [
      "Found local copy...\n"
     ]
    },
    {
     "name": "stdout",
     "output_type": "stream",
     "text": [
      "Epoch 60, Loss: 0.05723151657730341\n",
      "Saved retrained feedback model at output_score_regression_n_steps_100/R3_T5_Q120_acq_random_noise_0.1/REINVENT_round_1/HITL_iteration_1/score_regression_model.pth\n",
      "----------------------------------\n",
      "HITL iteration = 2\n",
      "Loading Score Regression model from output_score_regression_n_steps_100/R3_T5_Q120_acq_random_noise_0.1/REINVENT_round_1/HITL_iteration_1/score_regression_model.pth\n",
      "Human score at HITL iteration 2: [0.07962698942421202, 0.0, 0.14097107802181771, 0.0, 0.07877208997481432, 0.22489505730203568, 0.0, 0.0, 0.012089377970846244, 0.0, 0.0, 0.01092337917270048, 0.0, 0.05126778888405369, 0.0, 0.15512947597113502, 0.0, 0.0, 0.08398110132492609, 0.0, 0.025184580984654148, 0.13140161903545475, 0.0, 0.024073736568885697, 0.028110125070014296, 0.0803897497299673, 0.0, 0.0, 0.05231108375454661, 0.04996730496491644, 0.07719604567561356, 0.04911983648559619, 0.0, 0.030037256171663446, 0.047051673376733404, 0.0, 0.18699292758326366, 0.050422454929728557, 0.0, 0.09257818078100329, 0.0, 0.07877096469701636, 0.11723211020714082, 0.0, 0.09706558216781798, 0.04380737269427137, 0.08765071757137341, 0.19437079410524047, 0.0, 0.0, 0.0, 0.1826026590077693, 0.0, 0.03560337699446433, 0.027897740331853882, 0.17733471627403502, 0.028757222214069702, 0.289905189955345, 0.021916621025525527, 0.2831267146124742, 0.0862184057089471, 0.0, 0.0, 0.0838223065168015, 0.0, 0.07957389795740111, 0.07999324862289614, 0.001086862645703365, 0.0, 0.0, 0.0, 0.08693258857541232, 0.02566308996026649, 0.0, 0.020528425888815423, 0.039114105923831015, 0.0, 0.4353195643497048, 0.028089637589702857, 0.0, 0.03787017478587692, 0.06098991257563271, 0.13430877206921898, 0.1067549069802709, 0.0, 0.0, 0.05400854000415916, 0.05811852883510425, 0.053938847725886384, 0.41408088370750346, 0.07011399971443877, 0.1368692536337705, 0.1241397888243655, 0.06628057424356966, 0.0, 0.11241689724086204, 0.0, 0.0, 0.0, 0.09620477030938884, 0.3846043882983759, 0.0, 0.07047355618598199, 0.0, 0.0, 0.11888348540743002, 0.00784799196526299, 0.0, 0.0, 0.06809486064996177, 0.04744474017110781, 0.09049020215105288, 0.004914523355195451, 0.0, 0.21853958843618598, 0.06357663480101403, 0.0, 0.02879471310819537, 0.0, 0.08753748001299032]\n",
      "New queried dataset size: 120\n",
      "Combined dataset size: 440\n",
      "Saved augmented training data at output_score_regression_n_steps_100/R3_T5_Q120_acq_random_noise_0.1/REINVENT_round_1/HITL_iteration_2/iteration_combined_data.csv\n",
      "Epoch 20, Loss: 0.09658364268640678\n",
      "Epoch 40, Loss: 0.08826278864095609\n"
     ]
    },
    {
     "name": "stderr",
     "output_type": "stream",
     "text": [
      "Found local copy...\n"
     ]
    },
    {
     "name": "stdout",
     "output_type": "stream",
     "text": [
      "Epoch 60, Loss: 0.08359357869873445\n",
      "Saved retrained feedback model at output_score_regression_n_steps_100/R3_T5_Q120_acq_random_noise_0.1/REINVENT_round_1/HITL_iteration_2/score_regression_model.pth\n",
      "----------------------------------\n",
      "HITL iteration = 3\n",
      "Loading Score Regression model from output_score_regression_n_steps_100/R3_T5_Q120_acq_random_noise_0.1/REINVENT_round_1/HITL_iteration_2/score_regression_model.pth\n",
      "Human score at HITL iteration 3: [0.0, 0.0, 0.0612425330697854, 0.08775447937001382, 0.0, 0.0, 0.0, 0.0, 0.19663278273542756, 0.04966557225577597, 0.0, 0.09406656892992249, 0.22594044230821275, 0.10406378841560222, 0.8301700447644659, 0.0, 0.1291625662491883, 0.0, 0.08095687808317256, 0.08154964795533504, 0.0, 0.15964417549341287, 0.0, 0.0, 0.0, 0.0, 0.1654264714009479, 0.0, 0.0, 0.12739742365595833, 0.14517125848736204, 0.0, 0.1163567341512433, 0.0043644906351261795, 0.0, 0.046274657871936666, 0.019986563176098204, 0.0, 0.007128388789014921, 0.0, 0.013771270692315651, 0.0683419728973171, 0.16401249143103627, 0.0, 0.2661348159269721, 0.0, 0.0, 0.061418604583183524, 0.028126221750576722, 0.0, 0.4248455185610901, 0.0, 0.0, 0.09845466396542174, 0.0359924502994558, 0.0, 0.09261038840258065, 0.0452872920560489, 0.0845862606677919, 0.06622821871751579, 0.0, 0.008312650291955971, 0.07640532778949427, 0.10902935143933784, 0.0, 0.01210531365117321, 0.12822678990540698, 0.0, 0.31787168915604236, 0.02435846378893415, 0.0004496034208369276, 0.11674406928505741, 0.08453870740478966, 0.08671101925448062, 0.13138832737774658, 0.010484519828113206, 0.19439115588036798, 0.0, 0.03260307581078683, 0.0, 0.01536179912213384, 0.0658058688391307, 0.0, 0.2179632052980892, 0.0, 0.0, 0.12336657285253586, 0.22816478060528148, 0.1343586223323756, 0.06463970122116676, 0.9581784240875466, 0.0, 0.007879883923276551, 0.0, 0.34092711878400744, 0.04092394427323655, 0.0, 0.0761194479961809, 0.042212483599500826, 0.0, 0.6533868510705327, 0.02794741183948473, 0.027354564056217952, 0.0, 0.0, 0.023371373783322213, 0.0, 0.0, 0.0, 0.0, 0.031159424172880798, 0.14827991394068926, 0.10775712960597776, 0.0, 0.0, 0.0, 0.0, 0.0, 0.5802819358048577, 0.0]\n",
      "New queried dataset size: 120\n",
      "Combined dataset size: 560\n",
      "Saved augmented training data at output_score_regression_n_steps_100/R3_T5_Q120_acq_random_noise_0.1/REINVENT_round_1/HITL_iteration_3/iteration_combined_data.csv\n",
      "Epoch 20, Loss: 0.17153213871642947\n",
      "Epoch 40, Loss: 0.16498101083561778\n"
     ]
    },
    {
     "name": "stderr",
     "output_type": "stream",
     "text": [
      "Found local copy...\n"
     ]
    },
    {
     "name": "stdout",
     "output_type": "stream",
     "text": [
      "Epoch 60, Loss: 0.16609686566516757\n",
      "Saved retrained feedback model at output_score_regression_n_steps_100/R3_T5_Q120_acq_random_noise_0.1/REINVENT_round_1/HITL_iteration_3/score_regression_model.pth\n",
      "----------------------------------\n",
      "HITL iteration = 4\n",
      "Loading Score Regression model from output_score_regression_n_steps_100/R3_T5_Q120_acq_random_noise_0.1/REINVENT_round_1/HITL_iteration_3/score_regression_model.pth\n",
      "Human score at HITL iteration 4: [0.05539599996495213, 0.1533878013209479, 0.35643137290368276, 0.04321862991708375, 0.06980238019601215, 0.0, 0.03746795179426788, 0.02518082388487782, 0.013867229249063385, 0.0, 0.01778632289469186, 0.06055550250526155, 0.16727342099556136, 0.24028028293308135, 0.22478782281907098, 0.0, 0.08748635581515622, 0.04459614774814974, 0.22379715467960853, 0.0, 0.0, 0.0, 0.0, 0.036623959866969716, 0.0, 0.016084499657553205, 0.03584026379131836, 0.24876979387233095, 0.09943148236006527, 0.0, 0.0, 0.06228576993731051, 0.0, 0.1838007005300249, 0.12051658927746788, 0.0, 0.0, 0.1355554096915397, 0.6448484995166051, 0.12854183871919175, 0.0, 0.018741017015870366, 0.0021789567183672608, 0.007658966421642082, 0.0, 0.06551382997528514, 0.8449096274398973, 0.0, 0.012461197776328169, 0.17658615712760206, 0.07401130180687193, 0.0, 0.0, 0.129007422882956, 0.034649681392586944, 0.909688507445519, 0.20023906307548084, 0.01266575523429897, 0.14481444560516463, 0.0752004861014447, 0.24397697151677425, 0.17671669706380197, 0.0520123602321063, 0.09741126549406612, 0.08778229220044449, 0.13730697726467142, 0.3005066562318726, 0.07283280524000127, 0.11443084534667837, 0.0, 0.0, 0.0, 0.0, 0.07248274126911372, 0.15103039474981628, 0.010588386661317301, 0.16752250944448965, 0.0, 0.0, 0.0, 0.04241054348683142, 0.0, 0.0, 0.007011595574122282, 0.0, 0.06895005639855188, 0.03716681252601197, 0.0, 0.0, 0.0, 0.0031740919991963545, 0.09581644887102565, 0.0, 0.07210115315673218, 0.0, 0.0, 0.0009200900392868222, 0.0, 0.0, 0.0, 0.20238629308454487, 0.0037086683766136964, 0.0, 0.02173210289091107, 0.0, 0.0, 0.06149149863160832, 0.10597386006587417, 0.0, 0.0, 0.0, 0.0, 0.0, 0.146475075593957, 0.16513497259460033, 0.0, 0.43668200899183623, 0.03205158564651834, 0.3085072310023173, 0.27896836972070194]\n",
      "New queried dataset size: 120\n",
      "Combined dataset size: 680\n",
      "Saved augmented training data at output_score_regression_n_steps_100/R3_T5_Q120_acq_random_noise_0.1/REINVENT_round_1/HITL_iteration_4/iteration_combined_data.csv\n",
      "Epoch 20, Loss: 0.42743739392608404\n",
      "Epoch 40, Loss: 0.41540719848126173\n"
     ]
    },
    {
     "name": "stderr",
     "output_type": "stream",
     "text": [
      "Found local copy...\n"
     ]
    },
    {
     "name": "stdout",
     "output_type": "stream",
     "text": [
      "Epoch 60, Loss: 0.4260363606736064\n",
      "Saved retrained feedback model at output_score_regression_n_steps_100/R3_T5_Q120_acq_random_noise_0.1/REINVENT_round_1/HITL_iteration_4/score_regression_model.pth\n",
      "----------------------------------\n",
      "HITL iteration = 5\n",
      "Loading Score Regression model from output_score_regression_n_steps_100/R3_T5_Q120_acq_random_noise_0.1/REINVENT_round_1/HITL_iteration_4/score_regression_model.pth\n",
      "Human score at HITL iteration 5: [0.0, 0.0, 0.0, 0.1813362480541944, 0.0, 0.0, 0.47135955734853785, 0.0, 0.16934998225894604, 0.0919138297783889, 0.009174596888585707, 0.15008216746622358, 0.008875901618299382, 0.0, 0.16125567978673533, 0.05438402654901486, 0.0, 0.0, 0.0, 0.0, 0.09626661231405838, 0.1924585150340905, 0.0, 0.05769146802483664, 0.0, 0.0, 0.0, 0.0, 0.010014495785902354, 0.0, 0.030277022167194904, 0.0, 0.0, 0.0, 0.0, 0.12396732473766185, 0.06904626879985981, 0.0, 0.01027911353549788, 0.09178916442735477, 0.0, 0.05635641434568139, 0.0, 0.0638889712304602, 0.0, 0.0, 0.0, 0.009449398041889958, 0.0260285913844629, 0.0, 0.07813409476241723, 0.0, 0.005173582095146836, 0.0, 0.0, 0.005518032124650077, 0.0, 0.0, 0.2719245024484881, 0.0, 0.08383773834485095, 0.0, 0.05353836139005387, 0.14482898406523725, 0.0, 0.0, 0.06163117959010381, 0.0, 0.03764795061876819, 0.0, 0.010257455569459312, 0.016602129930237845, 0.1385273860120085, 0.04275147531368241, 0.043426512081420135, 0.0, 0.0, 0.0, 0.05417363235019232, 0.0, 0.03183971468519003, 0.22844178645415336, 0.08886231300741795, 0.0, 0.12031079605544955, 0.0, 0.0, 0.0, 0.0, 0.0, 0.025617319531993307, 1.0, 0.04702551612440184, 0.0, 0.09170062060228766, 0.0, 0.026987763404623354, 0.09089403043509842, 0.0, 0.45498487423978445, 0.03395385123503799, 0.0, 0.06652050535973958, 0.22926744847177177, 0.018767011914576477, 0.05284992075972696, 0.015226007104247666, 0.0, 0.25367432738772405, 0.0, 0.015786238293805488, 0.0, 0.09858824357191598, 0.03528802224177674, 0.10503502904634399, 0.0, 0.0, 0.0, 0.0, 0.04419302780707622]\n",
      "New queried dataset size: 120\n",
      "Combined dataset size: 800\n",
      "Saved augmented training data at output_score_regression_n_steps_100/R3_T5_Q120_acq_random_noise_0.1/REINVENT_round_1/HITL_iteration_5/iteration_combined_data.csv\n",
      "Epoch 20, Loss: 0.12036827928386629\n",
      "Epoch 40, Loss: 0.11773018375970423\n",
      "Epoch 60, Loss: 0.11710484046489\n",
      "Saved retrained feedback model at output_score_regression_n_steps_100/R3_T5_Q120_acq_random_noise_0.1/REINVENT_round_1/HITL_iteration_5/score_regression_model.pth\n",
      "=====================================\n",
      "REINVENT round = 2\n",
      "Creating config file: output_score_regression_n_steps_100/R3_T5_Q120_acq_random_noise_0.1/REINVENT_round_2/config.json.\n",
      "Run REINVENT\n",
      "Exit code: 0\n",
      "Number of SMILES in scaffold_memory.csv:  721\n",
      "----------------------------------\n",
      "HITL iteration = 1\n"
     ]
    },
    {
     "name": "stderr",
     "output_type": "stream",
     "text": [
      "Found local copy...\n"
     ]
    },
    {
     "name": "stdout",
     "output_type": "stream",
     "text": [
      "Loading Score Regression model from output_score_regression_n_steps_100/R3_T5_Q120_acq_random_noise_0.1/REINVENT_round_1/HITL_iteration_5/score_regression_model.pth\n",
      "Human score at HITL iteration 1: [0.10566597494202655, 0.9077834671406231, 0.9431002078852945, 0.1615705801647642, 1.0, 0.7047915278913395, 0.9029045750420969, 0.0, 0.0, 0.21196028310698778, 0.16849671779788905, 0.027918399642184295, 1.0, 0.8874487083417557, 1.0, 0.5663351901577659, 0.9976514280316866, 1.0, 0.9220553074565131, 1.0, 0.13735431660114278, 0.841834217321236, 0.544421045957513, 1.0, 1.0, 0.007005140703569071, 0.0, 0.04755002972306626, 0.9615057304854102, 0.11052182672745171, 0.02899144128942238, 0.21656677407384434, 0.984194647857364, 0.9573118741109963, 0.866479436851544, 0.0, 0.32950614008464485, 0.10695064100231057, 0.0, 0.8048399913990405, 0.2662715059585317, 1.0, 0.9704897756622429, 0.0, 0.4754256935914056, 0.948303595534328, 0.7180702121230038, 0.9495731206430763, 0.8934845768950632, 0.11102091372304825, 1.0, 1.0, 0.07666584653621306, 0.0, 0.7970445933578539, 0.005955233617695174, 0.15506317897055014, 0.46586353696908533, 0.3611928316385323, 0.9615874249352215, 0.0, 0.37237439455259924, 0.78854814126595, 0.0, 0.6339415254163535, 1.0, 0.6588131918840866, 0.2070981311354031, 0.6421249374195304, 1.0, 0.12564399141663204, 0.0, 0.9631084000651625, 0.7651699576151625, 0.7946798170943149, 0.0, 0.09997859637910664, 1.0, 0.0967335056204019, 0.2665057596867556, 1.0, 0.7680420208089875, 0.9137924263933523, 0.14645249835246343, 0.871856886635347, 0.8312735437533397, 0.0, 0.8601911482071065, 1.0, 0.8833260031986464, 0.9212197280949436, 0.768332817857458, 0.8636616590997014, 0.22049126324963306, 1.0, 0.763320114568835, 0.3287826137559724, 0.0, 0.6302888946712787, 0.7612409421361741, 0.8893498495076958, 0.3116237574249732, 0.02426269829048601, 0.8452326140087688, 0.7853601792555398, 0.9899308244320213, 0.7869303803491563, 1.0, 0.7883049274786562, 1.0, 0.10307508001020677, 0.9310860633954947, 0.9398264612210364, 0.684902026654501, 0.9962359929127408, 0.8483559149521862, 0.9095212722404867, 1.0, 0.0, 0.3748596055114859]\n",
      "New queried dataset size: 120\n",
      "Combined dataset size: 920\n",
      "Saved augmented training data at output_score_regression_n_steps_100/R3_T5_Q120_acq_random_noise_0.1/REINVENT_round_2/HITL_iteration_1/iteration_combined_data.csv\n",
      "Epoch 20, Loss: 0.21561056779076657\n",
      "Epoch 40, Loss: 0.20853836120416722\n"
     ]
    },
    {
     "name": "stderr",
     "output_type": "stream",
     "text": [
      "Found local copy...\n"
     ]
    },
    {
     "name": "stdout",
     "output_type": "stream",
     "text": [
      "Epoch 60, Loss: 0.20593121709922949\n",
      "Saved retrained feedback model at output_score_regression_n_steps_100/R3_T5_Q120_acq_random_noise_0.1/REINVENT_round_2/HITL_iteration_1/score_regression_model.pth\n",
      "----------------------------------\n",
      "HITL iteration = 2\n",
      "Loading Score Regression model from output_score_regression_n_steps_100/R3_T5_Q120_acq_random_noise_0.1/REINVENT_round_2/HITL_iteration_1/score_regression_model.pth\n",
      "Human score at HITL iteration 2: [1.0, 0.8109437749790604, 0.8519774634345451, 0.6165139602052495, 1.0, 0.034119682316554045, 0.8765223216706836, 0.8714860761712577, 0.8932106531406879, 0.3150800419963911, 1.0, 0.0, 0.9941798122513206, 0.0, 1.0, 0.25827465848044406, 0.11833077152712132, 0.4945002854340682, 0.19803120140487307, 0.11898947184673458, 0.0, 0.8720331233865272, 0.9162610867520016, 0.9372332765641193, 1.0, 0.045764963474182976, 0.9846833274025352, 0.8490277450085604, 0.2722921272847372, 0.8565452517005145, 0.9034044367401184, 0.3721391735755101, 0.8487748745755225, 1.0, 0.17149652202149906, 0.3970455017804617, 0.6507642187444991, 0.19069888963005624, 0.9088024050938016, 1.0, 0.0, 0.012528550514270395, 1.0, 0.9689276560997566, 0.9104280005521777, 0.8211133880276235, 0.002109602126037006, 0.9174589413264274, 0.0, 0.7817683043352357, 1.0, 0.0, 1.0, 1.0, 1.0, 0.0, 0.0, 0.9752471484018757, 0.9925433475735074, 0.7282683343308762, 1.0, 0.8492766140448972, 1.0, 1.0, 0.4843047018139182, 1.0, 1.0, 0.059857194864267646, 0.9901062648997, 0.0, 0.6463214527803779, 0.9829776030525723, 1.0, 0.76965873054918, 0.8484697385211205, 0.10962406344578195, 0.1568171696282666, 0.07130236933413037, 0.31910779299082115, 0.09463459336617697, 0.9346852459157806, 0.5598095783254506, 0.6239501473682376, 0.9458539461612584, 0.9456614633849955, 0.6147259181279643, 0.30859568357363065, 0.0, 1.0, 0.8772568157648086, 0.960045652464048, 0.9032403083515056, 1.0, 1.0, 1.0, 0.8152139806264982, 0.043445677912288205, 0.5114070298370063, 0.9969776973509031, 0.156014737975818, 0.42786361231934056, 1.0, 0.34763940029904905, 0.8214884285913074, 0.13680252043764166, 0.36937644423480676, 1.0, 0.8706573216525955, 0.9579754424551972, 0.7856288659092281, 0.8595206017365469, 0.8955501318885773, 0.6432970928476016, 0.0, 0.0856168141928182, 1.0, 0.15561053442816122, 0.0, 0.30481851483369765, 0.0]\n",
      "New queried dataset size: 120\n",
      "Combined dataset size: 1040\n",
      "Saved augmented training data at output_score_regression_n_steps_100/R3_T5_Q120_acq_random_noise_0.1/REINVENT_round_2/HITL_iteration_2/iteration_combined_data.csv\n",
      "Epoch 20, Loss: 0.3856154531240463\n",
      "Epoch 40, Loss: 0.37710930639877915\n"
     ]
    },
    {
     "name": "stderr",
     "output_type": "stream",
     "text": [
      "Found local copy...\n"
     ]
    },
    {
     "name": "stdout",
     "output_type": "stream",
     "text": [
      "Epoch 60, Loss: 0.3776220162399113\n",
      "Saved retrained feedback model at output_score_regression_n_steps_100/R3_T5_Q120_acq_random_noise_0.1/REINVENT_round_2/HITL_iteration_2/score_regression_model.pth\n",
      "----------------------------------\n",
      "HITL iteration = 3\n",
      "Loading Score Regression model from output_score_regression_n_steps_100/R3_T5_Q120_acq_random_noise_0.1/REINVENT_round_2/HITL_iteration_2/score_regression_model.pth\n",
      "Human score at HITL iteration 3: [0.06616809675110386, 0.9113520858199605, 0.8559006832900753, 0.6770426734290754, 0.05746611678055512, 0.8478816640704454, 0.8597191692501124, 1.0, 0.8037028183840889, 0.946887407508896, 0.1377912168770675, 0.9444522855189448, 0.0, 0.972315437764087, 1.0, 0.8765901014675387, 0.5454779912635869, 0.89839330337641, 0.9123096136590091, 1.0, 0.4109823421581751, 0.7476702411836201, 0.5188872537555886, 0.4232855797640679, 0.7043497305877848, 0.8739169410405024, 1.0, 0.9594713954620315, 0.5124064762735453, 1.0, 0.959157068004324, 0.9176345487019356, 0.8382552480729571, 0.4704971831626379, 0.0, 0.6692793662904748, 0.05160300715772691, 0.13640430953806001, 0.04885343538203043, 1.0, 1.0, 0.9377303835616904, 0.4221461621480198, 1.0, 0.6446445300266582, 0.1916609616216242, 0.058851462092094395, 0.0, 0.9972336315154808, 0.993687213301296, 0.4963559005441925, 1.0, 0.13142149183858137, 0.24519060346105964, 1.0, 1.0, 0.8774849975651696, 0.33584847085963576, 1.0, 0.23916322488891828, 1.0, 0.7540359563701831, 0.21448158101764236, 0.4613000210041334, 1.0, 0.9952130573491044, 0.0, 0.8830439338009903, 1.0, 1.0, 0.9400952184305501, 1.0, 0.027184626025276746, 0.16410832544574697, 0.9623640192459, 0.05417028677073272, 0.9474199716214714, 0.05111366046588886, 0.8870105079123533, 0.9967934541098576, 1.0, 0.0, 0.9147048502020774, 0.0, 0.1613561322957256, 0.3476813095216225, 0.5773181623901132, 0.8819023589356287, 1.0, 0.364038247802764, 0.756203089266815, 1.0, 0.0, 0.7498439873778183, 0.975740973113517, 0.9456359482809925, 0.282169260859151, 0.079884868699381, 0.8982731334800717, 0.8732288809937367, 0.7553434808850574, 1.0, 1.0, 0.9228343227031073, 1.0, 0.4145276178481543, 0.0, 0.32434574466818067, 0.13097059594535826, 1.0, 0.12975397507970624, 0.22814627013480526, 0.2821015718006664, 0.23929397811727057, 0.09175650217477734, 0.19568994737310957, 1.0, 0.08350088351252846, 0.5400568721478672, 0.06298784520128395]\n",
      "New queried dataset size: 120\n",
      "Combined dataset size: 1160\n",
      "Saved augmented training data at output_score_regression_n_steps_100/R3_T5_Q120_acq_random_noise_0.1/REINVENT_round_2/HITL_iteration_3/iteration_combined_data.csv\n",
      "Epoch 20, Loss: 0.9331245245411992\n",
      "Epoch 40, Loss: 0.913713039830327\n"
     ]
    },
    {
     "name": "stderr",
     "output_type": "stream",
     "text": [
      "Found local copy...\n"
     ]
    },
    {
     "name": "stdout",
     "output_type": "stream",
     "text": [
      "Epoch 60, Loss: 0.8931858399882913\n",
      "Saved retrained feedback model at output_score_regression_n_steps_100/R3_T5_Q120_acq_random_noise_0.1/REINVENT_round_2/HITL_iteration_3/score_regression_model.pth\n",
      "----------------------------------\n",
      "HITL iteration = 4\n",
      "Loading Score Regression model from output_score_regression_n_steps_100/R3_T5_Q120_acq_random_noise_0.1/REINVENT_round_2/HITL_iteration_3/score_regression_model.pth\n",
      "Human score at HITL iteration 4: [1.0, 0.8377552610483368, 0.020635928650601407, 1.0, 0.5722661842955888, 0.8382976459369984, 0.007970837197046596, 1.0, 0.0, 0.6808529691131744, 1.0, 0.7836072884709874, 1.0, 0.0, 0.554858912730603, 0.0, 0.0, 0.0, 0.8231474498997935, 1.0, 1.0, 0.7878177203101567, 0.0, 0.8746306795645574, 0.9790200605574712, 0.0, 0.16878308935824712, 0.7463758397989737, 0.8058029203949577, 0.026058270384551146, 0.9169996048958062, 0.7863575487225752, 0.9598955177319133, 0.9317937686413134, 0.7441628651778517, 0.19149145848212085, 0.7486327304734743, 1.0, 0.0, 1.0, 1.0, 1.0, 0.8703632564206287, 0.0, 1.0, 0.6205882922664865, 0.26290318454727, 0.1288822473384688, 1.0, 0.8525745617040217, 1.0, 0.8665591805156372, 0.22612647048190979, 0.6859656729025859, 0.18878001247105242, 0.9783940712235634, 0.0, 0.019144928475087364, 0.048121006899874294, 0.5895941726733266, 0.14249952452483, 0.5673443315726896, 0.9581094371232026, 0.22408882447748485, 1.0, 0.23188028375797415, 0.8935332431375357, 0.04005303245062969, 0.5117207337582984, 0.7906799607779741, 0.3280118464210499, 0.5077256391437468, 0.67408845390897, 1.0, 0.9305465349205146, 1.0, 0.1963219576988704, 0.0, 0.8282780173730978, 0.7002113951163249, 1.0, 0.9394780567925655, 1.0, 0.27195183203709655, 0.0, 0.6649914524595427, 1.0, 0.0, 0.1511444798724325, 1.0, 0.0, 0.4680542624199602, 0.6771298144009156, 1.0, 0.8284267672207704, 0.7841266876198428, 0.8020464425440526, 0.9603997341671842, 0.07918450035393015, 0.0, 0.9238090969833692, 0.4505954679653079, 0.15241581614972888, 0.0, 0.0, 0.0, 0.8675762357175998, 1.0, 0.020027957689529793, 1.0, 0.07486850419574767, 0.10492601644205851, 0.9911476485596753, 0.862859102443655, 0.45963519503091355, 0.0, 0.4498392565260452, 0.304117193450811, 1.0, 0.18415384727452988]\n",
      "New queried dataset size: 120\n",
      "Combined dataset size: 1280\n",
      "Saved augmented training data at output_score_regression_n_steps_100/R3_T5_Q120_acq_random_noise_0.1/REINVENT_round_2/HITL_iteration_4/iteration_combined_data.csv\n",
      "Epoch 20, Loss: 0.2578277117572725\n",
      "Epoch 40, Loss: 0.25364822894334793\n"
     ]
    },
    {
     "name": "stderr",
     "output_type": "stream",
     "text": [
      "Found local copy...\n"
     ]
    },
    {
     "name": "stdout",
     "output_type": "stream",
     "text": [
      "Epoch 60, Loss: 0.2522689704783261\n",
      "Saved retrained feedback model at output_score_regression_n_steps_100/R3_T5_Q120_acq_random_noise_0.1/REINVENT_round_2/HITL_iteration_4/score_regression_model.pth\n",
      "----------------------------------\n",
      "HITL iteration = 5\n",
      "Loading Score Regression model from output_score_regression_n_steps_100/R3_T5_Q120_acq_random_noise_0.1/REINVENT_round_2/HITL_iteration_4/score_regression_model.pth\n",
      "Human score at HITL iteration 5: [0.9620226643886219, 0.5920332578586874, 0.8643487106512112, 0.6768836396109343, 1.0, 0.9780476005075929, 0.10325254063864495, 0.6813009382575703, 0.7368678156720133, 0.9775100361297172, 0.9869838293959496, 0.7576689731818456, 0.09457684584469819, 0.38124285287833926, 1.0, 0.7516155532029014, 1.0, 0.0, 0.18120404997066925, 1.0, 1.0, 0.6801534585857966, 1.0, 0.0, 0.6108182816737516, 0.0, 0.7984424608421137, 0.0293132115412799, 0.8015277731871245, 0.1940210820712526, 0.8242397881601291, 0.8599972387340555, 0.27948232203282175, 1.0, 0.5424692606568761, 0.8498425348337753, 1.0, 0.7628234957307222, 0.23494042603327822, 1.0, 0.2040450801149149, 1.0, 0.08464953311053378, 0.6904818718603596, 1.0, 0.0, 0.030989652079175093, 0.33439107511831323, 0.9755548842275572, 0.6382733021888551, 0.8309881519281529, 0.5100319098458005, 0.16336916924079187, 1.0, 0.9548459989514062, 1.0, 1.0, 0.8452673055628133, 1.0, 1.0, 0.6943238178620217, 1.0, 0.9710378450528488, 0.6458157272116737, 0.7952803354792862, 0.82770729752189, 0.0, 0.5941393458974017, 0.338494702640291, 0.0, 0.8943805961137977, 0.7846540115186649, 0.936085210556772, 0.867678281618176, 1.0, 1.0, 0.8671603173675074, 1.0, 0.2748590349224088, 0.4744472344494889, 0.7500594278881276, 1.0, 0.42040364896545807, 0.0, 0.7082690757497374, 1.0, 0.4582080257987393, 0.8125270016449516, 0.988082374465017, 0.10121177530527453, 0.7280049705429745, 0.7414423385164608, 0.060145968781189156, 0.2273048894074256, 0.9137613348260445, 0.9433916781806708, 0.0, 0.9864547471122265, 0.7478451832506616, 0.0, 0.9670316331418447, 0.47264413621839196, 0.09556579017790649, 0.24891037984608666, 0.0028624415371064083, 0.2414100779609083, 0.0, 0.9562649342166459, 1.0, 0.8965979929746494, 1.0, 0.0, 0.9398585036527354, 0.9589559733062187, 0.8040885283859521, 0.9836929755428139, 0.28441852651759125, 0.8891917156895038, 0.9559084805385315, 1.0]\n",
      "New queried dataset size: 120\n",
      "Combined dataset size: 1400\n",
      "Saved augmented training data at output_score_regression_n_steps_100/R3_T5_Q120_acq_random_noise_0.1/REINVENT_round_2/HITL_iteration_5/iteration_combined_data.csv\n",
      "Epoch 20, Loss: 0.39701779186725616\n",
      "Epoch 40, Loss: 0.3896276814242204\n",
      "Epoch 60, Loss: 0.38621665723621845\n",
      "Saved retrained feedback model at output_score_regression_n_steps_100/R3_T5_Q120_acq_random_noise_0.1/REINVENT_round_2/HITL_iteration_5/score_regression_model.pth\n",
      "=====================================\n",
      "REINVENT round = 3\n",
      "Creating config file: output_score_regression_n_steps_100/R3_T5_Q120_acq_random_noise_0.1/REINVENT_round_3/config.json.\n",
      "Run REINVENT\n",
      "Exit code: 0\n",
      "Number of SMILES in scaffold_memory.csv:  380\n"
     ]
    },
    {
     "ename": "IndexError",
     "evalue": "index 380 is out of bounds for axis 0 with size 380",
     "output_type": "error",
     "traceback": [
      "\u001b[0;31m---------------------------------------------------------------------------\u001b[0m",
      "\u001b[0;31mIndexError\u001b[0m                                Traceback (most recent call last)",
      "Cell \u001b[0;32mIn[40], line 56\u001b[0m\n\u001b[1;32m     54\u001b[0m     \u001b[38;5;28;01mpass\u001b[39;00m\n\u001b[1;32m     55\u001b[0m \u001b[38;5;28;01melse\u001b[39;00m:\n\u001b[0;32m---> 56\u001b[0m     \u001b[43mrun_HITL_classify\u001b[49m\u001b[43m(\u001b[49m\n\u001b[1;32m     57\u001b[0m \u001b[43m            \u001b[49m\u001b[43mseed\u001b[49m\u001b[43m,\u001b[49m\u001b[43m \u001b[49m\u001b[43mreinvent_dir\u001b[49m\u001b[43m,\u001b[49m\u001b[43m \u001b[49m\u001b[43mreinvent_env\u001b[49m\u001b[43m,\u001b[49m\u001b[43m \u001b[49m\u001b[43moutput_dir\u001b[49m\u001b[43m,\u001b[49m\n\u001b[1;32m     58\u001b[0m \u001b[43m            \u001b[49m\u001b[43mfeedback_type\u001b[49m\u001b[43m,\u001b[49m\u001b[43m \u001b[49m\u001b[38;5;66;43;03m# scoring, comparing, ranking\u001b[39;49;00m\n\u001b[1;32m     59\u001b[0m \u001b[43m            \u001b[49m\u001b[43mbase_training_dataset_path\u001b[49m\u001b[43m,\u001b[49m\u001b[43m \u001b[49m\u001b[38;5;66;43;03m# Path to the pretrained model before REINVENT_round_1/HITL_iteration_1\u001b[39;49;00m\n\u001b[1;32m     60\u001b[0m \u001b[43m            \u001b[49m\u001b[43mmodel_pretrained_path\u001b[49m\u001b[43m,\u001b[49m\u001b[43m \u001b[49m\u001b[38;5;66;43;03m# Path to the pretrained model before REINVENT_round_1\u001b[39;49;00m\n\u001b[1;32m     61\u001b[0m \u001b[43m            \u001b[49m\u001b[43mmodel_pretrained_name\u001b[49m\u001b[43m,\u001b[49m\u001b[43m \u001b[49m\u001b[38;5;66;43;03m# Name of the pretrained model before REINVENT_round_1\u001b[39;49;00m\n\u001b[1;32m     62\u001b[0m \u001b[43m            \u001b[49m\u001b[43mnum_rounds\u001b[49m\u001b[43m,\u001b[49m\u001b[43m \u001b[49m\u001b[38;5;66;43;03m# number of rounds, corresponding to R in the paper\u001b[39;49;00m\n\u001b[1;32m     63\u001b[0m \u001b[43m            \u001b[49m\u001b[43mnum_iters\u001b[49m\u001b[43m,\u001b[49m\u001b[43m \u001b[49m\u001b[38;5;66;43;03m# number of iterations of showing molecules to the human for feedback at each round, corresponding to T in the paper\u001b[39;49;00m\n\u001b[1;32m     64\u001b[0m \u001b[43m            \u001b[49m\u001b[43mnum_queries\u001b[49m\u001b[43m,\u001b[49m\u001b[43m \u001b[49m\u001b[38;5;66;43;03m# number of molecules shown to the simulated chemist at each HITL_iteration\u001b[39;49;00m\n\u001b[1;32m     65\u001b[0m \u001b[43m            \u001b[49m\u001b[43mREINVENT_n_steps\u001b[49m\u001b[43m,\u001b[49m\u001b[43m \u001b[49m\u001b[38;5;66;43;03m# number of REINVENT optimization steps\u001b[39;49;00m\n\u001b[1;32m     66\u001b[0m \u001b[43m            \u001b[49m\u001b[43mbatch_size\u001b[49m\u001b[43m,\u001b[49m\u001b[43m \u001b[49m\u001b[38;5;66;43;03m# batch size of the reinforcement learning model, or size of scaffold_memory.csv\u001b[39;49;00m\n\u001b[1;32m     67\u001b[0m \u001b[43m            \u001b[49m\u001b[43macquisition\u001b[49m\u001b[43m,\u001b[49m\u001b[43m \u001b[49m\u001b[38;5;66;43;03m# acquisition: 'uncertainty', 'random', 'thompson', 'greedy' (if None run with no human interaction)\u001b[39;49;00m\n\u001b[1;32m     68\u001b[0m \u001b[43m            \u001b[49m\u001b[43msigma_noise\u001b[49m\u001b[43m,\u001b[49m\u001b[43m \u001b[49m\u001b[38;5;66;43;03m# noise level for simulated chemist's responses\u001b[39;49;00m\n\u001b[1;32m     69\u001b[0m \u001b[43m            \u001b[49m\u001b[43mchoose_top_smiles\u001b[49m\u001b[43m,\u001b[49m\u001b[43m \u001b[49m\u001b[38;5;66;43;03m# number of top scoring molecules to choose for feedback\u001b[39;49;00m\n\u001b[1;32m     70\u001b[0m \u001b[43m            \u001b[49m\u001b[43mtraining_epochs\u001b[49m\u001b[43m,\u001b[49m\u001b[43m \u001b[49m\u001b[38;5;66;43;03m# number of epochs for training the model in each HITL iteration\u001b[39;49;00m\n\u001b[1;32m     71\u001b[0m \u001b[43m            \u001b[49m\u001b[43mlearning_rate\u001b[49m\u001b[43m,\u001b[49m\u001b[43m \u001b[49m\u001b[38;5;66;43;03m# learning rate for training the model in each HITL iteration\u001b[39;49;00m\n\u001b[1;32m     72\u001b[0m \u001b[43m    \u001b[49m\u001b[43m)\u001b[49m\n\u001b[1;32m     74\u001b[0m \u001b[38;5;28;01mif\u001b[39;00m \u001b[38;5;129;01mnot\u001b[39;00m os\u001b[38;5;241m.\u001b[39mpath\u001b[38;5;241m.\u001b[39mexists(\u001b[38;5;124mf\u001b[39m\u001b[38;5;124m\"\u001b[39m\u001b[38;5;132;01m{\u001b[39;00moutput_dir\u001b[38;5;132;01m}\u001b[39;00m\u001b[38;5;124m/REINVENT_round_\u001b[39m\u001b[38;5;132;01m{\u001b[39;00mnum_rounds\u001b[38;5;241m+\u001b[39m\u001b[38;5;241m1\u001b[39m\u001b[38;5;132;01m}\u001b[39;00m\u001b[38;5;124m\"\u001b[39m):\n\u001b[1;32m     75\u001b[0m     REINVENT_n_steps_last \u001b[38;5;241m=\u001b[39m \u001b[38;5;241m200\u001b[39m\n",
      "Cell \u001b[0;32mIn[35], line 115\u001b[0m, in \u001b[0;36mrun_HITL_classify\u001b[0;34m(seed, reinvent_dir, reinvent_env, output_dir, feedback_type, base_training_dataset_path, model_pretrained_path, model_pretrained_name, num_rounds, num_iters, num_queries, REINVENT_n_steps, batch_size, acquisition, sigma_noise, choose_top_smiles, training_epochs, learning_rate)\u001b[0m\n\u001b[1;32m    108\u001b[0m \u001b[38;5;28mprint\u001b[39m(\u001b[38;5;124m\"\u001b[39m\u001b[38;5;124mExit code:\u001b[39m\u001b[38;5;124m\"\u001b[39m, result\u001b[38;5;241m.\u001b[39mreturncode)\n\u001b[1;32m    110\u001b[0m \u001b[38;5;66;03m#############################################################################\u001b[39;00m\n\u001b[1;32m    111\u001b[0m \u001b[38;5;66;03m# REINVENT HAS OUTPUT THE RESULT in path f\"{output_dir}/REINVENT_round_{REINVENT_round}/results\" #\u001b[39;00m\n\u001b[1;32m    112\u001b[0m \u001b[38;5;66;03m#############################################################################\u001b[39;00m\n\u001b[1;32m    113\u001b[0m \n\u001b[1;32m    114\u001b[0m \u001b[38;5;66;03m# Get the high scoring molecules\u001b[39;00m\n\u001b[0;32m--> 115\u001b[0m output_high_score \u001b[38;5;241m=\u001b[39m \u001b[43mread_scaffold_result\u001b[49m\u001b[43m(\u001b[49m\u001b[38;5;124;43mf\u001b[39;49m\u001b[38;5;124;43m\"\u001b[39;49m\u001b[38;5;132;43;01m{\u001b[39;49;00m\u001b[43moutput_dir\u001b[49m\u001b[38;5;132;43;01m}\u001b[39;49;00m\u001b[38;5;124;43m/REINVENT_round_\u001b[39;49m\u001b[38;5;132;43;01m{\u001b[39;49;00m\u001b[43mREINVENT_round\u001b[49m\u001b[38;5;132;43;01m}\u001b[39;49;00m\u001b[38;5;124;43m/results/scaffold_memory.csv\u001b[39;49m\u001b[38;5;124;43m\"\u001b[39;49m\u001b[43m,\u001b[49m\u001b[43m \u001b[49m\n\u001b[1;32m    116\u001b[0m \u001b[43m                                         \u001b[49m\u001b[43mchoose_top_smiles\u001b[49m\u001b[38;5;241;43m=\u001b[39;49m\u001b[43mchoose_top_smiles\u001b[49m\u001b[43m)\u001b[49m\n\u001b[1;32m    118\u001b[0m scaffold_df \u001b[38;5;241m=\u001b[39m output_high_score[\u001b[38;5;124m\"\u001b[39m\u001b[38;5;124mscaffold_df\u001b[39m\u001b[38;5;124m\"\u001b[39m]\n\u001b[1;32m    119\u001b[0m smiles \u001b[38;5;241m=\u001b[39m output_high_score[\u001b[38;5;124m\"\u001b[39m\u001b[38;5;124msmiles\u001b[39m\u001b[38;5;124m\"\u001b[39m]\n",
      "File \u001b[0;32m~/reinvent-hitl/Base-Code-Binh/scripts/helper.py:199\u001b[0m, in \u001b[0;36mread_scaffold_result\u001b[0;34m(scaffold_memory_path, choose_top_smiles)\u001b[0m\n\u001b[1;32m    196\u001b[0m high_scoring_idx \u001b[38;5;241m=\u001b[39m np\u001b[38;5;241m.\u001b[39marange(\u001b[38;5;241m0\u001b[39m, choose_top_smiles)\n\u001b[1;32m    198\u001b[0m \u001b[38;5;66;03m# Only analyse highest scoring molecules\u001b[39;00m\n\u001b[0;32m--> 199\u001b[0m smiles_high_score \u001b[38;5;241m=\u001b[39m \u001b[43msmiles\u001b[49m\u001b[43m[\u001b[49m\u001b[43mhigh_scoring_idx\u001b[49m\u001b[43m]\u001b[49m\n\u001b[1;32m    200\u001b[0m scaffold_high_score \u001b[38;5;241m=\u001b[39m scaffold[high_scoring_idx]\n\u001b[1;32m    201\u001b[0m human_component_high_score \u001b[38;5;241m=\u001b[39m human_component[high_scoring_idx]\n",
      "\u001b[0;31mIndexError\u001b[0m: index 380 is out of bounds for axis 0 with size 380"
     ]
    }
   ],
   "source": [
    "! pip install -e \"/home/springnuance/reinvent-hitl/reinvent-scoring\"\n",
    "\n",
    "from training_Bradley_Terry_model.bradley_terry import BradleyTerryModel\n",
    "from training_Rank_ListNet_model.rank_listnet import RankListNetModel\n",
    "from training_Score_Regression_model.score_regression import ScoreRegressionModel\n",
    "from scripts.helper import load_drd2_dataset, write_REINVENT_config, change_config_json, \\\n",
    "                    read_scaffold_result, load_feedback_model, smiles_human_score, \\\n",
    "                    compute_fingerprints, retrain_feedback_model,\\\n",
    "                    create_drd2_dataset, combine_drd2_dataset, save_drd2_dataset\n",
    "                        \n",
    "from scripts.acquisition import select_query_feedback\n",
    "from scripts.predict import predict_proba_from_model\n",
    "\n",
    "seed = 42\n",
    "\n",
    "# change these path variables as required\n",
    "reinvent_dir = \"/home/springnuance/reinvent-hitl/Reinvent\" # We must use absolute path\n",
    "reinvent_env = \"/home/springnuance/miniconda3/envs/ReinventCommunity\" # We must use absolute path\n",
    "\n",
    "# the performance of the initial model should not be good. Specifically, it should work at 0.5 accuracy \n",
    "# If the model is too good, retrain the model to become weaker, we are trying to make the model to learn via HITL\n",
    "\n",
    "feedback_type = \"scoring\" # scoring, comparing, ranking\n",
    "\n",
    "# feedback type as scoring:\n",
    "# Given a molecule, what is the probability that the molecule is active regarding DRD2?  \n",
    "\n",
    "base_training_dataset_path = \"/home/springnuance/reinvent-hitl/Base-Code-Binh/training_Score_Regression_model/small_drd2_training_data.csv\"\n",
    "\n",
    "model_pretrained_path = \"/home/springnuance/reinvent-hitl/Base-Code-Binh/training_Score_Regression_model/score_regression_model.pth\"\n",
    "model_pretrained_name = \"score_regression_model.pth\"\n",
    "\n",
    "num_rounds = 3 # number of rounds, corresponding to R in the paper\n",
    "num_iters = 5 # number of iterations of showing molecules to the human for feedback at each round\n",
    "REINVENT_n_steps = 100 # number of REINVENT optimization steps\n",
    "batch_size = 64 # batch size of the reinforcement learning model, or size of scaffold_memory.csv\n",
    "\n",
    "num_queries = 56 # number of molecules, pairs or a set of molecules, depending on the task, \n",
    "                 # shown to the simulated chemist at each HITL_iteration\n",
    "\n",
    "choose_top_smiles = 64 * num_iters * 2 # number of top molecules to choose from scaffold. \n",
    "\n",
    "training_epochs = 25 # number of epochs for training the model in each HITL iteration\n",
    "learning_rate = 0.000001 # learning rate for training the model in each HITL iteration\n",
    "\n",
    "\n",
    "for acquisition in [\"random\", \"uncertainty\", \"greedy\"]:\n",
    "    for sigma_noise in [0.0, 0.1]:\n",
    "        print(\"\\n*******************************************************************\")\n",
    "        print(f\"Running HITL with {acquisition} acquisition and noise {sigma_noise}\")\n",
    "        output_dir = f\"output_score_regression_n_steps_100/R{num_rounds}_T{num_iters}_Q{num_queries}_acq_{acquisition}_noise_{sigma_noise}\"\n",
    "\n",
    "        if os.path.exists(output_dir):\n",
    "            pass\n",
    "        else:\n",
    "            run_HITL_classify(\n",
    "                    seed, reinvent_dir, reinvent_env, output_dir,\n",
    "                    feedback_type, # scoring, comparing, ranking\n",
    "                    base_training_dataset_path, # Path to the pretrained model before REINVENT_round_1/HITL_iteration_1\n",
    "                    model_pretrained_path, # Path to the pretrained model before REINVENT_round_1\n",
    "                    model_pretrained_name, # Name of the pretrained model before REINVENT_round_1\n",
    "                    num_rounds, # number of rounds, corresponding to R in the paper\n",
    "                    num_iters, # number of iterations of showing molecules to the human for feedback at each round, corresponding to T in the paper\n",
    "                    num_queries, # number of molecules shown to the simulated chemist at each HITL_iteration\n",
    "                    REINVENT_n_steps, # number of REINVENT optimization steps\n",
    "                    batch_size, # batch size of the reinforcement learning model, or size of scaffold_memory.csv\n",
    "                    acquisition, # acquisition: 'uncertainty', 'random', 'thompson', 'greedy' (if None run with no human interaction)\n",
    "                    sigma_noise, # noise level for simulated chemist's responses\n",
    "                    choose_top_smiles, # number of top scoring molecules to choose for feedback\n",
    "                    training_epochs, # number of epochs for training the model in each HITL iteration\n",
    "                    learning_rate, # learning rate for training the model in each HITL iteration\n",
    "            )\n",
    "            \n",
    "        if not os.path.exists(f\"{output_dir}/REINVENT_round_{num_rounds+1}\"):\n",
    "            REINVENT_n_steps_last = 200\n",
    "            batch_size_last = 64\n",
    "            # Run the last REINVENT round using the last feedback model\n",
    "            current_model_path = f\"{output_dir}/REINVENT_round_{num_rounds}/HITL_iteration_{num_iters}/{model_pretrained_name}\"\n",
    "            run_REINVENT_round(num_rounds+1,\n",
    "                reinvent_dir, reinvent_env, output_dir, \n",
    "                feedback_type, # scoring, comparing, ranking\n",
    "                current_model_path, # Path to the pretrained model \n",
    "                REINVENT_n_steps_last, # number of REINVENT optimization steps. This is not related to the HITL but on the REINVENT side\n",
    "                batch_size_last, # batch size of the reinforcement learning model, or size of scaffold_memory.csv\n",
    "            )\n",
    "        else:\n",
    "            print(f\"Already ran the last REINVENT round for {output_dir}\")\n"
   ]
  },
  {
   "cell_type": "markdown",
   "metadata": {},
   "source": [
    "### Running Bradley Terry model"
   ]
  },
  {
   "cell_type": "code",
   "execution_count": 18,
   "metadata": {},
   "outputs": [
    {
     "name": "stdout",
     "output_type": "stream",
     "text": [
      "Obtaining file:///home/springnuance/reinvent-hitl/reinvent-scoring\n",
      "  Preparing metadata (setup.py) ... \u001b[?25ldone\n",
      "\u001b[?25hInstalling collected packages: reinvent-scoring\n",
      "  Attempting uninstall: reinvent-scoring\n",
      "    Found existing installation: reinvent-scoring 0.0.73\n",
      "    Uninstalling reinvent-scoring-0.0.73:\n",
      "      Successfully uninstalled reinvent-scoring-0.0.73\n",
      "  Running setup.py develop for reinvent-scoring\n",
      "Successfully installed reinvent-scoring-0.0.73\n",
      "\n",
      "*******************************************************************\n",
      "Running HITL with random acquisition and noise 0.0\n",
      "\n",
      "Running DRD2 (one objective) with rounds 3, iters 5, queries 8, seed 42\n",
      "Results will be saved at output_bradley_terry_n_steps_100/R3_T5_Q8_acq_random_noise_0.0\n",
      "Loading initial training datasets successfully\n",
      "=====================================\n",
      "REINVENT round = 1\n",
      "Creating config file: output_bradley_terry_n_steps_100/R3_T5_Q8_acq_random_noise_0.0/REINVENT_round_1/config.json.\n",
      "Run REINVENT\n",
      "Exit code: 0\n",
      "Number of SMILES in scaffold_memory.csv:  5006\n",
      "----------------------------------\n",
      "HITL iteration = 1\n"
     ]
    },
    {
     "name": "stderr",
     "output_type": "stream",
     "text": [
      "Found local copy...\n"
     ]
    },
    {
     "name": "stdout",
     "output_type": "stream",
     "text": [
      "Loading Bradley Terry model successfully from /home/springnuance/reinvent-hitl/Base-Code-Binh/training_Bradley_Terry_model/bradley_terry_model.pth\n",
      "Human score at HITL iteration 1: [0.012794059438848513, 0.009591567810738909, 0.00352978573110307, 0.0037539388397401425, 0.002660693177363879, 0.0005912491070823625, 0.006534587595714743, 0.009123164249650971]\n",
      "New queried dataset size: 56\n",
      "Combined dataset size: 256\n",
      "Saved augmented training data at output_bradley_terry_n_steps_100/R3_T5_Q8_acq_random_noise_0.0/REINVENT_round_1/HITL_iteration_1/iteration_combined_data.csv\n",
      "Epoch 5, Loss: 0.1732650939375162\n",
      "Epoch 10, Loss: 0.17325223796069622\n",
      "Epoch 15, Loss: 0.1732391994446516\n",
      "Epoch 20, Loss: 0.17322596907615662\n"
     ]
    },
    {
     "name": "stderr",
     "output_type": "stream",
     "text": [
      "Found local copy...\n"
     ]
    },
    {
     "name": "stdout",
     "output_type": "stream",
     "text": [
      "Epoch 25, Loss: 0.17321249470114708\n",
      "Saved retrained feedback model at output_bradley_terry_n_steps_100/R3_T5_Q8_acq_random_noise_0.0/REINVENT_round_1/HITL_iteration_1/bradley_terry_model.pth\n",
      "----------------------------------\n",
      "HITL iteration = 2\n",
      "Loading Bradley Terry model successfully from output_bradley_terry_n_steps_100/R3_T5_Q8_acq_random_noise_0.0/REINVENT_round_1/HITL_iteration_1/bradley_terry_model.pth\n",
      "Human score at HITL iteration 2: [0.007457904482147725, 0.0006749446241312491, 0.001139318899845858, 0.03846690825807318, 0.004862642395150195, 0.0013335642742527075, 0.001574630645522563, 0.00019475991309651273]\n",
      "New queried dataset size: 56\n",
      "Combined dataset size: 312\n",
      "Saved augmented training data at output_bradley_terry_n_steps_100/R3_T5_Q8_acq_random_noise_0.0/REINVENT_round_1/HITL_iteration_2/iteration_combined_data.csv\n",
      "Epoch 5, Loss: 0.2886884758869807\n",
      "Epoch 10, Loss: 0.28866812338431674\n",
      "Epoch 15, Loss: 0.28864357868830365\n",
      "Epoch 20, Loss: 0.2886185919245084\n"
     ]
    },
    {
     "name": "stderr",
     "output_type": "stream",
     "text": [
      "Found local copy...\n"
     ]
    },
    {
     "name": "stdout",
     "output_type": "stream",
     "text": [
      "Epoch 25, Loss: 0.2885948990782102\n",
      "Saved retrained feedback model at output_bradley_terry_n_steps_100/R3_T5_Q8_acq_random_noise_0.0/REINVENT_round_1/HITL_iteration_2/bradley_terry_model.pth\n",
      "----------------------------------\n",
      "HITL iteration = 3\n",
      "Loading Bradley Terry model successfully from output_bradley_terry_n_steps_100/R3_T5_Q8_acq_random_noise_0.0/REINVENT_round_1/HITL_iteration_2/bradley_terry_model.pth\n",
      "Human score at HITL iteration 3: [0.003245513290225891, 0.0006347084852348495, 0.08488471908418341, 0.48370606938573735, 0.002530484715497392, 0.00033414300726006203, 0.0002747836730153595, 0.0022588972704425596]\n",
      "New queried dataset size: 56\n",
      "Combined dataset size: 368\n",
      "Saved augmented training data at output_bradley_terry_n_steps_100/R3_T5_Q8_acq_random_noise_0.0/REINVENT_round_1/HITL_iteration_3/iteration_combined_data.csv\n",
      "Epoch 5, Loss: 0.5194721929728985\n",
      "Epoch 10, Loss: 0.5194259136915207\n",
      "Epoch 15, Loss: 0.5193741954863071\n",
      "Epoch 20, Loss: 0.5193137414753437\n"
     ]
    },
    {
     "name": "stderr",
     "output_type": "stream",
     "text": [
      "Found local copy...\n"
     ]
    },
    {
     "name": "stdout",
     "output_type": "stream",
     "text": [
      "Epoch 25, Loss: 0.5192687623202801\n",
      "Saved retrained feedback model at output_bradley_terry_n_steps_100/R3_T5_Q8_acq_random_noise_0.0/REINVENT_round_1/HITL_iteration_3/bradley_terry_model.pth\n",
      "----------------------------------\n",
      "HITL iteration = 4\n",
      "Loading Bradley Terry model successfully from output_bradley_terry_n_steps_100/R3_T5_Q8_acq_random_noise_0.0/REINVENT_round_1/HITL_iteration_3/bradley_terry_model.pth\n",
      "Human score at HITL iteration 4: [0.016519898436856313, 0.9654338858251834, 0.016501450608917913, 0.4282599348627571, 0.0008705903354864774, 0.4429195883741341, 0.011693799944902215, 0.0007861305076662839]\n",
      "New queried dataset size: 56\n",
      "Combined dataset size: 424\n",
      "Saved augmented training data at output_bradley_terry_n_steps_100/R3_T5_Q8_acq_random_noise_0.0/REINVENT_round_1/HITL_iteration_4/iteration_combined_data.csv\n",
      "Epoch 5, Loss: 1.2115017622709274\n",
      "Epoch 10, Loss: 1.2114108130335808\n",
      "Epoch 15, Loss: 1.2112358435988426\n",
      "Epoch 20, Loss: 1.2109512239694595\n"
     ]
    },
    {
     "name": "stderr",
     "output_type": "stream",
     "text": [
      "Found local copy...\n"
     ]
    },
    {
     "name": "stdout",
     "output_type": "stream",
     "text": [
      "Epoch 25, Loss: 1.2107319310307503\n",
      "Saved retrained feedback model at output_bradley_terry_n_steps_100/R3_T5_Q8_acq_random_noise_0.0/REINVENT_round_1/HITL_iteration_4/bradley_terry_model.pth\n",
      "----------------------------------\n",
      "HITL iteration = 5\n",
      "Loading Bradley Terry model successfully from output_bradley_terry_n_steps_100/R3_T5_Q8_acq_random_noise_0.0/REINVENT_round_1/HITL_iteration_4/bradley_terry_model.pth\n",
      "Human score at HITL iteration 5: [0.0006006286925376119, 0.0017415891667211057, 0.021536767936202968, 0.013215123443175452, 0.0006140302771736923, 0.02949447971967965, 0.0032718778892818377, 0.003886077691443907]\n",
      "New queried dataset size: 56\n",
      "Combined dataset size: 480\n",
      "Saved augmented training data at output_bradley_terry_n_steps_100/R3_T5_Q8_acq_random_noise_0.0/REINVENT_round_1/HITL_iteration_5/iteration_combined_data.csv\n",
      "Epoch 5, Loss: 0.3243202567100525\n",
      "Epoch 10, Loss: 0.3242600876837969\n",
      "Epoch 15, Loss: 0.3241947330534458\n",
      "Epoch 20, Loss: 0.3241242915391922\n",
      "Epoch 25, Loss: 0.3240475095808506\n",
      "Saved retrained feedback model at output_bradley_terry_n_steps_100/R3_T5_Q8_acq_random_noise_0.0/REINVENT_round_1/HITL_iteration_5/bradley_terry_model.pth\n",
      "=====================================\n",
      "REINVENT round = 2\n",
      "Creating config file: output_bradley_terry_n_steps_100/R3_T5_Q8_acq_random_noise_0.0/REINVENT_round_2/config.json.\n",
      "Run REINVENT\n",
      "Exit code: 0\n",
      "Number of SMILES in scaffold_memory.csv:  5005\n",
      "----------------------------------\n",
      "HITL iteration = 1\n"
     ]
    },
    {
     "name": "stderr",
     "output_type": "stream",
     "text": [
      "Found local copy...\n"
     ]
    },
    {
     "name": "stdout",
     "output_type": "stream",
     "text": [
      "Loading Bradley Terry model successfully from output_bradley_terry_n_steps_100/R3_T5_Q8_acq_random_noise_0.0/REINVENT_round_1/HITL_iteration_5/bradley_terry_model.pth\n",
      "Human score at HITL iteration 1: [0.07288200894886085, 0.04400562109266851, 0.10631810781931658, 0.8276923047896492, 0.03162038496870516, 0.991507953827662, 0.006486822196972257, 0.8389249999303875]\n",
      "New queried dataset size: 56\n",
      "Combined dataset size: 536\n",
      "Saved augmented training data at output_bradley_terry_n_steps_100/R3_T5_Q8_acq_random_noise_0.0/REINVENT_round_2/HITL_iteration_1/iteration_combined_data.csv\n",
      "Epoch 5, Loss: 0.4896209140618642\n",
      "Epoch 10, Loss: 0.48948077857494354\n",
      "Epoch 15, Loss: 0.4893230398495992\n",
      "Epoch 20, Loss: 0.4891582056879997\n"
     ]
    },
    {
     "name": "stderr",
     "output_type": "stream",
     "text": [
      "Found local copy...\n"
     ]
    },
    {
     "name": "stdout",
     "output_type": "stream",
     "text": [
      "Epoch 25, Loss: 0.48897092292706174\n",
      "Saved retrained feedback model at output_bradley_terry_n_steps_100/R3_T5_Q8_acq_random_noise_0.0/REINVENT_round_2/HITL_iteration_1/bradley_terry_model.pth\n",
      "----------------------------------\n",
      "HITL iteration = 2\n",
      "Loading Bradley Terry model successfully from output_bradley_terry_n_steps_100/R3_T5_Q8_acq_random_noise_0.0/REINVENT_round_2/HITL_iteration_1/bradley_terry_model.pth\n",
      "Human score at HITL iteration 2: [0.06744800346209946, 0.01887446419383874, 0.9928717310874611, 0.8858827063069988, 0.8479186680104194, 0.09576551334766836, 0.013596680457643935, 0.032258858975297185]\n",
      "New queried dataset size: 56\n",
      "Combined dataset size: 592\n",
      "Saved augmented training data at output_bradley_terry_n_steps_100/R3_T5_Q8_acq_random_noise_0.0/REINVENT_round_2/HITL_iteration_2/iteration_combined_data.csv\n",
      "Epoch 5, Loss: 0.8194629698991776\n",
      "Epoch 10, Loss: 0.8191557191312313\n",
      "Epoch 15, Loss: 0.8187688887119293\n",
      "Epoch 20, Loss: 0.8183107152581215\n"
     ]
    },
    {
     "name": "stderr",
     "output_type": "stream",
     "text": [
      "Found local copy...\n"
     ]
    },
    {
     "name": "stdout",
     "output_type": "stream",
     "text": [
      "Epoch 25, Loss: 0.8180718347430229\n",
      "Saved retrained feedback model at output_bradley_terry_n_steps_100/R3_T5_Q8_acq_random_noise_0.0/REINVENT_round_2/HITL_iteration_2/bradley_terry_model.pth\n",
      "----------------------------------\n",
      "HITL iteration = 3\n",
      "Loading Bradley Terry model successfully from output_bradley_terry_n_steps_100/R3_T5_Q8_acq_random_noise_0.0/REINVENT_round_2/HITL_iteration_2/bradley_terry_model.pth\n",
      "Human score at HITL iteration 3: [0.059789206076531584, 0.09440944384288277, 0.9503628144326317, 0.45526516071657497, 0.02094224636507158, 0.03225238623287649, 0.6697549677201877, 0.015394047858426263]\n",
      "New queried dataset size: 56\n",
      "Combined dataset size: 648\n",
      "Saved augmented training data at output_bradley_terry_n_steps_100/R3_T5_Q8_acq_random_noise_0.0/REINVENT_round_2/HITL_iteration_3/iteration_combined_data.csv\n",
      "Epoch 5, Loss: 1.8078305646777153\n",
      "Epoch 10, Loss: 1.8066399469971657\n",
      "Epoch 15, Loss: 1.8054920509457588\n",
      "Epoch 20, Loss: 1.8037696480751038\n"
     ]
    },
    {
     "name": "stderr",
     "output_type": "stream",
     "text": [
      "Found local copy...\n"
     ]
    },
    {
     "name": "stdout",
     "output_type": "stream",
     "text": [
      "Epoch 25, Loss: 1.802369698882103\n",
      "Saved retrained feedback model at output_bradley_terry_n_steps_100/R3_T5_Q8_acq_random_noise_0.0/REINVENT_round_2/HITL_iteration_3/bradley_terry_model.pth\n",
      "----------------------------------\n",
      "HITL iteration = 4\n",
      "Loading Bradley Terry model successfully from output_bradley_terry_n_steps_100/R3_T5_Q8_acq_random_noise_0.0/REINVENT_round_2/HITL_iteration_3/bradley_terry_model.pth\n",
      "Human score at HITL iteration 4: [0.925542241751155, 0.5183810079540373, 0.005383695380934409, 0.062468516883901995, 0.2999727404758229, 0.9896041884100504, 0.822661277146479, 0.013432628002411833]\n",
      "New queried dataset size: 56\n",
      "Combined dataset size: 704\n",
      "Saved augmented training data at output_bradley_terry_n_steps_100/R3_T5_Q8_acq_random_noise_0.0/REINVENT_round_2/HITL_iteration_4/iteration_combined_data.csv\n",
      "Epoch 5, Loss: 0.4719925243407488\n",
      "Epoch 10, Loss: 0.47157912887632847\n",
      "Epoch 15, Loss: 0.4711351990699768\n",
      "Epoch 20, Loss: 0.4706619158387184\n"
     ]
    },
    {
     "name": "stderr",
     "output_type": "stream",
     "text": [
      "Found local copy...\n"
     ]
    },
    {
     "name": "stdout",
     "output_type": "stream",
     "text": [
      "Epoch 25, Loss: 0.4701579939574003\n",
      "Saved retrained feedback model at output_bradley_terry_n_steps_100/R3_T5_Q8_acq_random_noise_0.0/REINVENT_round_2/HITL_iteration_4/bradley_terry_model.pth\n",
      "----------------------------------\n",
      "HITL iteration = 5\n",
      "Loading Bradley Terry model successfully from output_bradley_terry_n_steps_100/R3_T5_Q8_acq_random_noise_0.0/REINVENT_round_2/HITL_iteration_4/bradley_terry_model.pth\n",
      "Human score at HITL iteration 5: [0.19373237264550563, 0.0932143598986795, 0.9864309838515305, 0.07953546526451359, 0.004407401728934716, 0.7308030832706781, 0.7360592285413265, 0.051294544556001936]\n",
      "New queried dataset size: 56\n",
      "Combined dataset size: 760\n",
      "Saved augmented training data at output_bradley_terry_n_steps_100/R3_T5_Q8_acq_random_noise_0.0/REINVENT_round_2/HITL_iteration_5/iteration_combined_data.csv\n",
      "Epoch 5, Loss: 0.6837411349018415\n",
      "Epoch 10, Loss: 0.6829640592137972\n",
      "Epoch 15, Loss: 0.6821813036998113\n",
      "Epoch 20, Loss: 0.6813464909791946\n",
      "Epoch 25, Loss: 0.680475095907847\n",
      "Saved retrained feedback model at output_bradley_terry_n_steps_100/R3_T5_Q8_acq_random_noise_0.0/REINVENT_round_2/HITL_iteration_5/bradley_terry_model.pth\n",
      "=====================================\n",
      "REINVENT round = 3\n",
      "Creating config file: output_bradley_terry_n_steps_100/R3_T5_Q8_acq_random_noise_0.0/REINVENT_round_3/config.json.\n",
      "Run REINVENT\n",
      "Exit code: 0\n",
      "Number of SMILES in scaffold_memory.csv:  5000\n",
      "----------------------------------\n",
      "HITL iteration = 1\n"
     ]
    },
    {
     "name": "stderr",
     "output_type": "stream",
     "text": [
      "Found local copy...\n"
     ]
    },
    {
     "name": "stdout",
     "output_type": "stream",
     "text": [
      "Loading Bradley Terry model successfully from output_bradley_terry_n_steps_100/R3_T5_Q8_acq_random_noise_0.0/REINVENT_round_2/HITL_iteration_5/bradley_terry_model.pth\n",
      "Human score at HITL iteration 1: [0.770598548548446, 0.004838287407225619, 0.0956937070742309, 0.4288577515943536, 0.9921585097115483, 0.8112441561540991, 0.009439092461562158, 0.8358113526390882]\n",
      "New queried dataset size: 56\n",
      "Combined dataset size: 816\n",
      "Saved augmented training data at output_bradley_terry_n_steps_100/R3_T5_Q8_acq_random_noise_0.0/REINVENT_round_3/HITL_iteration_1/iteration_combined_data.csv\n",
      "Epoch 5, Loss: 1.1054775603115559\n",
      "Epoch 10, Loss: 1.1038159541785717\n",
      "Epoch 15, Loss: 1.1026147603988647\n",
      "Epoch 20, Loss: 1.1011056043207645\n",
      "Epoch 25, Loss: 1.0995647944509983\n",
      "Saved retrained feedback model at output_bradley_terry_n_steps_100/R3_T5_Q8_acq_random_noise_0.0/REINVENT_round_3/HITL_iteration_1/bradley_terry_model.pth\n",
      "----------------------------------\n",
      "HITL iteration = 2\n"
     ]
    },
    {
     "name": "stderr",
     "output_type": "stream",
     "text": [
      "Found local copy...\n"
     ]
    },
    {
     "name": "stdout",
     "output_type": "stream",
     "text": [
      "Loading Bradley Terry model successfully from output_bradley_terry_n_steps_100/R3_T5_Q8_acq_random_noise_0.0/REINVENT_round_3/HITL_iteration_1/bradley_terry_model.pth\n",
      "Human score at HITL iteration 2: [0.9290545207123697, 0.9690642447544274, 0.0014184260427588388, 0.0090010513247087, 0.8811732700883249, 0.9665174525952466, 0.27081844065895305, 0.005565570555152033]\n",
      "New queried dataset size: 56\n",
      "Combined dataset size: 872\n",
      "Saved augmented training data at output_bradley_terry_n_steps_100/R3_T5_Q8_acq_random_noise_0.0/REINVENT_round_3/HITL_iteration_2/iteration_combined_data.csv\n",
      "Epoch 5, Loss: 2.3663239553570747\n",
      "Epoch 10, Loss: 2.362551234662533\n",
      "Epoch 15, Loss: 2.358645610511303\n",
      "Epoch 20, Loss: 2.354751281440258\n"
     ]
    },
    {
     "name": "stderr",
     "output_type": "stream",
     "text": [
      "Found local copy...\n"
     ]
    },
    {
     "name": "stdout",
     "output_type": "stream",
     "text": [
      "Epoch 25, Loss: 2.3522233739495277\n",
      "Saved retrained feedback model at output_bradley_terry_n_steps_100/R3_T5_Q8_acq_random_noise_0.0/REINVENT_round_3/HITL_iteration_2/bradley_terry_model.pth\n",
      "----------------------------------\n",
      "HITL iteration = 3\n",
      "Loading Bradley Terry model successfully from output_bradley_terry_n_steps_100/R3_T5_Q8_acq_random_noise_0.0/REINVENT_round_3/HITL_iteration_2/bradley_terry_model.pth\n",
      "Human score at HITL iteration 3: [0.005378469899247865, 0.8250182021519181, 0.9921468642731671, 0.9610123522121001, 0.006330984961924078, 0.12330281919598472, 0.6527343525339896, 0.35721089534749023]\n",
      "New queried dataset size: 56\n",
      "Combined dataset size: 928\n",
      "Saved augmented training data at output_bradley_terry_n_steps_100/R3_T5_Q8_acq_random_noise_0.0/REINVENT_round_3/HITL_iteration_3/iteration_combined_data.csv\n",
      "Epoch 5, Loss: 0.6083483379334211\n",
      "Epoch 10, Loss: 0.6074610650539398\n",
      "Epoch 15, Loss: 0.6066180597990751\n",
      "Epoch 20, Loss: 0.6058232579380274\n"
     ]
    },
    {
     "name": "stderr",
     "output_type": "stream",
     "text": [
      "Found local copy...\n"
     ]
    },
    {
     "name": "stdout",
     "output_type": "stream",
     "text": [
      "Epoch 25, Loss: 0.6050834003835917\n",
      "Saved retrained feedback model at output_bradley_terry_n_steps_100/R3_T5_Q8_acq_random_noise_0.0/REINVENT_round_3/HITL_iteration_3/bradley_terry_model.pth\n",
      "----------------------------------\n",
      "HITL iteration = 4\n",
      "Loading Bradley Terry model successfully from output_bradley_terry_n_steps_100/R3_T5_Q8_acq_random_noise_0.0/REINVENT_round_3/HITL_iteration_3/bradley_terry_model.pth\n",
      "Human score at HITL iteration 4: [0.09330679554986362, 0.1085121016752364, 0.9112676424011961, 0.2903980409562721, 0.33187012229088286, 0.4364488601807821, 0.03021668925691264, 0.8944354976709779]\n",
      "New queried dataset size: 56\n",
      "Combined dataset size: 984\n",
      "Saved augmented training data at output_bradley_terry_n_steps_100/R3_T5_Q8_acq_random_noise_0.0/REINVENT_round_3/HITL_iteration_4/iteration_combined_data.csv\n",
      "Epoch 5, Loss: 0.8626489241917928\n",
      "Epoch 10, Loss: 0.8614922215541204\n",
      "Epoch 15, Loss: 0.8605886623263359\n",
      "Epoch 20, Loss: 0.859765479962031\n"
     ]
    },
    {
     "name": "stderr",
     "output_type": "stream",
     "text": [
      "Found local copy...\n"
     ]
    },
    {
     "name": "stdout",
     "output_type": "stream",
     "text": [
      "Epoch 25, Loss: 0.8588990991314253\n",
      "Saved retrained feedback model at output_bradley_terry_n_steps_100/R3_T5_Q8_acq_random_noise_0.0/REINVENT_round_3/HITL_iteration_4/bradley_terry_model.pth\n",
      "----------------------------------\n",
      "HITL iteration = 5\n",
      "Loading Bradley Terry model successfully from output_bradley_terry_n_steps_100/R3_T5_Q8_acq_random_noise_0.0/REINVENT_round_3/HITL_iteration_4/bradley_terry_model.pth\n",
      "Human score at HITL iteration 5: [0.08592188559179509, 0.6110479850522711, 0.14977357365907715, 0.0009136791757081704, 0.9890506743295276, 0.45791454924028413, 0.9999991288175998, 0.19110494303777628]\n",
      "New queried dataset size: 56\n",
      "Combined dataset size: 1040\n",
      "Saved augmented training data at output_bradley_terry_n_steps_100/R3_T5_Q8_acq_random_noise_0.0/REINVENT_round_3/HITL_iteration_5/iteration_combined_data.csv\n",
      "Epoch 5, Loss: 1.370610386133194\n",
      "Epoch 10, Loss: 1.3701392449438572\n",
      "Epoch 15, Loss: 1.3691146522760391\n",
      "Epoch 20, Loss: 1.3676234483718872\n",
      "Epoch 25, Loss: 1.3670200668275356\n",
      "Saved retrained feedback model at output_bradley_terry_n_steps_100/R3_T5_Q8_acq_random_noise_0.0/REINVENT_round_3/HITL_iteration_5/bradley_terry_model.pth\n",
      "=====================================\n",
      "REINVENT round = 4\n",
      "Creating config file: output_bradley_terry_n_steps_100/R3_T5_Q8_acq_random_noise_0.0/REINVENT_round_4/config.json.\n",
      "Run REINVENT\n",
      "Exit code: 0\n",
      "\n",
      "*******************************************************************\n",
      "Running HITL with random acquisition and noise 0.1\n",
      "\n",
      "Running DRD2 (one objective) with rounds 3, iters 5, queries 8, seed 42\n",
      "Results will be saved at output_bradley_terry_n_steps_100/R3_T5_Q8_acq_random_noise_0.1\n",
      "Loading initial training datasets successfully\n",
      "=====================================\n",
      "REINVENT round = 1\n",
      "Creating config file: output_bradley_terry_n_steps_100/R3_T5_Q8_acq_random_noise_0.1/REINVENT_round_1/config.json.\n",
      "Run REINVENT\n",
      "Exit code: 0\n",
      "Number of SMILES in scaffold_memory.csv:  5006\n",
      "----------------------------------\n",
      "HITL iteration = 1\n"
     ]
    },
    {
     "name": "stderr",
     "output_type": "stream",
     "text": [
      "Found local copy...\n"
     ]
    },
    {
     "name": "stdout",
     "output_type": "stream",
     "text": [
      "Loading Bradley Terry model successfully from /home/springnuance/reinvent-hitl/Base-Code-Binh/training_Bradley_Terry_model/bradley_terry_model.pth\n",
      "Human score at HITL iteration 1: [0.08245096486397238, 0.0, 1.0, 0.15703190045215146, 0.03312457972210482, 0.0, 0.1790329811244303, 0.07853704843736439]\n",
      "New queried dataset size: 56\n",
      "Combined dataset size: 256\n",
      "Saved augmented training data at output_bradley_terry_n_steps_100/R3_T5_Q8_acq_random_noise_0.1/REINVENT_round_1/HITL_iteration_1/iteration_combined_data.csv\n",
      "Epoch 5, Loss: 0.1732612196356058\n",
      "Epoch 10, Loss: 0.17324575781822205\n",
      "Epoch 15, Loss: 0.17323016561567783\n",
      "Epoch 20, Loss: 0.17321433499455452\n"
     ]
    },
    {
     "name": "stderr",
     "output_type": "stream",
     "text": [
      "Found local copy...\n"
     ]
    },
    {
     "name": "stdout",
     "output_type": "stream",
     "text": [
      "Epoch 25, Loss: 0.1731983870267868\n",
      "Saved retrained feedback model at output_bradley_terry_n_steps_100/R3_T5_Q8_acq_random_noise_0.1/REINVENT_round_1/HITL_iteration_1/bradley_terry_model.pth\n",
      "----------------------------------\n",
      "HITL iteration = 2\n",
      "Loading Bradley Terry model successfully from output_bradley_terry_n_steps_100/R3_T5_Q8_acq_random_noise_0.1/REINVENT_round_1/HITL_iteration_1/bradley_terry_model.pth\n",
      "Human score at HITL iteration 2: [0.0, 0.05955574093861862, 0.0, 0.0, 0.02490396162364005, 0.34082912481777017, 0.0, 0.0]\n",
      "New queried dataset size: 56\n",
      "Combined dataset size: 312\n",
      "Saved augmented training data at output_bradley_terry_n_steps_100/R3_T5_Q8_acq_random_noise_0.1/REINVENT_round_1/HITL_iteration_2/iteration_combined_data.csv\n",
      "Epoch 5, Loss: 0.28866085906823474\n",
      "Epoch 10, Loss: 0.2886335452397664\n",
      "Epoch 15, Loss: 0.28860505173603695\n",
      "Epoch 20, Loss: 0.2885754356781642\n"
     ]
    },
    {
     "name": "stderr",
     "output_type": "stream",
     "text": [
      "Found local copy...\n"
     ]
    },
    {
     "name": "stdout",
     "output_type": "stream",
     "text": [
      "Epoch 25, Loss: 0.2885403310259183\n",
      "Saved retrained feedback model at output_bradley_terry_n_steps_100/R3_T5_Q8_acq_random_noise_0.1/REINVENT_round_1/HITL_iteration_2/bradley_terry_model.pth\n",
      "----------------------------------\n",
      "HITL iteration = 3\n",
      "Loading Bradley Terry model successfully from output_bradley_terry_n_steps_100/R3_T5_Q8_acq_random_noise_0.1/REINVENT_round_1/HITL_iteration_2/bradley_terry_model.pth\n",
      "Human score at HITL iteration 3: [0.0, 0.7442797036925725, 0.0, 0.0, 0.15528660345759335, 0.0, 0.8161804073860393, 0.0]\n",
      "New queried dataset size: 56\n",
      "Combined dataset size: 368\n",
      "Saved augmented training data at output_bradley_terry_n_steps_100/R3_T5_Q8_acq_random_noise_0.1/REINVENT_round_1/HITL_iteration_3/iteration_combined_data.csv\n",
      "Epoch 5, Loss: 0.5193737931549549\n",
      "Epoch 10, Loss: 0.5193228684365749\n",
      "Epoch 15, Loss: 0.5192335061728954\n",
      "Epoch 20, Loss: 0.5191640444099903\n"
     ]
    },
    {
     "name": "stderr",
     "output_type": "stream",
     "text": [
      "Found local copy...\n"
     ]
    },
    {
     "name": "stdout",
     "output_type": "stream",
     "text": [
      "Epoch 25, Loss: 0.5190617963671684\n",
      "Saved retrained feedback model at output_bradley_terry_n_steps_100/R3_T5_Q8_acq_random_noise_0.1/REINVENT_round_1/HITL_iteration_3/bradley_terry_model.pth\n",
      "----------------------------------\n",
      "HITL iteration = 4\n",
      "Loading Bradley Terry model successfully from output_bradley_terry_n_steps_100/R3_T5_Q8_acq_random_noise_0.1/REINVENT_round_1/HITL_iteration_3/bradley_terry_model.pth\n",
      "Human score at HITL iteration 4: [0.0, 0.10254660930617622, 0.0, 0.04565446414798315, 0.0, 0.8164323261367623, 0.0, 0.1853695312750083]\n",
      "New queried dataset size: 56\n",
      "Combined dataset size: 424\n",
      "Saved augmented training data at output_bradley_terry_n_steps_100/R3_T5_Q8_acq_random_noise_0.1/REINVENT_round_1/HITL_iteration_4/iteration_combined_data.csv\n",
      "Epoch 5, Loss: 1.2111235707998276\n",
      "Epoch 10, Loss: 1.210967242717743\n",
      "Epoch 15, Loss: 1.2106625065207481\n",
      "Epoch 20, Loss: 1.210441306233406\n"
     ]
    },
    {
     "name": "stderr",
     "output_type": "stream",
     "text": [
      "Found local copy...\n"
     ]
    },
    {
     "name": "stdout",
     "output_type": "stream",
     "text": [
      "Epoch 25, Loss: 1.210030734539032\n",
      "Saved retrained feedback model at output_bradley_terry_n_steps_100/R3_T5_Q8_acq_random_noise_0.1/REINVENT_round_1/HITL_iteration_4/bradley_terry_model.pth\n",
      "----------------------------------\n",
      "HITL iteration = 5\n",
      "Loading Bradley Terry model successfully from output_bradley_terry_n_steps_100/R3_T5_Q8_acq_random_noise_0.1/REINVENT_round_1/HITL_iteration_4/bradley_terry_model.pth\n",
      "Human score at HITL iteration 5: [0.00979655781818078, 0.0, 0.09074115717307754, 0.0, 0.030288963389955088, 0.0, 0.0, 0.0321952041269056]\n",
      "New queried dataset size: 56\n",
      "Combined dataset size: 480\n",
      "Saved augmented training data at output_bradley_terry_n_steps_100/R3_T5_Q8_acq_random_noise_0.1/REINVENT_round_1/HITL_iteration_5/iteration_combined_data.csv\n",
      "Epoch 5, Loss: 0.3241587784141302\n",
      "Epoch 10, Loss: 0.3240817282348871\n",
      "Epoch 15, Loss: 0.3239973168820143\n",
      "Epoch 20, Loss: 0.32390547171235085\n",
      "Epoch 25, Loss: 0.32380469515919685\n",
      "Saved retrained feedback model at output_bradley_terry_n_steps_100/R3_T5_Q8_acq_random_noise_0.1/REINVENT_round_1/HITL_iteration_5/bradley_terry_model.pth\n",
      "=====================================\n",
      "REINVENT round = 2\n",
      "Creating config file: output_bradley_terry_n_steps_100/R3_T5_Q8_acq_random_noise_0.1/REINVENT_round_2/config.json.\n",
      "Run REINVENT\n",
      "Exit code: 0\n",
      "Number of SMILES in scaffold_memory.csv:  5008\n",
      "----------------------------------\n",
      "HITL iteration = 1\n"
     ]
    },
    {
     "name": "stderr",
     "output_type": "stream",
     "text": [
      "Found local copy...\n"
     ]
    },
    {
     "name": "stdout",
     "output_type": "stream",
     "text": [
      "Loading Bradley Terry model successfully from output_bradley_terry_n_steps_100/R3_T5_Q8_acq_random_noise_0.1/REINVENT_round_1/HITL_iteration_5/bradley_terry_model.pth\n",
      "Human score at HITL iteration 1: [0.27145167502932865, 0.020387075115767997, 0.1937458272324974, 0.25393817128688995, 0.27809474836972825, 0.3936966325139222, 0.17635950259642222, 0.5641155572519635]\n",
      "New queried dataset size: 56\n",
      "Combined dataset size: 536\n",
      "Saved augmented training data at output_bradley_terry_n_steps_100/R3_T5_Q8_acq_random_noise_0.1/REINVENT_round_2/HITL_iteration_1/iteration_combined_data.csv\n",
      "Epoch 5, Loss: 0.4893258661031723\n",
      "Epoch 10, Loss: 0.48914311577876407\n",
      "Epoch 15, Loss: 0.48898378511269885\n",
      "Epoch 20, Loss: 0.48878216991821927\n"
     ]
    },
    {
     "name": "stderr",
     "output_type": "stream",
     "text": [
      "Found local copy...\n"
     ]
    },
    {
     "name": "stdout",
     "output_type": "stream",
     "text": [
      "Epoch 25, Loss: 0.48858147114515305\n",
      "Saved retrained feedback model at output_bradley_terry_n_steps_100/R3_T5_Q8_acq_random_noise_0.1/REINVENT_round_2/HITL_iteration_1/bradley_terry_model.pth\n",
      "----------------------------------\n",
      "HITL iteration = 2\n",
      "Loading Bradley Terry model successfully from output_bradley_terry_n_steps_100/R3_T5_Q8_acq_random_noise_0.1/REINVENT_round_2/HITL_iteration_1/bradley_terry_model.pth\n",
      "Human score at HITL iteration 2: [0.04546155676326613, 0.0, 0.5591828013805368, 0.0, 0.6667723350292487, 0.25859567248257775, 0.3286383795101744, 0.164439203880699]\n",
      "New queried dataset size: 56\n",
      "Combined dataset size: 592\n",
      "Saved augmented training data at output_bradley_terry_n_steps_100/R3_T5_Q8_acq_random_noise_0.1/REINVENT_round_2/HITL_iteration_2/iteration_combined_data.csv\n",
      "Epoch 5, Loss: 0.819092370569706\n",
      "Epoch 10, Loss: 0.818731315433979\n",
      "Epoch 15, Loss: 0.818219967186451\n",
      "Epoch 20, Loss: 0.8177549503743649\n"
     ]
    },
    {
     "name": "stderr",
     "output_type": "stream",
     "text": [
      "Found local copy...\n"
     ]
    },
    {
     "name": "stdout",
     "output_type": "stream",
     "text": [
      "Epoch 25, Loss: 0.8173065818846226\n",
      "Saved retrained feedback model at output_bradley_terry_n_steps_100/R3_T5_Q8_acq_random_noise_0.1/REINVENT_round_2/HITL_iteration_2/bradley_terry_model.pth\n",
      "----------------------------------\n",
      "HITL iteration = 3\n",
      "Loading Bradley Terry model successfully from output_bradley_terry_n_steps_100/R3_T5_Q8_acq_random_noise_0.1/REINVENT_round_2/HITL_iteration_2/bradley_terry_model.pth\n",
      "Human score at HITL iteration 3: [0.0, 0.0, 0.12301826740266283, 0.48349635527233753, 0.0, 0.052926139478239986, 0.027316452973024374, 0.25741366875630717]\n",
      "New queried dataset size: 56\n",
      "Combined dataset size: 648\n",
      "Saved augmented training data at output_bradley_terry_n_steps_100/R3_T5_Q8_acq_random_noise_0.1/REINVENT_round_2/HITL_iteration_3/iteration_combined_data.csv\n",
      "Epoch 5, Loss: 1.8068761602044106\n",
      "Epoch 10, Loss: 1.8060286566615105\n",
      "Epoch 15, Loss: 1.8046246767044067\n",
      "Epoch 20, Loss: 1.803342342376709\n"
     ]
    },
    {
     "name": "stderr",
     "output_type": "stream",
     "text": [
      "Found local copy...\n"
     ]
    },
    {
     "name": "stdout",
     "output_type": "stream",
     "text": [
      "Epoch 25, Loss: 1.8017276152968407\n",
      "Saved retrained feedback model at output_bradley_terry_n_steps_100/R3_T5_Q8_acq_random_noise_0.1/REINVENT_round_2/HITL_iteration_3/bradley_terry_model.pth\n",
      "----------------------------------\n",
      "HITL iteration = 4\n",
      "Loading Bradley Terry model successfully from output_bradley_terry_n_steps_100/R3_T5_Q8_acq_random_noise_0.1/REINVENT_round_2/HITL_iteration_3/bradley_terry_model.pth\n",
      "Human score at HITL iteration 4: [0.14567959432708605, 1.0, 0.9741801569098597, 0.5718583217022617, 0.04147095699507404, 0.3210207839236845, 0.37495523981199874, 1.0]\n",
      "New queried dataset size: 56\n",
      "Combined dataset size: 704\n",
      "Saved augmented training data at output_bradley_terry_n_steps_100/R3_T5_Q8_acq_random_noise_0.1/REINVENT_round_2/HITL_iteration_4/iteration_combined_data.csv\n",
      "Epoch 5, Loss: 0.4716380797326565\n",
      "Epoch 10, Loss: 0.4712229687720537\n",
      "Epoch 15, Loss: 0.4707845728844404\n",
      "Epoch 20, Loss: 0.47032420709729195\n"
     ]
    },
    {
     "name": "stderr",
     "output_type": "stream",
     "text": [
      "Found local copy...\n"
     ]
    },
    {
     "name": "stdout",
     "output_type": "stream",
     "text": [
      "Epoch 25, Loss: 0.4698428437113762\n",
      "Saved retrained feedback model at output_bradley_terry_n_steps_100/R3_T5_Q8_acq_random_noise_0.1/REINVENT_round_2/HITL_iteration_4/bradley_terry_model.pth\n",
      "----------------------------------\n",
      "HITL iteration = 5\n",
      "Loading Bradley Terry model successfully from output_bradley_terry_n_steps_100/R3_T5_Q8_acq_random_noise_0.1/REINVENT_round_2/HITL_iteration_4/bradley_terry_model.pth\n",
      "Human score at HITL iteration 5: [0.15841503594903553, 1.0, 0.0, 1.0, 0.895684058974453, 0.577549904681119, 0.8289060210093037, 0.0]\n",
      "New queried dataset size: 56\n",
      "Combined dataset size: 760\n",
      "Saved augmented training data at output_bradley_terry_n_steps_100/R3_T5_Q8_acq_random_noise_0.1/REINVENT_round_2/HITL_iteration_5/iteration_combined_data.csv\n",
      "Epoch 5, Loss: 0.6832257484396299\n",
      "Epoch 10, Loss: 0.6824634869893392\n",
      "Epoch 15, Loss: 0.6816908145944277\n",
      "Epoch 20, Loss: 0.6808773204684258\n",
      "Epoch 25, Loss: 0.6801937520503998\n",
      "Saved retrained feedback model at output_bradley_terry_n_steps_100/R3_T5_Q8_acq_random_noise_0.1/REINVENT_round_2/HITL_iteration_5/bradley_terry_model.pth\n",
      "=====================================\n",
      "REINVENT round = 3\n",
      "Creating config file: output_bradley_terry_n_steps_100/R3_T5_Q8_acq_random_noise_0.1/REINVENT_round_3/config.json.\n",
      "Run REINVENT\n",
      "Exit code: 0\n",
      "Number of SMILES in scaffold_memory.csv:  5022\n",
      "----------------------------------\n",
      "HITL iteration = 1\n"
     ]
    },
    {
     "name": "stderr",
     "output_type": "stream",
     "text": [
      "Found local copy...\n"
     ]
    },
    {
     "name": "stdout",
     "output_type": "stream",
     "text": [
      "Loading Bradley Terry model successfully from output_bradley_terry_n_steps_100/R3_T5_Q8_acq_random_noise_0.1/REINVENT_round_2/HITL_iteration_5/bradley_terry_model.pth\n",
      "Human score at HITL iteration 1: [0.0033534155855538435, 0.6710297587093123, 0.15128977676009925, 0.27646919455976565, 0.8870916912703501, 0.9352176857391592, 0.6264306902520091, 0.2570861831087706]\n",
      "New queried dataset size: 56\n",
      "Combined dataset size: 816\n",
      "Saved augmented training data at output_bradley_terry_n_steps_100/R3_T5_Q8_acq_random_noise_0.1/REINVENT_round_3/HITL_iteration_1/iteration_combined_data.csv\n",
      "Epoch 5, Loss: 1.1049383357167244\n",
      "Epoch 10, Loss: 1.1036860793828964\n",
      "Epoch 15, Loss: 1.1021473482251167\n",
      "Epoch 20, Loss: 1.1007901914417744\n"
     ]
    },
    {
     "name": "stderr",
     "output_type": "stream",
     "text": [
      "Found local copy...\n"
     ]
    },
    {
     "name": "stdout",
     "output_type": "stream",
     "text": [
      "Epoch 25, Loss: 1.0994808040559292\n",
      "Saved retrained feedback model at output_bradley_terry_n_steps_100/R3_T5_Q8_acq_random_noise_0.1/REINVENT_round_3/HITL_iteration_1/bradley_terry_model.pth\n",
      "----------------------------------\n",
      "HITL iteration = 2\n",
      "Loading Bradley Terry model successfully from output_bradley_terry_n_steps_100/R3_T5_Q8_acq_random_noise_0.1/REINVENT_round_3/HITL_iteration_1/bradley_terry_model.pth\n",
      "Human score at HITL iteration 2: [0.038592978510306485, 0.9895076035980329, 0.7610886351003626, 0.6028065640505631, 0.7285168101218389, 0.025911738564892255, 0.0, 0.13604032091078344]\n",
      "New queried dataset size: 56\n",
      "Combined dataset size: 872\n",
      "Saved augmented training data at output_bradley_terry_n_steps_100/R3_T5_Q8_acq_random_noise_0.1/REINVENT_round_3/HITL_iteration_2/iteration_combined_data.csv\n",
      "Epoch 5, Loss: 2.368768312036991\n",
      "Epoch 10, Loss: 2.3667808696627617\n",
      "Epoch 15, Loss: 2.364069364964962\n",
      "Epoch 20, Loss: 2.3618344366550446\n"
     ]
    },
    {
     "name": "stderr",
     "output_type": "stream",
     "text": [
      "Found local copy...\n"
     ]
    },
    {
     "name": "stdout",
     "output_type": "stream",
     "text": [
      "Epoch 25, Loss: 2.3558224886655807\n",
      "Saved retrained feedback model at output_bradley_terry_n_steps_100/R3_T5_Q8_acq_random_noise_0.1/REINVENT_round_3/HITL_iteration_2/bradley_terry_model.pth\n",
      "----------------------------------\n",
      "HITL iteration = 3\n",
      "Loading Bradley Terry model successfully from output_bradley_terry_n_steps_100/R3_T5_Q8_acq_random_noise_0.1/REINVENT_round_3/HITL_iteration_2/bradley_terry_model.pth\n",
      "Human score at HITL iteration 3: [0.5144488369172285, 0.059597696166851746, 0.026453976092381825, 0.0, 0.37474671312603425, 0.0, 0.0, 0.4197722730778381]\n",
      "New queried dataset size: 56\n",
      "Combined dataset size: 928\n",
      "Saved augmented training data at output_bradley_terry_n_steps_100/R3_T5_Q8_acq_random_noise_0.1/REINVENT_round_3/HITL_iteration_3/iteration_combined_data.csv\n",
      "Epoch 5, Loss: 0.6108227930963039\n",
      "Epoch 10, Loss: 0.6101713050156832\n",
      "Epoch 15, Loss: 0.609562935307622\n",
      "Epoch 20, Loss: 0.6090008020401001\n"
     ]
    },
    {
     "name": "stderr",
     "output_type": "stream",
     "text": [
      "Found local copy...\n"
     ]
    },
    {
     "name": "stdout",
     "output_type": "stream",
     "text": [
      "Epoch 25, Loss: 0.6084869168698788\n",
      "Saved retrained feedback model at output_bradley_terry_n_steps_100/R3_T5_Q8_acq_random_noise_0.1/REINVENT_round_3/HITL_iteration_3/bradley_terry_model.pth\n",
      "----------------------------------\n",
      "HITL iteration = 4\n",
      "Loading Bradley Terry model successfully from output_bradley_terry_n_steps_100/R3_T5_Q8_acq_random_noise_0.1/REINVENT_round_3/HITL_iteration_3/bradley_terry_model.pth\n",
      "Human score at HITL iteration 4: [0.9730876194993847, 0.1885488425910674, 1.0, 0.03027583664874331, 0.05329613322614293, 0.42495220931682776, 0.6838751756160732, 0.055528114317896955]\n",
      "New queried dataset size: 56\n",
      "Combined dataset size: 984\n",
      "Saved augmented training data at output_bradley_terry_n_steps_100/R3_T5_Q8_acq_random_noise_0.1/REINVENT_round_3/HITL_iteration_4/iteration_combined_data.csv\n",
      "Epoch 5, Loss: 0.8666507254044215\n",
      "Epoch 10, Loss: 0.8660680626829466\n",
      "Epoch 15, Loss: 0.8653581192096075\n",
      "Epoch 20, Loss: 0.8646672690908114\n"
     ]
    },
    {
     "name": "stderr",
     "output_type": "stream",
     "text": [
      "Found local copy...\n"
     ]
    },
    {
     "name": "stdout",
     "output_type": "stream",
     "text": [
      "Epoch 25, Loss: 0.8643044208486875\n",
      "Saved retrained feedback model at output_bradley_terry_n_steps_100/R3_T5_Q8_acq_random_noise_0.1/REINVENT_round_3/HITL_iteration_4/bradley_terry_model.pth\n",
      "----------------------------------\n",
      "HITL iteration = 5\n",
      "Loading Bradley Terry model successfully from output_bradley_terry_n_steps_100/R3_T5_Q8_acq_random_noise_0.1/REINVENT_round_3/HITL_iteration_4/bradley_terry_model.pth\n",
      "Human score at HITL iteration 5: [0.7941052322626476, 0.4193430758685358, 0.34735799358943403, 0.45650089553044493, 0.002663661297605628, 0.0, 0.9046536912180762, 0.6290078464647576]\n",
      "New queried dataset size: 56\n",
      "Combined dataset size: 1040\n",
      "Saved augmented training data at output_bradley_terry_n_steps_100/R3_T5_Q8_acq_random_noise_0.1/REINVENT_round_3/HITL_iteration_5/iteration_combined_data.csv\n",
      "Epoch 5, Loss: 1.3822515979409218\n",
      "Epoch 10, Loss: 1.381676945835352\n",
      "Epoch 15, Loss: 1.3807810544967651\n",
      "Epoch 20, Loss: 1.3798800595104694\n",
      "Epoch 25, Loss: 1.3790230341255665\n",
      "Saved retrained feedback model at output_bradley_terry_n_steps_100/R3_T5_Q8_acq_random_noise_0.1/REINVENT_round_3/HITL_iteration_5/bradley_terry_model.pth\n",
      "=====================================\n",
      "REINVENT round = 4\n",
      "Creating config file: output_bradley_terry_n_steps_100/R3_T5_Q8_acq_random_noise_0.1/REINVENT_round_4/config.json.\n",
      "Run REINVENT\n",
      "Exit code: 0\n",
      "\n",
      "*******************************************************************\n",
      "Running HITL with uncertainty acquisition and noise 0.0\n",
      "\n",
      "Running DRD2 (one objective) with rounds 3, iters 5, queries 8, seed 42\n",
      "Results will be saved at output_bradley_terry_n_steps_100/R3_T5_Q8_acq_uncertainty_noise_0.0\n",
      "Loading initial training datasets successfully\n",
      "=====================================\n",
      "REINVENT round = 1\n",
      "Creating config file: output_bradley_terry_n_steps_100/R3_T5_Q8_acq_uncertainty_noise_0.0/REINVENT_round_1/config.json.\n",
      "Run REINVENT\n",
      "Exit code: 0\n",
      "Number of SMILES in scaffold_memory.csv:  5013\n",
      "----------------------------------\n",
      "HITL iteration = 1\n",
      "Loading Bradley Terry model successfully from /home/springnuance/reinvent-hitl/Base-Code-Binh/training_Bradley_Terry_model/bradley_terry_model.pth\n",
      "B1 processed | B2 processed | B3 processed | B4 processed | B5 processed | B6 processed | B7 processed | B8 processed | B9 processed | B10 processed | B11 processed | B12 processed | B13 processed | B14 processed | B15 processed | B16 processed | B17 processed | B18 processed | B19 processed | B20 processed | B21 processed | B22 processed | B23 processed | B24 processed | B25 processed | B26 processed | B27 processed | B28 processed | B29 processed | B30 processed | B31 processed | "
     ]
    },
    {
     "name": "stderr",
     "output_type": "stream",
     "text": [
      "Found local copy...\n"
     ]
    },
    {
     "name": "stdout",
     "output_type": "stream",
     "text": [
      "B32 processed | Human score at HITL iteration 1: [0.010143297455087144, 0.20465291388766668, 0.00023649490428469364, 0.005400994843364466, 0.11767158068121515, 0.002772167286958682, 0.001459807188483394, 0.0049433966537872865]\n",
      "New queried dataset size: 56\n",
      "Combined dataset size: 256\n",
      "Saved augmented training data at output_bradley_terry_n_steps_100/R3_T5_Q8_acq_uncertainty_noise_0.0/REINVENT_round_1/HITL_iteration_1/iteration_combined_data.csv\n",
      "Epoch 5, Loss: 0.1732646320015192\n",
      "Epoch 10, Loss: 0.17325115390121937\n",
      "Epoch 15, Loss: 0.1732375118881464\n",
      "Epoch 20, Loss: 0.17322379536926746\n",
      "Epoch 25, Loss: 0.17320975475013256\n",
      "Saved retrained feedback model at output_bradley_terry_n_steps_100/R3_T5_Q8_acq_uncertainty_noise_0.0/REINVENT_round_1/HITL_iteration_1/bradley_terry_model.pth\n",
      "----------------------------------\n",
      "HITL iteration = 2\n",
      "Loading Bradley Terry model successfully from output_bradley_terry_n_steps_100/R3_T5_Q8_acq_uncertainty_noise_0.0/REINVENT_round_1/HITL_iteration_1/bradley_terry_model.pth\n",
      "B1 processed | B2 processed | B3 processed | B4 processed | B5 processed | B6 processed | B7 processed | B8 processed | B9 processed | B10 processed | B11 processed | B12 processed | B13 processed | B14 processed | B15 processed | B16 processed | B17 processed | B18 processed | B19 processed | B20 processed | B21 processed | B22 processed | B23 processed | B24 processed | B25 processed | B26 processed | B27 processed | B28 processed | B29 processed | B30 processed | B31 processed | "
     ]
    },
    {
     "name": "stderr",
     "output_type": "stream",
     "text": [
      "Found local copy...\n"
     ]
    },
    {
     "name": "stdout",
     "output_type": "stream",
     "text": [
      "B32 processed | Human score at HITL iteration 2: [0.0007365844525018281, 0.0003151499625551182, 0.005207233723372037, 0.003564775193727409, 6.64697590109518e-05, 0.01233933834440316, 0.0019932079631331603, 0.0028696365176455146]\n",
      "New queried dataset size: 56\n",
      "Combined dataset size: 312\n",
      "Saved augmented training data at output_bradley_terry_n_steps_100/R3_T5_Q8_acq_uncertainty_noise_0.0/REINVENT_round_1/HITL_iteration_2/iteration_combined_data.csv\n",
      "Epoch 5, Loss: 0.2886843929688136\n",
      "Epoch 10, Loss: 0.2886616438627243\n",
      "Epoch 15, Loss: 0.2886362026135127\n",
      "Epoch 20, Loss: 0.2886131430665652\n",
      "Epoch 25, Loss: 0.28858598073323566\n",
      "Saved retrained feedback model at output_bradley_terry_n_steps_100/R3_T5_Q8_acq_uncertainty_noise_0.0/REINVENT_round_1/HITL_iteration_2/bradley_terry_model.pth\n",
      "----------------------------------\n",
      "HITL iteration = 3\n",
      "Loading Bradley Terry model successfully from output_bradley_terry_n_steps_100/R3_T5_Q8_acq_uncertainty_noise_0.0/REINVENT_round_1/HITL_iteration_2/bradley_terry_model.pth\n",
      "B1 processed | B2 processed | B3 processed | B4 processed | B5 processed | B6 processed | B7 processed | B8 processed | B9 processed | B10 processed | B11 processed | B12 processed | B13 processed | B14 processed | B15 processed | B16 processed | B17 processed | B18 processed | B19 processed | B20 processed | B21 processed | B22 processed | B23 processed | B24 processed | B25 processed | B26 processed | B27 processed | B28 processed | B29 processed | B30 processed | B31 processed | "
     ]
    },
    {
     "name": "stderr",
     "output_type": "stream",
     "text": [
      "Found local copy...\n"
     ]
    },
    {
     "name": "stdout",
     "output_type": "stream",
     "text": [
      "B32 processed | Human score at HITL iteration 3: [0.006518715539550085, 0.001253283441536972, 0.0028242419885667956, 0.0003318907817528527, 0.006894238078731267, 0.00028834996601815184, 0.05896208504507487, 0.0004365875343113789]\n",
      "New queried dataset size: 56\n",
      "Combined dataset size: 368\n",
      "Saved augmented training data at output_bradley_terry_n_steps_100/R3_T5_Q8_acq_uncertainty_noise_0.0/REINVENT_round_1/HITL_iteration_3/iteration_combined_data.csv\n",
      "Epoch 5, Loss: 0.5194727852940559\n",
      "Epoch 10, Loss: 0.5194302052259445\n",
      "Epoch 15, Loss: 0.5193713381886482\n",
      "Epoch 20, Loss: 0.5193053707480431\n",
      "Epoch 25, Loss: 0.5192697942256927\n",
      "Saved retrained feedback model at output_bradley_terry_n_steps_100/R3_T5_Q8_acq_uncertainty_noise_0.0/REINVENT_round_1/HITL_iteration_3/bradley_terry_model.pth\n",
      "----------------------------------\n",
      "HITL iteration = 4\n",
      "Loading Bradley Terry model successfully from output_bradley_terry_n_steps_100/R3_T5_Q8_acq_uncertainty_noise_0.0/REINVENT_round_1/HITL_iteration_3/bradley_terry_model.pth\n",
      "B1 processed | B2 processed | B3 processed | B4 processed | B5 processed | B6 processed | B7 processed | B8 processed | B9 processed | B10 processed | B11 processed | B12 processed | B13 processed | B14 processed | B15 processed | B16 processed | B17 processed | B18 processed | B19 processed | B20 processed | B21 processed | B22 processed | B23 processed | B24 processed | B25 processed | B26 processed | B27 processed | B28 processed | B29 processed | B30 processed | B31 processed | "
     ]
    },
    {
     "name": "stderr",
     "output_type": "stream",
     "text": [
      "Found local copy...\n"
     ]
    },
    {
     "name": "stdout",
     "output_type": "stream",
     "text": [
      "B32 processed | Human score at HITL iteration 4: [0.0030303895010010615, 0.0018455858545658095, 0.02424237115925525, 0.002735155283666129, 0.011811357328231185, 0.00116452180101434, 0.023633871903002684, 0.0188580495954744]\n",
      "New queried dataset size: 56\n",
      "Combined dataset size: 424\n",
      "Saved augmented training data at output_bradley_terry_n_steps_100/R3_T5_Q8_acq_uncertainty_noise_0.0/REINVENT_round_1/HITL_iteration_4/iteration_combined_data.csv\n",
      "Epoch 5, Loss: 1.2116405591368675\n",
      "Epoch 10, Loss: 1.211605228483677\n",
      "Epoch 15, Loss: 1.2114390134811401\n",
      "Epoch 20, Loss: 1.2111882790923119\n",
      "Epoch 25, Loss: 1.2111053615808487\n",
      "Saved retrained feedback model at output_bradley_terry_n_steps_100/R3_T5_Q8_acq_uncertainty_noise_0.0/REINVENT_round_1/HITL_iteration_4/bradley_terry_model.pth\n",
      "----------------------------------\n",
      "HITL iteration = 5\n",
      "Loading Bradley Terry model successfully from output_bradley_terry_n_steps_100/R3_T5_Q8_acq_uncertainty_noise_0.0/REINVENT_round_1/HITL_iteration_4/bradley_terry_model.pth\n",
      "B1 processed | B2 processed | B3 processed | B4 processed | B5 processed | B6 processed | B7 processed | B8 processed | B9 processed | B10 processed | B11 processed | B12 processed | B13 processed | B14 processed | B15 processed | B16 processed | B17 processed | B18 processed | B19 processed | B20 processed | B21 processed | B22 processed | B23 processed | B24 processed | B25 processed | B26 processed | B27 processed | B28 processed | B29 processed | B30 processed | B31 processed | "
     ]
    },
    {
     "name": "stderr",
     "output_type": "stream",
     "text": [
      "Found local copy...\n"
     ]
    },
    {
     "name": "stdout",
     "output_type": "stream",
     "text": [
      "B32 processed | Human score at HITL iteration 5: [0.003101895062255366, 0.003788761673547987, 0.005310119052172629, 0.0016953354679094968, 0.001863429146346757, 0.012737387640258195, 0.0016630455626806657, 0.0025549643311054875]\n",
      "New queried dataset size: 56\n",
      "Combined dataset size: 480\n",
      "Saved augmented training data at output_bradley_terry_n_steps_100/R3_T5_Q8_acq_uncertainty_noise_0.0/REINVENT_round_1/HITL_iteration_5/iteration_combined_data.csv\n",
      "Epoch 5, Loss: 0.3244046848267317\n",
      "Epoch 10, Loss: 0.3243576232343912\n",
      "Epoch 15, Loss: 0.3243064470589161\n",
      "Epoch 20, Loss: 0.32425121776759624\n",
      "Epoch 25, Loss: 0.32419054210186005\n",
      "Saved retrained feedback model at output_bradley_terry_n_steps_100/R3_T5_Q8_acq_uncertainty_noise_0.0/REINVENT_round_1/HITL_iteration_5/bradley_terry_model.pth\n",
      "=====================================\n",
      "REINVENT round = 2\n",
      "Creating config file: output_bradley_terry_n_steps_100/R3_T5_Q8_acq_uncertainty_noise_0.0/REINVENT_round_2/config.json.\n",
      "Run REINVENT\n",
      "Exit code: 0\n",
      "Number of SMILES in scaffold_memory.csv:  5011\n",
      "----------------------------------\n",
      "HITL iteration = 1\n",
      "Loading Bradley Terry model successfully from output_bradley_terry_n_steps_100/R3_T5_Q8_acq_uncertainty_noise_0.0/REINVENT_round_1/HITL_iteration_5/bradley_terry_model.pth\n",
      "B1 processed | B2 processed | B3 processed | B4 processed | B5 processed | B6 processed | B7 processed | B8 processed | B9 processed | B10 processed | B11 processed | B12 processed | B13 processed | B14 processed | B15 processed | B16 processed | B17 processed | B18 processed | B19 processed | B20 processed | B21 processed | B22 processed | B23 processed | B24 processed | B25 processed | B26 processed | B27 processed | B28 processed | B29 processed | B30 processed | B31 processed | "
     ]
    },
    {
     "name": "stderr",
     "output_type": "stream",
     "text": [
      "Found local copy...\n"
     ]
    },
    {
     "name": "stdout",
     "output_type": "stream",
     "text": [
      "B32 processed | Human score at HITL iteration 1: [0.47647350342920547, 0.9307022942621621, 0.19616999252149628, 0.21809776797123578, 0.13287469463296936, 0.07528893326029223, 0.030122255719028615, 0.031422182361981764]\n",
      "New queried dataset size: 56\n",
      "Combined dataset size: 536\n",
      "Saved augmented training data at output_bradley_terry_n_steps_100/R3_T5_Q8_acq_uncertainty_noise_0.0/REINVENT_round_2/HITL_iteration_1/iteration_combined_data.csv\n",
      "Epoch 5, Loss: 0.48990869770447415\n",
      "Epoch 10, Loss: 0.4898034284512202\n",
      "Epoch 15, Loss: 0.48967936138312024\n",
      "Epoch 20, Loss: 0.48957482477029163\n",
      "Epoch 25, Loss: 0.4894455373287201\n",
      "Saved retrained feedback model at output_bradley_terry_n_steps_100/R3_T5_Q8_acq_uncertainty_noise_0.0/REINVENT_round_2/HITL_iteration_1/bradley_terry_model.pth\n",
      "----------------------------------\n",
      "HITL iteration = 2\n",
      "Loading Bradley Terry model successfully from output_bradley_terry_n_steps_100/R3_T5_Q8_acq_uncertainty_noise_0.0/REINVENT_round_2/HITL_iteration_1/bradley_terry_model.pth\n",
      "B1 processed | B2 processed | B3 processed | B4 processed | B5 processed | B6 processed | B7 processed | B8 processed | B9 processed | B10 processed | B11 processed | B12 processed | B13 processed | B14 processed | B15 processed | B16 processed | B17 processed | B18 processed | B19 processed | B20 processed | B21 processed | B22 processed | B23 processed | B24 processed | B25 processed | B26 processed | B27 processed | B28 processed | B29 processed | B30 processed | B31 processed | "
     ]
    },
    {
     "name": "stderr",
     "output_type": "stream",
     "text": [
      "Found local copy...\n"
     ]
    },
    {
     "name": "stdout",
     "output_type": "stream",
     "text": [
      "B32 processed | Human score at HITL iteration 2: [0.8857830381293792, 0.08463782721854325, 0.38054865825884826, 0.5, 0.07260685757094362, 0.05723328457039798, 0.5633840160672563, 0.0034582538641472612]\n",
      "New queried dataset size: 56\n",
      "Combined dataset size: 592\n",
      "Saved augmented training data at output_bradley_terry_n_steps_100/R3_T5_Q8_acq_uncertainty_noise_0.0/REINVENT_round_2/HITL_iteration_2/iteration_combined_data.csv\n",
      "Epoch 5, Loss: 0.820600725710392\n",
      "Epoch 10, Loss: 0.8203552663326263\n",
      "Epoch 15, Loss: 0.8200594149529934\n",
      "Epoch 20, Loss: 0.8198315873742104\n",
      "Epoch 25, Loss: 0.8193659335374832\n",
      "Saved retrained feedback model at output_bradley_terry_n_steps_100/R3_T5_Q8_acq_uncertainty_noise_0.0/REINVENT_round_2/HITL_iteration_2/bradley_terry_model.pth\n",
      "----------------------------------\n",
      "HITL iteration = 3\n",
      "Loading Bradley Terry model successfully from output_bradley_terry_n_steps_100/R3_T5_Q8_acq_uncertainty_noise_0.0/REINVENT_round_2/HITL_iteration_2/bradley_terry_model.pth\n",
      "B1 processed | B2 processed | B3 processed | B4 processed | B5 processed | B6 processed | B7 processed | B8 processed | B9 processed | B10 processed | B11 processed | B12 processed | B13 processed | B14 processed | B15 processed | B16 processed | B17 processed | B18 processed | B19 processed | B20 processed | B21 processed | B22 processed | B23 processed | B24 processed | B25 processed | B26 processed | B27 processed | B28 processed | B29 processed | B30 processed | B31 processed | "
     ]
    },
    {
     "name": "stderr",
     "output_type": "stream",
     "text": [
      "Found local copy...\n"
     ]
    },
    {
     "name": "stdout",
     "output_type": "stream",
     "text": [
      "B32 processed | Human score at HITL iteration 3: [0.0629696530242022, 0.058377336135156485, 0.9268716327662263, 0.3128895519232362, 0.480058713315849, 0.10861734665925654, 0.41364980350488495, 0.6630418446709413]\n",
      "New queried dataset size: 56\n",
      "Combined dataset size: 648\n",
      "Saved augmented training data at output_bradley_terry_n_steps_100/R3_T5_Q8_acq_uncertainty_noise_0.0/REINVENT_round_2/HITL_iteration_3/iteration_combined_data.csv\n",
      "Epoch 5, Loss: 1.811353586614132\n",
      "Epoch 10, Loss: 1.8108002319931984\n",
      "Epoch 15, Loss: 1.8099960461258888\n",
      "Epoch 20, Loss: 1.808818556368351\n",
      "Epoch 25, Loss: 1.807961754500866\n",
      "Saved retrained feedback model at output_bradley_terry_n_steps_100/R3_T5_Q8_acq_uncertainty_noise_0.0/REINVENT_round_2/HITL_iteration_3/bradley_terry_model.pth\n",
      "----------------------------------\n",
      "HITL iteration = 4\n",
      "Loading Bradley Terry model successfully from output_bradley_terry_n_steps_100/R3_T5_Q8_acq_uncertainty_noise_0.0/REINVENT_round_2/HITL_iteration_3/bradley_terry_model.pth\n",
      "B1 processed | B2 processed | B3 processed | B4 processed | B5 processed | B6 processed | B7 processed | B8 processed | B9 processed | B10 processed | B11 processed | B12 processed | B13 processed | B14 processed | B15 processed | B16 processed | B17 processed | B18 processed | B19 processed | B20 processed | B21 processed | B22 processed | B23 processed | B24 processed | B25 processed | B26 processed | B27 processed | B28 processed | B29 processed | B30 processed | B31 processed | "
     ]
    },
    {
     "name": "stderr",
     "output_type": "stream",
     "text": [
      "Found local copy...\n"
     ]
    },
    {
     "name": "stdout",
     "output_type": "stream",
     "text": [
      "B32 processed | Human score at HITL iteration 4: [0.9785060270903793, 0.046311945258753914, 0.49151127976111275, 0.913062040065361, 0.0645356346296378, 0.9837509684954564, 0.45083057400233134, 0.03388770584337817]\n",
      "New queried dataset size: 56\n",
      "Combined dataset size: 704\n",
      "Saved augmented training data at output_bradley_terry_n_steps_100/R3_T5_Q8_acq_uncertainty_noise_0.0/REINVENT_round_2/HITL_iteration_4/iteration_combined_data.csv\n",
      "Epoch 5, Loss: 0.4735008329153061\n",
      "Epoch 10, Loss: 0.4732173699885607\n",
      "Epoch 15, Loss: 0.47291288897395134\n",
      "Epoch 20, Loss: 0.47258439287543297\n",
      "Epoch 25, Loss: 0.4722300320863724\n",
      "Saved retrained feedback model at output_bradley_terry_n_steps_100/R3_T5_Q8_acq_uncertainty_noise_0.0/REINVENT_round_2/HITL_iteration_4/bradley_terry_model.pth\n",
      "----------------------------------\n",
      "HITL iteration = 5\n",
      "Loading Bradley Terry model successfully from output_bradley_terry_n_steps_100/R3_T5_Q8_acq_uncertainty_noise_0.0/REINVENT_round_2/HITL_iteration_4/bradley_terry_model.pth\n",
      "B1 processed | B2 processed | B3 processed | B4 processed | B5 processed | B6 processed | B7 processed | B8 processed | B9 processed | B10 processed | B11 processed | B12 processed | B13 processed | B14 processed | B15 processed | B16 processed | B17 processed | B18 processed | B19 processed | B20 processed | B21 processed | B22 processed | B23 processed | B24 processed | B25 processed | B26 processed | B27 processed | B28 processed | B29 processed | B30 processed | B31 processed | "
     ]
    },
    {
     "name": "stderr",
     "output_type": "stream",
     "text": [
      "Found local copy...\n"
     ]
    },
    {
     "name": "stdout",
     "output_type": "stream",
     "text": [
      "B32 processed | Human score at HITL iteration 5: [0.674929559145446, 0.8316639122528494, 0.06397996536132795, 0.034875748069719284, 0.9057752306228789, 0.029771602502750114, 0.950154371104316, 0.02000426936584409]\n",
      "New queried dataset size: 56\n",
      "Combined dataset size: 760\n",
      "Saved augmented training data at output_bradley_terry_n_steps_100/R3_T5_Q8_acq_uncertainty_noise_0.0/REINVENT_round_2/HITL_iteration_5/iteration_combined_data.csv\n",
      "Epoch 5, Loss: 0.6867915590604147\n",
      "Epoch 10, Loss: 0.6862330461541811\n",
      "Epoch 15, Loss: 0.6856241474548975\n",
      "Epoch 20, Loss: 0.6849422579010328\n",
      "Epoch 25, Loss: 0.6843659952282906\n",
      "Saved retrained feedback model at output_bradley_terry_n_steps_100/R3_T5_Q8_acq_uncertainty_noise_0.0/REINVENT_round_2/HITL_iteration_5/bradley_terry_model.pth\n",
      "=====================================\n",
      "REINVENT round = 3\n",
      "Creating config file: output_bradley_terry_n_steps_100/R3_T5_Q8_acq_uncertainty_noise_0.0/REINVENT_round_3/config.json.\n",
      "Run REINVENT\n",
      "Exit code: 0\n",
      "Number of SMILES in scaffold_memory.csv:  5018\n",
      "----------------------------------\n",
      "HITL iteration = 1\n",
      "Loading Bradley Terry model successfully from output_bradley_terry_n_steps_100/R3_T5_Q8_acq_uncertainty_noise_0.0/REINVENT_round_2/HITL_iteration_5/bradley_terry_model.pth\n",
      "B1 processed | B2 processed | B3 processed | B4 processed | B5 processed | B6 processed | B7 processed | B8 processed | B9 processed | B10 processed | B11 processed | B12 processed | B13 processed | B14 processed | B15 processed | B16 processed | B17 processed | B18 processed | B19 processed | B20 processed | B21 processed | B22 processed | B23 processed | B24 processed | B25 processed | B26 processed | B27 processed | B28 processed | B29 processed | B30 processed | B31 processed | "
     ]
    },
    {
     "name": "stderr",
     "output_type": "stream",
     "text": [
      "Found local copy...\n"
     ]
    },
    {
     "name": "stdout",
     "output_type": "stream",
     "text": [
      "B32 processed | Human score at HITL iteration 1: [0.0922366198140413, 0.09841809506053044, 0.018698009223493663, 0.0026271374234826408, 0.3703727365821331, 0.17796453474028875, 0.6643251340310024, 0.4324735002539691]\n",
      "New queried dataset size: 56\n",
      "Combined dataset size: 816\n",
      "Saved augmented training data at output_bradley_terry_n_steps_100/R3_T5_Q8_acq_uncertainty_noise_0.0/REINVENT_round_3/HITL_iteration_1/iteration_combined_data.csv\n",
      "Epoch 5, Loss: 1.112001933157444\n",
      "Epoch 10, Loss: 1.1106475666165352\n",
      "Epoch 15, Loss: 1.1098204404115677\n",
      "Epoch 20, Loss: 1.1085877567529678\n",
      "Epoch 25, Loss: 1.107178445905447\n",
      "Saved retrained feedback model at output_bradley_terry_n_steps_100/R3_T5_Q8_acq_uncertainty_noise_0.0/REINVENT_round_3/HITL_iteration_1/bradley_terry_model.pth\n",
      "----------------------------------\n",
      "HITL iteration = 2\n",
      "Loading Bradley Terry model successfully from output_bradley_terry_n_steps_100/R3_T5_Q8_acq_uncertainty_noise_0.0/REINVENT_round_3/HITL_iteration_1/bradley_terry_model.pth\n",
      "B1 processed | B2 processed | B3 processed | B4 processed | B5 processed | B6 processed | B7 processed | B8 processed | B9 processed | B10 processed | B11 processed | B12 processed | B13 processed | B14 processed | B15 processed | B16 processed | B17 processed | B18 processed | B19 processed | B20 processed | B21 processed | B22 processed | B23 processed | B24 processed | B25 processed | B26 processed | B27 processed | B28 processed | B29 processed | B30 processed | B31 processed | "
     ]
    },
    {
     "name": "stderr",
     "output_type": "stream",
     "text": [
      "Found local copy...\n"
     ]
    },
    {
     "name": "stdout",
     "output_type": "stream",
     "text": [
      "B32 processed | Human score at HITL iteration 2: [0.06365793939578411, 0.03541369174647129, 0.050949577566351094, 0.10083469016300009, 0.9028088367805853, 0.9297645589163406, 0.586364024180676, 0.9751277803482011]\n",
      "New queried dataset size: 56\n",
      "Combined dataset size: 872\n",
      "Saved augmented training data at output_bradley_terry_n_steps_100/R3_T5_Q8_acq_uncertainty_noise_0.0/REINVENT_round_3/HITL_iteration_2/iteration_combined_data.csv\n",
      "Epoch 5, Loss: 2.385057643055916\n",
      "Epoch 10, Loss: 2.3826849907636642\n",
      "Epoch 15, Loss: 2.378015100955963\n",
      "Epoch 20, Loss: 2.3759644478559494\n",
      "Epoch 25, Loss: 2.373766243457794\n",
      "Saved retrained feedback model at output_bradley_terry_n_steps_100/R3_T5_Q8_acq_uncertainty_noise_0.0/REINVENT_round_3/HITL_iteration_2/bradley_terry_model.pth\n",
      "----------------------------------\n",
      "HITL iteration = 3\n",
      "Loading Bradley Terry model successfully from output_bradley_terry_n_steps_100/R3_T5_Q8_acq_uncertainty_noise_0.0/REINVENT_round_3/HITL_iteration_2/bradley_terry_model.pth\n",
      "B1 processed | B2 processed | B3 processed | B4 processed | B5 processed | B6 processed | B7 processed | B8 processed | B9 processed | B10 processed | B11 processed | B12 processed | B13 processed | B14 processed | B15 processed | B16 processed | B17 processed | B18 processed | B19 processed | B20 processed | B21 processed | B22 processed | B23 processed | B24 processed | B25 processed | B26 processed | B27 processed | B28 processed | B29 processed | B30 processed | B31 processed | "
     ]
    },
    {
     "name": "stderr",
     "output_type": "stream",
     "text": [
      "Found local copy...\n"
     ]
    },
    {
     "name": "stdout",
     "output_type": "stream",
     "text": [
      "B32 processed | Human score at HITL iteration 3: [0.48572010341723143, 0.8865984641253493, 0.9590918300266617, 0.3188750968185256, 0.010290537853909982, 0.20796788910519495, 0.14826915193507995, 0.01658264868099124]\n",
      "New queried dataset size: 56\n",
      "Combined dataset size: 928\n",
      "Saved augmented training data at output_bradley_terry_n_steps_100/R3_T5_Q8_acq_uncertainty_noise_0.0/REINVENT_round_3/HITL_iteration_3/iteration_combined_data.csv\n",
      "Epoch 5, Loss: 0.614621464163065\n",
      "Epoch 10, Loss: 0.6138672605156898\n",
      "Epoch 15, Loss: 0.6131340693682432\n",
      "Epoch 20, Loss: 0.6124178860336542\n",
      "Epoch 25, Loss: 0.6117369811981916\n",
      "Saved retrained feedback model at output_bradley_terry_n_steps_100/R3_T5_Q8_acq_uncertainty_noise_0.0/REINVENT_round_3/HITL_iteration_3/bradley_terry_model.pth\n",
      "----------------------------------\n",
      "HITL iteration = 4\n",
      "Loading Bradley Terry model successfully from output_bradley_terry_n_steps_100/R3_T5_Q8_acq_uncertainty_noise_0.0/REINVENT_round_3/HITL_iteration_3/bradley_terry_model.pth\n",
      "B1 processed | B2 processed | B3 processed | B4 processed | B5 processed | B6 processed | B7 processed | B8 processed | B9 processed | B10 processed | B11 processed | B12 processed | B13 processed | B14 processed | B15 processed | B16 processed | B17 processed | B18 processed | B19 processed | B20 processed | B21 processed | B22 processed | B23 processed | B24 processed | B25 processed | B26 processed | B27 processed | B28 processed | B29 processed | B30 processed | B31 processed | "
     ]
    },
    {
     "name": "stderr",
     "output_type": "stream",
     "text": [
      "Found local copy...\n"
     ]
    },
    {
     "name": "stdout",
     "output_type": "stream",
     "text": [
      "B32 processed | Human score at HITL iteration 4: [0.042791603620099115, 0.9449139635824343, 0.013866554054886964, 0.5218357391420372, 0.036221416152745205, 0.05643063182313027, 0.01856196599536398, 0.05833827956326468]\n",
      "New queried dataset size: 56\n",
      "Combined dataset size: 984\n",
      "Saved augmented training data at output_bradley_terry_n_steps_100/R3_T5_Q8_acq_uncertainty_noise_0.0/REINVENT_round_3/HITL_iteration_4/iteration_combined_data.csv\n",
      "Epoch 5, Loss: 0.8721255585551262\n",
      "Epoch 10, Loss: 0.8711348126331965\n",
      "Epoch 15, Loss: 0.870076447725296\n",
      "Epoch 20, Loss: 0.8692303970456123\n",
      "Epoch 25, Loss: 0.8683956041932106\n",
      "Saved retrained feedback model at output_bradley_terry_n_steps_100/R3_T5_Q8_acq_uncertainty_noise_0.0/REINVENT_round_3/HITL_iteration_4/bradley_terry_model.pth\n",
      "----------------------------------\n",
      "HITL iteration = 5\n",
      "Loading Bradley Terry model successfully from output_bradley_terry_n_steps_100/R3_T5_Q8_acq_uncertainty_noise_0.0/REINVENT_round_3/HITL_iteration_4/bradley_terry_model.pth\n",
      "B1 processed | B2 processed | B3 processed | B4 processed | B5 processed | B6 processed | B7 processed | B8 processed | B9 processed | B10 processed | B11 processed | B12 processed | B13 processed | B14 processed | B15 processed | B16 processed | B17 processed | B18 processed | B19 processed | B20 processed | B21 processed | B22 processed | B23 processed | B24 processed | B25 processed | B26 processed | B27 processed | B28 processed | B29 processed | B30 processed | B31 processed | "
     ]
    },
    {
     "name": "stderr",
     "output_type": "stream",
     "text": [
      "Found local copy...\n"
     ]
    },
    {
     "name": "stdout",
     "output_type": "stream",
     "text": [
      "B32 processed | Human score at HITL iteration 5: [0.007058094448683913, 0.012281854157498103, 0.6294648984761666, 0.11658139319840204, 0.17763777613403034, 0.808947298211348, 0.04227583366739886, 0.6137574213314975]\n",
      "New queried dataset size: 56\n",
      "Combined dataset size: 1040\n",
      "Saved augmented training data at output_bradley_terry_n_steps_100/R3_T5_Q8_acq_uncertainty_noise_0.0/REINVENT_round_3/HITL_iteration_5/iteration_combined_data.csv\n",
      "Epoch 5, Loss: 1.3872549645602703\n",
      "Epoch 10, Loss: 1.3859442956745625\n",
      "Epoch 15, Loss: 1.3848578110337257\n",
      "Epoch 20, Loss: 1.383369006216526\n",
      "Epoch 25, Loss: 1.3822244554758072\n",
      "Saved retrained feedback model at output_bradley_terry_n_steps_100/R3_T5_Q8_acq_uncertainty_noise_0.0/REINVENT_round_3/HITL_iteration_5/bradley_terry_model.pth\n",
      "=====================================\n",
      "REINVENT round = 4\n",
      "Creating config file: output_bradley_terry_n_steps_100/R3_T5_Q8_acq_uncertainty_noise_0.0/REINVENT_round_4/config.json.\n",
      "Run REINVENT\n",
      "Exit code: 0\n",
      "\n",
      "*******************************************************************\n",
      "Running HITL with uncertainty acquisition and noise 0.1\n",
      "\n",
      "Running DRD2 (one objective) with rounds 3, iters 5, queries 8, seed 42\n",
      "Results will be saved at output_bradley_terry_n_steps_100/R3_T5_Q8_acq_uncertainty_noise_0.1\n",
      "Loading initial training datasets successfully\n",
      "=====================================\n",
      "REINVENT round = 1\n",
      "Creating config file: output_bradley_terry_n_steps_100/R3_T5_Q8_acq_uncertainty_noise_0.1/REINVENT_round_1/config.json.\n",
      "Run REINVENT\n",
      "Exit code: 0\n",
      "Number of SMILES in scaffold_memory.csv:  4999\n",
      "----------------------------------\n",
      "HITL iteration = 1\n",
      "Loading Bradley Terry model successfully from /home/springnuance/reinvent-hitl/Base-Code-Binh/training_Bradley_Terry_model/bradley_terry_model.pth\n",
      "B1 processed | B2 processed | B3 processed | B4 processed | B5 processed | B6 processed | B7 processed | B8 processed | B9 processed | B10 processed | B11 processed | B12 processed | B13 processed | B14 processed | B15 processed | B16 processed | B17 processed | B18 processed | B19 processed | B20 processed | B21 processed | B22 processed | B23 processed | B24 processed | B25 processed | B26 processed | B27 processed | B28 processed | B29 processed | B30 processed | B31 processed | "
     ]
    },
    {
     "name": "stderr",
     "output_type": "stream",
     "text": [
      "Found local copy...\n"
     ]
    },
    {
     "name": "stdout",
     "output_type": "stream",
     "text": [
      "B32 processed | Human score at HITL iteration 1: [0.05078160109331271, 0.8473044711904966, 0.1768986436781071, 0.15752267106047235, 0.0, 0.0, 0.1586234366784945, 0.08024980020984387]\n",
      "New queried dataset size: 56\n",
      "Combined dataset size: 256\n",
      "Saved augmented training data at output_bradley_terry_n_steps_100/R3_T5_Q8_acq_uncertainty_noise_0.1/REINVENT_round_1/HITL_iteration_1/iteration_combined_data.csv\n",
      "Epoch 5, Loss: 0.17326255328953266\n",
      "Epoch 10, Loss: 0.1732468232512474\n",
      "Epoch 15, Loss: 0.17323093675076962\n",
      "Epoch 20, Loss: 0.17321491055190563\n",
      "Epoch 25, Loss: 0.17319879867136478\n",
      "Saved retrained feedback model at output_bradley_terry_n_steps_100/R3_T5_Q8_acq_uncertainty_noise_0.1/REINVENT_round_1/HITL_iteration_1/bradley_terry_model.pth\n",
      "----------------------------------\n",
      "HITL iteration = 2\n",
      "Loading Bradley Terry model successfully from output_bradley_terry_n_steps_100/R3_T5_Q8_acq_uncertainty_noise_0.1/REINVENT_round_1/HITL_iteration_1/bradley_terry_model.pth\n",
      "B1 processed | B2 processed | B3 processed | B4 processed | B5 processed | B6 processed | B7 processed | B8 processed | B9 processed | B10 processed | B11 processed | B12 processed | B13 processed | B14 processed | B15 processed | B16 processed | B17 processed | B18 processed | B19 processed | B20 processed | B21 processed | B22 processed | B23 processed | B24 processed | B25 processed | B26 processed | B27 processed | B28 processed | B29 processed | B30 processed | B31 processed | "
     ]
    },
    {
     "name": "stderr",
     "output_type": "stream",
     "text": [
      "Found local copy...\n"
     ]
    },
    {
     "name": "stdout",
     "output_type": "stream",
     "text": [
      "B32 processed | Human score at HITL iteration 2: [0.6110327427451129, 0.3178569570745927, 0.0, 0.024415831452660422, 0.026999528275130448, 0.0, 0.0, 0.0]\n",
      "New queried dataset size: 56\n",
      "Combined dataset size: 312\n",
      "Saved augmented training data at output_bradley_terry_n_steps_100/R3_T5_Q8_acq_uncertainty_noise_0.1/REINVENT_round_1/HITL_iteration_2/iteration_combined_data.csv\n",
      "Epoch 5, Loss: 0.28866341213385266\n",
      "Epoch 10, Loss: 0.2886321693658829\n",
      "Epoch 15, Loss: 0.2886016443371773\n",
      "Epoch 20, Loss: 0.28856710096200305\n",
      "Epoch 25, Loss: 0.2885348175962766\n",
      "Saved retrained feedback model at output_bradley_terry_n_steps_100/R3_T5_Q8_acq_uncertainty_noise_0.1/REINVENT_round_1/HITL_iteration_2/bradley_terry_model.pth\n",
      "----------------------------------\n",
      "HITL iteration = 3\n",
      "Loading Bradley Terry model successfully from output_bradley_terry_n_steps_100/R3_T5_Q8_acq_uncertainty_noise_0.1/REINVENT_round_1/HITL_iteration_2/bradley_terry_model.pth\n",
      "B1 processed | B2 processed | B3 processed | B4 processed | B5 processed | B6 processed | B7 processed | B8 processed | B9 processed | B10 processed | B11 processed | B12 processed | B13 processed | B14 processed | B15 processed | B16 processed | B17 processed | B18 processed | B19 processed | B20 processed | B21 processed | B22 processed | B23 processed | B24 processed | B25 processed | B26 processed | B27 processed | B28 processed | B29 processed | B30 processed | B31 processed | "
     ]
    },
    {
     "name": "stderr",
     "output_type": "stream",
     "text": [
      "Found local copy...\n"
     ]
    },
    {
     "name": "stdout",
     "output_type": "stream",
     "text": [
      "B32 processed | Human score at HITL iteration 3: [0.0, 0.04338083020070599, 0.0, 0.0, 0.14890034679424877, 0.0, 0.013311776232466287, 0.0]\n",
      "New queried dataset size: 56\n",
      "Combined dataset size: 368\n",
      "Saved augmented training data at output_bradley_terry_n_steps_100/R3_T5_Q8_acq_uncertainty_noise_0.1/REINVENT_round_1/HITL_iteration_3/iteration_combined_data.csv\n",
      "Epoch 5, Loss: 0.5193906053900719\n",
      "Epoch 10, Loss: 0.5193201750516891\n",
      "Epoch 15, Loss: 0.5192557238042355\n",
      "Epoch 20, Loss: 0.5191906541585922\n",
      "Epoch 25, Loss: 0.5191079899668694\n",
      "Saved retrained feedback model at output_bradley_terry_n_steps_100/R3_T5_Q8_acq_uncertainty_noise_0.1/REINVENT_round_1/HITL_iteration_3/bradley_terry_model.pth\n",
      "----------------------------------\n",
      "HITL iteration = 4\n",
      "Loading Bradley Terry model successfully from output_bradley_terry_n_steps_100/R3_T5_Q8_acq_uncertainty_noise_0.1/REINVENT_round_1/HITL_iteration_3/bradley_terry_model.pth\n",
      "B1 processed | B2 processed | B3 processed | B4 processed | B5 processed | B6 processed | B7 processed | B8 processed | B9 processed | B10 processed | B11 processed | B12 processed | B13 processed | B14 processed | B15 processed | B16 processed | B17 processed | B18 processed | B19 processed | B20 processed | B21 processed | B22 processed | B23 processed | B24 processed | B25 processed | B26 processed | B27 processed | B28 processed | B29 processed | B30 processed | B31 processed | "
     ]
    },
    {
     "name": "stderr",
     "output_type": "stream",
     "text": [
      "Found local copy...\n"
     ]
    },
    {
     "name": "stdout",
     "output_type": "stream",
     "text": [
      "B32 processed | Human score at HITL iteration 4: [0.0, 0.018476730188530317, 0.0, 0.044643057295785084, 0.0, 0.0, 0.0, 0.2075574864393163]\n",
      "New queried dataset size: 56\n",
      "Combined dataset size: 424\n",
      "Saved augmented training data at output_bradley_terry_n_steps_100/R3_T5_Q8_acq_uncertainty_noise_0.1/REINVENT_round_1/HITL_iteration_4/iteration_combined_data.csv\n",
      "Epoch 5, Loss: 1.211396001279354\n",
      "Epoch 10, Loss: 1.21114032715559\n",
      "Epoch 15, Loss: 1.2109474688768387\n",
      "Epoch 20, Loss: 1.2107356265187263\n",
      "Epoch 25, Loss: 1.210624821484089\n",
      "Saved retrained feedback model at output_bradley_terry_n_steps_100/R3_T5_Q8_acq_uncertainty_noise_0.1/REINVENT_round_1/HITL_iteration_4/bradley_terry_model.pth\n",
      "----------------------------------\n",
      "HITL iteration = 5\n",
      "Loading Bradley Terry model successfully from output_bradley_terry_n_steps_100/R3_T5_Q8_acq_uncertainty_noise_0.1/REINVENT_round_1/HITL_iteration_4/bradley_terry_model.pth\n",
      "B1 processed | B2 processed | B3 processed | B4 processed | B5 processed | B6 processed | B7 processed | B8 processed | B9 processed | B10 processed | B11 processed | B12 processed | B13 processed | B14 processed | B15 processed | B16 processed | B17 processed | B18 processed | B19 processed | B20 processed | B21 processed | B22 processed | B23 processed | B24 processed | B25 processed | B26 processed | B27 processed | B28 processed | B29 processed | B30 processed | B31 processed | "
     ]
    },
    {
     "name": "stderr",
     "output_type": "stream",
     "text": [
      "Found local copy...\n"
     ]
    },
    {
     "name": "stdout",
     "output_type": "stream",
     "text": [
      "B32 processed | Human score at HITL iteration 5: [0.0, 0.02118984998650221, 0.17759213336505938, 0.0, 0.024027734840541718, 0.0, 0.0, 0.033970640032362505]\n",
      "New queried dataset size: 56\n",
      "Combined dataset size: 480\n",
      "Saved augmented training data at output_bradley_terry_n_steps_100/R3_T5_Q8_acq_uncertainty_noise_0.1/REINVENT_round_1/HITL_iteration_5/iteration_combined_data.csv\n",
      "Epoch 5, Loss: 0.3242576830089092\n",
      "Epoch 10, Loss: 0.32419404946267605\n",
      "Epoch 15, Loss: 0.3241254147142172\n",
      "Epoch 20, Loss: 0.3240503519773483\n",
      "Epoch 25, Loss: 0.32396798953413963\n",
      "Saved retrained feedback model at output_bradley_terry_n_steps_100/R3_T5_Q8_acq_uncertainty_noise_0.1/REINVENT_round_1/HITL_iteration_5/bradley_terry_model.pth\n",
      "=====================================\n",
      "REINVENT round = 2\n",
      "Creating config file: output_bradley_terry_n_steps_100/R3_T5_Q8_acq_uncertainty_noise_0.1/REINVENT_round_2/config.json.\n",
      "Run REINVENT\n",
      "Exit code: 0\n",
      "Number of SMILES in scaffold_memory.csv:  4982\n",
      "----------------------------------\n",
      "HITL iteration = 1\n",
      "Loading Bradley Terry model successfully from output_bradley_terry_n_steps_100/R3_T5_Q8_acq_uncertainty_noise_0.1/REINVENT_round_1/HITL_iteration_5/bradley_terry_model.pth\n",
      "B1 processed | B2 processed | B3 processed | B4 processed | B5 processed | B6 processed | B7 processed | B8 processed | B9 processed | B10 processed | B11 processed | B12 processed | B13 processed | B14 processed | B15 processed | B16 processed | B17 processed | B18 processed | B19 processed | B20 processed | B21 processed | B22 processed | B23 processed | B24 processed | B25 processed | B26 processed | B27 processed | B28 processed | B29 processed | B30 processed | B31 processed | "
     ]
    },
    {
     "name": "stderr",
     "output_type": "stream",
     "text": [
      "Found local copy...\n"
     ]
    },
    {
     "name": "stdout",
     "output_type": "stream",
     "text": [
      "B32 processed | Human score at HITL iteration 1: [0.3153000519584172, 0.7582806314848285, 0.02775872078014738, 0.8587143665551478, 0.0, 0.9030511732940231, 0.839952791480131, 0.16773110058746152]\n",
      "New queried dataset size: 56\n",
      "Combined dataset size: 536\n",
      "Saved augmented training data at output_bradley_terry_n_steps_100/R3_T5_Q8_acq_uncertainty_noise_0.1/REINVENT_round_2/HITL_iteration_1/iteration_combined_data.csv\n",
      "Epoch 5, Loss: 0.4895668625831604\n",
      "Epoch 10, Loss: 0.4894406547149022\n",
      "Epoch 15, Loss: 0.48928363621234894\n",
      "Epoch 20, Loss: 0.4891042436162631\n",
      "Epoch 25, Loss: 0.4889223451415698\n",
      "Saved retrained feedback model at output_bradley_terry_n_steps_100/R3_T5_Q8_acq_uncertainty_noise_0.1/REINVENT_round_2/HITL_iteration_1/bradley_terry_model.pth\n",
      "----------------------------------\n",
      "HITL iteration = 2\n",
      "Loading Bradley Terry model successfully from output_bradley_terry_n_steps_100/R3_T5_Q8_acq_uncertainty_noise_0.1/REINVENT_round_2/HITL_iteration_1/bradley_terry_model.pth\n",
      "B1 processed | B2 processed | B3 processed | B4 processed | B5 processed | B6 processed | B7 processed | B8 processed | B9 processed | B10 processed | B11 processed | B12 processed | B13 processed | B14 processed | B15 processed | B16 processed | B17 processed | B18 processed | B19 processed | B20 processed | B21 processed | B22 processed | B23 processed | B24 processed | B25 processed | B26 processed | B27 processed | B28 processed | B29 processed | B30 processed | B31 processed | "
     ]
    },
    {
     "name": "stderr",
     "output_type": "stream",
     "text": [
      "Found local copy...\n"
     ]
    },
    {
     "name": "stdout",
     "output_type": "stream",
     "text": [
      "B32 processed | Human score at HITL iteration 2: [0.3549706560879029, 0.0, 0.2791323540100675, 0.0, 0.012821699428501782, 0.23706639743796137, 0.9803764751589391, 0.4536103402197205]\n",
      "New queried dataset size: 56\n",
      "Combined dataset size: 592\n",
      "Saved augmented training data at output_bradley_terry_n_steps_100/R3_T5_Q8_acq_uncertainty_noise_0.1/REINVENT_round_2/HITL_iteration_2/iteration_combined_data.csv\n",
      "Epoch 5, Loss: 0.819682102650404\n",
      "Epoch 10, Loss: 0.8192990943789482\n",
      "Epoch 15, Loss: 0.8189341723918915\n",
      "Epoch 20, Loss: 0.8185942992568016\n",
      "Epoch 25, Loss: 0.818112201988697\n",
      "Saved retrained feedback model at output_bradley_terry_n_steps_100/R3_T5_Q8_acq_uncertainty_noise_0.1/REINVENT_round_2/HITL_iteration_2/bradley_terry_model.pth\n",
      "----------------------------------\n",
      "HITL iteration = 3\n",
      "Loading Bradley Terry model successfully from output_bradley_terry_n_steps_100/R3_T5_Q8_acq_uncertainty_noise_0.1/REINVENT_round_2/HITL_iteration_2/bradley_terry_model.pth\n",
      "B1 processed | B2 processed | B3 processed | B4 processed | B5 processed | B6 processed | B7 processed | B8 processed | B9 processed | B10 processed | B11 processed | B12 processed | B13 processed | B14 processed | B15 processed | B16 processed | B17 processed | B18 processed | B19 processed | B20 processed | B21 processed | B22 processed | B23 processed | B24 processed | B25 processed | B26 processed | B27 processed | B28 processed | B29 processed | B30 processed | B31 processed | "
     ]
    },
    {
     "name": "stderr",
     "output_type": "stream",
     "text": [
      "Found local copy...\n"
     ]
    },
    {
     "name": "stdout",
     "output_type": "stream",
     "text": [
      "B32 processed | Human score at HITL iteration 3: [0.0, 0.0037472341482967, 0.3542687633792322, 0.41809667047967225, 0.03274806328057066, 0.9083429791207811, 0.0, 0.0]\n",
      "New queried dataset size: 56\n",
      "Combined dataset size: 648\n",
      "Saved augmented training data at output_bradley_terry_n_steps_100/R3_T5_Q8_acq_uncertainty_noise_0.1/REINVENT_round_2/HITL_iteration_3/iteration_combined_data.csv\n",
      "Epoch 5, Loss: 1.807805709540844\n",
      "Epoch 10, Loss: 1.8067012801766396\n",
      "Epoch 15, Loss: 1.8063217774033546\n",
      "Epoch 20, Loss: 1.8046361356973648\n",
      "Epoch 25, Loss: 1.8034907802939415\n",
      "Saved retrained feedback model at output_bradley_terry_n_steps_100/R3_T5_Q8_acq_uncertainty_noise_0.1/REINVENT_round_2/HITL_iteration_3/bradley_terry_model.pth\n",
      "----------------------------------\n",
      "HITL iteration = 4\n",
      "Loading Bradley Terry model successfully from output_bradley_terry_n_steps_100/R3_T5_Q8_acq_uncertainty_noise_0.1/REINVENT_round_2/HITL_iteration_3/bradley_terry_model.pth\n",
      "B1 processed | B2 processed | B3 processed | B4 processed | B5 processed | B6 processed | B7 processed | B8 processed | B9 processed | B10 processed | B11 processed | B12 processed | B13 processed | B14 processed | B15 processed | B16 processed | B17 processed | B18 processed | B19 processed | B20 processed | B21 processed | B22 processed | B23 processed | B24 processed | B25 processed | B26 processed | B27 processed | B28 processed | B29 processed | B30 processed | B31 processed | "
     ]
    },
    {
     "name": "stderr",
     "output_type": "stream",
     "text": [
      "Found local copy...\n"
     ]
    },
    {
     "name": "stdout",
     "output_type": "stream",
     "text": [
      "B32 processed | Human score at HITL iteration 4: [0.09839368785788899, 0.5865046258287624, 0.031882805943693804, 0.6934153457324473, 0.5029684723747005, 0.14375653930321436, 0.08754811424257855, 0.170899959036671]\n",
      "New queried dataset size: 56\n",
      "Combined dataset size: 704\n",
      "Saved augmented training data at output_bradley_terry_n_steps_100/R3_T5_Q8_acq_uncertainty_noise_0.1/REINVENT_round_2/HITL_iteration_4/iteration_combined_data.csv\n",
      "Epoch 5, Loss: 0.47238329239189625\n",
      "Epoch 10, Loss: 0.47201999463140965\n",
      "Epoch 15, Loss: 0.4716313537210226\n",
      "Epoch 20, Loss: 0.47121979482471943\n",
      "Epoch 25, Loss: 0.4707868229597807\n",
      "Saved retrained feedback model at output_bradley_terry_n_steps_100/R3_T5_Q8_acq_uncertainty_noise_0.1/REINVENT_round_2/HITL_iteration_4/bradley_terry_model.pth\n",
      "----------------------------------\n",
      "HITL iteration = 5\n",
      "Loading Bradley Terry model successfully from output_bradley_terry_n_steps_100/R3_T5_Q8_acq_uncertainty_noise_0.1/REINVENT_round_2/HITL_iteration_4/bradley_terry_model.pth\n",
      "B1 processed | B2 processed | B3 processed | B4 processed | B5 processed | B6 processed | B7 processed | B8 processed | B9 processed | B10 processed | B11 processed | B12 processed | B13 processed | B14 processed | B15 processed | B16 processed | B17 processed | B18 processed | B19 processed | B20 processed | B21 processed | B22 processed | B23 processed | B24 processed | B25 processed | B26 processed | B27 processed | B28 processed | B29 processed | B30 processed | B31 processed | "
     ]
    },
    {
     "name": "stderr",
     "output_type": "stream",
     "text": [
      "Found local copy...\n"
     ]
    },
    {
     "name": "stdout",
     "output_type": "stream",
     "text": [
      "B32 processed | Human score at HITL iteration 5: [0.03935022658097026, 0.511973764952587, 0.0, 0.31336524876990424, 0.7674225484987419, 0.027832198148912746, 0.02474190024535943, 0.4521146921395888]\n",
      "New queried dataset size: 56\n",
      "Combined dataset size: 760\n",
      "Saved augmented training data at output_bradley_terry_n_steps_100/R3_T5_Q8_acq_uncertainty_noise_0.1/REINVENT_round_2/HITL_iteration_5/iteration_combined_data.csv\n",
      "Epoch 5, Loss: 0.6847991595665613\n",
      "Epoch 10, Loss: 0.6841777637600899\n",
      "Epoch 15, Loss: 0.6834130262335142\n",
      "Epoch 20, Loss: 0.6826996728777885\n",
      "Epoch 25, Loss: 0.6819852739572525\n",
      "Saved retrained feedback model at output_bradley_terry_n_steps_100/R3_T5_Q8_acq_uncertainty_noise_0.1/REINVENT_round_2/HITL_iteration_5/bradley_terry_model.pth\n",
      "=====================================\n",
      "REINVENT round = 3\n",
      "Creating config file: output_bradley_terry_n_steps_100/R3_T5_Q8_acq_uncertainty_noise_0.1/REINVENT_round_3/config.json.\n",
      "Run REINVENT\n",
      "Exit code: 0\n",
      "Number of SMILES in scaffold_memory.csv:  5011\n",
      "----------------------------------\n",
      "HITL iteration = 1\n",
      "Loading Bradley Terry model successfully from output_bradley_terry_n_steps_100/R3_T5_Q8_acq_uncertainty_noise_0.1/REINVENT_round_2/HITL_iteration_5/bradley_terry_model.pth\n",
      "B1 processed | B2 processed | B3 processed | B4 processed | B5 processed | B6 processed | B7 processed | B8 processed | B9 processed | B10 processed | B11 processed | B12 processed | B13 processed | B14 processed | B15 processed | B16 processed | B17 processed | B18 processed | B19 processed | B20 processed | B21 processed | B22 processed | B23 processed | B24 processed | B25 processed | B26 processed | B27 processed | B28 processed | B29 processed | B30 processed | B31 processed | "
     ]
    },
    {
     "name": "stderr",
     "output_type": "stream",
     "text": [
      "Found local copy...\n"
     ]
    },
    {
     "name": "stdout",
     "output_type": "stream",
     "text": [
      "B32 processed | Human score at HITL iteration 1: [0.08885292113594176, 0.5033708317096253, 0.22492550197940053, 0.6643442485540496, 0.6013218172678042, 0.8600640191121233, 0.11726703809261332, 0.038061719193900646]\n",
      "New queried dataset size: 56\n",
      "Combined dataset size: 816\n",
      "Saved augmented training data at output_bradley_terry_n_steps_100/R3_T5_Q8_acq_uncertainty_noise_0.1/REINVENT_round_3/HITL_iteration_1/iteration_combined_data.csv\n",
      "Epoch 5, Loss: 1.1084081307053566\n",
      "Epoch 10, Loss: 1.1070770509541035\n",
      "Epoch 15, Loss: 1.1057297885417938\n",
      "Epoch 20, Loss: 1.1046421639621258\n",
      "Epoch 25, Loss: 1.1032125987112522\n",
      "Saved retrained feedback model at output_bradley_terry_n_steps_100/R3_T5_Q8_acq_uncertainty_noise_0.1/REINVENT_round_3/HITL_iteration_1/bradley_terry_model.pth\n",
      "----------------------------------\n",
      "HITL iteration = 2\n",
      "Loading Bradley Terry model successfully from output_bradley_terry_n_steps_100/R3_T5_Q8_acq_uncertainty_noise_0.1/REINVENT_round_3/HITL_iteration_1/bradley_terry_model.pth\n",
      "B1 processed | B2 processed | B3 processed | B4 processed | B5 processed | B6 processed | B7 processed | B8 processed | B9 processed | B10 processed | B11 processed | B12 processed | B13 processed | B14 processed | B15 processed | B16 processed | B17 processed | B18 processed | B19 processed | B20 processed | B21 processed | B22 processed | B23 processed | B24 processed | B25 processed | B26 processed | B27 processed | B28 processed | B29 processed | B30 processed | B31 processed | "
     ]
    },
    {
     "name": "stderr",
     "output_type": "stream",
     "text": [
      "Found local copy...\n"
     ]
    },
    {
     "name": "stdout",
     "output_type": "stream",
     "text": [
      "B32 processed | Human score at HITL iteration 2: [0.9095107298529637, 1.0, 0.8340665165336514, 0.09987592135795291, 0.9124092623402114, 0.15671197792276576, 0.524178480071551, 0.8470178504097854]\n",
      "New queried dataset size: 56\n",
      "Combined dataset size: 872\n",
      "Saved augmented training data at output_bradley_terry_n_steps_100/R3_T5_Q8_acq_uncertainty_noise_0.1/REINVENT_round_3/HITL_iteration_2/iteration_combined_data.csv\n",
      "Epoch 5, Loss: 2.37522005289793\n",
      "Epoch 10, Loss: 2.3748558312654495\n",
      "Epoch 15, Loss: 2.3713199123740196\n",
      "Epoch 20, Loss: 2.3689786195755005\n",
      "Epoch 25, Loss: 2.3665596917271614\n",
      "Saved retrained feedback model at output_bradley_terry_n_steps_100/R3_T5_Q8_acq_uncertainty_noise_0.1/REINVENT_round_3/HITL_iteration_2/bradley_terry_model.pth\n",
      "----------------------------------\n",
      "HITL iteration = 3\n",
      "Loading Bradley Terry model successfully from output_bradley_terry_n_steps_100/R3_T5_Q8_acq_uncertainty_noise_0.1/REINVENT_round_3/HITL_iteration_2/bradley_terry_model.pth\n",
      "B1 processed | B2 processed | B3 processed | B4 processed | B5 processed | B6 processed | B7 processed | B8 processed | B9 processed | B10 processed | B11 processed | B12 processed | B13 processed | B14 processed | B15 processed | B16 processed | B17 processed | B18 processed | B19 processed | B20 processed | B21 processed | B22 processed | B23 processed | B24 processed | B25 processed | B26 processed | B27 processed | B28 processed | B29 processed | B30 processed | B31 processed | "
     ]
    },
    {
     "name": "stderr",
     "output_type": "stream",
     "text": [
      "Found local copy...\n"
     ]
    },
    {
     "name": "stdout",
     "output_type": "stream",
     "text": [
      "B32 processed | Human score at HITL iteration 3: [0.038363569608917486, 0.5038391220313482, 0.17223093899299813, 0.25105493644915855, 0.0, 0.8862764665807994, 0.6029180584117986, 0.0]\n",
      "New queried dataset size: 56\n",
      "Combined dataset size: 928\n",
      "Saved augmented training data at output_bradley_terry_n_steps_100/R3_T5_Q8_acq_uncertainty_noise_0.1/REINVENT_round_3/HITL_iteration_3/iteration_combined_data.csv\n",
      "Epoch 5, Loss: 0.6129565704613924\n",
      "Epoch 10, Loss: 0.6123025696724653\n",
      "Epoch 15, Loss: 0.6116789802908897\n",
      "Epoch 20, Loss: 0.6110942587256432\n",
      "Epoch 25, Loss: 0.6105501521378756\n",
      "Saved retrained feedback model at output_bradley_terry_n_steps_100/R3_T5_Q8_acq_uncertainty_noise_0.1/REINVENT_round_3/HITL_iteration_3/bradley_terry_model.pth\n",
      "----------------------------------\n",
      "HITL iteration = 4\n",
      "Loading Bradley Terry model successfully from output_bradley_terry_n_steps_100/R3_T5_Q8_acq_uncertainty_noise_0.1/REINVENT_round_3/HITL_iteration_3/bradley_terry_model.pth\n",
      "B1 processed | B2 processed | B3 processed | B4 processed | B5 processed | B6 processed | B7 processed | B8 processed | B9 processed | B10 processed | B11 processed | B12 processed | B13 processed | B14 processed | B15 processed | B16 processed | B17 processed | B18 processed | B19 processed | B20 processed | B21 processed | B22 processed | B23 processed | B24 processed | B25 processed | B26 processed | B27 processed | B28 processed | B29 processed | B30 processed | B31 processed | "
     ]
    },
    {
     "name": "stderr",
     "output_type": "stream",
     "text": [
      "Found local copy...\n"
     ]
    },
    {
     "name": "stdout",
     "output_type": "stream",
     "text": [
      "B32 processed | Human score at HITL iteration 4: [0.0007427668038985195, 0.31588463718867477, 0.9315864477165035, 0.03958137938956709, 0.05231558168941528, 0.14668386881991483, 0.07540297019086667, 0.9361623574312031]\n",
      "New queried dataset size: 56\n",
      "Combined dataset size: 984\n",
      "Saved augmented training data at output_bradley_terry_n_steps_100/R3_T5_Q8_acq_uncertainty_noise_0.1/REINVENT_round_3/HITL_iteration_4/iteration_combined_data.csv\n",
      "Epoch 5, Loss: 0.8706736812988917\n",
      "Epoch 10, Loss: 0.8697233150402705\n",
      "Epoch 15, Loss: 0.8689261873563131\n",
      "Epoch 20, Loss: 0.8681008840600649\n",
      "Epoch 25, Loss: 0.8674321919679642\n",
      "Saved retrained feedback model at output_bradley_terry_n_steps_100/R3_T5_Q8_acq_uncertainty_noise_0.1/REINVENT_round_3/HITL_iteration_4/bradley_terry_model.pth\n",
      "----------------------------------\n",
      "HITL iteration = 5\n",
      "Loading Bradley Terry model successfully from output_bradley_terry_n_steps_100/R3_T5_Q8_acq_uncertainty_noise_0.1/REINVENT_round_3/HITL_iteration_4/bradley_terry_model.pth\n",
      "B1 processed | B2 processed | B3 processed | B4 processed | B5 processed | B6 processed | B7 processed | B8 processed | B9 processed | B10 processed | B11 processed | B12 processed | B13 processed | B14 processed | B15 processed | B16 processed | B17 processed | B18 processed | B19 processed | B20 processed | B21 processed | B22 processed | B23 processed | B24 processed | B25 processed | B26 processed | B27 processed | B28 processed | B29 processed | B30 processed | B31 processed | "
     ]
    },
    {
     "name": "stderr",
     "output_type": "stream",
     "text": [
      "Found local copy...\n"
     ]
    },
    {
     "name": "stdout",
     "output_type": "stream",
     "text": [
      "B32 processed | Human score at HITL iteration 5: [0.015380972722427857, 1.0, 0.06630218596664884, 0.8155165355167848, 0.2126370331197407, 0.4015917770289131, 0.23177225321364903, 0.08904791269823208]\n",
      "New queried dataset size: 56\n",
      "Combined dataset size: 1040\n",
      "Saved augmented training data at output_bradley_terry_n_steps_100/R3_T5_Q8_acq_uncertainty_noise_0.1/REINVENT_round_3/HITL_iteration_5/iteration_combined_data.csv\n",
      "Epoch 5, Loss: 1.386370662599802\n",
      "Epoch 10, Loss: 1.385340116918087\n",
      "Epoch 15, Loss: 1.383574165403843\n",
      "Epoch 20, Loss: 1.38290686160326\n",
      "Epoch 25, Loss: 1.3822144344449043\n",
      "Saved retrained feedback model at output_bradley_terry_n_steps_100/R3_T5_Q8_acq_uncertainty_noise_0.1/REINVENT_round_3/HITL_iteration_5/bradley_terry_model.pth\n",
      "=====================================\n",
      "REINVENT round = 4\n",
      "Creating config file: output_bradley_terry_n_steps_100/R3_T5_Q8_acq_uncertainty_noise_0.1/REINVENT_round_4/config.json.\n",
      "Run REINVENT\n",
      "Exit code: 0\n",
      "\n",
      "*******************************************************************\n",
      "Running HITL with greedy acquisition and noise 0.0\n",
      "\n",
      "Running DRD2 (one objective) with rounds 3, iters 5, queries 8, seed 42\n",
      "Results will be saved at output_bradley_terry_n_steps_100/R3_T5_Q8_acq_greedy_noise_0.0\n",
      "Loading initial training datasets successfully\n",
      "=====================================\n",
      "REINVENT round = 1\n",
      "Creating config file: output_bradley_terry_n_steps_100/R3_T5_Q8_acq_greedy_noise_0.0/REINVENT_round_1/config.json.\n",
      "Run REINVENT\n",
      "Exit code: 0\n",
      "Number of SMILES in scaffold_memory.csv:  4987\n",
      "----------------------------------\n",
      "HITL iteration = 1\n",
      "Loading Bradley Terry model successfully from /home/springnuance/reinvent-hitl/Base-Code-Binh/training_Bradley_Terry_model/bradley_terry_model.pth\n",
      "B1 processed | B2 processed | B3 processed | B4 processed | B5 processed | B6 processed | B7 processed | B8 processed | B9 processed | B10 processed | B11 processed | B12 processed | B13 processed | B14 processed | B15 processed | B16 processed | B17 processed | B18 processed | B19 processed | B20 processed | B21 processed | B22 processed | B23 processed | B24 processed | B25 processed | B26 processed | B27 processed | B28 processed | B29 processed | B30 processed | B31 processed | "
     ]
    },
    {
     "name": "stderr",
     "output_type": "stream",
     "text": [
      "Found local copy...\n"
     ]
    },
    {
     "name": "stdout",
     "output_type": "stream",
     "text": [
      "B32 processed | Human score at HITL iteration 1: [0.0407152012565959, 0.06967574015594565, 0.004323810902064698, 0.10631287562771452, 0.00010659231503875589, 0.002889919826572554, 0.9999906785427431, 0.013574190831159466]\n",
      "New queried dataset size: 56\n",
      "Combined dataset size: 256\n",
      "Saved augmented training data at output_bradley_terry_n_steps_100/R3_T5_Q8_acq_greedy_noise_0.0/REINVENT_round_1/HITL_iteration_1/iteration_combined_data.csv\n",
      "Epoch 5, Loss: 0.17326398193836212\n",
      "Epoch 10, Loss: 0.17324798181653023\n",
      "Epoch 15, Loss: 0.1732317227870226\n",
      "Epoch 20, Loss: 0.17321552708745003\n",
      "Epoch 25, Loss: 0.17319896630942822\n",
      "Saved retrained feedback model at output_bradley_terry_n_steps_100/R3_T5_Q8_acq_greedy_noise_0.0/REINVENT_round_1/HITL_iteration_1/bradley_terry_model.pth\n",
      "----------------------------------\n",
      "HITL iteration = 2\n",
      "Loading Bradley Terry model successfully from output_bradley_terry_n_steps_100/R3_T5_Q8_acq_greedy_noise_0.0/REINVENT_round_1/HITL_iteration_1/bradley_terry_model.pth\n",
      "B1 processed | B2 processed | B3 processed | B4 processed | B5 processed | B6 processed | B7 processed | B8 processed | B9 processed | B10 processed | B11 processed | B12 processed | B13 processed | B14 processed | B15 processed | B16 processed | B17 processed | B18 processed | B19 processed | B20 processed | B21 processed | B22 processed | B23 processed | B24 processed | B25 processed | B26 processed | B27 processed | B28 processed | B29 processed | B30 processed | B31 processed | "
     ]
    },
    {
     "name": "stderr",
     "output_type": "stream",
     "text": [
      "Found local copy...\n"
     ]
    },
    {
     "name": "stdout",
     "output_type": "stream",
     "text": [
      "B32 processed | Human score at HITL iteration 2: [0.5840378488467538, 0.023735504186339924, 0.49177094120497666, 0.33888048926381065, 0.6862880595593203, 0.006529300975796531, 0.0012135627445222137, 0.00205879282855181]\n",
      "New queried dataset size: 56\n",
      "Combined dataset size: 312\n",
      "Saved augmented training data at output_bradley_terry_n_steps_100/R3_T5_Q8_acq_greedy_noise_0.0/REINVENT_round_1/HITL_iteration_2/iteration_combined_data.csv\n",
      "Epoch 5, Loss: 0.2886585419376691\n",
      "Epoch 10, Loss: 0.28862732152144116\n",
      "Epoch 15, Loss: 0.28859521945317584\n",
      "Epoch 20, Loss: 0.2885586569706599\n",
      "Epoch 25, Loss: 0.2885195041696231\n",
      "Saved retrained feedback model at output_bradley_terry_n_steps_100/R3_T5_Q8_acq_greedy_noise_0.0/REINVENT_round_1/HITL_iteration_2/bradley_terry_model.pth\n",
      "----------------------------------\n",
      "HITL iteration = 3\n",
      "Loading Bradley Terry model successfully from output_bradley_terry_n_steps_100/R3_T5_Q8_acq_greedy_noise_0.0/REINVENT_round_1/HITL_iteration_2/bradley_terry_model.pth\n",
      "B1 processed | B2 processed | B3 processed | B4 processed | B5 processed | B6 processed | B7 processed | B8 processed | B9 processed | B10 processed | B11 processed | B12 processed | B13 processed | B14 processed | B15 processed | B16 processed | B17 processed | B18 processed | B19 processed | B20 processed | B21 processed | B22 processed | B23 processed | B24 processed | B25 processed | B26 processed | B27 processed | B28 processed | B29 processed | B30 processed | B31 processed | "
     ]
    },
    {
     "name": "stderr",
     "output_type": "stream",
     "text": [
      "Found local copy...\n"
     ]
    },
    {
     "name": "stdout",
     "output_type": "stream",
     "text": [
      "B32 processed | Human score at HITL iteration 3: [0.9858703371307865, 0.9999948513811212, 0.17105418805218178, 0.8609181575846654, 0.5120482985251847, 0.3089701411851207, 0.7127533976095496, 0.988501782900815]\n",
      "New queried dataset size: 56\n",
      "Combined dataset size: 368\n",
      "Saved augmented training data at output_bradley_terry_n_steps_100/R3_T5_Q8_acq_greedy_noise_0.0/REINVENT_round_1/HITL_iteration_3/iteration_combined_data.csv\n",
      "Epoch 5, Loss: 0.5193374715745449\n",
      "Epoch 10, Loss: 0.51927100867033\n",
      "Epoch 15, Loss: 0.5191795751452446\n",
      "Epoch 20, Loss: 0.519096314907074\n",
      "Epoch 25, Loss: 0.5190108008682728\n",
      "Saved retrained feedback model at output_bradley_terry_n_steps_100/R3_T5_Q8_acq_greedy_noise_0.0/REINVENT_round_1/HITL_iteration_3/bradley_terry_model.pth\n",
      "----------------------------------\n",
      "HITL iteration = 4\n",
      "Loading Bradley Terry model successfully from output_bradley_terry_n_steps_100/R3_T5_Q8_acq_greedy_noise_0.0/REINVENT_round_1/HITL_iteration_3/bradley_terry_model.pth\n",
      "B1 processed | B2 processed | B3 processed | B4 processed | B5 processed | B6 processed | B7 processed | B8 processed | B9 processed | B10 processed | B11 processed | B12 processed | B13 processed | B14 processed | B15 processed | B16 processed | B17 processed | B18 processed | B19 processed | B20 processed | B21 processed | B22 processed | B23 processed | B24 processed | B25 processed | B26 processed | B27 processed | B28 processed | B29 processed | B30 processed | B31 processed | "
     ]
    },
    {
     "name": "stderr",
     "output_type": "stream",
     "text": [
      "Found local copy...\n"
     ]
    },
    {
     "name": "stdout",
     "output_type": "stream",
     "text": [
      "B32 processed | Human score at HITL iteration 4: [0.42871763965906845, 0.04135854210387821, 0.05567098736066406, 0.6405053099229722, 0.41271850501347834, 0.17890488116742218, 0.014155811962308968, 0.8303087183028922]\n",
      "New queried dataset size: 56\n",
      "Combined dataset size: 424\n",
      "Saved augmented training data at output_bradley_terry_n_steps_100/R3_T5_Q8_acq_greedy_noise_0.0/REINVENT_round_1/HITL_iteration_4/iteration_combined_data.csv\n",
      "Epoch 5, Loss: 1.2109244242310524\n",
      "Epoch 10, Loss: 1.210791863501072\n",
      "Epoch 15, Loss: 1.2105720490217209\n",
      "Epoch 20, Loss: 1.2102788537740707\n",
      "Epoch 25, Loss: 1.2100154533982277\n",
      "Saved retrained feedback model at output_bradley_terry_n_steps_100/R3_T5_Q8_acq_greedy_noise_0.0/REINVENT_round_1/HITL_iteration_4/bradley_terry_model.pth\n",
      "----------------------------------\n",
      "HITL iteration = 5\n",
      "Loading Bradley Terry model successfully from output_bradley_terry_n_steps_100/R3_T5_Q8_acq_greedy_noise_0.0/REINVENT_round_1/HITL_iteration_4/bradley_terry_model.pth\n",
      "B1 processed | B2 processed | B3 processed | B4 processed | B5 processed | B6 processed | B7 processed | B8 processed | B9 processed | B10 processed | B11 processed | B12 processed | B13 processed | B14 processed | B15 processed | B16 processed | B17 processed | B18 processed | B19 processed | B20 processed | B21 processed | B22 processed | B23 processed | B24 processed | B25 processed | B26 processed | B27 processed | B28 processed | B29 processed | B30 processed | B31 processed | "
     ]
    },
    {
     "name": "stderr",
     "output_type": "stream",
     "text": [
      "Found local copy...\n"
     ]
    },
    {
     "name": "stdout",
     "output_type": "stream",
     "text": [
      "B32 processed | Human score at HITL iteration 5: [0.007261186457179598, 0.550171431078052, 0.8485439599382625, 0.22017357148899955, 0.021550297269424385, 0.029534325100007707, 0.07107677369757218, 0.8142444382657729]\n",
      "New queried dataset size: 56\n",
      "Combined dataset size: 480\n",
      "Saved augmented training data at output_bradley_terry_n_steps_100/R3_T5_Q8_acq_greedy_noise_0.0/REINVENT_round_1/HITL_iteration_5/iteration_combined_data.csv\n",
      "Epoch 5, Loss: 0.32412436977028847\n",
      "Epoch 10, Loss: 0.3240377251058817\n",
      "Epoch 15, Loss: 0.3239428624510765\n",
      "Epoch 20, Loss: 0.3238390423357487\n",
      "Epoch 25, Loss: 0.32372583262622356\n",
      "Saved retrained feedback model at output_bradley_terry_n_steps_100/R3_T5_Q8_acq_greedy_noise_0.0/REINVENT_round_1/HITL_iteration_5/bradley_terry_model.pth\n",
      "=====================================\n",
      "REINVENT round = 2\n",
      "Creating config file: output_bradley_terry_n_steps_100/R3_T5_Q8_acq_greedy_noise_0.0/REINVENT_round_2/config.json.\n",
      "Run REINVENT\n",
      "Exit code: 0\n",
      "Number of SMILES in scaffold_memory.csv:  5012\n",
      "----------------------------------\n",
      "HITL iteration = 1\n",
      "Loading Bradley Terry model successfully from output_bradley_terry_n_steps_100/R3_T5_Q8_acq_greedy_noise_0.0/REINVENT_round_1/HITL_iteration_5/bradley_terry_model.pth\n",
      "B1 processed | B2 processed | B3 processed | B4 processed | B5 processed | B6 processed | B7 processed | B8 processed | B9 processed | B10 processed | B11 processed | B12 processed | B13 processed | B14 processed | B15 processed | B16 processed | B17 processed | B18 processed | B19 processed | B20 processed | B21 processed | B22 processed | B23 processed | B24 processed | B25 processed | B26 processed | B27 processed | B28 processed | B29 processed | B30 processed | B31 processed | "
     ]
    },
    {
     "name": "stderr",
     "output_type": "stream",
     "text": [
      "Found local copy...\n"
     ]
    },
    {
     "name": "stdout",
     "output_type": "stream",
     "text": [
      "B32 processed | Human score at HITL iteration 1: [0.8291394405327713, 0.9999981277900658, 0.9878880001269335, 0.9945379138828854, 0.9999999289728386, 0.9698273935716089, 0.16803913046701172, 0.5291297949624715]\n",
      "New queried dataset size: 56\n",
      "Combined dataset size: 536\n",
      "Saved augmented training data at output_bradley_terry_n_steps_100/R3_T5_Q8_acq_greedy_noise_0.0/REINVENT_round_2/HITL_iteration_1/iteration_combined_data.csv\n",
      "Epoch 5, Loss: 0.48918912808100384\n",
      "Epoch 10, Loss: 0.48900281141201657\n",
      "Epoch 15, Loss: 0.4888006200393041\n",
      "Epoch 20, Loss: 0.488586666683356\n",
      "Epoch 25, Loss: 0.48835327476263046\n",
      "Saved retrained feedback model at output_bradley_terry_n_steps_100/R3_T5_Q8_acq_greedy_noise_0.0/REINVENT_round_2/HITL_iteration_1/bradley_terry_model.pth\n",
      "----------------------------------\n",
      "HITL iteration = 2\n",
      "Loading Bradley Terry model successfully from output_bradley_terry_n_steps_100/R3_T5_Q8_acq_greedy_noise_0.0/REINVENT_round_2/HITL_iteration_1/bradley_terry_model.pth\n",
      "B1 processed | B2 processed | B3 processed | B4 processed | B5 processed | B6 processed | B7 processed | B8 processed | B9 processed | B10 processed | B11 processed | B12 processed | B13 processed | B14 processed | B15 processed | B16 processed | B17 processed | B18 processed | B19 processed | B20 processed | B21 processed | B22 processed | B23 processed | B24 processed | B25 processed | B26 processed | B27 processed | B28 processed | B29 processed | B30 processed | B31 processed | "
     ]
    },
    {
     "name": "stderr",
     "output_type": "stream",
     "text": [
      "Found local copy...\n"
     ]
    },
    {
     "name": "stdout",
     "output_type": "stream",
     "text": [
      "B32 processed | Human score at HITL iteration 2: [0.24275421341259332, 0.9762132821300163, 0.9953781572461633, 0.9578130692334842, 0.9907188747084454, 0.9999999749918932, 0.9034607362166894, 0.9694017377109888]\n",
      "New queried dataset size: 56\n",
      "Combined dataset size: 592\n",
      "Saved augmented training data at output_bradley_terry_n_steps_100/R3_T5_Q8_acq_greedy_noise_0.0/REINVENT_round_2/HITL_iteration_2/iteration_combined_data.csv\n",
      "Epoch 5, Loss: 0.8187575526535511\n",
      "Epoch 10, Loss: 0.8182919695973396\n",
      "Epoch 15, Loss: 0.8179292939603329\n",
      "Epoch 20, Loss: 0.8174646496772766\n",
      "Epoch 25, Loss: 0.8168056383728981\n",
      "Saved retrained feedback model at output_bradley_terry_n_steps_100/R3_T5_Q8_acq_greedy_noise_0.0/REINVENT_round_2/HITL_iteration_2/bradley_terry_model.pth\n",
      "----------------------------------\n",
      "HITL iteration = 3\n",
      "Loading Bradley Terry model successfully from output_bradley_terry_n_steps_100/R3_T5_Q8_acq_greedy_noise_0.0/REINVENT_round_2/HITL_iteration_2/bradley_terry_model.pth\n",
      "B1 processed | B2 processed | B3 processed | B4 processed | B5 processed | B6 processed | B7 processed | B8 processed | B9 processed | B10 processed | B11 processed | B12 processed | B13 processed | B14 processed | B15 processed | B16 processed | B17 processed | B18 processed | B19 processed | B20 processed | B21 processed | B22 processed | B23 processed | B24 processed | B25 processed | B26 processed | B27 processed | B28 processed | B29 processed | B30 processed | B31 processed | "
     ]
    },
    {
     "name": "stderr",
     "output_type": "stream",
     "text": [
      "Found local copy...\n"
     ]
    },
    {
     "name": "stdout",
     "output_type": "stream",
     "text": [
      "B32 processed | Human score at HITL iteration 3: [0.8398016102441886, 0.8131584415087498, 0.5901394089836128, 0.27983106011195696, 0.6146963866257976, 0.29637216785032444, 0.04919123459946364, 0.9866703668579542]\n",
      "New queried dataset size: 56\n",
      "Combined dataset size: 648\n",
      "Saved augmented training data at output_bradley_terry_n_steps_100/R3_T5_Q8_acq_greedy_noise_0.0/REINVENT_round_2/HITL_iteration_3/iteration_combined_data.csv\n",
      "Epoch 5, Loss: 1.8059000223875046\n",
      "Epoch 10, Loss: 1.8046333938837051\n",
      "Epoch 15, Loss: 1.8035211339592934\n",
      "Epoch 20, Loss: 1.8013309687376022\n",
      "Epoch 25, Loss: 1.8003038242459297\n",
      "Saved retrained feedback model at output_bradley_terry_n_steps_100/R3_T5_Q8_acq_greedy_noise_0.0/REINVENT_round_2/HITL_iteration_3/bradley_terry_model.pth\n",
      "----------------------------------\n",
      "HITL iteration = 4\n",
      "Loading Bradley Terry model successfully from output_bradley_terry_n_steps_100/R3_T5_Q8_acq_greedy_noise_0.0/REINVENT_round_2/HITL_iteration_3/bradley_terry_model.pth\n",
      "B1 processed | B2 processed | B3 processed | B4 processed | B5 processed | B6 processed | B7 processed | B8 processed | B9 processed | B10 processed | B11 processed | B12 processed | B13 processed | B14 processed | B15 processed | B16 processed | B17 processed | B18 processed | B19 processed | B20 processed | B21 processed | B22 processed | B23 processed | B24 processed | B25 processed | B26 processed | B27 processed | B28 processed | B29 processed | B30 processed | B31 processed | "
     ]
    },
    {
     "name": "stderr",
     "output_type": "stream",
     "text": [
      "Found local copy...\n"
     ]
    },
    {
     "name": "stdout",
     "output_type": "stream",
     "text": [
      "B32 processed | Human score at HITL iteration 4: [0.710519589633653, 0.9906672677764062, 0.4628336870009618, 0.04521015034224893, 0.8754640978146387, 0.7331549153377135, 0.8936883625080209, 0.6418110142971875]\n",
      "New queried dataset size: 56\n",
      "Combined dataset size: 704\n",
      "Saved augmented training data at output_bradley_terry_n_steps_100/R3_T5_Q8_acq_greedy_noise_0.0/REINVENT_round_2/HITL_iteration_4/iteration_combined_data.csv\n",
      "Epoch 5, Loss: 0.47144463658332825\n",
      "Epoch 10, Loss: 0.47102105617523193\n",
      "Epoch 15, Loss: 0.4705704189836979\n",
      "Epoch 20, Loss: 0.4700868297368288\n",
      "Epoch 25, Loss: 0.46957623586058617\n",
      "Saved retrained feedback model at output_bradley_terry_n_steps_100/R3_T5_Q8_acq_greedy_noise_0.0/REINVENT_round_2/HITL_iteration_4/bradley_terry_model.pth\n",
      "----------------------------------\n",
      "HITL iteration = 5\n",
      "Loading Bradley Terry model successfully from output_bradley_terry_n_steps_100/R3_T5_Q8_acq_greedy_noise_0.0/REINVENT_round_2/HITL_iteration_4/bradley_terry_model.pth\n",
      "B1 processed | B2 processed | B3 processed | B4 processed | B5 processed | B6 processed | B7 processed | B8 processed | B9 processed | B10 processed | B11 processed | B12 processed | B13 processed | B14 processed | B15 processed | B16 processed | B17 processed | B18 processed | B19 processed | B20 processed | B21 processed | B22 processed | B23 processed | B24 processed | B25 processed | B26 processed | B27 processed | B28 processed | B29 processed | B30 processed | B31 processed | "
     ]
    },
    {
     "name": "stderr",
     "output_type": "stream",
     "text": [
      "Found local copy...\n"
     ]
    },
    {
     "name": "stdout",
     "output_type": "stream",
     "text": [
      "B32 processed | Human score at HITL iteration 5: [0.45989559804448527, 0.9867835970295488, 0.9952879160350296, 0.9855660884026413, 0.5512092902364211, 0.1795714451309807, 0.6462958249941624, 0.12189824822532672]\n",
      "New queried dataset size: 56\n",
      "Combined dataset size: 760\n",
      "Saved augmented training data at output_bradley_terry_n_steps_100/R3_T5_Q8_acq_greedy_noise_0.0/REINVENT_round_2/HITL_iteration_5/iteration_combined_data.csv\n",
      "Epoch 5, Loss: 0.683041421075662\n",
      "Epoch 10, Loss: 0.6822917684912682\n",
      "Epoch 15, Loss: 0.6814086685578028\n",
      "Epoch 20, Loss: 0.6806112378835678\n",
      "Epoch 25, Loss: 0.6797951435049375\n",
      "Saved retrained feedback model at output_bradley_terry_n_steps_100/R3_T5_Q8_acq_greedy_noise_0.0/REINVENT_round_2/HITL_iteration_5/bradley_terry_model.pth\n",
      "=====================================\n",
      "REINVENT round = 3\n",
      "Creating config file: output_bradley_terry_n_steps_100/R3_T5_Q8_acq_greedy_noise_0.0/REINVENT_round_3/config.json.\n",
      "Run REINVENT\n",
      "Exit code: 0\n",
      "Number of SMILES in scaffold_memory.csv:  5002\n",
      "----------------------------------\n",
      "HITL iteration = 1\n",
      "Loading Bradley Terry model successfully from output_bradley_terry_n_steps_100/R3_T5_Q8_acq_greedy_noise_0.0/REINVENT_round_2/HITL_iteration_5/bradley_terry_model.pth\n",
      "B1 processed | B2 processed | B3 processed | B4 processed | B5 processed | B6 processed | B7 processed | B8 processed | B9 processed | B10 processed | B11 processed | B12 processed | B13 processed | B14 processed | B15 processed | B16 processed | B17 processed | B18 processed | B19 processed | B20 processed | B21 processed | B22 processed | B23 processed | B24 processed | B25 processed | B26 processed | B27 processed | B28 processed | B29 processed | B30 processed | B31 processed | "
     ]
    },
    {
     "name": "stderr",
     "output_type": "stream",
     "text": [
      "Found local copy...\n"
     ]
    },
    {
     "name": "stdout",
     "output_type": "stream",
     "text": [
      "B32 processed | Human score at HITL iteration 1: [0.6453507090518982, 0.8158449511106665, 0.9999997186914973, 0.9999898013993622, 0.9691302688197501, 0.9919122714981132, 0.9268617481169367, 0.9553502240941385]\n",
      "New queried dataset size: 56\n",
      "Combined dataset size: 816\n",
      "Saved augmented training data at output_bradley_terry_n_steps_100/R3_T5_Q8_acq_greedy_noise_0.0/REINVENT_round_3/HITL_iteration_1/iteration_combined_data.csv\n",
      "Epoch 5, Loss: 1.1046644039452076\n",
      "Epoch 10, Loss: 1.1034759283065796\n",
      "Epoch 15, Loss: 1.1021300107240677\n",
      "Epoch 20, Loss: 1.1007761508226395\n",
      "Epoch 25, Loss: 1.0997099913656712\n",
      "Saved retrained feedback model at output_bradley_terry_n_steps_100/R3_T5_Q8_acq_greedy_noise_0.0/REINVENT_round_3/HITL_iteration_1/bradley_terry_model.pth\n",
      "----------------------------------\n",
      "HITL iteration = 2\n",
      "Loading Bradley Terry model successfully from output_bradley_terry_n_steps_100/R3_T5_Q8_acq_greedy_noise_0.0/REINVENT_round_3/HITL_iteration_1/bradley_terry_model.pth\n",
      "B1 processed | B2 processed | B3 processed | B4 processed | B5 processed | B6 processed | B7 processed | B8 processed | B9 processed | B10 processed | B11 processed | B12 processed | B13 processed | B14 processed | B15 processed | B16 processed | B17 processed | B18 processed | B19 processed | B20 processed | B21 processed | B22 processed | B23 processed | B24 processed | B25 processed | B26 processed | B27 processed | B28 processed | B29 processed | B30 processed | B31 processed | "
     ]
    },
    {
     "name": "stderr",
     "output_type": "stream",
     "text": [
      "Found local copy...\n"
     ]
    },
    {
     "name": "stdout",
     "output_type": "stream",
     "text": [
      "B32 processed | Human score at HITL iteration 2: [0.7764390785775662, 0.9587599988946273, 0.9683733894544633, 0.9529192237890002, 0.9999999498968786, 0.9566458967116491, 0.9999948548206686, 0.9999934517103772]\n",
      "New queried dataset size: 56\n",
      "Combined dataset size: 872\n",
      "Saved augmented training data at output_bradley_terry_n_steps_100/R3_T5_Q8_acq_greedy_noise_0.0/REINVENT_round_3/HITL_iteration_2/iteration_combined_data.csv\n",
      "Epoch 5, Loss: 2.3676597625017166\n",
      "Epoch 10, Loss: 2.365909792482853\n",
      "Epoch 15, Loss: 2.3632821813225746\n",
      "Epoch 20, Loss: 2.361931324005127\n",
      "Epoch 25, Loss: 2.3599432185292244\n",
      "Saved retrained feedback model at output_bradley_terry_n_steps_100/R3_T5_Q8_acq_greedy_noise_0.0/REINVENT_round_3/HITL_iteration_2/bradley_terry_model.pth\n",
      "----------------------------------\n",
      "HITL iteration = 3\n",
      "Loading Bradley Terry model successfully from output_bradley_terry_n_steps_100/R3_T5_Q8_acq_greedy_noise_0.0/REINVENT_round_3/HITL_iteration_2/bradley_terry_model.pth\n",
      "B1 processed | B2 processed | B3 processed | B4 processed | B5 processed | B6 processed | B7 processed | B8 processed | B9 processed | B10 processed | B11 processed | B12 processed | B13 processed | B14 processed | B15 processed | B16 processed | B17 processed | B18 processed | B19 processed | B20 processed | B21 processed | B22 processed | B23 processed | B24 processed | B25 processed | B26 processed | B27 processed | B28 processed | B29 processed | B30 processed | B31 processed | "
     ]
    },
    {
     "name": "stderr",
     "output_type": "stream",
     "text": [
      "Found local copy...\n"
     ]
    },
    {
     "name": "stdout",
     "output_type": "stream",
     "text": [
      "B32 processed | Human score at HITL iteration 3: [0.20826217035337458, 0.6914140793374298, 0.9665601063146647, 0.7203247980397577, 0.9899983590584975, 0.9553352111804192, 0.9801022513636406, 0.9461399668262142]\n",
      "New queried dataset size: 56\n",
      "Combined dataset size: 928\n",
      "Saved augmented training data at output_bradley_terry_n_steps_100/R3_T5_Q8_acq_greedy_noise_0.0/REINVENT_round_3/HITL_iteration_3/iteration_combined_data.csv\n",
      "Epoch 5, Loss: 0.6112183835357428\n",
      "Epoch 10, Loss: 0.6106320228427649\n",
      "Epoch 15, Loss: 0.6100805941969156\n",
      "Epoch 20, Loss: 0.6095610838383436\n",
      "Epoch 25, Loss: 0.609078535810113\n",
      "Saved retrained feedback model at output_bradley_terry_n_steps_100/R3_T5_Q8_acq_greedy_noise_0.0/REINVENT_round_3/HITL_iteration_3/bradley_terry_model.pth\n",
      "----------------------------------\n",
      "HITL iteration = 4\n",
      "Loading Bradley Terry model successfully from output_bradley_terry_n_steps_100/R3_T5_Q8_acq_greedy_noise_0.0/REINVENT_round_3/HITL_iteration_3/bradley_terry_model.pth\n",
      "B1 processed | B2 processed | B3 processed | B4 processed | B5 processed | B6 processed | B7 processed | B8 processed | B9 processed | B10 processed | B11 processed | B12 processed | B13 processed | B14 processed | B15 processed | B16 processed | B17 processed | B18 processed | B19 processed | B20 processed | B21 processed | B22 processed | B23 processed | B24 processed | B25 processed | B26 processed | B27 processed | B28 processed | B29 processed | B30 processed | B31 processed | "
     ]
    },
    {
     "name": "stderr",
     "output_type": "stream",
     "text": [
      "Found local copy...\n"
     ]
    },
    {
     "name": "stdout",
     "output_type": "stream",
     "text": [
      "B32 processed | Human score at HITL iteration 4: [0.9906763484934998, 0.7587983545329573, 0.8933749678120468, 0.6684595337648183, 0.9999977719528519, 0.9632289047145107, 0.31169036196592237, 0.9711663795801049]\n",
      "New queried dataset size: 56\n",
      "Combined dataset size: 984\n",
      "Saved augmented training data at output_bradley_terry_n_steps_100/R3_T5_Q8_acq_greedy_noise_0.0/REINVENT_round_3/HITL_iteration_4/iteration_combined_data.csv\n",
      "Epoch 5, Loss: 0.8689415330688158\n",
      "Epoch 10, Loss: 0.8682582055528959\n",
      "Epoch 15, Loss: 0.8676318004727364\n",
      "Epoch 20, Loss: 0.8671021809180578\n",
      "Epoch 25, Loss: 0.8665652548273405\n",
      "Saved retrained feedback model at output_bradley_terry_n_steps_100/R3_T5_Q8_acq_greedy_noise_0.0/REINVENT_round_3/HITL_iteration_4/bradley_terry_model.pth\n",
      "----------------------------------\n",
      "HITL iteration = 5\n",
      "Loading Bradley Terry model successfully from output_bradley_terry_n_steps_100/R3_T5_Q8_acq_greedy_noise_0.0/REINVENT_round_3/HITL_iteration_4/bradley_terry_model.pth\n",
      "B1 processed | B2 processed | B3 processed | B4 processed | B5 processed | B6 processed | B7 processed | B8 processed | B9 processed | B10 processed | B11 processed | B12 processed | B13 processed | B14 processed | B15 processed | B16 processed | B17 processed | B18 processed | B19 processed | B20 processed | B21 processed | B22 processed | B23 processed | B24 processed | B25 processed | B26 processed | B27 processed | B28 processed | B29 processed | B30 processed | B31 processed | "
     ]
    },
    {
     "name": "stderr",
     "output_type": "stream",
     "text": [
      "Found local copy...\n"
     ]
    },
    {
     "name": "stdout",
     "output_type": "stream",
     "text": [
      "B32 processed | Human score at HITL iteration 5: [0.9888939682952308, 0.5146547782956806, 0.997423375116711, 0.9778624886924312, 0.7769086593173989, 0.9961966447511376, 0.9999948465942341, 0.9963682959120957]\n",
      "New queried dataset size: 56\n",
      "Combined dataset size: 1040\n",
      "Saved augmented training data at output_bradley_terry_n_steps_100/R3_T5_Q8_acq_greedy_noise_0.0/REINVENT_round_3/HITL_iteration_5/iteration_combined_data.csv\n",
      "Epoch 5, Loss: 1.385396532714367\n",
      "Epoch 10, Loss: 1.3845325708389282\n",
      "Epoch 15, Loss: 1.383775807917118\n",
      "Epoch 20, Loss: 1.3831593543291092\n",
      "Epoch 25, Loss: 1.3830154798924923\n",
      "Saved retrained feedback model at output_bradley_terry_n_steps_100/R3_T5_Q8_acq_greedy_noise_0.0/REINVENT_round_3/HITL_iteration_5/bradley_terry_model.pth\n",
      "=====================================\n",
      "REINVENT round = 4\n",
      "Creating config file: output_bradley_terry_n_steps_100/R3_T5_Q8_acq_greedy_noise_0.0/REINVENT_round_4/config.json.\n",
      "Run REINVENT\n",
      "Exit code: 0\n",
      "\n",
      "*******************************************************************\n",
      "Running HITL with greedy acquisition and noise 0.1\n",
      "\n",
      "Running DRD2 (one objective) with rounds 3, iters 5, queries 8, seed 42\n",
      "Results will be saved at output_bradley_terry_n_steps_100/R3_T5_Q8_acq_greedy_noise_0.1\n",
      "Loading initial training datasets successfully\n",
      "=====================================\n",
      "REINVENT round = 1\n",
      "Creating config file: output_bradley_terry_n_steps_100/R3_T5_Q8_acq_greedy_noise_0.1/REINVENT_round_1/config.json.\n",
      "Run REINVENT\n",
      "Exit code: 0\n",
      "Number of SMILES in scaffold_memory.csv:  4991\n",
      "----------------------------------\n",
      "HITL iteration = 1\n",
      "Loading Bradley Terry model successfully from /home/springnuance/reinvent-hitl/Base-Code-Binh/training_Bradley_Terry_model/bradley_terry_model.pth\n",
      "B1 processed | B2 processed | B3 processed | B4 processed | B5 processed | B6 processed | B7 processed | B8 processed | B9 processed | B10 processed | B11 processed | B12 processed | B13 processed | B14 processed | B15 processed | B16 processed | B17 processed | B18 processed | B19 processed | B20 processed | B21 processed | B22 processed | B23 processed | B24 processed | B25 processed | B26 processed | B27 processed | B28 processed | B29 processed | B30 processed | B31 processed | "
     ]
    },
    {
     "name": "stderr",
     "output_type": "stream",
     "text": [
      "Found local copy...\n"
     ]
    },
    {
     "name": "stdout",
     "output_type": "stream",
     "text": [
      "B32 processed | Human score at HITL iteration 1: [0.05328850393142625, 0.023096454706950757, 0.06624762469133813, 0.153250832216219, 0.007500038568101889, 0.008083854544497105, 0.1639496709360673, 0.08284884841249235]\n",
      "New queried dataset size: 56\n",
      "Combined dataset size: 256\n",
      "Saved augmented training data at output_bradley_terry_n_steps_100/R3_T5_Q8_acq_greedy_noise_0.1/REINVENT_round_1/HITL_iteration_1/iteration_combined_data.csv\n",
      "Epoch 5, Loss: 0.1732649877667427\n",
      "Epoch 10, Loss: 0.1732519268989563\n",
      "Epoch 15, Loss: 0.17323858849704266\n",
      "Epoch 20, Loss: 0.17322533391416073\n",
      "Epoch 25, Loss: 0.17321167513728142\n",
      "Saved retrained feedback model at output_bradley_terry_n_steps_100/R3_T5_Q8_acq_greedy_noise_0.1/REINVENT_round_1/HITL_iteration_1/bradley_terry_model.pth\n",
      "----------------------------------\n",
      "HITL iteration = 2\n",
      "Loading Bradley Terry model successfully from output_bradley_terry_n_steps_100/R3_T5_Q8_acq_greedy_noise_0.1/REINVENT_round_1/HITL_iteration_1/bradley_terry_model.pth\n",
      "B1 processed | B2 processed | B3 processed | B4 processed | B5 processed | B6 processed | B7 processed | B8 processed | B9 processed | B10 processed | B11 processed | B12 processed | B13 processed | B14 processed | B15 processed | B16 processed | B17 processed | B18 processed | B19 processed | B20 processed | B21 processed | B22 processed | B23 processed | B24 processed | B25 processed | B26 processed | B27 processed | B28 processed | B29 processed | B30 processed | B31 processed | "
     ]
    },
    {
     "name": "stderr",
     "output_type": "stream",
     "text": [
      "Found local copy...\n"
     ]
    },
    {
     "name": "stdout",
     "output_type": "stream",
     "text": [
      "B32 processed | Human score at HITL iteration 2: [0.027544115264686052, 0.47139429266136584, 0.831611331386171, 0.690445128171994, 0.6174825357960314, 0.0, 0.0, 0.28268241528527266]\n",
      "New queried dataset size: 56\n",
      "Combined dataset size: 312\n",
      "Saved augmented training data at output_bradley_terry_n_steps_100/R3_T5_Q8_acq_greedy_noise_0.1/REINVENT_round_1/HITL_iteration_2/iteration_combined_data.csv\n",
      "Epoch 5, Loss: 0.2886814425388972\n",
      "Epoch 10, Loss: 0.28865470985571545\n",
      "Epoch 15, Loss: 0.28862596303224564\n",
      "Epoch 20, Loss: 0.2885960042476654\n",
      "Epoch 25, Loss: 0.28856588900089264\n",
      "Saved retrained feedback model at output_bradley_terry_n_steps_100/R3_T5_Q8_acq_greedy_noise_0.1/REINVENT_round_1/HITL_iteration_2/bradley_terry_model.pth\n",
      "----------------------------------\n",
      "HITL iteration = 3\n",
      "Loading Bradley Terry model successfully from output_bradley_terry_n_steps_100/R3_T5_Q8_acq_greedy_noise_0.1/REINVENT_round_1/HITL_iteration_2/bradley_terry_model.pth\n",
      "B1 processed | B2 processed | B3 processed | B4 processed | B5 processed | B6 processed | B7 processed | B8 processed | B9 processed | B10 processed | B11 processed | B12 processed | B13 processed | B14 processed | B15 processed | B16 processed | B17 processed | B18 processed | B19 processed | B20 processed | B21 processed | B22 processed | B23 processed | B24 processed | B25 processed | B26 processed | B27 processed | B28 processed | B29 processed | B30 processed | B31 processed | "
     ]
    },
    {
     "name": "stderr",
     "output_type": "stream",
     "text": [
      "Found local copy...\n"
     ]
    },
    {
     "name": "stdout",
     "output_type": "stream",
     "text": [
      "B32 processed | Human score at HITL iteration 3: [0.8987158130371348, 1.0, 0.8965084742690903, 0.3722707029503197, 1.0, 0.0942502260691262, 0.5439832179997304, 0.8575180692175788]\n",
      "New queried dataset size: 56\n",
      "Combined dataset size: 368\n",
      "Saved augmented training data at output_bradley_terry_n_steps_100/R3_T5_Q8_acq_greedy_noise_0.1/REINVENT_round_1/HITL_iteration_3/iteration_combined_data.csv\n",
      "Epoch 5, Loss: 0.5194193869829178\n",
      "Epoch 10, Loss: 0.5193639546632767\n",
      "Epoch 15, Loss: 0.5192992277443409\n",
      "Epoch 20, Loss: 0.5192292034626007\n",
      "Epoch 25, Loss: 0.5191429406404495\n",
      "Saved retrained feedback model at output_bradley_terry_n_steps_100/R3_T5_Q8_acq_greedy_noise_0.1/REINVENT_round_1/HITL_iteration_3/bradley_terry_model.pth\n",
      "----------------------------------\n",
      "HITL iteration = 4\n",
      "Loading Bradley Terry model successfully from output_bradley_terry_n_steps_100/R3_T5_Q8_acq_greedy_noise_0.1/REINVENT_round_1/HITL_iteration_3/bradley_terry_model.pth\n",
      "B1 processed | B2 processed | B3 processed | B4 processed | B5 processed | B6 processed | B7 processed | B8 processed | B9 processed | B10 processed | B11 processed | B12 processed | B13 processed | B14 processed | B15 processed | B16 processed | B17 processed | B18 processed | B19 processed | B20 processed | B21 processed | B22 processed | B23 processed | B24 processed | B25 processed | B26 processed | B27 processed | B28 processed | B29 processed | B30 processed | B31 processed | "
     ]
    },
    {
     "name": "stderr",
     "output_type": "stream",
     "text": [
      "Found local copy...\n"
     ]
    },
    {
     "name": "stdout",
     "output_type": "stream",
     "text": [
      "B32 processed | Human score at HITL iteration 4: [0.25480657935884027, 0.2576937063647991, 0.2227323981706198, 0.44603502653972615, 0.919749540443146, 0.7486518628024458, 0.9223909803569568, 0.991084444060111]\n",
      "New queried dataset size: 56\n",
      "Combined dataset size: 424\n",
      "Saved augmented training data at output_bradley_terry_n_steps_100/R3_T5_Q8_acq_greedy_noise_0.1/REINVENT_round_1/HITL_iteration_4/iteration_combined_data.csv\n",
      "Epoch 5, Loss: 1.2114235609769821\n",
      "Epoch 10, Loss: 1.21119886636734\n",
      "Epoch 15, Loss: 1.2110845819115639\n",
      "Epoch 20, Loss: 1.2108977511525154\n",
      "Epoch 25, Loss: 1.2106092423200607\n",
      "Saved retrained feedback model at output_bradley_terry_n_steps_100/R3_T5_Q8_acq_greedy_noise_0.1/REINVENT_round_1/HITL_iteration_4/bradley_terry_model.pth\n",
      "----------------------------------\n",
      "HITL iteration = 5\n",
      "Loading Bradley Terry model successfully from output_bradley_terry_n_steps_100/R3_T5_Q8_acq_greedy_noise_0.1/REINVENT_round_1/HITL_iteration_4/bradley_terry_model.pth\n",
      "B1 processed | B2 processed | B3 processed | B4 processed | B5 processed | B6 processed | B7 processed | B8 processed | B9 processed | B10 processed | B11 processed | B12 processed | B13 processed | B14 processed | B15 processed | B16 processed | B17 processed | B18 processed | B19 processed | B20 processed | B21 processed | B22 processed | B23 processed | B24 processed | B25 processed | B26 processed | B27 processed | B28 processed | B29 processed | B30 processed | B31 processed | "
     ]
    },
    {
     "name": "stderr",
     "output_type": "stream",
     "text": [
      "Found local copy...\n"
     ]
    },
    {
     "name": "stdout",
     "output_type": "stream",
     "text": [
      "B32 processed | Human score at HITL iteration 5: [0.01201546106718299, 0.0, 0.5088654244570725, 0.5892460050259145, 0.029183608804196702, 0.361149128708088, 0.681590203086699, 0.13465761948208468]\n",
      "New queried dataset size: 56\n",
      "Combined dataset size: 480\n",
      "Saved augmented training data at output_bradley_terry_n_steps_100/R3_T5_Q8_acq_greedy_noise_0.1/REINVENT_round_1/HITL_iteration_5/iteration_combined_data.csv\n",
      "Epoch 5, Loss: 0.324279822409153\n",
      "Epoch 10, Loss: 0.32421136274933815\n",
      "Epoch 15, Loss: 0.3241374734789133\n",
      "Epoch 20, Loss: 0.32405591756105423\n",
      "Epoch 25, Loss: 0.3239671289920807\n",
      "Saved retrained feedback model at output_bradley_terry_n_steps_100/R3_T5_Q8_acq_greedy_noise_0.1/REINVENT_round_1/HITL_iteration_5/bradley_terry_model.pth\n",
      "=====================================\n",
      "REINVENT round = 2\n",
      "Creating config file: output_bradley_terry_n_steps_100/R3_T5_Q8_acq_greedy_noise_0.1/REINVENT_round_2/config.json.\n",
      "Run REINVENT\n",
      "Exit code: 0\n",
      "Number of SMILES in scaffold_memory.csv:  5009\n",
      "----------------------------------\n",
      "HITL iteration = 1\n",
      "Loading Bradley Terry model successfully from output_bradley_terry_n_steps_100/R3_T5_Q8_acq_greedy_noise_0.1/REINVENT_round_1/HITL_iteration_5/bradley_terry_model.pth\n",
      "B1 processed | B2 processed | B3 processed | B4 processed | B5 processed | B6 processed | B7 processed | B8 processed | B9 processed | B10 processed | B11 processed | B12 processed | B13 processed | B14 processed | B15 processed | B16 processed | B17 processed | B18 processed | B19 processed | B20 processed | B21 processed | B22 processed | B23 processed | B24 processed | B25 processed | B26 processed | B27 processed | B28 processed | B29 processed | B30 processed | B31 processed | "
     ]
    },
    {
     "name": "stderr",
     "output_type": "stream",
     "text": [
      "Found local copy...\n"
     ]
    },
    {
     "name": "stdout",
     "output_type": "stream",
     "text": [
      "B32 processed | Human score at HITL iteration 1: [1.0, 0.9435420312058261, 0.9884351715451507, 0.960927480310093, 0.8521356338875765, 0.7817066534097533, 0.9296836745981583, 0.969136168937014]\n",
      "New queried dataset size: 56\n",
      "Combined dataset size: 536\n",
      "Saved augmented training data at output_bradley_terry_n_steps_100/R3_T5_Q8_acq_greedy_noise_0.1/REINVENT_round_2/HITL_iteration_1/iteration_combined_data.csv\n",
      "Epoch 5, Loss: 0.4895693411429723\n",
      "Epoch 10, Loss: 0.4894327794512113\n",
      "Epoch 15, Loss: 0.4892641504605611\n",
      "Epoch 20, Loss: 0.4891043355067571\n",
      "Epoch 25, Loss: 0.4889167547225952\n",
      "Saved retrained feedback model at output_bradley_terry_n_steps_100/R3_T5_Q8_acq_greedy_noise_0.1/REINVENT_round_2/HITL_iteration_1/bradley_terry_model.pth\n",
      "----------------------------------\n",
      "HITL iteration = 2\n",
      "Loading Bradley Terry model successfully from output_bradley_terry_n_steps_100/R3_T5_Q8_acq_greedy_noise_0.1/REINVENT_round_2/HITL_iteration_1/bradley_terry_model.pth\n",
      "B1 processed | B2 processed | B3 processed | B4 processed | B5 processed | B6 processed | B7 processed | B8 processed | B9 processed | B10 processed | B11 processed | B12 processed | B13 processed | B14 processed | B15 processed | B16 processed | B17 processed | B18 processed | B19 processed | B20 processed | B21 processed | B22 processed | B23 processed | B24 processed | B25 processed | B26 processed | B27 processed | B28 processed | B29 processed | B30 processed | B31 processed | "
     ]
    },
    {
     "name": "stderr",
     "output_type": "stream",
     "text": [
      "Found local copy...\n"
     ]
    },
    {
     "name": "stdout",
     "output_type": "stream",
     "text": [
      "B32 processed | Human score at HITL iteration 2: [0.9822892722630107, 0.8166918523723483, 1.0, 0.9614916570283514, 0.3877037534006274, 0.21483871686555361, 1.0, 1.0]\n",
      "New queried dataset size: 56\n",
      "Combined dataset size: 592\n",
      "Saved augmented training data at output_bradley_terry_n_steps_100/R3_T5_Q8_acq_greedy_noise_0.1/REINVENT_round_2/HITL_iteration_2/iteration_combined_data.csv\n",
      "Epoch 5, Loss: 0.8197350800037384\n",
      "Epoch 10, Loss: 0.8193764761090279\n",
      "Epoch 15, Loss: 0.8189986161887646\n",
      "Epoch 20, Loss: 0.818570252507925\n",
      "Epoch 25, Loss: 0.8181260749697685\n",
      "Saved retrained feedback model at output_bradley_terry_n_steps_100/R3_T5_Q8_acq_greedy_noise_0.1/REINVENT_round_2/HITL_iteration_2/bradley_terry_model.pth\n",
      "----------------------------------\n",
      "HITL iteration = 3\n",
      "Loading Bradley Terry model successfully from output_bradley_terry_n_steps_100/R3_T5_Q8_acq_greedy_noise_0.1/REINVENT_round_2/HITL_iteration_2/bradley_terry_model.pth\n",
      "B1 processed | B2 processed | B3 processed | B4 processed | B5 processed | B6 processed | B7 processed | B8 processed | B9 processed | B10 processed | B11 processed | B12 processed | B13 processed | B14 processed | B15 processed | B16 processed | B17 processed | B18 processed | B19 processed | B20 processed | B21 processed | B22 processed | B23 processed | B24 processed | B25 processed | B26 processed | B27 processed | B28 processed | B29 processed | B30 processed | B31 processed | "
     ]
    },
    {
     "name": "stderr",
     "output_type": "stream",
     "text": [
      "Found local copy...\n"
     ]
    },
    {
     "name": "stdout",
     "output_type": "stream",
     "text": [
      "B32 processed | Human score at HITL iteration 3: [0.7906009358629223, 0.9217948948409845, 0.11197575660953409, 0.7145250388284351, 0.95207877960437, 0.9501707372661139, 0.8579940059314376, 0.8503676999736078]\n",
      "New queried dataset size: 56\n",
      "Combined dataset size: 648\n",
      "Saved augmented training data at output_bradley_terry_n_steps_100/R3_T5_Q8_acq_greedy_noise_0.1/REINVENT_round_2/HITL_iteration_3/iteration_combined_data.csv\n",
      "Epoch 5, Loss: 1.8085665106773376\n",
      "Epoch 10, Loss: 1.8075971528887749\n",
      "Epoch 15, Loss: 1.8061466813087463\n",
      "Epoch 20, Loss: 1.805328942835331\n",
      "Epoch 25, Loss: 1.8039057701826096\n",
      "Saved retrained feedback model at output_bradley_terry_n_steps_100/R3_T5_Q8_acq_greedy_noise_0.1/REINVENT_round_2/HITL_iteration_3/bradley_terry_model.pth\n",
      "----------------------------------\n",
      "HITL iteration = 4\n",
      "Loading Bradley Terry model successfully from output_bradley_terry_n_steps_100/R3_T5_Q8_acq_greedy_noise_0.1/REINVENT_round_2/HITL_iteration_3/bradley_terry_model.pth\n",
      "B1 processed | B2 processed | B3 processed | B4 processed | B5 processed | B6 processed | B7 processed | B8 processed | B9 processed | B10 processed | B11 processed | B12 processed | B13 processed | B14 processed | B15 processed | B16 processed | B17 processed | B18 processed | B19 processed | B20 processed | B21 processed | B22 processed | B23 processed | B24 processed | B25 processed | B26 processed | B27 processed | B28 processed | B29 processed | B30 processed | B31 processed | "
     ]
    },
    {
     "name": "stderr",
     "output_type": "stream",
     "text": [
      "Found local copy...\n"
     ]
    },
    {
     "name": "stdout",
     "output_type": "stream",
     "text": [
      "B32 processed | Human score at HITL iteration 4: [1.0, 0.9639609119467378, 0.9140217226282965, 1.0, 1.0, 0.9354857701437704, 0.1347796466605788, 1.0]\n",
      "New queried dataset size: 56\n",
      "Combined dataset size: 704\n",
      "Saved augmented training data at output_bradley_terry_n_steps_100/R3_T5_Q8_acq_greedy_noise_0.1/REINVENT_round_2/HITL_iteration_4/iteration_combined_data.csv\n",
      "Epoch 5, Loss: 0.47245090268552303\n",
      "Epoch 10, Loss: 0.47210434824228287\n",
      "Epoch 15, Loss: 0.4717323873192072\n",
      "Epoch 20, Loss: 0.47133443132042885\n",
      "Epoch 25, Loss: 0.47091189585626125\n",
      "Saved retrained feedback model at output_bradley_terry_n_steps_100/R3_T5_Q8_acq_greedy_noise_0.1/REINVENT_round_2/HITL_iteration_4/bradley_terry_model.pth\n",
      "----------------------------------\n",
      "HITL iteration = 5\n",
      "Loading Bradley Terry model successfully from output_bradley_terry_n_steps_100/R3_T5_Q8_acq_greedy_noise_0.1/REINVENT_round_2/HITL_iteration_4/bradley_terry_model.pth\n",
      "B1 processed | B2 processed | B3 processed | B4 processed | B5 processed | B6 processed | B7 processed | B8 processed | B9 processed | B10 processed | B11 processed | B12 processed | B13 processed | B14 processed | B15 processed | B16 processed | B17 processed | B18 processed | B19 processed | B20 processed | B21 processed | B22 processed | B23 processed | B24 processed | B25 processed | B26 processed | B27 processed | B28 processed | B29 processed | B30 processed | B31 processed | "
     ]
    },
    {
     "name": "stderr",
     "output_type": "stream",
     "text": [
      "Found local copy...\n"
     ]
    },
    {
     "name": "stdout",
     "output_type": "stream",
     "text": [
      "B32 processed | Human score at HITL iteration 5: [0.9964171052195993, 1.0, 0.6515062670103554, 0.8150682750951602, 0.7978642341635692, 0.9700949107375546, 0.9117396202082567, 0.7966566628051361]\n",
      "New queried dataset size: 56\n",
      "Combined dataset size: 760\n",
      "Saved augmented training data at output_bradley_terry_n_steps_100/R3_T5_Q8_acq_greedy_noise_0.1/REINVENT_round_2/HITL_iteration_5/iteration_combined_data.csv\n",
      "Epoch 5, Loss: 0.6849718615412712\n",
      "Epoch 10, Loss: 0.6843120927611986\n",
      "Epoch 15, Loss: 0.6836963593959808\n",
      "Epoch 20, Loss: 0.6829751084248225\n",
      "Epoch 25, Loss: 0.682238350311915\n",
      "Saved retrained feedback model at output_bradley_terry_n_steps_100/R3_T5_Q8_acq_greedy_noise_0.1/REINVENT_round_2/HITL_iteration_5/bradley_terry_model.pth\n",
      "=====================================\n",
      "REINVENT round = 3\n",
      "Creating config file: output_bradley_terry_n_steps_100/R3_T5_Q8_acq_greedy_noise_0.1/REINVENT_round_3/config.json.\n",
      "Run REINVENT\n",
      "Exit code: 0\n",
      "Number of SMILES in scaffold_memory.csv:  5008\n",
      "----------------------------------\n",
      "HITL iteration = 1\n",
      "Loading Bradley Terry model successfully from output_bradley_terry_n_steps_100/R3_T5_Q8_acq_greedy_noise_0.1/REINVENT_round_2/HITL_iteration_5/bradley_terry_model.pth\n",
      "B1 processed | B2 processed | B3 processed | B4 processed | B5 processed | B6 processed | B7 processed | B8 processed | B9 processed | B10 processed | B11 processed | B12 processed | B13 processed | B14 processed | B15 processed | B16 processed | B17 processed | B18 processed | B19 processed | B20 processed | B21 processed | B22 processed | B23 processed | B24 processed | B25 processed | B26 processed | B27 processed | B28 processed | B29 processed | B30 processed | B31 processed | "
     ]
    },
    {
     "name": "stderr",
     "output_type": "stream",
     "text": [
      "Found local copy...\n"
     ]
    },
    {
     "name": "stdout",
     "output_type": "stream",
     "text": [
      "B32 processed | Human score at HITL iteration 1: [0.7927532430928547, 1.0, 1.0, 0.9481687251473474, 0.6416070437202918, 0.8106213412485788, 0.2994001069573959, 1.0]\n",
      "New queried dataset size: 56\n",
      "Combined dataset size: 816\n",
      "Saved augmented training data at output_bradley_terry_n_steps_100/R3_T5_Q8_acq_greedy_noise_0.1/REINVENT_round_3/HITL_iteration_1/iteration_combined_data.csv\n",
      "Epoch 5, Loss: 1.1085506416857243\n",
      "Epoch 10, Loss: 1.1076587662100792\n",
      "Epoch 15, Loss: 1.1060220636427402\n",
      "Epoch 20, Loss: 1.1052112057805061\n",
      "Epoch 25, Loss: 1.1039215922355652\n",
      "Saved retrained feedback model at output_bradley_terry_n_steps_100/R3_T5_Q8_acq_greedy_noise_0.1/REINVENT_round_3/HITL_iteration_1/bradley_terry_model.pth\n",
      "----------------------------------\n",
      "HITL iteration = 2\n",
      "Loading Bradley Terry model successfully from output_bradley_terry_n_steps_100/R3_T5_Q8_acq_greedy_noise_0.1/REINVENT_round_3/HITL_iteration_1/bradley_terry_model.pth\n",
      "B1 processed | B2 processed | B3 processed | B4 processed | B5 processed | B6 processed | B7 processed | B8 processed | B9 processed | B10 processed | B11 processed | B12 processed | B13 processed | B14 processed | B15 processed | B16 processed | B17 processed | B18 processed | B19 processed | B20 processed | B21 processed | B22 processed | B23 processed | B24 processed | B25 processed | B26 processed | B27 processed | B28 processed | B29 processed | B30 processed | B31 processed | "
     ]
    },
    {
     "name": "stderr",
     "output_type": "stream",
     "text": [
      "Found local copy...\n"
     ]
    },
    {
     "name": "stdout",
     "output_type": "stream",
     "text": [
      "B32 processed | Human score at HITL iteration 2: [0.9348029964699616, 1.0, 1.0, 1.0, 0.025707562420218946, 0.7954206086150567, 0.9559770903484806, 0.7461861143178947]\n",
      "New queried dataset size: 56\n",
      "Combined dataset size: 872\n",
      "Saved augmented training data at output_bradley_terry_n_steps_100/R3_T5_Q8_acq_greedy_noise_0.1/REINVENT_round_3/HITL_iteration_2/iteration_combined_data.csv\n",
      "Epoch 5, Loss: 2.3784327805042267\n",
      "Epoch 10, Loss: 2.3768334686756134\n",
      "Epoch 15, Loss: 2.373071901500225\n",
      "Epoch 20, Loss: 2.3704573214054108\n",
      "Epoch 25, Loss: 2.369418866932392\n",
      "Saved retrained feedback model at output_bradley_terry_n_steps_100/R3_T5_Q8_acq_greedy_noise_0.1/REINVENT_round_3/HITL_iteration_2/bradley_terry_model.pth\n",
      "----------------------------------\n",
      "HITL iteration = 3\n",
      "Loading Bradley Terry model successfully from output_bradley_terry_n_steps_100/R3_T5_Q8_acq_greedy_noise_0.1/REINVENT_round_3/HITL_iteration_2/bradley_terry_model.pth\n",
      "B1 processed | B2 processed | B3 processed | B4 processed | B5 processed | B6 processed | B7 processed | B8 processed | B9 processed | B10 processed | B11 processed | B12 processed | B13 processed | B14 processed | B15 processed | B16 processed | B17 processed | B18 processed | B19 processed | B20 processed | B21 processed | B22 processed | B23 processed | B24 processed | B25 processed | B26 processed | B27 processed | B28 processed | B29 processed | B30 processed | B31 processed | "
     ]
    },
    {
     "name": "stderr",
     "output_type": "stream",
     "text": [
      "Found local copy...\n"
     ]
    },
    {
     "name": "stdout",
     "output_type": "stream",
     "text": [
      "B32 processed | Human score at HITL iteration 3: [1.0, 1.0, 0.9966590818356338, 0.6770221207109554, 0.8304379331307014, 0.939233569722167, 0.9354426914011453, 0.639583976550153]\n",
      "New queried dataset size: 56\n",
      "Combined dataset size: 928\n",
      "Saved augmented training data at output_bradley_terry_n_steps_100/R3_T5_Q8_acq_greedy_noise_0.1/REINVENT_round_3/HITL_iteration_3/iteration_combined_data.csv\n",
      "Epoch 5, Loss: 0.6136796902865171\n",
      "Epoch 10, Loss: 0.6131270807236433\n",
      "Epoch 15, Loss: 0.6126105058938265\n",
      "Epoch 20, Loss: 0.6121304053813219\n",
      "Epoch 25, Loss: 0.6116885356605053\n",
      "Saved retrained feedback model at output_bradley_terry_n_steps_100/R3_T5_Q8_acq_greedy_noise_0.1/REINVENT_round_3/HITL_iteration_3/bradley_terry_model.pth\n",
      "----------------------------------\n",
      "HITL iteration = 4\n",
      "Loading Bradley Terry model successfully from output_bradley_terry_n_steps_100/R3_T5_Q8_acq_greedy_noise_0.1/REINVENT_round_3/HITL_iteration_3/bradley_terry_model.pth\n",
      "B1 processed | B2 processed | B3 processed | B4 processed | B5 processed | B6 processed | B7 processed | B8 processed | B9 processed | B10 processed | B11 processed | B12 processed | B13 processed | B14 processed | B15 processed | B16 processed | B17 processed | B18 processed | B19 processed | B20 processed | B21 processed | B22 processed | B23 processed | B24 processed | B25 processed | B26 processed | B27 processed | B28 processed | B29 processed | B30 processed | B31 processed | "
     ]
    },
    {
     "name": "stderr",
     "output_type": "stream",
     "text": [
      "Found local copy...\n"
     ]
    },
    {
     "name": "stdout",
     "output_type": "stream",
     "text": [
      "B32 processed | Human score at HITL iteration 4: [0.7981849992404525, 0.7265224814278957, 0.47080323539691493, 0.9694086645752619, 0.2171303560736953, 0.9925529056798945, 0.7886733028111992, 0.5226299704514035]\n",
      "New queried dataset size: 56\n",
      "Combined dataset size: 984\n",
      "Saved augmented training data at output_bradley_terry_n_steps_100/R3_T5_Q8_acq_greedy_noise_0.1/REINVENT_round_3/HITL_iteration_4/iteration_combined_data.csv\n",
      "Epoch 5, Loss: 0.8724180882175764\n",
      "Epoch 10, Loss: 0.8717378551761309\n",
      "Epoch 15, Loss: 0.8711856106917063\n",
      "Epoch 20, Loss: 0.8706139177083969\n",
      "Epoch 25, Loss: 0.8700982307394346\n",
      "Saved retrained feedback model at output_bradley_terry_n_steps_100/R3_T5_Q8_acq_greedy_noise_0.1/REINVENT_round_3/HITL_iteration_4/bradley_terry_model.pth\n",
      "----------------------------------\n",
      "HITL iteration = 5\n",
      "Loading Bradley Terry model successfully from output_bradley_terry_n_steps_100/R3_T5_Q8_acq_greedy_noise_0.1/REINVENT_round_3/HITL_iteration_4/bradley_terry_model.pth\n",
      "B1 processed | B2 processed | B3 processed | B4 processed | B5 processed | B6 processed | B7 processed | B8 processed | B9 processed | B10 processed | B11 processed | B12 processed | B13 processed | B14 processed | B15 processed | B16 processed | B17 processed | B18 processed | B19 processed | B20 processed | B21 processed | B22 processed | B23 processed | B24 processed | B25 processed | B26 processed | B27 processed | B28 processed | B29 processed | B30 processed | B31 processed | "
     ]
    },
    {
     "name": "stderr",
     "output_type": "stream",
     "text": [
      "Found local copy...\n"
     ]
    },
    {
     "name": "stdout",
     "output_type": "stream",
     "text": [
      "B32 processed | Human score at HITL iteration 5: [0.9618755899564847, 1.0, 0.9298568181004594, 0.30974141908886244, 0.2768228821951553, 0.8831190838450398, 1.0, 0.6203974934565578]\n",
      "New queried dataset size: 56\n",
      "Combined dataset size: 1040\n",
      "Saved augmented training data at output_bradley_terry_n_steps_100/R3_T5_Q8_acq_greedy_noise_0.1/REINVENT_round_3/HITL_iteration_5/iteration_combined_data.csv\n",
      "Epoch 5, Loss: 1.3904367610812187\n",
      "Epoch 10, Loss: 1.3896121457219124\n",
      "Epoch 15, Loss: 1.388481080532074\n",
      "Epoch 20, Loss: 1.3876683972775936\n",
      "Epoch 25, Loss: 1.3874942660331726\n",
      "Saved retrained feedback model at output_bradley_terry_n_steps_100/R3_T5_Q8_acq_greedy_noise_0.1/REINVENT_round_3/HITL_iteration_5/bradley_terry_model.pth\n",
      "=====================================\n",
      "REINVENT round = 4\n",
      "Creating config file: output_bradley_terry_n_steps_100/R3_T5_Q8_acq_greedy_noise_0.1/REINVENT_round_4/config.json.\n",
      "Run REINVENT\n",
      "Exit code: 0\n"
     ]
    }
   ],
   "source": [
    "! pip install -e \"/home/springnuance/reinvent-hitl/reinvent-scoring\"\n",
    "\n",
    "seed = 42\n",
    "  \n",
    "# change these path variables as required\n",
    "reinvent_dir = \"/home/springnuance/reinvent-hitl/Reinvent\" # We must use absolute path\n",
    "reinvent_env = \"/home/springnuance/miniconda3/envs/ReinventCommunity\" # We must use absolute path\n",
    "\n",
    "# the performance of the initial model should not be good. Specifically, it should work at 0.5 accuracy \n",
    "# If the model is too good, retrain the model to become weaker, we are trying to make the model to learn via HITL\n",
    "\n",
    "feedback_type = \"comparing\" # scoring, comparing, ranking\n",
    "\n",
    "# feedback type as comparing:\n",
    "# Given two molecules, what is the probability that the first molecule is more active than the second molecule regarding DRD2?\n",
    "\n",
    "base_training_dataset_path = \"/home/springnuance/reinvent-hitl/Base-Code-Binh/training_Bradley_Terry_model/small_drd2_training_data.csv\"\n",
    "\n",
    "model_pretrained_path = \"/home/springnuance/reinvent-hitl/Base-Code-Binh/training_Bradley_Terry_model/bradley_terry_model.pth\"\n",
    "model_pretrained_name = \"bradley_terry_model.pth\"\n",
    "\n",
    "num_rounds = 3 # number of rounds, corresponding to R in the paper\n",
    "num_iters = 5 # number of iterations of showing molecules to the human for feedback at each round\n",
    "REINVENT_n_steps = 100 # number of REINVENT optimization steps\n",
    "batch_size = 64 # batch size of the reinforcement learning model, or size of scaffold_memory.csv\n",
    "\n",
    "num_queries = 8 # number of molecules, pairs or a set of molecules, dependig on the task, \n",
    "                 # shown to the simulated chemist at each HITL_iteration\n",
    "\n",
    "# The actual queries is actually (num_queries) x (num_queries - 1), since we are comparing each pair of molecules\n",
    "# As a result, 8 x 7 = 56 pairs of molecules shown to the human\n",
    "\n",
    "choose_top_smiles = 64 * num_iters * 2 # number of top molecules to choose from scaffold. \n",
    "\n",
    "training_epochs = 25 # number of epochs for training the model in each HITL iteration\n",
    "learning_rate = 0.000001 # learning rate for training the model in each HITL iteration\n",
    "\n",
    "for acquisition in [\"random\", \"uncertainty\", \"greedy\"]:\n",
    "    for sigma_noise in [0.0, 0.1]:\n",
    "        print(\"\\n*******************************************************************\")\n",
    "        print(f\"Running HITL with {acquisition} acquisition and noise {sigma_noise}\")\n",
    "        output_dir = f\"output_bradley_terry_n_steps_100/R{num_rounds}_T{num_iters}_Q{num_queries}_acq_{acquisition}_noise_{sigma_noise}\"\n",
    "\n",
    "        if os.path.exists(output_dir):\n",
    "            pass\n",
    "        else:\n",
    "            run_HITL_classify(\n",
    "                    seed, reinvent_dir, reinvent_env, output_dir,\n",
    "                    feedback_type, # scoring, comparing, ranking\n",
    "                    base_training_dataset_path, # Path to the pretrained model before REINVENT_round_1/HITL_iteration_1\n",
    "                    model_pretrained_path, # Path to the pretrained model before REINVENT_round_1\n",
    "                    model_pretrained_name, # Name of the pretrained model before REINVENT_round_1\n",
    "                    num_rounds, # number of rounds, corresponding to R in the paper\n",
    "                    num_iters, # number of iterations of showing molecules to the human for feedback at each round, corresponding to T in the paper\n",
    "                    num_queries, # number of molecules shown to the simulated chemist at each HITL_iteration\n",
    "                    REINVENT_n_steps, # number of REINVENT optimization steps\n",
    "                    batch_size, # batch size of the reinforcement learning model, or size of scaffold_memory.csv\n",
    "                    acquisition, # acquisition: 'uncertainty', 'random', 'thompson', 'greedy' (if None run with no human interaction)\n",
    "                    sigma_noise, # noise level for simulated chemist's responses\n",
    "                    choose_top_smiles, # number of top scoring molecules to choose for feedback\n",
    "                    training_epochs, # number of epochs for training the model in each HITL iteration\n",
    "                    learning_rate, # learning rate for training the model in each HITL iteration\n",
    "            )\n",
    "\n",
    "        if not os.path.exists(f\"{output_dir}/REINVENT_round_{num_rounds+1}\"):\n",
    "            REINVENT_n_steps_last = 200\n",
    "            batch_size_last = 64\n",
    "            # Run the last REINVENT round using the last feedback model\n",
    "            current_model_path = f\"{output_dir}/REINVENT_round_{num_rounds}/HITL_iteration_{num_iters}/{model_pretrained_name}\"\n",
    "            run_REINVENT_round(num_rounds+1,\n",
    "                reinvent_dir, reinvent_env, output_dir, \n",
    "                feedback_type, # scoring, comparing, ranking\n",
    "                current_model_path, # Path to the pretrained model \n",
    "                REINVENT_n_steps_last, # number of REINVENT optimization steps. This is not related to the HITL but on the REINVENT side\n",
    "                batch_size_last, # batch size of the reinforcement learning model, or size of scaffold_memory.csv\n",
    "            )\n",
    "        else:\n",
    "            print(f\"Already ran the last REINVENT round for {output_dir}\")\n"
   ]
  },
  {
   "cell_type": "markdown",
   "metadata": {},
   "source": [
    "### Running Rank ListNet model"
   ]
  },
  {
   "cell_type": "code",
   "execution_count": 11,
   "metadata": {},
   "outputs": [
    {
     "name": "stdout",
     "output_type": "stream",
     "text": [
      "Obtaining file:///home/springnuance/reinvent-hitl/reinvent-scoring\n",
      "  Preparing metadata (setup.py) ... \u001b[?25ldone\n",
      "\u001b[?25hInstalling collected packages: reinvent-scoring\n",
      "  Attempting uninstall: reinvent-scoring\n",
      "    Found existing installation: reinvent-scoring 0.0.73\n",
      "    Uninstalling reinvent-scoring-0.0.73:\n",
      "      Successfully uninstalled reinvent-scoring-0.0.73\n",
      "  Running setup.py develop for reinvent-scoring\n",
      "Successfully installed reinvent-scoring-0.0.73\n",
      "\n",
      "\u001b[1m[\u001b[0m\u001b[34;49mnotice\u001b[0m\u001b[1;39;49m]\u001b[0m\u001b[39;49m A new release of pip is available: \u001b[0m\u001b[31;49m24.0\u001b[0m\u001b[39;49m -> \u001b[0m\u001b[32;49m24.1.2\u001b[0m\n",
      "\u001b[1m[\u001b[0m\u001b[34;49mnotice\u001b[0m\u001b[1;39;49m]\u001b[0m\u001b[39;49m To update, run: \u001b[0m\u001b[32;49mpip install --upgrade pip\u001b[0m\n",
      "\n",
      "*******************************************************************\n",
      "Running HITL with random acquisition and noise 0.0\n",
      "Already ran the last REINVENT round for output_rank_listnet_n_steps_100/R3_T5_Q8_acq_random_noise_0.0\n",
      "\n",
      "*******************************************************************\n",
      "Running HITL with random acquisition and noise 0.1\n",
      "Already ran the last REINVENT round for output_rank_listnet_n_steps_100/R3_T5_Q8_acq_random_noise_0.1\n",
      "\n",
      "*******************************************************************\n",
      "Running HITL with uncertainty acquisition and noise 0.0\n",
      "\n",
      "Running DRD2 (one objective) with rounds 3, iters 5, queries 8, seed 42\n",
      "Results will be saved at output_rank_listnet_n_steps_100/R3_T5_Q8_acq_uncertainty_noise_0.0\n",
      "Loading initial training datasets successfully\n",
      "=====================================\n",
      "REINVENT round = 1\n",
      "Creating config file: output_rank_listnet_n_steps_100/R3_T5_Q8_acq_uncertainty_noise_0.0/REINVENT_round_1/config.json.\n",
      "Run REINVENT\n",
      "Exit code: 0\n",
      "Number of SMILES in scaffold_memory.csv:  6160\n",
      "----------------------------------\n",
      "HITL iteration = 1\n",
      "Loading Rank ListNet model successfully from /home/springnuance/reinvent-hitl/Base-Code-Binh/training_Rank_ListNet_model/rank_listnet_model.pth\n",
      "B1 processed | B2 processed | B3 processed | B4 processed | B5 processed | B6 processed | B7 processed | B8 processed | "
     ]
    },
    {
     "name": "stderr",
     "output_type": "stream",
     "text": [
      "Found local copy...\n"
     ]
    },
    {
     "name": "stdout",
     "output_type": "stream",
     "text": [
      "B9 processed | Human score at HITL iteration 1: [0.0016792732525271448, 0.001355437265589983, 0.008549279621678502, 0.019175283269487694, 0.001136894957438439, 0.004610941209349772, 0.0004182572864760244, 0.02250796278514377]\n",
      "New queried dataset size: 56\n",
      "Combined dataset size: 256\n",
      "Saved augmented training data at output_rank_listnet_n_steps_100/R3_T5_Q8_acq_uncertainty_noise_0.0/REINVENT_round_1/HITL_iteration_1/iteration_combined_data.csv\n",
      "Epoch 5, Loss: 0.013360511627979577\n",
      "Epoch 10, Loss: 0.013342257007025182\n",
      "Epoch 15, Loss: 0.013323852559551597\n",
      "Epoch 20, Loss: 0.013304785592481494\n",
      "Epoch 25, Loss: 0.013285338878631592\n",
      "Saved retrained feedback model at output_rank_listnet_n_steps_100/R3_T5_Q8_acq_uncertainty_noise_0.0/REINVENT_round_1/HITL_iteration_1/rank_listnet_model.pth\n",
      "----------------------------------\n",
      "HITL iteration = 2\n",
      "Loading Rank ListNet model successfully from output_rank_listnet_n_steps_100/R3_T5_Q8_acq_uncertainty_noise_0.0/REINVENT_round_1/HITL_iteration_1/rank_listnet_model.pth\n",
      "B1 processed | B2 processed | B3 processed | B4 processed | B5 processed | B6 processed | B7 processed | B8 processed | "
     ]
    },
    {
     "name": "stderr",
     "output_type": "stream",
     "text": [
      "Found local copy...\n"
     ]
    },
    {
     "name": "stdout",
     "output_type": "stream",
     "text": [
      "B9 processed | Human score at HITL iteration 2: [0.04755637579597877, 0.000455267920529446, 0.020729585542425454, 0.00013574186965920984, 2.8883748421837482e-05, 0.006243266774914877, 0.057159920977922114, 0.0014024616306254729]\n",
      "New queried dataset size: 56\n",
      "Combined dataset size: 312\n",
      "Saved augmented training data at output_rank_listnet_n_steps_100/R3_T5_Q8_acq_uncertainty_noise_0.0/REINVENT_round_1/HITL_iteration_2/iteration_combined_data.csv\n",
      "Epoch 5, Loss: 0.018030582927167416\n",
      "Epoch 10, Loss: 0.018124034628272057\n",
      "Epoch 15, Loss: 0.018069103204955656\n",
      "Epoch 20, Loss: 0.018038115231320262\n",
      "Epoch 25, Loss: 0.01809461632122596\n",
      "Saved retrained feedback model at output_rank_listnet_n_steps_100/R3_T5_Q8_acq_uncertainty_noise_0.0/REINVENT_round_1/HITL_iteration_2/rank_listnet_model.pth\n",
      "----------------------------------\n",
      "HITL iteration = 3\n",
      "Loading Rank ListNet model successfully from output_rank_listnet_n_steps_100/R3_T5_Q8_acq_uncertainty_noise_0.0/REINVENT_round_1/HITL_iteration_2/rank_listnet_model.pth\n",
      "B1 processed | B2 processed | B3 processed | B4 processed | B5 processed | B6 processed | B7 processed | B8 processed | "
     ]
    },
    {
     "name": "stderr",
     "output_type": "stream",
     "text": [
      "Found local copy...\n"
     ]
    },
    {
     "name": "stdout",
     "output_type": "stream",
     "text": [
      "B9 processed | Human score at HITL iteration 3: [0.00019507939589818535, 0.017419461224851766, 0.021593542231933088, 0.004511007729870292, 0.011783212062191737, 0.0008378693280633591, 0.0006868808987660773, 0.002587764116684091]\n",
      "New queried dataset size: 56\n",
      "Combined dataset size: 368\n",
      "Saved augmented training data at output_rank_listnet_n_steps_100/R3_T5_Q8_acq_uncertainty_noise_0.0/REINVENT_round_1/HITL_iteration_3/iteration_combined_data.csv\n",
      "Epoch 5, Loss: 0.02754830615594983\n",
      "Epoch 10, Loss: 0.02697470469865948\n",
      "Epoch 15, Loss: 0.027850381447933614\n",
      "Epoch 20, Loss: 0.02802710619289428\n",
      "Epoch 25, Loss: 0.02730112976860255\n",
      "Saved retrained feedback model at output_rank_listnet_n_steps_100/R3_T5_Q8_acq_uncertainty_noise_0.0/REINVENT_round_1/HITL_iteration_3/rank_listnet_model.pth\n",
      "----------------------------------\n",
      "HITL iteration = 4\n",
      "Loading Rank ListNet model successfully from output_rank_listnet_n_steps_100/R3_T5_Q8_acq_uncertainty_noise_0.0/REINVENT_round_1/HITL_iteration_3/rank_listnet_model.pth\n",
      "B1 processed | B2 processed | B3 processed | B4 processed | B5 processed | B6 processed | B7 processed | B8 processed | "
     ]
    },
    {
     "name": "stderr",
     "output_type": "stream",
     "text": [
      "Found local copy...\n"
     ]
    },
    {
     "name": "stdout",
     "output_type": "stream",
     "text": [
      "B9 processed | Human score at HITL iteration 4: [0.016235424530745796, 0.0050765394942522135, 0.00203805716213563, 0.15617017674047587, 0.023286737829927653, 0.012961075601498733, 0.057578208792739984, 0.0009130171124622815]\n",
      "New queried dataset size: 56\n",
      "Combined dataset size: 424\n",
      "Saved augmented training data at output_rank_listnet_n_steps_100/R3_T5_Q8_acq_uncertainty_noise_0.0/REINVENT_round_1/HITL_iteration_4/iteration_combined_data.csv\n",
      "Epoch 5, Loss: 0.05622461414895952\n",
      "Epoch 10, Loss: 0.054462600499391556\n",
      "Epoch 15, Loss: 0.053082222351804376\n",
      "Epoch 20, Loss: 0.0544571653008461\n",
      "Epoch 25, Loss: 0.0556581427808851\n",
      "Saved retrained feedback model at output_rank_listnet_n_steps_100/R3_T5_Q8_acq_uncertainty_noise_0.0/REINVENT_round_1/HITL_iteration_4/rank_listnet_model.pth\n",
      "----------------------------------\n",
      "HITL iteration = 5\n",
      "Loading Rank ListNet model successfully from output_rank_listnet_n_steps_100/R3_T5_Q8_acq_uncertainty_noise_0.0/REINVENT_round_1/HITL_iteration_4/rank_listnet_model.pth\n",
      "B1 processed | B2 processed | B3 processed | B4 processed | B5 processed | B6 processed | B7 processed | B8 processed | "
     ]
    },
    {
     "name": "stderr",
     "output_type": "stream",
     "text": [
      "Found local copy...\n"
     ]
    },
    {
     "name": "stdout",
     "output_type": "stream",
     "text": [
      "B9 processed | Human score at HITL iteration 5: [0.0018949986867466471, 0.0016635538677329275, 0.0011577184833628496, 0.028731093209345714, 0.000929772624485198, 0.011009115206571177, 0.019659597669805382, 0.008403664821168435]\n",
      "New queried dataset size: 56\n",
      "Combined dataset size: 480\n",
      "Saved augmented training data at output_rank_listnet_n_steps_100/R3_T5_Q8_acq_uncertainty_noise_0.0/REINVENT_round_1/HITL_iteration_5/iteration_combined_data.csv\n",
      "Epoch 5, Loss: 0.0126669168821536\n",
      "Epoch 10, Loss: 0.012587366858497262\n",
      "Epoch 15, Loss: 0.012500942742917687\n",
      "Epoch 20, Loss: 0.012405824498273432\n",
      "Epoch 25, Loss: 0.01230226515326649\n",
      "Saved retrained feedback model at output_rank_listnet_n_steps_100/R3_T5_Q8_acq_uncertainty_noise_0.0/REINVENT_round_1/HITL_iteration_5/rank_listnet_model.pth\n",
      "=====================================\n",
      "REINVENT round = 2\n",
      "Creating config file: output_rank_listnet_n_steps_100/R3_T5_Q8_acq_uncertainty_noise_0.0/REINVENT_round_2/config.json.\n",
      "Run REINVENT\n",
      "Exit code: 0\n",
      "Number of SMILES in scaffold_memory.csv:  6164\n",
      "----------------------------------\n",
      "HITL iteration = 1\n",
      "Loading Rank ListNet model successfully from output_rank_listnet_n_steps_100/R3_T5_Q8_acq_uncertainty_noise_0.0/REINVENT_round_1/HITL_iteration_5/rank_listnet_model.pth\n",
      "B1 processed | B2 processed | B3 processed | B4 processed | B5 processed | B6 processed | B7 processed | B8 processed | "
     ]
    },
    {
     "name": "stderr",
     "output_type": "stream",
     "text": [
      "Found local copy...\n"
     ]
    },
    {
     "name": "stdout",
     "output_type": "stream",
     "text": [
      "B9 processed | Human score at HITL iteration 1: [0.08618756362480455, 0.057776128986262484, 0.9840420958807888, 0.004613102231864157, 0.02084571522820952, 0.9907833421336979, 0.25512050799751546, 0.8235247333704306]\n",
      "New queried dataset size: 56\n",
      "Combined dataset size: 536\n",
      "Saved augmented training data at output_rank_listnet_n_steps_100/R3_T5_Q8_acq_uncertainty_noise_0.0/REINVENT_round_2/HITL_iteration_1/iteration_combined_data.csv\n",
      "Epoch 5, Loss: 0.021306647763897974\n",
      "Epoch 10, Loss: 0.021187065013994772\n",
      "Epoch 15, Loss: 0.02092814336841305\n",
      "Epoch 20, Loss: 0.02055856476848324\n",
      "Epoch 25, Loss: 0.020481050480157137\n",
      "Saved retrained feedback model at output_rank_listnet_n_steps_100/R3_T5_Q8_acq_uncertainty_noise_0.0/REINVENT_round_2/HITL_iteration_1/rank_listnet_model.pth\n",
      "----------------------------------\n",
      "HITL iteration = 2\n",
      "Loading Rank ListNet model successfully from output_rank_listnet_n_steps_100/R3_T5_Q8_acq_uncertainty_noise_0.0/REINVENT_round_2/HITL_iteration_1/rank_listnet_model.pth\n",
      "B1 processed | B2 processed | B3 processed | B4 processed | B5 processed | B6 processed | B7 processed | B8 processed | "
     ]
    },
    {
     "name": "stderr",
     "output_type": "stream",
     "text": [
      "Found local copy...\n"
     ]
    },
    {
     "name": "stdout",
     "output_type": "stream",
     "text": [
      "B9 processed | Human score at HITL iteration 2: [0.06879879716509946, 0.050433106185836185, 0.3121711086156361, 0.8532493417006972, 0.030513592166133682, 0.3700828925206275, 0.9145015056254507, 0.15795248959869618]\n",
      "New queried dataset size: 56\n",
      "Combined dataset size: 592\n",
      "Saved augmented training data at output_rank_listnet_n_steps_100/R3_T5_Q8_acq_uncertainty_noise_0.0/REINVENT_round_2/HITL_iteration_2/iteration_combined_data.csv\n",
      "Epoch 5, Loss: 0.035323241725564\n",
      "Epoch 10, Loss: 0.034827117109671235\n",
      "Epoch 15, Loss: 0.03460664418525994\n",
      "Epoch 20, Loss: 0.033487209933809936\n",
      "Epoch 25, Loss: 0.032809847267344594\n",
      "Saved retrained feedback model at output_rank_listnet_n_steps_100/R3_T5_Q8_acq_uncertainty_noise_0.0/REINVENT_round_2/HITL_iteration_2/rank_listnet_model.pth\n",
      "----------------------------------\n",
      "HITL iteration = 3\n",
      "Loading Rank ListNet model successfully from output_rank_listnet_n_steps_100/R3_T5_Q8_acq_uncertainty_noise_0.0/REINVENT_round_2/HITL_iteration_2/rank_listnet_model.pth\n",
      "B1 processed | B2 processed | B3 processed | B4 processed | B5 processed | B6 processed | B7 processed | B8 processed | "
     ]
    },
    {
     "name": "stderr",
     "output_type": "stream",
     "text": [
      "Found local copy...\n"
     ]
    },
    {
     "name": "stdout",
     "output_type": "stream",
     "text": [
      "B9 processed | Human score at HITL iteration 3: [0.25194739738313, 0.034054035962828216, 0.011394188003796782, 0.008206775425276962, 0.2599509310356654, 0.027901975882981538, 0.361733877754067, 0.0066717774763177876]\n",
      "New queried dataset size: 56\n",
      "Combined dataset size: 648\n",
      "Saved augmented training data at output_rank_listnet_n_steps_100/R3_T5_Q8_acq_uncertainty_noise_0.0/REINVENT_round_2/HITL_iteration_3/iteration_combined_data.csv\n",
      "Epoch 5, Loss: 0.06662652641534805\n",
      "Epoch 10, Loss: 0.06524778774473816\n",
      "Epoch 15, Loss: 0.06395292317029089\n",
      "Epoch 20, Loss: 0.06255651952233166\n",
      "Epoch 25, Loss: 0.05939037958160043\n",
      "Saved retrained feedback model at output_rank_listnet_n_steps_100/R3_T5_Q8_acq_uncertainty_noise_0.0/REINVENT_round_2/HITL_iteration_3/rank_listnet_model.pth\n",
      "----------------------------------\n",
      "HITL iteration = 4\n",
      "Loading Rank ListNet model successfully from output_rank_listnet_n_steps_100/R3_T5_Q8_acq_uncertainty_noise_0.0/REINVENT_round_2/HITL_iteration_3/rank_listnet_model.pth\n",
      "B1 processed | B2 processed | B3 processed | B4 processed | B5 processed | B6 processed | B7 processed | B8 processed | "
     ]
    },
    {
     "name": "stderr",
     "output_type": "stream",
     "text": [
      "Found local copy...\n"
     ]
    },
    {
     "name": "stdout",
     "output_type": "stream",
     "text": [
      "B9 processed | Human score at HITL iteration 4: [0.0420393609808775, 0.04215128166375924, 0.27968405158506654, 0.5, 0.31064178356156585, 0.04877715076690225, 0.45965603298170166, 0.07539946638071353]\n",
      "New queried dataset size: 56\n",
      "Combined dataset size: 704\n",
      "Saved augmented training data at output_rank_listnet_n_steps_100/R3_T5_Q8_acq_uncertainty_noise_0.0/REINVENT_round_2/HITL_iteration_4/iteration_combined_data.csv\n",
      "Epoch 5, Loss: 0.014744505751878023\n",
      "Epoch 10, Loss: 0.014242467877920717\n",
      "Epoch 15, Loss: 0.013710900588193908\n",
      "Epoch 20, Loss: 0.013152008265024051\n",
      "Epoch 25, Loss: 0.012569360056659207\n",
      "Saved retrained feedback model at output_rank_listnet_n_steps_100/R3_T5_Q8_acq_uncertainty_noise_0.0/REINVENT_round_2/HITL_iteration_4/rank_listnet_model.pth\n",
      "----------------------------------\n",
      "HITL iteration = 5\n",
      "Loading Rank ListNet model successfully from output_rank_listnet_n_steps_100/R3_T5_Q8_acq_uncertainty_noise_0.0/REINVENT_round_2/HITL_iteration_4/rank_listnet_model.pth\n",
      "B1 processed | B2 processed | B3 processed | B4 processed | B5 processed | B6 processed | B7 processed | B8 processed | "
     ]
    },
    {
     "name": "stderr",
     "output_type": "stream",
     "text": [
      "Found local copy...\n"
     ]
    },
    {
     "name": "stdout",
     "output_type": "stream",
     "text": [
      "B9 processed | Human score at HITL iteration 5: [0.332321871038077, 0.05160216580591964, 0.2097343372086352, 0.07403456134203182, 0.1021350414809952, 0.9124334013116618, 0.06883269281686384, 0.0123810757605529]\n",
      "New queried dataset size: 56\n",
      "Combined dataset size: 760\n",
      "Saved augmented training data at output_rank_listnet_n_steps_100/R3_T5_Q8_acq_uncertainty_noise_0.0/REINVENT_round_2/HITL_iteration_5/iteration_combined_data.csv\n",
      "Epoch 5, Loss: 0.018160094662259024\n",
      "Epoch 10, Loss: 0.017423035382914048\n",
      "Epoch 15, Loss: 0.016295587527565658\n",
      "Epoch 20, Loss: 0.01529460617651542\n",
      "Epoch 25, Loss: 0.014323047711513937\n",
      "Saved retrained feedback model at output_rank_listnet_n_steps_100/R3_T5_Q8_acq_uncertainty_noise_0.0/REINVENT_round_2/HITL_iteration_5/rank_listnet_model.pth\n",
      "=====================================\n",
      "REINVENT round = 3\n",
      "Creating config file: output_rank_listnet_n_steps_100/R3_T5_Q8_acq_uncertainty_noise_0.0/REINVENT_round_3/config.json.\n",
      "Run REINVENT\n",
      "Exit code: 0\n",
      "Number of SMILES in scaffold_memory.csv:  6178\n",
      "----------------------------------\n",
      "HITL iteration = 1\n",
      "Loading Rank ListNet model successfully from output_rank_listnet_n_steps_100/R3_T5_Q8_acq_uncertainty_noise_0.0/REINVENT_round_2/HITL_iteration_5/rank_listnet_model.pth\n",
      "B1 processed | B2 processed | B3 processed | B4 processed | B5 processed | B6 processed | B7 processed | B8 processed | "
     ]
    },
    {
     "name": "stderr",
     "output_type": "stream",
     "text": [
      "Found local copy...\n"
     ]
    },
    {
     "name": "stdout",
     "output_type": "stream",
     "text": [
      "B9 processed | Human score at HITL iteration 1: [0.23843548476478957, 0.0033587261139559166, 0.004849200199232663, 0.009043372384326587, 0.8116358630805887, 0.8444202681703885, 0.17242861450054683, 0.6021980616041124]\n",
      "New queried dataset size: 56\n",
      "Combined dataset size: 816\n",
      "Saved augmented training data at output_rank_listnet_n_steps_100/R3_T5_Q8_acq_uncertainty_noise_0.0/REINVENT_round_3/HITL_iteration_1/iteration_combined_data.csv\n",
      "Epoch 5, Loss: 0.024760990869253874\n",
      "Epoch 10, Loss: 0.023155451519414783\n",
      "Epoch 15, Loss: 0.021466945006977767\n",
      "Epoch 20, Loss: 0.0198645124619361\n",
      "Epoch 25, Loss: 0.018030997627647594\n",
      "Saved retrained feedback model at output_rank_listnet_n_steps_100/R3_T5_Q8_acq_uncertainty_noise_0.0/REINVENT_round_3/HITL_iteration_1/rank_listnet_model.pth\n",
      "----------------------------------\n",
      "HITL iteration = 2\n",
      "Loading Rank ListNet model successfully from output_rank_listnet_n_steps_100/R3_T5_Q8_acq_uncertainty_noise_0.0/REINVENT_round_3/HITL_iteration_1/rank_listnet_model.pth\n",
      "B1 processed | B2 processed | B3 processed | B4 processed | B5 processed | B6 processed | B7 processed | B8 processed | "
     ]
    },
    {
     "name": "stderr",
     "output_type": "stream",
     "text": [
      "Found local copy...\n"
     ]
    },
    {
     "name": "stdout",
     "output_type": "stream",
     "text": [
      "B9 processed | Human score at HITL iteration 2: [0.6555108259213679, 0.1584582108930085, 0.11879684651844002, 0.5757449989025705, 0.05346430507470753, 0.3331021208463458, 0.6948740967694921, 0.007589194850156741]\n",
      "New queried dataset size: 56\n",
      "Combined dataset size: 872\n",
      "Saved augmented training data at output_rank_listnet_n_steps_100/R3_T5_Q8_acq_uncertainty_noise_0.0/REINVENT_round_3/HITL_iteration_2/iteration_combined_data.csv\n",
      "Epoch 5, Loss: 0.037345390883274376\n",
      "Epoch 10, Loss: 0.03455704846419394\n",
      "Epoch 15, Loss: 0.030671445128973573\n",
      "Epoch 20, Loss: 0.02762359398184344\n",
      "Epoch 25, Loss: 0.024403100891504437\n",
      "Saved retrained feedback model at output_rank_listnet_n_steps_100/R3_T5_Q8_acq_uncertainty_noise_0.0/REINVENT_round_3/HITL_iteration_2/rank_listnet_model.pth\n",
      "----------------------------------\n",
      "HITL iteration = 3\n",
      "Loading Rank ListNet model successfully from output_rank_listnet_n_steps_100/R3_T5_Q8_acq_uncertainty_noise_0.0/REINVENT_round_3/HITL_iteration_2/rank_listnet_model.pth\n",
      "B1 processed | B2 processed | B3 processed | B4 processed | B5 processed | B6 processed | B7 processed | B8 processed | "
     ]
    },
    {
     "name": "stderr",
     "output_type": "stream",
     "text": [
      "Found local copy...\n"
     ]
    },
    {
     "name": "stdout",
     "output_type": "stream",
     "text": [
      "B9 processed | Human score at HITL iteration 3: [0.04247689375631064, 0.0032099926695764052, 0.002037677662027517, 0.024792444815552782, 0.10394854360532359, 0.818561293088836, 0.22816986450398458, 0.548068880460195]\n",
      "New queried dataset size: 56\n",
      "Combined dataset size: 928\n",
      "Saved augmented training data at output_rank_listnet_n_steps_100/R3_T5_Q8_acq_uncertainty_noise_0.0/REINVENT_round_3/HITL_iteration_3/iteration_combined_data.csv\n",
      "Epoch 5, Loss: 0.006418982375180349\n",
      "Epoch 10, Loss: 0.005552056463784538\n",
      "Epoch 15, Loss: 0.004781702358741313\n",
      "Epoch 20, Loss: 0.004107081709662452\n",
      "Epoch 25, Loss: 0.0035289077495690435\n",
      "Saved retrained feedback model at output_rank_listnet_n_steps_100/R3_T5_Q8_acq_uncertainty_noise_0.0/REINVENT_round_3/HITL_iteration_3/rank_listnet_model.pth\n",
      "----------------------------------\n",
      "HITL iteration = 4\n",
      "Loading Rank ListNet model successfully from output_rank_listnet_n_steps_100/R3_T5_Q8_acq_uncertainty_noise_0.0/REINVENT_round_3/HITL_iteration_3/rank_listnet_model.pth\n",
      "B1 processed | B2 processed | B3 processed | B4 processed | B5 processed | B6 processed | B7 processed | B8 processed | "
     ]
    },
    {
     "name": "stderr",
     "output_type": "stream",
     "text": [
      "Found local copy...\n"
     ]
    },
    {
     "name": "stdout",
     "output_type": "stream",
     "text": [
      "B9 processed | Human score at HITL iteration 4: [0.18403155957561398, 0.007171115769546903, 0.021846669414201787, 0.7072446695632875, 0.132070150297868, 0.019407591559504344, 0.011163027909970072, 0.9374287801928696]\n",
      "New queried dataset size: 56\n",
      "Combined dataset size: 984\n",
      "Saved augmented training data at output_rank_listnet_n_steps_100/R3_T5_Q8_acq_uncertainty_noise_0.0/REINVENT_round_3/HITL_iteration_4/iteration_combined_data.csv\n",
      "Epoch 5, Loss: 0.007045748294331133\n",
      "Epoch 10, Loss: 0.005874844539600114\n",
      "Epoch 15, Loss: 0.004901513825946798\n",
      "Epoch 20, Loss: 0.004101474652998149\n",
      "Epoch 25, Loss: 0.0034773726074490696\n",
      "Saved retrained feedback model at output_rank_listnet_n_steps_100/R3_T5_Q8_acq_uncertainty_noise_0.0/REINVENT_round_3/HITL_iteration_4/rank_listnet_model.pth\n",
      "----------------------------------\n",
      "HITL iteration = 5\n",
      "Loading Rank ListNet model successfully from output_rank_listnet_n_steps_100/R3_T5_Q8_acq_uncertainty_noise_0.0/REINVENT_round_3/HITL_iteration_4/rank_listnet_model.pth\n",
      "B1 processed | B2 processed | B3 processed | B4 processed | B5 processed | B6 processed | B7 processed | B8 processed | "
     ]
    },
    {
     "name": "stderr",
     "output_type": "stream",
     "text": [
      "Found local copy...\n"
     ]
    },
    {
     "name": "stdout",
     "output_type": "stream",
     "text": [
      "B9 processed | Human score at HITL iteration 5: [0.0010835763259488228, 0.12864864089771594, 0.00305379978213803, 0.019962046537826583, 0.18942169248540075, 0.005351013031016337, 0.037543889538691574, 0.30602298776444664]\n",
      "New queried dataset size: 56\n",
      "Combined dataset size: 1040\n",
      "Saved augmented training data at output_rank_listnet_n_steps_100/R3_T5_Q8_acq_uncertainty_noise_0.0/REINVENT_round_3/HITL_iteration_5/iteration_combined_data.csv\n",
      "Epoch 5, Loss: 0.004539165121968836\n",
      "Epoch 10, Loss: 0.0036942071455996484\n",
      "Epoch 15, Loss: 0.003074689389904961\n",
      "Epoch 20, Loss: 0.0026452483725734055\n",
      "Epoch 25, Loss: 0.0022171066084410995\n",
      "Saved retrained feedback model at output_rank_listnet_n_steps_100/R3_T5_Q8_acq_uncertainty_noise_0.0/REINVENT_round_3/HITL_iteration_5/rank_listnet_model.pth\n",
      "=====================================\n",
      "REINVENT round = 4\n",
      "Creating config file: output_rank_listnet_n_steps_100/R3_T5_Q8_acq_uncertainty_noise_0.0/REINVENT_round_4/config.json.\n",
      "Run REINVENT\n",
      "Exit code: 0\n",
      "\n",
      "*******************************************************************\n",
      "Running HITL with uncertainty acquisition and noise 0.1\n",
      "\n",
      "Running DRD2 (one objective) with rounds 3, iters 5, queries 8, seed 42\n",
      "Results will be saved at output_rank_listnet_n_steps_100/R3_T5_Q8_acq_uncertainty_noise_0.1\n",
      "Loading initial training datasets successfully\n",
      "=====================================\n",
      "REINVENT round = 1\n",
      "Creating config file: output_rank_listnet_n_steps_100/R3_T5_Q8_acq_uncertainty_noise_0.1/REINVENT_round_1/config.json.\n",
      "Run REINVENT\n",
      "Exit code: 0\n",
      "Number of SMILES in scaffold_memory.csv:  6163\n",
      "----------------------------------\n",
      "HITL iteration = 1\n",
      "Loading Rank ListNet model successfully from /home/springnuance/reinvent-hitl/Base-Code-Binh/training_Rank_ListNet_model/rank_listnet_model.pth\n",
      "B1 processed | B2 processed | B3 processed | B4 processed | B5 processed | B6 processed | B7 processed | B8 processed | "
     ]
    },
    {
     "name": "stderr",
     "output_type": "stream",
     "text": [
      "Found local copy...\n"
     ]
    },
    {
     "name": "stdout",
     "output_type": "stream",
     "text": [
      "B9 processed | Human score at HITL iteration 1: [0.05160097219649144, 0.0013165286615411005, 0.06599356206839102, 0.15732709508083878, 0.0, 0.0, 0.15806932552923098, 0.07934935461572765]\n",
      "New queried dataset size: 56\n",
      "Combined dataset size: 256\n",
      "Saved augmented training data at output_rank_listnet_n_steps_100/R3_T5_Q8_acq_uncertainty_noise_0.1/REINVENT_round_1/HITL_iteration_1/iteration_combined_data.csv\n",
      "Epoch 5, Loss: 0.01343774190172553\n",
      "Epoch 10, Loss: 0.013419257826171815\n",
      "Epoch 15, Loss: 0.013400585623458028\n",
      "Epoch 20, Loss: 0.01338132529053837\n",
      "Epoch 25, Loss: 0.013361566001549363\n",
      "Saved retrained feedback model at output_rank_listnet_n_steps_100/R3_T5_Q8_acq_uncertainty_noise_0.1/REINVENT_round_1/HITL_iteration_1/rank_listnet_model.pth\n",
      "----------------------------------\n",
      "HITL iteration = 2\n",
      "Loading Rank ListNet model successfully from output_rank_listnet_n_steps_100/R3_T5_Q8_acq_uncertainty_noise_0.1/REINVENT_round_1/HITL_iteration_1/rank_listnet_model.pth\n",
      "B1 processed | B2 processed | B3 processed | B4 processed | B5 processed | B6 processed | B7 processed | B8 processed | "
     ]
    },
    {
     "name": "stderr",
     "output_type": "stream",
     "text": [
      "Found local copy...\n"
     ]
    },
    {
     "name": "stdout",
     "output_type": "stream",
     "text": [
      "B9 processed | Human score at HITL iteration 2: [0.0, 0.0548754245745555, 0.0, 0.0, 0.024981982282785607, 0.0, 0.0, 0.0]\n",
      "New queried dataset size: 56\n",
      "Combined dataset size: 312\n",
      "Saved augmented training data at output_rank_listnet_n_steps_100/R3_T5_Q8_acq_uncertainty_noise_0.1/REINVENT_round_1/HITL_iteration_2/iteration_combined_data.csv\n",
      "Epoch 5, Loss: 0.018342208272467058\n",
      "Epoch 10, Loss: 0.018075336003676057\n",
      "Epoch 15, Loss: 0.01828649764259656\n",
      "Epoch 20, Loss: 0.017972457921132445\n",
      "Epoch 25, Loss: 0.01813070134570201\n",
      "Saved retrained feedback model at output_rank_listnet_n_steps_100/R3_T5_Q8_acq_uncertainty_noise_0.1/REINVENT_round_1/HITL_iteration_2/rank_listnet_model.pth\n",
      "----------------------------------\n",
      "HITL iteration = 3\n",
      "Loading Rank ListNet model successfully from output_rank_listnet_n_steps_100/R3_T5_Q8_acq_uncertainty_noise_0.1/REINVENT_round_1/HITL_iteration_2/rank_listnet_model.pth\n",
      "B1 processed | B2 processed | B3 processed | B4 processed | B5 processed | B6 processed | B7 processed | B8 processed | "
     ]
    },
    {
     "name": "stderr",
     "output_type": "stream",
     "text": [
      "Found local copy...\n"
     ]
    },
    {
     "name": "stdout",
     "output_type": "stream",
     "text": [
      "B9 processed | Human score at HITL iteration 3: [0.0, 0.0322088662166876, 0.0, 0.0, 0.15824959912317832, 0.0, 0.019623215752735686, 0.0]\n",
      "New queried dataset size: 56\n",
      "Combined dataset size: 368\n",
      "Saved augmented training data at output_rank_listnet_n_steps_100/R3_T5_Q8_acq_uncertainty_noise_0.1/REINVENT_round_1/HITL_iteration_3/iteration_combined_data.csv\n",
      "Epoch 5, Loss: 0.02796040812972933\n",
      "Epoch 10, Loss: 0.028386800084263086\n",
      "Epoch 15, Loss: 0.02721273573115468\n",
      "Epoch 20, Loss: 0.027214902103878558\n",
      "Epoch 25, Loss: 0.02719458716455847\n",
      "Saved retrained feedback model at output_rank_listnet_n_steps_100/R3_T5_Q8_acq_uncertainty_noise_0.1/REINVENT_round_1/HITL_iteration_3/rank_listnet_model.pth\n",
      "----------------------------------\n",
      "HITL iteration = 4\n",
      "Loading Rank ListNet model successfully from output_rank_listnet_n_steps_100/R3_T5_Q8_acq_uncertainty_noise_0.1/REINVENT_round_1/HITL_iteration_3/rank_listnet_model.pth\n",
      "B1 processed | B2 processed | B3 processed | B4 processed | B5 processed | B6 processed | B7 processed | B8 processed | "
     ]
    },
    {
     "name": "stderr",
     "output_type": "stream",
     "text": [
      "Found local copy...\n"
     ]
    },
    {
     "name": "stdout",
     "output_type": "stream",
     "text": [
      "B9 processed | Human score at HITL iteration 4: [0.0, 0.015734431579766613, 0.0, 0.03852432866209992, 0.0, 0.0, 0.0, 0.18549514471246534]\n",
      "New queried dataset size: 56\n",
      "Combined dataset size: 424\n",
      "Saved augmented training data at output_rank_listnet_n_steps_100/R3_T5_Q8_acq_uncertainty_noise_0.1/REINVENT_round_1/HITL_iteration_4/iteration_combined_data.csv\n",
      "Epoch 5, Loss: 0.05369061743840575\n",
      "Epoch 10, Loss: 0.05371686979196966\n",
      "Epoch 15, Loss: 0.0534818354062736\n",
      "Epoch 20, Loss: 0.053865304216742516\n",
      "Epoch 25, Loss: 0.055541853653267026\n",
      "Saved retrained feedback model at output_rank_listnet_n_steps_100/R3_T5_Q8_acq_uncertainty_noise_0.1/REINVENT_round_1/HITL_iteration_4/rank_listnet_model.pth\n",
      "----------------------------------\n",
      "HITL iteration = 5\n",
      "Loading Rank ListNet model successfully from output_rank_listnet_n_steps_100/R3_T5_Q8_acq_uncertainty_noise_0.1/REINVENT_round_1/HITL_iteration_4/rank_listnet_model.pth\n",
      "B1 processed | B2 processed | B3 processed | B4 processed | B5 processed | B6 processed | B7 processed | B8 processed | "
     ]
    },
    {
     "name": "stderr",
     "output_type": "stream",
     "text": [
      "Found local copy...\n"
     ]
    },
    {
     "name": "stdout",
     "output_type": "stream",
     "text": [
      "B9 processed | Human score at HITL iteration 5: [0.035723755026633, 0.0, 0.0861648539138426, 0.0, 0.03617134305560158, 0.0, 0.0, 0.020409918839146755]\n",
      "New queried dataset size: 56\n",
      "Combined dataset size: 480\n",
      "Saved augmented training data at output_rank_listnet_n_steps_100/R3_T5_Q8_acq_uncertainty_noise_0.1/REINVENT_round_1/HITL_iteration_5/iteration_combined_data.csv\n",
      "Epoch 5, Loss: 0.012823347933590412\n",
      "Epoch 10, Loss: 0.012741976301185787\n",
      "Epoch 15, Loss: 0.012652813049498945\n",
      "Epoch 20, Loss: 0.012554265063954517\n",
      "Epoch 25, Loss: 0.012446170498151332\n",
      "Saved retrained feedback model at output_rank_listnet_n_steps_100/R3_T5_Q8_acq_uncertainty_noise_0.1/REINVENT_round_1/HITL_iteration_5/rank_listnet_model.pth\n",
      "=====================================\n",
      "REINVENT round = 2\n",
      "Creating config file: output_rank_listnet_n_steps_100/R3_T5_Q8_acq_uncertainty_noise_0.1/REINVENT_round_2/config.json.\n",
      "Run REINVENT\n",
      "Exit code: 0\n",
      "Number of SMILES in scaffold_memory.csv:  6126\n",
      "----------------------------------\n",
      "HITL iteration = 1\n",
      "Loading Rank ListNet model successfully from output_rank_listnet_n_steps_100/R3_T5_Q8_acq_uncertainty_noise_0.1/REINVENT_round_1/HITL_iteration_5/rank_listnet_model.pth\n",
      "B1 processed | B2 processed | B3 processed | B4 processed | B5 processed | B6 processed | B7 processed | B8 processed | "
     ]
    },
    {
     "name": "stderr",
     "output_type": "stream",
     "text": [
      "Found local copy...\n"
     ]
    },
    {
     "name": "stdout",
     "output_type": "stream",
     "text": [
      "B9 processed | Human score at HITL iteration 1: [0.07390530889249525, 0.8535458536005136, 0.03992012894630284, 0.3138446170019029, 0.08163155358857513, 0.130256607790873, 0.9007079119204362, 0.14943482064962602]\n",
      "New queried dataset size: 56\n",
      "Combined dataset size: 536\n",
      "Saved augmented training data at output_rank_listnet_n_steps_100/R3_T5_Q8_acq_uncertainty_noise_0.1/REINVENT_round_2/HITL_iteration_1/iteration_combined_data.csv\n",
      "Epoch 5, Loss: 0.02003925813672443\n",
      "Epoch 10, Loss: 0.019594628596678376\n",
      "Epoch 15, Loss: 0.01936562592163682\n",
      "Epoch 20, Loss: 0.019232922156030934\n",
      "Epoch 25, Loss: 0.018926355910177033\n",
      "Saved retrained feedback model at output_rank_listnet_n_steps_100/R3_T5_Q8_acq_uncertainty_noise_0.1/REINVENT_round_2/HITL_iteration_1/rank_listnet_model.pth\n",
      "----------------------------------\n",
      "HITL iteration = 2\n",
      "Loading Rank ListNet model successfully from output_rank_listnet_n_steps_100/R3_T5_Q8_acq_uncertainty_noise_0.1/REINVENT_round_2/HITL_iteration_1/rank_listnet_model.pth\n",
      "B1 processed | B2 processed | B3 processed | B4 processed | B5 processed | B6 processed | B7 processed | B8 processed | "
     ]
    },
    {
     "name": "stderr",
     "output_type": "stream",
     "text": [
      "Found local copy...\n"
     ]
    },
    {
     "name": "stdout",
     "output_type": "stream",
     "text": [
      "B9 processed | Human score at HITL iteration 2: [0.12175725463725458, 0.0, 0.33049706918593963, 0.9256748650933715, 0.24398485611420406, 1.0, 0.35716276745388753, 0.9652039048583292]\n",
      "New queried dataset size: 56\n",
      "Combined dataset size: 592\n",
      "Saved augmented training data at output_rank_listnet_n_steps_100/R3_T5_Q8_acq_uncertainty_noise_0.1/REINVENT_round_2/HITL_iteration_2/iteration_combined_data.csv\n",
      "Epoch 5, Loss: 0.034636823111213744\n",
      "Epoch 10, Loss: 0.03348182316403836\n",
      "Epoch 15, Loss: 0.033444942033383995\n",
      "Epoch 20, Loss: 0.032328683766536415\n",
      "Epoch 25, Loss: 0.03167541266884655\n",
      "Saved retrained feedback model at output_rank_listnet_n_steps_100/R3_T5_Q8_acq_uncertainty_noise_0.1/REINVENT_round_2/HITL_iteration_2/rank_listnet_model.pth\n",
      "----------------------------------\n",
      "HITL iteration = 3\n",
      "Loading Rank ListNet model successfully from output_rank_listnet_n_steps_100/R3_T5_Q8_acq_uncertainty_noise_0.1/REINVENT_round_2/HITL_iteration_2/rank_listnet_model.pth\n",
      "B1 processed | B2 processed | B3 processed | B4 processed | B5 processed | B6 processed | B7 processed | B8 processed | "
     ]
    },
    {
     "name": "stderr",
     "output_type": "stream",
     "text": [
      "Found local copy...\n"
     ]
    },
    {
     "name": "stdout",
     "output_type": "stream",
     "text": [
      "B9 processed | Human score at HITL iteration 3: [0.0, 0.0, 0.4680066623485335, 0.9624654060452192, 0.6964317202569391, 0.12949785600711544, 0.0, 0.5413237776040203]\n",
      "New queried dataset size: 56\n",
      "Combined dataset size: 648\n",
      "Saved augmented training data at output_rank_listnet_n_steps_100/R3_T5_Q8_acq_uncertainty_noise_0.1/REINVENT_round_2/HITL_iteration_3/iteration_combined_data.csv\n",
      "Epoch 5, Loss: 0.07317132758907974\n",
      "Epoch 10, Loss: 0.0718934431206435\n",
      "Epoch 15, Loss: 0.07119252323172987\n",
      "Epoch 20, Loss: 0.06784150749444962\n",
      "Epoch 25, Loss: 0.06529812421649694\n",
      "Saved retrained feedback model at output_rank_listnet_n_steps_100/R3_T5_Q8_acq_uncertainty_noise_0.1/REINVENT_round_2/HITL_iteration_3/rank_listnet_model.pth\n",
      "----------------------------------\n",
      "HITL iteration = 4\n",
      "Loading Rank ListNet model successfully from output_rank_listnet_n_steps_100/R3_T5_Q8_acq_uncertainty_noise_0.1/REINVENT_round_2/HITL_iteration_3/rank_listnet_model.pth\n",
      "B1 processed | B2 processed | B3 processed | B4 processed | B5 processed | B6 processed | B7 processed | B8 processed | "
     ]
    },
    {
     "name": "stderr",
     "output_type": "stream",
     "text": [
      "Found local copy...\n"
     ]
    },
    {
     "name": "stdout",
     "output_type": "stream",
     "text": [
      "B9 processed | Human score at HITL iteration 4: [1.0, 0.14204710237683132, 0.8139167821084498, 0.7631764227761408, 1.0, 0.3096943086448264, 0.036871239326645454, 0.8477293990579893]\n",
      "New queried dataset size: 56\n",
      "Combined dataset size: 704\n",
      "Saved augmented training data at output_rank_listnet_n_steps_100/R3_T5_Q8_acq_uncertainty_noise_0.1/REINVENT_round_2/HITL_iteration_4/iteration_combined_data.csv\n",
      "Epoch 5, Loss: 0.017655888106673956\n",
      "Epoch 10, Loss: 0.01703247136902064\n",
      "Epoch 15, Loss: 0.016369638789910823\n",
      "Epoch 20, Loss: 0.015670142194721848\n",
      "Epoch 25, Loss: 0.014934799808543175\n",
      "Saved retrained feedback model at output_rank_listnet_n_steps_100/R3_T5_Q8_acq_uncertainty_noise_0.1/REINVENT_round_2/HITL_iteration_4/rank_listnet_model.pth\n",
      "----------------------------------\n",
      "HITL iteration = 5\n",
      "Loading Rank ListNet model successfully from output_rank_listnet_n_steps_100/R3_T5_Q8_acq_uncertainty_noise_0.1/REINVENT_round_2/HITL_iteration_4/rank_listnet_model.pth\n",
      "B1 processed | B2 processed | B3 processed | B4 processed | B5 processed | B6 processed | B7 processed | B8 processed | "
     ]
    },
    {
     "name": "stderr",
     "output_type": "stream",
     "text": [
      "Found local copy...\n"
     ]
    },
    {
     "name": "stdout",
     "output_type": "stream",
     "text": [
      "B9 processed | Human score at HITL iteration 5: [0.0037496732275864243, 0.22392417302442993, 0.0, 0.0925600538251261, 0.8142485731853675, 0.0, 0.9629964885341131, 0.0]\n",
      "New queried dataset size: 56\n",
      "Combined dataset size: 760\n",
      "Saved augmented training data at output_rank_listnet_n_steps_100/R3_T5_Q8_acq_uncertainty_noise_0.1/REINVENT_round_2/HITL_iteration_5/iteration_combined_data.csv\n",
      "Epoch 5, Loss: 0.022842815689121682\n",
      "Epoch 10, Loss: 0.021744714118540287\n",
      "Epoch 15, Loss: 0.020625893531056743\n",
      "Epoch 20, Loss: 0.01940016964605699\n",
      "Epoch 25, Loss: 0.018039082099373143\n",
      "Saved retrained feedback model at output_rank_listnet_n_steps_100/R3_T5_Q8_acq_uncertainty_noise_0.1/REINVENT_round_2/HITL_iteration_5/rank_listnet_model.pth\n",
      "=====================================\n",
      "REINVENT round = 3\n",
      "Creating config file: output_rank_listnet_n_steps_100/R3_T5_Q8_acq_uncertainty_noise_0.1/REINVENT_round_3/config.json.\n",
      "Run REINVENT\n",
      "Exit code: 0\n",
      "Number of SMILES in scaffold_memory.csv:  6161\n",
      "----------------------------------\n",
      "HITL iteration = 1\n",
      "Loading Rank ListNet model successfully from output_rank_listnet_n_steps_100/R3_T5_Q8_acq_uncertainty_noise_0.1/REINVENT_round_2/HITL_iteration_5/rank_listnet_model.pth\n",
      "B1 processed | B2 processed | B3 processed | B4 processed | B5 processed | B6 processed | B7 processed | B8 processed | "
     ]
    },
    {
     "name": "stderr",
     "output_type": "stream",
     "text": [
      "Found local copy...\n"
     ]
    },
    {
     "name": "stdout",
     "output_type": "stream",
     "text": [
      "B9 processed | Human score at HITL iteration 1: [0.0, 0.16760734862095164, 0.296921576300633, 0.0, 0.0, 0.0, 0.2605144213033336, 0.9459499095934668]\n",
      "New queried dataset size: 56\n",
      "Combined dataset size: 816\n",
      "Saved augmented training data at output_rank_listnet_n_steps_100/R3_T5_Q8_acq_uncertainty_noise_0.1/REINVENT_round_3/HITL_iteration_1/iteration_combined_data.csv\n",
      "Epoch 5, Loss: 0.02941271662712097\n",
      "Epoch 10, Loss: 0.027188321109861135\n",
      "Epoch 15, Loss: 0.02511781343491748\n",
      "Epoch 20, Loss: 0.023175908369012177\n",
      "Epoch 25, Loss: 0.021368809801060706\n",
      "Saved retrained feedback model at output_rank_listnet_n_steps_100/R3_T5_Q8_acq_uncertainty_noise_0.1/REINVENT_round_3/HITL_iteration_1/rank_listnet_model.pth\n",
      "----------------------------------\n",
      "HITL iteration = 2\n",
      "Loading Rank ListNet model successfully from output_rank_listnet_n_steps_100/R3_T5_Q8_acq_uncertainty_noise_0.1/REINVENT_round_3/HITL_iteration_1/rank_listnet_model.pth\n",
      "B1 processed | B2 processed | B3 processed | B4 processed | B5 processed | B6 processed | B7 processed | B8 processed | "
     ]
    },
    {
     "name": "stderr",
     "output_type": "stream",
     "text": [
      "Found local copy...\n"
     ]
    },
    {
     "name": "stdout",
     "output_type": "stream",
     "text": [
      "B9 processed | Human score at HITL iteration 2: [0.008231970484378473, 0.08075618363592234, 0.019164192262499435, 0.1068963594078095, 0.0, 0.7523995761476888, 0.0, 0.0]\n",
      "New queried dataset size: 56\n",
      "Combined dataset size: 872\n",
      "Saved augmented training data at output_rank_listnet_n_steps_100/R3_T5_Q8_acq_uncertainty_noise_0.1/REINVENT_round_3/HITL_iteration_2/iteration_combined_data.csv\n",
      "Epoch 5, Loss: 0.044034096121322364\n",
      "Epoch 10, Loss: 0.039538757293485105\n",
      "Epoch 15, Loss: 0.0353536139591597\n",
      "Epoch 20, Loss: 0.03206995746586472\n",
      "Epoch 25, Loss: 0.028502162371296436\n",
      "Saved retrained feedback model at output_rank_listnet_n_steps_100/R3_T5_Q8_acq_uncertainty_noise_0.1/REINVENT_round_3/HITL_iteration_2/rank_listnet_model.pth\n",
      "----------------------------------\n",
      "HITL iteration = 3\n",
      "Loading Rank ListNet model successfully from output_rank_listnet_n_steps_100/R3_T5_Q8_acq_uncertainty_noise_0.1/REINVENT_round_3/HITL_iteration_2/rank_listnet_model.pth\n",
      "B1 processed | B2 processed | B3 processed | B4 processed | B5 processed | B6 processed | B7 processed | B8 processed | "
     ]
    },
    {
     "name": "stderr",
     "output_type": "stream",
     "text": [
      "Found local copy...\n"
     ]
    },
    {
     "name": "stdout",
     "output_type": "stream",
     "text": [
      "B9 processed | Human score at HITL iteration 3: [0.08030912435406867, 0.3485678345399662, 0.8499639981193381, 0.4063190592432656, 0.0, 0.9436068434745605, 0.4759111905733502, 0.6195851345371302]\n",
      "New queried dataset size: 56\n",
      "Combined dataset size: 928\n",
      "Saved augmented training data at output_rank_listnet_n_steps_100/R3_T5_Q8_acq_uncertainty_noise_0.1/REINVENT_round_3/HITL_iteration_3/iteration_combined_data.csv\n",
      "Epoch 5, Loss: 0.007614046451635659\n",
      "Epoch 10, Loss: 0.0066918953525600955\n",
      "Epoch 15, Loss: 0.005869726242963225\n",
      "Epoch 20, Loss: 0.005138103078934364\n",
      "Epoch 25, Loss: 0.004494895838433877\n",
      "Saved retrained feedback model at output_rank_listnet_n_steps_100/R3_T5_Q8_acq_uncertainty_noise_0.1/REINVENT_round_3/HITL_iteration_3/rank_listnet_model.pth\n",
      "----------------------------------\n",
      "HITL iteration = 4\n",
      "Loading Rank ListNet model successfully from output_rank_listnet_n_steps_100/R3_T5_Q8_acq_uncertainty_noise_0.1/REINVENT_round_3/HITL_iteration_3/rank_listnet_model.pth\n",
      "B1 processed | B2 processed | B3 processed | B4 processed | B5 processed | B6 processed | B7 processed | B8 processed | "
     ]
    },
    {
     "name": "stderr",
     "output_type": "stream",
     "text": [
      "Found local copy...\n"
     ]
    },
    {
     "name": "stdout",
     "output_type": "stream",
     "text": [
      "B9 processed | Human score at HITL iteration 4: [0.08418141472394314, 0.0551200190167936, 0.2672619768064137, 0.42310455931653496, 0.05505390027642949, 0.0, 0.0, 0.057078257430153156]\n",
      "New queried dataset size: 56\n",
      "Combined dataset size: 984\n",
      "Saved augmented training data at output_rank_listnet_n_steps_100/R3_T5_Q8_acq_uncertainty_noise_0.1/REINVENT_round_3/HITL_iteration_4/iteration_combined_data.csv\n",
      "Epoch 5, Loss: 0.005554655644421776\n",
      "Epoch 10, Loss: 0.004725716445439805\n",
      "Epoch 15, Loss: 0.004020822438178584\n",
      "Epoch 20, Loss: 0.003449916694080457\n",
      "Epoch 25, Loss: 0.0029782681667711586\n",
      "Saved retrained feedback model at output_rank_listnet_n_steps_100/R3_T5_Q8_acq_uncertainty_noise_0.1/REINVENT_round_3/HITL_iteration_4/rank_listnet_model.pth\n",
      "----------------------------------\n",
      "HITL iteration = 5\n",
      "Loading Rank ListNet model successfully from output_rank_listnet_n_steps_100/R3_T5_Q8_acq_uncertainty_noise_0.1/REINVENT_round_3/HITL_iteration_4/rank_listnet_model.pth\n",
      "B1 processed | B2 processed | B3 processed | B4 processed | B5 processed | B6 processed | B7 processed | B8 processed | "
     ]
    },
    {
     "name": "stderr",
     "output_type": "stream",
     "text": [
      "Found local copy...\n"
     ]
    },
    {
     "name": "stdout",
     "output_type": "stream",
     "text": [
      "B9 processed | Human score at HITL iteration 5: [0.010209138731124865, 1.0, 0.8022916990147086, 0.3397995450421007, 0.12571870281045253, 0.4068104356639714, 0.1167354217335605, 0.5257884909258704]\n",
      "New queried dataset size: 56\n",
      "Combined dataset size: 1040\n",
      "Saved augmented training data at output_rank_listnet_n_steps_100/R3_T5_Q8_acq_uncertainty_noise_0.1/REINVENT_round_3/HITL_iteration_5/iteration_combined_data.csv\n",
      "Epoch 5, Loss: 0.006861216941615567\n",
      "Epoch 10, Loss: 0.00573840196011588\n",
      "Epoch 15, Loss: 0.004674881958635524\n",
      "Epoch 20, Loss: 0.003810890775639564\n",
      "Epoch 25, Loss: 0.003213644726201892\n",
      "Saved retrained feedback model at output_rank_listnet_n_steps_100/R3_T5_Q8_acq_uncertainty_noise_0.1/REINVENT_round_3/HITL_iteration_5/rank_listnet_model.pth\n",
      "=====================================\n",
      "REINVENT round = 4\n",
      "Creating config file: output_rank_listnet_n_steps_100/R3_T5_Q8_acq_uncertainty_noise_0.1/REINVENT_round_4/config.json.\n",
      "Run REINVENT\n",
      "Exit code: 0\n",
      "\n",
      "*******************************************************************\n",
      "Running HITL with greedy acquisition and noise 0.0\n",
      "\n",
      "Running DRD2 (one objective) with rounds 3, iters 5, queries 8, seed 42\n",
      "Results will be saved at output_rank_listnet_n_steps_100/R3_T5_Q8_acq_greedy_noise_0.0\n",
      "Loading initial training datasets successfully\n",
      "=====================================\n",
      "REINVENT round = 1\n",
      "Creating config file: output_rank_listnet_n_steps_100/R3_T5_Q8_acq_greedy_noise_0.0/REINVENT_round_1/config.json.\n",
      "Run REINVENT\n",
      "Exit code: 0\n",
      "Number of SMILES in scaffold_memory.csv:  6144\n",
      "----------------------------------\n",
      "HITL iteration = 1\n",
      "Loading Rank ListNet model successfully from /home/springnuance/reinvent-hitl/Base-Code-Binh/training_Rank_ListNet_model/rank_listnet_model.pth\n",
      "B1 processed | B2 processed | B3 processed | B4 processed | B5 processed | B6 processed | B7 processed | B8 processed | "
     ]
    },
    {
     "name": "stderr",
     "output_type": "stream",
     "text": [
      "Found local copy...\n"
     ]
    },
    {
     "name": "stdout",
     "output_type": "stream",
     "text": [
      "B9 processed | Human score at HITL iteration 1: [0.1055408173482554, 0.00930319939742593, 0.03389451450040922, 0.006244017628873078, 0.08298303819603416, 0.0010500092922161117, 0.041091840853170136, 0.02236467739474152]\n",
      "New queried dataset size: 56\n",
      "Combined dataset size: 256\n",
      "Saved augmented training data at output_rank_listnet_n_steps_100/R3_T5_Q8_acq_greedy_noise_0.0/REINVENT_round_1/HITL_iteration_1/iteration_combined_data.csv\n",
      "Epoch 5, Loss: 0.01338547607883811\n",
      "Epoch 10, Loss: 0.013366986997425556\n",
      "Epoch 15, Loss: 0.013348304782994092\n",
      "Epoch 20, Loss: 0.013328867731615901\n",
      "Epoch 25, Loss: 0.013309054891578853\n",
      "Saved retrained feedback model at output_rank_listnet_n_steps_100/R3_T5_Q8_acq_greedy_noise_0.0/REINVENT_round_1/HITL_iteration_1/rank_listnet_model.pth\n",
      "----------------------------------\n",
      "HITL iteration = 2\n",
      "Loading Rank ListNet model successfully from output_rank_listnet_n_steps_100/R3_T5_Q8_acq_greedy_noise_0.0/REINVENT_round_1/HITL_iteration_1/rank_listnet_model.pth\n",
      "B1 processed | B2 processed | B3 processed | B4 processed | B5 processed | B6 processed | B7 processed | B8 processed | "
     ]
    },
    {
     "name": "stderr",
     "output_type": "stream",
     "text": [
      "Found local copy...\n"
     ]
    },
    {
     "name": "stdout",
     "output_type": "stream",
     "text": [
      "B9 processed | Human score at HITL iteration 2: [0.0021973446548658655, 0.001297161146441379, 0.004101117152015205, 0.000684897530870403, 0.023644029897283064, 0.008428990285604461, 0.0035746687160942174, 0.022811549917886774]\n",
      "New queried dataset size: 56\n",
      "Combined dataset size: 312\n",
      "Saved augmented training data at output_rank_listnet_n_steps_100/R3_T5_Q8_acq_greedy_noise_0.0/REINVENT_round_1/HITL_iteration_2/iteration_combined_data.csv\n",
      "Epoch 5, Loss: 0.018292516625175875\n",
      "Epoch 10, Loss: 0.018238261186828215\n",
      "Epoch 15, Loss: 0.017963734377796452\n",
      "Epoch 20, Loss: 0.017926462305088837\n",
      "Epoch 25, Loss: 0.018021275599797566\n",
      "Saved retrained feedback model at output_rank_listnet_n_steps_100/R3_T5_Q8_acq_greedy_noise_0.0/REINVENT_round_1/HITL_iteration_2/rank_listnet_model.pth\n",
      "----------------------------------\n",
      "HITL iteration = 3\n",
      "Loading Rank ListNet model successfully from output_rank_listnet_n_steps_100/R3_T5_Q8_acq_greedy_noise_0.0/REINVENT_round_1/HITL_iteration_2/rank_listnet_model.pth\n",
      "B1 processed | B2 processed | B3 processed | B4 processed | B5 processed | B6 processed | B7 processed | B8 processed | "
     ]
    },
    {
     "name": "stderr",
     "output_type": "stream",
     "text": [
      "Found local copy...\n"
     ]
    },
    {
     "name": "stdout",
     "output_type": "stream",
     "text": [
      "B9 processed | Human score at HITL iteration 3: [0.1576719920511905, 0.00371881534931763, 0.04447833198671836, 0.010948615302290549, 0.00047159131712729826, 0.03376371394187973, 0.0008806005899109916, 0.0460572977733046]\n",
      "New queried dataset size: 56\n",
      "Combined dataset size: 368\n",
      "Saved augmented training data at output_rank_listnet_n_steps_100/R3_T5_Q8_acq_greedy_noise_0.0/REINVENT_round_1/HITL_iteration_3/iteration_combined_data.csv\n",
      "Epoch 5, Loss: 0.027460681973025203\n",
      "Epoch 10, Loss: 0.02801446442026645\n",
      "Epoch 15, Loss: 0.02799566660542041\n",
      "Epoch 20, Loss: 0.027611571946181357\n",
      "Epoch 25, Loss: 0.02694267185870558\n",
      "Saved retrained feedback model at output_rank_listnet_n_steps_100/R3_T5_Q8_acq_greedy_noise_0.0/REINVENT_round_1/HITL_iteration_3/rank_listnet_model.pth\n",
      "----------------------------------\n",
      "HITL iteration = 4\n",
      "Loading Rank ListNet model successfully from output_rank_listnet_n_steps_100/R3_T5_Q8_acq_greedy_noise_0.0/REINVENT_round_1/HITL_iteration_3/rank_listnet_model.pth\n",
      "B1 processed | B2 processed | B3 processed | B4 processed | B5 processed | B6 processed | B7 processed | B8 processed | "
     ]
    },
    {
     "name": "stderr",
     "output_type": "stream",
     "text": [
      "Found local copy...\n"
     ]
    },
    {
     "name": "stdout",
     "output_type": "stream",
     "text": [
      "B9 processed | Human score at HITL iteration 4: [0.22098124831094876, 0.0015886465468869457, 0.07255552039526897, 0.004788907820600568, 0.004500603038565801, 0.11830312863507436, 0.028698968169094622, 0.009648343834271437]\n",
      "New queried dataset size: 56\n",
      "Combined dataset size: 424\n",
      "Saved augmented training data at output_rank_listnet_n_steps_100/R3_T5_Q8_acq_greedy_noise_0.0/REINVENT_round_1/HITL_iteration_4/iteration_combined_data.csv\n",
      "Epoch 5, Loss: 0.056208145106211305\n",
      "Epoch 10, Loss: 0.05495856795459986\n",
      "Epoch 15, Loss: 0.05422092927619815\n",
      "Epoch 20, Loss: 0.05584742431528866\n",
      "Epoch 25, Loss: 0.05566111812368035\n",
      "Saved retrained feedback model at output_rank_listnet_n_steps_100/R3_T5_Q8_acq_greedy_noise_0.0/REINVENT_round_1/HITL_iteration_4/rank_listnet_model.pth\n",
      "----------------------------------\n",
      "HITL iteration = 5\n",
      "Loading Rank ListNet model successfully from output_rank_listnet_n_steps_100/R3_T5_Q8_acq_greedy_noise_0.0/REINVENT_round_1/HITL_iteration_4/rank_listnet_model.pth\n",
      "B1 processed | B2 processed | B3 processed | B4 processed | B5 processed | B6 processed | B7 processed | B8 processed | "
     ]
    },
    {
     "name": "stderr",
     "output_type": "stream",
     "text": [
      "Found local copy...\n"
     ]
    },
    {
     "name": "stdout",
     "output_type": "stream",
     "text": [
      "B9 processed | Human score at HITL iteration 5: [0.10258806158159423, 0.002859437018814891, 0.054078258983571055, 0.024419023157203696, 0.08528698274274185, 0.048478848971736425, 0.0010429262312141646, 0.002714236053745678]\n",
      "New queried dataset size: 56\n",
      "Combined dataset size: 480\n",
      "Saved augmented training data at output_rank_listnet_n_steps_100/R3_T5_Q8_acq_greedy_noise_0.0/REINVENT_round_1/HITL_iteration_5/iteration_combined_data.csv\n",
      "Epoch 5, Loss: 0.01280829356983304\n",
      "Epoch 10, Loss: 0.012725473759928718\n",
      "Epoch 15, Loss: 0.012635068473173305\n",
      "Epoch 20, Loss: 0.012536462978459895\n",
      "Epoch 25, Loss: 0.012427626963471994\n",
      "Saved retrained feedback model at output_rank_listnet_n_steps_100/R3_T5_Q8_acq_greedy_noise_0.0/REINVENT_round_1/HITL_iteration_5/rank_listnet_model.pth\n",
      "=====================================\n",
      "REINVENT round = 2\n",
      "Creating config file: output_rank_listnet_n_steps_100/R3_T5_Q8_acq_greedy_noise_0.0/REINVENT_round_2/config.json.\n",
      "Run REINVENT\n",
      "Exit code: 0\n",
      "Number of SMILES in scaffold_memory.csv:  6155\n",
      "----------------------------------\n",
      "HITL iteration = 1\n",
      "Loading Rank ListNet model successfully from output_rank_listnet_n_steps_100/R3_T5_Q8_acq_greedy_noise_0.0/REINVENT_round_1/HITL_iteration_5/rank_listnet_model.pth\n",
      "B1 processed | B2 processed | B3 processed | B4 processed | B5 processed | B6 processed | B7 processed | B8 processed | "
     ]
    },
    {
     "name": "stderr",
     "output_type": "stream",
     "text": [
      "Found local copy...\n"
     ]
    },
    {
     "name": "stdout",
     "output_type": "stream",
     "text": [
      "B9 processed | Human score at HITL iteration 1: [0.9999999838495969, 0.41213971819711703, 0.024101134968675123, 0.27081844065895305, 0.6116627846335747, 0.44773726284666043, 0.7484286303067971, 0.9430626925359291]\n",
      "New queried dataset size: 56\n",
      "Combined dataset size: 536\n",
      "Saved augmented training data at output_rank_listnet_n_steps_100/R3_T5_Q8_acq_greedy_noise_0.0/REINVENT_round_2/HITL_iteration_1/iteration_combined_data.csv\n",
      "Epoch 5, Loss: 0.01927006512414664\n",
      "Epoch 10, Loss: 0.01908492452154557\n",
      "Epoch 15, Loss: 0.018955175842468936\n",
      "Epoch 20, Loss: 0.018954757212971646\n",
      "Epoch 25, Loss: 0.018510776649539668\n",
      "Saved retrained feedback model at output_rank_listnet_n_steps_100/R3_T5_Q8_acq_greedy_noise_0.0/REINVENT_round_2/HITL_iteration_1/rank_listnet_model.pth\n",
      "----------------------------------\n",
      "HITL iteration = 2\n",
      "Loading Rank ListNet model successfully from output_rank_listnet_n_steps_100/R3_T5_Q8_acq_greedy_noise_0.0/REINVENT_round_2/HITL_iteration_1/rank_listnet_model.pth\n",
      "B1 processed | B2 processed | B3 processed | B4 processed | B5 processed | B6 processed | B7 processed | B8 processed | "
     ]
    },
    {
     "name": "stderr",
     "output_type": "stream",
     "text": [
      "Found local copy...\n"
     ]
    },
    {
     "name": "stdout",
     "output_type": "stream",
     "text": [
      "B9 processed | Human score at HITL iteration 2: [0.23590733662637248, 0.9813390025981445, 0.5334312531557475, 0.0019400637835312535, 0.04434163873207987, 0.20916817063986257, 0.9825031027074624, 0.9931029762279491]\n",
      "New queried dataset size: 56\n",
      "Combined dataset size: 592\n",
      "Saved augmented training data at output_rank_listnet_n_steps_100/R3_T5_Q8_acq_greedy_noise_0.0/REINVENT_round_2/HITL_iteration_2/iteration_combined_data.csv\n",
      "Epoch 5, Loss: 0.03396073810290545\n",
      "Epoch 10, Loss: 0.03394102363381535\n",
      "Epoch 15, Loss: 0.03291126689873636\n",
      "Epoch 20, Loss: 0.032823809480760247\n",
      "Epoch 25, Loss: 0.031924836919642985\n",
      "Saved retrained feedback model at output_rank_listnet_n_steps_100/R3_T5_Q8_acq_greedy_noise_0.0/REINVENT_round_2/HITL_iteration_2/rank_listnet_model.pth\n",
      "----------------------------------\n",
      "HITL iteration = 3\n",
      "Loading Rank ListNet model successfully from output_rank_listnet_n_steps_100/R3_T5_Q8_acq_greedy_noise_0.0/REINVENT_round_2/HITL_iteration_2/rank_listnet_model.pth\n",
      "B1 processed | B2 processed | B3 processed | B4 processed | B5 processed | B6 processed | B7 processed | B8 processed | "
     ]
    },
    {
     "name": "stderr",
     "output_type": "stream",
     "text": [
      "Found local copy...\n"
     ]
    },
    {
     "name": "stdout",
     "output_type": "stream",
     "text": [
      "B9 processed | Human score at HITL iteration 3: [0.5471258383436479, 0.28149010757054016, 0.7754199152391761, 0.9638554230334354, 0.9903311847121808, 0.038551048944739354, 0.9754831533826595, 0.9999995888205627]\n",
      "New queried dataset size: 56\n",
      "Combined dataset size: 648\n",
      "Saved augmented training data at output_rank_listnet_n_steps_100/R3_T5_Q8_acq_greedy_noise_0.0/REINVENT_round_2/HITL_iteration_3/iteration_combined_data.csv\n",
      "Epoch 5, Loss: 0.07169558759778738\n",
      "Epoch 10, Loss: 0.0707681889180094\n",
      "Epoch 15, Loss: 0.0686379570979625\n",
      "Epoch 20, Loss: 0.06624984694644809\n",
      "Epoch 25, Loss: 0.06435324414633214\n",
      "Saved retrained feedback model at output_rank_listnet_n_steps_100/R3_T5_Q8_acq_greedy_noise_0.0/REINVENT_round_2/HITL_iteration_3/rank_listnet_model.pth\n",
      "----------------------------------\n",
      "HITL iteration = 4\n",
      "Loading Rank ListNet model successfully from output_rank_listnet_n_steps_100/R3_T5_Q8_acq_greedy_noise_0.0/REINVENT_round_2/HITL_iteration_3/rank_listnet_model.pth\n",
      "B1 processed | B2 processed | B3 processed | B4 processed | B5 processed | B6 processed | B7 processed | B8 processed | "
     ]
    },
    {
     "name": "stderr",
     "output_type": "stream",
     "text": [
      "Found local copy...\n"
     ]
    },
    {
     "name": "stdout",
     "output_type": "stream",
     "text": [
      "B9 processed | Human score at HITL iteration 4: [0.1163866808254136, 0.5822108175276283, 0.07860169607750123, 0.6374442814200145, 0.26225421252238645, 0.003174338949567287, 0.9389066427984208, 0.004802396243022425]\n",
      "New queried dataset size: 56\n",
      "Combined dataset size: 704\n",
      "Saved augmented training data at output_rank_listnet_n_steps_100/R3_T5_Q8_acq_greedy_noise_0.0/REINVENT_round_2/HITL_iteration_4/iteration_combined_data.csv\n",
      "Epoch 5, Loss: 0.017316812183707952\n",
      "Epoch 10, Loss: 0.01675836183130741\n",
      "Epoch 15, Loss: 0.016163366613909602\n",
      "Epoch 20, Loss: 0.015532544581219554\n",
      "Epoch 25, Loss: 0.014867410238366574\n",
      "Saved retrained feedback model at output_rank_listnet_n_steps_100/R3_T5_Q8_acq_greedy_noise_0.0/REINVENT_round_2/HITL_iteration_4/rank_listnet_model.pth\n",
      "----------------------------------\n",
      "HITL iteration = 5\n",
      "Loading Rank ListNet model successfully from output_rank_listnet_n_steps_100/R3_T5_Q8_acq_greedy_noise_0.0/REINVENT_round_2/HITL_iteration_4/rank_listnet_model.pth\n",
      "B1 processed | B2 processed | B3 processed | B4 processed | B5 processed | B6 processed | B7 processed | B8 processed | "
     ]
    },
    {
     "name": "stderr",
     "output_type": "stream",
     "text": [
      "Found local copy...\n"
     ]
    },
    {
     "name": "stdout",
     "output_type": "stream",
     "text": [
      "B9 processed | Human score at HITL iteration 5: [0.006953833983418733, 0.006790126672884897, 0.009247276163363004, 0.6857201879093439, 0.02548323830293055, 0.006256574671775446, 0.9965351835603641, 0.8129460437539957]\n",
      "New queried dataset size: 56\n",
      "Combined dataset size: 760\n",
      "Saved augmented training data at output_rank_listnet_n_steps_100/R3_T5_Q8_acq_greedy_noise_0.0/REINVENT_round_2/HITL_iteration_5/iteration_combined_data.csv\n",
      "Epoch 5, Loss: 0.023615316099797685\n",
      "Epoch 10, Loss: 0.0226150262557591\n",
      "Epoch 15, Loss: 0.02140272866624097\n",
      "Epoch 20, Loss: 0.020184215895521145\n",
      "Epoch 25, Loss: 0.018992935889400542\n",
      "Saved retrained feedback model at output_rank_listnet_n_steps_100/R3_T5_Q8_acq_greedy_noise_0.0/REINVENT_round_2/HITL_iteration_5/rank_listnet_model.pth\n",
      "=====================================\n",
      "REINVENT round = 3\n",
      "Creating config file: output_rank_listnet_n_steps_100/R3_T5_Q8_acq_greedy_noise_0.0/REINVENT_round_3/config.json.\n",
      "Run REINVENT\n",
      "Exit code: 0\n",
      "Number of SMILES in scaffold_memory.csv:  6163\n",
      "----------------------------------\n",
      "HITL iteration = 1\n",
      "Loading Rank ListNet model successfully from output_rank_listnet_n_steps_100/R3_T5_Q8_acq_greedy_noise_0.0/REINVENT_round_2/HITL_iteration_5/rank_listnet_model.pth\n",
      "B1 processed | B2 processed | B3 processed | B4 processed | B5 processed | B6 processed | B7 processed | B8 processed | "
     ]
    },
    {
     "name": "stderr",
     "output_type": "stream",
     "text": [
      "Found local copy...\n"
     ]
    },
    {
     "name": "stdout",
     "output_type": "stream",
     "text": [
      "B9 processed | Human score at HITL iteration 1: [0.042164582127960204, 0.9952443830592106, 0.8854833195212459, 0.994264640657027, 0.505788882591881, 0.9878880001269335, 0.2369240798975385, 0.021300018915700398]\n",
      "New queried dataset size: 56\n",
      "Combined dataset size: 816\n",
      "Saved augmented training data at output_rank_listnet_n_steps_100/R3_T5_Q8_acq_greedy_noise_0.0/REINVENT_round_3/HITL_iteration_1/iteration_combined_data.csv\n",
      "Epoch 5, Loss: 0.03257262101396918\n",
      "Epoch 10, Loss: 0.030475209117867053\n",
      "Epoch 15, Loss: 0.02824729011626914\n",
      "Epoch 20, Loss: 0.026224698638543487\n",
      "Epoch 25, Loss: 0.024214980308897793\n",
      "Saved retrained feedback model at output_rank_listnet_n_steps_100/R3_T5_Q8_acq_greedy_noise_0.0/REINVENT_round_3/HITL_iteration_1/rank_listnet_model.pth\n",
      "----------------------------------\n",
      "HITL iteration = 2\n",
      "Loading Rank ListNet model successfully from output_rank_listnet_n_steps_100/R3_T5_Q8_acq_greedy_noise_0.0/REINVENT_round_3/HITL_iteration_1/rank_listnet_model.pth\n",
      "B1 processed | B2 processed | B3 processed | B4 processed | B5 processed | B6 processed | B7 processed | B8 processed | "
     ]
    },
    {
     "name": "stderr",
     "output_type": "stream",
     "text": [
      "Found local copy...\n"
     ]
    },
    {
     "name": "stdout",
     "output_type": "stream",
     "text": [
      "B9 processed | Human score at HITL iteration 2: [0.001500839177574304, 0.01016675669566857, 0.014580053851360197, 0.003933622508187897, 0.1499376361685412, 0.029333582879254142, 0.9846850004904589, 0.04837207825213556]\n",
      "New queried dataset size: 56\n",
      "Combined dataset size: 872\n",
      "Saved augmented training data at output_rank_listnet_n_steps_100/R3_T5_Q8_acq_greedy_noise_0.0/REINVENT_round_3/HITL_iteration_2/iteration_combined_data.csv\n",
      "Epoch 5, Loss: 0.054995751357637346\n",
      "Epoch 10, Loss: 0.049030977534130216\n",
      "Epoch 15, Loss: 0.04442009283229709\n",
      "Epoch 20, Loss: 0.04049787455005571\n",
      "Epoch 25, Loss: 0.037007437902502716\n",
      "Saved retrained feedback model at output_rank_listnet_n_steps_100/R3_T5_Q8_acq_greedy_noise_0.0/REINVENT_round_3/HITL_iteration_2/rank_listnet_model.pth\n",
      "----------------------------------\n",
      "HITL iteration = 3\n",
      "Loading Rank ListNet model successfully from output_rank_listnet_n_steps_100/R3_T5_Q8_acq_greedy_noise_0.0/REINVENT_round_3/HITL_iteration_2/rank_listnet_model.pth\n",
      "B1 processed | B2 processed | B3 processed | B4 processed | B5 processed | B6 processed | B7 processed | B8 processed | "
     ]
    },
    {
     "name": "stderr",
     "output_type": "stream",
     "text": [
      "Found local copy...\n"
     ]
    },
    {
     "name": "stdout",
     "output_type": "stream",
     "text": [
      "B9 processed | Human score at HITL iteration 3: [0.4724591456843528, 0.9297970667562105, 0.2443174722757365, 0.5415120806439561, 0.03389206635979555, 0.028938693233772194, 0.061509527892671216, 0.3134065557198362]\n",
      "New queried dataset size: 56\n",
      "Combined dataset size: 928\n",
      "Saved augmented training data at output_rank_listnet_n_steps_100/R3_T5_Q8_acq_greedy_noise_0.0/REINVENT_round_3/HITL_iteration_3/iteration_combined_data.csv\n",
      "Epoch 5, Loss: 0.009718419692944735\n",
      "Epoch 10, Loss: 0.008755605536862276\n",
      "Epoch 15, Loss: 0.00787780036625918\n",
      "Epoch 20, Loss: 0.007073555127135478\n",
      "Epoch 25, Loss: 0.006343644476146437\n",
      "Saved retrained feedback model at output_rank_listnet_n_steps_100/R3_T5_Q8_acq_greedy_noise_0.0/REINVENT_round_3/HITL_iteration_3/rank_listnet_model.pth\n",
      "----------------------------------\n",
      "HITL iteration = 4\n",
      "Loading Rank ListNet model successfully from output_rank_listnet_n_steps_100/R3_T5_Q8_acq_greedy_noise_0.0/REINVENT_round_3/HITL_iteration_3/rank_listnet_model.pth\n",
      "B1 processed | B2 processed | B3 processed | B4 processed | B5 processed | B6 processed | B7 processed | B8 processed | "
     ]
    },
    {
     "name": "stderr",
     "output_type": "stream",
     "text": [
      "Found local copy...\n"
     ]
    },
    {
     "name": "stdout",
     "output_type": "stream",
     "text": [
      "B9 processed | Human score at HITL iteration 4: [0.8280154184653052, 0.32876234889659467, 0.19951189635606523, 0.9419589990883335, 0.3443200381597093, 0.8813622604934259, 0.572865478314947, 0.5375990073004844]\n",
      "New queried dataset size: 56\n",
      "Combined dataset size: 984\n",
      "Saved augmented training data at output_rank_listnet_n_steps_100/R3_T5_Q8_acq_greedy_noise_0.0/REINVENT_round_3/HITL_iteration_4/iteration_combined_data.csv\n",
      "Epoch 5, Loss: 0.009250163760346672\n",
      "Epoch 10, Loss: 0.008167370416534444\n",
      "Epoch 15, Loss: 0.0071864689331656946\n",
      "Epoch 20, Loss: 0.006324602824558194\n",
      "Epoch 25, Loss: 0.0055568471434526145\n",
      "Saved retrained feedback model at output_rank_listnet_n_steps_100/R3_T5_Q8_acq_greedy_noise_0.0/REINVENT_round_3/HITL_iteration_4/rank_listnet_model.pth\n",
      "----------------------------------\n",
      "HITL iteration = 5\n",
      "Loading Rank ListNet model successfully from output_rank_listnet_n_steps_100/R3_T5_Q8_acq_greedy_noise_0.0/REINVENT_round_3/HITL_iteration_4/rank_listnet_model.pth\n",
      "B1 processed | B2 processed | B3 processed | B4 processed | B5 processed | B6 processed | B7 processed | B8 processed | "
     ]
    },
    {
     "name": "stderr",
     "output_type": "stream",
     "text": [
      "Found local copy...\n"
     ]
    },
    {
     "name": "stdout",
     "output_type": "stream",
     "text": [
      "B9 processed | Human score at HITL iteration 5: [0.10936602294504322, 0.0028081401821880647, 0.16043801982343658, 0.006742019423573564, 0.35396541545803134, 0.20352555362433342, 0.2593101419925818, 0.029532843117306324]\n",
      "New queried dataset size: 56\n",
      "Combined dataset size: 1040\n",
      "Saved augmented training data at output_rank_listnet_n_steps_100/R3_T5_Q8_acq_greedy_noise_0.0/REINVENT_round_3/HITL_iteration_5/iteration_combined_data.csv\n",
      "Epoch 5, Loss: 0.007660472503630444\n",
      "Epoch 10, Loss: 0.006588390388060361\n",
      "Epoch 15, Loss: 0.00552405123016797\n",
      "Epoch 20, Loss: 0.004874946258496493\n",
      "Epoch 25, Loss: 0.004120524245081469\n",
      "Saved retrained feedback model at output_rank_listnet_n_steps_100/R3_T5_Q8_acq_greedy_noise_0.0/REINVENT_round_3/HITL_iteration_5/rank_listnet_model.pth\n",
      "=====================================\n",
      "REINVENT round = 4\n",
      "Creating config file: output_rank_listnet_n_steps_100/R3_T5_Q8_acq_greedy_noise_0.0/REINVENT_round_4/config.json.\n",
      "Run REINVENT\n",
      "Exit code: 0\n",
      "\n",
      "*******************************************************************\n",
      "Running HITL with greedy acquisition and noise 0.1\n",
      "\n",
      "Running DRD2 (one objective) with rounds 3, iters 5, queries 8, seed 42\n",
      "Results will be saved at output_rank_listnet_n_steps_100/R3_T5_Q8_acq_greedy_noise_0.1\n",
      "Loading initial training datasets successfully\n",
      "=====================================\n",
      "REINVENT round = 1\n",
      "Creating config file: output_rank_listnet_n_steps_100/R3_T5_Q8_acq_greedy_noise_0.1/REINVENT_round_1/config.json.\n",
      "Run REINVENT\n",
      "Exit code: 0\n",
      "Number of SMILES in scaffold_memory.csv:  6145\n",
      "----------------------------------\n",
      "HITL iteration = 1\n",
      "Loading Rank ListNet model successfully from /home/springnuance/reinvent-hitl/Base-Code-Binh/training_Rank_ListNet_model/rank_listnet_model.pth\n",
      "B1 processed | B2 processed | B3 processed | B4 processed | B5 processed | B6 processed | B7 processed | B8 processed | "
     ]
    },
    {
     "name": "stderr",
     "output_type": "stream",
     "text": [
      "Found local copy...\n"
     ]
    },
    {
     "name": "stdout",
     "output_type": "stream",
     "text": [
      "B9 processed | Human score at HITL iteration 1: [0.051093831364406594, 0.0, 0.06555269062283536, 0.15258343972147298, 0.0, 0.0, 0.1589680018449791, 0.0775191607474383]\n",
      "New queried dataset size: 56\n",
      "Combined dataset size: 256\n",
      "Saved augmented training data at output_rank_listnet_n_steps_100/R3_T5_Q8_acq_greedy_noise_0.1/REINVENT_round_1/HITL_iteration_1/iteration_combined_data.csv\n",
      "Epoch 5, Loss: 0.013435875298455358\n",
      "Epoch 10, Loss: 0.013417287147603929\n",
      "Epoch 15, Loss: 0.013398461858741939\n",
      "Epoch 20, Loss: 0.01337914599571377\n",
      "Epoch 25, Loss: 0.01335930754430592\n",
      "Saved retrained feedback model at output_rank_listnet_n_steps_100/R3_T5_Q8_acq_greedy_noise_0.1/REINVENT_round_1/HITL_iteration_1/rank_listnet_model.pth\n",
      "----------------------------------\n",
      "HITL iteration = 2\n",
      "Loading Rank ListNet model successfully from output_rank_listnet_n_steps_100/R3_T5_Q8_acq_greedy_noise_0.1/REINVENT_round_1/HITL_iteration_1/rank_listnet_model.pth\n",
      "B1 processed | B2 processed | B3 processed | B4 processed | B5 processed | B6 processed | B7 processed | B8 processed | "
     ]
    },
    {
     "name": "stderr",
     "output_type": "stream",
     "text": [
      "Found local copy...\n"
     ]
    },
    {
     "name": "stdout",
     "output_type": "stream",
     "text": [
      "B9 processed | Human score at HITL iteration 2: [0.0005744538994102086, 0.5175130540154483, 0.0, 0.0, 0.05137423220972921, 0.0, 0.8274948271465092, 0.0]\n",
      "New queried dataset size: 56\n",
      "Combined dataset size: 312\n",
      "Saved augmented training data at output_rank_listnet_n_steps_100/R3_T5_Q8_acq_greedy_noise_0.1/REINVENT_round_1/HITL_iteration_2/iteration_combined_data.csv\n",
      "Epoch 5, Loss: 0.02103726922844847\n",
      "Epoch 10, Loss: 0.02103227819316089\n",
      "Epoch 15, Loss: 0.020905225692937773\n",
      "Epoch 20, Loss: 0.020791176085670788\n",
      "Epoch 25, Loss: 0.020697972116370995\n",
      "Saved retrained feedback model at output_rank_listnet_n_steps_100/R3_T5_Q8_acq_greedy_noise_0.1/REINVENT_round_1/HITL_iteration_2/rank_listnet_model.pth\n",
      "----------------------------------\n",
      "HITL iteration = 3\n",
      "Loading Rank ListNet model successfully from output_rank_listnet_n_steps_100/R3_T5_Q8_acq_greedy_noise_0.1/REINVENT_round_1/HITL_iteration_2/rank_listnet_model.pth\n",
      "B1 processed | B2 processed | B3 processed | B4 processed | B5 processed | B6 processed | B7 processed | B8 processed | "
     ]
    },
    {
     "name": "stderr",
     "output_type": "stream",
     "text": [
      "Found local copy...\n"
     ]
    },
    {
     "name": "stdout",
     "output_type": "stream",
     "text": [
      "B9 processed | Human score at HITL iteration 3: [0.0, 0.031876415201273794, 0.0, 0.0, 0.1682799359780406, 0.0, 0.02070109616434148, 0.0]\n",
      "New queried dataset size: 56\n",
      "Combined dataset size: 368\n",
      "Saved augmented training data at output_rank_listnet_n_steps_100/R3_T5_Q8_acq_greedy_noise_0.1/REINVENT_round_1/HITL_iteration_3/iteration_combined_data.csv\n",
      "Epoch 5, Loss: 0.0324336988851428\n",
      "Epoch 10, Loss: 0.03091263957321644\n",
      "Epoch 15, Loss: 0.0320725537603721\n",
      "Epoch 20, Loss: 0.0315991755342111\n",
      "Epoch 25, Loss: 0.03173769323620945\n",
      "Saved retrained feedback model at output_rank_listnet_n_steps_100/R3_T5_Q8_acq_greedy_noise_0.1/REINVENT_round_1/HITL_iteration_3/rank_listnet_model.pth\n",
      "----------------------------------\n",
      "HITL iteration = 4\n",
      "Loading Rank ListNet model successfully from output_rank_listnet_n_steps_100/R3_T5_Q8_acq_greedy_noise_0.1/REINVENT_round_1/HITL_iteration_3/rank_listnet_model.pth\n",
      "B1 processed | B2 processed | B3 processed | B4 processed | B5 processed | B6 processed | B7 processed | B8 processed | "
     ]
    },
    {
     "name": "stderr",
     "output_type": "stream",
     "text": [
      "Found local copy...\n"
     ]
    },
    {
     "name": "stdout",
     "output_type": "stream",
     "text": [
      "B9 processed | Human score at HITL iteration 4: [0.0, 0.011345852318379512, 0.10015464611209202, 0.092932954155381, 0.0, 0.0, 0.0, 0.1854471592196742]\n",
      "New queried dataset size: 56\n",
      "Combined dataset size: 424\n",
      "Saved augmented training data at output_rank_listnet_n_steps_100/R3_T5_Q8_acq_greedy_noise_0.1/REINVENT_round_1/HITL_iteration_4/iteration_combined_data.csv\n",
      "Epoch 5, Loss: 0.06339193135499954\n",
      "Epoch 10, Loss: 0.0611450367141515\n",
      "Epoch 15, Loss: 0.06101025640964508\n",
      "Epoch 20, Loss: 0.06561449123546481\n",
      "Epoch 25, Loss: 0.06118851760402322\n",
      "Saved retrained feedback model at output_rank_listnet_n_steps_100/R3_T5_Q8_acq_greedy_noise_0.1/REINVENT_round_1/HITL_iteration_4/rank_listnet_model.pth\n",
      "----------------------------------\n",
      "HITL iteration = 5\n",
      "Loading Rank ListNet model successfully from output_rank_listnet_n_steps_100/R3_T5_Q8_acq_greedy_noise_0.1/REINVENT_round_1/HITL_iteration_4/rank_listnet_model.pth\n",
      "B1 processed | B2 processed | B3 processed | B4 processed | B5 processed | B6 processed | B7 processed | B8 processed | "
     ]
    },
    {
     "name": "stderr",
     "output_type": "stream",
     "text": [
      "Found local copy...\n"
     ]
    },
    {
     "name": "stdout",
     "output_type": "stream",
     "text": [
      "B9 processed | Human score at HITL iteration 5: [0.004221784570443579, 0.0668048977540283, 0.08729853086978503, 0.0, 0.021359259774600705, 0.0, 0.0, 0.022573331630801476]\n",
      "New queried dataset size: 56\n",
      "Combined dataset size: 480\n",
      "Saved augmented training data at output_rank_listnet_n_steps_100/R3_T5_Q8_acq_greedy_noise_0.1/REINVENT_round_1/HITL_iteration_5/iteration_combined_data.csv\n",
      "Epoch 5, Loss: 0.014685355476103723\n",
      "Epoch 10, Loss: 0.014589503116440028\n",
      "Epoch 15, Loss: 0.014485015359241515\n",
      "Epoch 20, Loss: 0.014370503835380077\n",
      "Epoch 25, Loss: 0.014244821097236127\n",
      "Saved retrained feedback model at output_rank_listnet_n_steps_100/R3_T5_Q8_acq_greedy_noise_0.1/REINVENT_round_1/HITL_iteration_5/rank_listnet_model.pth\n",
      "=====================================\n",
      "REINVENT round = 2\n",
      "Creating config file: output_rank_listnet_n_steps_100/R3_T5_Q8_acq_greedy_noise_0.1/REINVENT_round_2/config.json.\n",
      "Run REINVENT\n",
      "Exit code: 0\n",
      "Number of SMILES in scaffold_memory.csv:  6154\n",
      "----------------------------------\n",
      "HITL iteration = 1\n",
      "Loading Rank ListNet model successfully from output_rank_listnet_n_steps_100/R3_T5_Q8_acq_greedy_noise_0.1/REINVENT_round_1/HITL_iteration_5/rank_listnet_model.pth\n",
      "B1 processed | B2 processed | B3 processed | B4 processed | B5 processed | B6 processed | B7 processed | B8 processed | "
     ]
    },
    {
     "name": "stderr",
     "output_type": "stream",
     "text": [
      "Found local copy...\n"
     ]
    },
    {
     "name": "stdout",
     "output_type": "stream",
     "text": [
      "B9 processed | Human score at HITL iteration 1: [0.09665118548866657, 0.8970651056184282, 0.7195925779052887, 0.9603594965591931, 0.5148791396878923, 0.3664917619734578, 0.8620363855446542, 1.0]\n",
      "New queried dataset size: 56\n",
      "Combined dataset size: 536\n",
      "Saved augmented training data at output_rank_listnet_n_steps_100/R3_T5_Q8_acq_greedy_noise_0.1/REINVENT_round_2/HITL_iteration_1/iteration_combined_data.csv\n",
      "Epoch 5, Loss: 0.021393897322316963\n",
      "Epoch 10, Loss: 0.02100316547633459\n",
      "Epoch 15, Loss: 0.020936165858681004\n",
      "Epoch 20, Loss: 0.02066557699193557\n",
      "Epoch 25, Loss: 0.020296294630194705\n",
      "Saved retrained feedback model at output_rank_listnet_n_steps_100/R3_T5_Q8_acq_greedy_noise_0.1/REINVENT_round_2/HITL_iteration_1/rank_listnet_model.pth\n",
      "----------------------------------\n",
      "HITL iteration = 2\n",
      "Loading Rank ListNet model successfully from output_rank_listnet_n_steps_100/R3_T5_Q8_acq_greedy_noise_0.1/REINVENT_round_2/HITL_iteration_1/rank_listnet_model.pth\n",
      "B1 processed | B2 processed | B3 processed | B4 processed | B5 processed | B6 processed | B7 processed | B8 processed | "
     ]
    },
    {
     "name": "stderr",
     "output_type": "stream",
     "text": [
      "Found local copy...\n"
     ]
    },
    {
     "name": "stdout",
     "output_type": "stream",
     "text": [
      "B9 processed | Human score at HITL iteration 2: [0.9835743129277802, 0.7836401870980002, 0.7454222512217384, 0.7285775269865713, 0.24454416852481042, 1.0, 0.5074111350573527, 0.9572854047182184]\n",
      "New queried dataset size: 56\n",
      "Combined dataset size: 592\n",
      "Saved augmented training data at output_rank_listnet_n_steps_100/R3_T5_Q8_acq_greedy_noise_0.1/REINVENT_round_2/HITL_iteration_2/iteration_combined_data.csv\n",
      "Epoch 5, Loss: 0.032874951080884784\n",
      "Epoch 10, Loss: 0.03228762932121754\n",
      "Epoch 15, Loss: 0.031763102975673974\n",
      "Epoch 20, Loss: 0.03057343210093677\n",
      "Epoch 25, Loss: 0.030160536989569664\n",
      "Saved retrained feedback model at output_rank_listnet_n_steps_100/R3_T5_Q8_acq_greedy_noise_0.1/REINVENT_round_2/HITL_iteration_2/rank_listnet_model.pth\n",
      "----------------------------------\n",
      "HITL iteration = 3\n",
      "Loading Rank ListNet model successfully from output_rank_listnet_n_steps_100/R3_T5_Q8_acq_greedy_noise_0.1/REINVENT_round_2/HITL_iteration_2/rank_listnet_model.pth\n",
      "B1 processed | B2 processed | B3 processed | B4 processed | B5 processed | B6 processed | B7 processed | B8 processed | "
     ]
    },
    {
     "name": "stderr",
     "output_type": "stream",
     "text": [
      "Found local copy...\n"
     ]
    },
    {
     "name": "stdout",
     "output_type": "stream",
     "text": [
      "B9 processed | Human score at HITL iteration 3: [0.40701425291173804, 0.0023385160407620696, 0.28437434594738326, 0.7373878952042616, 0.0, 0.9814338454491448, 0.7745064452270737, 0.8471059700824373]\n",
      "New queried dataset size: 56\n",
      "Combined dataset size: 648\n",
      "Saved augmented training data at output_rank_listnet_n_steps_100/R3_T5_Q8_acq_greedy_noise_0.1/REINVENT_round_2/HITL_iteration_3/iteration_combined_data.csv\n",
      "Epoch 5, Loss: 0.06864623678848147\n",
      "Epoch 10, Loss: 0.06797385727986693\n",
      "Epoch 15, Loss: 0.06636790931224823\n",
      "Epoch 20, Loss: 0.06367989047430456\n",
      "Epoch 25, Loss: 0.062269280664622784\n",
      "Saved retrained feedback model at output_rank_listnet_n_steps_100/R3_T5_Q8_acq_greedy_noise_0.1/REINVENT_round_2/HITL_iteration_3/rank_listnet_model.pth\n",
      "----------------------------------\n",
      "HITL iteration = 4\n",
      "Loading Rank ListNet model successfully from output_rank_listnet_n_steps_100/R3_T5_Q8_acq_greedy_noise_0.1/REINVENT_round_2/HITL_iteration_3/rank_listnet_model.pth\n",
      "B1 processed | B2 processed | B3 processed | B4 processed | B5 processed | B6 processed | B7 processed | B8 processed | "
     ]
    },
    {
     "name": "stderr",
     "output_type": "stream",
     "text": [
      "Found local copy...\n"
     ]
    },
    {
     "name": "stdout",
     "output_type": "stream",
     "text": [
      "B9 processed | Human score at HITL iteration 4: [0.18733019858884514, 1.0, 0.8937479307037158, 0.1846372342576395, 0.04848729741133837, 0.0, 0.04084383182374007, 0.37284753738034304]\n",
      "New queried dataset size: 56\n",
      "Combined dataset size: 704\n",
      "Saved augmented training data at output_rank_listnet_n_steps_100/R3_T5_Q8_acq_greedy_noise_0.1/REINVENT_round_2/HITL_iteration_4/iteration_combined_data.csv\n",
      "Epoch 5, Loss: 0.01734505273634568\n",
      "Epoch 10, Loss: 0.016773732961155474\n",
      "Epoch 15, Loss: 0.01617016620002687\n",
      "Epoch 20, Loss: 0.015535228216322139\n",
      "Epoch 25, Loss: 0.014872140542138368\n",
      "Saved retrained feedback model at output_rank_listnet_n_steps_100/R3_T5_Q8_acq_greedy_noise_0.1/REINVENT_round_2/HITL_iteration_4/rank_listnet_model.pth\n",
      "----------------------------------\n",
      "HITL iteration = 5\n",
      "Loading Rank ListNet model successfully from output_rank_listnet_n_steps_100/R3_T5_Q8_acq_greedy_noise_0.1/REINVENT_round_2/HITL_iteration_4/rank_listnet_model.pth\n",
      "B1 processed | B2 processed | B3 processed | B4 processed | B5 processed | B6 processed | B7 processed | B8 processed | "
     ]
    },
    {
     "name": "stderr",
     "output_type": "stream",
     "text": [
      "Found local copy...\n"
     ]
    },
    {
     "name": "stdout",
     "output_type": "stream",
     "text": [
      "B9 processed | Human score at HITL iteration 5: [0.33368362179808214, 0.20373941868455092, 0.4895023733325329, 0.09484786661843814, 0.7829812442057984, 0.9543654013022772, 0.031705074360293344, 0.6433926466820148]\n",
      "New queried dataset size: 56\n",
      "Combined dataset size: 760\n",
      "Saved augmented training data at output_rank_listnet_n_steps_100/R3_T5_Q8_acq_greedy_noise_0.1/REINVENT_round_2/HITL_iteration_5/iteration_combined_data.csv\n",
      "Epoch 5, Loss: 0.021635032646978896\n",
      "Epoch 10, Loss: 0.02062319576119383\n",
      "Epoch 15, Loss: 0.01951760957793643\n",
      "Epoch 20, Loss: 0.018463424678581457\n",
      "Epoch 25, Loss: 0.01740071103752901\n",
      "Saved retrained feedback model at output_rank_listnet_n_steps_100/R3_T5_Q8_acq_greedy_noise_0.1/REINVENT_round_2/HITL_iteration_5/rank_listnet_model.pth\n",
      "=====================================\n",
      "REINVENT round = 3\n",
      "Creating config file: output_rank_listnet_n_steps_100/R3_T5_Q8_acq_greedy_noise_0.1/REINVENT_round_3/config.json.\n",
      "Run REINVENT\n",
      "Exit code: 0\n",
      "Number of SMILES in scaffold_memory.csv:  6162\n",
      "----------------------------------\n",
      "HITL iteration = 1\n",
      "Loading Rank ListNet model successfully from output_rank_listnet_n_steps_100/R3_T5_Q8_acq_greedy_noise_0.1/REINVENT_round_2/HITL_iteration_5/rank_listnet_model.pth\n",
      "B1 processed | B2 processed | B3 processed | B4 processed | B5 processed | B6 processed | B7 processed | B8 processed | "
     ]
    },
    {
     "name": "stderr",
     "output_type": "stream",
     "text": [
      "Found local copy...\n"
     ]
    },
    {
     "name": "stdout",
     "output_type": "stream",
     "text": [
      "B9 processed | Human score at HITL iteration 1: [0.91187818505971, 0.682115644872112, 1.0, 0.948161588698997, 0.852163645944254, 0.9386016571079588, 0.9028186087009522, 1.0]\n",
      "New queried dataset size: 56\n",
      "Combined dataset size: 816\n",
      "Saved augmented training data at output_rank_listnet_n_steps_100/R3_T5_Q8_acq_greedy_noise_0.1/REINVENT_round_3/HITL_iteration_1/iteration_combined_data.csv\n",
      "Epoch 5, Loss: 0.025271950929891318\n",
      "Epoch 10, Loss: 0.023323750239796937\n",
      "Epoch 15, Loss: 0.02179023891221732\n",
      "Epoch 20, Loss: 0.020250790810678154\n",
      "Epoch 25, Loss: 0.018459987302776426\n",
      "Saved retrained feedback model at output_rank_listnet_n_steps_100/R3_T5_Q8_acq_greedy_noise_0.1/REINVENT_round_3/HITL_iteration_1/rank_listnet_model.pth\n",
      "----------------------------------\n",
      "HITL iteration = 2\n",
      "Loading Rank ListNet model successfully from output_rank_listnet_n_steps_100/R3_T5_Q8_acq_greedy_noise_0.1/REINVENT_round_3/HITL_iteration_1/rank_listnet_model.pth\n",
      "B1 processed | B2 processed | B3 processed | B4 processed | B5 processed | B6 processed | B7 processed | B8 processed | "
     ]
    },
    {
     "name": "stderr",
     "output_type": "stream",
     "text": [
      "Found local copy...\n"
     ]
    },
    {
     "name": "stdout",
     "output_type": "stream",
     "text": [
      "B9 processed | Human score at HITL iteration 2: [0.8491778040209214, 0.08357928802860767, 0.99302791931882, 0.6873987378046575, 0.2246254536922015, 0.9637368201525273, 0.9461704154119148, 0.5010630501344966]\n",
      "New queried dataset size: 56\n",
      "Combined dataset size: 872\n",
      "Saved augmented training data at output_rank_listnet_n_steps_100/R3_T5_Q8_acq_greedy_noise_0.1/REINVENT_round_3/HITL_iteration_2/iteration_combined_data.csv\n",
      "Epoch 5, Loss: 0.039967239659745246\n",
      "Epoch 10, Loss: 0.036060712416656315\n",
      "Epoch 15, Loss: 0.03285237756790593\n",
      "Epoch 20, Loss: 0.030048617452848703\n",
      "Epoch 25, Loss: 0.026278764533344656\n",
      "Saved retrained feedback model at output_rank_listnet_n_steps_100/R3_T5_Q8_acq_greedy_noise_0.1/REINVENT_round_3/HITL_iteration_2/rank_listnet_model.pth\n",
      "----------------------------------\n",
      "HITL iteration = 3\n",
      "Loading Rank ListNet model successfully from output_rank_listnet_n_steps_100/R3_T5_Q8_acq_greedy_noise_0.1/REINVENT_round_3/HITL_iteration_2/rank_listnet_model.pth\n",
      "B1 processed | B2 processed | B3 processed | B4 processed | B5 processed | B6 processed | B7 processed | B8 processed | "
     ]
    },
    {
     "name": "stderr",
     "output_type": "stream",
     "text": [
      "Found local copy...\n"
     ]
    },
    {
     "name": "stdout",
     "output_type": "stream",
     "text": [
      "B9 processed | Human score at HITL iteration 3: [0.37626816426938925, 0.18004263275384036, 0.7188419719732789, 0.5001598747383915, 0.2589451819928762, 0.14375624616334454, 0.9415088504237032, 0.6478535735997335]\n",
      "New queried dataset size: 56\n",
      "Combined dataset size: 928\n",
      "Saved augmented training data at output_rank_listnet_n_steps_100/R3_T5_Q8_acq_greedy_noise_0.1/REINVENT_round_3/HITL_iteration_3/iteration_combined_data.csv\n",
      "Epoch 5, Loss: 0.006952215146156959\n",
      "Epoch 10, Loss: 0.006118910576333292\n",
      "Epoch 15, Loss: 0.005362768715713173\n",
      "Epoch 20, Loss: 0.0046865976037224755\n",
      "Epoch 25, Loss: 0.004091843540663831\n",
      "Saved retrained feedback model at output_rank_listnet_n_steps_100/R3_T5_Q8_acq_greedy_noise_0.1/REINVENT_round_3/HITL_iteration_3/rank_listnet_model.pth\n",
      "----------------------------------\n",
      "HITL iteration = 4\n",
      "Loading Rank ListNet model successfully from output_rank_listnet_n_steps_100/R3_T5_Q8_acq_greedy_noise_0.1/REINVENT_round_3/HITL_iteration_3/rank_listnet_model.pth\n",
      "B1 processed | B2 processed | B3 processed | B4 processed | B5 processed | B6 processed | B7 processed | B8 processed | "
     ]
    },
    {
     "name": "stderr",
     "output_type": "stream",
     "text": [
      "Found local copy...\n"
     ]
    },
    {
     "name": "stdout",
     "output_type": "stream",
     "text": [
      "B9 processed | Human score at HITL iteration 4: [0.03141386041497231, 0.17347257136416272, 1.0, 0.046187420581074744, 0.09908726865990543, 0.8666034750160369, 0.8019295246587013, 0.7070610750375306]\n",
      "New queried dataset size: 56\n",
      "Combined dataset size: 984\n",
      "Saved augmented training data at output_rank_listnet_n_steps_100/R3_T5_Q8_acq_greedy_noise_0.1/REINVENT_round_3/HITL_iteration_4/iteration_combined_data.csv\n",
      "Epoch 5, Loss: 0.007375501814143111\n",
      "Epoch 10, Loss: 0.006218636796499292\n",
      "Epoch 15, Loss: 0.005146526993485168\n",
      "Epoch 20, Loss: 0.0043102421623189\n",
      "Epoch 25, Loss: 0.0036158408717407533\n",
      "Saved retrained feedback model at output_rank_listnet_n_steps_100/R3_T5_Q8_acq_greedy_noise_0.1/REINVENT_round_3/HITL_iteration_4/rank_listnet_model.pth\n",
      "----------------------------------\n",
      "HITL iteration = 5\n",
      "Loading Rank ListNet model successfully from output_rank_listnet_n_steps_100/R3_T5_Q8_acq_greedy_noise_0.1/REINVENT_round_3/HITL_iteration_4/rank_listnet_model.pth\n",
      "B1 processed | B2 processed | B3 processed | B4 processed | B5 processed | B6 processed | B7 processed | B8 processed | "
     ]
    },
    {
     "name": "stderr",
     "output_type": "stream",
     "text": [
      "Found local copy...\n"
     ]
    },
    {
     "name": "stdout",
     "output_type": "stream",
     "text": [
      "B9 processed | Human score at HITL iteration 5: [0.5422065558084836, 1.0, 0.3547599697268366, 0.5947294151167312, 0.05702801976348898, 0.0, 0.364982407951798, 0.3659699829294827]\n",
      "New queried dataset size: 56\n",
      "Combined dataset size: 1040\n",
      "Saved augmented training data at output_rank_listnet_n_steps_100/R3_T5_Q8_acq_greedy_noise_0.1/REINVENT_round_3/HITL_iteration_5/iteration_combined_data.csv\n",
      "Epoch 5, Loss: 0.005981626745779067\n",
      "Epoch 10, Loss: 0.004779673501616344\n",
      "Epoch 15, Loss: 0.003866765327984467\n",
      "Epoch 20, Loss: 0.0032627856417093426\n",
      "Epoch 25, Loss: 0.0027346378774382174\n",
      "Saved retrained feedback model at output_rank_listnet_n_steps_100/R3_T5_Q8_acq_greedy_noise_0.1/REINVENT_round_3/HITL_iteration_5/rank_listnet_model.pth\n",
      "=====================================\n",
      "REINVENT round = 4\n",
      "Creating config file: output_rank_listnet_n_steps_100/R3_T5_Q8_acq_greedy_noise_0.1/REINVENT_round_4/config.json.\n",
      "Run REINVENT\n",
      "Exit code: 0\n"
     ]
    }
   ],
   "source": [
    "! pip install -e \"/home/springnuance/reinvent-hitl/reinvent-scoring\"\n",
    "\n",
    "seed = 42\n",
    "\n",
    "# change these path variables as required\n",
    "reinvent_dir = os.path.expanduser(\"/home/springnuance/reinvent-hitl/Reinvent\") # We must use absolute path\n",
    "reinvent_env = os.path.expanduser(\"/home/springnuance/miniconda3/envs/ReinventCommunity\") # We must use absolute path\n",
    "\n",
    "# the performance of the initial model should not be good. Specifically, it should work at 0.5 accuracy \n",
    "# If the model is too good, retrain the model to become weaker, we are trying to make the model to learn via HITL\n",
    "\n",
    "feedback_type = \"ranking\" # scoring, comparing, ranking\n",
    "\n",
    "# feedback type as ranking:\n",
    "# Given N molecules, what are the orders of preference of these molecules regarding DRD2?\n",
    "\n",
    "base_training_dataset_path = \"/home/springnuance/reinvent-hitl/Base-Code-Binh/training_Rank_ListNet_model/small_drd2_training_data.csv\"\n",
    "\n",
    "model_pretrained_path = \"/home/springnuance/reinvent-hitl/Base-Code-Binh/training_Rank_ListNet_model/rank_listnet_model.pth\"\n",
    "model_pretrained_name = \"rank_listnet_model.pth\"\n",
    "\n",
    "num_rounds = 3 # number of rounds, corresponding to R in the paper\n",
    "num_iters = 5 # number of iterations of showing molecules to the human for feedback at each round\n",
    "REINVENT_n_steps = 100 # number of REINVENT optimization steps\n",
    "\n",
    "# Be careful, as the matrix size could get very large, based on binom(num_queries, 3)\n",
    "# batch_size at 80 could potentially crash the memory\n",
    "\n",
    "batch_size = 64 # batch size of the reinforcement learning model, or size of scaffold_memory.csv\n",
    "\n",
    "num_queries = 8 # number of molecules, pairs or a set of molecules, dependig on the task, \n",
    "                 # shown to the simulated chemist at each HITL_iteration\n",
    "\n",
    "# The actual queries is actually binom(num_queries, 3), since we are ranking each set of 3 molecules\n",
    "# As a result, binom(8, 3) = 56 sets of molecules are shown to the simulated chemist at each HITL_iteration\n",
    "\n",
    "choose_top_smiles = 64 * num_iters * 2 # number of top molecules to choose from scaffold. \n",
    "\n",
    "training_epochs = 25 # number of epochs for training the model in each HITL iteration\n",
    "learning_rate = 0.000001 # learning rate for training the model in each HITL iteration\n",
    "\n",
    "\n",
    "for acquisition in [\"random\", \"uncertainty\", \"greedy\"]:\n",
    "    for sigma_noise in [0.0, 0.1]:\n",
    "        print(\"\\n*******************************************************************\")\n",
    "        print(f\"Running HITL with {acquisition} acquisition and noise {sigma_noise}\")\n",
    "        \n",
    "        output_dir = f\"output_rank_listnet_n_steps_100/R{num_rounds}_T{num_iters}_Q{num_queries}_acq_{acquisition}_noise_{sigma_noise}\"\n",
    "\n",
    "        if os.path.exists(output_dir):\n",
    "            pass\n",
    "        else:\n",
    "            run_HITL_classify(\n",
    "                    seed, reinvent_dir, reinvent_env, output_dir,\n",
    "                    feedback_type, # scoring, comparing, ranking\n",
    "                    base_training_dataset_path, # Path to the pretrained model before REINVENT_round_1/HITL_iteration_1\n",
    "                    model_pretrained_path, # Path to the pretrained model before REINVENT_round_1\n",
    "                    model_pretrained_name, # Name of the pretrained model before REINVENT_round_1\n",
    "                    num_rounds, # number of rounds, corresponding to R in the paper\n",
    "                    num_iters, # number of iterations of showing molecules to the human for feedback at each round, corresponding to T in the paper\n",
    "                    num_queries, # number of molecules shown to the simulated chemist at each HITL_iteration\n",
    "                    REINVENT_n_steps, # number of REINVENT optimization steps\n",
    "                    batch_size, # batch size of the reinforcement learning model, or size of scaffold_memory.csv\n",
    "                    acquisition, # acquisition: 'uncertainty', 'random', 'thompson', 'greedy' (if None run with no human interaction)\n",
    "                    sigma_noise, # noise level for simulated chemist's responses\n",
    "                    choose_top_smiles, # number of top scoring molecules to choose for feedback\n",
    "                    training_epochs, # number of epochs for training the model in each HITL iteration\n",
    "                    learning_rate, # learning rate for training the model in each HITL iteration\n",
    "            )\n",
    "        \n",
    "        if not os.path.exists(f\"{output_dir}/REINVENT_round_{num_rounds+1}\"):\n",
    "            REINVENT_n_steps_last = 200\n",
    "            batch_size_last = 64\n",
    "            # Run the last REINVENT round using the last feedback model\n",
    "            current_model_path = f\"{output_dir}/REINVENT_round_{num_rounds}/HITL_iteration_{num_iters}/{model_pretrained_name}\"\n",
    "            run_REINVENT_round(num_rounds+1,\n",
    "                reinvent_dir, reinvent_env, output_dir, \n",
    "                feedback_type, # scoring, comparing, ranking\n",
    "                current_model_path, # Path to the pretrained model \n",
    "                REINVENT_n_steps_last, # number of REINVENT optimization steps. This is not related to the HITL but on the REINVENT side\n",
    "                batch_size_last, # batch size of the reinforcement learning model, or size of scaffold_memory.csv\n",
    "            )\n",
    "        else:\n",
    "            print(f\"Already ran the last REINVENT round for {output_dir}\")"
   ]
  }
 ],
 "metadata": {
  "kernelspec": {
   "display_name": "cc_env_hitl",
   "language": "python",
   "name": "python3"
  },
  "language_info": {
   "codemirror_mode": {
    "name": "ipython",
    "version": 3
   },
   "file_extension": ".py",
   "mimetype": "text/x-python",
   "name": "python",
   "nbconvert_exporter": "python",
   "pygments_lexer": "ipython3",
   "version": "3.11.5"
  }
 },
 "nbformat": 4,
 "nbformat_minor": 2
}

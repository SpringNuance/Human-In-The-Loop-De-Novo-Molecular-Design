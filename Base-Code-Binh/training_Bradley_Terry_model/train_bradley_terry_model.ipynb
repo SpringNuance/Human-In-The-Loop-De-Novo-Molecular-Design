{
 "cells": [
  {
   "cell_type": "code",
   "execution_count": 60,
   "metadata": {},
   "outputs": [
    {
     "name": "stdout",
     "output_type": "stream",
     "text": [
      "The autoreload extension is already loaded. To reload it, use:\n",
      "  %reload_ext autoreload\n"
     ]
    }
   ],
   "source": [
    "%load_ext autoreload\n",
    "%autoreload 2"
   ]
  },
  {
   "cell_type": "code",
   "execution_count": 61,
   "metadata": {},
   "outputs": [],
   "source": [
    "import pandas as pd\n",
    "import numpy as np\n",
    "import torch\n",
    "from torch import nn, optim\n",
    "from rdkit import Chem\n",
    "from rdkit.Chem import AllChem\n",
    "from tdc import Oracle"
   ]
  },
  {
   "cell_type": "code",
   "execution_count": 62,
   "metadata": {},
   "outputs": [
    {
     "name": "stderr",
     "output_type": "stream",
     "text": [
      "Found local copy...\n"
     ]
    },
    {
     "name": "stdout",
     "output_type": "stream",
     "text": [
      "Training data len: 200\n",
      "Testing data len: 200\n"
     ]
    }
   ],
   "source": [
    "# Load data and Oracle\n",
    "oracle = Oracle(name='DRD2')\n",
    "training_data = pd.read_csv(\"../data/drd2_final_train_small.csv\")\n",
    "testing_data = pd.read_csv(\"../data/drd2_final_test_small.csv\")\n",
    "smiles_train = training_data['smiles'].tolist()\n",
    "smiles_test = testing_data['smiles'].tolist()\n",
    "label_proba_train = [oracle(smiles) for smiles in smiles_train]\n",
    "label_proba_test = [oracle(smiles) for smiles in smiles_test]\n",
    "print(f\"Training data len: {len(smiles_train)}\")\n",
    "print(f\"Testing data len: {len(smiles_test)}\")"
   ]
  },
  {
   "cell_type": "markdown",
   "metadata": {},
   "source": [
    "### Computing morgan fingerprints"
   ]
  },
  {
   "cell_type": "code",
   "execution_count": 63,
   "metadata": {},
   "outputs": [
    {
     "name": "stdout",
     "output_type": "stream",
     "text": [
      "features_train shape:  torch.Size([200, 2048])\n",
      "label_proba_train shape:  torch.Size([200])\n",
      "label_binary_train shape:  torch.Size([200])\n",
      "features_test shape:  torch.Size([200, 2048])\n",
      "label_proba_test shape:  torch.Size([200])\n",
      "label_binary_test shape:  torch.Size([200])\n"
     ]
    }
   ],
   "source": [
    "def compute_fingerprints(smiles):\n",
    "    mol = Chem.MolFromSmiles(smiles)\n",
    "    if mol is not None:\n",
    "        return AllChem.GetMorganFingerprintAsBitVect(mol, 2, nBits=2048)\n",
    "    else:\n",
    "        return np.zeros((2048,), dtype=int)\n",
    "\n",
    "features_train = torch.tensor([compute_fingerprints(smiles) for smiles in smiles_train])\n",
    "features_test = torch.tensor([compute_fingerprints(smiles) for smiles in smiles_test])\n",
    "label_proba_train = torch.tensor(label_proba_train)\n",
    "label_proba_test = torch.tensor(label_proba_test)\n",
    "label_binary_train = torch.tensor(training_data[\"label\"].to_numpy())\n",
    "label_binary_test = torch.tensor(testing_data[\"label\"].to_numpy())\n",
    "\n",
    "print(\"features_train shape: \", features_train.shape)\n",
    "print(\"label_proba_train shape: \", label_proba_train.shape)\n",
    "print(\"label_binary_train shape: \", label_binary_train.shape)\n",
    "\n",
    "print(\"features_test shape: \", features_test.shape)\n",
    "print(\"label_proba_test shape: \", label_proba_test.shape)\n",
    "print(\"label_binary_test shape: \", label_binary_test.shape)"
   ]
  },
  {
   "cell_type": "markdown",
   "metadata": {},
   "source": [
    "### Generate pairs and labels"
   ]
  },
  {
   "cell_type": "code",
   "execution_count": 64,
   "metadata": {},
   "outputs": [],
   "source": [
    "def generate_pairs_label(features, label_proba, label_binary, smiles_list, num_sets=1000):\n",
    "    # set seed\n",
    "    np.random.seed(42) \n",
    "    from itertools import product\n",
    "    # Generate all repeated combinations of 2 out of len(smiles)\n",
    "\n",
    "    smiles_len, features_dim = features.shape\n",
    "    comb = list(product(range(smiles_len), repeat=2))\n",
    "\n",
    "    # Remove indices that compare to itself\n",
    "    comb = [(i, j) for (i, j) in comb if i != j]\n",
    "\n",
    "    rng = np.random.default_rng()\n",
    "    \n",
    "    chosen_indices = rng.choice(len(comb), num_sets, replace=False)\n",
    "    \n",
    "    chosen_comb = [comb[i] for i in chosen_indices]\n",
    "\n",
    "    features_1 = np.zeros((num_sets, features_dim))\n",
    "    features_2 = np.zeros((num_sets, features_dim))\n",
    "    smiles_1 = []\n",
    "    smiles_2 = []\n",
    "    label_1_proba = []\n",
    "    label_1_binary = []\n",
    "    label_2_proba = []\n",
    "    label_2_binary = []\n",
    "    compare_proba = []\n",
    "    compare_binary = []\n",
    "\n",
    "    for i, (idx1, idx2) in enumerate(chosen_comb):\n",
    "        features_1[i, :] = features[idx1, :]\n",
    "        features_2[i, :] = features[idx2, :]\n",
    "        smiles_1.append(smiles_list[idx1])\n",
    "        smiles_2.append(smiles_list[idx2])\n",
    "        label_1_proba.append(label_proba[idx1])\n",
    "        label_1_binary.append(label_binary[idx2])\n",
    "        label_2_proba.append(label_proba[idx1])\n",
    "        label_2_binary.append(label_binary[idx2])\n",
    "        # convert to float\n",
    "        compare_proba_value = torch.tensor(label_proba[idx1] - label_proba[idx2], dtype=torch.float32)\n",
    "        compare_proba_value = torch.sigmoid(compare_proba_value)\n",
    "        compare_proba.append(compare_proba_value)\n",
    "        compare_binary.append(1 if compare_proba_value > 0.5 else 0)\n",
    "\n",
    "    # Convert to numpy\n",
    "    label_1_proba = np.array(label_1_proba)\n",
    "    label_1_binary = np.array(label_1_binary)\n",
    "    label_2_proba = np.array(label_2_proba)\n",
    "    label_2_binary = np.array(label_2_binary)\n",
    "    compare_proba = np.array(compare_proba)\n",
    "    compare_binary = np.array(compare_binary)\n",
    "    smiles_1 = np.array(smiles_1)\n",
    "    smiles_2 = np.array(smiles_2)\n",
    "\n",
    "    return features_1, features_2, label_1_proba, label_1_binary, label_2_proba, label_2_binary,\\\n",
    "            compare_proba, compare_binary, smiles_1, smiles_2\n",
    "\n",
    "features_1_train, features_2_train, label_1_proba_train, label_1_binary_train, label_2_proba_train, label_2_binary_train,\\\n",
    "compare_proba_train, compare_binary_train, smiles_1_train, smiles_2_train = generate_pairs_label(features_train, label_proba_train, label_binary_train, smiles_train, num_sets=len(smiles_train))\n",
    "\n",
    "features_1_test, features_2_test, label_1_proba_test, label_1_binary_test, label_2_proba_test, label_2_binary_test,\\\n",
    "compare_proba_test, compare_binary_test, smiles_1_test, smiles_2_test = generate_pairs_label(features_test, label_proba_test, label_binary_test, smiles_test, num_sets=len(smiles_test))    "
   ]
  },
  {
   "cell_type": "code",
   "execution_count": 65,
   "metadata": {},
   "outputs": [
    {
     "name": "stdout",
     "output_type": "stream",
     "text": [
      "(200, 2048) (200, 2048)\n",
      "(200, 2048) (200, 2048)\n",
      "(200,) (200,)\n",
      "(200,) (200,)\n",
      "(200,) (200,)\n",
      "(200,) (200,)\n",
      "(200,) (200,)\n",
      "(200,) (200,)\n"
     ]
    }
   ],
   "source": [
    "print(features_1_train.shape, features_1_test.shape)\n",
    "print(features_2_train.shape, features_2_test.shape)\n",
    "print(label_1_proba_train.shape, label_1_proba_test.shape)\n",
    "print(label_1_binary_train.shape, label_1_binary_test.shape)\n",
    "print(label_2_proba_train.shape, label_2_proba_test.shape)\n",
    "print(label_2_binary_train.shape, label_2_binary_test.shape)\n",
    "print(compare_proba_train.shape, compare_proba_test.shape)\n",
    "print(compare_binary_train.shape, compare_binary_test.shape)"
   ]
  },
  {
   "cell_type": "code",
   "execution_count": 66,
   "metadata": {},
   "outputs": [],
   "source": [
    "# Now we need to save them \n",
    "\n",
    "small_drd2_training_data = pd.DataFrame()\n",
    "small_drd2_training_data['smiles_1'] = smiles_1_train\n",
    "small_drd2_training_data['smiles_2'] = smiles_2_train\n",
    "small_drd2_training_data['label_1_proba'] = label_1_proba_train\n",
    "small_drd2_training_data['label_2_proba'] = label_2_proba_train\n",
    "small_drd2_training_data['label_1_binary'] = label_1_binary_train\n",
    "small_drd2_training_data['label_2_binary'] = label_2_binary_train\n",
    "small_drd2_training_data['compare_proba'] = compare_proba_train\n",
    "small_drd2_training_data['compare_binary'] = compare_binary_train\n",
    "\n",
    "small_drd2_training_data.to_csv(\"small_drd2_training_data.csv\", index=False)\n",
    "\n",
    "small_drd2_testing_data = pd.DataFrame()\n",
    "small_drd2_testing_data['smiles_1'] = smiles_1_test\n",
    "small_drd2_testing_data['smiles_2'] = smiles_2_test\n",
    "small_drd2_testing_data['label_1_proba'] = label_1_proba_test\n",
    "small_drd2_testing_data['label_2_proba'] = label_2_proba_test\n",
    "small_drd2_testing_data['label_1_binary'] = label_1_binary_test\n",
    "small_drd2_testing_data['label_2_binary'] = label_2_binary_test\n",
    "small_drd2_testing_data['compare_proba'] = compare_proba_test\n",
    "small_drd2_testing_data['compare_binary'] = compare_binary_test\n",
    "\n",
    "small_drd2_testing_data.to_csv(\"small_drd2_testing_data.csv\", index=False)"
   ]
  },
  {
   "cell_type": "markdown",
   "metadata": {},
   "source": [
    "### Use proba label to train. Probably a correct approach"
   ]
  },
  {
   "cell_type": "code",
   "execution_count": 67,
   "metadata": {},
   "outputs": [
    {
     "name": "stdout",
     "output_type": "stream",
     "text": [
      "Epoch 5, Loss: 0.6064634919166565\n",
      "Model trained and saved\n"
     ]
    }
   ],
   "source": [
    "from bradley_terry import BradleyTerryModel\n",
    "    \n",
    "# Training the model\n",
    "model = BradleyTerryModel(feature_dim=2048)\n",
    "\n",
    "# When using Binary Cross-Entropy Loss (BCELoss) in neural networks, the input expected by the \n",
    "# loss function is a list of probabilities, not binary values (0 or 1)\n",
    "criterion = nn.BCELoss()\n",
    "optimizer = optim.Adam(model.parameters(), lr=0.000001)\n",
    "\n",
    "from torch.utils.data import TensorDataset, DataLoader\n",
    "\n",
    "features_1_train_tensor = torch.tensor(features_1_train).float()  \n",
    "features_2_train_tensor = torch.tensor(features_2_train).float()\n",
    "compare_proba_train_tensor = torch.tensor(compare_proba_train).float()\n",
    "\n",
    "features_1_test_tensor = torch.tensor(features_1_test).float()\n",
    "features_2_test_tensor = torch.tensor(features_2_test).float()\n",
    "compare_proba_test_tensor = torch.tensor(compare_proba_test).float()\n",
    "\n",
    "# Create a TensorDataset\n",
    "train_dataset = TensorDataset(features_1_train_tensor, features_2_train_tensor, \n",
    "                              compare_proba_train_tensor)\n",
    "test_dataset = TensorDataset(features_1_test_tensor, features_2_test_tensor, \n",
    "                              compare_proba_test_tensor)\n",
    "\n",
    "# Create a DataLoader\n",
    "batch_size = 32\n",
    "train_loader = DataLoader(dataset=train_dataset, batch_size=batch_size, shuffle=True)\n",
    "test_loader = DataLoader(dataset=test_dataset, batch_size=batch_size, shuffle=False)\n",
    "\n",
    "def train(model, train_loader, epochs=5):\n",
    "    model.train()\n",
    "    for epoch in range(epochs):\n",
    "        total_loss = 0\n",
    "        for features_1, features_2, compare_binary in train_loader:\n",
    "            optimizer.zero_grad()\n",
    "            output = model(features_1, features_2)\n",
    "            loss = criterion(output, compare_binary.unsqueeze(-1))\n",
    "            loss.backward()\n",
    "            optimizer.step()\n",
    "            total_loss += loss.item()\n",
    "        if (epoch + 1) % 5 == 0:\n",
    "            print(f'Epoch {epoch+1}, Loss: {total_loss / len(features_1)}')\n",
    "\n",
    "train(model, train_loader)\n",
    "\n",
    "# save state dict\n",
    "torch.save(model.state_dict(), \"bradley_terry_model.pth\")\n",
    "\n",
    "print(\"Model trained and saved\")"
   ]
  },
  {
   "cell_type": "markdown",
   "metadata": {},
   "source": [
    "### Perform prediction on the testing dataset"
   ]
  },
  {
   "cell_type": "code",
   "execution_count": 68,
   "metadata": {},
   "outputs": [],
   "source": [
    "from sklearn.metrics import accuracy_score, precision_score, recall_score, f1_score, matthews_corrcoef\n",
    "\n",
    "def compute_metrics(label, predictions):\n",
    "    \"\"\"\n",
    "    Compute classification metrics: accuracy, precision, recall, F1 score, and MCC.\n",
    "    \n",
    "    Args:\n",
    "    label (list[int]): True binary label.\n",
    "    predictions (list[int]): Predicted binary label.\n",
    "\n",
    "    Returns:\n",
    "    dict: A dictionary containing the computed metrics.\n",
    "    \"\"\"\n",
    "    accuracy = accuracy_score(label, predictions)\n",
    "    precision = precision_score(label, predictions)\n",
    "    recall = recall_score(label, predictions)\n",
    "    f1 = f1_score(label, predictions)\n",
    "    mcc = matthews_corrcoef(label, predictions)\n",
    "\n",
    "    return {\n",
    "        'accuracy': accuracy,\n",
    "        'precision': precision,\n",
    "        'recall': recall,\n",
    "        'F1': f1,\n",
    "        'MCC': mcc\n",
    "    }"
   ]
  },
  {
   "cell_type": "markdown",
   "metadata": {},
   "source": [
    "### Prediction using the feedback"
   ]
  },
  {
   "cell_type": "code",
   "execution_count": 69,
   "metadata": {},
   "outputs": [
    {
     "name": "stdout",
     "output_type": "stream",
     "text": [
      "Expected number of batches\n",
      "4\n",
      "B1 processed | B2 processed | B3 processed | B4 processed | \n",
      "Accuracy: 0.56\n",
      "Precision: 0.56\n",
      "Recall: 0.56\n",
      "F1: 0.56\n",
      "MCC: 0.12\n"
     ]
    }
   ],
   "source": [
    "# Initialize the model\n",
    "model = BradleyTerryModel(feature_dim=2048)\n",
    "\n",
    "# Load the state dict\n",
    "model.load_state_dict(torch.load(\"bradley_terry_model.pth\"))\n",
    "\n",
    "from scripts.predict import predict_feedback_from_model\n",
    "\n",
    "batch_pred = 10000\n",
    "print(\"Expected number of batches\")\n",
    "print(int(np.ceil(int(len(smiles_test) * (len(smiles_test) - 1))/batch_pred)))\n",
    "\n",
    "pred_label_feedback_test = predict_feedback_from_model(feedback_type = \"comparing\", \n",
    "                                                 feedback_model = model, \n",
    "                                                 smiles=smiles_test, batch_pred=batch_pred)\n",
    "\n",
    "\n",
    "pred_label_binary_test = (torch.tensor(pred_label_feedback_test) > 0.5).int().tolist()\n",
    "\n",
    "metrics = compute_metrics(label_binary_test, pred_label_binary_test)\n",
    "\n",
    "assert all([0 <= x <= 1 for x in pred_label_feedback_test]), \"Feedback score should be between 0 and 1\"\n",
    "\n",
    "print(\"\\nAccuracy:\", metrics['accuracy'])\n",
    "print(\"Precision:\", metrics['precision'])\n",
    "print(\"Recall:\", metrics['recall'])\n",
    "print(\"F1:\", metrics['F1'])\n",
    "print(\"MCC:\", metrics['MCC'])"
   ]
  },
  {
   "cell_type": "markdown",
   "metadata": {},
   "source": [
    "### Plot the roc curve using the feedback"
   ]
  },
  {
   "cell_type": "code",
   "execution_count": 74,
   "metadata": {},
   "outputs": [
    {
     "data": {
      "text/plain": [
       "<matplotlib.legend.Legend at 0x7fe62a2e4890>"
      ]
     },
     "execution_count": 74,
     "metadata": {},
     "output_type": "execute_result"
    },
    {
     "data": {
      "image/png": "[encoded data removed]",
      "text/plain": [
       "<Figure size 432x432 with 1 Axes>"
      ]
     },
     "metadata": {
      "needs_background": "light"
     },
     "output_type": "display_data"
    }
   ],
   "source": [
    "from sklearn.metrics import roc_curve, auc\n",
    "import matplotlib.pyplot as plt\n",
    "\n",
    "fpr, tpr, _ = roc_curve(label_binary_test, pred_label_feedback_test, pos_label=1)\n",
    "\n",
    "roc_auc = auc(fpr, tpr)\n",
    "\n",
    "plt.figure(figsize=(6,6))\n",
    "\n",
    "# draw a diagonal line\n",
    "plt.plot([0, 1], [0, 1], 'k--', label=\"Random predictor\")\n",
    "\n",
    "plt.plot(fpr, tpr, color='darkorange', lw=2, label='ROC curve (AUC = %0.6f)' % roc_auc)\n",
    "plt.xlabel('False Positive Rate')\n",
    "plt.ylabel('True Positive Rate')\n",
    "plt.title('Bradley Terry ROC curve (feedback)')\n",
    "\n",
    "plt.legend(loc=\"lower right\", frameon=False)"
   ]
  },
  {
   "cell_type": "markdown",
   "metadata": {},
   "source": [
    "### Prediction using the label probability"
   ]
  },
  {
   "cell_type": "code",
   "execution_count": 71,
   "metadata": {},
   "outputs": [
    {
     "name": "stdout",
     "output_type": "stream",
     "text": [
      "\n",
      "Accuracy: 0.5\n",
      "Precision: 0.0\n",
      "Recall: 0.0\n",
      "F1: 0.0\n",
      "MCC: 0.0\n"
     ]
    }
   ],
   "source": [
    "# Initialize the model\n",
    "model = BradleyTerryModel(feature_dim=2048)\n",
    "\n",
    "# Load the state dict\n",
    "model.load_state_dict(torch.load(\"bradley_terry_model.pth\"))\n",
    "\n",
    "from scripts.predict import predict_proba_from_model\n",
    "\n",
    "pred_label_proba_test = predict_proba_from_model(feedback_type = \"comparing\", \n",
    "                                                 feedback_model = model, \n",
    "                                                 smiles=smiles_test)\n",
    "\n",
    "\n",
    "pred_label_binary_test = (torch.tensor(pred_label_proba_test) > 0.5).int().tolist()\n",
    "\n",
    "metrics = compute_metrics(label_binary_test, pred_label_binary_test)\n",
    "\n",
    "assert all([0 <= x <= 1 for x in pred_label_proba_test]), \"Probability should be between 0 and 1\"\n",
    "\n",
    "print(\"\\nAccuracy:\", metrics['accuracy'])\n",
    "print(\"Precision:\", metrics['precision'])\n",
    "print(\"Recall:\", metrics['recall'])\n",
    "print(\"F1:\", metrics['F1'])\n",
    "print(\"MCC:\", metrics['MCC'])"
   ]
  },
  {
   "cell_type": "markdown",
   "metadata": {},
   "source": [
    "### Plot the roc curve using the label probability"
   ]
  },
  {
   "cell_type": "code",
   "execution_count": 73,
   "metadata": {},
   "outputs": [
    {
     "data": {
      "text/plain": [
       "<matplotlib.legend.Legend at 0x7fe629e70510>"
      ]
     },
     "execution_count": 73,
     "metadata": {},
     "output_type": "execute_result"
    },
    {
     "data": {
      "image/png": "[encoded data removed]",
      "text/plain": [
       "<Figure size 432x432 with 1 Axes>"
      ]
     },
     "metadata": {
      "needs_background": "light"
     },
     "output_type": "display_data"
    }
   ],
   "source": [
    "from sklearn.metrics import roc_curve, auc\n",
    "import matplotlib.pyplot as plt\n",
    "\n",
    "fpr, tpr, _ = roc_curve(label_binary_test, pred_label_proba_test, pos_label=1)\n",
    "\n",
    "roc_auc = auc(fpr, tpr)\n",
    "\n",
    "plt.figure(figsize=(6,6))\n",
    "\n",
    "# draw a diagonal line\n",
    "plt.plot([0, 1], [0, 1], 'k--', label=\"Random predictor\")\n",
    "\n",
    "plt.plot(fpr, tpr, color='darkorange', lw=2, label='ROC curve (AUC = %0.6f)' % roc_auc)\n",
    "plt.xlabel('False Positive Rate')\n",
    "plt.ylabel('True Positive Rate')\n",
    "plt.title('Bradley Terry ROC curve (label proba)')\n",
    "\n",
    "plt.legend(loc=\"lower right\", frameon=False)"
   ]
  },
  {
   "cell_type": "markdown",
   "metadata": {},
   "source": [
    "#### The model performs weakly, which means that we can now use this model as a human component for HITL. Ideally, the initial model should be no better than random guess. Additionally, the AUC of both feedback and label probability are similar, which means that the feedback is valid for REINVENT"
   ]
  }
 ],
 "metadata": {
  "kernelspec": {
   "display_name": "base",
   "language": "python",
   "name": "python3"
  },
  "language_info": {
   "codemirror_mode": {
    "name": "ipython",
    "version": 3
   },
   "file_extension": ".py",
   "mimetype": "text/x-python",
   "name": "python",
   "nbconvert_exporter": "python",
   "pygments_lexer": "ipython3",
   "version": "3.7.6"
  }
 },
 "nbformat": 4,
 "nbformat_minor": 2
}

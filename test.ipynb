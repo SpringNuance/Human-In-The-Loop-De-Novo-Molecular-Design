{
 "cells": [
  {
   "cell_type": "code",
   "execution_count": 4,
   "metadata": {},
   "outputs": [
    {
     "name": "stdout",
     "output_type": "stream",
     "text": [
      "['a', 'b', 'c']\n",
      "['a', 'c']\n"
     ]
    }
   ],
   "source": [
    "a = [\"a\", \"b\", \"c\"]\n",
    "\n",
    "b = a.copy()\n",
    "\n",
    "print(b)\n",
    "\n",
    "b.remove(\"b\")\n",
    "\n",
    "print(b)"
   ]
  },
  {
   "cell_type": "code",
   "execution_count": 2,
   "metadata": {},
   "outputs": [
    {
     "name": "stdout",
     "output_type": "stream",
     "text": [
      "Collecting psutil\n",
      "  Downloading psutil-6.0.0-cp36-abi3-manylinux_2_12_x86_64.manylinux2010_x86_64.manylinux_2_17_x86_64.manylinux2014_x86_64.whl (290 kB)\n",
      "\u001b[2K     \u001b[90m━━━━━━━━━━━━━━━━━━━━━━━━━━━━━━━━━━━━━\u001b[0m \u001b[32m290.5/290.5 kB\u001b[0m \u001b[31m999.6 kB/s\u001b[0m eta \u001b[36m0:00:00\u001b[0m00:01\u001b[0m00:01\u001b[0m\n",
      "\u001b[?25hInstalling collected packages: psutil\n",
      "Successfully installed psutil-6.0.0\n"
     ]
    }
   ],
   "source": [
    "!pip install psutil"
   ]
  },
  {
   "cell_type": "code",
   "execution_count": 3,
   "metadata": {},
   "outputs": [
    {
     "name": "stdout",
     "output_type": "stream",
     "text": [
      "Available memory: 4395.65 MB\n"
     ]
    }
   ],
   "source": [
    "import psutil\n",
    "\n",
    "# Get the virtual memory details\n",
    "mem = psutil.virtual_memory()\n",
    "\n",
    "# Print the available memory in MB\n",
    "print(f\"Available memory: {mem.available / 1024 ** 2:.2f} MB\")\n",
    "\n"
   ]
  },
  {
   "cell_type": "code",
   "execution_count": 2,
   "metadata": {},
   "outputs": [
    {
     "name": "stdout",
     "output_type": "stream",
     "text": [
      "Initial memory usage:\n",
      "Total memory: 7803.18 MB\n",
      "Available memory: 2524.04 MB\n",
      "Used memory: 4912.93 MB\n",
      "Memory percent: 67.7%\n",
      "\n",
      "Memory usage after creating the tensor:\n",
      "Total memory: 7803.18 MB\n",
      "Available memory: 2737.78 MB\n",
      "Used memory: 4699.27 MB\n",
      "Memory percent: 64.9%\n",
      "\n",
      "Mean value of the tensor: 0.5000064969062805\n",
      "\n",
      "Final memory usage:\n",
      "Total memory: 7803.18 MB\n",
      "Available memory: 2736.18 MB\n",
      "Used memory: 4700.86 MB\n",
      "Memory percent: 64.9%\n"
     ]
    },
    {
     "ename": "NameError",
     "evalue": "name 'gc' is not defined",
     "output_type": "error",
     "traceback": [
      "\u001b[0;31m---------------------------------------------------------------------------\u001b[0m",
      "\u001b[0;31mNameError\u001b[0m                                 Traceback (most recent call last)",
      "\u001b[0;32m<ipython-input-2-aa4bc738c47c>\u001b[0m in \u001b[0;36m<module>\u001b[0;34m\u001b[0m\n\u001b[1;32m     35\u001b[0m \u001b[0;32mdel\u001b[0m \u001b[0mlarge_tensor\u001b[0m\u001b[0;34m\u001b[0m\u001b[0;34m\u001b[0m\u001b[0m\n\u001b[1;32m     36\u001b[0m \u001b[0mtorch\u001b[0m\u001b[0;34m.\u001b[0m\u001b[0mcuda\u001b[0m\u001b[0;34m.\u001b[0m\u001b[0mempty_cache\u001b[0m\u001b[0;34m(\u001b[0m\u001b[0;34m)\u001b[0m\u001b[0;34m\u001b[0m\u001b[0;34m\u001b[0m\u001b[0m\n\u001b[0;32m---> 37\u001b[0;31m \u001b[0mgc\u001b[0m\u001b[0;34m.\u001b[0m\u001b[0mcollect\u001b[0m\u001b[0;34m(\u001b[0m\u001b[0;34m)\u001b[0m\u001b[0;34m\u001b[0m\u001b[0;34m\u001b[0m\u001b[0m\n\u001b[0m\u001b[1;32m     38\u001b[0m \u001b[0;34m\u001b[0m\u001b[0m\n\u001b[1;32m     39\u001b[0m \u001b[0;31m# Print memory usage after cleanup\u001b[0m\u001b[0;34m\u001b[0m\u001b[0;34m\u001b[0m\u001b[0;34m\u001b[0m\u001b[0m\n",
      "\u001b[0;31mNameError\u001b[0m: name 'gc' is not defined"
     ]
    }
   ],
   "source": [
    "import torch\n",
    "import psutil\n",
    "\n",
    "# Function to print memory usage\n",
    "def print_memory_usage():\n",
    "    mem = psutil.virtual_memory()\n",
    "    print(f\"Total memory: {mem.total / 1024 ** 2:.2f} MB\")\n",
    "    print(f\"Available memory: {mem.available / 1024 ** 2:.2f} MB\")\n",
    "    print(f\"Used memory: {mem.used / 1024 ** 2:.2f} MB\")\n",
    "    print(f\"Memory percent: {mem.percent}%\")\n",
    "\n",
    "# Print initial memory usage\n",
    "print(\"Initial memory usage:\")\n",
    "print_memory_usage()\n",
    "\n",
    "# Define the size of the tensor\n",
    "num_elements = 268435456  # Number of elements to approximate 1 GB\n",
    "\n",
    "# Create the tensor\n",
    "large_tensor = torch.rand(num_elements, dtype=torch.float32)\n",
    "\n",
    "# Print memory usage after creating the tensor\n",
    "print(\"\\nMemory usage after creating the tensor:\")\n",
    "print_memory_usage()\n",
    "\n",
    "# Example of some operations on the tensor\n",
    "mean_value = torch.mean(large_tensor)\n",
    "print(\"\\nMean value of the tensor:\", mean_value.item())\n",
    "\n",
    "# Print final memory usage\n",
    "print(\"\\nFinal memory usage:\")\n",
    "print_memory_usage()\n",
    "\n",
    "# Clean up\n",
    "del large_tensor\n",
    "torch.cuda.empty_cache()\n",
    "gc.collect()\n",
    "\n",
    "# Print memory usage after cleanup\n",
    "print(\"\\nMemory usage after cleanup:\")\n",
    "print_memory_usage()\n"
   ]
  },
  {
   "cell_type": "code",
   "execution_count": 3,
   "metadata": {},
   "outputs": [
    {
     "name": "stdout",
     "output_type": "stream",
     "text": [
      "\u001b[31mERROR: Could not find a version that satisfies the requirement gc (from versions: none)\u001b[0m\u001b[31m\n",
      "\u001b[0m\u001b[31mERROR: No matching distribution found for gc\u001b[0m\u001b[31m\n",
      "\u001b[0m"
     ]
    }
   ],
   "source": [
    "# install the garbage colector\n",
    "\n",
    "!pip install gc"
   ]
  },
  {
   "cell_type": "code",
   "execution_count": 4,
   "metadata": {},
   "outputs": [
    {
     "name": "stdout",
     "output_type": "stream",
     "text": [
      "Index Array 1: tensor([0, 0, 0, 1, 1, 2])\n",
      "Index Array 2: tensor([1, 2, 3, 2, 3, 3])\n",
      "Tensor 1 shape: torch.Size([6, 2048])\n",
      "Tensor 2 shape: torch.Size([6, 2048])\n"
     ]
    }
   ],
   "source": [
    "import torch\n",
    "from itertools import combinations\n",
    "\n",
    "# Example with 4 elements for clarity\n",
    "n_elements = 4\n",
    "original_tensor = torch.rand(n_elements, 2048, dtype=torch.float32)\n",
    "\n",
    "# Generate all combinations of 2 out of 4\n",
    "comb = list(combinations(range(n_elements), 2))\n",
    "C = len(comb)  # This is the number of combinations, which is binom(4, 2)\n",
    "\n",
    "# Initialize two index arrays of shape (C,)\n",
    "index_array1 = torch.zeros(C, dtype=torch.int64)\n",
    "index_array2 = torch.zeros(C, dtype=torch.int64)\n",
    "\n",
    "# Fill the index arrays with the corresponding indices from combinations\n",
    "for i, (idx1, idx2) in enumerate(comb):\n",
    "    index_array1[i] = idx1\n",
    "    index_array2[i] = idx2\n",
    "\n",
    "# Use these index arrays to create the final arrays\n",
    "tensor1 = original_tensor[index_array1]\n",
    "tensor2 = original_tensor[index_array2]\n",
    "\n",
    "# Print shapes and values to verify\n",
    "print(\"Index Array 1:\", index_array1)\n",
    "print(\"Index Array 2:\", index_array2)\n",
    "print(\"Tensor 1 shape:\", tensor1.shape)\n",
    "print(\"Tensor 2 shape:\", tensor2.shape)\n"
   ]
  }
 ],
 "metadata": {
  "kernelspec": {
   "display_name": "ReinventCommunity",
   "language": "python",
   "name": "python3"
  },
  "language_info": {
   "codemirror_mode": {
    "name": "ipython",
    "version": 3
   },
   "file_extension": ".py",
   "mimetype": "text/x-python",
   "name": "python",
   "nbconvert_exporter": "python",
   "pygments_lexer": "ipython3",
   "version": "3.7.6"
  }
 },
 "nbformat": 4,
 "nbformat_minor": 2
}

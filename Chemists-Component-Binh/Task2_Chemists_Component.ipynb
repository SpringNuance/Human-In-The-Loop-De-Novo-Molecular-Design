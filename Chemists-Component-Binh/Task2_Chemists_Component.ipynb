{
 "cells": [
  {
   "cell_type": "code",
   "execution_count": 1,
   "metadata": {},
   "outputs": [],
   "source": [
    "%load_ext autoreload\n",
    "%autoreload 2\n",
    "\n",
    "import warnings\n",
    "\n",
    "# Suppress all warnings\n",
    "warnings.filterwarnings(\"ignore\")"
   ]
  },
  {
   "cell_type": "code",
   "execution_count": 2,
   "metadata": {},
   "outputs": [
    {
     "name": "stdout",
     "output_type": "stream",
     "text": [
      "Obtaining file:///home/springnuance/reinvent-hitl/reinvent_scoring\n",
      "  Preparing metadata (setup.py) ... \u001b[?25ldone\n",
      "\u001b[?25hInstalling collected packages: reinvent-scoring\n",
      "  Attempting uninstall: reinvent-scoring\n",
      "    Found existing installation: reinvent-scoring 0.0.73\n",
      "    Uninstalling reinvent-scoring-0.0.73:\n",
      "      Successfully uninstalled reinvent-scoring-0.0.73\n",
      "  Running setup.py develop for reinvent-scoring\n",
      "Successfully installed reinvent-scoring-0.0.73\n"
     ]
    }
   ],
   "source": [
    "! pip install -e \"../reinvent_scoring\""
   ]
  },
  {
   "cell_type": "code",
   "execution_count": 3,
   "metadata": {},
   "outputs": [
    {
     "name": "stderr",
     "output_type": "stream",
     "text": [
      "/home/springnuance/miniconda3/envs/cc_env_hitl/lib/python3.7/site-packages/sklearn/linear_model/least_angle.py:30: DeprecationWarning: `np.float` is a deprecated alias for the builtin `float`. To silence this warning, use `float` by itself. Doing this will not modify any behavior and is safe. If you specifically wanted the numpy scalar type, use `np.float64` here.\n",
      "Deprecated in NumPy 1.20; for more details and guidance: https://numpy.org/devdocs/release/1.20.0-notes.html#deprecations\n",
      "  method='lar', copy_X=True, eps=np.finfo(np.float).eps,\n",
      "/home/springnuance/miniconda3/envs/cc_env_hitl/lib/python3.7/site-packages/sklearn/linear_model/least_angle.py:167: DeprecationWarning: `np.float` is a deprecated alias for the builtin `float`. To silence this warning, use `float` by itself. Doing this will not modify any behavior and is safe. If you specifically wanted the numpy scalar type, use `np.float64` here.\n",
      "Deprecated in NumPy 1.20; for more details and guidance: https://numpy.org/devdocs/release/1.20.0-notes.html#deprecations\n",
      "  method='lar', copy_X=True, eps=np.finfo(np.float).eps,\n",
      "/home/springnuance/miniconda3/envs/cc_env_hitl/lib/python3.7/site-packages/sklearn/linear_model/least_angle.py:284: DeprecationWarning: `np.float` is a deprecated alias for the builtin `float`. To silence this warning, use `float` by itself. Doing this will not modify any behavior and is safe. If you specifically wanted the numpy scalar type, use `np.float64` here.\n",
      "Deprecated in NumPy 1.20; for more details and guidance: https://numpy.org/devdocs/release/1.20.0-notes.html#deprecations\n",
      "  eps=np.finfo(np.float).eps, copy_Gram=True, verbose=0,\n",
      "/home/springnuance/miniconda3/envs/cc_env_hitl/lib/python3.7/site-packages/sklearn/linear_model/least_angle.py:862: DeprecationWarning: `np.float` is a deprecated alias for the builtin `float`. To silence this warning, use `float` by itself. Doing this will not modify any behavior and is safe. If you specifically wanted the numpy scalar type, use `np.float64` here.\n",
      "Deprecated in NumPy 1.20; for more details and guidance: https://numpy.org/devdocs/release/1.20.0-notes.html#deprecations\n",
      "  eps=np.finfo(np.float).eps, copy_X=True, fit_path=True,\n",
      "/home/springnuance/miniconda3/envs/cc_env_hitl/lib/python3.7/site-packages/sklearn/linear_model/least_angle.py:1101: DeprecationWarning: `np.float` is a deprecated alias for the builtin `float`. To silence this warning, use `float` by itself. Doing this will not modify any behavior and is safe. If you specifically wanted the numpy scalar type, use `np.float64` here.\n",
      "Deprecated in NumPy 1.20; for more details and guidance: https://numpy.org/devdocs/release/1.20.0-notes.html#deprecations\n",
      "  eps=np.finfo(np.float).eps, copy_X=True, fit_path=True,\n",
      "/home/springnuance/miniconda3/envs/cc_env_hitl/lib/python3.7/site-packages/sklearn/linear_model/least_angle.py:1127: DeprecationWarning: `np.float` is a deprecated alias for the builtin `float`. To silence this warning, use `float` by itself. Doing this will not modify any behavior and is safe. If you specifically wanted the numpy scalar type, use `np.float64` here.\n",
      "Deprecated in NumPy 1.20; for more details and guidance: https://numpy.org/devdocs/release/1.20.0-notes.html#deprecations\n",
      "  eps=np.finfo(np.float).eps, positive=False):\n",
      "/home/springnuance/miniconda3/envs/cc_env_hitl/lib/python3.7/site-packages/sklearn/linear_model/least_angle.py:1362: DeprecationWarning: `np.float` is a deprecated alias for the builtin `float`. To silence this warning, use `float` by itself. Doing this will not modify any behavior and is safe. If you specifically wanted the numpy scalar type, use `np.float64` here.\n",
      "Deprecated in NumPy 1.20; for more details and guidance: https://numpy.org/devdocs/release/1.20.0-notes.html#deprecations\n",
      "  max_n_alphas=1000, n_jobs=None, eps=np.finfo(np.float).eps,\n",
      "/home/springnuance/miniconda3/envs/cc_env_hitl/lib/python3.7/site-packages/sklearn/linear_model/least_angle.py:1602: DeprecationWarning: `np.float` is a deprecated alias for the builtin `float`. To silence this warning, use `float` by itself. Doing this will not modify any behavior and is safe. If you specifically wanted the numpy scalar type, use `np.float64` here.\n",
      "Deprecated in NumPy 1.20; for more details and guidance: https://numpy.org/devdocs/release/1.20.0-notes.html#deprecations\n",
      "  max_n_alphas=1000, n_jobs=None, eps=np.finfo(np.float).eps,\n",
      "/home/springnuance/miniconda3/envs/cc_env_hitl/lib/python3.7/site-packages/sklearn/linear_model/least_angle.py:1738: DeprecationWarning: `np.float` is a deprecated alias for the builtin `float`. To silence this warning, use `float` by itself. Doing this will not modify any behavior and is safe. If you specifically wanted the numpy scalar type, use `np.float64` here.\n",
      "Deprecated in NumPy 1.20; for more details and guidance: https://numpy.org/devdocs/release/1.20.0-notes.html#deprecations\n",
      "  eps=np.finfo(np.float).eps, copy_X=True, positive=False):\n",
      "/home/springnuance/miniconda3/envs/cc_env_hitl/lib/python3.7/site-packages/sklearn/decomposition/online_lda.py:29: DeprecationWarning: `np.float` is a deprecated alias for the builtin `float`. To silence this warning, use `float` by itself. Doing this will not modify any behavior and is safe. If you specifically wanted the numpy scalar type, use `np.float64` here.\n",
      "Deprecated in NumPy 1.20; for more details and guidance: https://numpy.org/devdocs/release/1.20.0-notes.html#deprecations\n",
      "  EPS = np.finfo(np.float).eps\n",
      "/home/springnuance/miniconda3/envs/cc_env_hitl/lib/python3.7/site-packages/sklearn/ensemble/gradient_boosting.py:32: DeprecationWarning: `np.bool` is a deprecated alias for the builtin `bool`. To silence this warning, use `bool` by itself. Doing this will not modify any behavior and is safe. If you specifically wanted the numpy scalar type, use `np.bool_` here.\n",
      "Deprecated in NumPy 1.20; for more details and guidance: https://numpy.org/devdocs/release/1.20.0-notes.html#deprecations\n",
      "  from ._gradient_boosting import predict_stages\n",
      "/home/springnuance/miniconda3/envs/cc_env_hitl/lib/python3.7/site-packages/sklearn/ensemble/gradient_boosting.py:32: DeprecationWarning: `np.bool` is a deprecated alias for the builtin `bool`. To silence this warning, use `bool` by itself. Doing this will not modify any behavior and is safe. If you specifically wanted the numpy scalar type, use `np.bool_` here.\n",
      "Deprecated in NumPy 1.20; for more details and guidance: https://numpy.org/devdocs/release/1.20.0-notes.html#deprecations\n",
      "  from ._gradient_boosting import predict_stages\n"
     ]
    }
   ],
   "source": [
    "import os\n",
    "from multiprocessing import Pool\n",
    "import pandas as pd\n",
    "import pickle\n",
    "\n",
    "from sklearn.metrics import accuracy_score, cohen_kappa_score, matthews_corrcoef, recall_score, precision_score,f1_score\n",
    "\n",
    "from write import write_config_file,\\\n",
    "                  write_query_to_csv,\\\n",
    "                  write_runs_sh, write_idx,\\\n",
    "                  write_training_data,\\\n",
    "                  write_sample_file,\\\n",
    "                  write_run_sample\n",
    "from acquisition import select_query\n",
    "from models import Tanimoto_model\n",
    "from query import query\n",
    "\n",
    "\n",
    "from scipy.spatial.distance import *\n",
    "import numpy as np\n",
    "\n",
    "import matplotlib.pyplot as plt\n",
    "\n",
    "import pandas as pd\n",
    "\n",
    "import gpflow\n",
    "from gpflow.utilities import positive\n",
    "from gpflow.utilities.ops import broadcasting_elementwise\n",
    "from gpflow.mean_functions import Constant\n",
    "import tensorflow as tf\n",
    "import reinvent_scoring\n",
    "\n",
    "\n",
    "from sklearn.model_selection import train_test_split\n",
    "from sklearn.preprocessing import StandardScaler\n",
    "import time"
   ]
  },
  {
   "cell_type": "markdown",
   "metadata": {},
   "source": [
    "# configuration"
   ]
  },
  {
   "cell_type": "code",
   "execution_count": 4,
   "metadata": {},
   "outputs": [],
   "source": [
    "experiment = 5 # options: numbers 1-5 that define which seed is used in user demo\n",
    "\n",
    "seeds = [1718, 1896, 3975, 8355, 9774] \n",
    "seed = seeds[experiment-1]\n",
    "np.random.seed(seed)\n",
    "tf.random.set_seed(seed)\n",
    "\n",
    "acquisition='thompson' #options: 'thompson', 'uncertainty', 'random', 'greedy'\n",
    "READ_ONLY = False # Use 'True' to playback an existing experiment (reads queries and feedback from files instead of using the algorithm)\n",
    "usecase = 'drd2'\n",
    "simulated_human = True\n",
    "verbose = True # print out details during interaction\n",
    "loop, last_job=0, None # Do not change"
   ]
  },
  {
   "cell_type": "code",
   "execution_count": 5,
   "metadata": {},
   "outputs": [
    {
     "name": "stdout",
     "output_type": "stream",
     "text": [
      "The current working directory is /home/springnuance/reinvent-hitl/Chemists-Component-Binh\n",
      "True\n",
      "True\n"
     ]
    }
   ],
   "source": [
    "# load dependencies\n",
    "import os\n",
    "import re\n",
    "import json\n",
    "import tempfile\n",
    "\n",
    "# --------- change these path variables as required\n",
    "\n",
    "print(\"The current working directory is\", os.getcwd())\n",
    "print(os.path.exists(\"../Reinvent\"))\n",
    "print(os.path.exists(\"../../miniconda3/envs/cc_env_reinvent\"))\n",
    "\n",
    "# --------- change these path variables as required\n",
    "\n",
    "reinvent_dir = os.path.expanduser(\"../Reinvent\")\n",
    "reinvent_env = os.path.expanduser(\"../../../miniconda3/envs/cc_env_reinvent\")\n"
   ]
  },
  {
   "cell_type": "code",
   "execution_count": 6,
   "metadata": {},
   "outputs": [],
   "source": [
    "from load_data import load_config\n",
    "\n",
    "def train_GaussianProcess(X_updated, y_updated, jobid, acquisition, seed, loop, iteration):\n",
    "    jobid, jobname, N0, n_restarts, n_batch, _, fpdim, step,\\\n",
    "    output_dir, _ = load_config(acquisition,seed,loop, jobid)\n",
    "    \n",
    "    start=time.time()\n",
    "    \n",
    "    gpc = Tanimoto_model(X_updated, y_updated)\n",
    "    model_dir = output_dir+\"/models/model_{}\".format(iteration)\n",
    "    if (iteration % step) == 0:\n",
    "        gpc.predict_y_compiled = tf.function(gpc.predict_f, input_signature=[tf.TensorSpec(shape=[None, fpdim], dtype=tf.float64)])\n",
    "    tf.saved_model.save(gpc, model_dir)\n",
    "    print('save model at path {}'.format(model_dir))\n",
    "    conf_filename = write_config_file(jobid, jobname, \n",
    "                                      reinvent_dir, reinvent_env, output_dir, fpdim, loop, iteration, model_dir, seed)\n",
    "    write_sample_file(jobid, jobname, output_dir, loop, iteration)\n",
    "    print('training model at iteration {} use {} s'.format(iteration, time.time()-start))\n",
    "    return gpc"
   ]
  },
  {
   "cell_type": "code",
   "execution_count": 7,
   "metadata": {},
   "outputs": [],
   "source": [
    "def get_labels(p):\n",
    "    label = p.copy()\n",
    "    label[label > 0.5] = 1\n",
    "    label[label < 0.5] = 0\n",
    "    label[label == 0.5] = np.random.binomial(1, 0.5, sum(label==0.5))\n",
    "    return label.astype(int)\n",
    "\n",
    "def evaluate(model, X, Y, accuracy,recall, precision, f1, MCC, Kappa, rmse):\n",
    "    mean, var = model.predict_f(X)\n",
    "    rmse += [np.sqrt(np.mean((mean-Y)**2))]\n",
    "    pred = get_labels(mean.numpy())\n",
    "    Y = get_labels(Y)\n",
    "    recall += [recall_score(Y,pred)]\n",
    "    accuracy += [accuracy_score(Y, pred)]\n",
    "    precision += [precision_score(Y,pred)]\n",
    "    f1 += [f1_score(Y,pred)]\n",
    "    MCC += [matthews_corrcoef(Y, pred)]\n",
    "    Kappa += [cohen_kappa_score(Y, pred)]\n",
    "    return accuracy, recall, precision, f1, MCC, Kappa, rmse"
   ]
  },
  {
   "cell_type": "markdown",
   "metadata": {},
   "source": [
    "# HITL"
   ]
  },
  {
   "cell_type": "code",
   "execution_count": 8,
   "metadata": {},
   "outputs": [
    {
     "name": "stdout",
     "output_type": "stream",
     "text": [
      "Finish loading running config\n",
      "\n",
      "jobid:  22-05-2024\n",
      "jobname:  Task2_demo_thompson\n",
      "N0:  10\n",
      "n_restarts:  2\n",
      "n_batch:  10\n",
      "n_iteration:  10\n",
      "fpdim:  1024\n",
      "step:  1\n",
      "output_dir:  /home/springnuance/reinvent-hitl/Chemists-Component-Binh/results/Task2_demo_thompson_22-05-2024_seed_9774/loop_0\n",
      "lastloop_dir:  None\n"
     ]
    }
   ],
   "source": [
    "from load_data import load_config\n",
    "\n",
    "# load configuration \n",
    "jobid, jobname, N0, n_restarts,\\\n",
    "n_batch, n_iteration, fpdim, step,\\\n",
    "output_dir, lastloop_dir =\\\n",
    "        load_config(acquisition,seed, loop, last_job)\n",
    "\n",
    "print(\"Finish loading running config\\n\")\n",
    "\n",
    "print(\"jobid: \", jobid)\n",
    "print(\"jobname: \", jobname)\n",
    "print(\"N0: \", N0)\n",
    "print(\"n_restarts: \", n_restarts)\n",
    "print(\"n_batch: \", n_batch)\n",
    "print(\"n_iteration: \", n_iteration)\n",
    "print(\"fpdim: \", fpdim)\n",
    "print(\"step: \", step)\n",
    "print(\"output_dir: \", output_dir)\n",
    "print(\"lastloop_dir: \", lastloop_dir)"
   ]
  },
  {
   "cell_type": "code",
   "execution_count": 9,
   "metadata": {},
   "outputs": [
    {
     "name": "stdout",
     "output_type": "stream",
     "text": [
      "\n",
      "Finish loading training data config\n",
      "\n",
      "train_num:  10000\n",
      "test_num:  2000\n",
      "train_data_path:  data/drd2_regression.train.csv\n",
      "test_data_path:  data/drd2_regression.test.csv\n",
      "y_field:  activity\n"
     ]
    }
   ],
   "source": [
    "from load_data import load_data_config\n",
    "\n",
    "# load training data configuration\n",
    "train_num, test_num, train_data_path, test_data_path, y_field =\\\n",
    "        load_data_config(usecase, lastloop_dir)\n",
    "print(\"\\nFinish loading training data config\\n\")\n",
    "\n",
    "print(\"train_num: \", train_num)\n",
    "print(\"test_num: \", test_num)\n",
    "print(\"train_data_path: \", train_data_path)\n",
    "print(\"test_data_path: \", test_data_path)\n",
    "print(\"y_field: \", y_field)"
   ]
  },
  {
   "cell_type": "code",
   "execution_count": 10,
   "metadata": {},
   "outputs": [
    {
     "name": "stdout",
     "output_type": "stream",
     "text": [
      "activity\n"
     ]
    }
   ],
   "source": [
    "print(y_field)"
   ]
  },
  {
   "cell_type": "code",
   "execution_count": 11,
   "metadata": {},
   "outputs": [
    {
     "name": "stdout",
     "output_type": "stream",
     "text": [
      "data/drd2_regression.train.csv\n",
      "sampling\n"
     ]
    },
    {
     "name": "stderr",
     "output_type": "stream",
     "text": [
      "/home/springnuance/miniconda3/envs/cc_env_hitl/lib/python3.7/site-packages/sklearn/utils/__init__.py:806: DeprecationWarning: `np.int` is a deprecated alias for the builtin `int`. To silence this warning, use `int` by itself. Doing this will not modify any behavior and is safe. When replacing `np.int`, you may wish to use e.g. `np.int64` or `np.int32` to specify the precision. If you wish to review your current use, check the release note link for additional information.\n",
      "Deprecated in NumPy 1.20; for more details and guidance: https://numpy.org/devdocs/release/1.20.0-notes.html#deprecations\n",
      "  return floored.astype(np.int)\n",
      "/home/springnuance/miniconda3/envs/cc_env_hitl/lib/python3.7/site-packages/sklearn/utils/__init__.py:806: DeprecationWarning: `np.int` is a deprecated alias for the builtin `int`. To silence this warning, use `int` by itself. Doing this will not modify any behavior and is safe. When replacing `np.int`, you may wish to use e.g. `np.int64` or `np.int32` to specify the precision. If you wish to review your current use, check the release note link for additional information.\n",
      "Deprecated in NumPy 1.20; for more details and guidance: https://numpy.org/devdocs/release/1.20.0-notes.html#deprecations\n",
      "  return floored.astype(np.int)\n"
     ]
    },
    {
     "name": "stdout",
     "output_type": "stream",
     "text": [
      "transformation spend 12.175585746765137 s\n",
      "\n",
      "Finish loading data\n",
      "\n",
      "X_train shape:  (10000, 1024)\n",
      "X_test shape:  (68944, 1024)\n",
      "y_train shape:  (10000, 1)\n",
      "y_test shape:  (68944, 1)\n",
      "smiles_train shape:  10000\n",
      "id_train shape:  10000\n",
      "X_L shape:  (10, 1024)\n",
      "X_U shape:  (9990, 1024)\n",
      "y_L shape:  (10, 1)\n",
      "y_U shape:  (9990, 1)\n",
      "L shape:  (10,)\n",
      "U shape:  (9990,)\n"
     ]
    }
   ],
   "source": [
    "from load_data import load_data\n",
    "\n",
    "# load data\n",
    "X_train, X_test, y_train, y_test,\\\n",
    "smiles_train, id_train,\\\n",
    "X_L, X_U, y_L, y_U, L , U =\\\n",
    "        load_data(train_data_path, test_data_path, output_dir, \n",
    "                  train_num, N0, y_field, id_field=None, ext='csv', \n",
    "                  sampling=True, normalization=False)\n",
    "\n",
    "print(\"\\nFinish loading data\\n\")\n",
    "\n",
    "print(\"X_train shape: \", X_train.shape)\n",
    "print(\"X_test shape: \", X_test.shape)\n",
    "print(\"y_train shape: \", y_train.shape)\n",
    "print(\"y_test shape: \", y_test.shape)\n",
    "print(\"smiles_train shape: \", len(smiles_train))\n",
    "print(\"id_train shape: \", len(id_train))\n",
    "print(\"X_L shape: \", X_L.shape)\n",
    "print(\"X_U shape: \", X_U.shape)\n",
    "print(\"y_L shape: \", y_L.shape)\n",
    "print(\"y_U shape: \", y_U.shape)\n",
    "print(\"L shape: \", L.shape)\n",
    "print(\"U shape: \", U.shape)"
   ]
  },
  {
   "cell_type": "code",
   "execution_count": 12,
   "metadata": {},
   "outputs": [
    {
     "name": "stderr",
     "output_type": "stream",
     "text": [
      "WARNING:absl:Function `predict_f` contains input name(s) Xnew with unsupported characters which will be renamed to xnew in the SavedModel.\n"
     ]
    },
    {
     "name": "stdout",
     "output_type": "stream",
     "text": [
      "WARNING:tensorflow:From /home/springnuance/miniconda3/envs/cc_env_hitl/lib/python3.7/site-packages/tensorflow/python/training/tracking/tracking.py:103: Bijector.has_static_min_event_ndims (from tensorflow_probability.python.bijectors.bijector) is deprecated and will be removed after 2021-08-01.\n",
      "Instructions for updating:\n",
      "`min_event_ndims` is now static for all bijectors; this property is no longer needed.\n"
     ]
    },
    {
     "name": "stderr",
     "output_type": "stream",
     "text": [
      "WARNING:tensorflow:From /home/springnuance/miniconda3/envs/cc_env_hitl/lib/python3.7/site-packages/tensorflow/python/training/tracking/tracking.py:103: Bijector.has_static_min_event_ndims (from tensorflow_probability.python.bijectors.bijector) is deprecated and will be removed after 2021-08-01.\n",
      "Instructions for updating:\n",
      "`min_event_ndims` is now static for all bijectors; this property is no longer needed.\n"
     ]
    },
    {
     "name": "stdout",
     "output_type": "stream",
     "text": [
      "INFO:tensorflow:Assets written to: /home/springnuance/reinvent-hitl/Chemists-Component-Binh/results/Task2_demo_thompson_22-05-2024_seed_9774/loop_0/models/model_0/assets\n"
     ]
    },
    {
     "name": "stderr",
     "output_type": "stream",
     "text": [
      "INFO:tensorflow:Assets written to: /home/springnuance/reinvent-hitl/Chemists-Component-Binh/results/Task2_demo_thompson_22-05-2024_seed_9774/loop_0/models/model_0/assets\n"
     ]
    },
    {
     "name": "stdout",
     "output_type": "stream",
     "text": [
      "save model at path /home/springnuance/reinvent-hitl/Chemists-Component-Binh/results/Task2_demo_thompson_22-05-2024_seed_9774/loop_0/models/model_0\n",
      "training model at iteration 0 use 4.709865093231201 s\n",
      "training spend 4.710599899291992 s\n"
     ]
    },
    {
     "name": "stderr",
     "output_type": "stream",
     "text": [
      "/home/springnuance/miniconda3/envs/cc_env_hitl/lib/python3.7/site-packages/sklearn/metrics/classification.py:564: DeprecationWarning: `np.int` is a deprecated alias for the builtin `int`. To silence this warning, use `int` by itself. Doing this will not modify any behavior and is safe. When replacing `np.int`, you may wish to use e.g. `np.int64` or `np.int32` to specify the precision. If you wish to review your current use, check the release note link for additional information.\n",
      "Deprecated in NumPy 1.20; for more details and guidance: https://numpy.org/devdocs/release/1.20.0-notes.html#deprecations\n",
      "  w_mat = np.ones([n_classes, n_classes], dtype=np.int)\n"
     ]
    },
    {
     "name": "stdout",
     "output_type": "stream",
     "text": [
      "evaluation spend 1.7295255661010742 s\n",
      "accuracy is [0.9839870039452309]\n",
      "recall is [0.0]\n",
      "MCC is [0.0]\n",
      "Kappa is [0.0]\n",
      "rmse is [0.12208898604278072]\n",
      "Baseline accuracy: 0.016012996054769087\n"
     ]
    },
    {
     "name": "stderr",
     "output_type": "stream",
     "text": [
      "/home/springnuance/miniconda3/envs/cc_env_hitl/lib/python3.7/site-packages/sklearn/metrics/classification.py:564: DeprecationWarning: `np.int` is a deprecated alias for the builtin `int`. To silence this warning, use `int` by itself. Doing this will not modify any behavior and is safe. When replacing `np.int`, you may wish to use e.g. `np.int64` or `np.int32` to specify the precision. If you wish to review your current use, check the release note link for additional information.\n",
      "Deprecated in NumPy 1.20; for more details and guidance: https://numpy.org/devdocs/release/1.20.0-notes.html#deprecations\n",
      "  w_mat = np.ones([n_classes, n_classes], dtype=np.int)\n"
     ]
    }
   ],
   "source": [
    "X_updated = X_L\n",
    "y_updated = y_L\n",
    "\n",
    "# Fit model with D_0\n",
    "\n",
    "start = time.time()\n",
    "\n",
    "gpc = train_GaussianProcess(X_updated, y_updated, jobid, acquisition,seed, loop, 0)\n",
    "\n",
    "print(\"training spend {} s\".format(time.time() - start))\n",
    "\n",
    "# Evaluate performance in test data\n",
    "accuracy, recall, precision, f1, MCC , Kappa, rmse = [] ,[], [], [], [], [], []\n",
    "start=time.time()\n",
    "\n",
    "accuracy, recall, precision, f1, MCC , Kappa, rmse = evaluate(gpc, X_test, y_test, accuracy, recall, precision, f1, MCC, Kappa, rmse)\n",
    "\n",
    "print(\"evaluation spend {} s\".format(time.time()-start))\n",
    "\n",
    "if verbose:\n",
    "    print('accuracy is {}'.format(accuracy))\n",
    "    print('recall is {}'.format(recall))\n",
    "    print('MCC is {}'.format(MCC))\n",
    "    print('Kappa is {}'.format(Kappa))\n",
    "    print('rmse is {}'.format(rmse))\n",
    "\n",
    "# Baseline prediction: mean of training data\n",
    "pred_baseline = np.repeat(1, len(y_test))\n",
    "label_test = get_labels(y_test)\n",
    "accuracy_baseline = accuracy_score(label_test, pred_baseline)\n",
    "recall_baseline = recall_score(label_test, pred_baseline)\n",
    "MCC_baseline = matthews_corrcoef(label_test, pred_baseline)\n",
    "Kappa_baseline = cohen_kappa_score(label_test, pred_baseline)\n",
    "\n",
    "if verbose: \n",
    "    print(\"Baseline accuracy: {}\".format(accuracy_baseline))"
   ]
  },
  {
   "cell_type": "code",
   "execution_count": 13,
   "metadata": {},
   "outputs": [
    {
     "name": "stdout",
     "output_type": "stream",
     "text": [
      "Start iteration\n",
      "iteration 1\n",
      "Feedback on n=[6926 4975 3067 1842 4154 7165 7957 4821 7409 7454]\n",
      "Size of pool: 9980\n",
      "Read response at iteration 1\n"
     ]
    },
    {
     "name": "stderr",
     "output_type": "stream",
     "text": [
      "WARNING:absl:Function `predict_f` contains input name(s) Xnew with unsupported characters which will be renamed to xnew in the SavedModel.\n"
     ]
    },
    {
     "name": "stdout",
     "output_type": "stream",
     "text": [
      "INFO:tensorflow:Assets written to: /home/springnuance/reinvent-hitl/Chemists-Component-Binh/results/Task2_demo_thompson_22-05-2024_seed_9774/loop_0/models/model_1/assets\n"
     ]
    },
    {
     "name": "stderr",
     "output_type": "stream",
     "text": [
      "INFO:tensorflow:Assets written to: /home/springnuance/reinvent-hitl/Chemists-Component-Binh/results/Task2_demo_thompson_22-05-2024_seed_9774/loop_0/models/model_1/assets\n"
     ]
    },
    {
     "name": "stdout",
     "output_type": "stream",
     "text": [
      "save model at path /home/springnuance/reinvent-hitl/Chemists-Component-Binh/results/Task2_demo_thompson_22-05-2024_seed_9774/loop_0/models/model_1\n",
      "training model at iteration 1 use 6.51638126373291 s\n"
     ]
    },
    {
     "name": "stderr",
     "output_type": "stream",
     "text": [
      "/home/springnuance/miniconda3/envs/cc_env_hitl/lib/python3.7/site-packages/sklearn/metrics/classification.py:564: DeprecationWarning: `np.int` is a deprecated alias for the builtin `int`. To silence this warning, use `int` by itself. Doing this will not modify any behavior and is safe. When replacing `np.int`, you may wish to use e.g. `np.int64` or `np.int32` to specify the precision. If you wish to review your current use, check the release note link for additional information.\n",
      "Deprecated in NumPy 1.20; for more details and guidance: https://numpy.org/devdocs/release/1.20.0-notes.html#deprecations\n",
      "  w_mat = np.ones([n_classes, n_classes], dtype=np.int)\n"
     ]
    },
    {
     "name": "stdout",
     "output_type": "stream",
     "text": [
      "0.9839870039452309\n",
      "0.0\n",
      "0.0\n",
      "0.0\n",
      "0.0\n",
      "0.0\n",
      "0.11616046348167658\n",
      "iteration 2\n",
      "Feedback on n=[8979 5198 5521 9732 4587 9934 8860 2543 3059 2495]\n",
      "Size of pool: 9970\n",
      "Read response at iteration 2\n"
     ]
    },
    {
     "name": "stderr",
     "output_type": "stream",
     "text": [
      "WARNING:absl:Function `predict_f` contains input name(s) Xnew with unsupported characters which will be renamed to xnew in the SavedModel.\n"
     ]
    },
    {
     "name": "stdout",
     "output_type": "stream",
     "text": [
      "INFO:tensorflow:Assets written to: /home/springnuance/reinvent-hitl/Chemists-Component-Binh/results/Task2_demo_thompson_22-05-2024_seed_9774/loop_0/models/model_2/assets\n"
     ]
    },
    {
     "name": "stderr",
     "output_type": "stream",
     "text": [
      "INFO:tensorflow:Assets written to: /home/springnuance/reinvent-hitl/Chemists-Component-Binh/results/Task2_demo_thompson_22-05-2024_seed_9774/loop_0/models/model_2/assets\n"
     ]
    },
    {
     "name": "stdout",
     "output_type": "stream",
     "text": [
      "save model at path /home/springnuance/reinvent-hitl/Chemists-Component-Binh/results/Task2_demo_thompson_22-05-2024_seed_9774/loop_0/models/model_2\n",
      "training model at iteration 2 use 2.6670613288879395 s\n"
     ]
    },
    {
     "name": "stderr",
     "output_type": "stream",
     "text": [
      "/home/springnuance/miniconda3/envs/cc_env_hitl/lib/python3.7/site-packages/sklearn/metrics/classification.py:564: DeprecationWarning: `np.int` is a deprecated alias for the builtin `int`. To silence this warning, use `int` by itself. Doing this will not modify any behavior and is safe. When replacing `np.int`, you may wish to use e.g. `np.int64` or `np.int32` to specify the precision. If you wish to review your current use, check the release note link for additional information.\n",
      "Deprecated in NumPy 1.20; for more details and guidance: https://numpy.org/devdocs/release/1.20.0-notes.html#deprecations\n",
      "  w_mat = np.ones([n_classes, n_classes], dtype=np.int)\n"
     ]
    },
    {
     "name": "stdout",
     "output_type": "stream",
     "text": [
      "0.9839870039452309\n",
      "0.0\n",
      "0.0\n",
      "0.0\n",
      "0.0\n",
      "0.0\n",
      "0.11274844584357341\n",
      "iteration 3\n",
      "Feedback on n=[1949 1062 2197 3246 1222  426 3351 7851 3806 7052]\n",
      "Size of pool: 9960\n",
      "Read response at iteration 3\n"
     ]
    },
    {
     "name": "stderr",
     "output_type": "stream",
     "text": [
      "WARNING:absl:Function `predict_f` contains input name(s) Xnew with unsupported characters which will be renamed to xnew in the SavedModel.\n"
     ]
    },
    {
     "name": "stdout",
     "output_type": "stream",
     "text": [
      "INFO:tensorflow:Assets written to: /home/springnuance/reinvent-hitl/Chemists-Component-Binh/results/Task2_demo_thompson_22-05-2024_seed_9774/loop_0/models/model_3/assets\n"
     ]
    },
    {
     "name": "stderr",
     "output_type": "stream",
     "text": [
      "INFO:tensorflow:Assets written to: /home/springnuance/reinvent-hitl/Chemists-Component-Binh/results/Task2_demo_thompson_22-05-2024_seed_9774/loop_0/models/model_3/assets\n"
     ]
    },
    {
     "name": "stdout",
     "output_type": "stream",
     "text": [
      "save model at path /home/springnuance/reinvent-hitl/Chemists-Component-Binh/results/Task2_demo_thompson_22-05-2024_seed_9774/loop_0/models/model_3\n",
      "training model at iteration 3 use 2.427116632461548 s\n"
     ]
    },
    {
     "name": "stderr",
     "output_type": "stream",
     "text": [
      "/home/springnuance/miniconda3/envs/cc_env_hitl/lib/python3.7/site-packages/sklearn/metrics/classification.py:564: DeprecationWarning: `np.int` is a deprecated alias for the builtin `int`. To silence this warning, use `int` by itself. Doing this will not modify any behavior and is safe. When replacing `np.int`, you may wish to use e.g. `np.int64` or `np.int32` to specify the precision. If you wish to review your current use, check the release note link for additional information.\n",
      "Deprecated in NumPy 1.20; for more details and guidance: https://numpy.org/devdocs/release/1.20.0-notes.html#deprecations\n",
      "  w_mat = np.ones([n_classes, n_classes], dtype=np.int)\n"
     ]
    },
    {
     "name": "stdout",
     "output_type": "stream",
     "text": [
      "0.9840015084706428\n",
      "1.0\n",
      "0.0018099547511312218\n",
      "0.0009057971014492754\n",
      "0.029854740059171162\n",
      "0.0017810235718890288\n",
      "0.10326560964140062\n",
      "iteration 4\n",
      "Feedback on n=[9592 5964 4187 5251 5227  154 3820 7443 6433 4265]\n",
      "Size of pool: 9950\n",
      "Read response at iteration 4\n"
     ]
    },
    {
     "name": "stderr",
     "output_type": "stream",
     "text": [
      "WARNING:absl:Function `predict_f` contains input name(s) Xnew with unsupported characters which will be renamed to xnew in the SavedModel.\n"
     ]
    },
    {
     "name": "stdout",
     "output_type": "stream",
     "text": [
      "INFO:tensorflow:Assets written to: /home/springnuance/reinvent-hitl/Chemists-Component-Binh/results/Task2_demo_thompson_22-05-2024_seed_9774/loop_0/models/model_4/assets\n"
     ]
    },
    {
     "name": "stderr",
     "output_type": "stream",
     "text": [
      "INFO:tensorflow:Assets written to: /home/springnuance/reinvent-hitl/Chemists-Component-Binh/results/Task2_demo_thompson_22-05-2024_seed_9774/loop_0/models/model_4/assets\n"
     ]
    },
    {
     "name": "stdout",
     "output_type": "stream",
     "text": [
      "save model at path /home/springnuance/reinvent-hitl/Chemists-Component-Binh/results/Task2_demo_thompson_22-05-2024_seed_9774/loop_0/models/model_4\n",
      "training model at iteration 4 use 2.043497323989868 s\n"
     ]
    },
    {
     "name": "stderr",
     "output_type": "stream",
     "text": [
      "/home/springnuance/miniconda3/envs/cc_env_hitl/lib/python3.7/site-packages/sklearn/metrics/classification.py:564: DeprecationWarning: `np.int` is a deprecated alias for the builtin `int`. To silence this warning, use `int` by itself. Doing this will not modify any behavior and is safe. When replacing `np.int`, you may wish to use e.g. `np.int64` or `np.int32` to specify the precision. If you wish to review your current use, check the release note link for additional information.\n",
      "Deprecated in NumPy 1.20; for more details and guidance: https://numpy.org/devdocs/release/1.20.0-notes.html#deprecations\n",
      "  w_mat = np.ones([n_classes, n_classes], dtype=np.int)\n"
     ]
    },
    {
     "name": "stdout",
     "output_type": "stream",
     "text": [
      "0.9840885356231144\n",
      "1.0\n",
      "0.012601260126012601\n",
      "0.006340579710144928\n",
      "0.07899165498708981\n",
      "0.012401978717318629\n",
      "0.09723643381525834\n",
      "iteration 5\n",
      "Feedback on n=[9833 8086 8424 5720 7677 2291 1235 4685 2606 8879]\n",
      "Size of pool: 9940\n",
      "Read response at iteration 5\n"
     ]
    },
    {
     "name": "stderr",
     "output_type": "stream",
     "text": [
      "WARNING:absl:Function `predict_f` contains input name(s) Xnew with unsupported characters which will be renamed to xnew in the SavedModel.\n"
     ]
    },
    {
     "name": "stdout",
     "output_type": "stream",
     "text": [
      "INFO:tensorflow:Assets written to: /home/springnuance/reinvent-hitl/Chemists-Component-Binh/results/Task2_demo_thompson_22-05-2024_seed_9774/loop_0/models/model_5/assets\n"
     ]
    },
    {
     "name": "stderr",
     "output_type": "stream",
     "text": [
      "INFO:tensorflow:Assets written to: /home/springnuance/reinvent-hitl/Chemists-Component-Binh/results/Task2_demo_thompson_22-05-2024_seed_9774/loop_0/models/model_5/assets\n"
     ]
    },
    {
     "name": "stdout",
     "output_type": "stream",
     "text": [
      "save model at path /home/springnuance/reinvent-hitl/Chemists-Component-Binh/results/Task2_demo_thompson_22-05-2024_seed_9774/loop_0/models/model_5\n",
      "training model at iteration 5 use 32.652501344680786 s\n"
     ]
    },
    {
     "name": "stderr",
     "output_type": "stream",
     "text": [
      "/home/springnuance/miniconda3/envs/cc_env_hitl/lib/python3.7/site-packages/sklearn/metrics/classification.py:564: DeprecationWarning: `np.int` is a deprecated alias for the builtin `int`. To silence this warning, use `int` by itself. Doing this will not modify any behavior and is safe. When replacing `np.int`, you may wish to use e.g. `np.int64` or `np.int32` to specify the precision. If you wish to review your current use, check the release note link for additional information.\n",
      "Deprecated in NumPy 1.20; for more details and guidance: https://numpy.org/devdocs/release/1.20.0-notes.html#deprecations\n",
      "  w_mat = np.ones([n_classes, n_classes], dtype=np.int)\n"
     ]
    },
    {
     "name": "stdout",
     "output_type": "stream",
     "text": [
      "0.9841030401485263\n",
      "1.0\n",
      "0.014388489208633093\n",
      "0.007246376811594203\n",
      "0.08444624374102182\n",
      "0.014161349202505669\n",
      "0.09730566508182108\n",
      "iteration 6\n",
      "Feedback on n=[6749 7192 9407 2881 7428 6463 7348 1964 2142 4628]\n",
      "Size of pool: 9930\n",
      "Read response at iteration 6\n"
     ]
    },
    {
     "name": "stderr",
     "output_type": "stream",
     "text": [
      "WARNING:absl:Function `predict_f` contains input name(s) Xnew with unsupported characters which will be renamed to xnew in the SavedModel.\n"
     ]
    },
    {
     "name": "stdout",
     "output_type": "stream",
     "text": [
      "INFO:tensorflow:Assets written to: /home/springnuance/reinvent-hitl/Chemists-Component-Binh/results/Task2_demo_thompson_22-05-2024_seed_9774/loop_0/models/model_6/assets\n"
     ]
    },
    {
     "name": "stderr",
     "output_type": "stream",
     "text": [
      "INFO:tensorflow:Assets written to: /home/springnuance/reinvent-hitl/Chemists-Component-Binh/results/Task2_demo_thompson_22-05-2024_seed_9774/loop_0/models/model_6/assets\n"
     ]
    },
    {
     "name": "stdout",
     "output_type": "stream",
     "text": [
      "save model at path /home/springnuance/reinvent-hitl/Chemists-Component-Binh/results/Task2_demo_thompson_22-05-2024_seed_9774/loop_0/models/model_6\n",
      "training model at iteration 6 use 1.0626707077026367 s\n"
     ]
    },
    {
     "name": "stderr",
     "output_type": "stream",
     "text": [
      "/home/springnuance/miniconda3/envs/cc_env_hitl/lib/python3.7/site-packages/sklearn/metrics/classification.py:564: DeprecationWarning: `np.int` is a deprecated alias for the builtin `int`. To silence this warning, use `int` by itself. Doing this will not modify any behavior and is safe. When replacing `np.int`, you may wish to use e.g. `np.int64` or `np.int32` to specify the precision. If you wish to review your current use, check the release note link for additional information.\n",
      "Deprecated in NumPy 1.20; for more details and guidance: https://numpy.org/devdocs/release/1.20.0-notes.html#deprecations\n",
      "  w_mat = np.ones([n_classes, n_classes], dtype=np.int)\n"
     ]
    },
    {
     "name": "stdout",
     "output_type": "stream",
     "text": [
      "0.9842770944534694\n",
      "1.0\n",
      "0.03558718861209964\n",
      "0.018115942028985508\n",
      "0.133532857872509\n",
      "0.03503729736831884\n",
      "0.091802704179923\n",
      "iteration 7\n",
      "Feedback on n=[9813  733 9048 6022 2651 1031  486 8244 6858 2745]\n",
      "Size of pool: 9920\n",
      "Read response at iteration 7\n"
     ]
    },
    {
     "name": "stderr",
     "output_type": "stream",
     "text": [
      "WARNING:absl:Function `predict_f` contains input name(s) Xnew with unsupported characters which will be renamed to xnew in the SavedModel.\n"
     ]
    },
    {
     "name": "stdout",
     "output_type": "stream",
     "text": [
      "INFO:tensorflow:Assets written to: /home/springnuance/reinvent-hitl/Chemists-Component-Binh/results/Task2_demo_thompson_22-05-2024_seed_9774/loop_0/models/model_7/assets\n"
     ]
    },
    {
     "name": "stderr",
     "output_type": "stream",
     "text": [
      "INFO:tensorflow:Assets written to: /home/springnuance/reinvent-hitl/Chemists-Component-Binh/results/Task2_demo_thompson_22-05-2024_seed_9774/loop_0/models/model_7/assets\n"
     ]
    },
    {
     "name": "stdout",
     "output_type": "stream",
     "text": [
      "save model at path /home/springnuance/reinvent-hitl/Chemists-Component-Binh/results/Task2_demo_thompson_22-05-2024_seed_9774/loop_0/models/model_7\n",
      "training model at iteration 7 use 1.5734457969665527 s\n"
     ]
    },
    {
     "name": "stderr",
     "output_type": "stream",
     "text": [
      "/home/springnuance/miniconda3/envs/cc_env_hitl/lib/python3.7/site-packages/sklearn/metrics/classification.py:564: DeprecationWarning: `np.int` is a deprecated alias for the builtin `int`. To silence this warning, use `int` by itself. Doing this will not modify any behavior and is safe. When replacing `np.int`, you may wish to use e.g. `np.int64` or `np.int32` to specify the precision. If you wish to review your current use, check the release note link for additional information.\n",
      "Deprecated in NumPy 1.20; for more details and guidance: https://numpy.org/devdocs/release/1.20.0-notes.html#deprecations\n",
      "  w_mat = np.ones([n_classes, n_classes], dtype=np.int)\n"
     ]
    },
    {
     "name": "stdout",
     "output_type": "stream",
     "text": [
      "0.9860321420283128\n",
      "0.9548387096774194\n",
      "0.2351072279586974\n",
      "0.13405797101449277\n",
      "0.35502615380088054\n",
      "0.2320794442117824\n",
      "0.09280037312661722\n",
      "iteration 8\n",
      "Feedback on n=[2280 9005 9318  100 8124 3177 7374 4158  769 7270]\n",
      "Size of pool: 9910\n",
      "Read response at iteration 8\n"
     ]
    },
    {
     "name": "stderr",
     "output_type": "stream",
     "text": [
      "WARNING:absl:Function `predict_f` contains input name(s) Xnew with unsupported characters which will be renamed to xnew in the SavedModel.\n"
     ]
    },
    {
     "name": "stdout",
     "output_type": "stream",
     "text": [
      "INFO:tensorflow:Assets written to: /home/springnuance/reinvent-hitl/Chemists-Component-Binh/results/Task2_demo_thompson_22-05-2024_seed_9774/loop_0/models/model_8/assets\n"
     ]
    },
    {
     "name": "stderr",
     "output_type": "stream",
     "text": [
      "INFO:tensorflow:Assets written to: /home/springnuance/reinvent-hitl/Chemists-Component-Binh/results/Task2_demo_thompson_22-05-2024_seed_9774/loop_0/models/model_8/assets\n"
     ]
    },
    {
     "name": "stdout",
     "output_type": "stream",
     "text": [
      "save model at path /home/springnuance/reinvent-hitl/Chemists-Component-Binh/results/Task2_demo_thompson_22-05-2024_seed_9774/loop_0/models/model_8\n",
      "training model at iteration 8 use 1.7240192890167236 s\n"
     ]
    },
    {
     "name": "stderr",
     "output_type": "stream",
     "text": [
      "/home/springnuance/miniconda3/envs/cc_env_hitl/lib/python3.7/site-packages/sklearn/metrics/classification.py:564: DeprecationWarning: `np.int` is a deprecated alias for the builtin `int`. To silence this warning, use `int` by itself. Doing this will not modify any behavior and is safe. When replacing `np.int`, you may wish to use e.g. `np.int64` or `np.int32` to specify the precision. If you wish to review your current use, check the release note link for additional information.\n",
      "Deprecated in NumPy 1.20; for more details and guidance: https://numpy.org/devdocs/release/1.20.0-notes.html#deprecations\n",
      "  w_mat = np.ones([n_classes, n_classes], dtype=np.int)\n"
     ]
    },
    {
     "name": "stdout",
     "output_type": "stream",
     "text": [
      "0.9864672777906707\n",
      "0.9621621621621622\n",
      "0.27618308766485644\n",
      "0.161231884057971\n",
      "0.39097565835996645\n",
      "0.27284074525785207\n",
      "0.09051647066453399\n",
      "iteration 9\n",
      "Feedback on n=[8479 8604 4069  504 8997 9414 6346 8791 7745 2685]\n",
      "Size of pool: 9900\n",
      "Read response at iteration 9\n"
     ]
    },
    {
     "name": "stderr",
     "output_type": "stream",
     "text": [
      "WARNING:absl:Function `predict_f` contains input name(s) Xnew with unsupported characters which will be renamed to xnew in the SavedModel.\n"
     ]
    },
    {
     "name": "stdout",
     "output_type": "stream",
     "text": [
      "INFO:tensorflow:Assets written to: /home/springnuance/reinvent-hitl/Chemists-Component-Binh/results/Task2_demo_thompson_22-05-2024_seed_9774/loop_0/models/model_9/assets\n"
     ]
    },
    {
     "name": "stderr",
     "output_type": "stream",
     "text": [
      "INFO:tensorflow:Assets written to: /home/springnuance/reinvent-hitl/Chemists-Component-Binh/results/Task2_demo_thompson_22-05-2024_seed_9774/loop_0/models/model_9/assets\n"
     ]
    },
    {
     "name": "stdout",
     "output_type": "stream",
     "text": [
      "save model at path /home/springnuance/reinvent-hitl/Chemists-Component-Binh/results/Task2_demo_thompson_22-05-2024_seed_9774/loop_0/models/model_9\n",
      "training model at iteration 9 use 1.4061393737792969 s\n"
     ]
    },
    {
     "name": "stderr",
     "output_type": "stream",
     "text": [
      "/home/springnuance/miniconda3/envs/cc_env_hitl/lib/python3.7/site-packages/sklearn/metrics/classification.py:564: DeprecationWarning: `np.int` is a deprecated alias for the builtin `int`. To silence this warning, use `int` by itself. Doing this will not modify any behavior and is safe. When replacing `np.int`, you may wish to use e.g. `np.int64` or `np.int32` to specify the precision. If you wish to review your current use, check the release note link for additional information.\n",
      "Deprecated in NumPy 1.20; for more details and guidance: https://numpy.org/devdocs/release/1.20.0-notes.html#deprecations\n",
      "  w_mat = np.ones([n_classes, n_classes], dtype=np.int)\n"
     ]
    },
    {
     "name": "stdout",
     "output_type": "stream",
     "text": [
      "0.987424576467858\n",
      "0.8963210702341137\n",
      "0.3820384889522451\n",
      "0.2427536231884058\n",
      "0.4628442205309929\n",
      "0.37779178633854427\n",
      "0.0901353089639152\n",
      "iteration 10\n",
      "Feedback on n=[4181 2682 1755 9222 2500 5828 9474 7091 4374 4245]\n",
      "Size of pool: 9890\n",
      "Read response at iteration 10\n"
     ]
    },
    {
     "name": "stderr",
     "output_type": "stream",
     "text": [
      "WARNING:absl:Function `predict_f` contains input name(s) Xnew with unsupported characters which will be renamed to xnew in the SavedModel.\n"
     ]
    },
    {
     "name": "stdout",
     "output_type": "stream",
     "text": [
      "INFO:tensorflow:Assets written to: /home/springnuance/reinvent-hitl/Chemists-Component-Binh/results/Task2_demo_thompson_22-05-2024_seed_9774/loop_0/models/model_10/assets\n"
     ]
    },
    {
     "name": "stderr",
     "output_type": "stream",
     "text": [
      "INFO:tensorflow:Assets written to: /home/springnuance/reinvent-hitl/Chemists-Component-Binh/results/Task2_demo_thompson_22-05-2024_seed_9774/loop_0/models/model_10/assets\n"
     ]
    },
    {
     "name": "stdout",
     "output_type": "stream",
     "text": [
      "save model at path /home/springnuance/reinvent-hitl/Chemists-Component-Binh/results/Task2_demo_thompson_22-05-2024_seed_9774/loop_0/models/model_10\n",
      "training model at iteration 10 use 1.2114324569702148 s\n",
      "0.9879032258064516\n",
      "0.9017857142857143\n",
      "0.4208333333333333\n",
      "0.27445652173913043\n",
      "0.4938255764296977\n",
      "0.4164727911834393\n",
      "0.08777897787759355\n",
      "accuracy is [0.9839870039452309, 0.9839870039452309, 0.9839870039452309, 0.9840015084706428, 0.9840885356231144, 0.9841030401485263, 0.9842770944534694, 0.9860321420283128, 0.9864672777906707, 0.987424576467858, 0.9879032258064516]\n",
      "recall is [0.0, 0.0, 0.0, 0.0009057971014492754, 0.006340579710144928, 0.007246376811594203, 0.018115942028985508, 0.13405797101449277, 0.161231884057971, 0.2427536231884058, 0.27445652173913043]\n",
      "MCC is [0.0, 0.0, 0.0, 0.029854740059171162, 0.07899165498708981, 0.08444624374102182, 0.133532857872509, 0.35502615380088054, 0.39097565835996645, 0.4628442205309929, 0.4938255764296977]\n",
      "Kappa is [0.0, 0.0, 0.0, 0.0017810235718890288, 0.012401978717318629, 0.014161349202505669, 0.03503729736831884, 0.2320794442117824, 0.27284074525785207, 0.37779178633854427, 0.4164727911834393]\n",
      "rmse is [0.12208898604278072, 0.11616046348167658, 0.11274844584357341, 0.10326560964140062, 0.09723643381525834, 0.09730566508182108, 0.091802704179923, 0.09280037312661722, 0.09051647066453399, 0.0901353089639152, 0.08777897787759355]\n"
     ]
    },
    {
     "name": "stderr",
     "output_type": "stream",
     "text": [
      "/home/springnuance/miniconda3/envs/cc_env_hitl/lib/python3.7/site-packages/sklearn/metrics/classification.py:564: DeprecationWarning: `np.int` is a deprecated alias for the builtin `int`. To silence this warning, use `int` by itself. Doing this will not modify any behavior and is safe. When replacing `np.int`, you may wish to use e.g. `np.int64` or `np.int32` to specify the precision. If you wish to review your current use, check the release note link for additional information.\n",
      "Deprecated in NumPy 1.20; for more details and guidance: https://numpy.org/devdocs/release/1.20.0-notes.html#deprecations\n",
      "  w_mat = np.ones([n_classes, n_classes], dtype=np.int)\n"
     ]
    }
   ],
   "source": [
    "print(\"Start iteration\")\n",
    "\n",
    "positive_molecules_num = np.array([np.sum(y_updated)], dtype=np.int)\n",
    "idx_query = np.array([], dtype='i')\n",
    "all_smiles_query = []\n",
    "D0_smiles = smiles_train[L]\n",
    "\n",
    "for iteration in np.arange(1,n_iteration+1):\n",
    "    # CREATE QUERY\n",
    "    print(f'iteration {iteration}')\n",
    "    queryfile_identifier = 'query_it{}'.format(iteration) \n",
    "    if not READ_ONLY:\n",
    "        # Elicit n_batch feedback\n",
    "        t = iteration\n",
    "        i_query = select_query(U, X_train, n_batch, gpc, acquisition, X_updated, y_updated, L, t)\n",
    "    elif READ_ONLY:\n",
    "        query_csv = pd.read_csv(output_dir + '/query/{}.csv'.format(queryfile_identifier))\n",
    "        sq = query_csv['SMILES']\n",
    "        i_query = np.array([list(smiles_train).index(s) for s in sq])\n",
    "\n",
    "    idx_query = np.append(idx_query,i_query)\n",
    "    U = np.setdiff1d(U,i_query)\n",
    "    if verbose:\n",
    "        print(\"Feedback on n={}\".format(i_query))\n",
    "        print(\"Size of pool: {}\".format(len(U)))\n",
    "\n",
    "    query_smiles = smiles_train[i_query]\n",
    "    all_smiles_query += [query_smiles]\n",
    "\n",
    "    # Write the query to a csv file\n",
    "    if not READ_ONLY:\n",
    "        write_query_to_csv(query_smiles, id_train, i_query, output_dir + '/query/{}.csv'.format(queryfile_identifier), output_dir)\n",
    "\n",
    "    if not simulated_human:\n",
    "        input(\"Press Enter to continue...\")\n",
    "    # READ RESPONSE QUERY\n",
    "    print(\"Read response at iteration {}\".format(iteration))\n",
    "    # Response\n",
    "    if simulated_human:\n",
    "        y_response = y_train[i_query]\n",
    "        unkown_idx=np.where(y_response==-1)[0] \n",
    "        if(len(unkown_idx)>0): # If simulated feedback not pre-computed\n",
    "              y_response[unkown_idx]=query(query_smiles[unkown_idx])\n",
    "              #update y_train\n",
    "              y_train[i_query[unkown_idx]] = y_response[unkown_idx]\n",
    "    else:\n",
    "        y_csv = pd.read_csv(output_dir + '/query/{}_with_ratings.csv'.format(queryfile_identifier)) \n",
    "        smiles_response = list(y_csv['SMILES'])\n",
    "        responses = y_csv['rating'] \n",
    "        order = [smiles_response.index(smiles_train[i]) for i in i_query]\n",
    "        y_response = np.array([responses[i] for i in order], dtype=float) # match responses using smiles\n",
    "        y_response=y_response.reshape(len(y_response),1)\n",
    "        # filter out molecules without feedback (rating=0)\n",
    "        got_feedback = y_response != 0\n",
    "        y_response = y_response[got_feedback]\n",
    "        i_query = i_query[np.squeeze(got_feedback)]\n",
    "        # parse numerical feedback from columns 1=0, 5=1 and the rest in between\n",
    "        y_response = (y_response - 1)/4.0\n",
    "        y_response=y_response.reshape(len(y_response),1)\n",
    "        if verbose:\n",
    "            print(\"response is\")\n",
    "            print(y_response)\n",
    "\n",
    "    # Fit a new model, evaluate performance in test data\n",
    "    X_updated = np.vstack((X_updated, X_train[i_query,:]))\n",
    "    y_updated = np.concatenate((y_updated, y_response))\n",
    "    gpc=train_GaussianProcess(X_updated, y_updated,jobid, acquisition,seed,loop, iteration)\n",
    "    positive_molecules_num=np.append(positive_molecules_num,np.sum(y_updated))\n",
    "    accuracy, recall, precision, f1, MCC , Kappa, rmse = evaluate(gpc, X_test, y_test, accuracy, recall, precision, f1, MCC, Kappa, rmse)\n",
    "\n",
    "    if verbose:\n",
    "        print(accuracy[iteration])\n",
    "        print(precision[iteration])\n",
    "        print(f1[iteration])\n",
    "        print(recall[iteration])\n",
    "        print(MCC[iteration])\n",
    "        print(Kappa[iteration])\n",
    "        print(rmse[iteration])\n",
    "\n",
    "dat_save = {\n",
    "    'hitl params': {'N0': N0, 'T': iteration, 'n_batch': n_batch, 'step': step, 'acquisition': acquisition},\n",
    "    'accuracy': accuracy,\n",
    "    'recall': recall,\n",
    "    'precision': precision,\n",
    "    'f1': f1,\n",
    "    'MCC': MCC,\n",
    "    'Kappa': Kappa,\n",
    "    'rmse': rmse,\n",
    "    'baseline accuracy': accuracy_baseline,\n",
    "    'baseline_recall': recall_baseline,\n",
    "    'baseline_MCC': MCC_baseline,\n",
    "    'baseline_Kappa': Kappa_baseline,\n",
    "    'idx_query': idx_query,\n",
    "    'smiles_D0': D0_smiles,\n",
    "    'smiles_query': all_smiles_query,\n",
    "    'positive_molecules_num': positive_molecules_num\n",
    "}\n",
    "\n",
    "filename = output_dir + '/log_{}_it{}.p'.format(acquisition,iteration)\n",
    "with open(filename , 'wb') as f:\n",
    "    pickle.dump(dat_save, f)\n",
    "\n",
    "if verbose:\n",
    "    print('accuracy is {}'.format(accuracy))\n",
    "    print('recall is {}'.format(recall))\n",
    "    print('MCC is {}'.format(MCC))\n",
    "    print('Kappa is {}'.format(Kappa))\n",
    "    print('rmse is {}'.format(rmse))\n",
    "\n",
    "# Create shell scripts for evaluating performance of Chemist's component as Reinvent scoring function: \n",
    "# Script for reinforcement learning training of agent at each iteration\n",
    "write_runs_sh(seed, output_dir, reinvent_env, reinvent_dir, step, n_iteration)\n",
    "# Script for sampling molecules to evaluate the quality of Reinvent output once the agents are trained\n",
    "write_run_sample(seed, output_dir, reinvent_env, reinvent_dir, step, n_iteration)"
   ]
  },
  {
   "cell_type": "code",
   "execution_count": 14,
   "metadata": {},
   "outputs": [
    {
     "data": {
      "text/plain": [
       "Text(0.5, 1.0, \"Chemist's-component performance in the test set (drd2)\")"
      ]
     },
     "execution_count": 14,
     "metadata": {},
     "output_type": "execute_result"
    },
    {
     "data": {
      "image/png": "[encoded data removed]",
      "text/plain": [
       "<Figure size 432x288 with 1 Axes>"
      ]
     },
     "metadata": {
      "needs_background": "light"
     },
     "output_type": "display_data"
    }
   ],
   "source": [
    "# Visualize performance of Chemist's component as predictive model in the test data\n",
    "plt.plot(MCC)\n",
    "plt.xlabel('iteration')\n",
    "plt.ylabel('MCC')\n",
    "plt.title(\"Chemist's-component performance in the test set (drd2)\")"
   ]
  },
  {
   "cell_type": "code",
   "execution_count": 16,
   "metadata": {},
   "outputs": [
    {
     "data": {
      "text/plain": [
       "Text(0.5, 1.0, \"Chemist's-component performance in the test set (drd2)\")"
      ]
     },
     "execution_count": 16,
     "metadata": {},
     "output_type": "execute_result"
    },
    {
     "data": {
      "image/png": "[encoded data removed]",
      "text/plain": [
       "<Figure size 432x288 with 1 Axes>"
      ]
     },
     "metadata": {
      "needs_background": "light"
     },
     "output_type": "display_data"
    }
   ],
   "source": [
    "plt.plot(recall)\n",
    "plt.xlabel('iteration')\n",
    "plt.ylabel('recall')\n",
    "plt.title(\"Chemist's-component performance in the test set (drd2)\")"
   ]
  },
  {
   "cell_type": "code",
   "execution_count": 17,
   "metadata": {},
   "outputs": [
    {
     "data": {
      "text/plain": [
       "Text(0.5, 1.0, \"Chemist's-component performance in the test set (drd2)\")"
      ]
     },
     "execution_count": 17,
     "metadata": {},
     "output_type": "execute_result"
    },
    {
     "data": {
      "image/png": "[encoded data removed]",
      "text/plain": [
       "<Figure size 432x288 with 1 Axes>"
      ]
     },
     "metadata": {
      "needs_background": "light"
     },
     "output_type": "display_data"
    }
   ],
   "source": [
    "plt.plot(accuracy)\n",
    "plt.xlabel('iteration')\n",
    "plt.ylabel('accuracy')\n",
    "plt.title(\"Chemist's-component performance in the test set (drd2)\")"
   ]
  },
  {
   "cell_type": "code",
   "execution_count": 18,
   "metadata": {},
   "outputs": [
    {
     "data": {
      "text/plain": [
       "Text(0.5, 1.0, \"Chemist's-component performance in the test set (drd2)\")"
      ]
     },
     "execution_count": 18,
     "metadata": {},
     "output_type": "execute_result"
    },
    {
     "data": {
      "image/png": "[encoded data removed]",
      "text/plain": [
       "<Figure size 432x288 with 1 Axes>"
      ]
     },
     "metadata": {
      "needs_background": "light"
     },
     "output_type": "display_data"
    }
   ],
   "source": [
    "plt.plot(Kappa)\n",
    "plt.xlabel('iteration')\n",
    "plt.ylabel('Kappa')\n",
    "plt.title(\"Chemist's-component performance in the test set (drd2)\")"
   ]
  }
 ],
 "metadata": {
  "kernelspec": {
   "display_name": "cc_env_hitl",
   "language": "python",
   "name": "python3"
  },
  "language_info": {
   "codemirror_mode": {
    "name": "ipython",
    "version": 3
   },
   "file_extension": ".py",
   "mimetype": "text/x-python",
   "name": "python",
   "nbconvert_exporter": "python",
   "pygments_lexer": "ipython3",
   "version": "3.7.3"
  }
 },
 "nbformat": 4,
 "nbformat_minor": 4
}

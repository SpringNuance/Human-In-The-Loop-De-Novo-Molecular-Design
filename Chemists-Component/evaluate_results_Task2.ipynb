{
 "cells": [
  {
   "cell_type": "code",
   "execution_count": 1,
   "metadata": {},
   "outputs": [
    {
     "name": "stderr",
     "output_type": "stream",
     "text": [
      "RDKit WARNING: [19:11:43] Enabling RDKit 2019.09.1 jupyter extensions\n"
     ]
    }
   ],
   "source": [
    "# This is a notebook for evaluating and plotting the results of Task 2 experiments. \n",
    "# To run an experiment, use:\n",
    "# Task2_Chemists_component.ipynb and\n",
    "# run Reinvent 3.2 with config_tX.json and config_tX_sampling.json for X=0,...,T in the result folder (use runs.sh and run_sampling.sh in a computation cluster)\n",
    "\n",
    "import os\n",
    "import pickle\n",
    "import numpy as np\n",
    "import pandas as pd\n",
    "import fnmatch\n",
    "import reinvent_scoring\n",
    "from multiprocessing import Pool\n",
    "import matplotlib.pyplot as plt\n",
    "%matplotlib inline\n",
    "\n",
    "\n",
    "jobname = ['Task2_demo_thompson']\n",
    "result_dir ='./results/'\n",
    "save_result_dir = './'\n",
    "\n",
    "acquisitions = ['random', 'greedy', 'thompson', 'uncertainty']\n",
    "# options for plotting\n",
    "method_colors = {'uncertainty': 'C1',\n",
    "                 'random': 'C2',\n",
    "                'greedy': 'C3',\n",
    "                'thompson': 'C0'}\n",
    "method_names = {'uncertainty': 'Uncertainty sampling',\n",
    "                 'random': 'Random sampling',\n",
    "                'greedy': 'Pure exploitation',\n",
    "               'thompson': 'Thompson sampling'} "
   ]
  },
  {
   "cell_type": "code",
   "execution_count": 2,
   "metadata": {},
   "outputs": [],
   "source": [
    "# Oracle model:\n",
    "expert_model_path = './data/drd2.pkl'\n",
    "qsar_model = {\n",
    "    \"component_type\": \"predictive_property\",\n",
    "    \"name\": \"DRD2\",\n",
    "    \"weight\": 1,\n",
    "    \"specific_parameters\": {\n",
    "        \"model_path\": expert_model_path,\n",
    "        \"scikit\": \"classification\",\n",
    "        \"descriptor_type\": \"ecfp\",\n",
    "        \"size\": 2048,\n",
    "        \"radius\": 3,\n",
    "        \"use_counts\": True,\n",
    "        \"use_features\": True,\n",
    "        \"transformation\": {\n",
    "            \"transformation_type\": \"no_transformation\"\n",
    "      }\n",
    "    }\n",
    "  }\n",
    "\n",
    "scoring_function = {\n",
    "  \"name\": \"custom_sum\",\n",
    "  \"parallel\": False,\n",
    "  \"parameters\": [\n",
    "    qsar_model\n",
    "  ]\n",
    "}\n",
    "scoring_function_parameters = reinvent_scoring.scoring.ScoringFunctionParameters(**scoring_function)\n",
    "expert_scoring_function = reinvent_scoring.scoring.ScoringFunctionFactory(scoring_function_parameters)"
   ]
  },
  {
   "cell_type": "code",
   "execution_count": 3,
   "metadata": {},
   "outputs": [],
   "source": [
    "def score_sampled_smiles(file):\n",
    "    data = pd.read_csv(file).to_numpy()\n",
    "    data =np.squeeze(data)\n",
    "    summary = expert_scoring_function.get_final_score(data)\n",
    "    return summary.total_score"
   ]
  },
  {
   "cell_type": "code",
   "execution_count": 4,
   "metadata": {},
   "outputs": [
    {
     "name": "stdout",
     "output_type": "stream",
     "text": [
      "reading ./results/\n",
      "Task2_demo_thompson\n"
     ]
    }
   ],
   "source": [
    "result_dir_per_job={}\n",
    "print('reading {}'.format(result_dir))\n",
    "for fname in os.listdir(result_dir):\n",
    "    for job in jobname:\n",
    "        if fnmatch.fnmatch(fname,job+'*'):\n",
    "            #take care the position of acquisition method in file name\n",
    "            print(job)\n",
    "            acquisition=job.split('_')[2]\n",
    "            if acquisition in result_dir_per_job.keys():\n",
    "                result_dir_per_job[acquisition].append(result_dir+fname+'/loop0/')\n",
    "            else:\n",
    "                result_dir_per_job[acquisition]=[result_dir+fname+'/loop0/']\n",
    "\n",
    "for key in result_dir_per_job.keys():\n",
    "    assert key in acquisitions, \"take care the position of acquisition method in file name\""
   ]
  },
  {
   "cell_type": "code",
   "execution_count": 5,
   "metadata": {},
   "outputs": [],
   "source": [
    "def parallel_processing(params):\n",
    "    res={}\n",
    "    key,folders=params[0],params[1]\n",
    "    acquisition=key\n",
    "    res[acquisition]={}\n",
    "    for folder in folders:\n",
    "        print(\"processing \" +folder)\n",
    "        files=os.listdir(folder)\n",
    "        for filename in files:\n",
    "            if filename.endswith(\".p\"):\n",
    "                dat_save = pickle.load(open(folder + filename, \"rb\" ))\n",
    "                # collect results\n",
    "                for key, value in dat_save.items():\n",
    "                    if key in res[acquisition]:\n",
    "                        #assume experiment should have the same 'hitl params'\n",
    "                        if 'baseline' in key:\n",
    "                            res[acquisition][key]=np.append(res[acquisition][key],value)\n",
    "                        elif key!='idx_query' and key!='hitl params':\n",
    "                            res[acquisition][key]=np.vstack((res[acquisition][key],value))\n",
    "                    else:\n",
    "                        if key=='hitl params':\n",
    "                            for k, v in value.items():\n",
    "                                res[acquisition][k]=v\n",
    "                        elif 'baseline' in key:\n",
    "                            res[acquisition][key]=np.array([value])\n",
    "                        elif key!='idx_query':\n",
    "                            res[acquisition][key] = np.array(value)\n",
    "                            res[acquisition]['Expert score REINVENT output'] = []\n",
    "        sc=[]\n",
    "        for it in np.arange(0,res[acquisition]['T']+1,res[acquisition]['step']):\n",
    "            sampled_smiles = folder + 'results_t{}/sampled.csv'.format(it)\n",
    "            print('processing ' + sampled_smiles)\n",
    "            try:\n",
    "                sc += [score_sampled_smiles(sampled_smiles)]\n",
    "            except FileNotFoundError:\n",
    "                print(\"MISSING RESULT {}, please sample molecules from your agent\".format(sampled_smiles))  \n",
    "                sc += [np.nan]\n",
    "        res[acquisition]['Expert score REINVENT output'] += [sc]\n",
    "\n",
    "    return res"
   ]
  },
  {
   "cell_type": "code",
   "execution_count": 6,
   "metadata": {},
   "outputs": [
    {
     "name": "stdout",
     "output_type": "stream",
     "text": [
      "processing ./results/Task2_demo_thompson_25-02-2024_seed_1718/loop0/\n",
      "processing ./results/Task2_demo_thompson_25-02-2024_seed_1718/loop0/results_t0/sampled.csv\n",
      "MISSING RESULT ./results/Task2_demo_thompson_25-02-2024_seed_1718/loop0/results_t0/sampled.csv, please sample molecules from your agent\n",
      "processing ./results/Task2_demo_thompson_25-02-2024_seed_1718/loop0/results_t1/sampled.csv\n",
      "MISSING RESULT ./results/Task2_demo_thompson_25-02-2024_seed_1718/loop0/results_t1/sampled.csv, please sample molecules from your agent\n",
      "processing ./results/Task2_demo_thompson_25-02-2024_seed_1718/loop0/results_t2/sampled.csv\n",
      "MISSING RESULT ./results/Task2_demo_thompson_25-02-2024_seed_1718/loop0/results_t2/sampled.csv, please sample molecules from your agent\n",
      "processing ./results/Task2_demo_thompson_25-02-2024_seed_1718/loop0/results_t3/sampled.csv\n",
      "MISSING RESULT ./results/Task2_demo_thompson_25-02-2024_seed_1718/loop0/results_t3/sampled.csv, please sample molecules from your agent\n",
      "processing ./results/Task2_demo_thompson_25-02-2024_seed_1718/loop0/results_t4/sampled.csv\n",
      "MISSING RESULT ./results/Task2_demo_thompson_25-02-2024_seed_1718/loop0/results_t4/sampled.csv, please sample molecules from your agent\n",
      "processing ./results/Task2_demo_thompson_25-02-2024_seed_1718/loop0/results_t5/sampled.csv\n",
      "MISSING RESULT ./results/Task2_demo_thompson_25-02-2024_seed_1718/loop0/results_t5/sampled.csv, please sample molecules from your agent\n",
      "processing ./results/Task2_demo_thompson_25-02-2024_seed_1718/loop0/results_t6/sampled.csv\n",
      "MISSING RESULT ./results/Task2_demo_thompson_25-02-2024_seed_1718/loop0/results_t6/sampled.csv, please sample molecules from your agent\n",
      "processing ./results/Task2_demo_thompson_25-02-2024_seed_1718/loop0/results_t7/sampled.csv\n",
      "MISSING RESULT ./results/Task2_demo_thompson_25-02-2024_seed_1718/loop0/results_t7/sampled.csv, please sample molecules from your agent\n",
      "processing ./results/Task2_demo_thompson_25-02-2024_seed_1718/loop0/results_t8/sampled.csv\n",
      "MISSING RESULT ./results/Task2_demo_thompson_25-02-2024_seed_1718/loop0/results_t8/sampled.csv, please sample molecules from your agent\n",
      "processing ./results/Task2_demo_thompson_25-02-2024_seed_1718/loop0/results_t9/sampled.csv\n",
      "MISSING RESULT ./results/Task2_demo_thompson_25-02-2024_seed_1718/loop0/results_t9/sampled.csv, please sample molecules from your agent\n",
      "processing ./results/Task2_demo_thompson_25-02-2024_seed_1718/loop0/results_t10/sampled.csv\n",
      "MISSING RESULT ./results/Task2_demo_thompson_25-02-2024_seed_1718/loop0/results_t10/sampled.csv, please sample molecules from your agent\n"
     ]
    }
   ],
   "source": [
    "params=[[key, folders] for key, folders in result_dir_per_job.items() ]\n",
    "with Pool(len(jobname)) as p:\n",
    "    mapped_pool=p.map(parallel_processing,params)\n",
    "res={}\n",
    "for i in range(len(mapped_pool)):\n",
    "    res.update(mapped_pool[i])"
   ]
  },
  {
   "cell_type": "code",
   "execution_count": 7,
   "metadata": {},
   "outputs": [],
   "source": [
    "def shadedplot(x, y, fill=True, label='', color=''):\n",
    "    p = plt.plot(x, y[0,:], label=label, color=color)\n",
    "    c = p[-1].get_color()\n",
    "    if fill:\n",
    "        plt.fill_between(x, y[1,:], y[2,:], color=c, alpha=0.25)"
   ]
  },
  {
   "cell_type": "code",
   "execution_count": 8,
   "metadata": {},
   "outputs": [
    {
     "name": "stdout",
     "output_type": "stream",
     "text": [
      "thompson\n"
     ]
    },
    {
     "name": "stderr",
     "output_type": "stream",
     "text": [
      "/home/springnuance/miniconda3/envs/cc_env_hitl/lib/python3.7/site-packages/ipykernel_launcher.py:7: RuntimeWarning: Mean of empty slice\n",
      "  import sys\n",
      "/home/springnuance/miniconda3/envs/cc_env_hitl/lib/python3.7/site-packages/ipykernel_launcher.py:8: RuntimeWarning: Mean of empty slice\n",
      "  \n",
      "/home/springnuance/miniconda3/envs/cc_env_hitl/lib/python3.7/site-packages/numpy/lib/nanfunctions.py:1666: RuntimeWarning: Degrees of freedom <= 0 for slice.\n",
      "  keepdims=keepdims)\n"
     ]
    },
    {
     "data": {
      "text/plain": [
       "(0.0, 1.0)"
      ]
     },
     "execution_count": 8,
     "metadata": {},
     "output_type": "execute_result"
    },
    {
     "data": {
      "image/png": "[encoded data removed]",
      "text/plain": [
       "<Figure size 432x288 with 1 Axes>"
      ]
     },
     "metadata": {
      "needs_background": "light"
     },
     "output_type": "display_data"
    }
   ],
   "source": [
    "# Plot Expert score in REINVENT output\n",
    "for acquisition in res.keys():\n",
    "    print(acquisition)\n",
    "    if acquisition not in acquisitions:\n",
    "        continue\n",
    "    rs = res[acquisition]['Expert score REINVENT output']\n",
    "    r = np.array([[np.nanmean(scores) for scores in rs[i]] for i in np.arange(len(rs))])\n",
    "    m = np.nanmean(r, axis=0)\n",
    "    sd = np.nanstd(r, axis=0)/np.sqrt(r.shape[0]) #SEM\n",
    "    x = np.arange(len(m))\n",
    "    N0=res[acquisition]['N0']\n",
    "    x[0] = N0\n",
    "    step=res[acquisition]['step']\n",
    "    n_batch=res[acquisition]['n_batch']\n",
    "    for i in np.arange(1,len(x)):\n",
    "        x[i]=x[i-1]+n_batch*step\n",
    "    if(r.shape[0]>1): # If multiple repetitions\n",
    "        shadedplot(x, np.array([m, m-sd,m+sd]), fill=True,label=method_names[acquisition], color=method_colors[acquisition])\n",
    "    for line in np.arange(r.shape[0]):\n",
    "        p = np.isnan(r[line,:]) # remove missing iterations\n",
    "        p = [not b for b in p]\n",
    "        plt.plot(x[p], r[line,p], color=method_colors[acquisition], label=method_names[acquisition])\n",
    "\n",
    "plt.legend()\n",
    "plt.xlabel('Number of queries to the simulated chemist')\n",
    "plt.ylabel('Average oracle score')\n",
    "plt.ylim([0,1])\n",
    "#plt.savefig(save_result_dir + \"{}_Expert_score_REINVENT_output.png\".format(jobname[0]),bbox_inches='tight')"
   ]
  }
 ],
 "metadata": {
  "kernelspec": {
   "display_name": "cc_env_hitl",
   "language": "python",
   "name": "python3"
  },
  "language_info": {
   "codemirror_mode": {
    "name": "ipython",
    "version": 3
   },
   "file_extension": ".py",
   "mimetype": "text/x-python",
   "name": "python",
   "nbconvert_exporter": "python",
   "pygments_lexer": "ipython3",
   "version": "3.7.3"
  }
 },
 "nbformat": 4,
 "nbformat_minor": 4
}

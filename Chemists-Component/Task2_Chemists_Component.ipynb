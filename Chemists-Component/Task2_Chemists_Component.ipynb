{
 "cells": [
  {
   "cell_type": "code",
   "execution_count": 1,
   "metadata": {},
   "outputs": [],
   "source": [
    "import os\n",
    "from multiprocessing import Pool\n",
    "import pandas as pd\n",
    "import pickle\n",
    "import json\n",
    "from datetime import datetime\n",
    "import rdkit, scipy, sklearn\n",
    "import tensorflow as tf\n",
    "from rdkit.Chem.Draw import IPythonConsole\n",
    "from rdkit.Chem import PandasTools\n",
    "from rdkit.Chem import AllChem as Chem\n",
    "from rdkit.Chem import DataStructs, Descriptors\n",
    "from rdkit.Chem import MACCSkeys\n",
    "from rdkit import Avalon\n",
    "from rdkit.Avalon import pyAvalonTools\n",
    "from sklearn.metrics import accuracy_score, cohen_kappa_score, matthews_corrcoef, recall_score, precision_score,f1_score\n",
    "\n",
    "\n",
    "from load_data import load_data\n",
    "from write import write_config_file, write_query_to_csv, write_runs_sh, write_idx, write_training_data, write_sample_file, write_run_sample\n",
    "from acquisition import select_query\n",
    "from models import Tanimoto_model\n",
    "from query import query\n",
    "\n",
    "\n",
    "from scipy.spatial.distance import *\n",
    "import numpy as np\n",
    "\n",
    "import matplotlib.pyplot as plt\n",
    "%matplotlib inline\n",
    "\n",
    "\n",
    "import pandas as pd\n",
    "\n",
    "import gpflow\n",
    "from gpflow.utilities import positive\n",
    "from gpflow.utilities.ops import broadcasting_elementwise\n",
    "from gpflow.mean_functions import Constant\n",
    "import tensorflow as tf\n",
    "import reinvent_scoring\n",
    "\n",
    "\n",
    "from sklearn.model_selection import train_test_split\n",
    "from sklearn.preprocessing import StandardScaler\n",
    "import time"
   ]
  },
  {
   "cell_type": "markdown",
   "metadata": {},
   "source": [
    "# configuration"
   ]
  },
  {
   "cell_type": "code",
   "execution_count": 3,
   "metadata": {},
   "outputs": [],
   "source": [
    "experiment = 5 # options: numbers 1-5 that define which seed is used in user demo\n",
    "\n",
    "seeds = [1718, 1896, 3975, 8355, 9774] \n",
    "seed = seeds[experiment-1]\n",
    "np.random.seed(seed)\n",
    "tf.random.set_seed(seed)\n",
    "\n",
    "acquisition='thompson' #options: 'thompson', 'uncertainty', 'random', 'greedy'\n",
    "READ_ONLY = False # Use 'True' to playback an existing experiment (reads queries and feedback from files instead of using the algorithm)\n",
    "usecase = 'drd2'\n",
    "simulated_human = True\n",
    "verbose = False # print out details during interaction\n",
    "loop, last_job=0, None # Do not change"
   ]
  },
  {
   "cell_type": "code",
   "execution_count": 4,
   "metadata": {},
   "outputs": [
    {
     "name": "stdout",
     "output_type": "stream",
     "text": [
      "True\n",
      "True\n",
      "True\n",
      "True\n"
     ]
    }
   ],
   "source": [
    "print(os.path.exists('../Reinvent'))\n",
    "print(os.path.exists('./results'))\n",
    "print(os.path.exists('../../miniconda3/envs/cc_env_hitl/bin/python'))\n",
    "print(os.path.exists('../../miniconda3/envs/cc_env_reinvent/bin/python'))"
   ]
  },
  {
   "cell_type": "code",
   "execution_count": 5,
   "metadata": {},
   "outputs": [],
   "source": [
    "def parse_usecase(usecase):\n",
    "    usecase_params = {\n",
    "                          'drd2': {\n",
    "                              'train_data': 'drd2_regression.train.csv',\n",
    "                              'test_data': 'drd2_regression.test.csv',\n",
    "                              'y_field': 'activity'\n",
    "                          }\n",
    "    }\n",
    "\n",
    "    train_data_file = usecase_params[usecase]['train_data']\n",
    "    test_data_file  = usecase_params[usecase]['test_data']\n",
    "    y_field = usecase_params[usecase]['y_field']\n",
    "    return train_data_file , test_data_file, y_field\n",
    "\n",
    "def load_config(acquisition,seed,loop, jobid=None):\n",
    "    if not jobid:\n",
    "        jobid=datetime.now().strftime(\"%d-%m-%Y\")\n",
    "    else:\n",
    "        jobid=jobid\n",
    "    jobname = 'Task2_demo_{}'.format(acquisition)\n",
    "\n",
    "    N0=10 # size of initial training data L\n",
    "    n_restarts=2 # parameters of GP optimization\n",
    "    n_batch=10    # number of molecules shown at each iteration\n",
    "    n_iteration=10  # the number of iteration\n",
    "    fpdim=1024 # dimension of morgan fingerprint\n",
    "    step=1\n",
    "    cwd=os.getcwd()\n",
    "    \n",
    "    #reinvent_dir = os.path.expanduser(\"/path/to/reinvent\")\n",
    "    #reinvent_env = os.path.expanduser(\"/path/to/conda_environment/for/Reinvent\")\n",
    "    #output_dir=os.path.join(cwd,\"./results/{}_{}_seed_{}\".format(jobname, jobid, seed))\n",
    "    \n",
    "    reinvent_dir = os.path.expanduser(\"../Reinvent\")\n",
    "    reinvent_env = os.path.expanduser(\"../../miniconda3/envs/cc_env_reinvent\")\n",
    "    output_dir=os.path.join(cwd,\"./results/{}_{}_seed_{}\".format(jobname, jobid, seed))\n",
    "    \n",
    "    if not os.path.exists(output_dir):\n",
    "        os.mkdir(output_dir)\n",
    "    output_dir=os.path.join(output_dir,\"./loop{}\".format(loop))\n",
    "    if not os.path.exists(output_dir):\n",
    "        os.mkdir(output_dir)\n",
    "    lastloop_dir=None\n",
    "    return jobid, jobname, N0, n_restarts, n_batch, n_iteration, fpdim, step, reinvent_dir, reinvent_env, output_dir, lastloop_dir\n",
    "\n",
    "def load_data_config(usecase, lastloop_dir=None):\n",
    "    train_num=10000 # sample 10.000 molecules from training dataset to U\n",
    "    test_num=2000 # sample 2000 molecules from testing dataset to the test set\n",
    "    data_dir= './data/'\n",
    "    train_data_file , test_data_file, y_field=parse_usecase(usecase)\n",
    "\n",
    "    test_data_path=os.path.join(data_dir,test_data_file) if test_data_file else None\n",
    "\n",
    "    if lastloop_dir:\n",
    "        train_data_path=os.path.join(lastloop_dir,train_data_file)\n",
    "    else:\n",
    "        train_data_path=os.path.join(data_dir,train_data_file)\n",
    "    return train_num, test_num, train_data_path, test_data_path, y_field"
   ]
  },
  {
   "cell_type": "code",
   "execution_count": 6,
   "metadata": {},
   "outputs": [],
   "source": [
    "def train(X_updated, y_updated, jobid, acquisition,seed,loop, iteration):\n",
    "    jobid, jobname, N0, n_restarts, n_batch, _, fpdim, step,\\\n",
    "    reinvent_dir, reinvent_env, output_dir, _ =load_config(acquisition,seed,loop, jobid)\n",
    "    start=time.time()\n",
    "    gpc=Tanimoto_model(X_updated, y_updated)\n",
    "    model_dir = output_dir+\"/models/model_{}\".format(iteration)\n",
    "    if (iteration % step)==0:\n",
    "        gpc.predict_y_compiled = tf.function(gpc.predict_f, input_signature=[tf.TensorSpec(shape=[None, fpdim], dtype=tf.float64)])\n",
    "    tf.saved_model.save(gpc, model_dir)\n",
    "    print('save model at path {}'.format(model_dir))\n",
    "    conf_filename = write_config_file(jobid, jobname, reinvent_dir, reinvent_env, output_dir, fpdim, loop, iteration, model_dir, seed)\n",
    "    write_sample_file(jobid, jobname, output_dir, loop, iteration)\n",
    "    print('training model at iteration {} use {} s'.format(iteration, time.time()-start))\n",
    "    return gpc"
   ]
  },
  {
   "cell_type": "code",
   "execution_count": 7,
   "metadata": {},
   "outputs": [],
   "source": [
    "def get_labels(p):\n",
    "    label=p.copy()\n",
    "    label[label>0.5]=1\n",
    "    label[label<0.5]=0\n",
    "    label[label==0.5]=np.random.binomial(1, 0.5,sum(label==0.5))\n",
    "    return label.astype(int)\n",
    "\n",
    "def evaluate(model,X,Y,accuracy,recall, precision, f1, MCC, Kappa, rmse):\n",
    "    mean, var = model.predict_f(X)\n",
    "    rmse+= [np.sqrt(np.mean((mean-Y)**2))]\n",
    "    pred=get_labels(mean.numpy())\n",
    "    Y=get_labels(Y)\n",
    "    recall+=[recall_score(Y,pred)]\n",
    "    accuracy += [accuracy_score(Y, pred)]\n",
    "    precision+=[precision_score(Y,pred)]\n",
    "    f1+=[f1_score(Y,pred)]\n",
    "    MCC += [matthews_corrcoef(Y, pred)]\n",
    "    Kappa += [cohen_kappa_score(Y, pred)]\n",
    "    return accuracy, recall, precision, f1, MCC, Kappa, rmse"
   ]
  },
  {
   "cell_type": "markdown",
   "metadata": {},
   "source": [
    "# HITL"
   ]
  },
  {
   "cell_type": "code",
   "execution_count": 8,
   "metadata": {},
   "outputs": [
    {
     "name": "stdout",
     "output_type": "stream",
     "text": [
      "./data/drd2_regression.train.csv\n"
     ]
    },
    {
     "name": "stdout",
     "output_type": "stream",
     "text": [
      "sampling\n"
     ]
    },
    {
     "name": "stderr",
     "output_type": "stream",
     "text": [
      "/home/springnuance/miniconda3/envs/cc_env_hitl/lib/python3.7/site-packages/sklearn/utils/__init__.py:806: DeprecationWarning: `np.int` is a deprecated alias for the builtin `int`. To silence this warning, use `int` by itself. Doing this will not modify any behavior and is safe. When replacing `np.int`, you may wish to use e.g. `np.int64` or `np.int32` to specify the precision. If you wish to review your current use, check the release note link for additional information.\n",
      "Deprecated in NumPy 1.20; for more details and guidance: https://numpy.org/devdocs/release/1.20.0-notes.html#deprecations\n",
      "  return floored.astype(np.int)\n",
      "/home/springnuance/miniconda3/envs/cc_env_hitl/lib/python3.7/site-packages/sklearn/utils/__init__.py:806: DeprecationWarning: `np.int` is a deprecated alias for the builtin `int`. To silence this warning, use `int` by itself. Doing this will not modify any behavior and is safe. When replacing `np.int`, you may wish to use e.g. `np.int64` or `np.int32` to specify the precision. If you wish to review your current use, check the release note link for additional information.\n",
      "Deprecated in NumPy 1.20; for more details and guidance: https://numpy.org/devdocs/release/1.20.0-notes.html#deprecations\n",
      "  return floored.astype(np.int)\n"
     ]
    },
    {
     "name": "stdout",
     "output_type": "stream",
     "text": [
      "trainsformation spend 54.70352554321289 s\n"
     ]
    }
   ],
   "source": [
    "# load configuration \n",
    "jobid, jobname, N0, n_restarts, n_batch, n_iteration, fpdim, step, reinvent_dir, reinvent_env, output_dir, lastloop_dir = load_config(acquisition,seed, loop, last_job)\n",
    "\n",
    "# load training data configuration\n",
    "train_num, test_num, train_data_path, test_data_path, y_field = load_data_config(usecase,lastloop_dir)\n",
    "\n",
    "# load data\n",
    "X_train, X_test, y_train, y_test, smiles_train, id_train, X_L, X_U, y_L, y_U, L , U = load_data(train_data_path, test_data_path, output_dir, train_num, N0, y_field, id_field=None, ext='csv', sampling=True, normalization=False)"
   ]
  },
  {
   "cell_type": "code",
   "execution_count": 9,
   "metadata": {},
   "outputs": [
    {
     "name": "stderr",
     "output_type": "stream",
     "text": [
      "WARNING:absl:Function `predict_f` contains input name(s) Xnew with unsupported characters which will be renamed to xnew in the SavedModel.\n"
     ]
    },
    {
     "name": "stdout",
     "output_type": "stream",
     "text": [
      "WARNING:tensorflow:From /home/springnuance/miniconda3/envs/cc_env_hitl/lib/python3.7/site-packages/tensorflow/python/training/tracking/tracking.py:103: Bijector.has_static_min_event_ndims (from tensorflow_probability.python.bijectors.bijector) is deprecated and will be removed after 2021-08-01.\n",
      "Instructions for updating:\n",
      "`min_event_ndims` is now static for all bijectors; this property is no longer needed.\n"
     ]
    },
    {
     "name": "stderr",
     "output_type": "stream",
     "text": [
      "WARNING:tensorflow:From /home/springnuance/miniconda3/envs/cc_env_hitl/lib/python3.7/site-packages/tensorflow/python/training/tracking/tracking.py:103: Bijector.has_static_min_event_ndims (from tensorflow_probability.python.bijectors.bijector) is deprecated and will be removed after 2021-08-01.\n",
      "Instructions for updating:\n",
      "`min_event_ndims` is now static for all bijectors; this property is no longer needed.\n"
     ]
    },
    {
     "name": "stdout",
     "output_type": "stream",
     "text": [
      "INFO:tensorflow:Assets written to: /home/springnuance/reinvent-hitl/Chemists-Component/./results/Task2_demo_thompson_21-04-2024_seed_9774/./loop0/models/model_0/assets\n"
     ]
    },
    {
     "name": "stderr",
     "output_type": "stream",
     "text": [
      "INFO:tensorflow:Assets written to: /home/springnuance/reinvent-hitl/Chemists-Component/./results/Task2_demo_thompson_21-04-2024_seed_9774/./loop0/models/model_0/assets\n"
     ]
    },
    {
     "name": "stdout",
     "output_type": "stream",
     "text": [
      "save model at path /home/springnuance/reinvent-hitl/Chemists-Component/./results/Task2_demo_thompson_21-04-2024_seed_9774/./loop0/models/model_0\n",
      "training model at iteration 0 use 5.815089464187622 s\n",
      "training spend 5.816213130950928 s\n"
     ]
    },
    {
     "name": "stderr",
     "output_type": "stream",
     "text": [
      "/home/springnuance/miniconda3/envs/cc_env_hitl/lib/python3.7/site-packages/sklearn/metrics/classification.py:1437: UndefinedMetricWarning: Precision is ill-defined and being set to 0.0 due to no predicted samples.\n",
      "  'precision', 'predicted', average, warn_for)\n",
      "/home/springnuance/miniconda3/envs/cc_env_hitl/lib/python3.7/site-packages/sklearn/metrics/classification.py:1437: UndefinedMetricWarning: F-score is ill-defined and being set to 0.0 due to no predicted samples.\n",
      "  'precision', 'predicted', average, warn_for)\n",
      "/home/springnuance/miniconda3/envs/cc_env_hitl/lib/python3.7/site-packages/sklearn/metrics/classification.py:872: RuntimeWarning: invalid value encountered in double_scalars\n",
      "  mcc = cov_ytyp / np.sqrt(cov_ytyt * cov_ypyp)\n",
      "/home/springnuance/miniconda3/envs/cc_env_hitl/lib/python3.7/site-packages/sklearn/metrics/classification.py:564: DeprecationWarning: `np.int` is a deprecated alias for the builtin `int`. To silence this warning, use `int` by itself. Doing this will not modify any behavior and is safe. When replacing `np.int`, you may wish to use e.g. `np.int64` or `np.int32` to specify the precision. If you wish to review your current use, check the release note link for additional information.\n",
      "Deprecated in NumPy 1.20; for more details and guidance: https://numpy.org/devdocs/release/1.20.0-notes.html#deprecations\n",
      "  w_mat = np.ones([n_classes, n_classes], dtype=np.int)\n"
     ]
    },
    {
     "name": "stdout",
     "output_type": "stream",
     "text": [
      "evaluation spend 1.5341229438781738 s\n"
     ]
    },
    {
     "name": "stderr",
     "output_type": "stream",
     "text": [
      "/home/springnuance/miniconda3/envs/cc_env_hitl/lib/python3.7/site-packages/sklearn/metrics/classification.py:564: DeprecationWarning: `np.int` is a deprecated alias for the builtin `int`. To silence this warning, use `int` by itself. Doing this will not modify any behavior and is safe. When replacing `np.int`, you may wish to use e.g. `np.int64` or `np.int32` to specify the precision. If you wish to review your current use, check the release note link for additional information.\n",
      "Deprecated in NumPy 1.20; for more details and guidance: https://numpy.org/devdocs/release/1.20.0-notes.html#deprecations\n",
      "  w_mat = np.ones([n_classes, n_classes], dtype=np.int)\n"
     ]
    }
   ],
   "source": [
    "X_updated=X_L\n",
    "y_updated=y_L\n",
    "# Fit model with D_0\n",
    "start=time.time()\n",
    "gpc=train(X_updated, y_updated, jobid, acquisition,seed, loop, 0)\n",
    "print(\"training spend {} s\".format(time.time()-start))\n",
    "\n",
    "# Evaluate performance in test data\n",
    "accuracy, recall, precision, f1, MCC , Kappa, rmse =[] ,[], [], [], [], [], []\n",
    "start=time.time()\n",
    "accuracy, recall, precision, f1, MCC , Kappa, rmse = evaluate(gpc, X_test, y_test, accuracy, recall, precision, f1, MCC, Kappa, rmse)\n",
    "print(\"evaluation spend {} s\".format(time.time()-start))\n",
    "if verbose:\n",
    "    print('accuracy is {}'.format(accuracy))\n",
    "    print('recall is {}'.format(recall))\n",
    "    print('MCC is {}'.format(MCC))\n",
    "    print('Kappa is {}'.format(Kappa))\n",
    "    print('rmse is {}'.format(rmse))\n",
    "\n",
    "# Baseline prediction: mean of training data\n",
    "pred_baseline = np.repeat(1, len(y_test))\n",
    "label_test=get_labels(y_test)\n",
    "accuracy_baseline = accuracy_score(label_test, pred_baseline)\n",
    "recall_baseline=recall_score(label_test, pred_baseline)\n",
    "MCC_baseline = matthews_corrcoef(label_test, pred_baseline)\n",
    "Kappa_baseline = cohen_kappa_score(label_test, pred_baseline)\n",
    "\n",
    "if verbose: \n",
    "    print(\"Baseline accuracy: {}\".format(accuracy_baseline))"
   ]
  },
  {
   "cell_type": "code",
   "execution_count": 10,
   "metadata": {},
   "outputs": [
    {
     "name": "stderr",
     "output_type": "stream",
     "text": [
      "/home/springnuance/miniconda3/envs/cc_env_hitl/lib/python3.7/site-packages/ipykernel_launcher.py:2: DeprecationWarning: `np.int` is a deprecated alias for the builtin `int`. To silence this warning, use `int` by itself. Doing this will not modify any behavior and is safe. When replacing `np.int`, you may wish to use e.g. `np.int64` or `np.int32` to specify the precision. If you wish to review your current use, check the release note link for additional information.\n",
      "Deprecated in NumPy 1.20; for more details and guidance: https://numpy.org/devdocs/release/1.20.0-notes.html#deprecations\n",
      "  \n"
     ]
    },
    {
     "name": "stdout",
     "output_type": "stream",
     "text": [
      "start iteration\n",
      "it: 1\n",
      "Read response at iteration 1\n"
     ]
    },
    {
     "name": "stderr",
     "output_type": "stream",
     "text": [
      "WARNING:absl:Function `predict_f` contains input name(s) Xnew with unsupported characters which will be renamed to xnew in the SavedModel.\n"
     ]
    },
    {
     "name": "stdout",
     "output_type": "stream",
     "text": [
      "INFO:tensorflow:Assets written to: /home/springnuance/reinvent-hitl/Chemists-Component/./results/Task2_demo_thompson_21-04-2024_seed_9774/./loop0/models/model_1/assets\n"
     ]
    },
    {
     "name": "stderr",
     "output_type": "stream",
     "text": [
      "INFO:tensorflow:Assets written to: /home/springnuance/reinvent-hitl/Chemists-Component/./results/Task2_demo_thompson_21-04-2024_seed_9774/./loop0/models/model_1/assets\n"
     ]
    },
    {
     "name": "stdout",
     "output_type": "stream",
     "text": [
      "save model at path /home/springnuance/reinvent-hitl/Chemists-Component/./results/Task2_demo_thompson_21-04-2024_seed_9774/./loop0/models/model_1\n",
      "training model at iteration 1 use 1.4452974796295166 s\n"
     ]
    },
    {
     "name": "stderr",
     "output_type": "stream",
     "text": [
      "/home/springnuance/miniconda3/envs/cc_env_hitl/lib/python3.7/site-packages/sklearn/metrics/classification.py:1437: UndefinedMetricWarning: Precision is ill-defined and being set to 0.0 due to no predicted samples.\n",
      "  'precision', 'predicted', average, warn_for)\n",
      "/home/springnuance/miniconda3/envs/cc_env_hitl/lib/python3.7/site-packages/sklearn/metrics/classification.py:1437: UndefinedMetricWarning: F-score is ill-defined and being set to 0.0 due to no predicted samples.\n",
      "  'precision', 'predicted', average, warn_for)\n",
      "/home/springnuance/miniconda3/envs/cc_env_hitl/lib/python3.7/site-packages/sklearn/metrics/classification.py:872: RuntimeWarning: invalid value encountered in double_scalars\n",
      "  mcc = cov_ytyp / np.sqrt(cov_ytyt * cov_ypyp)\n",
      "/home/springnuance/miniconda3/envs/cc_env_hitl/lib/python3.7/site-packages/sklearn/metrics/classification.py:564: DeprecationWarning: `np.int` is a deprecated alias for the builtin `int`. To silence this warning, use `int` by itself. Doing this will not modify any behavior and is safe. When replacing `np.int`, you may wish to use e.g. `np.int64` or `np.int32` to specify the precision. If you wish to review your current use, check the release note link for additional information.\n",
      "Deprecated in NumPy 1.20; for more details and guidance: https://numpy.org/devdocs/release/1.20.0-notes.html#deprecations\n",
      "  w_mat = np.ones([n_classes, n_classes], dtype=np.int)\n"
     ]
    },
    {
     "name": "stdout",
     "output_type": "stream",
     "text": [
      "it: 2\n",
      "Read response at iteration 2\n"
     ]
    },
    {
     "name": "stderr",
     "output_type": "stream",
     "text": [
      "WARNING:absl:Function `predict_f` contains input name(s) Xnew with unsupported characters which will be renamed to xnew in the SavedModel.\n"
     ]
    },
    {
     "name": "stdout",
     "output_type": "stream",
     "text": [
      "INFO:tensorflow:Assets written to: /home/springnuance/reinvent-hitl/Chemists-Component/./results/Task2_demo_thompson_21-04-2024_seed_9774/./loop0/models/model_2/assets\n"
     ]
    },
    {
     "name": "stderr",
     "output_type": "stream",
     "text": [
      "INFO:tensorflow:Assets written to: /home/springnuance/reinvent-hitl/Chemists-Component/./results/Task2_demo_thompson_21-04-2024_seed_9774/./loop0/models/model_2/assets\n"
     ]
    },
    {
     "name": "stdout",
     "output_type": "stream",
     "text": [
      "save model at path /home/springnuance/reinvent-hitl/Chemists-Component/./results/Task2_demo_thompson_21-04-2024_seed_9774/./loop0/models/model_2\n",
      "training model at iteration 2 use 11.321229934692383 s\n"
     ]
    },
    {
     "name": "stderr",
     "output_type": "stream",
     "text": [
      "/home/springnuance/miniconda3/envs/cc_env_hitl/lib/python3.7/site-packages/sklearn/metrics/classification.py:1437: UndefinedMetricWarning: Precision is ill-defined and being set to 0.0 due to no predicted samples.\n",
      "  'precision', 'predicted', average, warn_for)\n",
      "/home/springnuance/miniconda3/envs/cc_env_hitl/lib/python3.7/site-packages/sklearn/metrics/classification.py:1437: UndefinedMetricWarning: F-score is ill-defined and being set to 0.0 due to no predicted samples.\n",
      "  'precision', 'predicted', average, warn_for)\n",
      "/home/springnuance/miniconda3/envs/cc_env_hitl/lib/python3.7/site-packages/sklearn/metrics/classification.py:872: RuntimeWarning: invalid value encountered in double_scalars\n",
      "  mcc = cov_ytyp / np.sqrt(cov_ytyt * cov_ypyp)\n",
      "/home/springnuance/miniconda3/envs/cc_env_hitl/lib/python3.7/site-packages/sklearn/metrics/classification.py:564: DeprecationWarning: `np.int` is a deprecated alias for the builtin `int`. To silence this warning, use `int` by itself. Doing this will not modify any behavior and is safe. When replacing `np.int`, you may wish to use e.g. `np.int64` or `np.int32` to specify the precision. If you wish to review your current use, check the release note link for additional information.\n",
      "Deprecated in NumPy 1.20; for more details and guidance: https://numpy.org/devdocs/release/1.20.0-notes.html#deprecations\n",
      "  w_mat = np.ones([n_classes, n_classes], dtype=np.int)\n"
     ]
    },
    {
     "name": "stdout",
     "output_type": "stream",
     "text": [
      "it: 3\n"
     ]
    },
    {
     "ename": "KeyboardInterrupt",
     "evalue": "",
     "output_type": "error",
     "traceback": [
      "\u001b[0;31m---------------------------------------------------------------------------\u001b[0m",
      "\u001b[0;31mKeyboardInterrupt\u001b[0m                         Traceback (most recent call last)",
      "\u001b[0;32m<ipython-input-10-a1d3aaa95f3e>\u001b[0m in \u001b[0;36m<module>\u001b[0;34m\u001b[0m\n\u001b[1;32m     12\u001b[0m         \u001b[0;31m# Elicit n_batch feedback\u001b[0m\u001b[0;34m\u001b[0m\u001b[0;34m\u001b[0m\u001b[0;34m\u001b[0m\u001b[0m\n\u001b[1;32m     13\u001b[0m         \u001b[0mt\u001b[0m \u001b[0;34m=\u001b[0m \u001b[0miteration\u001b[0m\u001b[0;34m\u001b[0m\u001b[0;34m\u001b[0m\u001b[0m\n\u001b[0;32m---> 14\u001b[0;31m         \u001b[0mi_query\u001b[0m \u001b[0;34m=\u001b[0m \u001b[0mselect_query\u001b[0m\u001b[0;34m(\u001b[0m\u001b[0mU\u001b[0m\u001b[0;34m,\u001b[0m \u001b[0mX_train\u001b[0m\u001b[0;34m,\u001b[0m \u001b[0mn_batch\u001b[0m\u001b[0;34m,\u001b[0m \u001b[0mgpc\u001b[0m\u001b[0;34m,\u001b[0m \u001b[0macquisition\u001b[0m\u001b[0;34m,\u001b[0m \u001b[0mX_updated\u001b[0m\u001b[0;34m,\u001b[0m \u001b[0my_updated\u001b[0m\u001b[0;34m,\u001b[0m \u001b[0mL\u001b[0m\u001b[0;34m,\u001b[0m \u001b[0mt\u001b[0m\u001b[0;34m)\u001b[0m\u001b[0;34m\u001b[0m\u001b[0;34m\u001b[0m\u001b[0m\n\u001b[0m\u001b[1;32m     15\u001b[0m     \u001b[0;32melif\u001b[0m \u001b[0mREAD_ONLY\u001b[0m\u001b[0;34m:\u001b[0m\u001b[0;34m\u001b[0m\u001b[0;34m\u001b[0m\u001b[0m\n\u001b[1;32m     16\u001b[0m         \u001b[0mquery_csv\u001b[0m \u001b[0;34m=\u001b[0m \u001b[0mpd\u001b[0m\u001b[0;34m.\u001b[0m\u001b[0mread_csv\u001b[0m\u001b[0;34m(\u001b[0m\u001b[0moutput_dir\u001b[0m \u001b[0;34m+\u001b[0m \u001b[0;34m'/query/{}.csv'\u001b[0m\u001b[0;34m.\u001b[0m\u001b[0mformat\u001b[0m\u001b[0;34m(\u001b[0m\u001b[0mqueryfile_identifier\u001b[0m\u001b[0;34m)\u001b[0m\u001b[0;34m)\u001b[0m\u001b[0;34m\u001b[0m\u001b[0;34m\u001b[0m\u001b[0m\n",
      "\u001b[0;32m~/reinvent-hitl/Chemists-Component/acquisition.py\u001b[0m in \u001b[0;36mselect_query\u001b[0;34m(U, X_train, n, model, acquisition, X_updated, y_updated, L, t)\u001b[0m\n\u001b[1;32m     65\u001b[0m         \u001b[0mprint\u001b[0m\u001b[0;34m(\u001b[0m\u001b[0;34m\"Warning: Unknown acquisition function. Using random sampling.\"\u001b[0m\u001b[0;34m)\u001b[0m\u001b[0;34m\u001b[0m\u001b[0;34m\u001b[0m\u001b[0m\n\u001b[1;32m     66\u001b[0m         \u001b[0macq\u001b[0m \u001b[0;34m=\u001b[0m \u001b[0mrandom_sampling\u001b[0m\u001b[0;34m\u001b[0m\u001b[0;34m\u001b[0m\u001b[0m\n\u001b[0;32m---> 67\u001b[0;31m     \u001b[0;32mreturn\u001b[0m \u001b[0macq\u001b[0m\u001b[0;34m(\u001b[0m\u001b[0mU\u001b[0m\u001b[0;34m,\u001b[0m \u001b[0mX_train\u001b[0m\u001b[0;34m,\u001b[0m \u001b[0mn\u001b[0m\u001b[0;34m,\u001b[0m \u001b[0mmodel\u001b[0m\u001b[0;34m,\u001b[0m \u001b[0macquisition\u001b[0m\u001b[0;34m,\u001b[0m \u001b[0mX_updated\u001b[0m\u001b[0;34m,\u001b[0m \u001b[0my_updated\u001b[0m\u001b[0;34m,\u001b[0m \u001b[0mL\u001b[0m\u001b[0;34m,\u001b[0m \u001b[0mt\u001b[0m\u001b[0;34m)\u001b[0m\u001b[0;34m\u001b[0m\u001b[0;34m\u001b[0m\u001b[0m\n\u001b[0m",
      "\u001b[0;32m~/reinvent-hitl/Chemists-Component/acquisition.py\u001b[0m in \u001b[0;36mthompson_sampling\u001b[0;34m(U, X_U, n, model, acquisition, X_updated, y_updated, L, t)\u001b[0m\n\u001b[1;32m     29\u001b[0m     \u001b[0mX_pool\u001b[0m \u001b[0;34m=\u001b[0m\u001b[0mX_U\u001b[0m\u001b[0;34m[\u001b[0m\u001b[0mU\u001b[0m\u001b[0;34m,\u001b[0m\u001b[0;34m:\u001b[0m\u001b[0;34m]\u001b[0m\u001b[0;34m\u001b[0m\u001b[0;34m\u001b[0m\u001b[0m\n\u001b[1;32m     30\u001b[0m     \u001b[0;31m# a sample from posterior\u001b[0m\u001b[0;34m\u001b[0m\u001b[0;34m\u001b[0m\u001b[0;34m\u001b[0m\u001b[0m\n\u001b[0;32m---> 31\u001b[0;31m     \u001b[0mpreds_p\u001b[0m \u001b[0;34m=\u001b[0m \u001b[0mmodel\u001b[0m\u001b[0;34m.\u001b[0m\u001b[0mpredict_f_samples\u001b[0m\u001b[0;34m(\u001b[0m\u001b[0mX_pool\u001b[0m\u001b[0;34m)\u001b[0m\u001b[0;34m\u001b[0m\u001b[0;34m\u001b[0m\u001b[0m\n\u001b[0m\u001b[1;32m     32\u001b[0m     \u001b[0mpreds_p\u001b[0m \u001b[0;34m=\u001b[0m \u001b[0mnp\u001b[0m\u001b[0;34m.\u001b[0m\u001b[0msqueeze\u001b[0m\u001b[0;34m(\u001b[0m\u001b[0mpreds_p\u001b[0m\u001b[0;34m)\u001b[0m\u001b[0;34m\u001b[0m\u001b[0;34m\u001b[0m\u001b[0m\n\u001b[1;32m     33\u001b[0m     \u001b[0;31m# greedily maximize with respect to the randomly sampled belief\u001b[0m\u001b[0;34m\u001b[0m\u001b[0;34m\u001b[0m\u001b[0;34m\u001b[0m\u001b[0m\n",
      "\u001b[0;32m~/miniconda3/envs/cc_env_hitl/lib/python3.7/site-packages/gpflow/models/model.py\u001b[0m in \u001b[0;36mpredict_f_samples\u001b[0;34m(self, Xnew, num_samples, full_cov, full_output_cov)\u001b[0m\n\u001b[1;32m    194\u001b[0m             \u001b[0mmean_for_sample\u001b[0m \u001b[0;34m=\u001b[0m \u001b[0mtf\u001b[0m\u001b[0;34m.\u001b[0m\u001b[0mlinalg\u001b[0m\u001b[0;34m.\u001b[0m\u001b[0madjoint\u001b[0m\u001b[0;34m(\u001b[0m\u001b[0mmean\u001b[0m\u001b[0;34m)\u001b[0m  \u001b[0;31m# [..., P, N]\u001b[0m\u001b[0;34m\u001b[0m\u001b[0;34m\u001b[0m\u001b[0m\n\u001b[1;32m    195\u001b[0m             samples = sample_mvn(\n\u001b[0;32m--> 196\u001b[0;31m                 \u001b[0mmean_for_sample\u001b[0m\u001b[0;34m,\u001b[0m \u001b[0mcov\u001b[0m\u001b[0;34m,\u001b[0m \u001b[0mfull_cov\u001b[0m\u001b[0;34m,\u001b[0m \u001b[0mnum_samples\u001b[0m\u001b[0;34m=\u001b[0m\u001b[0mnum_samples\u001b[0m\u001b[0;34m\u001b[0m\u001b[0;34m\u001b[0m\u001b[0m\n\u001b[0m\u001b[1;32m    197\u001b[0m             )  # [..., (S), P, N]\n\u001b[1;32m    198\u001b[0m             \u001b[0msamples\u001b[0m \u001b[0;34m=\u001b[0m \u001b[0mtf\u001b[0m\u001b[0;34m.\u001b[0m\u001b[0mlinalg\u001b[0m\u001b[0;34m.\u001b[0m\u001b[0madjoint\u001b[0m\u001b[0;34m(\u001b[0m\u001b[0msamples\u001b[0m\u001b[0;34m)\u001b[0m  \u001b[0;31m# [..., (S), N, P]\u001b[0m\u001b[0;34m\u001b[0m\u001b[0;34m\u001b[0m\u001b[0m\n",
      "\u001b[0;32m~/miniconda3/envs/cc_env_hitl/lib/python3.7/site-packages/gpflow/conditionals/util.py\u001b[0m in \u001b[0;36msample_mvn\u001b[0;34m(mean, cov, full_cov, num_samples)\u001b[0m\n\u001b[1;32m    201\u001b[0m         \u001b[0;31m# mean: [..., N, D] and cov [..., N, D, D]\u001b[0m\u001b[0;34m\u001b[0m\u001b[0;34m\u001b[0m\u001b[0;34m\u001b[0m\u001b[0m\n\u001b[1;32m    202\u001b[0m         jittermat = (\n\u001b[0;32m--> 203\u001b[0;31m             \u001b[0mtf\u001b[0m\u001b[0;34m.\u001b[0m\u001b[0meye\u001b[0m\u001b[0;34m(\u001b[0m\u001b[0mD\u001b[0m\u001b[0;34m,\u001b[0m \u001b[0mbatch_shape\u001b[0m\u001b[0;34m=\u001b[0m\u001b[0mmean_shape\u001b[0m\u001b[0;34m[\u001b[0m\u001b[0;34m:\u001b[0m\u001b[0;34m-\u001b[0m\u001b[0;36m1\u001b[0m\u001b[0;34m]\u001b[0m\u001b[0;34m,\u001b[0m \u001b[0mdtype\u001b[0m\u001b[0;34m=\u001b[0m\u001b[0mdefault_float\u001b[0m\u001b[0;34m(\u001b[0m\u001b[0;34m)\u001b[0m\u001b[0;34m)\u001b[0m \u001b[0;34m*\u001b[0m \u001b[0mdefault_jitter\u001b[0m\u001b[0;34m(\u001b[0m\u001b[0;34m)\u001b[0m\u001b[0;34m\u001b[0m\u001b[0;34m\u001b[0m\u001b[0m\n\u001b[0m\u001b[1;32m    204\u001b[0m         )  # [..., N, D, D]\n\u001b[1;32m    205\u001b[0m         \u001b[0meps_shape\u001b[0m \u001b[0;34m=\u001b[0m \u001b[0mtf\u001b[0m\u001b[0;34m.\u001b[0m\u001b[0mconcat\u001b[0m\u001b[0;34m(\u001b[0m\u001b[0;34m[\u001b[0m\u001b[0mmean_shape\u001b[0m\u001b[0;34m,\u001b[0m \u001b[0;34m[\u001b[0m\u001b[0mS\u001b[0m\u001b[0;34m]\u001b[0m\u001b[0;34m]\u001b[0m\u001b[0;34m,\u001b[0m \u001b[0;36m0\u001b[0m\u001b[0;34m)\u001b[0m\u001b[0;34m\u001b[0m\u001b[0;34m\u001b[0m\u001b[0m\n",
      "\u001b[0;32m~/miniconda3/envs/cc_env_hitl/lib/python3.7/site-packages/tensorflow/python/util/traceback_utils.py\u001b[0m in \u001b[0;36merror_handler\u001b[0;34m(*args, **kwargs)\u001b[0m\n\u001b[1;32m    148\u001b[0m     \u001b[0mfiltered_tb\u001b[0m \u001b[0;34m=\u001b[0m \u001b[0;32mNone\u001b[0m\u001b[0;34m\u001b[0m\u001b[0;34m\u001b[0m\u001b[0m\n\u001b[1;32m    149\u001b[0m     \u001b[0;32mtry\u001b[0m\u001b[0;34m:\u001b[0m\u001b[0;34m\u001b[0m\u001b[0;34m\u001b[0m\u001b[0m\n\u001b[0;32m--> 150\u001b[0;31m       \u001b[0;32mreturn\u001b[0m \u001b[0mfn\u001b[0m\u001b[0;34m(\u001b[0m\u001b[0;34m*\u001b[0m\u001b[0margs\u001b[0m\u001b[0;34m,\u001b[0m \u001b[0;34m**\u001b[0m\u001b[0mkwargs\u001b[0m\u001b[0;34m)\u001b[0m\u001b[0;34m\u001b[0m\u001b[0;34m\u001b[0m\u001b[0m\n\u001b[0m\u001b[1;32m    151\u001b[0m     \u001b[0;32mexcept\u001b[0m \u001b[0mException\u001b[0m \u001b[0;32mas\u001b[0m \u001b[0me\u001b[0m\u001b[0;34m:\u001b[0m\u001b[0;34m\u001b[0m\u001b[0;34m\u001b[0m\u001b[0m\n\u001b[1;32m    152\u001b[0m       \u001b[0mfiltered_tb\u001b[0m \u001b[0;34m=\u001b[0m \u001b[0m_process_traceback_frames\u001b[0m\u001b[0;34m(\u001b[0m\u001b[0me\u001b[0m\u001b[0;34m.\u001b[0m\u001b[0m__traceback__\u001b[0m\u001b[0;34m)\u001b[0m\u001b[0;34m\u001b[0m\u001b[0;34m\u001b[0m\u001b[0m\n",
      "\u001b[0;32m~/miniconda3/envs/cc_env_hitl/lib/python3.7/site-packages/tensorflow/python/util/dispatch.py\u001b[0m in \u001b[0;36mop_dispatch_handler\u001b[0;34m(*args, **kwargs)\u001b[0m\n\u001b[1;32m   1094\u001b[0m       \u001b[0;31m# Fallback dispatch system (dispatch v1):\u001b[0m\u001b[0;34m\u001b[0m\u001b[0;34m\u001b[0m\u001b[0;34m\u001b[0m\u001b[0m\n\u001b[1;32m   1095\u001b[0m       \u001b[0;32mtry\u001b[0m\u001b[0;34m:\u001b[0m\u001b[0;34m\u001b[0m\u001b[0;34m\u001b[0m\u001b[0m\n\u001b[0;32m-> 1096\u001b[0;31m         \u001b[0;32mreturn\u001b[0m \u001b[0mdispatch_target\u001b[0m\u001b[0;34m(\u001b[0m\u001b[0;34m*\u001b[0m\u001b[0margs\u001b[0m\u001b[0;34m,\u001b[0m \u001b[0;34m**\u001b[0m\u001b[0mkwargs\u001b[0m\u001b[0;34m)\u001b[0m\u001b[0;34m\u001b[0m\u001b[0;34m\u001b[0m\u001b[0m\n\u001b[0m\u001b[1;32m   1097\u001b[0m       \u001b[0;32mexcept\u001b[0m \u001b[0;34m(\u001b[0m\u001b[0mTypeError\u001b[0m\u001b[0;34m,\u001b[0m \u001b[0mValueError\u001b[0m\u001b[0;34m)\u001b[0m\u001b[0;34m:\u001b[0m\u001b[0;34m\u001b[0m\u001b[0;34m\u001b[0m\u001b[0m\n\u001b[1;32m   1098\u001b[0m         \u001b[0;31m# Note: convert_to_eager_tensor currently raises a ValueError, not a\u001b[0m\u001b[0;34m\u001b[0m\u001b[0;34m\u001b[0m\u001b[0;34m\u001b[0m\u001b[0m\n",
      "\u001b[0;32m~/miniconda3/envs/cc_env_hitl/lib/python3.7/site-packages/tensorflow/python/ops/linalg_ops.py\u001b[0m in \u001b[0;36meye\u001b[0;34m(num_rows, num_columns, batch_shape, dtype, name)\u001b[0m\n\u001b[1;32m    239\u001b[0m                              \u001b[0mbatch_shape\u001b[0m\u001b[0;34m=\u001b[0m\u001b[0mbatch_shape\u001b[0m\u001b[0;34m,\u001b[0m\u001b[0;34m\u001b[0m\u001b[0;34m\u001b[0m\u001b[0m\n\u001b[1;32m    240\u001b[0m                              \u001b[0mdtype\u001b[0m\u001b[0;34m=\u001b[0m\u001b[0mdtype\u001b[0m\u001b[0;34m,\u001b[0m\u001b[0;34m\u001b[0m\u001b[0;34m\u001b[0m\u001b[0m\n\u001b[0;32m--> 241\u001b[0;31m                              name=name)\n\u001b[0m\u001b[1;32m    242\u001b[0m \u001b[0;34m\u001b[0m\u001b[0m\n\u001b[1;32m    243\u001b[0m \u001b[0;34m\u001b[0m\u001b[0m\n",
      "\u001b[0;32m~/miniconda3/envs/cc_env_hitl/lib/python3.7/site-packages/tensorflow/python/ops/linalg_ops_impl.py\u001b[0m in \u001b[0;36meye\u001b[0;34m(num_rows, num_columns, batch_shape, dtype, name)\u001b[0m\n\u001b[1;32m     76\u001b[0m     \u001b[0mdiag_ones\u001b[0m \u001b[0;34m=\u001b[0m \u001b[0marray_ops\u001b[0m\u001b[0;34m.\u001b[0m\u001b[0mones\u001b[0m\u001b[0;34m(\u001b[0m\u001b[0mdiag_shape\u001b[0m\u001b[0;34m,\u001b[0m \u001b[0mdtype\u001b[0m\u001b[0;34m=\u001b[0m\u001b[0mdtype\u001b[0m\u001b[0;34m)\u001b[0m\u001b[0;34m\u001b[0m\u001b[0;34m\u001b[0m\u001b[0m\n\u001b[1;32m     77\u001b[0m     \u001b[0;32mif\u001b[0m \u001b[0mis_square\u001b[0m\u001b[0;34m:\u001b[0m\u001b[0;34m\u001b[0m\u001b[0;34m\u001b[0m\u001b[0m\n\u001b[0;32m---> 78\u001b[0;31m       \u001b[0;32mreturn\u001b[0m \u001b[0marray_ops\u001b[0m\u001b[0;34m.\u001b[0m\u001b[0mmatrix_diag\u001b[0m\u001b[0;34m(\u001b[0m\u001b[0mdiag_ones\u001b[0m\u001b[0;34m)\u001b[0m\u001b[0;34m\u001b[0m\u001b[0;34m\u001b[0m\u001b[0m\n\u001b[0m\u001b[1;32m     79\u001b[0m     \u001b[0;32melse\u001b[0m\u001b[0;34m:\u001b[0m\u001b[0;34m\u001b[0m\u001b[0;34m\u001b[0m\u001b[0m\n\u001b[1;32m     80\u001b[0m       \u001b[0mzero_matrix\u001b[0m \u001b[0;34m=\u001b[0m \u001b[0marray_ops\u001b[0m\u001b[0;34m.\u001b[0m\u001b[0mzeros\u001b[0m\u001b[0;34m(\u001b[0m\u001b[0mshape\u001b[0m\u001b[0;34m,\u001b[0m \u001b[0mdtype\u001b[0m\u001b[0;34m=\u001b[0m\u001b[0mdtype\u001b[0m\u001b[0;34m)\u001b[0m\u001b[0;34m\u001b[0m\u001b[0;34m\u001b[0m\u001b[0m\n",
      "\u001b[0;32m~/miniconda3/envs/cc_env_hitl/lib/python3.7/site-packages/tensorflow/python/util/traceback_utils.py\u001b[0m in \u001b[0;36merror_handler\u001b[0;34m(*args, **kwargs)\u001b[0m\n\u001b[1;32m    148\u001b[0m     \u001b[0mfiltered_tb\u001b[0m \u001b[0;34m=\u001b[0m \u001b[0;32mNone\u001b[0m\u001b[0;34m\u001b[0m\u001b[0;34m\u001b[0m\u001b[0m\n\u001b[1;32m    149\u001b[0m     \u001b[0;32mtry\u001b[0m\u001b[0;34m:\u001b[0m\u001b[0;34m\u001b[0m\u001b[0;34m\u001b[0m\u001b[0m\n\u001b[0;32m--> 150\u001b[0;31m       \u001b[0;32mreturn\u001b[0m \u001b[0mfn\u001b[0m\u001b[0;34m(\u001b[0m\u001b[0;34m*\u001b[0m\u001b[0margs\u001b[0m\u001b[0;34m,\u001b[0m \u001b[0;34m**\u001b[0m\u001b[0mkwargs\u001b[0m\u001b[0;34m)\u001b[0m\u001b[0;34m\u001b[0m\u001b[0;34m\u001b[0m\u001b[0m\n\u001b[0m\u001b[1;32m    151\u001b[0m     \u001b[0;32mexcept\u001b[0m \u001b[0mException\u001b[0m \u001b[0;32mas\u001b[0m \u001b[0me\u001b[0m\u001b[0;34m:\u001b[0m\u001b[0;34m\u001b[0m\u001b[0;34m\u001b[0m\u001b[0m\n\u001b[1;32m    152\u001b[0m       \u001b[0mfiltered_tb\u001b[0m \u001b[0;34m=\u001b[0m \u001b[0m_process_traceback_frames\u001b[0m\u001b[0;34m(\u001b[0m\u001b[0me\u001b[0m\u001b[0;34m.\u001b[0m\u001b[0m__traceback__\u001b[0m\u001b[0;34m)\u001b[0m\u001b[0;34m\u001b[0m\u001b[0;34m\u001b[0m\u001b[0m\n",
      "\u001b[0;32m~/miniconda3/envs/cc_env_hitl/lib/python3.7/site-packages/tensorflow/python/util/dispatch.py\u001b[0m in \u001b[0;36mop_dispatch_handler\u001b[0;34m(*args, **kwargs)\u001b[0m\n\u001b[1;32m   1094\u001b[0m       \u001b[0;31m# Fallback dispatch system (dispatch v1):\u001b[0m\u001b[0;34m\u001b[0m\u001b[0;34m\u001b[0m\u001b[0;34m\u001b[0m\u001b[0m\n\u001b[1;32m   1095\u001b[0m       \u001b[0;32mtry\u001b[0m\u001b[0;34m:\u001b[0m\u001b[0;34m\u001b[0m\u001b[0;34m\u001b[0m\u001b[0m\n\u001b[0;32m-> 1096\u001b[0;31m         \u001b[0;32mreturn\u001b[0m \u001b[0mdispatch_target\u001b[0m\u001b[0;34m(\u001b[0m\u001b[0;34m*\u001b[0m\u001b[0margs\u001b[0m\u001b[0;34m,\u001b[0m \u001b[0;34m**\u001b[0m\u001b[0mkwargs\u001b[0m\u001b[0;34m)\u001b[0m\u001b[0;34m\u001b[0m\u001b[0;34m\u001b[0m\u001b[0m\n\u001b[0m\u001b[1;32m   1097\u001b[0m       \u001b[0;32mexcept\u001b[0m \u001b[0;34m(\u001b[0m\u001b[0mTypeError\u001b[0m\u001b[0;34m,\u001b[0m \u001b[0mValueError\u001b[0m\u001b[0;34m)\u001b[0m\u001b[0;34m:\u001b[0m\u001b[0;34m\u001b[0m\u001b[0;34m\u001b[0m\u001b[0m\n\u001b[1;32m   1098\u001b[0m         \u001b[0;31m# Note: convert_to_eager_tensor currently raises a ValueError, not a\u001b[0m\u001b[0;34m\u001b[0m\u001b[0;34m\u001b[0m\u001b[0;34m\u001b[0m\u001b[0m\n",
      "\u001b[0;32m~/miniconda3/envs/cc_env_hitl/lib/python3.7/site-packages/tensorflow/python/ops/array_ops.py\u001b[0m in \u001b[0;36mmatrix_diag\u001b[0;34m(diagonal, name, k, num_rows, num_cols, padding_value, align)\u001b[0m\n\u001b[1;32m   2565\u001b[0m       \u001b[0mpadding_value\u001b[0m\u001b[0;34m=\u001b[0m\u001b[0mpadding_value\u001b[0m\u001b[0;34m,\u001b[0m\u001b[0;34m\u001b[0m\u001b[0;34m\u001b[0m\u001b[0m\n\u001b[1;32m   2566\u001b[0m       \u001b[0malign\u001b[0m\u001b[0;34m=\u001b[0m\u001b[0malign\u001b[0m\u001b[0;34m,\u001b[0m\u001b[0;34m\u001b[0m\u001b[0;34m\u001b[0m\u001b[0m\n\u001b[0;32m-> 2567\u001b[0;31m       name=name)\n\u001b[0m\u001b[1;32m   2568\u001b[0m \u001b[0;34m\u001b[0m\u001b[0m\n\u001b[1;32m   2569\u001b[0m \u001b[0;34m\u001b[0m\u001b[0m\n",
      "\u001b[0;32m~/miniconda3/envs/cc_env_hitl/lib/python3.7/site-packages/tensorflow/python/ops/gen_array_ops.py\u001b[0m in \u001b[0;36mmatrix_diag_v3\u001b[0;34m(diagonal, k, num_rows, num_cols, padding_value, align, name)\u001b[0m\n\u001b[1;32m   5669\u001b[0m       _result = pywrap_tfe.TFE_Py_FastPathExecute(\n\u001b[1;32m   5670\u001b[0m         \u001b[0m_ctx\u001b[0m\u001b[0;34m,\u001b[0m \u001b[0;34m\"MatrixDiagV3\"\u001b[0m\u001b[0;34m,\u001b[0m \u001b[0mname\u001b[0m\u001b[0;34m,\u001b[0m \u001b[0mdiagonal\u001b[0m\u001b[0;34m,\u001b[0m \u001b[0mk\u001b[0m\u001b[0;34m,\u001b[0m \u001b[0mnum_rows\u001b[0m\u001b[0;34m,\u001b[0m \u001b[0mnum_cols\u001b[0m\u001b[0;34m,\u001b[0m\u001b[0;34m\u001b[0m\u001b[0;34m\u001b[0m\u001b[0m\n\u001b[0;32m-> 5671\u001b[0;31m         padding_value, \"align\", align)\n\u001b[0m\u001b[1;32m   5672\u001b[0m       \u001b[0;32mreturn\u001b[0m \u001b[0m_result\u001b[0m\u001b[0;34m\u001b[0m\u001b[0;34m\u001b[0m\u001b[0m\n\u001b[1;32m   5673\u001b[0m     \u001b[0;32mexcept\u001b[0m \u001b[0m_core\u001b[0m\u001b[0;34m.\u001b[0m\u001b[0m_NotOkStatusException\u001b[0m \u001b[0;32mas\u001b[0m \u001b[0me\u001b[0m\u001b[0;34m:\u001b[0m\u001b[0;34m\u001b[0m\u001b[0;34m\u001b[0m\u001b[0m\n",
      "\u001b[0;31mKeyboardInterrupt\u001b[0m: "
     ]
    }
   ],
   "source": [
    "print(\"start iteration\")\n",
    "positive_molecules_num=np.array([np.sum(y_updated)],dtype=np.int)\n",
    "idx_query=np.array([],dtype='i')\n",
    "all_smiles_query=[]\n",
    "D0_smiles = smiles_train[L]\n",
    "\n",
    "for iteration in np.arange(1,n_iteration+1):\n",
    "    # CREATE QUERY\n",
    "    print('it: ' + str(iteration))\n",
    "    queryfile_identifier = 'query_it{}'.format(iteration) \n",
    "    if not READ_ONLY:\n",
    "        # Elicit n_batch feedback\n",
    "        t = iteration\n",
    "        i_query = select_query(U, X_train, n_batch, gpc, acquisition, X_updated, y_updated, L, t)\n",
    "    elif READ_ONLY:\n",
    "        query_csv = pd.read_csv(output_dir + '/query/{}.csv'.format(queryfile_identifier))\n",
    "        sq = query_csv['SMILES']\n",
    "        i_query = np.array([list(smiles_train).index(s) for s in sq])\n",
    "\n",
    "    idx_query=np.append(idx_query,i_query)\n",
    "    U = np.setdiff1d(U,i_query)\n",
    "    if verbose:\n",
    "        print(\"Feedback on n={}\".format(i_query))\n",
    "        print(\"Size of pool: {}\".format(len(U)))\n",
    "\n",
    "    query_smiles =smiles_train[i_query]\n",
    "    all_smiles_query += [query_smiles]\n",
    "\n",
    "    # Write the query to a csv file\n",
    "    if not READ_ONLY:\n",
    "        write_query_to_csv(query_smiles, id_train, i_query, output_dir + '/query/{}.csv'.format(queryfile_identifier), output_dir)\n",
    "\n",
    "    if not simulated_human:\n",
    "        input(\"Press Enter to continue...\")\n",
    "    # READ RESPONSE QUERY\n",
    "    print(\"Read response at iteration {}\".format(iteration))\n",
    "    # Response\n",
    "    if simulated_human:\n",
    "        y_response = y_train[i_query]\n",
    "        unkown_idx=np.where(y_response==-1)[0] \n",
    "        if(len(unkown_idx)>0): # If simulated feedback not pre-computed\n",
    "              y_response[unkown_idx]=query(query_smiles[unkown_idx])\n",
    "              #update y_train\n",
    "              y_train[i_query[unkown_idx]]=y_response[unkown_idx]\n",
    "    else:\n",
    "        y_csv = pd.read_csv(output_dir + '/query/{}_with_ratings.csv'.format(queryfile_identifier)) \n",
    "        smiles_response = list(y_csv['SMILES'])\n",
    "        responses = y_csv['rating'] \n",
    "        order = [smiles_response.index(smiles_train[i]) for i in i_query]\n",
    "        y_response = np.array([responses[i] for i in order], dtype=float) # match responses using smiles\n",
    "        y_response=y_response.reshape(len(y_response),1)\n",
    "        # filter out molecules without feedback (rating=0)\n",
    "        got_feedback = y_response != 0\n",
    "        y_response = y_response[got_feedback]\n",
    "        i_query = i_query[np.squeeze(got_feedback)]\n",
    "        # parse numerical feedback from columns 1=0, 5=1 and the rest in between\n",
    "        y_response = (y_response - 1)/4.0\n",
    "        y_response=y_response.reshape(len(y_response),1)\n",
    "        if verbose:\n",
    "            print(\"response is\")\n",
    "            print(y_response)\n",
    "\n",
    "    # Fit a new model, evaluate performance in test data\n",
    "    X_updated = np.vstack((X_updated, X_train[i_query,:]))\n",
    "    y_updated = np.concatenate((y_updated, y_response))\n",
    "    gpc=train(X_updated, y_updated,jobid, acquisition,seed,loop, iteration)\n",
    "    positive_molecules_num=np.append(positive_molecules_num,np.sum(y_updated))\n",
    "    accuracy, recall, precision, f1, MCC , Kappa, rmse = evaluate(gpc, X_test, y_test, accuracy, recall, precision, f1, MCC, Kappa, rmse)\n",
    "\n",
    "    if verbose:\n",
    "        print(accuracy[iteration])\n",
    "        print(precision[iteration])\n",
    "        print(f1[iteration])\n",
    "        print(recall[iteration])\n",
    "        print(MCC[iteration])\n",
    "        print(Kappa[iteration])\n",
    "        print(rmse[iteration])\n",
    "\n",
    "\n",
    "\n",
    "dat_save = {\n",
    "    'hitl params': {'N0': N0, 'T': iteration, 'n_batch': n_batch, 'step': step, 'acquisition': acquisition},\n",
    "    'accuracy': accuracy,\n",
    "    'recall': recall,\n",
    "    'precision':precision,\n",
    "    'f1':f1,\n",
    "    'MCC': MCC,\n",
    "    'Kappa':Kappa,\n",
    "    'rmse':rmse,\n",
    "    'baseline accuracy': accuracy_baseline,\n",
    "    'baseline_recall':recall_baseline,\n",
    "    'baseline_MCC':MCC_baseline,\n",
    "    'baseline_Kappa':Kappa_baseline,\n",
    "    'idx_query':idx_query,\n",
    "    'smiles_D0': D0_smiles,\n",
    "    'smiles_query':all_smiles_query,\n",
    "    'positive_molecules_num':positive_molecules_num\n",
    "}\n",
    "filename = output_dir + '/log_{}_it{}.p'.format(acquisition,iteration)\n",
    "with open(filename , 'wb') as f:\n",
    "    pickle.dump(dat_save, f)\n",
    "\n",
    "if verbose:\n",
    "    print('accuracy is {}'.format(accuracy))\n",
    "    print('recall is {}'.format(recall))\n",
    "    print('MCC is {}'.format(MCC))\n",
    "    print('Kappa is {}'.format(Kappa))\n",
    "    print('rmse is {}'.format(rmse))\n",
    "\n",
    "# Create shell scripts for evaluating performance of Chemist's component as Reinvent scoring function: \n",
    "# Script for reinforcement learning training of agent at each iteration\n",
    "write_runs_sh(seed, output_dir, reinvent_env, reinvent_dir, step, n_iteration)\n",
    "# Script for sampling molecules to evaluate the quality of Reinvent output once the agents are trained\n",
    "write_run_sample(seed, output_dir, reinvent_env, reinvent_dir, step, n_iteration)"
   ]
  },
  {
   "cell_type": "code",
   "execution_count": null,
   "metadata": {},
   "outputs": [
    {
     "data": {
      "text/plain": [
       "Text(0.5, 1.0, \"Chemist's-component performance in the test set (drd2)\")"
      ]
     },
     "execution_count": 14,
     "metadata": {},
     "output_type": "execute_result"
    },
    {
     "data": {
      "image/png": "[encoded data removed]",
      "text/plain": [
       "<Figure size 432x288 with 1 Axes>"
      ]
     },
     "metadata": {
      "needs_background": "light"
     },
     "output_type": "display_data"
    }
   ],
   "source": [
    "# Visualize performance of Chemist's component as predictive model in the test data\n",
    "plt.plot(MCC)\n",
    "plt.xlabel('iteration')\n",
    "plt.ylabel('MCC')\n",
    "plt.title(\"Chemist's-component performance in the test set (drd2)\")"
   ]
  },
  {
   "cell_type": "code",
   "execution_count": null,
   "metadata": {},
   "outputs": [
    {
     "data": {
      "text/plain": [
       "Text(0.5, 1.0, \"Chemist's-component performance in the test set (drd2)\")"
      ]
     },
     "execution_count": 15,
     "metadata": {},
     "output_type": "execute_result"
    },
    {
     "data": {
      "image/png": "[encoded data removed]",
      "text/plain": [
       "<Figure size 432x288 with 1 Axes>"
      ]
     },
     "metadata": {
      "needs_background": "light"
     },
     "output_type": "display_data"
    }
   ],
   "source": [
    "plt.plot(recall)\n",
    "plt.xlabel('iteration')\n",
    "plt.ylabel('recall')\n",
    "plt.title(\"Chemist's-component performance in the test set (drd2)\")"
   ]
  },
  {
   "cell_type": "code",
   "execution_count": null,
   "metadata": {},
   "outputs": [
    {
     "data": {
      "text/plain": [
       "Text(0.5, 1.0, \"Chemist's-component performance in the test set (drd2)\")"
      ]
     },
     "execution_count": 16,
     "metadata": {},
     "output_type": "execute_result"
    },
    {
     "data": {
      "image/png": "[encoded data removed]",
      "text/plain": [
       "<Figure size 432x288 with 1 Axes>"
      ]
     },
     "metadata": {
      "needs_background": "light"
     },
     "output_type": "display_data"
    }
   ],
   "source": [
    "plt.plot(accuracy)\n",
    "plt.xlabel('iteration')\n",
    "plt.ylabel('accuracy')\n",
    "plt.title(\"Chemist's-component performance in the test set (drd2)\")"
   ]
  },
  {
   "cell_type": "code",
   "execution_count": null,
   "metadata": {},
   "outputs": [
    {
     "data": {
      "text/plain": [
       "Text(0.5, 1.0, \"Chemist's-component performance in the test set (drd2)\")"
      ]
     },
     "execution_count": 17,
     "metadata": {},
     "output_type": "execute_result"
    },
    {
     "data": {
      "image/png": "[encoded data removed]",
      "text/plain": [
       "<Figure size 432x288 with 1 Axes>"
      ]
     },
     "metadata": {
      "needs_background": "light"
     },
     "output_type": "display_data"
    }
   ],
   "source": [
    "plt.plot(Kappa)\n",
    "plt.xlabel('iteration')\n",
    "plt.ylabel('Kappa')\n",
    "plt.title(\"Chemist's-component performance in the test set (drd2)\")"
   ]
  }
 ],
 "metadata": {
  "kernelspec": {
   "display_name": "cc_env_hitl",
   "language": "python",
   "name": "python3"
  },
  "language_info": {
   "codemirror_mode": {
    "name": "ipython",
    "version": 3
   },
   "file_extension": ".py",
   "mimetype": "text/x-python",
   "name": "python",
   "nbconvert_exporter": "python",
   "pygments_lexer": "ipython3",
   "version": "3.7.3"
  }
 },
 "nbformat": 4,
 "nbformat_minor": 4
}

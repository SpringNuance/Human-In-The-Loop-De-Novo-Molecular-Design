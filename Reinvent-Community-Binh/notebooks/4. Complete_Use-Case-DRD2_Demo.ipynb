{
 "cells": [
  {
   "cell_type": "markdown",
   "metadata": {},
   "source": [
    "> **How to run this notebook (command-line)?**\n",
    "1. Install the `ReinventCommunity` environment:\n",
    "`conda env create -f environment.yml`\n",
    "2. Activate the environment:\n",
    "`conda activate ReinventCommunity`\n",
    "3. Execute `jupyter`:\n",
    "`jupyter notebook`\n",
    "4. Copy the link to a browser\n",
    "\n",
    "\n",
    "# `REINVENT 3.2`: `DRD2 use-case`\n",
    "Due to the large number of possible settings and intrinsic mechanics, the learning curve for using `REINVENT` in a project setting can be quite steep. This notebook will illustrate\n",
    "\n",
    "* how to prepare a project (considerations, data, goals),\n",
    "* how to come up with a meaningful scoring function definition,\n",
    "* how to monitor a job and\n",
    "* how to judge the results of a run.\n",
    "\n",
    "Technically, we will use the reinforcement learning running mode (see also respective notebook), but using a real dataset as starting point: the `DRD2` dataset.\n",
    "\n",
    "## Starting a new project\n",
    "In the beginning we usually start with gathering information: What do we know about the target? Do we have an idea where to start in chemical space? Do we plan to do *exploration* (find new scaffolds) or *exploitation* (find solutions around a known scaffold) in this project? What are the boundaries we want to set for the solutions in terms of e.g. physico-chemical properties, chemical moieties we would like to avoid or what is the target size of the molecules? Do we have enough data to e.g. generate a predictive (QSAR) model?\n",
    "\n",
    "These considerations vary from one project to another, so it is impossible to formulate general rules. There is a large number of parameters that one can set to fine-tune a run with `REINVENT`, but most of them can be kept at their respective default values.\n",
    "\n",
    "### Setting out the goals\n",
    "For our `DRD2` use-case, let us assume that we have spoken to the lead chemist of the project and scribbled down a number of constraints for our molecules. They asked us to set up a `REINVENT` run that produces compounds which:\n",
    "\n",
    "1. are likely to bind to `DRD2`,\n",
    "2. are diverse (i.e. have different scaffolds),\n",
    "3. do not have more than 6 hydrogen-bond donors and not more than 9 rotatable bonds and\n",
    "4. avoid certain chemical moieties that are considered unfavourable.\n",
    "5. Moreover, we have a couple of chemical compounds that we consider good lead for further developments, e.g. from a previous study or an experimental assay.\n",
    "\n",
    "In general, our hypothetical chemists are open to new compound suggestions and do not necessarily want to find new solutions around specific scaffolds. This means, we are looking at an *exploration* scenario (rather than an *exploitation* one). Note, that it is possible to enforce molecules that satisfy one or more substructure matches (defined as `SMILES` or `SMARTS`), see the respective notebooks for details.\n",
    "\n",
    "The data we are provided with is a dataset of more than 300000 molecules (in this case public data), which have been annotated to be either active ('1') or inactive ('0'). You can find the respective sets (already split into a training and a test set) in the `notebooks/data` subfolder.\n",
    "\n",
    "Based on this information, our task now is to formulate a scoring function definition that will reward (\"score\") molecules that our chemists like with a better score than other molecules. This means we will break down the different requirements into `scoring function components`, assign a weight and recombine them into our scoring function. There are many more components available than the ones discussed here, so have a look at the other notebooks and the example `JSON` files in the `REINVENT` repository.\n",
    "\n",
    "Before we start diving into this, though execute the following code blocks to set the configurations as required."
   ]
  },
  {
   "cell_type": "code",
   "execution_count": 15,
   "metadata": {},
   "outputs": [
    {
     "name": "stdout",
     "output_type": "stream",
     "text": [
      "The current working directory is /home/springnuance/reinvent-hitl/Reinvent-Community-Binh/notebooks\n",
      "True\n",
      "True\n",
      "True\n"
     ]
    }
   ],
   "source": [
    "# load dependencies\n",
    "import os\n",
    "import re\n",
    "import json\n",
    "import tempfile\n",
    "\n",
    "# --------- change these path variables as required\n",
    "\n",
    "print(\"The current working directory is\", os.getcwd())\n",
    "print(os.path.exists(\"../../Reinvent\"))\n",
    "print(os.path.exists(\"../../../miniconda3/envs/cc_env_hitl\"))\n",
    "print(os.path.exists(\"./REINVENT_complete_use_case_DRD2_demo\"))\n",
    "\n",
    "# --------- change these path variables as required\n",
    "\n",
    "reinvent_dir = os.path.expanduser(\"../../Reinvent\")\n",
    "#reinvent_env = os.path.expanduser(\"../../../miniconda3/envs/cc_env_hitl\")\n",
    "reinvent_env = os.path.expanduser(\"../../../miniconda3/envs/reinvent.v3.2\")\n",
    "output_dir = os.path.expanduser(\"./REINVENT_complete_use_case_DRD2_demo\")\n",
    "\n",
    "# --------- do not change\n",
    "# get the notebook's root path\n",
    "try: ipynb_path\n",
    "except NameError: ipynb_path = os.getcwd()\n",
    "\n",
    "# if required, generate a folder to store the results\n",
    "try:\n",
    "    os.mkdir(output_dir)\n",
    "except FileExistsError:\n",
    "    pass"
   ]
  },
  {
   "cell_type": "markdown",
   "metadata": {},
   "source": [
    "## Setting up the components\n",
    "Once we have decided on the conditions along which we aim to design new molecules, we have to express them in terms of *scoring function components*. Each of the components will look independently at the compounds generated and report a score between `0` (very \"bad\") and `1` (very \"good\"). These individual scores are combined into a *total score* that will be used to calculate the loss and update the weights, thus \"steering\" the agent in chemical space. The components usually have parameters, so we decided to store them and their configurations in a `JSON` file for convenience. For our mock-project `DRD2` we will use the following components, but there are many more you might find useful. Have a look at the other notebooks and the example JSON files in the `REINVENT` repository.\n",
    "\n",
    "### Predictive model (activity)\n",
    "The first requirement is to generate molecules that show activity. As structural components (`ROCS`, docking, ...) are not part of this release, our only option is to build a predictive model that will tell `REINVENT` whether it considers a molecule as being promising or not. As of now, `REINVENT` only supports pickled [`scikit learn`](https://scikit-learn.org/stable/model_selection.html) models and based on the data we have available, we decide to build a classification model (you can find the \"drd2.pkl\" file in the `notebooks/data` subfolder). The models should accept one of the molecular fingerprint supported by `REINVENT`. The details of our model and how it was derived, are shown below:\n",
    "\n",
    "*For the DRD2 model, an activity prediction model (APM) was used. This APM was trained on both the active and inactive compounds of the ExCAPE DRD2 modulator set. Stereochemistry was stripped from all compounds in the dataset and they were represented in their cannonical form by using RDKit. The resulting duplicates were removed. Data was split to test and training sets with a stratified split and  the compounds were represented with ECFP6 fingerprint (radius 3) hashed to 2048 bits. A Scikit-learn Random Forest Classifier (RF) model was trained to discriminate active from inactive compounds. Optuna was used for finding the optimal hyperparameters with a 5-fold cross validation. The performance of the resulting model in terms of area under the curve (AUC) was 0.945.*\n",
    "\n",
    "Optuna citation:\n",
    "Takuya Akiba, Shotaro Sano, Toshihiko Yanase, Takeru Ohta, and Masanori Koyama. 2019. Optuna: A Next-generation Hyperparameter Optimization Framework. https://arxiv.org/abs/1907.10902\n",
    "\n",
    "Once we have built our model, we can formulate a scoring function component. As we decide to put a lot of emphasis on this component (and built our model on a lot of data, which boosts our confidence in the predictions), we will use a high weight for this component. Also, as this is a classification model and the probablility output is used, we do not need to scale the model's output to values between `0` and `1`. For other components, we will need to specify a score transformation, though. You can use a given `component_type` more than once (with different names), for example if we had another model predicting the toxicity of compounds in humans, we could simply add it as a new component."
   ]
  },
  {
   "cell_type": "code",
   "execution_count": 16,
   "metadata": {},
   "outputs": [],
   "source": [
    "component_DRD2_prediction = {\n",
    "  \"component_type\": \"predictive_property\",\n",
    "  \"name\": \"DRD2_pred_activity\",\n",
    "  \"weight\": 7,\n",
    "  \"specific_parameters\": {\n",
    "    \"model_path\": os.path.join(ipynb_path, \"models/drd2.pkl\"),\n",
    "    \"scikit\": \"classification\",\n",
    "    \"descriptor_type\": \"ecfp_counts\",\n",
    "    \"size\": 2048,\n",
    "    \"radius\": 3,\n",
    "    \"use_counts\": True,\n",
    "    \"use_features\": True,\n",
    "    \"transformation\": {\n",
    "        \"transformation_type\": \"no_transformation\"\n",
    "    }\n",
    "  }\n",
    "}"
   ]
  },
  {
   "cell_type": "markdown",
   "metadata": {},
   "source": [
    "### Diversity\n",
    "As mentioned above, in this project we are interested in a diverse set of molecular ideas. In order to force the agent to explore different areas in the chemical space, we can define a `diversity filter`. In effect, we will penalize families of molecules after a while: If the agent keeps sampling compounds with the same scaffold, the \"scaffold bins\" will fill up and once full every molecule with this scaffold will receive a score of `0`, thus \"motivating\" the agent to move on. We will use the standard parameters below, but feel free to adapt them (a detailed description is available in the other notebooks and the publication)."
   ]
  },
  {
   "cell_type": "code",
   "execution_count": 17,
   "metadata": {},
   "outputs": [],
   "source": [
    "diversity_filter = {\n",
    "  \"name\": \"IdenticalMurckoScaffold\",\n",
    "  \"nbmax\": 25,\n",
    "  \"minscore\": 0.4,\n",
    "  \"minsimilarity\": 0.4\n",
    "}"
   ]
  },
  {
   "cell_type": "markdown",
   "metadata": {},
   "source": [
    "### Inception \"good\" ideas\n",
    "Sometimes we want to provide the agent with a couple of (hopefully) good ideas to consider. If these molecules score well, the agent might pick up the trail and generate molecules around those initial ideas scoring ever more highly. There are three parameters:\n",
    "1. `smiles`: A list of `SMILES` that will be subjected to the scoring function when the run starts.\n",
    "2. `memory_size`: The scores for the `SMILES` are ordered from high to low and the `memory_size` best will be retained.\n",
    "3. `sample_size`: At every epoch, a `sample_size` number of `SMILES` from the memory is randomly sampled and added to the batch of `SMILES` generated in that epoch.\n",
    "\n",
    "For example, below we add 38 `SMILES` to the inception and for each molecule the score is calculated. The \"Top-20\" are stored in the memory and 5 of them are added to the first four epochs, respectively (until the memory is exhausted). Note, that one can set the `memory_size` to be greater or equal to the number of `SMILES` to use all the `SMILES` provided."
   ]
  },
  {
   "cell_type": "code",
   "execution_count": 18,
   "metadata": {},
   "outputs": [],
   "source": [
    "inception = {\n",
    "  \"memory_size\": 20,\n",
    "  \"sample_size\": 5,\n",
    "  \"smiles\": [\n",
    "    \"OCCN1CCN(CCCN2c3ccccc3Sc3ccc(Cl)cc32)CC1\",\n",
    "    \"C=CCN1CCC2c3cccc(OC)c3CCC21\",\n",
    "    \"CCCN(Cc1ccc(OC)cc1)C1CCc2c(cccc2OC)C1\",\n",
    "    \"N#Cc1ccc2[nH]c(CN3CCN(c4ccc(Cl)c(Cl)c4)CC3)cc2c1\",\n",
    "    \"O=C(CCCN1CCN(c2ncccn2)CC1)c1ccc(F)cc1\",\n",
    "    \"Cc1ccc2c(c1)C(N1CCN(C)CC1)=Nc1cccnc1N2\",\n",
    "    \"COc1ccc(-c2cccc(CN3CCN(c4ncccn4)CC3)c2)cc1\",\n",
    "    \"Oc1[nH]cc2ccc(OCCCCN3CCN(c4cccc5cccc(F)c45)CC3)c(Cl)c12\",\n",
    "    \"CCCN1CCN(c2cccc(OC)c2)CC1\",\n",
    "    \"O=C(Nc1cccc(SC(F)(F)F)c1)N1CCC(N2CCC(n3c(O)nc4c(F)cccc43)CC2)CC1\",\n",
    "    \"CC1CCN(C2=Cc3cc(Cl)ccc3Cc3ccccc32)CC1\",\n",
    "    \"CCCN1CCOC2Cc3c(O)cccc3CC21\",\n",
    "    \"c1ccc(N2CCN(C3CCC(Nc4ncccn4)CC3)CC2)cc1\",\n",
    "    \"O=S(=O)(NC1CCC(N2CCC(c3ccccc3OCC(F)(F)F)CC2)CC1)c1ccc(OC(F)F)cc1\",\n",
    "    \"COc1ccccc1N1CCN(CCCCc2cc(-c3ccccc3)no2)CC1\",\n",
    "    \"c1ccc(CCC2CCN(Cc3c[nH]c4ncccc34)CC2)cc1\",\n",
    "    \"CC1CN(c2cccc3cc(F)ccc23)CCN1CCC1OCCc2c1sc(C(N)=O)c2Cl\",\n",
    "    \"COc1ccccc1N1CCCN(CCCCNC(=O)c2cc3ccccc3o2)CC1\",\n",
    "    \"O=C1CCc2ccc(OCCCCN3CCN(c4ccccc4C(F)(F)F)CC3)cc2N1\",\n",
    "    \"CCCCCCCCCC(=O)N1c2ccc(Cl)cc2N=C(N2CCN(C)CC2)c2ccccc21\",\n",
    "    \"O=C1N(CCN2CCC(C(F)(F)F)CC2)CCN1c1cccc(Cl)c1\",\n",
    "    \"CN1CCc2cccc3c2C1Cc1cccc(-c2c(OS(=O)(=O)C(F)(F)F)cccc2OS(=O)(=O)C(F)(F)F)c1-3\",\n",
    "    \"Cc1nn(C2CCN(Cc3cccc(C#N)c3)CC2)cc1-c1ccccc1\",\n",
    "    \"COc1ccc(-c2cc3c(O)n(CCN4CCN(c5ccccc5Cl)CC4)c(O)nc-3n2)cc1\",\n",
    "    \"OC1(c2cccc(Cl)c2Cl)CCN(Cc2c[nH]c3ccccc23)CC1\",\n",
    "    \"FC(F)(F)c1ccc2c(c1)N(Cc1ccc(CNc3cccc(Oc4ccccc4)c3)cc1)c1ccccc1S2\",\n",
    "    \"CCCSc1ccccc1N1CCN(CCCOc2ccc(-c3nc4ccccc4[nH]3)cc2)CC1\",\n",
    "    \"O=S(=O)(NCCCCN1CCN(c2cccc(Cl)c2Cl)CC1)c1cc2ccccc2cn1\",\n",
    "    \"COc1ccc(CN2CCN(CC(=O)N3c4ccccc4CC3C)CC2)cc1\",\n",
    "    \"CC1Cc2ccccc2N1C(=O)CC1CCN(Cc2ccc(Cl)cc2)CC1\",\n",
    "    \"CC(C)c1ccccc1N1CCN(CCCCCC(=O)NCc2ccccc2)CC1\",\n",
    "    \"Cc1ncoc1-c1nnc(SCCCN2CCc3cc4nc(C5CC5)oc4cc3CC2)n1C\",\n",
    "    \"O=C1CC(c2ccccc2)c2cccc(CCN3CCN(c4nsc5ccccc45)CC3)c2N1\",\n",
    "    \"O=C1NCN(c2ccccc2)C12CCN(CCCOc1ccc(F)cc1)CC2\",\n",
    "    \"CCON=C(CCN1CCN(c2nccs2)CC1)c1ccccc1\",\n",
    "    \"Cc1ccc2c(-c3nnc(SCCCN4CCc5cc6nc(-c7cc(C)nn7C)oc6cc5CC4)n3C)cccc2n1\",\n",
    "    \"CCCN(CCCCNC(=O)c1ccc(-c2ccccc2)cc1)C1Cc2cccn3ncc(c23)C1\",\n",
    "    \"Cc1ccc(OCCNCCCOc2ccccc2)cc1\"\n",
    "  ]\n",
    "}"
   ]
  },
  {
   "cell_type": "markdown",
   "metadata": {},
   "source": [
    "### Molecular properties\n",
    "There is a whole set of (physico-chemical) properties that can be set as scoring function components. Here, we will restrict ourselves to the numbers of hydrogen-bond donors and rotatable bonds. Note, that we need to define score transformations here to bring the resulting values into the 0-1 range explained above. Have a look at the `Score_Transformation` notebook for a detailed explanation. Normally, you will have to think about the range of values you would expect from a given component and then define the score transformation such, that values you consider \"good\" receive a transformed score close to `1` (and \"bad\" ones should be on the low side, closer to `0`). You are free to chose any (informative) name for your components, it is the `component_type` that specifies its nature. Typically, the `specific_parameters` block contains settings that only apply to this component (often a transformation, but also those that are required for this type only such as a descriptor definition for predictive models)."
   ]
  },
  {
   "cell_type": "code",
   "execution_count": 19,
   "metadata": {},
   "outputs": [],
   "source": [
    "component_rotatable_bonds = {\n",
    "  \"component_type\": \"num_rotatable_bonds\",\n",
    "  \"name\": \"Number of rotatable bonds\",\n",
    "  \"weight\": 1,\n",
    "  \"specific_parameters\": {\n",
    "    \"transformation\": {\n",
    "        \"transformation_type\": \"step\",\n",
    "        \"high\": 9,\n",
    "        \"low\": 0\n",
    "    }\n",
    "  }\n",
    "}\n",
    "\n",
    "component_num_hbd = {\n",
    "  \"component_type\": \"num_hbd_lipinski\",\n",
    "  \"name\": \"HB-donors (Lipinski)\",\n",
    "  \"weight\": 1,\n",
    "  \"specific_parameters\": {\n",
    "    \"transformation\": {\n",
    "        \"transformation_type\": \"step\",\n",
    "        \"high\": 6,\n",
    "        \"low\": 0\n",
    "    }\n",
    "  }\n",
    "}"
   ]
  },
  {
   "cell_type": "markdown",
   "metadata": {},
   "source": [
    "### Avoid certain chemical groups\n",
    "Usually, we want to avoid certain chemical moieties as they are associated with toxicity or unstable chemistry. Another reason could be that we already know that a certain chemical group will score very well and we want to explore new areas in the chemical space. We can achieve all this by specifying what we call `custom alerts`, i.e. a list of `SMARTS` which will drastically reduce the score of a compound exhibiting one or more matches. Note, that the impact of `custom alerts` is strong: Instead of simply adding a score component's contribution, a match with `custom alerts` will reduce a compound's total score by half (and will not affect it otherwise). For example, if a molecule receives a total score of 0.73, but happens to match a `custom alert` the score reported back to inform the agent will be 0.365 - this is necessary for the penalization to have enough impact."
   ]
  },
  {
   "cell_type": "code",
   "execution_count": 20,
   "metadata": {},
   "outputs": [],
   "source": [
    "component_custom_alerts = {\n",
    "  \"component_type\": \"custom_alerts\",\n",
    "  \"name\": \"Custom_alerts\",\n",
    "  \"weight\": 1,\n",
    "  \"specific_parameters\": {\n",
    "      \"smiles\": [\n",
    "        \"[*;r8]\",\n",
    "        \"[*;r9]\",\n",
    "        \"[*;r10]\",\n",
    "        \"[*;r11]\",\n",
    "        \"[*;r12]\",\n",
    "        \"[*;r13]\",\n",
    "        \"[*;r14]\",\n",
    "        \"[*;r15]\",\n",
    "        \"[*;r16]\",\n",
    "        \"[*;r17]\",\n",
    "        \"[#8][#8]\",\n",
    "        \"[#6;+]\",\n",
    "        \"[#16][#16]\",\n",
    "        \"[#7;!n][S;!$(S(=O)=O)]\",\n",
    "        \"[#7;!n][#7;!n]\",\n",
    "        \"C#C\",\n",
    "        \"C(=[O,S])[O,S]\",\n",
    "        \"[#7;!n][C;!$(C(=[O,N])[N,O])][#16;!s]\",\n",
    "        \"[#7;!n][C;!$(C(=[O,N])[N,O])][#7;!n]\",\n",
    "        \"[#7;!n][C;!$(C(=[O,N])[N,O])][#8;!o]\",\n",
    "        \"[#8;!o][C;!$(C(=[O,N])[N,O])][#16;!s]\",\n",
    "        \"[#8;!o][C;!$(C(=[O,N])[N,O])][#8;!o]\",\n",
    "        \"[#16;!s][C;!$(C(=[O,N])[N,O])][#16;!s]\"\n",
    "         ]\n",
    "      }\n",
    "}\n"
   ]
  },
  {
   "cell_type": "markdown",
   "metadata": {},
   "source": [
    "## Assembling the scoring function\n",
    "Now that we have defined the individual components, it is time to assemble the scoring function. We have two choices here, `custom_sum` and `custom_product`. For the difference in the mathematical definition, we refer to the publication, but from a practical point of view it appears the former is a bit more \"permissive\", i.e. if a molecule receives a high component score for all but one of the components, it will still have a reasonably high total score. But `custom_product` will penalize such a molecule more harshly, making learning a bit more difficult. This could be what you want if you already have a highly focused agent, but as a safe default choice we recommend to use `custom_sum`."
   ]
  },
  {
   "cell_type": "code",
   "execution_count": 21,
   "metadata": {},
   "outputs": [],
   "source": [
    "scoring_function = {\n",
    "  \"name\": \"custom_sum\",\n",
    "  \"parallel\": True,\n",
    "  \"parameters\": [\n",
    "    component_DRD2_prediction,\n",
    "    component_num_hbd,\n",
    "    component_rotatable_bonds,\n",
    "    component_custom_alerts\n",
    "  ]\n",
    "}"
   ]
  },
  {
   "cell_type": "markdown",
   "metadata": {},
   "source": [
    "Note, that we add the `diversity_filter` later (outside of the scoring function in a block called `parameters`), as it is not really a score component (even though it has an impact on scoring the compounds).\n",
    "\n",
    "## Complete the `JSON` configuration\n",
    "There are still a couple of parameters we need to set in order to specify the run. These are set outside of the scoring function, so below you see the torso structure of a `REINVENT` configuration (with only the version number, the `run_type` and the `scoring_function` which we generated above) which we will enrich step-by-step. Remember that we will write out the dictionary we construct here as a `JSON` file in the end, so you can have a look at it."
   ]
  },
  {
   "cell_type": "code",
   "execution_count": 22,
   "metadata": {},
   "outputs": [],
   "source": [
    "configuration = {\n",
    "  \"version\": 3,\n",
    "  \"run_type\": \"reinforcement_learning\",\n",
    "  \"model_type\": \"default\",\n",
    "  \"parameters\": {\n",
    "    \"scoring_function\": scoring_function\n",
    "  }\n",
    "}"
   ]
  },
  {
   "cell_type": "markdown",
   "metadata": {},
   "source": [
    "### Add the diversity filter and the inception blocks\n",
    "Here we add the diversity filter and inception blocks we specified above."
   ]
  },
  {
   "cell_type": "code",
   "execution_count": 23,
   "metadata": {},
   "outputs": [],
   "source": [
    "configuration[\"parameters\"][\"diversity_filter\"] = diversity_filter\n",
    "configuration[\"parameters\"][\"inception\"] = inception"
   ]
  },
  {
   "cell_type": "markdown",
   "metadata": {},
   "source": [
    "### Add run parameters\n",
    "In addition, we need to specify a couple of settings (such as which `Prior` to use). We refer to the respective notebooks for details. The most important setting is the number of epochs `n_steps`: For illustrative purposes, we will set it to a mere 300 but usually you would set it to a range of 500-1500."
   ]
  },
  {
   "cell_type": "code",
   "execution_count": 24,
   "metadata": {},
   "outputs": [],
   "source": [
    "configuration[\"parameters\"][\"reinforcement_learning\"] = {\n",
    "    \"prior\": os.path.join(ipynb_path, \"models/random.prior.new\"),\n",
    "    \"agent\": os.path.join(ipynb_path, \"models/random.prior.new\"),\n",
    "    \"n_steps\": 10,\n",
    "    \"sigma\": 128,\n",
    "    \"learning_rate\": 0.0001,\n",
    "    \"batch_size\": 128,\n",
    "    \"margin_threshold\": 50\n",
    "}"
   ]
  },
  {
   "cell_type": "markdown",
   "metadata": {},
   "source": [
    "### Add the `logging` block\n",
    "The final block we have to provide will specify where to store the output and so on. Usually, it will suffice to change `logging_path`, `result_folder` and `job_name`."
   ]
  },
  {
   "cell_type": "code",
   "execution_count": 25,
   "metadata": {},
   "outputs": [],
   "source": [
    "configuration[\"logging\"] = {\n",
    "    \"sender\": \"http://127.0.0.1\",\n",
    "    \"recipient\": \"local\",\n",
    "    \"logging_frequency\": 0,\n",
    "    \"logging_path\": os.path.join(output_dir, \"progress.log\"),\n",
    "    \"result_folder\": os.path.join(output_dir, \"results\"),\n",
    "    \"job_name\": \"Use-case DRD2 Demo\",\n",
    "    \"job_id\": \"demo\"\n",
    "}"
   ]
  },
  {
   "cell_type": "markdown",
   "metadata": {},
   "source": [
    "We now have successfully filled the dictionary and will write it out as a `JSON` file in the output directory. Please have a look at the file before proceeding in order to see how the paths have been inserted where required and the `dict` -> `JSON` translations (e.g. `True` to `true`) have taken place."
   ]
  },
  {
   "cell_type": "code",
   "execution_count": 26,
   "metadata": {},
   "outputs": [],
   "source": [
    "# write the configuration file to the disc\n",
    "configuration_JSON_path = os.path.join(output_dir, \"DRD2_config.json\")\n",
    "with open(configuration_JSON_path, 'w') as f:\n",
    "    json.dump(configuration, f, indent=4, sort_keys=True)"
   ]
  },
  {
   "cell_type": "markdown",
   "metadata": {},
   "source": [
    "## Run `REINVENT`\n",
    "Now it is time to execute `REINVENT` locally. Note, that depending on the number of epochs (steps) and the execution time of the scoring function components, this might take a while. As we have only specified a low number of epochs and all components should be fairly quick, this should not take too long in our case though.\n",
    "\n",
    "The command-line execution looks like this:\n",
    "```\n",
    "# activate envionment\n",
    "conda activate reinvent.v3.2\n",
    "\n",
    "# execute REINVENT\n",
    "python <your_path>/input.py <config>.json\n",
    "```"
   ]
  },
  {
   "cell_type": "code",
   "execution_count": 27,
   "metadata": {},
   "outputs": [
    {
     "name": "stdout",
     "output_type": "stream",
     "text": [
      "Keyring is skipped due to an exception: 'EntryPoints' object has no attribute 'get'\n",
      "Requirement already satisfied: protobuf==3.20.0 in /home/springnuance/miniconda3/envs/reinvent.v3.2/lib/python3.7/site-packages (3.20.0)\n",
      "Keyring is skipped due to an exception: 'EntryPoints' object has no attribute 'get'\n",
      "Requirement already satisfied: scikit-learn==0.21.3 in /home/springnuance/miniconda3/envs/reinvent.v3.2/lib/python3.7/site-packages (0.21.3)\n",
      "Requirement already satisfied: joblib>=0.11 in /home/springnuance/miniconda3/envs/reinvent.v3.2/lib/python3.7/site-packages (from scikit-learn==0.21.3) (0.15.1)\n",
      "Requirement already satisfied: scipy>=0.17.0 in /home/springnuance/miniconda3/envs/reinvent.v3.2/lib/python3.7/site-packages (from scikit-learn==0.21.3) (1.4.1)\n",
      "Requirement already satisfied: numpy>=1.11.0 in /home/springnuance/miniconda3/envs/reinvent.v3.2/lib/python3.7/site-packages (from scikit-learn==0.21.3) (1.18.1)\n"
     ]
    }
   ],
   "source": [
    "!pip install protobuf==3.20.0\n",
    "!pip install scikit-learn==0.21.3"
   ]
  },
  {
   "cell_type": "code",
   "execution_count": 28,
   "metadata": {},
   "outputs": [
    {
     "name": "stdout",
     "output_type": "stream",
     "text": [
      "./REINVENT_complete_use_case_DRD2_demo/DRD2_config.json\n",
      "../../Reinvent\n",
      "../../../miniconda3/envs/reinvent.v3.2\n",
      "Namespace(base_config=PosixPath('/home/springnuance/reinvent-hitl/Reinvent/configs/config.json'), run_config='./REINVENT_complete_use_case_DRD2_demo/DRD2_config.json')\n",
      "\n",
      "The base config is: \n",
      " {'USER_NAME': 'your name', 'MAIN_TEST_PATH': '/path/to/a/test/folder', 'DEVELOPMENT_ENVIRONMENT': True, 'COMPONENT_SPECIFIC': {'AZDOCK': {'AZDOCK_DOCKER_SCRIPT_PATH': '/<your_path>/docker.py', 'AZDOCK_ENV_PATH': '/<your_path>/miniconda3/envs/AZdock/bin/python', 'AZDOCK_DEBUG': True}, 'DOCKSTREAM': {'DOCKSTREAM_DOCKER_SCRIPT_PATH': '/<your_path>/docker.py', 'DOCKSTREAM_ENV_PATH': '/<your_path>/miniconda3/envs/DockStream/bin/python', 'DOCKSTREAM_DEBUG': True}, 'AZGARD': {'AZGARD_EXECUTOR_SCRIPT_PATH': '/<your_path>/executor.py', 'AZGARD_ENV_PATH': '/<your_path>/miniconda3/envs/AZgard/bin/python', 'AZGARD_DEBUG': True}, 'ICOLOS': {'ICOLOS_EXECUTOR_PATH': '/<your_path>/miniconda3/envs/icolosprod/bin/icolos', 'ICOLOS_DEBUG': True}, 'AIZYNTH': {'CONFIG': '/projects/mai/synthesisplanning/minimal_config.yml'}}, 'ENVIRONMENTAL_VARIABLES': {'PIP_URL': '<that`s confidential>', 'PIP_KEY': '<that`s confidential>'}, 'ACTIVITY_REGRESSION': '', 'ACTIVITY_CLASSIFICATION': '', 'SMILES_SET_PATH': '', 'PRIOR_PATH': '', 'LIBINVENT_PRIOR_PATH': '', 'SMILES_SET_LINK_INVENT_PATH': '', 'LINK_INVENT_PRIOR_PATH': ''}\n",
      "\n",
      "The run config is: \n",
      " {'logging': {'job_id': 'demo', 'job_name': 'Use-case DRD2 Demo', 'logging_frequency': 0, 'logging_path': './REINVENT_complete_use_case_DRD2_demo/progress.log', 'recipient': 'local', 'result_folder': './REINVENT_complete_use_case_DRD2_demo/results', 'sender': 'http://127.0.0.1'}, 'model_type': 'default', 'parameters': {'diversity_filter': {'minscore': 0.4, 'minsimilarity': 0.4, 'name': 'IdenticalMurckoScaffold', 'nbmax': 25}, 'inception': {'memory_size': 20, 'sample_size': 5, 'smiles': ['OCCN1CCN(CCCN2c3ccccc3Sc3ccc(Cl)cc32)CC1', 'C=CCN1CCC2c3cccc(OC)c3CCC21', 'CCCN(Cc1ccc(OC)cc1)C1CCc2c(cccc2OC)C1', 'N#Cc1ccc2[nH]c(CN3CCN(c4ccc(Cl)c(Cl)c4)CC3)cc2c1', 'O=C(CCCN1CCN(c2ncccn2)CC1)c1ccc(F)cc1', 'Cc1ccc2c(c1)C(N1CCN(C)CC1)=Nc1cccnc1N2', 'COc1ccc(-c2cccc(CN3CCN(c4ncccn4)CC3)c2)cc1', 'Oc1[nH]cc2ccc(OCCCCN3CCN(c4cccc5cccc(F)c45)CC3)c(Cl)c12', 'CCCN1CCN(c2cccc(OC)c2)CC1', 'O=C(Nc1cccc(SC(F)(F)F)c1)N1CCC(N2CCC(n3c(O)nc4c(F)cccc43)CC2)CC1', 'CC1CCN(C2=Cc3cc(Cl)ccc3Cc3ccccc32)CC1', 'CCCN1CCOC2Cc3c(O)cccc3CC21', 'c1ccc(N2CCN(C3CCC(Nc4ncccn4)CC3)CC2)cc1', 'O=S(=O)(NC1CCC(N2CCC(c3ccccc3OCC(F)(F)F)CC2)CC1)c1ccc(OC(F)F)cc1', 'COc1ccccc1N1CCN(CCCCc2cc(-c3ccccc3)no2)CC1', 'c1ccc(CCC2CCN(Cc3c[nH]c4ncccc34)CC2)cc1', 'CC1CN(c2cccc3cc(F)ccc23)CCN1CCC1OCCc2c1sc(C(N)=O)c2Cl', 'COc1ccccc1N1CCCN(CCCCNC(=O)c2cc3ccccc3o2)CC1', 'O=C1CCc2ccc(OCCCCN3CCN(c4ccccc4C(F)(F)F)CC3)cc2N1', 'CCCCCCCCCC(=O)N1c2ccc(Cl)cc2N=C(N2CCN(C)CC2)c2ccccc21', 'O=C1N(CCN2CCC(C(F)(F)F)CC2)CCN1c1cccc(Cl)c1', 'CN1CCc2cccc3c2C1Cc1cccc(-c2c(OS(=O)(=O)C(F)(F)F)cccc2OS(=O)(=O)C(F)(F)F)c1-3', 'Cc1nn(C2CCN(Cc3cccc(C#N)c3)CC2)cc1-c1ccccc1', 'COc1ccc(-c2cc3c(O)n(CCN4CCN(c5ccccc5Cl)CC4)c(O)nc-3n2)cc1', 'OC1(c2cccc(Cl)c2Cl)CCN(Cc2c[nH]c3ccccc23)CC1', 'FC(F)(F)c1ccc2c(c1)N(Cc1ccc(CNc3cccc(Oc4ccccc4)c3)cc1)c1ccccc1S2', 'CCCSc1ccccc1N1CCN(CCCOc2ccc(-c3nc4ccccc4[nH]3)cc2)CC1', 'O=S(=O)(NCCCCN1CCN(c2cccc(Cl)c2Cl)CC1)c1cc2ccccc2cn1', 'COc1ccc(CN2CCN(CC(=O)N3c4ccccc4CC3C)CC2)cc1', 'CC1Cc2ccccc2N1C(=O)CC1CCN(Cc2ccc(Cl)cc2)CC1', 'CC(C)c1ccccc1N1CCN(CCCCCC(=O)NCc2ccccc2)CC1', 'Cc1ncoc1-c1nnc(SCCCN2CCc3cc4nc(C5CC5)oc4cc3CC2)n1C', 'O=C1CC(c2ccccc2)c2cccc(CCN3CCN(c4nsc5ccccc45)CC3)c2N1', 'O=C1NCN(c2ccccc2)C12CCN(CCCOc1ccc(F)cc1)CC2', 'CCON=C(CCN1CCN(c2nccs2)CC1)c1ccccc1', 'Cc1ccc2c(-c3nnc(SCCCN4CCc5cc6nc(-c7cc(C)nn7C)oc6cc5CC4)n3C)cccc2n1', 'CCCN(CCCCNC(=O)c1ccc(-c2ccccc2)cc1)C1Cc2cccn3ncc(c23)C1', 'Cc1ccc(OCCNCCCOc2ccccc2)cc1']}, 'reinforcement_learning': {'agent': '/home/springnuance/reinvent-hitl/Reinvent-Community-Binh/notebooks/models/random.prior.new', 'batch_size': 128, 'learning_rate': 0.0001, 'margin_threshold': 50, 'n_steps': 10, 'prior': '/home/springnuance/reinvent-hitl/Reinvent-Community-Binh/notebooks/models/random.prior.new', 'sigma': 128}, 'scoring_function': {'name': 'custom_sum', 'parallel': True, 'parameters': [{'component_type': 'predictive_property', 'name': 'DRD2_pred_activity', 'specific_parameters': {'descriptor_type': 'ecfp_counts', 'model_path': '/home/springnuance/reinvent-hitl/Reinvent-Community-Binh/notebooks/models/drd2.pkl', 'radius': 3, 'scikit': 'classification', 'size': 2048, 'transformation': {'transformation_type': 'no_transformation'}, 'use_counts': True, 'use_features': True}, 'weight': 7}, {'component_type': 'num_hbd_lipinski', 'name': 'HB-donors (Lipinski)', 'specific_parameters': {'transformation': {'high': 6, 'low': 0, 'transformation_type': 'step'}}, 'weight': 1}, {'component_type': 'num_rotatable_bonds', 'name': 'Number of rotatable bonds', 'specific_parameters': {'transformation': {'high': 9, 'low': 0, 'transformation_type': 'step'}}, 'weight': 1}, {'component_type': 'custom_alerts', 'name': 'Custom_alerts', 'specific_parameters': {'smiles': ['[*;r8]', '[*;r9]', '[*;r10]', '[*;r11]', '[*;r12]', '[*;r13]', '[*;r14]', '[*;r15]', '[*;r16]', '[*;r17]', '[#8][#8]', '[#6;+]', '[#16][#16]', '[#7;!n][S;!$(S(=O)=O)]', '[#7;!n][#7;!n]', 'C#C', 'C(=[O,S])[O,S]', '[#7;!n][C;!$(C(=[O,N])[N,O])][#16;!s]', '[#7;!n][C;!$(C(=[O,N])[N,O])][#7;!n]', '[#7;!n][C;!$(C(=[O,N])[N,O])][#8;!o]', '[#8;!o][C;!$(C(=[O,N])[N,O])][#16;!s]', '[#8;!o][C;!$(C(=[O,N])[N,O])][#8;!o]', '[#16;!s][C;!$(C(=[O,N])[N,O])][#16;!s]']}, 'weight': 1}]}}, 'run_type': 'reinforcement_learning', 'version': 3}\n",
      "/home/springnuance/miniconda3/envs/reinvent.v3.2/lib/python3.7/site-packages/sklearn/base.py:306: UserWarning: Trying to unpickle estimator DecisionTreeClassifier from version 0.21.2 when using version 0.21.3. This might lead to breaking code or invalid results. Use at your own risk.\n",
      "  UserWarning)\n",
      "/home/springnuance/miniconda3/envs/reinvent.v3.2/lib/python3.7/site-packages/sklearn/base.py:306: UserWarning: Trying to unpickle estimator RandomForestClassifier from version 0.21.2 when using version 0.21.3. This might lead to breaking code or invalid results. Use at your own risk.\n",
      "  UserWarning)\n",
      "14:46:57: local_reinforcement_logger.log_message +32: INFO     starting an RL run\n",
      "14:47:00: local_reinforcement_logger.timestep_report +41: INFO     \n",
      " Step 0   Fraction valid SMILES: 98.4   Score: 0.3465   Time elapsed: 2   Time left: 20.0\n",
      "  Agent     Prior     Target     Score     SMILES\n",
      "-28.76    -28.76     38.04      0.52      C1(F)(F)CCN(CC(=O)NC2(c3ccc(Cl)cc3)CCC2)CC1\n",
      "-33.20    -33.20      8.90      0.33      c1(C=Nc2ccc(S(N)(=O)=O)cc2)c2c([nH]c1O)cc(S(NCCc1cc(OC)c(OC)cc1)(=O)=O)cc2\n",
      "-18.63    -18.63    -18.63      0.00      O=C(O)Cc1nc(-c2ccccc2)oc1C\n",
      "-15.61    -15.61     51.78      0.53      O=c1[nH]c(C)cc(C)c1C#N\n",
      "-23.26    -23.26     19.98      0.34      c1ccc(N)cc1NC(CCCC=CCC=CCC=CCC=CCCCCC)=O\n",
      "-24.41    -24.41    -24.41      0.00      c1(N2C(=O)Nc3ccc(Br)cc3C2(C(=O)NCCCN2CCOCC2)O)ccccc1\n",
      "-22.89    -22.89     45.96      0.54      c1(C=CC(c2c(O)oc(C)cc2=O)=O)ccc(C)cc1C\n",
      "-34.02    -34.02     27.22      0.48      [nH]1c(=NC(=O)C(NC(c2ccc3c(c2)n(C)c(Cc2cc(OC)c(OC)cc2)n3)=O)CC(C)C)cccc1\n",
      "-33.53    -33.53    -33.53      0.00      c1c(Sc2ccc(Cl)cc2Cl)ccc2c1C(O)C(C(F)(F)F)(OCC)O2\n",
      "-22.18    -22.18     45.14      0.53      COc1c(O)cc(-c2nc(-c3ccc(O)cc3)cc(-c3ccc(O)cc3)c2)cc1\n",
      "DRD2_pred_activity   HB-donors (Lipinski)   Number of rotatable bonds   Custom_alerts   raw_DRD2_pred_activity   raw_HB-donors (Lipinski)   raw_Number of rotatable bonds\n",
      "0.3852666914463043   1.0   1.0   1.0   0.3852666914463043   1.0   4.0   \n",
      "0.28003114461898804   1.0   0.0   1.0   0.28003114461898804   4.0   10.0   \n",
      "0.3582193851470947   1.0   1.0   0.0   0.3582193851470947   1.0   3.0   \n",
      "0.3912453055381775   1.0   1.0   1.0   0.3912453055381775   1.0   0.0   \n",
      "0.2914218604564667   1.0   0.0   1.0   0.2914218604564667   2.0   15.0   \n",
      "0.34305810928344727   1.0   1.0   0.0   0.34305810928344727   3.0   6.0   \n",
      "0.4058981239795685   1.0   1.0   1.0   0.4058981239795685   1.0   3.0   \n",
      "0.3294253349304199   1.0   1.0   1.0   0.3294253349304199   2.0   9.0   \n",
      "0.3559029698371887   1.0   1.0   0.0   0.3559029698371887   1.0   4.0   \n",
      "0.3905450105667114   1.0   1.0   1.0   0.3905450105667114   3.0   4.0   \n",
      "\n",
      "14:47:03: local_reinforcement_logger.timestep_report +41: INFO     \n",
      " Step 1   Fraction valid SMILES: 98.4   Score: 0.3362   Time elapsed: 5   Time left: 22.5\n",
      "  Agent     Prior     Target     Score     SMILES\n",
      "-35.43    -35.43    -35.43      0.00      O=C(Nc1ccc(C(=O)NCC(O)=NO)cc1)N(C)c1cc(-c2ccccc2)sc1C(=O)O\n",
      "-31.17    -31.20     35.09      0.52      N12C(=NC(c3ccc(C)cc3)=C1)N(CC)c1ncn(C)c1C2C\n",
      "-47.80    -47.82    -47.82      0.00      C(C(=O)OC)(N(c1cc(-c2ccc3c([nH]cc3)c2)cc(-c2cccc3[nH]ncc23)n1)C)C\n",
      "-23.97    -23.98     44.62      0.54      c1(N=c2[nH]cc(C(N3CCN(c4ccc(OC)cc4)CC3)=O)cc2)ccc(Cl)cc1\n",
      "-22.86    -22.86     41.19      0.50      c1ccc(-c2n[nH]c3c2CN(C(CN(C)C)=O)CC3)cc1\n",
      "-31.05    -31.04    -31.04      0.00      C(CC(CC(CCc1ccc(O)c(O)c1)OC1C(O)C(O)C(O)CO1)=O)(=O)OCC\n",
      "-23.07    -23.05    -23.05      0.00      N1=C(Nc2ccccc2)SCC(c2ccc(OC)cc2OC)=N1\n",
      "-30.36    -30.39     34.89      0.51      c1(OCCOc2ccc(C)nc2[N+]([O-])=O)ccc(-c2csc3c2c(=N)[nH]cn3)cc1\n",
      "-39.23    -39.25    -39.25      0.00      c1(-c2[nH]c(C(C)(C)C)nc2-c2nc(=NCC(O)C)[nH]cc2)nc2ccc(C(=O)OC)cc2[nH]1\n",
      "-28.32    -28.35     28.77      0.45      N(C(c1c(Sc2ccccc2)cccc1N)=O)c1cc(CC)ccc1\n",
      "DRD2_pred_activity   HB-donors (Lipinski)   Number of rotatable bonds   Custom_alerts   raw_DRD2_pred_activity   raw_HB-donors (Lipinski)   raw_Number of rotatable bonds\n",
      "0.30414068698883057   1.0   1.0   0.0   0.30414068698883057   5.0   7.0   \n",
      "0.3800729811191559   1.0   1.0   1.0   0.3800729811191559   0.0   2.0   \n",
      "0.39019787311553955   1.0   1.0   0.0   0.39019787311553955   2.0   5.0   \n",
      "0.403342068195343   1.0   1.0   1.0   0.403342068195343   1.0   4.0   \n",
      "0.3575536608695984   1.0   1.0   1.0   0.3575536608695984   1.0   3.0   \n",
      "0.38081780076026917   1.0   0.0   0.0   0.38081780076026917   5.0   10.0   \n",
      "0.37779751420021057   1.0   1.0   0.0   0.37779751420021057   1.0   4.0   \n",
      "0.37002602219581604   1.0   1.0   1.0   0.37002602219581604   2.0   7.0   \n",
      "0.3313693404197693   1.0   1.0   0.0   0.3313693404197693   4.0   5.0   \n",
      "0.28799864649772644   1.0   1.0   1.0   0.28799864649772644   2.0   5.0   \n",
      "\n",
      "14:47:06: local_reinforcement_logger.timestep_report +41: INFO     \n",
      " Step 2   Fraction valid SMILES: 99.2   Score: 0.3195   Time elapsed: 8   Time left: 21.3\n",
      "  Agent     Prior     Target     Score     SMILES\n",
      "-44.23    -44.12    -44.12      0.00      C(C)(C)(O)C(CCC(C1CCC2C3(C)CCC4C(C)(CO)C(=O)CCC4(C)C3C(=O)CC21C)C)OC1C(O)C(O)C(O)C(C(O)=O)O1\n",
      "-29.56    -29.67     33.40      0.49      CON=c1c2c(nc[nH]1)Oc1c(c3c(cccc3)cc1)C2c1ccccc1OC\n",
      "-29.04    -29.14     31.28      0.47      C1NC(=O)C(NCc2ccc(-c3c(-c4ccccc4)cc4cnc(SC)nc4n3)cc2)CC1\n",
      "-24.31    -24.35     38.50      0.49      C(CN(CCC)C1CC(c2ccc(F)cc2)c2c1cc(F)cc2)C\n",
      "-28.84    -28.81     33.36      0.49      c1c(C)ccc2c1NC(=O)C(CC(Nc1cccc3cccnc13)=O)S2\n",
      "-28.64    -28.60     36.81      0.51      C(C(=O)Nc1ccc(Br)c(C)c1)N(C(C1CCN(C(C)=O)CC1)=O)CC\n",
      "-21.81    -21.89    -21.89      0.00      c12cc(C)ccc1[nH]c1cnc(C(=O)OC)cc21\n",
      "-30.66    -30.70     37.12      0.53      c12c(ccc(OC)c1)N=C1N(C2)CC(C)OC12c1ccccc1NC2=O\n",
      "-23.51    -23.48    -23.48      0.00      c1cc(C2C3NC2CN(C(=O)OCc2ccccc2)C3)ccc1-c1ccccc1\n",
      "-23.47    -23.50     39.38      0.49      C1OCCN(c2nc(N(C)C)nc(-c3occc3)c2)C1\n",
      "DRD2_pred_activity   HB-donors (Lipinski)   Number of rotatable bonds   Custom_alerts   raw_DRD2_pred_activity   raw_HB-donors (Lipinski)   raw_Number of rotatable bonds\n",
      "0.33025360107421875   1.0   1.0   0.0   0.33025360107421875   6.0   9.0   \n",
      "0.34784379601478577   1.0   1.0   1.0   0.34784379601478577   1.0   3.0   \n",
      "0.32124966382980347   1.0   1.0   1.0   0.32124966382980347   2.0   6.0   \n",
      "0.3456246554851532   1.0   1.0   1.0   0.3456246554851532   0.0   6.0   \n",
      "0.33870697021484375   1.0   1.0   1.0   0.33870697021484375   2.0   3.0   \n",
      "0.37130066752433777   1.0   1.0   1.0   0.37130066752433777   1.0   5.0   \n",
      "0.3639848232269287   1.0   1.0   0.0   0.3639848232269287   1.0   1.0   \n",
      "0.3954530954360962   1.0   1.0   1.0   0.3954530954360962   1.0   1.0   \n",
      "0.4179985225200653   1.0   1.0   0.0   0.4179985225200653   1.0   4.0   \n",
      "0.34588590264320374   1.0   1.0   1.0   0.34588590264320374   0.0   3.0   \n",
      "\n",
      "14:47:08: local_reinforcement_logger.timestep_report +41: INFO     \n",
      " Step 3   Fraction valid SMILES: 98.4   Score: 0.3617   Time elapsed: 11   Time left: 19.2\n",
      "  Agent     Prior     Target     Score     SMILES\n",
      "-28.02    -27.83     36.65      0.50      C1CN(S(=O)(=O)Cc2ccc(C(=O)N3CCCCCC3)cc2)CCN1c1ccccc1\n",
      "-37.65    -37.71     25.51      0.49      c1(OC)c(OC)ccc(-c2n(-c3ccc(Br)c4c3nccc4)nnc2C)c1\n",
      "-36.07    -35.92     25.47      0.48      C1Oc2c3ncccc3ccc2OCC1N(CCCCNC(c1cccc(-c2ccccc2)c1)=O)C\n",
      "-26.39    -26.50     37.89      0.50      c1(-n2nc3c(n2)cccc3)cccc(CNC)c1\n",
      "-37.90    -37.91      6.22      0.34      C12C(C)(CCC3(C(=O)NCCNCC(C)(C)C)C4(C)C(CCC13)C1(C)C(C(C)(C)C(O)CC1)CC4)C(C(CCCC(C)C)C)CC2\n",
      "-29.58    -29.57     41.55      0.56      C(CCOc1c(OC)ccc(N2c3c(cc(S(=O)(N=c4scc[nH]4)=O)cc3)OCC2)c1)N1CCCC1C\n",
      "-17.19    -17.33     46.50      0.50      c1cccc(-c2[nH]c3cccc(C(N)=O)c3n2)c1\n",
      "-41.55    -41.16     22.49      0.50      c1ccccc1-c1c(C(N2CCCC2)=O)n(Cc2c(C)oc(-c3cccc4ccccc43)n2)c(=O)c(CCC)c1O\n",
      "-37.15    -37.24    -37.24      0.00      CCCCOc1oc(-c2cccs2)nc1C=NC(C(=O)OC)CCCNC(N)N\n",
      "-31.84    -31.93     35.52      0.53      c1cccc2c(C=C3C(=O)N=C(Nc4cccc(OC)c4)S3)cn(C(C)(C)C)c12\n",
      "DRD2_pred_activity   HB-donors (Lipinski)   Number of rotatable bonds   Custom_alerts   raw_DRD2_pred_activity   raw_HB-donors (Lipinski)   raw_Number of rotatable bonds\n",
      "0.36190783977508545   1.0   1.0   1.0   0.36190783977508545   0.0   5.0   \n",
      "0.34932345151901245   1.0   1.0   1.0   0.34932345151901245   0.0   4.0   \n",
      "0.3309689164161682   1.0   1.0   1.0   0.3309689164161682   1.0   8.0   \n",
      "0.3611234724521637   1.0   1.0   1.0   0.3611234724521637   1.0   3.0   \n",
      "0.3004392981529236   1.0   0.0   1.0   0.3004392981529236   3.0   10.0   \n",
      "0.4286154806613922   1.0   1.0   1.0   0.4286154806613922   1.0   9.0   \n",
      "0.3553497791290283   1.0   1.0   1.0   0.3553497791290283   2.0   2.0   \n",
      "0.35358887910842896   1.0   1.0   1.0   0.35358887910842896   1.0   7.0   \n",
      "0.3394711911678314   1.0   0.0   0.0   0.3394711911678314   3.0   13.0   \n",
      "0.3917968273162842   1.0   1.0   1.0   0.3917968273162842   1.0   3.0   \n",
      "\n",
      "14:47:11: local_reinforcement_logger.timestep_report +41: INFO     \n",
      " Step 4   Fraction valid SMILES: 100.0   Score: 0.3644   Time elapsed: 13   Time left: 15.6\n",
      "  Agent     Prior     Target     Score     SMILES\n",
      "-26.15    -25.96     40.10      0.52      c1c(C(=O)N(CCN(C)C)Cc2occc2)c([N+]([O-])=O)ccc1\n",
      "-22.28    -22.18    -22.18      0.00      c1cccc(C2C(C(OCC)=O)=C(C)N(CC)C(=O)N2C)c1\n",
      "-20.18    -20.48     47.86      0.53      c1c2[nH]c(=N)[nH]c(=N)c2cc(CN(c2ccc(Cl)c(Cl)c2)C)c1\n",
      "-21.25    -21.31     43.71      0.51      c12ccc(OC)cc1ncn2-c1cccc(OC)c1\n",
      "-21.79    -21.77     40.16      0.48      c1c(Nc2c3c(ccc2)C(=O)N(C2CCC(=O)NC2=O)C3=O)ccc(C(F)(F)F)c1\n",
      "-33.57    -33.78     32.09      0.51      c1(C2=CCN(C)C(C)(C)C2)c2cc(Cl)c(N)cc2[nH]c1\n",
      "-36.79    -36.92     28.43      0.51      CCN1CC(c2nc(=O)c3cnc(C4CCOCC4)n3[nH]2)=CC2C1C2CO\n",
      "-23.10    -23.14     42.30      0.51      c1cc(Cl)cc(Cn2c(=O)n3c(c2O)Cc2c-3cccc2)c1\n",
      "-30.41    -30.48     37.85      0.53      CNC(=O)C(c1c(F)cc(F)cc1)(O)CCn1cnc2ccccc2c1=O\n",
      "-27.17    -27.09     37.86      0.51      n1c(SCc2nc(=N)[nH]c(=Nc3c(C)cccc3)[nH]2)sc(=NCc2ccccc2OC)[nH]1\n",
      "DRD2_pred_activity   HB-donors (Lipinski)   Number of rotatable bonds   Custom_alerts   raw_DRD2_pred_activity   raw_HB-donors (Lipinski)   raw_Number of rotatable bonds\n",
      "0.3778001368045807   1.0   1.0   1.0   0.3778001368045807   0.0   7.0   \n",
      "0.41092973947525024   1.0   1.0   0.0   0.41092973947525024   0.0   4.0   \n",
      "0.40074944496154785   1.0   1.0   1.0   0.40074944496154785   4.0   3.0   \n",
      "0.36740750074386597   1.0   1.0   1.0   0.36740750074386597   0.0   3.0   \n",
      "0.3363286852836609   1.0   1.0   1.0   0.3363286852836609   2.0   3.0   \n",
      "0.37593555450439453   1.0   1.0   1.0   0.37593555450439453   2.0   1.0   \n",
      "0.3707538843154907   1.0   1.0   1.0   0.3707538843154907   2.0   4.0   \n",
      "0.3716583549976349   1.0   1.0   1.0   0.3716583549976349   1.0   2.0   \n",
      "0.4006694555282593   1.0   1.0   1.0   0.4006694555282593   2.0   5.0   \n",
      "0.3666650950908661   1.0   1.0   1.0   0.3666650950908661   4.0   7.0   \n",
      "\n",
      "14:47:13: local_reinforcement_logger.timestep_report +41: INFO     \n",
      " Step 5   Fraction valid SMILES: 98.4   Score: 0.3612   Time elapsed: 16   Time left: 13.3\n",
      "  Agent     Prior     Target     Score     SMILES\n",
      "-28.90    -29.01     30.84      0.47      c1c(OC)ccc(CC2C(O)C(Cc3ccccc3)NC(=O)N2Cc2cccc(C(NCC)=O)c2)c1\n",
      "-23.32    -23.41     44.41      0.53      CN1C(Cc2ccccc2Br)=NCC1\n",
      "-32.37    -32.79     40.04      0.57      C(CC(=O)c1ccc(F)cc1)(C1CC1)=NOC(C)(C)C\n",
      "-29.47    -29.15     31.46      0.47      n1cc(Nc2ccc(C3CNCCO3)cc2Cl)c(CC)nc1C1(C#N)CC1\n",
      "-35.27    -35.11     13.55      0.38      n1(CC(c2ccc(Cl)cc2)=O)n(CCCC)c(=O)n(CCC(N)c2ccccc2)c1=O\n",
      "-22.32    -22.18    -22.18      0.00      N1(C(C(=O)O)Cc2ccccc2)C(=S)SC(=Cc2c(Cl)cccc2Cl)C1=O\n",
      "-23.41    -23.56    -23.56      0.00      c1ccccc1CSC1=NCN(CCc2ccc(S(N)(=O)=O)cc2)CN1\n",
      "-29.26    -29.25     33.80      0.49      c1c(F)cccc1C(=O)c1c[nH]c(=Nc2cnccc2)cc1\n",
      "-30.85    -30.77     20.12      0.40      CC(C(C(=O)NC(Cc1ccccc1)C(N(Cc1ccccc1)C)=O)NC(NC1Cc2ccccc2C1)=O)C\n",
      "-28.70    -28.75     36.59      0.51      CC(Oc1ccc(CN2CCC3N(Cc4cnccc4)C(=O)CCC32)cc1)C\n",
      "DRD2_pred_activity   HB-donors (Lipinski)   Number of rotatable bonds   Custom_alerts   raw_DRD2_pred_activity   raw_HB-donors (Lipinski)   raw_Number of rotatable bonds\n",
      "0.3154449760913849   1.0   1.0   1.0   0.3154449760913849   3.0   9.0   \n",
      "0.39548981189727783   1.0   1.0   1.0   0.39548981189727783   0.0   2.0   \n",
      "0.4458301365375519   1.0   1.0   1.0   0.4458301365375519   0.0   5.0   \n",
      "0.32307255268096924   1.0   1.0   1.0   0.32307255268096924   2.0   5.0   \n",
      "0.34597331285476685   1.0   0.0   1.0   0.34597331285476685   1.0   10.0   \n",
      "0.3623211979866028   1.0   1.0   0.0   0.3623211979866028   1.0   5.0   \n",
      "0.40801361203193665   1.0   1.0   0.0   0.40801361203193665   2.0   6.0   \n",
      "0.34764519333839417   1.0   1.0   1.0   0.34764519333839417   1.0   3.0   \n",
      "0.36840108036994934   1.0   0.0   1.0   0.36840108036994934   3.0   10.0   \n",
      "0.37054502964019775   1.0   1.0   1.0   0.37054502964019775   0.0   6.0   \n",
      "\n",
      "14:47:16: local_reinforcement_logger.timestep_report +41: INFO     \n",
      " Step 6   Fraction valid SMILES: 98.4   Score: 0.3448   Time elapsed: 19   Time left: 10.9\n",
      "  Agent     Prior     Target     Score     SMILES\n",
      "-24.46    -24.41     35.03      0.46      o1c(C(Nc2cccc(NC(=O)CN3CCN(C)CC3)c2)=O)ccc1\n",
      "-43.45    -43.22    -43.22      0.00      c12c(cc(Oc3cc[nH]n3)cc1O)N(S(=O)(c1ccc(OC)cc1)=O)CC(C(O)=O)C2=O\n",
      "-45.65    -45.01    -45.01      0.00      C(OCC)(NCC(C(=O)OC1CN(C(=O)c2ccccc2)CCC1C(=NO)O)=O)=O\n",
      "-35.72    -35.56     29.17      0.51      C1CN(C(=O)CO)CCN1c1[nH]c(-c2ccccc2)nc(=NCc2ccc3c(cccc3)c2)c1\n",
      "-35.07    -35.11     34.86      0.55      c1c(CSc2n(-c3cccc4[nH]cnc43)c(N)c(C#N)n2)ccc(F)c1\n",
      "-23.17    -23.29     42.48      0.51      O=S(Nc1ccc(F)cc1F)(=O)c1c(F)c(F)c(F)cc1\n",
      "-26.09    -26.36     43.81      0.55      c1c(-c2oc(C)c(CN3c4ccccc4CCC3)n2)cc(OCC)c(O)c1\n",
      "-24.66    -24.62    -24.62      0.00      C(CC(OC(C)(C)C)O)C=CCC=CCC=CCC=CCCCCC\n",
      "-20.09    -20.12     41.90      0.48      N(c1ccccc1)=c1[nH][nH]c(=S)n1-c1ccccc1\n",
      "-29.09    -29.16     31.62      0.47      c12n(c3c(cn1)C(=O)C(C)(C)O3)c(SCc1ccccc1C)nn2\n",
      "DRD2_pred_activity   HB-donors (Lipinski)   Number of rotatable bonds   Custom_alerts   raw_DRD2_pred_activity   raw_HB-donors (Lipinski)   raw_Number of rotatable bonds\n",
      "0.3112964630126953   1.0   1.0   1.0   0.3112964630126953   2.0   5.0   \n",
      "0.34210944175720215   1.0   1.0   0.0   0.34210944175720215   3.0   6.0   \n",
      "0.2752054035663605   1.0   1.0   0.0   0.2752054035663605   3.0   7.0   \n",
      "0.36442434787750244   1.0   1.0   1.0   0.36442434787750244   2.0   5.0   \n",
      "0.4171218276023865   1.0   1.0   1.0   0.4171218276023865   2.0   4.0   \n",
      "0.37490367889404297   1.0   1.0   1.0   0.37490367889404297   1.0   3.0   \n",
      "0.41908031702041626   1.0   1.0   1.0   0.41908031702041626   1.0   5.0   \n",
      "0.3564418852329254   1.0   0.0   0.0   0.3564418852329254   1.0   14.0   \n",
      "0.3372610807418823   1.0   1.0   1.0   0.3372610807418823   2.0   2.0   \n",
      "0.3247705101966858   1.0   1.0   1.0   0.3247705101966858   0.0   3.0   \n",
      "\n",
      "14:47:19: local_reinforcement_logger.timestep_report +41: INFO     \n",
      " Step 7   Fraction valid SMILES: 100.0   Score: 0.3647   Time elapsed: 22   Time left: 8.2\n",
      "  Agent     Prior     Target     Score     SMILES\n",
      "-21.36    -21.45     44.00      0.51      c1cc2c(nc(CCC)c(CC)n2)cc1\n",
      "-32.45    -32.59     12.94      0.36      c1c(S(=O)(N(c2ccccc2)CC)=O)cc2nc(SCC(=O)c3ccc(Br)cc3)n(CCC)c(=O)c2c1\n",
      "-30.50    -30.38    -30.38      0.00      c1cccc(C(NN2C(c3ccccc3C(F)(F)F)SCC2=O)=O)c1Nc1cccc(C(F)(F)F)c1\n",
      "-38.12    -37.97     30.34      0.53      c12cc(-c3c(C(NCc4c(C)cccc4)=O)nco3)ccc1N(C(C(F)(F)F)C)CC2\n",
      "-37.19    -37.14    -37.14      0.00      S(Cc1cc(C(O)=O)ccc1OCC(C)C)c1c(Cl)cc(CCC(=O)O)cn1\n",
      "-27.96    -27.97     36.81      0.51      C1CC2(CN(c3ncccn3)C1)CN(C(=O)c1ccn(C)n1)CCOC2\n",
      "-29.18    -29.31    -29.31      0.00      c1cc(C(C)C(NN(c2c(Br)cnc(C#N)n2)CCO)=O)ccc1F\n",
      "-22.77    -22.51    -22.51      0.00      c12c(cccc1)C(=O)NC(CC(=O)OC)C(=O)N2\n",
      "-24.57    -24.54    -24.54      0.00      O=C(COc1ccc(C)cc1)NN=Cc1cc(OCC)c(OCC)c(OCC)c1\n",
      "-27.61    -27.56    -27.56      0.00      O=C(O)C(C)(C)SC(=O)c1c(C)cc(C)cc1C\n",
      "DRD2_pred_activity   HB-donors (Lipinski)   Number of rotatable bonds   Custom_alerts   raw_DRD2_pred_activity   raw_HB-donors (Lipinski)   raw_Number of rotatable bonds\n",
      "0.37167033553123474   1.0   1.0   1.0   0.37167033553123474   0.0   3.0   \n",
      "0.3144831657409668   1.0   0.0   1.0   0.3144831657409668   0.0   10.0   \n",
      "0.34397760033607483   1.0   1.0   0.0   0.34397760033607483   2.0   5.0   \n",
      "0.4004530608654022   1.0   1.0   1.0   0.4004530608654022   1.0   5.0   \n",
      "0.33369380235671997   1.0   0.0   0.0   0.33369380235671997   2.0   10.0   \n",
      "0.36500605940818787   1.0   1.0   1.0   0.36500605940818787   0.0   2.0   \n",
      "0.3557646572589874   1.0   1.0   0.0   0.3557646572589874   2.0   6.0   \n",
      "0.3658866286277771   1.0   1.0   0.0   0.3658866286277771   2.0   2.0   \n",
      "0.3908761739730835   1.0   0.0   0.0   0.3908761739730835   1.0   11.0   \n",
      "0.3545420169830322   1.0   1.0   0.0   0.3545420169830322   1.0   3.0   \n",
      "\n",
      "14:47:26: local_reinforcement_logger.timestep_report +41: INFO     \n",
      " Step 8   Fraction valid SMILES: 97.7   Score: 0.3669   Time elapsed: 29   Time left: 6.4\n",
      "  Agent     Prior     Target     Score     SMILES\n",
      "-26.75    -26.80     36.64      0.50      c1cc(NC(NCc2cc(Br)cs2)=O)c(C(=O)N)cc1\n",
      "-26.37    -26.49     37.88      0.50      c1c(C(=O)N=c2[nH]c(-c3ccc(C)o3)c(-c3occc3)s2)cc(OC)c(OC)c1OC\n",
      "-22.97    -23.05    -23.05      0.00      c1(F)ccc(N=c2[nH]n(C3(CC#N)CN(C(OCCc4ccccc4)=O)C3)cc2C(N)=O)cc1\n",
      "-30.88    -31.08     27.19      0.46      c1ccc2c(c1)N(Cc1sc3c(-c4cc(OC)c(OC)cc4)nc(C)cc3c1)C(=O)C2(C)C\n",
      "-27.55    -27.39    -27.39      0.00      c1cc2c(cc1OCCCN1CCC(N(C)C)CC1)CCN(C(OC)=O)C2\n",
      "-40.76    -41.15     18.54      0.47      c1[nH]c(C2CC2)nc1-c1c(Oc2cc[nH]c(=NCCCCCC)c2)nccc1\n",
      "-25.56    -25.37     18.22      0.34      N(C(=O)CN1CCN(CC=Cc2ccccc2)CC1)(CC(C)C)c1c(=O)[nH]c(=O)n(CCCC)c1N\n",
      "-26.51    -26.36     33.43      0.47      c1(NCc2cc3c(cc2)C(=O)Nc2ccccc2N3)c(C)cccc1C\n",
      "-29.87    -29.64    -29.64      0.00      c1cc2c(cc1)C(COC(=O)NCCCCCCCCCNC(=O)C1(C(=N)N)CC1)CC2\n",
      "-23.74    -23.80    -23.80      0.00      O=C(c1ccc(NCCCC(C)=O)cc1)O\n",
      "DRD2_pred_activity   HB-donors (Lipinski)   Number of rotatable bonds   Custom_alerts   raw_DRD2_pred_activity   raw_HB-donors (Lipinski)   raw_Number of rotatable bonds\n",
      "0.3515358865261078   1.0   1.0   1.0   0.3515358865261078   3.0   4.0   \n",
      "0.3608171343803406   1.0   1.0   1.0   0.3608171343803406   1.0   6.0   \n",
      "0.3492850363254547   1.0   1.0   0.0   0.3492850363254547   2.0   7.0   \n",
      "0.29958397150039673   1.0   1.0   1.0   0.29958397150039673   0.0   5.0   \n",
      "0.38009220361709595   1.0   1.0   0.0   0.38009220361709595   0.0   6.0   \n",
      "0.3138590455055237   1.0   1.0   1.0   0.3138590455055237   2.0   9.0   \n",
      "0.2949844300746918   1.0   0.0   1.0   0.2949844300746918   2.0   11.0   \n",
      "0.31483498215675354   1.0   1.0   1.0   0.31483498215675354   3.0   3.0   \n",
      "0.30389681458473206   1.0   0.0   0.0   0.30389681458473206   4.0   14.0   \n",
      "0.3585958778858185   1.0   1.0   0.0   0.3585958778858185   2.0   6.0   \n",
      "\n",
      "14:47:32: local_reinforcement_logger.timestep_report +41: INFO     \n",
      " Step 9   Fraction valid SMILES: 100.0   Score: 0.3913   Time elapsed: 34   Time left: 3.4\n",
      "  Agent     Prior     Target     Score     SMILES\n",
      "-41.49    -41.54    -41.54      0.00      c1(C(c2c(=O)n(C)c(=O)n(C)c2O)C(C(=O)Nc2ccc(Cl)cc2)C(C(NC(=O)OCc2ccccc2)c2ccccc2)=O)c(=O)[nH]c2c(n1)ccc([N+](=O)[O-])c2\n",
      "-33.55    -33.69    -33.69      0.00      C1C2CC(C1)C1=NC(C(=O)OCC)SC1N2C\n",
      "-25.06    -25.10     41.92      0.52      c1c(F)c(OC)ccc1C(C1CCCN(C(c2cccs2)=O)C1)=O\n",
      "-33.18    -32.83     34.43      0.53      C1CC(NC(=O)c2c3c(cc(Br)c2)cccn3)CN(Cc2ccc3ccccc3c2)C1\n",
      "-25.66    -25.99     38.12      0.50      Clc1c(Cl)cccc1S(=O)(N1C2CCC1CC(N)C2)=O\n",
      "-22.90    -23.10     45.14      0.53      c1(-c2cc(C)ccc2)[nH]c(=S)[nH]c1-c1ccc(Cl)cc1\n",
      "-28.18    -27.97     24.12      0.41      C(CNC(=O)Nc1ccc(C)cc1)CNCCN=c1cc[nH]c2cc(Cl)ccc12\n",
      "-21.18    -21.41     42.39      0.50      c1c(Cn2cnc3c(-c4ccco4)nc(C)nc23)cccc1\n",
      "-33.82    -33.76     31.06      0.51      c1(O)cc(-c2ccc(OC)c(OC)c2)c(OC)cc1-c1oc2ccc(OC)cc2c(=O)c1O\n",
      "-32.69    -32.89     25.53      0.46      O1CCN(c2c(C)cnc(C3CN(C(=O)NCC)C3)n2)CC1\n",
      "DRD2_pred_activity   HB-donors (Lipinski)   Number of rotatable bonds   Custom_alerts   raw_DRD2_pred_activity   raw_HB-donors (Lipinski)   raw_Number of rotatable bonds\n",
      "0.4155128300189972   1.0   0.0   0.0   0.4155128300189972   4.0   12.0   \n",
      "0.39958706498146057   1.0   1.0   0.0   0.39958706498146057   0.0   2.0   \n",
      "0.3874804377555847   1.0   1.0   1.0   0.3874804377555847   0.0   4.0   \n",
      "0.38993144035339355   1.0   1.0   1.0   0.38993144035339355   1.0   4.0   \n",
      "0.35823771357536316   1.0   1.0   1.0   0.35823771357536316   1.0   2.0   \n",
      "0.39966216683387756   1.0   1.0   1.0   0.39966216683387756   2.0   2.0   \n",
      "0.23750640451908112   1.0   1.0   1.0   0.23750640451908112   4.0   8.0   \n",
      "0.35507792234420776   1.0   1.0   1.0   0.35507792234420776   0.0   3.0   \n",
      "0.36546194553375244   1.0   1.0   1.0   0.36546194553375244   2.0   6.0   \n",
      "0.3010657727718353   1.0   1.0   1.0   0.3010657727718353   1.0   3.0   \n",
      "\n"
     ]
    }
   ],
   "source": [
    "# %%capture captured_err_stream --no-stderr\n",
    "\n",
    "# configuration_JSON_path = f\"{reinvent_dir}/configs/config.json\"\n",
    "print(configuration_JSON_path)\n",
    "print(reinvent_dir)\n",
    "print(reinvent_env)\n",
    "\n",
    "# execute REINVENT from the command-line\n",
    "!{reinvent_env}/bin/python {reinvent_dir}/input.py {configuration_JSON_path}"
   ]
  },
  {
   "cell_type": "code",
   "execution_count": 29,
   "metadata": {},
   "outputs": [
    {
     "name": "stdout",
     "output_type": "stream",
     "text": [
      "Model loaded successfully: RandomForestClassifier(bootstrap=True, class_weight='balanced',\n",
      "                       criterion='gini', max_depth=14, max_features='log2',\n",
      "                       max_leaf_nodes=None, min_impurity_decrease=0.0,\n",
      "                       min_impurity_split=None, min_samples_leaf=1,\n",
      "                       min_samples_split=2, min_weight_fraction_leaf=0.0,\n",
      "                       n_estimators=54, n_jobs=None, oob_score=False,\n",
      "                       random_state=None, verbose=0, warm_start=False)\n"
     ]
    },
    {
     "name": "stderr",
     "output_type": "stream",
     "text": [
      "/home/springnuance/miniconda3/envs/reinvent.v3.2/lib/python3.7/site-packages/sklearn/base.py:306: UserWarning: Trying to unpickle estimator DecisionTreeClassifier from version 0.21.2 when using version 0.21.3. This might lead to breaking code or invalid results. Use at your own risk.\n",
      "  UserWarning)\n",
      "/home/springnuance/miniconda3/envs/reinvent.v3.2/lib/python3.7/site-packages/sklearn/base.py:306: UserWarning: Trying to unpickle estimator RandomForestClassifier from version 0.21.2 when using version 0.21.3. This might lead to breaking code or invalid results. Use at your own risk.\n",
      "  UserWarning)\n"
     ]
    }
   ],
   "source": [
    "import joblib\n",
    "\n",
    "# Load your model file\n",
    "try:\n",
    "    model = joblib.load('/home/springnuance/reinvent-hitl/Reinvent-Community-Binh/notebooks/models/drd2.pkl')\n",
    "    print(\"Model loaded successfully:\", model)\n",
    "except Exception as e:\n",
    "    print(\"Error loading model:\", e)\n"
   ]
  },
  {
   "cell_type": "code",
   "execution_count": 30,
   "metadata": {},
   "outputs": [
    {
     "ename": "NameError",
     "evalue": "name 'captured_err_stream' is not defined",
     "output_type": "error",
     "traceback": [
      "\u001b[0;31m---------------------------------------------------------------------------\u001b[0m",
      "\u001b[0;31mNameError\u001b[0m                                 Traceback (most recent call last)",
      "\u001b[0;32m<ipython-input-30-e47d3d86043c>\u001b[0m in \u001b[0;36m<module>\u001b[0;34m\u001b[0m\n\u001b[1;32m      1\u001b[0m \u001b[0;31m# print the output to a file, just to have it for documentation\u001b[0m\u001b[0;34m\u001b[0m\u001b[0;34m\u001b[0m\u001b[0;34m\u001b[0m\u001b[0m\n\u001b[1;32m      2\u001b[0m \u001b[0;32mwith\u001b[0m \u001b[0mopen\u001b[0m\u001b[0;34m(\u001b[0m\u001b[0mos\u001b[0m\u001b[0;34m.\u001b[0m\u001b[0mpath\u001b[0m\u001b[0;34m.\u001b[0m\u001b[0mjoin\u001b[0m\u001b[0;34m(\u001b[0m\u001b[0moutput_dir\u001b[0m\u001b[0;34m,\u001b[0m \u001b[0;34m\"run.err\"\u001b[0m\u001b[0;34m)\u001b[0m\u001b[0;34m,\u001b[0m \u001b[0;34m'w'\u001b[0m\u001b[0;34m)\u001b[0m \u001b[0;32mas\u001b[0m \u001b[0mfile\u001b[0m\u001b[0;34m:\u001b[0m\u001b[0;34m\u001b[0m\u001b[0;34m\u001b[0m\u001b[0m\n\u001b[0;32m----> 3\u001b[0;31m     \u001b[0mfile\u001b[0m\u001b[0;34m.\u001b[0m\u001b[0mwrite\u001b[0m\u001b[0;34m(\u001b[0m\u001b[0mcaptured_err_stream\u001b[0m\u001b[0;34m.\u001b[0m\u001b[0mstdout\u001b[0m\u001b[0;34m)\u001b[0m\u001b[0;34m\u001b[0m\u001b[0;34m\u001b[0m\u001b[0m\n\u001b[0m\u001b[1;32m      4\u001b[0m \u001b[0;34m\u001b[0m\u001b[0m\n\u001b[1;32m      5\u001b[0m \u001b[0;31m# prepare the output to be parsed\u001b[0m\u001b[0;34m\u001b[0m\u001b[0;34m\u001b[0m\u001b[0;34m\u001b[0m\u001b[0m\n",
      "\u001b[0;31mNameError\u001b[0m: name 'captured_err_stream' is not defined"
     ]
    }
   ],
   "source": [
    "# print the output to a file, just to have it for documentation\n",
    "with open(os.path.join(output_dir, \"run.err\"), 'w') as file:\n",
    "    file.write(captured_err_stream.stdout)\n",
    "\n",
    "# prepare the output to be parsed\n",
    "list_epochs = re.findall(r'INFO.*?local', captured_err_stream.stdout, re.DOTALL)\n",
    "data = [epoch for idx, epoch in enumerate(list_epochs) if idx in [1, 150, 299]]\n",
    "data = [\"\\n\".join(element.splitlines()[:-1]) for element in data]"
   ]
  },
  {
   "cell_type": "markdown",
   "metadata": {},
   "source": [
    "We have started with a *naive* prior as the initialization for the agent. Hopefully, we see that at the end of the reinforcement learning, the agent knows much better how to produce compounds that receive higher scores (based on our scoring function) than in the beginning. The following block will print the output for epochs 1, 150 and 299, respectively. We see that the \"Score\" (which is the average over all compounds) increases from 0.3156, over 0.4395, to 0.4628."
   ]
  },
  {
   "cell_type": "code",
   "execution_count": null,
   "metadata": {},
   "outputs": [
    {
     "ename": "",
     "evalue": "",
     "output_type": "error",
     "traceback": [
      "\u001b[1;31mnotebook controller is DISPOSED. \n",
      "\u001b[1;31mView Jupyter <a href='command:jupyter.viewOutput'>log</a> for further details."
     ]
    }
   ],
   "source": [
    "for element in data:\n",
    "    print(element)"
   ]
  },
  {
   "cell_type": "markdown",
   "metadata": {},
   "source": [
    "## Analyse the results\n",
    "In order to analyze the run in a more intuitive way, we can use `tensorboard`:\n",
    "\n",
    "```\n",
    "# go to the root folder of the output\n",
    "cd <your_path>/REINVENT_RL_demo\n",
    "\n",
    "# make sure, you have activated the proper environment\n",
    "conda activate reinvent.v3.0\n",
    "\n",
    "# start tensorboard\n",
    "tensorboard --logdir progress.log\n",
    "```\n",
    "\n",
    "Then copy the link provided to a browser window, e.g. \"http://workstation.url.com:6006/\". The following figures are exmaple plots - remember, that there is always some randomness involved. In `tensorboard` you can monitor the individual scoring function components."
   ]
  },
  {
   "cell_type": "markdown",
   "metadata": {},
   "source": [
    "The results folder will hold four different files: the agent (pickled), the input JSON (just for reference purposes), the memory (highest scoring compounds in `CSV` format for the last epoch) and the scaffold memory (in `CSV` format, with the scaffolds and epoch numbers). "
   ]
  },
  {
   "cell_type": "code",
   "execution_count": null,
   "metadata": {},
   "outputs": [
    {
     "name": "stdout",
     "output_type": "stream",
     "text": [
      "head: cannot open './REINVENT_complete_use_case_DRD2_demo/results/scaffold_memory.csv' for reading: No such file or directory\n"
     ]
    },
    {
     "ename": "",
     "evalue": "",
     "output_type": "error",
     "traceback": [
      "\u001b[1;31mnotebook controller is DISPOSED. \n",
      "\u001b[1;31mView Jupyter <a href='command:jupyter.viewOutput'>log</a> for further details."
     ]
    }
   ],
   "source": [
    "!head -n 3 {output_dir}/results/scaffold_memory.csv"
   ]
  },
  {
   "cell_type": "markdown",
   "metadata": {},
   "source": [
    "The next step is to gather all the ideas generated by `REINVENT` and decide which ones to move on with (post-processing). It could also be that another run has do be made with a different scoring function, but this is up to the user to decide. Ultimately, we have generated compounds that are predicted to have at least some potency for `DRD2`, which we can report back to our hypothetical chemist for further discussion."
   ]
  }
 ],
 "metadata": {
  "kernelspec": {
   "display_name": "Python 3",
   "language": "python",
   "name": "python3"
  },
  "language_info": {
   "codemirror_mode": {
    "name": "ipython",
    "version": 3
   },
   "file_extension": ".py",
   "mimetype": "text/x-python",
   "name": "python",
   "nbconvert_exporter": "python",
   "pygments_lexer": "ipython3",
   "version": "3.7.7"
  }
 },
 "nbformat": 4,
 "nbformat_minor": 2
}
